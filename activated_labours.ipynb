{
 "cells": [
  {
   "cell_type": "markdown",
   "metadata": {},
   "source": [
    "# Activated Labours: data analysis and time series\n",
    "The purpose of this notebook is to have an initial view of the data contained in the **Rapporti_di_lavoro_attivati**.\n",
    "The objective of this study is to have an initial understanding of eventually founded trends over number of activated labours during the past time.\n",
    "Next steps will be to add more deep analysis about time and some particular features that are present in the dataset. "
   ]
  },
  {
   "cell_type": "code",
   "execution_count": 28,
   "metadata": {},
   "outputs": [],
   "source": [
    "import pandas as pd\n",
    "import numpy as np\n",
    "import matplotlib.pyplot as plt\n",
    "from datetime import datetime\n",
    "import seaborn as sns\n",
    "from statsmodels.graphics.tsaplots import plot_acf, plot_pacf\n",
    "\n",
    "import utils\n",
    "\n",
    "STD_SIZE = (15, 10)\n",
    "MID_SIZE = (25, 20)\n",
    "BIG_SIZE = (30, 30)"
   ]
  },
  {
   "cell_type": "markdown",
   "metadata": {},
   "source": [
    "### Study on dataset **Activated Labours**"
   ]
  },
  {
   "cell_type": "code",
   "execution_count": 29,
   "metadata": {},
   "outputs": [
    {
     "name": "stdout",
     "output_type": "stream",
     "text": [
      "activated_labours.ipynb  Rapporti_di_lavoro_attivati.csv\n",
      "ceased_labours.ipynb\t Rapporti_di_lavoro_cessati.csv\n",
      "__pycache__\t\t utils.py\n"
     ]
    }
   ],
   "source": [
    "!ls"
   ]
  },
  {
   "cell_type": "code",
   "execution_count": 30,
   "metadata": {},
   "outputs": [
    {
     "data": {
      "text/html": [
       "<div>\n",
       "<style scoped>\n",
       "    .dataframe tbody tr th:only-of-type {\n",
       "        vertical-align: middle;\n",
       "    }\n",
       "\n",
       "    .dataframe tbody tr th {\n",
       "        vertical-align: top;\n",
       "    }\n",
       "\n",
       "    .dataframe thead th {\n",
       "        text-align: right;\n",
       "    }\n",
       "</style>\n",
       "<table border=\"1\" class=\"dataframe\">\n",
       "  <thead>\n",
       "    <tr style=\"text-align: right;\">\n",
       "      <th></th>\n",
       "      <th>DATA</th>\n",
       "      <th>GENERE</th>\n",
       "      <th>ETA</th>\n",
       "      <th>SETTOREECONOMICODETTAGLIO</th>\n",
       "      <th>TITOLOSTUDIO</th>\n",
       "      <th>CONTRATTO</th>\n",
       "      <th>MODALITALAVORO</th>\n",
       "      <th>PROVINCIAIMPRESA</th>\n",
       "      <th>ITALIANO</th>\n",
       "    </tr>\n",
       "  </thead>\n",
       "  <tbody>\n",
       "    <tr>\n",
       "      <th>0</th>\n",
       "      <td>09/05/2020</td>\n",
       "      <td>F</td>\n",
       "      <td>60</td>\n",
       "      <td>Attività di famiglie e convivenze come datori ...</td>\n",
       "      <td>NESSUN TITOLO DI STUDIO</td>\n",
       "      <td>LAVORO DOMESTICO</td>\n",
       "      <td>TEMPO PIENO</td>\n",
       "      <td>BERGAMO</td>\n",
       "      <td>UCRAINA</td>\n",
       "    </tr>\n",
       "    <tr>\n",
       "      <th>1</th>\n",
       "      <td>12/07/2019</td>\n",
       "      <td>M</td>\n",
       "      <td>43</td>\n",
       "      <td>Gestioni di funicolari, ski-lift e seggiovie s...</td>\n",
       "      <td>LICENZA MEDIA</td>\n",
       "      <td>LAVORO A TEMPO DETERMINATO</td>\n",
       "      <td>TEMPO PIENO</td>\n",
       "      <td>BERGAMO</td>\n",
       "      <td>ITALIA</td>\n",
       "    </tr>\n",
       "    <tr>\n",
       "      <th>2</th>\n",
       "      <td>05/06/2013</td>\n",
       "      <td>F</td>\n",
       "      <td>20</td>\n",
       "      <td>Fabbricazione di altre apparecchiature elettri...</td>\n",
       "      <td>LICENZA MEDIA</td>\n",
       "      <td>APPRENDISTATO PROFESSIONALIZZANTE O CONTRATTO ...</td>\n",
       "      <td>TEMPO PIENO</td>\n",
       "      <td>BERGAMO</td>\n",
       "      <td>ITALIA</td>\n",
       "    </tr>\n",
       "    <tr>\n",
       "      <th>3</th>\n",
       "      <td>12/03/2010</td>\n",
       "      <td>F</td>\n",
       "      <td>28</td>\n",
       "      <td>Alberghi</td>\n",
       "      <td>DIPLOMA DI ISTRUZIONE SECONDARIA SUPERIORE  CH...</td>\n",
       "      <td>LAVORO INTERMITTENTE A TEMPO DETERMINATO</td>\n",
       "      <td>NON DEFINITO</td>\n",
       "      <td>BERGAMO</td>\n",
       "      <td>ITALIA</td>\n",
       "    </tr>\n",
       "    <tr>\n",
       "      <th>4</th>\n",
       "      <td>06/04/2021</td>\n",
       "      <td>F</td>\n",
       "      <td>49</td>\n",
       "      <td>Rifugi di montagna</td>\n",
       "      <td>LICENZA MEDIA</td>\n",
       "      <td>LAVORO INTERMITTENTE</td>\n",
       "      <td>NON DEFINITO</td>\n",
       "      <td>BERGAMO</td>\n",
       "      <td>ITALIA</td>\n",
       "    </tr>\n",
       "  </tbody>\n",
       "</table>\n",
       "</div>"
      ],
      "text/plain": [
       "         DATA GENERE  ETA                          SETTOREECONOMICODETTAGLIO  \\\n",
       "0  09/05/2020      F   60  Attività di famiglie e convivenze come datori ...   \n",
       "1  12/07/2019      M   43  Gestioni di funicolari, ski-lift e seggiovie s...   \n",
       "2  05/06/2013      F   20  Fabbricazione di altre apparecchiature elettri...   \n",
       "3  12/03/2010      F   28                                           Alberghi   \n",
       "4  06/04/2021      F   49                                 Rifugi di montagna   \n",
       "\n",
       "                                        TITOLOSTUDIO  \\\n",
       "0                            NESSUN TITOLO DI STUDIO   \n",
       "1                                      LICENZA MEDIA   \n",
       "2                                      LICENZA MEDIA   \n",
       "3  DIPLOMA DI ISTRUZIONE SECONDARIA SUPERIORE  CH...   \n",
       "4                                      LICENZA MEDIA   \n",
       "\n",
       "                                           CONTRATTO MODALITALAVORO  \\\n",
       "0                                   LAVORO DOMESTICO    TEMPO PIENO   \n",
       "1                         LAVORO A TEMPO DETERMINATO    TEMPO PIENO   \n",
       "2  APPRENDISTATO PROFESSIONALIZZANTE O CONTRATTO ...    TEMPO PIENO   \n",
       "3           LAVORO INTERMITTENTE A TEMPO DETERMINATO   NON DEFINITO   \n",
       "4                               LAVORO INTERMITTENTE   NON DEFINITO   \n",
       "\n",
       "  PROVINCIAIMPRESA ITALIANO  \n",
       "0          BERGAMO  UCRAINA  \n",
       "1          BERGAMO   ITALIA  \n",
       "2          BERGAMO   ITALIA  \n",
       "3          BERGAMO   ITALIA  \n",
       "4          BERGAMO   ITALIA  "
      ]
     },
     "execution_count": 30,
     "metadata": {},
     "output_type": "execute_result"
    }
   ],
   "source": [
    "activated_labours = pd.read_csv('Rapporti_di_lavoro_attivati.csv')\n",
    "activated_labours.head()"
   ]
  },
  {
   "cell_type": "markdown",
   "metadata": {},
   "source": [
    "### Print of categorical data distributions"
   ]
  },
  {
   "cell_type": "markdown",
   "metadata": {},
   "source": [
    "N.B.: this cell takes about 2 mins to execute"
   ]
  },
  {
   "cell_type": "code",
   "execution_count": null,
   "metadata": {},
   "outputs": [
    {
     "data": {
      "image/png": "[encoded data removed]",
      "text/plain": [
       "<Figure size 1800x1440 with 8 Axes>"
      ]
     },
     "metadata": {
      "needs_background": "light"
     },
     "output_type": "display_data"
    }
   ],
   "source": [
    "categorical_features = [col for col in activated_labours if activated_labours[col].dtype == 'object']\n",
    "\n",
    "fig = plt.figure(figsize=MID_SIZE)\n",
    "for i, category in enumerate(categorical_features):\n",
    "    ax = fig.add_subplot(3, 3, i+1)\n",
    "    plt.bar(x=activated_labours.groupby(category).count().index, height=[counts[0] for counts in activated_labours.groupby(category).count().values])\n",
    "    ax.set_title('Distribution of category: %s' % category)\n",
    "    ax.set_xlabel(category)\n",
    "    ax.set_ylabel('value counts')\n",
    "plt.show()"
   ]
  },
  {
   "cell_type": "code",
   "execution_count": 31,
   "metadata": {},
   "outputs": [
    {
     "data": {
      "text/plain": [
       "9579794"
      ]
     },
     "execution_count": 31,
     "metadata": {},
     "output_type": "execute_result"
    }
   ],
   "source": [
    "len(activated_labours)"
   ]
  },
  {
   "cell_type": "markdown",
   "metadata": {},
   "source": [
    "### Sort records basing on DATA column"
   ]
  },
  {
   "cell_type": "markdown",
   "metadata": {},
   "source": [
    "Convert values into DATA column into datetime objects.\n",
    "This step is mainly required for time series analysis started at the end of the notebook."
   ]
  },
  {
   "cell_type": "code",
   "execution_count": 32,
   "metadata": {},
   "outputs": [],
   "source": [
    "activated_labours['DATA'] = pd.to_datetime(activated_labours['DATA'])"
   ]
  },
  {
   "cell_type": "code",
   "execution_count": 33,
   "metadata": {},
   "outputs": [
    {
     "data": {
      "text/plain": [
       "0   2020-09-05\n",
       "1   2019-12-07\n",
       "2   2013-05-06\n",
       "3   2010-12-03\n",
       "4   2021-06-04\n",
       "Name: DATA, dtype: datetime64[ns]"
      ]
     },
     "execution_count": 33,
     "metadata": {},
     "output_type": "execute_result"
    }
   ],
   "source": [
    "activated_labours['DATA'].head()"
   ]
  },
  {
   "cell_type": "markdown",
   "metadata": {},
   "source": [
    "Sort basing on dates"
   ]
  },
  {
   "cell_type": "code",
   "execution_count": 34,
   "metadata": {},
   "outputs": [
    {
     "name": "stdout",
     "output_type": "stream",
     "text": [
      "Sorted\n"
     ]
    }
   ],
   "source": [
    "activated_labours = activated_labours.sort_values(by='DATA', ascending=True)\n",
    "activated_labours.reset_index(drop=True, inplace=True)\n",
    "min_ok = activated_labours.DATA.min() == activated_labours.DATA[0]\n",
    "max_ok = activated_labours.DATA.max() == activated_labours.DATA[len(activated_labours) - 1]\n",
    "print('Sorted' if min_ok and max_ok else 'Not sorted')"
   ]
  },
  {
   "cell_type": "markdown",
   "metadata": {},
   "source": [
    "## Inspection of null values"
   ]
  },
  {
   "cell_type": "code",
   "execution_count": 35,
   "metadata": {},
   "outputs": [
    {
     "name": "stdout",
     "output_type": "stream",
     "text": [
      "Your selected dataframe has 9 columns.\n",
      "There are 3 columns that have missing values.\n"
     ]
    },
    {
     "data": {
      "text/html": [
       "<div>\n",
       "<style scoped>\n",
       "    .dataframe tbody tr th:only-of-type {\n",
       "        vertical-align: middle;\n",
       "    }\n",
       "\n",
       "    .dataframe tbody tr th {\n",
       "        vertical-align: top;\n",
       "    }\n",
       "\n",
       "    .dataframe thead th {\n",
       "        text-align: right;\n",
       "    }\n",
       "</style>\n",
       "<table border=\"1\" class=\"dataframe\">\n",
       "  <thead>\n",
       "    <tr style=\"text-align: right;\">\n",
       "      <th></th>\n",
       "      <th>Missing Values</th>\n",
       "      <th>% of Total Values</th>\n",
       "    </tr>\n",
       "  </thead>\n",
       "  <tbody>\n",
       "    <tr>\n",
       "      <th>MODALITALAVORO</th>\n",
       "      <td>440779</td>\n",
       "      <td>4.6</td>\n",
       "    </tr>\n",
       "    <tr>\n",
       "      <th>SETTOREECONOMICODETTAGLIO</th>\n",
       "      <td>2888</td>\n",
       "      <td>0.0</td>\n",
       "    </tr>\n",
       "    <tr>\n",
       "      <th>TITOLOSTUDIO</th>\n",
       "      <td>580</td>\n",
       "      <td>0.0</td>\n",
       "    </tr>\n",
       "  </tbody>\n",
       "</table>\n",
       "</div>"
      ],
      "text/plain": [
       "                           Missing Values  % of Total Values\n",
       "MODALITALAVORO                     440779                4.6\n",
       "SETTOREECONOMICODETTAGLIO            2888                0.0\n",
       "TITOLOSTUDIO                          580                0.0"
      ]
     },
     "execution_count": 35,
     "metadata": {},
     "output_type": "execute_result"
    }
   ],
   "source": [
    "utils.missing_values_table(activated_labours)"
   ]
  },
  {
   "cell_type": "markdown",
   "metadata": {},
   "source": [
    "Only three columns contains null values... Let's inspect more deeply how could i remove them."
   ]
  },
  {
   "cell_type": "markdown",
   "metadata": {},
   "source": [
    "### TITOLO DI STUDIO"
   ]
  },
  {
   "cell_type": "code",
   "execution_count": 36,
   "metadata": {},
   "outputs": [
    {
     "data": {
      "text/plain": [
       "TITOLOSTUDIO                                                                                                           \n",
       "NESSUN TITOLO DI STUDIO                                                                                                    2721891\n",
       "LICENZA MEDIA                                                                                                              2523342\n",
       "DIPLOMA DI ISTRUZIONE SECONDARIA SUPERIORE  CHE PERMETTE L'ACCESSO ALL'UNIVERSITA                                          2430781\n",
       "LAUREA - Vecchio o nuovo ordinamento                                                                                        988171\n",
       "TITOLO DI ISTRUZIONE SECONDARIA SUPERIORE (SCOLASTICA ED EXTRA-SCOLASTICA) CHE NON PERMETTE L'ACCESSO ALL'UNIVERSITÀ ()     645228\n",
       "LICENZA ELEMENTARE                                                                                                           82570\n",
       "DIPLOMA UNIVERSITARIO                                                                                                        74488\n",
       "DIPLOMA DI SPECIALIZZAZIONE                                                                                                  57792\n",
       "TITOLO DI DOTTORE DI RICERCA                                                                                                 21102\n",
       "DIPLOMA TERZIARIO EXTRA-UNIVERSITARIO                                                                                        14346\n",
       "MASTER UNIVERSITARIO DI PRIMO LIVELLO                                                                                        11180\n",
       "TITOLO DI STUDIO POST-LAUREA                                                                                                  8323\n",
       "dtype: int64"
      ]
     },
     "execution_count": 36,
     "metadata": {},
     "output_type": "execute_result"
    }
   ],
   "source": [
    "activated_labours.loc[:, ['TITOLOSTUDIO']].value_counts()"
   ]
  },
  {
   "cell_type": "markdown",
   "metadata": {},
   "source": [
    "I'll fill in all the null values in the **TITOLO DI STUDIO** column with the **NESSUN TITOLO DI STUDIO** value"
   ]
  },
  {
   "cell_type": "code",
   "execution_count": 37,
   "metadata": {},
   "outputs": [],
   "source": [
    "activated_labours.TITOLOSTUDIO.fillna('NESSUN TITOLO DI STUDIO', inplace=True)"
   ]
  },
  {
   "cell_type": "code",
   "execution_count": 38,
   "metadata": {},
   "outputs": [
    {
     "name": "stdout",
     "output_type": "stream",
     "text": [
      "Your selected dataframe has 9 columns.\n",
      "There are 2 columns that have missing values.\n"
     ]
    },
    {
     "data": {
      "text/html": [
       "<div>\n",
       "<style scoped>\n",
       "    .dataframe tbody tr th:only-of-type {\n",
       "        vertical-align: middle;\n",
       "    }\n",
       "\n",
       "    .dataframe tbody tr th {\n",
       "        vertical-align: top;\n",
       "    }\n",
       "\n",
       "    .dataframe thead th {\n",
       "        text-align: right;\n",
       "    }\n",
       "</style>\n",
       "<table border=\"1\" class=\"dataframe\">\n",
       "  <thead>\n",
       "    <tr style=\"text-align: right;\">\n",
       "      <th></th>\n",
       "      <th>Missing Values</th>\n",
       "      <th>% of Total Values</th>\n",
       "    </tr>\n",
       "  </thead>\n",
       "  <tbody>\n",
       "    <tr>\n",
       "      <th>MODALITALAVORO</th>\n",
       "      <td>440779</td>\n",
       "      <td>4.6</td>\n",
       "    </tr>\n",
       "    <tr>\n",
       "      <th>SETTOREECONOMICODETTAGLIO</th>\n",
       "      <td>2888</td>\n",
       "      <td>0.0</td>\n",
       "    </tr>\n",
       "  </tbody>\n",
       "</table>\n",
       "</div>"
      ],
      "text/plain": [
       "                           Missing Values  % of Total Values\n",
       "MODALITALAVORO                     440779                4.6\n",
       "SETTOREECONOMICODETTAGLIO            2888                0.0"
      ]
     },
     "execution_count": 38,
     "metadata": {},
     "output_type": "execute_result"
    }
   ],
   "source": [
    "utils.missing_values_table(activated_labours)"
   ]
  },
  {
   "cell_type": "markdown",
   "metadata": {},
   "source": [
    "### SETTORE ECONOMICO DETTAGLIO"
   ]
  },
  {
   "cell_type": "code",
   "execution_count": 39,
   "metadata": {},
   "outputs": [
    {
     "data": {
      "text/plain": [
       "SETTOREECONOMICODETTAGLIO                                                                                                                                                      \n",
       "Alberghi                                                                                                                                                                           467057\n",
       "Ristorazione con somministrazione                                                                                                                                                  445191\n",
       "Attività di produzione cinematografica, di video e di programmi televisivi                                                                                                         379116\n",
       "Attività di famiglie e convivenze come datori di lavoro per personale domestico                                                                                                    348181\n",
       "Altri servizi di supporto alle imprese nca                                                                                                                                         303280\n",
       "                                                                                                                                                                                    ...  \n",
       "Gestione di stazioni per autobus                                                                                                                                                        1\n",
       "Coltivazione di ortaggi (inclusi i meloni) in foglia, a fusto, a frutto, in radici, bulbi e tuberi in colture\\nprotette fuori suolo (escluse barbabietola da zucchero e patate)         1\n",
       "Agenti e rappresentanti di giocattoli                                                                                                                                                   1\n",
       "Coltivazione di fiori in colture protette fuori suolo                                                                                                                                   1\n",
       "Bachicoltura                                                                                                                                                                            1\n",
       "Length: 1224, dtype: int64"
      ]
     },
     "execution_count": 39,
     "metadata": {},
     "output_type": "execute_result"
    }
   ],
   "source": [
    "counts = activated_labours.loc[:, ['SETTOREECONOMICODETTAGLIO']].value_counts()\n",
    "counts"
   ]
  },
  {
   "cell_type": "code",
   "execution_count": 40,
   "metadata": {},
   "outputs": [
    {
     "data": {
      "text/plain": [
       "<BarContainer object of 18 artists>"
      ]
     },
     "execution_count": 40,
     "metadata": {},
     "output_type": "execute_result"
    },
    {
     "data": {
      "image/png": "[encoded data removed]",
      "text/plain": [
       "<Figure size 1080x720 with 1 Axes>"
      ]
     },
     "metadata": {
      "needs_background": "light"
     },
     "output_type": "display_data"
    }
   ],
   "source": [
    "LIMIT = 80000\n",
    "counts = counts[counts.values > LIMIT]\n",
    "plt.figure(figsize=STD_SIZE)\n",
    "plt.barh(y=[i[0] for i in counts.index], width=counts.values)"
   ]
  },
  {
   "cell_type": "markdown",
   "metadata": {},
   "source": [
    "Column **settore economico dettaglio** contains too general information and not enough useful concerning our study. In order to make an understandable plot i would have to avoid considering too many values, so for now i'll drop it."
   ]
  },
  {
   "cell_type": "code",
   "execution_count": 41,
   "metadata": {},
   "outputs": [],
   "source": [
    "activated_labours.drop(labels=['SETTOREECONOMICODETTAGLIO'], axis=1, inplace=True)"
   ]
  },
  {
   "cell_type": "code",
   "execution_count": 42,
   "metadata": {},
   "outputs": [
    {
     "name": "stdout",
     "output_type": "stream",
     "text": [
      "Your selected dataframe has 8 columns.\n",
      "There are 1 columns that have missing values.\n"
     ]
    },
    {
     "data": {
      "text/html": [
       "<div>\n",
       "<style scoped>\n",
       "    .dataframe tbody tr th:only-of-type {\n",
       "        vertical-align: middle;\n",
       "    }\n",
       "\n",
       "    .dataframe tbody tr th {\n",
       "        vertical-align: top;\n",
       "    }\n",
       "\n",
       "    .dataframe thead th {\n",
       "        text-align: right;\n",
       "    }\n",
       "</style>\n",
       "<table border=\"1\" class=\"dataframe\">\n",
       "  <thead>\n",
       "    <tr style=\"text-align: right;\">\n",
       "      <th></th>\n",
       "      <th>Missing Values</th>\n",
       "      <th>% of Total Values</th>\n",
       "    </tr>\n",
       "  </thead>\n",
       "  <tbody>\n",
       "    <tr>\n",
       "      <th>MODALITALAVORO</th>\n",
       "      <td>440779</td>\n",
       "      <td>4.6</td>\n",
       "    </tr>\n",
       "  </tbody>\n",
       "</table>\n",
       "</div>"
      ],
      "text/plain": [
       "                Missing Values  % of Total Values\n",
       "MODALITALAVORO          440779                4.6"
      ]
     },
     "execution_count": 42,
     "metadata": {},
     "output_type": "execute_result"
    }
   ],
   "source": [
    "utils.missing_values_table(activated_labours)"
   ]
  },
  {
   "cell_type": "markdown",
   "metadata": {},
   "source": [
    "### MODALITA LAVORO"
   ]
  },
  {
   "cell_type": "code",
   "execution_count": 43,
   "metadata": {},
   "outputs": [
    {
     "data": {
      "text/plain": [
       "MODALITALAVORO            \n",
       "TEMPO PIENO                   5337940\n",
       "TEMPO PARZIALE ORIZZONTALE    2026056\n",
       "NON DEFINITO                  1087460\n",
       "TEMPO PARZIALE MISTO           445419\n",
       "TEMPO PARZIALE VERTICALE       242140\n",
       "dtype: int64"
      ]
     },
     "execution_count": 43,
     "metadata": {},
     "output_type": "execute_result"
    }
   ],
   "source": [
    "activated_labours.loc[:, ['MODALITALAVORO']].value_counts()"
   ]
  },
  {
   "cell_type": "markdown",
   "metadata": {},
   "source": [
    "Fill null values into **modalità lavoro** with value **NON DEFINITO**"
   ]
  },
  {
   "cell_type": "code",
   "execution_count": 44,
   "metadata": {},
   "outputs": [
    {
     "data": {
      "text/plain": [
       "0"
      ]
     },
     "execution_count": 44,
     "metadata": {},
     "output_type": "execute_result"
    }
   ],
   "source": [
    "activated_labours['MODALITALAVORO'] = activated_labours['MODALITALAVORO'].fillna('NON DEFINITO')\n",
    "activated_labours['MODALITALAVORO'].isnull().sum()"
   ]
  },
  {
   "cell_type": "code",
   "execution_count": 45,
   "metadata": {},
   "outputs": [
    {
     "name": "stdout",
     "output_type": "stream",
     "text": [
      "Your selected dataframe has 8 columns.\n",
      "There are 0 columns that have missing values.\n"
     ]
    },
    {
     "data": {
      "text/html": [
       "<div>\n",
       "<style scoped>\n",
       "    .dataframe tbody tr th:only-of-type {\n",
       "        vertical-align: middle;\n",
       "    }\n",
       "\n",
       "    .dataframe tbody tr th {\n",
       "        vertical-align: top;\n",
       "    }\n",
       "\n",
       "    .dataframe thead th {\n",
       "        text-align: right;\n",
       "    }\n",
       "</style>\n",
       "<table border=\"1\" class=\"dataframe\">\n",
       "  <thead>\n",
       "    <tr style=\"text-align: right;\">\n",
       "      <th></th>\n",
       "      <th>Missing Values</th>\n",
       "      <th>% of Total Values</th>\n",
       "    </tr>\n",
       "  </thead>\n",
       "  <tbody>\n",
       "  </tbody>\n",
       "</table>\n",
       "</div>"
      ],
      "text/plain": [
       "Empty DataFrame\n",
       "Columns: [Missing Values, % of Total Values]\n",
       "Index: []"
      ]
     },
     "execution_count": 45,
     "metadata": {},
     "output_type": "execute_result"
    }
   ],
   "source": [
    "utils.missing_values_table(activated_labours)"
   ]
  },
  {
   "cell_type": "markdown",
   "metadata": {},
   "source": [
    "Now the dataframe contains **0** null values."
   ]
  },
  {
   "cell_type": "markdown",
   "metadata": {},
   "source": [
    "### Rename column **italiano** into **nazionalita**"
   ]
  },
  {
   "cell_type": "code",
   "execution_count": 46,
   "metadata": {},
   "outputs": [],
   "source": [
    "activated_labours.rename({'ITALIANO': 'NAZIONALITA'}, axis=1, inplace=True)"
   ]
  },
  {
   "cell_type": "markdown",
   "metadata": {},
   "source": [
    "# Duplicated records"
   ]
  },
  {
   "cell_type": "code",
   "execution_count": 47,
   "metadata": {},
   "outputs": [
    {
     "data": {
      "text/plain": [
       "2536002"
      ]
     },
     "execution_count": 47,
     "metadata": {},
     "output_type": "execute_result"
    }
   ],
   "source": [
    "activated_labours.duplicated().sum()"
   ]
  },
  {
   "cell_type": "markdown",
   "metadata": {},
   "source": [
    "the presence of duplicated lines is not meaningful because there could be different people with same characteristics having activated a labour in the same day"
   ]
  },
  {
   "cell_type": "markdown",
   "metadata": {},
   "source": [
    "## Descriptive statistics"
   ]
  },
  {
   "cell_type": "markdown",
   "metadata": {},
   "source": [
    "The following function prints some useful measures of variability in order to have a clearer understanding of the **ETA** column, which is the only column that contains numerical values."
   ]
  },
  {
   "cell_type": "code",
   "execution_count": 48,
   "metadata": {},
   "outputs": [
    {
     "name": "stdout",
     "output_type": "stream",
     "text": [
      "Mean on column ETA: 35.301741457070996\n",
      "Median on column ETA: 34.0\n",
      "Mode on column ETA: 0    25\n",
      "Name: ETA, dtype: int64\n",
      "Variance on column ETA: 138.82357821373805\n",
      "Standard deviation on column ETA: 11.78234179667769\n",
      "Mean absolute deviation on column ETA: 9.849852522936677\n",
      "Median absolute deviation on column ETA: 9.768722688608962\n"
     ]
    }
   ],
   "source": [
    "utils.variability_measures(activated_labours, column='ETA')"
   ]
  },
  {
   "cell_type": "markdown",
   "metadata": {},
   "source": [
    "# Time series analysis"
   ]
  },
  {
   "cell_type": "markdown",
   "metadata": {},
   "source": [
    "In this part i will try to find out some patters, autocorrelations and seasonalities"
   ]
  },
  {
   "cell_type": "markdown",
   "metadata": {},
   "source": [
    "Firstly let's set the data column as index"
   ]
  },
  {
   "cell_type": "code",
   "execution_count": 49,
   "metadata": {},
   "outputs": [
    {
     "data": {
      "text/html": [
       "<div>\n",
       "<style scoped>\n",
       "    .dataframe tbody tr th:only-of-type {\n",
       "        vertical-align: middle;\n",
       "    }\n",
       "\n",
       "    .dataframe tbody tr th {\n",
       "        vertical-align: top;\n",
       "    }\n",
       "\n",
       "    .dataframe thead th {\n",
       "        text-align: right;\n",
       "    }\n",
       "</style>\n",
       "<table border=\"1\" class=\"dataframe\">\n",
       "  <thead>\n",
       "    <tr style=\"text-align: right;\">\n",
       "      <th></th>\n",
       "      <th>GENERE</th>\n",
       "      <th>ETA</th>\n",
       "      <th>TITOLOSTUDIO</th>\n",
       "      <th>CONTRATTO</th>\n",
       "      <th>MODALITALAVORO</th>\n",
       "      <th>PROVINCIAIMPRESA</th>\n",
       "      <th>NAZIONALITA</th>\n",
       "    </tr>\n",
       "    <tr>\n",
       "      <th>DATA</th>\n",
       "      <th></th>\n",
       "      <th></th>\n",
       "      <th></th>\n",
       "      <th></th>\n",
       "      <th></th>\n",
       "      <th></th>\n",
       "      <th></th>\n",
       "    </tr>\n",
       "  </thead>\n",
       "  <tbody>\n",
       "    <tr>\n",
       "      <th>1973-02-01</th>\n",
       "      <td>F</td>\n",
       "      <td>20</td>\n",
       "      <td>NESSUN TITOLO DI STUDIO</td>\n",
       "      <td>LAVORO DOMESTICO A TEMPO INDETERMINATO</td>\n",
       "      <td>TEMPO PARZIALE ORIZZONTALE</td>\n",
       "      <td>MILANO</td>\n",
       "      <td>ITALIA</td>\n",
       "    </tr>\n",
       "    <tr>\n",
       "      <th>1974-11-06</th>\n",
       "      <td>F</td>\n",
       "      <td>21</td>\n",
       "      <td>NESSUN TITOLO DI STUDIO</td>\n",
       "      <td>LAVORO DOMESTICO A TEMPO INDETERMINATO</td>\n",
       "      <td>TEMPO PARZIALE ORIZZONTALE</td>\n",
       "      <td>MILANO</td>\n",
       "      <td>ITALIA</td>\n",
       "    </tr>\n",
       "    <tr>\n",
       "      <th>1976-01-10</th>\n",
       "      <td>F</td>\n",
       "      <td>21</td>\n",
       "      <td>NESSUN TITOLO DI STUDIO</td>\n",
       "      <td>LAVORO DOMESTICO A TEMPO INDETERMINATO</td>\n",
       "      <td>TEMPO PARZIALE ORIZZONTALE</td>\n",
       "      <td>BERGAMO</td>\n",
       "      <td>ITALIA</td>\n",
       "    </tr>\n",
       "    <tr>\n",
       "      <th>1978-01-05</th>\n",
       "      <td>M</td>\n",
       "      <td>25</td>\n",
       "      <td>NESSUN TITOLO DI STUDIO</td>\n",
       "      <td>LAVORO DOMESTICO A TEMPO INDETERMINATO</td>\n",
       "      <td>TEMPO PIENO</td>\n",
       "      <td>MILANO</td>\n",
       "      <td>ITALIA</td>\n",
       "    </tr>\n",
       "    <tr>\n",
       "      <th>1978-10-07</th>\n",
       "      <td>M</td>\n",
       "      <td>26</td>\n",
       "      <td>NESSUN TITOLO DI STUDIO</td>\n",
       "      <td>LAVORO DOMESTICO A TEMPO INDETERMINATO</td>\n",
       "      <td>TEMPO PIENO</td>\n",
       "      <td>MILANO</td>\n",
       "      <td>ITALIA</td>\n",
       "    </tr>\n",
       "  </tbody>\n",
       "</table>\n",
       "</div>"
      ],
      "text/plain": [
       "           GENERE  ETA             TITOLOSTUDIO  \\\n",
       "DATA                                              \n",
       "1973-02-01      F   20  NESSUN TITOLO DI STUDIO   \n",
       "1974-11-06      F   21  NESSUN TITOLO DI STUDIO   \n",
       "1976-01-10      F   21  NESSUN TITOLO DI STUDIO   \n",
       "1978-01-05      M   25  NESSUN TITOLO DI STUDIO   \n",
       "1978-10-07      M   26  NESSUN TITOLO DI STUDIO   \n",
       "\n",
       "                                         CONTRATTO  \\\n",
       "DATA                                                 \n",
       "1973-02-01  LAVORO DOMESTICO A TEMPO INDETERMINATO   \n",
       "1974-11-06  LAVORO DOMESTICO A TEMPO INDETERMINATO   \n",
       "1976-01-10  LAVORO DOMESTICO A TEMPO INDETERMINATO   \n",
       "1978-01-05  LAVORO DOMESTICO A TEMPO INDETERMINATO   \n",
       "1978-10-07  LAVORO DOMESTICO A TEMPO INDETERMINATO   \n",
       "\n",
       "                        MODALITALAVORO PROVINCIAIMPRESA NAZIONALITA  \n",
       "DATA                                                                 \n",
       "1973-02-01  TEMPO PARZIALE ORIZZONTALE           MILANO      ITALIA  \n",
       "1974-11-06  TEMPO PARZIALE ORIZZONTALE           MILANO      ITALIA  \n",
       "1976-01-10  TEMPO PARZIALE ORIZZONTALE          BERGAMO      ITALIA  \n",
       "1978-01-05                 TEMPO PIENO           MILANO      ITALIA  \n",
       "1978-10-07                 TEMPO PIENO           MILANO      ITALIA  "
      ]
     },
     "execution_count": 49,
     "metadata": {},
     "output_type": "execute_result"
    }
   ],
   "source": [
    "activated_labours.set_index('DATA', inplace=True)\n",
    "activated_labours.head()"
   ]
  },
  {
   "cell_type": "markdown",
   "metadata": {},
   "source": [
    "Then count the number of records belonging to each month in all the years in the dataset."
   ]
  },
  {
   "cell_type": "code",
   "execution_count": 50,
   "metadata": {},
   "outputs": [
    {
     "data": {
      "text/html": [
       "<div>\n",
       "<style scoped>\n",
       "    .dataframe tbody tr th:only-of-type {\n",
       "        vertical-align: middle;\n",
       "    }\n",
       "\n",
       "    .dataframe tbody tr th {\n",
       "        vertical-align: top;\n",
       "    }\n",
       "\n",
       "    .dataframe thead th {\n",
       "        text-align: right;\n",
       "    }\n",
       "</style>\n",
       "<table border=\"1\" class=\"dataframe\">\n",
       "  <thead>\n",
       "    <tr style=\"text-align: right;\">\n",
       "      <th></th>\n",
       "      <th>GENERE</th>\n",
       "    </tr>\n",
       "    <tr>\n",
       "      <th>DATA</th>\n",
       "      <th></th>\n",
       "    </tr>\n",
       "  </thead>\n",
       "  <tbody>\n",
       "    <tr>\n",
       "      <th>1</th>\n",
       "      <td>758272</td>\n",
       "    </tr>\n",
       "    <tr>\n",
       "      <th>2</th>\n",
       "      <td>774982</td>\n",
       "    </tr>\n",
       "    <tr>\n",
       "      <th>3</th>\n",
       "      <td>727018</td>\n",
       "    </tr>\n",
       "    <tr>\n",
       "      <th>4</th>\n",
       "      <td>716190</td>\n",
       "    </tr>\n",
       "    <tr>\n",
       "      <th>5</th>\n",
       "      <td>716028</td>\n",
       "    </tr>\n",
       "    <tr>\n",
       "      <th>6</th>\n",
       "      <td>781226</td>\n",
       "    </tr>\n",
       "    <tr>\n",
       "      <th>7</th>\n",
       "      <td>805486</td>\n",
       "    </tr>\n",
       "    <tr>\n",
       "      <th>8</th>\n",
       "      <td>684845</td>\n",
       "    </tr>\n",
       "    <tr>\n",
       "      <th>9</th>\n",
       "      <td>1149358</td>\n",
       "    </tr>\n",
       "    <tr>\n",
       "      <th>10</th>\n",
       "      <td>1018892</td>\n",
       "    </tr>\n",
       "    <tr>\n",
       "      <th>11</th>\n",
       "      <td>761637</td>\n",
       "    </tr>\n",
       "    <tr>\n",
       "      <th>12</th>\n",
       "      <td>685860</td>\n",
       "    </tr>\n",
       "  </tbody>\n",
       "</table>\n",
       "</div>"
      ],
      "text/plain": [
       "       GENERE\n",
       "DATA         \n",
       "1      758272\n",
       "2      774982\n",
       "3      727018\n",
       "4      716190\n",
       "5      716028\n",
       "6      781226\n",
       "7      805486\n",
       "8      684845\n",
       "9     1149358\n",
       "10    1018892\n",
       "11     761637\n",
       "12     685860"
      ]
     },
     "execution_count": 50,
     "metadata": {},
     "output_type": "execute_result"
    }
   ],
   "source": [
    "num_monthly = activated_labours.groupby(activated_labours.index.month).count().iloc[:, [0]]\n",
    "num_monthly"
   ]
  },
  {
   "cell_type": "code",
   "execution_count": 51,
   "metadata": {},
   "outputs": [
    {
     "data": {
      "text/plain": [
       "<AxesSubplot:title={'center':'Monthly total number of activated labours'}, xlabel='Month', ylabel='Number of activated labours'>"
      ]
     },
     "execution_count": 51,
     "metadata": {},
     "output_type": "execute_result"
    },
    {
     "data": {
      "image/png": "[encoded data removed]",
      "text/plain": [
       "<Figure size 1080x720 with 1 Axes>"
      ]
     },
     "metadata": {
      "needs_background": "light"
     },
     "output_type": "display_data"
    }
   ],
   "source": [
    "num_monthly.plot(title='Monthly total number of activated labours', \n",
    "                 xlabel='Month', \n",
    "                 ylabel='Number of activated labours', \n",
    "                 kind='bar', \n",
    "                 legend=False, \n",
    "                 figsize=STD_SIZE)"
   ]
  },
  {
   "cell_type": "markdown",
   "metadata": {},
   "source": [
    "It seems that August and December, probably due to vacations, are the months during which there are less activations of labours, while the higher number of activations are achieved during September and October."
   ]
  },
  {
   "cell_type": "code",
   "execution_count": 53,
   "metadata": {},
   "outputs": [
    {
     "data": {
      "image/png": "[encoded data removed]",
      "text/plain": [
       "<Figure size 1080x720 with 1 Axes>"
      ]
     },
     "metadata": {
      "needs_background": "light"
     },
     "output_type": "display_data"
    }
   ],
   "source": [
    "plt.rc('figure', figsize=STD_SIZE)\n",
    "plot_acf(activated_labours.groupby(activated_labours.index.month).count().iloc[:,[0]])\n",
    "plt.xlabel('Day of month')\n",
    "plt.show()"
   ]
  },
  {
   "cell_type": "markdown",
   "metadata": {},
   "source": [
    "Autocorrelation shows if there are correlations between current data and the same data in the past. The trend of the above plot shows that is a lack of autocorrelation between months of the same year. This means that number of activated labours aren't likely to have the same trend during the months of every year."
   ]
  },
  {
   "cell_type": "markdown",
   "metadata": {},
   "source": [
    "...from now on is work in progress"
   ]
  },
  {
   "cell_type": "code",
   "execution_count": null,
   "metadata": {},
   "outputs": [
    {
     "data": {
      "text/html": [
       "<div>\n",
       "<style scoped>\n",
       "    .dataframe tbody tr th:only-of-type {\n",
       "        vertical-align: middle;\n",
       "    }\n",
       "\n",
       "    .dataframe tbody tr th {\n",
       "        vertical-align: top;\n",
       "    }\n",
       "\n",
       "    .dataframe thead tr th {\n",
       "        text-align: left;\n",
       "    }\n",
       "\n",
       "    .dataframe thead tr:last-of-type th {\n",
       "        text-align: right;\n",
       "    }\n",
       "</style>\n",
       "<table border=\"1\" class=\"dataframe\">\n",
       "  <thead>\n",
       "    <tr>\n",
       "      <th></th>\n",
       "      <th colspan=\"21\" halign=\"left\">GENERE</th>\n",
       "    </tr>\n",
       "    <tr>\n",
       "      <th>CONTRATTO</th>\n",
       "      <th>APPRENDISTATO DI ALTA FORMAZIONE E RICERCA</th>\n",
       "      <th>APPRENDISTATO DI ALTA FORMAZIONE E RICERCA PER LAVORATORI IN MOBILITA¿</th>\n",
       "      <th>APPRENDISTATO EX ART.16 L. 196/97</th>\n",
       "      <th>APPRENDISTATO PER L'ACQUISIZIONE DI DIPLOMA O PER PERCORSI DI ALTA FORMAZIONE</th>\n",
       "      <th>APPRENDISTATO PER L'ESPLETAMENTO DEL DIRITTO DOVERE DI ISTRUZIONE FORMAZIONE</th>\n",
       "      <th>APPRENDISTATO PER LA QUALIFICA E PER IL DIPLOMA PROFESSIONALE, IL DIPLOMA DI ISTRUZIONE SECONDARIA SUPERIORE E IL CERTIFICATO DI SPECIALIZZAZIONE TECNICA SUPERIORE</th>\n",
       "      <th>APPRENDISTATO PER LA QUALIFICA PROFESSIONALE E PER IL DIPLOMA PROFESSIONALE PER LAVORATORI IN MOBILITA¿</th>\n",
       "      <th>APPRENDISTATO PROFESSIONALIZZANTE</th>\n",
       "      <th>APPRENDISTATO PROFESSIONALIZZANTE O CONTRATTO DI MESTIERE</th>\n",
       "      <th>APPRENDISTATO PROFESSIONALIZZANTE O CONTRATTO DI MESTIERE PER LAVORATORI IN MOBILITA¿</th>\n",
       "      <th>...</th>\n",
       "      <th>LAVORO NELLO SPETTACOLO A TEMPO INDETERMINATO</th>\n",
       "      <th>LAVORO O ATTIVITÀ SOCIALMENTE UTILE (LSU - ASU)</th>\n",
       "      <th>LAVORO OCCASIONALE</th>\n",
       "      <th>LAVORO RIPARTITO</th>\n",
       "      <th>LAVORO RIPARTITO A TEMPO DETERMINATO</th>\n",
       "      <th>LAVORO RIPARTITO A TEMPO INDETERMINATO</th>\n",
       "      <th>Lavoro a tempo determinato con piattaforma</th>\n",
       "      <th>Lavoro a tempo determinato per sostituzione con piattaforma</th>\n",
       "      <th>Lavoro a tempo indeterminato con piattaforma</th>\n",
       "      <th>TIROCINIO</th>\n",
       "    </tr>\n",
       "    <tr>\n",
       "      <th>DATA</th>\n",
       "      <th></th>\n",
       "      <th></th>\n",
       "      <th></th>\n",
       "      <th></th>\n",
       "      <th></th>\n",
       "      <th></th>\n",
       "      <th></th>\n",
       "      <th></th>\n",
       "      <th></th>\n",
       "      <th></th>\n",
       "      <th></th>\n",
       "      <th></th>\n",
       "      <th></th>\n",
       "      <th></th>\n",
       "      <th></th>\n",
       "      <th></th>\n",
       "      <th></th>\n",
       "      <th></th>\n",
       "      <th></th>\n",
       "      <th></th>\n",
       "      <th></th>\n",
       "    </tr>\n",
       "  </thead>\n",
       "  <tbody>\n",
       "    <tr>\n",
       "      <th>1</th>\n",
       "      <td>83.0</td>\n",
       "      <td>NaN</td>\n",
       "      <td>455.0</td>\n",
       "      <td>12.0</td>\n",
       "      <td>29.0</td>\n",
       "      <td>290.0</td>\n",
       "      <td>NaN</td>\n",
       "      <td>3364.0</td>\n",
       "      <td>14218.0</td>\n",
       "      <td>6.0</td>\n",
       "      <td>...</td>\n",
       "      <td>82.0</td>\n",
       "      <td>1153.0</td>\n",
       "      <td>7183.0</td>\n",
       "      <td>7.0</td>\n",
       "      <td>515.0</td>\n",
       "      <td>11.0</td>\n",
       "      <td>NaN</td>\n",
       "      <td>NaN</td>\n",
       "      <td>1.0</td>\n",
       "      <td>19282.0</td>\n",
       "    </tr>\n",
       "    <tr>\n",
       "      <th>2</th>\n",
       "      <td>72.0</td>\n",
       "      <td>NaN</td>\n",
       "      <td>700.0</td>\n",
       "      <td>15.0</td>\n",
       "      <td>44.0</td>\n",
       "      <td>373.0</td>\n",
       "      <td>NaN</td>\n",
       "      <td>4118.0</td>\n",
       "      <td>13518.0</td>\n",
       "      <td>NaN</td>\n",
       "      <td>...</td>\n",
       "      <td>78.0</td>\n",
       "      <td>1545.0</td>\n",
       "      <td>7811.0</td>\n",
       "      <td>5.0</td>\n",
       "      <td>400.0</td>\n",
       "      <td>19.0</td>\n",
       "      <td>7.0</td>\n",
       "      <td>4.0</td>\n",
       "      <td>6.0</td>\n",
       "      <td>24715.0</td>\n",
       "    </tr>\n",
       "    <tr>\n",
       "      <th>3</th>\n",
       "      <td>43.0</td>\n",
       "      <td>NaN</td>\n",
       "      <td>634.0</td>\n",
       "      <td>2.0</td>\n",
       "      <td>45.0</td>\n",
       "      <td>275.0</td>\n",
       "      <td>NaN</td>\n",
       "      <td>3974.0</td>\n",
       "      <td>13661.0</td>\n",
       "      <td>NaN</td>\n",
       "      <td>...</td>\n",
       "      <td>93.0</td>\n",
       "      <td>1357.0</td>\n",
       "      <td>10676.0</td>\n",
       "      <td>5.0</td>\n",
       "      <td>594.0</td>\n",
       "      <td>12.0</td>\n",
       "      <td>3.0</td>\n",
       "      <td>13.0</td>\n",
       "      <td>47.0</td>\n",
       "      <td>23415.0</td>\n",
       "    </tr>\n",
       "    <tr>\n",
       "      <th>4</th>\n",
       "      <td>51.0</td>\n",
       "      <td>NaN</td>\n",
       "      <td>577.0</td>\n",
       "      <td>5.0</td>\n",
       "      <td>56.0</td>\n",
       "      <td>219.0</td>\n",
       "      <td>NaN</td>\n",
       "      <td>3494.0</td>\n",
       "      <td>13504.0</td>\n",
       "      <td>NaN</td>\n",
       "      <td>...</td>\n",
       "      <td>61.0</td>\n",
       "      <td>1403.0</td>\n",
       "      <td>9584.0</td>\n",
       "      <td>9.0</td>\n",
       "      <td>444.0</td>\n",
       "      <td>8.0</td>\n",
       "      <td>1.0</td>\n",
       "      <td>3.0</td>\n",
       "      <td>261.0</td>\n",
       "      <td>22299.0</td>\n",
       "    </tr>\n",
       "    <tr>\n",
       "      <th>5</th>\n",
       "      <td>56.0</td>\n",
       "      <td>NaN</td>\n",
       "      <td>473.0</td>\n",
       "      <td>1.0</td>\n",
       "      <td>30.0</td>\n",
       "      <td>208.0</td>\n",
       "      <td>NaN</td>\n",
       "      <td>2310.0</td>\n",
       "      <td>14033.0</td>\n",
       "      <td>3.0</td>\n",
       "      <td>...</td>\n",
       "      <td>62.0</td>\n",
       "      <td>1333.0</td>\n",
       "      <td>10526.0</td>\n",
       "      <td>5.0</td>\n",
       "      <td>264.0</td>\n",
       "      <td>7.0</td>\n",
       "      <td>6.0</td>\n",
       "      <td>13.0</td>\n",
       "      <td>1160.0</td>\n",
       "      <td>21407.0</td>\n",
       "    </tr>\n",
       "    <tr>\n",
       "      <th>6</th>\n",
       "      <td>55.0</td>\n",
       "      <td>1.0</td>\n",
       "      <td>976.0</td>\n",
       "      <td>7.0</td>\n",
       "      <td>92.0</td>\n",
       "      <td>379.0</td>\n",
       "      <td>1.0</td>\n",
       "      <td>3004.0</td>\n",
       "      <td>15302.0</td>\n",
       "      <td>3.0</td>\n",
       "      <td>...</td>\n",
       "      <td>72.0</td>\n",
       "      <td>1245.0</td>\n",
       "      <td>8944.0</td>\n",
       "      <td>11.0</td>\n",
       "      <td>114.0</td>\n",
       "      <td>10.0</td>\n",
       "      <td>14.0</td>\n",
       "      <td>19.0</td>\n",
       "      <td>726.0</td>\n",
       "      <td>26256.0</td>\n",
       "    </tr>\n",
       "    <tr>\n",
       "      <th>7</th>\n",
       "      <td>27.0</td>\n",
       "      <td>NaN</td>\n",
       "      <td>1265.0</td>\n",
       "      <td>4.0</td>\n",
       "      <td>134.0</td>\n",
       "      <td>870.0</td>\n",
       "      <td>1.0</td>\n",
       "      <td>3668.0</td>\n",
       "      <td>16194.0</td>\n",
       "      <td>2.0</td>\n",
       "      <td>...</td>\n",
       "      <td>59.0</td>\n",
       "      <td>1038.0</td>\n",
       "      <td>8072.0</td>\n",
       "      <td>12.0</td>\n",
       "      <td>253.0</td>\n",
       "      <td>13.0</td>\n",
       "      <td>24.0</td>\n",
       "      <td>3.0</td>\n",
       "      <td>158.0</td>\n",
       "      <td>26617.0</td>\n",
       "    </tr>\n",
       "    <tr>\n",
       "      <th>8</th>\n",
       "      <td>31.0</td>\n",
       "      <td>NaN</td>\n",
       "      <td>425.0</td>\n",
       "      <td>4.0</td>\n",
       "      <td>30.0</td>\n",
       "      <td>302.0</td>\n",
       "      <td>NaN</td>\n",
       "      <td>2006.0</td>\n",
       "      <td>10734.0</td>\n",
       "      <td>2.0</td>\n",
       "      <td>...</td>\n",
       "      <td>84.0</td>\n",
       "      <td>804.0</td>\n",
       "      <td>4351.0</td>\n",
       "      <td>4.0</td>\n",
       "      <td>395.0</td>\n",
       "      <td>7.0</td>\n",
       "      <td>4.0</td>\n",
       "      <td>NaN</td>\n",
       "      <td>242.0</td>\n",
       "      <td>11431.0</td>\n",
       "    </tr>\n",
       "    <tr>\n",
       "      <th>9</th>\n",
       "      <td>72.0</td>\n",
       "      <td>NaN</td>\n",
       "      <td>1137.0</td>\n",
       "      <td>17.0</td>\n",
       "      <td>70.0</td>\n",
       "      <td>1593.0</td>\n",
       "      <td>NaN</td>\n",
       "      <td>4640.0</td>\n",
       "      <td>20094.0</td>\n",
       "      <td>3.0</td>\n",
       "      <td>...</td>\n",
       "      <td>123.0</td>\n",
       "      <td>1795.0</td>\n",
       "      <td>14482.0</td>\n",
       "      <td>9.0</td>\n",
       "      <td>332.0</td>\n",
       "      <td>18.0</td>\n",
       "      <td>20.0</td>\n",
       "      <td>1.0</td>\n",
       "      <td>341.0</td>\n",
       "      <td>25741.0</td>\n",
       "    </tr>\n",
       "    <tr>\n",
       "      <th>10</th>\n",
       "      <td>72.0</td>\n",
       "      <td>NaN</td>\n",
       "      <td>979.0</td>\n",
       "      <td>7.0</td>\n",
       "      <td>76.0</td>\n",
       "      <td>1469.0</td>\n",
       "      <td>1.0</td>\n",
       "      <td>4883.0</td>\n",
       "      <td>18551.0</td>\n",
       "      <td>NaN</td>\n",
       "      <td>...</td>\n",
       "      <td>115.0</td>\n",
       "      <td>1745.0</td>\n",
       "      <td>14836.0</td>\n",
       "      <td>13.0</td>\n",
       "      <td>419.0</td>\n",
       "      <td>13.0</td>\n",
       "      <td>21.0</td>\n",
       "      <td>7.0</td>\n",
       "      <td>99.0</td>\n",
       "      <td>29894.0</td>\n",
       "    </tr>\n",
       "    <tr>\n",
       "      <th>11</th>\n",
       "      <td>40.0</td>\n",
       "      <td>NaN</td>\n",
       "      <td>746.0</td>\n",
       "      <td>3.0</td>\n",
       "      <td>49.0</td>\n",
       "      <td>554.0</td>\n",
       "      <td>NaN</td>\n",
       "      <td>3948.0</td>\n",
       "      <td>12229.0</td>\n",
       "      <td>2.0</td>\n",
       "      <td>...</td>\n",
       "      <td>73.0</td>\n",
       "      <td>1300.0</td>\n",
       "      <td>12315.0</td>\n",
       "      <td>6.0</td>\n",
       "      <td>241.0</td>\n",
       "      <td>12.0</td>\n",
       "      <td>1.0</td>\n",
       "      <td>2.0</td>\n",
       "      <td>2.0</td>\n",
       "      <td>23073.0</td>\n",
       "    </tr>\n",
       "    <tr>\n",
       "      <th>12</th>\n",
       "      <td>68.0</td>\n",
       "      <td>NaN</td>\n",
       "      <td>398.0</td>\n",
       "      <td>4.0</td>\n",
       "      <td>31.0</td>\n",
       "      <td>390.0</td>\n",
       "      <td>NaN</td>\n",
       "      <td>2428.0</td>\n",
       "      <td>10641.0</td>\n",
       "      <td>NaN</td>\n",
       "      <td>...</td>\n",
       "      <td>73.0</td>\n",
       "      <td>1017.0</td>\n",
       "      <td>10982.0</td>\n",
       "      <td>2.0</td>\n",
       "      <td>193.0</td>\n",
       "      <td>8.0</td>\n",
       "      <td>1.0</td>\n",
       "      <td>1.0</td>\n",
       "      <td>NaN</td>\n",
       "      <td>18369.0</td>\n",
       "    </tr>\n",
       "  </tbody>\n",
       "</table>\n",
       "<p>12 rows × 54 columns</p>\n",
       "</div>"
      ],
      "text/plain": [
       "                                              GENERE  \\\n",
       "CONTRATTO APPRENDISTATO DI ALTA FORMAZIONE E RICERCA   \n",
       "DATA                                                   \n",
       "1                                               83.0   \n",
       "2                                               72.0   \n",
       "3                                               43.0   \n",
       "4                                               51.0   \n",
       "5                                               56.0   \n",
       "6                                               55.0   \n",
       "7                                               27.0   \n",
       "8                                               31.0   \n",
       "9                                               72.0   \n",
       "10                                              72.0   \n",
       "11                                              40.0   \n",
       "12                                              68.0   \n",
       "\n",
       "                                                                                  \\\n",
       "CONTRATTO APPRENDISTATO DI ALTA FORMAZIONE E RICERCA PER LAVORATORI IN MOBILITA¿   \n",
       "DATA                                                                               \n",
       "1                                                        NaN                       \n",
       "2                                                        NaN                       \n",
       "3                                                        NaN                       \n",
       "4                                                        NaN                       \n",
       "5                                                        NaN                       \n",
       "6                                                        1.0                       \n",
       "7                                                        NaN                       \n",
       "8                                                        NaN                       \n",
       "9                                                        NaN                       \n",
       "10                                                       NaN                       \n",
       "11                                                       NaN                       \n",
       "12                                                       NaN                       \n",
       "\n",
       "                                             \\\n",
       "CONTRATTO APPRENDISTATO EX ART.16 L. 196/97   \n",
       "DATA                                          \n",
       "1                                     455.0   \n",
       "2                                     700.0   \n",
       "3                                     634.0   \n",
       "4                                     577.0   \n",
       "5                                     473.0   \n",
       "6                                     976.0   \n",
       "7                                    1265.0   \n",
       "8                                     425.0   \n",
       "9                                    1137.0   \n",
       "10                                    979.0   \n",
       "11                                    746.0   \n",
       "12                                    398.0   \n",
       "\n",
       "                                                                                         \\\n",
       "CONTRATTO APPRENDISTATO PER L'ACQUISIZIONE DI DIPLOMA O PER PERCORSI DI ALTA FORMAZIONE   \n",
       "DATA                                                                                      \n",
       "1                                                       12.0                              \n",
       "2                                                       15.0                              \n",
       "3                                                        2.0                              \n",
       "4                                                        5.0                              \n",
       "5                                                        1.0                              \n",
       "6                                                        7.0                              \n",
       "7                                                        4.0                              \n",
       "8                                                        4.0                              \n",
       "9                                                       17.0                              \n",
       "10                                                       7.0                              \n",
       "11                                                       3.0                              \n",
       "12                                                       4.0                              \n",
       "\n",
       "                                                                                        \\\n",
       "CONTRATTO APPRENDISTATO PER L'ESPLETAMENTO DEL DIRITTO DOVERE DI ISTRUZIONE FORMAZIONE   \n",
       "DATA                                                                                     \n",
       "1                                                       29.0                             \n",
       "2                                                       44.0                             \n",
       "3                                                       45.0                             \n",
       "4                                                       56.0                             \n",
       "5                                                       30.0                             \n",
       "6                                                       92.0                             \n",
       "7                                                      134.0                             \n",
       "8                                                       30.0                             \n",
       "9                                                       70.0                             \n",
       "10                                                      76.0                             \n",
       "11                                                      49.0                             \n",
       "12                                                      31.0                             \n",
       "\n",
       "                                                                                                                                                                               \\\n",
       "CONTRATTO APPRENDISTATO PER LA QUALIFICA E PER IL DIPLOMA PROFESSIONALE, IL DIPLOMA DI ISTRUZIONE SECONDARIA SUPERIORE E IL CERTIFICATO DI SPECIALIZZAZIONE TECNICA SUPERIORE   \n",
       "DATA                                                                                                                                                                            \n",
       "1                                                      290.0                                                                                                                    \n",
       "2                                                      373.0                                                                                                                    \n",
       "3                                                      275.0                                                                                                                    \n",
       "4                                                      219.0                                                                                                                    \n",
       "5                                                      208.0                                                                                                                    \n",
       "6                                                      379.0                                                                                                                    \n",
       "7                                                      870.0                                                                                                                    \n",
       "8                                                      302.0                                                                                                                    \n",
       "9                                                     1593.0                                                                                                                    \n",
       "10                                                    1469.0                                                                                                                    \n",
       "11                                                     554.0                                                                                                                    \n",
       "12                                                     390.0                                                                                                                    \n",
       "\n",
       "                                                                                                                   \\\n",
       "CONTRATTO APPRENDISTATO PER LA QUALIFICA PROFESSIONALE E PER IL DIPLOMA PROFESSIONALE PER LAVORATORI IN MOBILITA¿   \n",
       "DATA                                                                                                                \n",
       "1                                                        NaN                                                        \n",
       "2                                                        NaN                                                        \n",
       "3                                                        NaN                                                        \n",
       "4                                                        NaN                                                        \n",
       "5                                                        NaN                                                        \n",
       "6                                                        1.0                                                        \n",
       "7                                                        1.0                                                        \n",
       "8                                                        NaN                                                        \n",
       "9                                                        NaN                                                        \n",
       "10                                                       1.0                                                        \n",
       "11                                                       NaN                                                        \n",
       "12                                                       NaN                                                        \n",
       "\n",
       "                                             \\\n",
       "CONTRATTO APPRENDISTATO PROFESSIONALIZZANTE   \n",
       "DATA                                          \n",
       "1                                    3364.0   \n",
       "2                                    4118.0   \n",
       "3                                    3974.0   \n",
       "4                                    3494.0   \n",
       "5                                    2310.0   \n",
       "6                                    3004.0   \n",
       "7                                    3668.0   \n",
       "8                                    2006.0   \n",
       "9                                    4640.0   \n",
       "10                                   4883.0   \n",
       "11                                   3948.0   \n",
       "12                                   2428.0   \n",
       "\n",
       "                                                                     \\\n",
       "CONTRATTO APPRENDISTATO PROFESSIONALIZZANTE O CONTRATTO DI MESTIERE   \n",
       "DATA                                                                  \n",
       "1                                                    14218.0          \n",
       "2                                                    13518.0          \n",
       "3                                                    13661.0          \n",
       "4                                                    13504.0          \n",
       "5                                                    14033.0          \n",
       "6                                                    15302.0          \n",
       "7                                                    16194.0          \n",
       "8                                                    10734.0          \n",
       "9                                                    20094.0          \n",
       "10                                                   18551.0          \n",
       "11                                                   12229.0          \n",
       "12                                                   10641.0          \n",
       "\n",
       "                                                                                                 \\\n",
       "CONTRATTO APPRENDISTATO PROFESSIONALIZZANTE O CONTRATTO DI MESTIERE PER LAVORATORI IN MOBILITA¿   \n",
       "DATA                                                                                              \n",
       "1                                                        6.0                                      \n",
       "2                                                        NaN                                      \n",
       "3                                                        NaN                                      \n",
       "4                                                        NaN                                      \n",
       "5                                                        3.0                                      \n",
       "6                                                        3.0                                      \n",
       "7                                                        2.0                                      \n",
       "8                                                        2.0                                      \n",
       "9                                                        3.0                                      \n",
       "10                                                       NaN                                      \n",
       "11                                                       2.0                                      \n",
       "12                                                       NaN                                      \n",
       "\n",
       "           ...                                                \\\n",
       "CONTRATTO  ... LAVORO NELLO SPETTACOLO A TEMPO INDETERMINATO   \n",
       "DATA       ...                                                 \n",
       "1          ...                                          82.0   \n",
       "2          ...                                          78.0   \n",
       "3          ...                                          93.0   \n",
       "4          ...                                          61.0   \n",
       "5          ...                                          62.0   \n",
       "6          ...                                          72.0   \n",
       "7          ...                                          59.0   \n",
       "8          ...                                          84.0   \n",
       "9          ...                                         123.0   \n",
       "10         ...                                         115.0   \n",
       "11         ...                                          73.0   \n",
       "12         ...                                          73.0   \n",
       "\n",
       "                                                                              \\\n",
       "CONTRATTO LAVORO O ATTIVITÀ SOCIALMENTE UTILE (LSU - ASU) LAVORO OCCASIONALE   \n",
       "DATA                                                                           \n",
       "1                                                  1153.0             7183.0   \n",
       "2                                                  1545.0             7811.0   \n",
       "3                                                  1357.0            10676.0   \n",
       "4                                                  1403.0             9584.0   \n",
       "5                                                  1333.0            10526.0   \n",
       "6                                                  1245.0             8944.0   \n",
       "7                                                  1038.0             8072.0   \n",
       "8                                                   804.0             4351.0   \n",
       "9                                                  1795.0            14482.0   \n",
       "10                                                 1745.0            14836.0   \n",
       "11                                                 1300.0            12315.0   \n",
       "12                                                 1017.0            10982.0   \n",
       "\n",
       "                                                                 \\\n",
       "CONTRATTO LAVORO RIPARTITO LAVORO RIPARTITO A TEMPO DETERMINATO   \n",
       "DATA                                                              \n",
       "1                      7.0                                515.0   \n",
       "2                      5.0                                400.0   \n",
       "3                      5.0                                594.0   \n",
       "4                      9.0                                444.0   \n",
       "5                      5.0                                264.0   \n",
       "6                     11.0                                114.0   \n",
       "7                     12.0                                253.0   \n",
       "8                      4.0                                395.0   \n",
       "9                      9.0                                332.0   \n",
       "10                    13.0                                419.0   \n",
       "11                     6.0                                241.0   \n",
       "12                     2.0                                193.0   \n",
       "\n",
       "                                                  \\\n",
       "CONTRATTO LAVORO RIPARTITO A TEMPO INDETERMINATO   \n",
       "DATA                                               \n",
       "1                                           11.0   \n",
       "2                                           19.0   \n",
       "3                                           12.0   \n",
       "4                                            8.0   \n",
       "5                                            7.0   \n",
       "6                                           10.0   \n",
       "7                                           13.0   \n",
       "8                                            7.0   \n",
       "9                                           18.0   \n",
       "10                                          13.0   \n",
       "11                                          12.0   \n",
       "12                                           8.0   \n",
       "\n",
       "                                                      \\\n",
       "CONTRATTO Lavoro a tempo determinato con piattaforma   \n",
       "DATA                                                   \n",
       "1                                                NaN   \n",
       "2                                                7.0   \n",
       "3                                                3.0   \n",
       "4                                                1.0   \n",
       "5                                                6.0   \n",
       "6                                               14.0   \n",
       "7                                               24.0   \n",
       "8                                                4.0   \n",
       "9                                               20.0   \n",
       "10                                              21.0   \n",
       "11                                               1.0   \n",
       "12                                               1.0   \n",
       "\n",
       "                                                                       \\\n",
       "CONTRATTO Lavoro a tempo determinato per sostituzione con piattaforma   \n",
       "DATA                                                                    \n",
       "1                                                        NaN            \n",
       "2                                                        4.0            \n",
       "3                                                       13.0            \n",
       "4                                                        3.0            \n",
       "5                                                       13.0            \n",
       "6                                                       19.0            \n",
       "7                                                        3.0            \n",
       "8                                                        NaN            \n",
       "9                                                        1.0            \n",
       "10                                                       7.0            \n",
       "11                                                       2.0            \n",
       "12                                                       1.0            \n",
       "\n",
       "                                                                  \n",
       "CONTRATTO Lavoro a tempo indeterminato con piattaforma TIROCINIO  \n",
       "DATA                                                              \n",
       "1                                                  1.0   19282.0  \n",
       "2                                                  6.0   24715.0  \n",
       "3                                                 47.0   23415.0  \n",
       "4                                                261.0   22299.0  \n",
       "5                                               1160.0   21407.0  \n",
       "6                                                726.0   26256.0  \n",
       "7                                                158.0   26617.0  \n",
       "8                                                242.0   11431.0  \n",
       "9                                                341.0   25741.0  \n",
       "10                                                99.0   29894.0  \n",
       "11                                                 2.0   23073.0  \n",
       "12                                                 NaN   18369.0  \n",
       "\n",
       "[12 rows x 54 columns]"
      ]
     },
     "execution_count": 63,
     "metadata": {},
     "output_type": "execute_result"
    }
   ],
   "source": [
    "num_monthly2 = activated_labours.groupby([activated_labours.index.month, 'CONTRATTO']).count().iloc[:,[0]]\n",
    "num_monthly2 = num_monthly2.unstack('CONTRATTO')\n",
    "num_monthly2"
   ]
  }
 ],
 "metadata": {
  "interpreter": {
   "hash": "82bcf3661f098bbc57255d1f768e4b535749c5fa9f3f4a5a1bd4ecfddee23447"
  },
  "kernelspec": {
   "display_name": "Python 3.8.12 ('datasciencefb')",
   "language": "python",
   "name": "python3"
  },
  "language_info": {
   "codemirror_mode": {
    "name": "ipython",
    "version": 3
   },
   "file_extension": ".py",
   "mimetype": "text/x-python",
   "name": "python",
   "nbconvert_exporter": "python",
   "pygments_lexer": "ipython3",
   "version": "3.8.12"
  },
  "orig_nbformat": 4
 },
 "nbformat": 4,
 "nbformat_minor": 2
}
