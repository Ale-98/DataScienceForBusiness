{
 "cells": [
  {
   "cell_type": "code",
   "execution_count": 29,
   "metadata": {},
   "outputs": [],
   "source": [
    "import pandas as pd\n",
    "import numpy as np\n",
    "import matplotlib.pyplot as plt\n",
    "import seaborn as sns"
   ]
  },
  {
   "cell_type": "code",
   "execution_count": 30,
   "metadata": {},
   "outputs": [
    {
     "data": {
      "text/html": [
       "<div>\n",
       "<style scoped>\n",
       "    .dataframe tbody tr th:only-of-type {\n",
       "        vertical-align: middle;\n",
       "    }\n",
       "\n",
       "    .dataframe tbody tr th {\n",
       "        vertical-align: top;\n",
       "    }\n",
       "\n",
       "    .dataframe thead th {\n",
       "        text-align: right;\n",
       "    }\n",
       "</style>\n",
       "<table border=\"1\" class=\"dataframe\">\n",
       "  <thead>\n",
       "    <tr style=\"text-align: right;\">\n",
       "      <th></th>\n",
       "      <th>DATA</th>\n",
       "      <th>GENERE</th>\n",
       "      <th>ETA</th>\n",
       "      <th>SETTOREECONOMICODETTAGLIO</th>\n",
       "      <th>TITOLOSTUDIO</th>\n",
       "      <th>CONTRATTO</th>\n",
       "      <th>MODALITALAVORO</th>\n",
       "      <th>PROVINCIAIMPRESA</th>\n",
       "      <th>ITALIANO</th>\n",
       "    </tr>\n",
       "  </thead>\n",
       "  <tbody>\n",
       "    <tr>\n",
       "      <th>0</th>\n",
       "      <td>10/01/2020</td>\n",
       "      <td>F</td>\n",
       "      <td>48</td>\n",
       "      <td>Rifugi di montagna</td>\n",
       "      <td>LICENZA MEDIA</td>\n",
       "      <td>LAVORO INTERMITTENTE</td>\n",
       "      <td>NON DEFINITO</td>\n",
       "      <td>BERGAMO</td>\n",
       "      <td>ITALIA</td>\n",
       "    </tr>\n",
       "    <tr>\n",
       "      <th>1</th>\n",
       "      <td>01/03/2013</td>\n",
       "      <td>M</td>\n",
       "      <td>56</td>\n",
       "      <td>Gestioni di funicolari, ski-lift e seggiovie s...</td>\n",
       "      <td>LICENZA MEDIA</td>\n",
       "      <td>LAVORO A TEMPO DETERMINATO</td>\n",
       "      <td>TEMPO PIENO</td>\n",
       "      <td>BERGAMO</td>\n",
       "      <td>ITALIA</td>\n",
       "    </tr>\n",
       "    <tr>\n",
       "      <th>2</th>\n",
       "      <td>09/10/2018</td>\n",
       "      <td>M</td>\n",
       "      <td>58</td>\n",
       "      <td>Rifugi di montagna</td>\n",
       "      <td>LICENZA MEDIA</td>\n",
       "      <td>LAVORO A TEMPO DETERMINATO</td>\n",
       "      <td>TEMPO PARZIALE ORIZZONTALE</td>\n",
       "      <td>BERGAMO</td>\n",
       "      <td>ITALIA</td>\n",
       "    </tr>\n",
       "    <tr>\n",
       "      <th>3</th>\n",
       "      <td>10/04/2017</td>\n",
       "      <td>M</td>\n",
       "      <td>41</td>\n",
       "      <td>Realizzazione di coperture</td>\n",
       "      <td>NESSUN TITOLO DI STUDIO</td>\n",
       "      <td>LAVORO A TEMPO DETERMINATO</td>\n",
       "      <td>TEMPO PIENO</td>\n",
       "      <td>BERGAMO</td>\n",
       "      <td>MAROCCO</td>\n",
       "    </tr>\n",
       "    <tr>\n",
       "      <th>4</th>\n",
       "      <td>03/01/2010</td>\n",
       "      <td>M</td>\n",
       "      <td>56</td>\n",
       "      <td>Gestioni di funicolari, ski-lift e seggiovie s...</td>\n",
       "      <td>LICENZA MEDIA</td>\n",
       "      <td>LAVORO A TEMPO DETERMINATO</td>\n",
       "      <td>TEMPO PIENO</td>\n",
       "      <td>BERGAMO</td>\n",
       "      <td>ITALIA</td>\n",
       "    </tr>\n",
       "  </tbody>\n",
       "</table>\n",
       "</div>"
      ],
      "text/plain": [
       "         DATA GENERE  ETA                          SETTOREECONOMICODETTAGLIO  \\\n",
       "0  10/01/2020      F   48                                 Rifugi di montagna   \n",
       "1  01/03/2013      M   56  Gestioni di funicolari, ski-lift e seggiovie s...   \n",
       "2  09/10/2018      M   58                                 Rifugi di montagna   \n",
       "3  10/04/2017      M   41                         Realizzazione di coperture   \n",
       "4  03/01/2010      M   56  Gestioni di funicolari, ski-lift e seggiovie s...   \n",
       "\n",
       "              TITOLOSTUDIO                   CONTRATTO  \\\n",
       "0            LICENZA MEDIA        LAVORO INTERMITTENTE   \n",
       "1            LICENZA MEDIA  LAVORO A TEMPO DETERMINATO   \n",
       "2            LICENZA MEDIA  LAVORO A TEMPO DETERMINATO   \n",
       "3  NESSUN TITOLO DI STUDIO  LAVORO A TEMPO DETERMINATO   \n",
       "4            LICENZA MEDIA  LAVORO A TEMPO DETERMINATO   \n",
       "\n",
       "               MODALITALAVORO PROVINCIAIMPRESA ITALIANO  \n",
       "0                NON DEFINITO          BERGAMO   ITALIA  \n",
       "1                 TEMPO PIENO          BERGAMO   ITALIA  \n",
       "2  TEMPO PARZIALE ORIZZONTALE          BERGAMO   ITALIA  \n",
       "3                 TEMPO PIENO          BERGAMO  MAROCCO  \n",
       "4                 TEMPO PIENO          BERGAMO   ITALIA  "
      ]
     },
     "execution_count": 30,
     "metadata": {},
     "output_type": "execute_result"
    }
   ],
   "source": [
    "prorogated_labours = pd.read_csv('Rapporti_di_lavoro_prorogati.csv')\n",
    "prorogated_labours.head()"
   ]
  },
  {
   "cell_type": "code",
   "execution_count": 31,
   "metadata": {},
   "outputs": [
    {
     "name": "stdout",
     "output_type": "stream",
     "text": [
      "<class 'pandas.core.frame.DataFrame'>\n",
      "RangeIndex: 3413617 entries, 0 to 3413616\n",
      "Data columns (total 9 columns):\n",
      " #   Column                     Dtype \n",
      "---  ------                     ----- \n",
      " 0   DATA                       object\n",
      " 1   GENERE                     object\n",
      " 2   ETA                        int64 \n",
      " 3   SETTOREECONOMICODETTAGLIO  object\n",
      " 4   TITOLOSTUDIO               object\n",
      " 5   CONTRATTO                  object\n",
      " 6   MODALITALAVORO             object\n",
      " 7   PROVINCIAIMPRESA           object\n",
      " 8   ITALIANO                   object\n",
      "dtypes: int64(1), object(8)\n",
      "memory usage: 234.4+ MB\n"
     ]
    }
   ],
   "source": [
    "prorogated_labours.info()"
   ]
  },
  {
   "cell_type": "code",
   "execution_count": 32,
   "metadata": {},
   "outputs": [
    {
     "data": {
      "text/plain": [
       "count    3.413617e+06\n",
       "mean     3.525818e+01\n",
       "std      1.154969e+01\n",
       "min      0.000000e+00\n",
       "25%      2.500000e+01\n",
       "50%      3.400000e+01\n",
       "75%      4.400000e+01\n",
       "max      1.000000e+02\n",
       "Name: ETA, dtype: float64"
      ]
     },
     "execution_count": 32,
     "metadata": {},
     "output_type": "execute_result"
    }
   ],
   "source": [
    "prorogated_labours.ETA.describe()"
   ]
  },
  {
   "cell_type": "code",
   "execution_count": 33,
   "metadata": {},
   "outputs": [
    {
     "data": {
      "text/plain": [
       "24     127987\n",
       "23     127669\n",
       "25     127591\n",
       "22     126249\n",
       "21     125519\n",
       "        ...  \n",
       "93          3\n",
       "96          3\n",
       "90          2\n",
       "95          2\n",
       "100         1\n",
       "Name: ETA, Length: 98, dtype: int64"
      ]
     },
     "execution_count": 33,
     "metadata": {},
     "output_type": "execute_result"
    }
   ],
   "source": [
    "prorogated_labours.ETA.value_counts()"
   ]
  },
  {
   "cell_type": "markdown",
   "metadata": {},
   "source": [
    "Seems there are some really old people working in italy."
   ]
  },
  {
   "cell_type": "markdown",
   "metadata": {},
   "source": [
    "# Data cleaning"
   ]
  },
  {
   "cell_type": "markdown",
   "metadata": {},
   "source": [
    "### Null inspection"
   ]
  },
  {
   "cell_type": "code",
   "execution_count": 34,
   "metadata": {},
   "outputs": [],
   "source": [
    "def get_percent_missing(df):\n",
    "    return df.isnull().sum() * 100 / len(df)"
   ]
  },
  {
   "cell_type": "code",
   "execution_count": 35,
   "metadata": {},
   "outputs": [
    {
     "data": {
      "text/plain": [
       "DATA                         0.000000\n",
       "GENERE                       0.000000\n",
       "ETA                          0.000000\n",
       "SETTOREECONOMICODETTAGLIO    0.067114\n",
       "TITOLOSTUDIO                 0.004687\n",
       "CONTRATTO                    0.000000\n",
       "MODALITALAVORO               0.000000\n",
       "PROVINCIAIMPRESA             0.000000\n",
       "ITALIANO                     0.000000\n",
       "dtype: float64"
      ]
     },
     "execution_count": 35,
     "metadata": {},
     "output_type": "execute_result"
    }
   ],
   "source": [
    "get_percent_missing(prorogated_labours)"
   ]
  },
  {
   "cell_type": "markdown",
   "metadata": {},
   "source": [
    "As we can see the null values are really a minmal part of the dataset, so we can delete them quite safely wihthout risking to lose information"
   ]
  },
  {
   "cell_type": "code",
   "execution_count": 36,
   "metadata": {},
   "outputs": [
    {
     "data": {
      "text/plain": [
       "DATA                         0.0\n",
       "GENERE                       0.0\n",
       "ETA                          0.0\n",
       "SETTOREECONOMICODETTAGLIO    0.0\n",
       "TITOLOSTUDIO                 0.0\n",
       "CONTRATTO                    0.0\n",
       "MODALITALAVORO               0.0\n",
       "PROVINCIAIMPRESA             0.0\n",
       "ITALIANO                     0.0\n",
       "dtype: float64"
      ]
     },
     "execution_count": 36,
     "metadata": {},
     "output_type": "execute_result"
    }
   ],
   "source": [
    "prorogated_labours.dropna(inplace=True)\n",
    "get_percent_missing(prorogated_labours)"
   ]
  },
  {
   "cell_type": "markdown",
   "metadata": {},
   "source": [
    "### Remove outliers:\n",
    "According to Google, in italy the average age for retirement is ~64 years old. How can a job be prorogated over this age?\n",
    "On the other hand, the legal age to start a job is 18 years old, so can we cut data under this age ?."
   ]
  },
  {
   "cell_type": "code",
   "execution_count": 37,
   "metadata": {},
   "outputs": [
    {
     "data": {
      "text/plain": [
       "<AxesSubplot:xlabel='ETA'>"
      ]
     },
     "execution_count": 37,
     "metadata": {},
     "output_type": "execute_result"
    },
    {
     "data": {
      "image/png": "[encoded data removed]",
      "text/plain": [
       "<Figure size 432x288 with 1 Axes>"
      ]
     },
     "metadata": {
      "needs_background": "light"
     },
     "output_type": "display_data"
    }
   ],
   "source": [
    "sns.boxplot(x=prorogated_labours.ETA)"
   ]
  },
  {
   "cell_type": "markdown",
   "metadata": {},
   "source": [
    "Let's inspect also some quantiles"
   ]
  },
  {
   "cell_type": "code",
   "execution_count": 38,
   "metadata": {},
   "outputs": [
    {
     "data": {
      "text/plain": [
       "64.0"
      ]
     },
     "execution_count": 38,
     "metadata": {},
     "output_type": "execute_result"
    }
   ],
   "source": [
    "prorogated_labours.ETA.quantile(q=0.99)"
   ]
  },
  {
   "cell_type": "markdown",
   "metadata": {},
   "source": [
    "The quantiles seems to broadly respect our guessings"
   ]
  },
  {
   "cell_type": "code",
   "execution_count": 39,
   "metadata": {},
   "outputs": [
    {
     "data": {
      "text/plain": [
       "21.0"
      ]
     },
     "execution_count": 39,
     "metadata": {},
     "output_type": "execute_result"
    }
   ],
   "source": [
    "prorogated_labours.ETA.quantile(q=0.1)"
   ]
  },
  {
   "cell_type": "code",
   "execution_count": 40,
   "metadata": {},
   "outputs": [],
   "source": [
    "HIGH = prorogated_labours.ETA.quantile(0.99)\n",
    "LOW = prorogated_labours.ETA.quantile(0.1)"
   ]
  },
  {
   "cell_type": "code",
   "execution_count": 41,
   "metadata": {},
   "outputs": [],
   "source": [
    "prorogated_labours = prorogated_labours[prorogated_labours['ETA'] < HIGH]\n",
    "prorogated_labours = prorogated_labours[prorogated_labours['ETA'] > LOW]"
   ]
  },
  {
   "cell_type": "code",
   "execution_count": 42,
   "metadata": {},
   "outputs": [
    {
     "data": {
      "text/plain": [
       "<AxesSubplot:xlabel='ETA'>"
      ]
     },
     "execution_count": 42,
     "metadata": {},
     "output_type": "execute_result"
    },
    {
     "data": {
      "image/png": "[encoded data removed]",
      "text/plain": [
       "<Figure size 432x288 with 1 Axes>"
      ]
     },
     "metadata": {
      "needs_background": "light"
     },
     "output_type": "display_data"
    }
   ],
   "source": [
    "sns.boxplot(x=prorogated_labours.ETA)"
   ]
  },
  {
   "cell_type": "markdown",
   "metadata": {},
   "source": [
    "Now the box plot seems more reasonable"
   ]
  },
  {
   "cell_type": "markdown",
   "metadata": {},
   "source": [
    "### Inspect the distribution of data"
   ]
  },
  {
   "cell_type": "code",
   "execution_count": 43,
   "metadata": {},
   "outputs": [
    {
     "data": {
      "text/plain": [
       "<AxesSubplot:xlabel='ETA', ylabel='Count'>"
      ]
     },
     "execution_count": 43,
     "metadata": {},
     "output_type": "execute_result"
    },
    {
     "data": {
      "image/png": "[encoded data removed]",
      "text/plain": [
       "<Figure size 432x288 with 1 Axes>"
      ]
     },
     "metadata": {
      "needs_background": "light"
     },
     "output_type": "display_data"
    }
   ],
   "source": [
    "sns.histplot(x=prorogated_labours.ETA, bins=10)"
   ]
  },
  {
   "cell_type": "markdown",
   "metadata": {},
   "source": [
    "skewed right, meaning that the younger you are, the more proability you have to be prorogated"
   ]
  },
  {
   "cell_type": "markdown",
   "metadata": {},
   "source": [
    "## Inspect column 'MODALITALAVORO'"
   ]
  },
  {
   "cell_type": "code",
   "execution_count": 44,
   "metadata": {},
   "outputs": [
    {
     "data": {
      "text/plain": [
       "5"
      ]
     },
     "execution_count": 44,
     "metadata": {},
     "output_type": "execute_result"
    }
   ],
   "source": [
    "prorogated_labours.MODALITALAVORO.nunique()"
   ]
  },
  {
   "cell_type": "code",
   "execution_count": 45,
   "metadata": {},
   "outputs": [
    {
     "data": {
      "image/png": "[encoded data removed]",
      "text/plain": [
       "<Figure size 432x288 with 1 Axes>"
      ]
     },
     "metadata": {
      "needs_background": "light"
     },
     "output_type": "display_data"
    }
   ],
   "source": [
    "prorogated_labours.MODALITALAVORO.value_counts()\n",
    "freq_table = prorogated_labours.MODALITALAVORO.value_counts()\n",
    "xaxis = freq_table.index\n",
    "value = freq_table.values\n",
    "\n",
    "ax = freq_table.plot.bar(x=xaxis, y=value)"
   ]
  },
  {
   "cell_type": "markdown",
   "metadata": {},
   "source": [
    "It seems that people working with full time jobs have their job prorogated with more probability"
   ]
  },
  {
   "cell_type": "markdown",
   "metadata": {},
   "source": [
    "# Sampling\n",
    "Should we sample the dataaset ?"
   ]
  }
 ],
 "metadata": {
  "interpreter": {
   "hash": "b0fa6594d8f4cbf19f97940f81e996739fb7646882a419484c72d19e05852a7e"
  },
  "kernelspec": {
   "display_name": "Python 3.9.10 64-bit",
   "language": "python",
   "name": "python3"
  },
  "language_info": {
   "codemirror_mode": {
    "name": "ipython",
    "version": 3
   },
   "file_extension": ".py",
   "mimetype": "text/x-python",
   "name": "python",
   "nbconvert_exporter": "python",
   "pygments_lexer": "ipython3",
   "version": "3.9.10"
  },
  "orig_nbformat": 4
 },
 "nbformat": 4,
 "nbformat_minor": 2
}
