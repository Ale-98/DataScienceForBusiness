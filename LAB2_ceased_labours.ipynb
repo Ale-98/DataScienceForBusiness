{
 "cells": [
  {
   "cell_type": "code",
   "execution_count": 173,
   "metadata": {},
   "outputs": [
    {
     "name": "stderr",
     "output_type": "stream",
     "text": [
      "Importing plotly failed. Interactive plots will not work.\n"
     ]
    },
    {
     "data": {
      "text/plain": [
       "<module 'utils' from '/Users/andreanonali/Documents/DataScienceForBusiness/utils.py'>"
      ]
     },
     "execution_count": 173,
     "metadata": {},
     "output_type": "execute_result"
    }
   ],
   "source": [
    "from importlib import reload\n",
    "from datetime import datetime\n",
    "import re\n",
    "\n",
    "import pandas as pd\n",
    "import numpy as np\n",
    "import matplotlib.pyplot as plt\n",
    "import seaborn as sns\n",
    "from statsmodels.graphics.tsaplots import plot_acf\n",
    "\n",
    "from fbprophet import Prophet\n",
    "\n",
    "import utils\n",
    "reload(utils)"
   ]
  },
  {
   "cell_type": "code",
   "execution_count": 131,
   "metadata": {},
   "outputs": [
    {
     "data": {
      "text/html": [
       "<div>\n",
       "<style scoped>\n",
       "    .dataframe tbody tr th:only-of-type {\n",
       "        vertical-align: middle;\n",
       "    }\n",
       "\n",
       "    .dataframe tbody tr th {\n",
       "        vertical-align: top;\n",
       "    }\n",
       "\n",
       "    .dataframe thead th {\n",
       "        text-align: right;\n",
       "    }\n",
       "</style>\n",
       "<table border=\"1\" class=\"dataframe\">\n",
       "  <thead>\n",
       "    <tr style=\"text-align: right;\">\n",
       "      <th></th>\n",
       "      <th>DATA</th>\n",
       "      <th>GENERE</th>\n",
       "      <th>ETA</th>\n",
       "      <th>SETTOREECONOMICODETTAGLIO</th>\n",
       "      <th>TITOLOSTUDIO</th>\n",
       "      <th>CONTRATTO</th>\n",
       "      <th>MODALITALAVORO</th>\n",
       "      <th>PROVINCIAIMPRESA</th>\n",
       "      <th>ITALIANO</th>\n",
       "    </tr>\n",
       "  </thead>\n",
       "  <tbody>\n",
       "    <tr>\n",
       "      <th>0</th>\n",
       "      <td>02/04/2019</td>\n",
       "      <td>M</td>\n",
       "      <td>20</td>\n",
       "      <td>Lavori di meccanica generale</td>\n",
       "      <td>DIPLOMA DI ISTRUZIONE SECONDARIA SUPERIORE  CH...</td>\n",
       "      <td>APPRENDISTATO PROFESSIONALIZZANTE O CONTRATTO ...</td>\n",
       "      <td>TEMPO PIENO</td>\n",
       "      <td>BERGAMO</td>\n",
       "      <td>ITALIA</td>\n",
       "    </tr>\n",
       "    <tr>\n",
       "      <th>1</th>\n",
       "      <td>08/06/2018</td>\n",
       "      <td>F</td>\n",
       "      <td>28</td>\n",
       "      <td>Fabbricazione di altre apparecchiature elettri...</td>\n",
       "      <td>DIPLOMA DI ISTRUZIONE SECONDARIA SUPERIORE  CH...</td>\n",
       "      <td>APPRENDISTATO PROFESSIONALIZZANTE O CONTRATTO ...</td>\n",
       "      <td>TEMPO PIENO</td>\n",
       "      <td>BERGAMO</td>\n",
       "      <td>ITALIA</td>\n",
       "    </tr>\n",
       "    <tr>\n",
       "      <th>2</th>\n",
       "      <td>02/02/2016</td>\n",
       "      <td>F</td>\n",
       "      <td>20</td>\n",
       "      <td>Fabbricazione di altre apparecchiature elettri...</td>\n",
       "      <td>DIPLOMA DI ISTRUZIONE SECONDARIA SUPERIORE  CH...</td>\n",
       "      <td>APPRENDISTATO PROFESSIONALIZZANTE O CONTRATTO ...</td>\n",
       "      <td>TEMPO PIENO</td>\n",
       "      <td>BERGAMO</td>\n",
       "      <td>ITALIA</td>\n",
       "    </tr>\n",
       "    <tr>\n",
       "      <th>3</th>\n",
       "      <td>12/01/2015</td>\n",
       "      <td>M</td>\n",
       "      <td>59</td>\n",
       "      <td>Gestioni di funicolari, ski-lift e seggiovie s...</td>\n",
       "      <td>LICENZA MEDIA</td>\n",
       "      <td>LAVORO A TEMPO DETERMINATO</td>\n",
       "      <td>TEMPO PIENO</td>\n",
       "      <td>BERGAMO</td>\n",
       "      <td>ITALIA</td>\n",
       "    </tr>\n",
       "    <tr>\n",
       "      <th>4</th>\n",
       "      <td>09/08/2017</td>\n",
       "      <td>M</td>\n",
       "      <td>61</td>\n",
       "      <td>Gestioni di funicolari, ski-lift e seggiovie s...</td>\n",
       "      <td>LICENZA MEDIA</td>\n",
       "      <td>LAVORO A TEMPO DETERMINATO</td>\n",
       "      <td>TEMPO PIENO</td>\n",
       "      <td>BERGAMO</td>\n",
       "      <td>ITALIA</td>\n",
       "    </tr>\n",
       "  </tbody>\n",
       "</table>\n",
       "</div>"
      ],
      "text/plain": [
       "         DATA GENERE  ETA                          SETTOREECONOMICODETTAGLIO  \\\n",
       "0  02/04/2019      M   20                       Lavori di meccanica generale   \n",
       "1  08/06/2018      F   28  Fabbricazione di altre apparecchiature elettri...   \n",
       "2  02/02/2016      F   20  Fabbricazione di altre apparecchiature elettri...   \n",
       "3  12/01/2015      M   59  Gestioni di funicolari, ski-lift e seggiovie s...   \n",
       "4  09/08/2017      M   61  Gestioni di funicolari, ski-lift e seggiovie s...   \n",
       "\n",
       "                                        TITOLOSTUDIO  \\\n",
       "0  DIPLOMA DI ISTRUZIONE SECONDARIA SUPERIORE  CH...   \n",
       "1  DIPLOMA DI ISTRUZIONE SECONDARIA SUPERIORE  CH...   \n",
       "2  DIPLOMA DI ISTRUZIONE SECONDARIA SUPERIORE  CH...   \n",
       "3                                      LICENZA MEDIA   \n",
       "4                                      LICENZA MEDIA   \n",
       "\n",
       "                                           CONTRATTO MODALITALAVORO  \\\n",
       "0  APPRENDISTATO PROFESSIONALIZZANTE O CONTRATTO ...    TEMPO PIENO   \n",
       "1  APPRENDISTATO PROFESSIONALIZZANTE O CONTRATTO ...    TEMPO PIENO   \n",
       "2  APPRENDISTATO PROFESSIONALIZZANTE O CONTRATTO ...    TEMPO PIENO   \n",
       "3                         LAVORO A TEMPO DETERMINATO    TEMPO PIENO   \n",
       "4                         LAVORO A TEMPO DETERMINATO    TEMPO PIENO   \n",
       "\n",
       "  PROVINCIAIMPRESA ITALIANO  \n",
       "0          BERGAMO   ITALIA  \n",
       "1          BERGAMO   ITALIA  \n",
       "2          BERGAMO   ITALIA  \n",
       "3          BERGAMO   ITALIA  \n",
       "4          BERGAMO   ITALIA  "
      ]
     },
     "execution_count": 131,
     "metadata": {},
     "output_type": "execute_result"
    }
   ],
   "source": [
    "ceased_labours = pd.read_csv('Rapporti_di_lavoro_cessati.csv')\n",
    "ceased_labours.head()"
   ]
  },
  {
   "cell_type": "markdown",
   "metadata": {},
   "source": [
    "# Transformations"
   ]
  },
  {
   "cell_type": "code",
   "execution_count": 132,
   "metadata": {},
   "outputs": [],
   "source": [
    "from sklearn.preprocessing import OneHotEncoder, LabelEncoder\n",
    "one_hot_encoder = OneHotEncoder()\n",
    "label_encoder = LabelEncoder()"
   ]
  },
  {
   "cell_type": "code",
   "execution_count": 133,
   "metadata": {},
   "outputs": [],
   "source": [
    "ceased_transformed = pd.DataFrame()"
   ]
  },
  {
   "cell_type": "markdown",
   "metadata": {},
   "source": [
    "##### GENERE -> dummies"
   ]
  },
  {
   "cell_type": "code",
   "execution_count": 134,
   "metadata": {},
   "outputs": [
    {
     "data": {
      "text/plain": [
       "array([['M'],\n",
       "       ['F'],\n",
       "       ['F'],\n",
       "       ...,\n",
       "       ['M'],\n",
       "       ['M'],\n",
       "       ['M']], dtype=object)"
      ]
     },
     "execution_count": 134,
     "metadata": {},
     "output_type": "execute_result"
    }
   ],
   "source": [
    "df_col = ceased_labours['GENERE'].values.reshape(-1,1)\n",
    "df_col"
   ]
  },
  {
   "cell_type": "code",
   "execution_count": 135,
   "metadata": {},
   "outputs": [],
   "source": [
    "X = one_hot_encoder.fit_transform(df_col).toarray()"
   ]
  },
  {
   "cell_type": "code",
   "execution_count": 136,
   "metadata": {},
   "outputs": [
    {
     "data": {
      "text/html": [
       "<div>\n",
       "<style scoped>\n",
       "    .dataframe tbody tr th:only-of-type {\n",
       "        vertical-align: middle;\n",
       "    }\n",
       "\n",
       "    .dataframe tbody tr th {\n",
       "        vertical-align: top;\n",
       "    }\n",
       "\n",
       "    .dataframe thead th {\n",
       "        text-align: right;\n",
       "    }\n",
       "</style>\n",
       "<table border=\"1\" class=\"dataframe\">\n",
       "  <thead>\n",
       "    <tr style=\"text-align: right;\">\n",
       "      <th></th>\n",
       "      <th>GENERE_F</th>\n",
       "      <th>GENERE_M</th>\n",
       "    </tr>\n",
       "  </thead>\n",
       "  <tbody>\n",
       "    <tr>\n",
       "      <th>0</th>\n",
       "      <td>0.0</td>\n",
       "      <td>1.0</td>\n",
       "    </tr>\n",
       "    <tr>\n",
       "      <th>1</th>\n",
       "      <td>1.0</td>\n",
       "      <td>0.0</td>\n",
       "    </tr>\n",
       "    <tr>\n",
       "      <th>2</th>\n",
       "      <td>1.0</td>\n",
       "      <td>0.0</td>\n",
       "    </tr>\n",
       "    <tr>\n",
       "      <th>3</th>\n",
       "      <td>0.0</td>\n",
       "      <td>1.0</td>\n",
       "    </tr>\n",
       "    <tr>\n",
       "      <th>4</th>\n",
       "      <td>0.0</td>\n",
       "      <td>1.0</td>\n",
       "    </tr>\n",
       "  </tbody>\n",
       "</table>\n",
       "</div>"
      ],
      "text/plain": [
       "   GENERE_F  GENERE_M\n",
       "0       0.0       1.0\n",
       "1       1.0       0.0\n",
       "2       1.0       0.0\n",
       "3       0.0       1.0\n",
       "4       0.0       1.0"
      ]
     },
     "execution_count": 136,
     "metadata": {},
     "output_type": "execute_result"
    }
   ],
   "source": [
    "ceased_transformed = pd.concat(\n",
    "    [ceased_transformed, pd.DataFrame(X, columns=['GENERE_F', 'GENERE_M'])],\n",
    "    axis=1\n",
    ")\n",
    "ceased_transformed.head()"
   ]
  },
  {
   "cell_type": "markdown",
   "metadata": {},
   "source": [
    "##### TITOLO STUDIO -> custom transformation\n",
    "following this ordinal rules [ISTAT document](https://www.istat.it/it/files/2011/01/Classificazione-titoli-studio-28_ott_2005-nota_metodologica.pdf)"
   ]
  },
  {
   "cell_type": "code",
   "execution_count": 137,
   "metadata": {},
   "outputs": [
    {
     "data": {
      "text/plain": [
       "array([\"DIPLOMA DI ISTRUZIONE SECONDARIA SUPERIORE  CHE PERMETTE L'ACCESSO ALL'UNIVERSITA\",\n",
       "       'LICENZA MEDIA',\n",
       "       \"TITOLO DI ISTRUZIONE SECONDARIA SUPERIORE (SCOLASTICA ED EXTRA-SCOLASTICA) CHE NON PERMETTE L'ACCESSO ALL'UNIVERSITÀ ()\",\n",
       "       'LICENZA ELEMENTARE', 'NESSUN TITOLO DI STUDIO',\n",
       "       'LAUREA - Vecchio o nuovo ordinamento', 'DIPLOMA UNIVERSITARIO',\n",
       "       'DIPLOMA DI SPECIALIZZAZIONE', 'TITOLO DI STUDIO POST-LAUREA',\n",
       "       'TITOLO DI DOTTORE DI RICERCA',\n",
       "       'MASTER UNIVERSITARIO DI PRIMO LIVELLO',\n",
       "       'DIPLOMA TERZIARIO EXTRA-UNIVERSITARIO', nan], dtype=object)"
      ]
     },
     "execution_count": 137,
     "metadata": {},
     "output_type": "execute_result"
    }
   ],
   "source": [
    "ceased_labours.TITOLOSTUDIO.unique()"
   ]
  },
  {
   "cell_type": "code",
   "execution_count": 138,
   "metadata": {},
   "outputs": [
    {
     "data": {
      "text/html": [
       "<div>\n",
       "<style scoped>\n",
       "    .dataframe tbody tr th:only-of-type {\n",
       "        vertical-align: middle;\n",
       "    }\n",
       "\n",
       "    .dataframe tbody tr th {\n",
       "        vertical-align: top;\n",
       "    }\n",
       "\n",
       "    .dataframe thead th {\n",
       "        text-align: right;\n",
       "    }\n",
       "</style>\n",
       "<table border=\"1\" class=\"dataframe\">\n",
       "  <thead>\n",
       "    <tr style=\"text-align: right;\">\n",
       "      <th></th>\n",
       "      <th>GENERE_F</th>\n",
       "      <th>GENERE_M</th>\n",
       "      <th>TITOLOSTUDIO</th>\n",
       "    </tr>\n",
       "  </thead>\n",
       "  <tbody>\n",
       "    <tr>\n",
       "      <th>0</th>\n",
       "      <td>0.0</td>\n",
       "      <td>1.0</td>\n",
       "      <td>4.0</td>\n",
       "    </tr>\n",
       "    <tr>\n",
       "      <th>1</th>\n",
       "      <td>1.0</td>\n",
       "      <td>0.0</td>\n",
       "      <td>4.0</td>\n",
       "    </tr>\n",
       "    <tr>\n",
       "      <th>2</th>\n",
       "      <td>1.0</td>\n",
       "      <td>0.0</td>\n",
       "      <td>4.0</td>\n",
       "    </tr>\n",
       "    <tr>\n",
       "      <th>3</th>\n",
       "      <td>0.0</td>\n",
       "      <td>1.0</td>\n",
       "      <td>2.0</td>\n",
       "    </tr>\n",
       "    <tr>\n",
       "      <th>4</th>\n",
       "      <td>0.0</td>\n",
       "      <td>1.0</td>\n",
       "      <td>2.0</td>\n",
       "    </tr>\n",
       "  </tbody>\n",
       "</table>\n",
       "</div>"
      ],
      "text/plain": [
       "   GENERE_F  GENERE_M  TITOLOSTUDIO\n",
       "0       0.0       1.0           4.0\n",
       "1       1.0       0.0           4.0\n",
       "2       1.0       0.0           4.0\n",
       "3       0.0       1.0           2.0\n",
       "4       0.0       1.0           2.0"
      ]
     },
     "execution_count": 138,
     "metadata": {},
     "output_type": "execute_result"
    }
   ],
   "source": [
    "mapper = {\n",
    "    'NESSUN TITOLO DI STUDIO': 0,\n",
    "    'LICENZA ELEMENTARE': 1,\n",
    "    'LICENZA MEDIA': 2,\n",
    "    'TITOLO DI ISTRUZIONE SECONDARIA SUPERIORE (SCOLASTICA ED EXTRA-SCOLASTICA) CHE NON PERMETTE L\\'ACCESSO ALL\\'UNIVERSITÀ ()': 3,\n",
    "    'DIPLOMA DI ISTRUZIONE SECONDARIA SUPERIORE  CHE PERMETTE L\\'ACCESSO ALL\\'UNIVERSITA': 4,\n",
    "    'DIPLOMA TERZIARIO EXTRA-UNIVERSITARIO': 5,\n",
    "    'DIPLOMA UNIVERSITARIO': 6,\n",
    "    'LAUREA - Vecchio o nuovo ordinamento': 7,\n",
    "    'MASTER UNIVERSITARIO DI PRIMO LIVELLO': 8,\n",
    "    'DIPLOMA DI SPECIALIZZAZIONE': 9,\n",
    "    'TITOLO DI DOTTORE DI RICERCA': 10,\n",
    "    'TITOLO DI STUDIO POST-LAUREA': 11\n",
    "}\n",
    "ceased_transformed['TITOLOSTUDIO'] = ceased_labours['TITOLOSTUDIO'].replace(mapper)\n",
    "ceased_transformed.head()"
   ]
  },
  {
   "cell_type": "code",
   "execution_count": 139,
   "metadata": {},
   "outputs": [
    {
     "data": {
      "text/plain": [
       "array([ 4.,  2.,  3.,  1.,  0.,  7.,  6.,  9., 11., 10.,  8.,  5., nan])"
      ]
     },
     "execution_count": 139,
     "metadata": {},
     "output_type": "execute_result"
    }
   ],
   "source": [
    "ceased_transformed.TITOLOSTUDIO.unique()"
   ]
  },
  {
   "cell_type": "markdown",
   "metadata": {},
   "source": [
    "##### TODO: inspect why missing values are introduced"
   ]
  },
  {
   "cell_type": "code",
   "execution_count": 140,
   "metadata": {},
   "outputs": [
    {
     "name": "stdout",
     "output_type": "stream",
     "text": [
      "Your selected dataframe has 3 columns.\n",
      "There are 1 columns that have missing values.\n"
     ]
    },
    {
     "data": {
      "text/html": [
       "<div>\n",
       "<style scoped>\n",
       "    .dataframe tbody tr th:only-of-type {\n",
       "        vertical-align: middle;\n",
       "    }\n",
       "\n",
       "    .dataframe tbody tr th {\n",
       "        vertical-align: top;\n",
       "    }\n",
       "\n",
       "    .dataframe thead th {\n",
       "        text-align: right;\n",
       "    }\n",
       "</style>\n",
       "<table border=\"1\" class=\"dataframe\">\n",
       "  <thead>\n",
       "    <tr style=\"text-align: right;\">\n",
       "      <th></th>\n",
       "      <th>Missing Values</th>\n",
       "      <th>% of Total Values</th>\n",
       "    </tr>\n",
       "  </thead>\n",
       "  <tbody>\n",
       "    <tr>\n",
       "      <th>TITOLOSTUDIO</th>\n",
       "      <td>440</td>\n",
       "      <td>0.0</td>\n",
       "    </tr>\n",
       "  </tbody>\n",
       "</table>\n",
       "</div>"
      ],
      "text/plain": [
       "              Missing Values  % of Total Values\n",
       "TITOLOSTUDIO             440                0.0"
      ]
     },
     "execution_count": 140,
     "metadata": {},
     "output_type": "execute_result"
    }
   ],
   "source": [
    "utils.missing_values_table(ceased_transformed)"
   ]
  },
  {
   "cell_type": "markdown",
   "metadata": {},
   "source": [
    "##### MODALITÀ LAVORO -> LabelEncoder"
   ]
  },
  {
   "cell_type": "code",
   "execution_count": 141,
   "metadata": {},
   "outputs": [
    {
     "data": {
      "text/plain": [
       "array(['TEMPO PIENO', 'NON DEFINITO', 'TEMPO PARZIALE ORIZZONTALE',\n",
       "       'TEMPO PARZIALE VERTICALE', 'TEMPO PARZIALE MISTO'], dtype=object)"
      ]
     },
     "execution_count": 141,
     "metadata": {},
     "output_type": "execute_result"
    }
   ],
   "source": [
    "ceased_labours.MODALITALAVORO.unique()"
   ]
  },
  {
   "cell_type": "code",
   "execution_count": 142,
   "metadata": {},
   "outputs": [
    {
     "data": {
      "text/html": [
       "<div>\n",
       "<style scoped>\n",
       "    .dataframe tbody tr th:only-of-type {\n",
       "        vertical-align: middle;\n",
       "    }\n",
       "\n",
       "    .dataframe tbody tr th {\n",
       "        vertical-align: top;\n",
       "    }\n",
       "\n",
       "    .dataframe thead th {\n",
       "        text-align: right;\n",
       "    }\n",
       "</style>\n",
       "<table border=\"1\" class=\"dataframe\">\n",
       "  <thead>\n",
       "    <tr style=\"text-align: right;\">\n",
       "      <th></th>\n",
       "      <th>GENERE_F</th>\n",
       "      <th>GENERE_M</th>\n",
       "      <th>TITOLOSTUDIO</th>\n",
       "      <th>MODALITALAVORO</th>\n",
       "    </tr>\n",
       "  </thead>\n",
       "  <tbody>\n",
       "    <tr>\n",
       "      <th>0</th>\n",
       "      <td>0.0</td>\n",
       "      <td>1.0</td>\n",
       "      <td>4.0</td>\n",
       "      <td>4</td>\n",
       "    </tr>\n",
       "    <tr>\n",
       "      <th>1</th>\n",
       "      <td>1.0</td>\n",
       "      <td>0.0</td>\n",
       "      <td>4.0</td>\n",
       "      <td>4</td>\n",
       "    </tr>\n",
       "    <tr>\n",
       "      <th>2</th>\n",
       "      <td>1.0</td>\n",
       "      <td>0.0</td>\n",
       "      <td>4.0</td>\n",
       "      <td>4</td>\n",
       "    </tr>\n",
       "    <tr>\n",
       "      <th>3</th>\n",
       "      <td>0.0</td>\n",
       "      <td>1.0</td>\n",
       "      <td>2.0</td>\n",
       "      <td>4</td>\n",
       "    </tr>\n",
       "    <tr>\n",
       "      <th>4</th>\n",
       "      <td>0.0</td>\n",
       "      <td>1.0</td>\n",
       "      <td>2.0</td>\n",
       "      <td>4</td>\n",
       "    </tr>\n",
       "  </tbody>\n",
       "</table>\n",
       "</div>"
      ],
      "text/plain": [
       "   GENERE_F  GENERE_M  TITOLOSTUDIO  MODALITALAVORO\n",
       "0       0.0       1.0           4.0               4\n",
       "1       1.0       0.0           4.0               4\n",
       "2       1.0       0.0           4.0               4\n",
       "3       0.0       1.0           2.0               4\n",
       "4       0.0       1.0           2.0               4"
      ]
     },
     "execution_count": 142,
     "metadata": {},
     "output_type": "execute_result"
    }
   ],
   "source": [
    "ceased_transformed['MODALITALAVORO'] = label_encoder.fit_transform(ceased_labours.MODALITALAVORO)\n",
    "ceased_transformed.head()"
   ]
  },
  {
   "cell_type": "code",
   "execution_count": 143,
   "metadata": {},
   "outputs": [
    {
     "data": {
      "text/plain": [
       "array([4, 0, 2, 3, 1])"
      ]
     },
     "execution_count": 143,
     "metadata": {},
     "output_type": "execute_result"
    }
   ],
   "source": [
    "ceased_transformed.MODALITALAVORO.unique()"
   ]
  },
  {
   "cell_type": "markdown",
   "metadata": {},
   "source": [
    "# Time Analysis"
   ]
  },
  {
   "cell_type": "code",
   "execution_count": 144,
   "metadata": {},
   "outputs": [],
   "source": [
    "timed_labours = ceased_labours.copy()"
   ]
  },
  {
   "cell_type": "markdown",
   "metadata": {},
   "source": [
    "##### Convert 'DATA' column into datetime field"
   ]
  },
  {
   "cell_type": "markdown",
   "metadata": {},
   "source": [
    "Control the format"
   ]
  },
  {
   "cell_type": "code",
   "execution_count": 145,
   "metadata": {},
   "outputs": [
    {
     "name": "stdout",
     "output_type": "stream",
     "text": [
      "All the values in the data columns matches the pattern\n"
     ]
    }
   ],
   "source": [
    "r = re.compile(r'[0-9][0-9]\\/[0-9][0-9]\\/[0-9][0-9][0-9][0-9]')\n",
    "regmatch = np.vectorize(lambda x: bool(r.match(x)))\n",
    "\n",
    "matches = regmatch(timed_labours.DATA.values)\n",
    "if np.count_nonzero(matches) == len(timed_labours.DATA):\n",
    "    print(\"All the values in the data columns matches the pattern\")\n",
    "else:\n",
    "    raise Exception(\"ERROR: not all the values in the data columns matches the pattern\")"
   ]
  },
  {
   "cell_type": "markdown",
   "metadata": {},
   "source": [
    "Convert the data"
   ]
  },
  {
   "cell_type": "code",
   "execution_count": 146,
   "metadata": {},
   "outputs": [],
   "source": [
    "timed_labours.DATA= timed_labours.DATA.apply(\n",
    "    lambda date_str: datetime.strptime(date_str, \"%d/%m/%Y\")\n",
    ")"
   ]
  },
  {
   "cell_type": "code",
   "execution_count": 147,
   "metadata": {},
   "outputs": [
    {
     "data": {
      "text/plain": [
       "0    2019-04-02 00:00:00\n",
       "1    2018-06-08 00:00:00\n",
       "2    2016-02-02 00:00:00\n",
       "3    2015-01-12 00:00:00\n",
       "4    2017-08-09 00:00:00\n",
       "Name: DATA, dtype: object"
      ]
     },
     "execution_count": 147,
     "metadata": {},
     "output_type": "execute_result"
    }
   ],
   "source": [
    "timed_labours.DATA.head()"
   ]
  },
  {
   "cell_type": "code",
   "execution_count": 148,
   "metadata": {},
   "outputs": [
    {
     "data": {
      "text/plain": [
       "DATA                         object\n",
       "GENERE                       object\n",
       "ETA                           int64\n",
       "SETTOREECONOMICODETTAGLIO    object\n",
       "TITOLOSTUDIO                 object\n",
       "CONTRATTO                    object\n",
       "MODALITALAVORO               object\n",
       "PROVINCIAIMPRESA             object\n",
       "ITALIANO                     object\n",
       "dtype: object"
      ]
     },
     "execution_count": 148,
     "metadata": {},
     "output_type": "execute_result"
    }
   ],
   "source": [
    "timed_labours.dtypes"
   ]
  },
  {
   "cell_type": "markdown",
   "metadata": {},
   "source": [
    "Sort by date"
   ]
  },
  {
   "cell_type": "code",
   "execution_count": 149,
   "metadata": {},
   "outputs": [
    {
     "name": "stdout",
     "output_type": "stream",
     "text": [
      "Sorted\n"
     ]
    }
   ],
   "source": [
    "utils.sort_by(timed_labours, 'DATA')"
   ]
  },
  {
   "cell_type": "markdown",
   "metadata": {},
   "source": [
    "Create the month and year columns"
   ]
  },
  {
   "cell_type": "code",
   "execution_count": 150,
   "metadata": {},
   "outputs": [],
   "source": [
    "timed_labours['MONTH'] = timed_labours.DATA.apply(lambda _date: _date.month)"
   ]
  },
  {
   "cell_type": "code",
   "execution_count": 151,
   "metadata": {},
   "outputs": [],
   "source": [
    "timed_labours['YEAR'] = timed_labours.DATA.apply(lambda _date: _date.year)"
   ]
  },
  {
   "cell_type": "markdown",
   "metadata": {},
   "source": [
    "Set the DATA columns as the index"
   ]
  },
  {
   "cell_type": "code",
   "execution_count": 152,
   "metadata": {},
   "outputs": [],
   "source": [
    "timed_labours.set_index('DATA', inplace=True)"
   ]
  },
  {
   "cell_type": "markdown",
   "metadata": {},
   "source": [
    "Distribution of ceased labours in all years by month"
   ]
  },
  {
   "cell_type": "code",
   "execution_count": 155,
   "metadata": {},
   "outputs": [
    {
     "data": {
      "text/html": [
       "<div>\n",
       "<style scoped>\n",
       "    .dataframe tbody tr th:only-of-type {\n",
       "        vertical-align: middle;\n",
       "    }\n",
       "\n",
       "    .dataframe tbody tr th {\n",
       "        vertical-align: top;\n",
       "    }\n",
       "\n",
       "    .dataframe thead th {\n",
       "        text-align: right;\n",
       "    }\n",
       "</style>\n",
       "<table border=\"1\" class=\"dataframe\">\n",
       "  <thead>\n",
       "    <tr style=\"text-align: right;\">\n",
       "      <th></th>\n",
       "      <th>COUNT</th>\n",
       "    </tr>\n",
       "    <tr>\n",
       "      <th>MONTH</th>\n",
       "      <th></th>\n",
       "    </tr>\n",
       "  </thead>\n",
       "  <tbody>\n",
       "    <tr>\n",
       "      <th>1</th>\n",
       "      <td>441157</td>\n",
       "    </tr>\n",
       "    <tr>\n",
       "      <th>2</th>\n",
       "      <td>478865</td>\n",
       "    </tr>\n",
       "    <tr>\n",
       "      <th>3</th>\n",
       "      <td>437763</td>\n",
       "    </tr>\n",
       "    <tr>\n",
       "      <th>4</th>\n",
       "      <td>409512</td>\n",
       "    </tr>\n",
       "    <tr>\n",
       "      <th>5</th>\n",
       "      <td>327649</td>\n",
       "    </tr>\n",
       "    <tr>\n",
       "      <th>6</th>\n",
       "      <td>226276</td>\n",
       "    </tr>\n",
       "    <tr>\n",
       "      <th>7</th>\n",
       "      <td>231928</td>\n",
       "    </tr>\n",
       "    <tr>\n",
       "      <th>8</th>\n",
       "      <td>218792</td>\n",
       "    </tr>\n",
       "    <tr>\n",
       "      <th>9</th>\n",
       "      <td>237503</td>\n",
       "    </tr>\n",
       "    <tr>\n",
       "      <th>10</th>\n",
       "      <td>241105</td>\n",
       "    </tr>\n",
       "    <tr>\n",
       "      <th>11</th>\n",
       "      <td>249001</td>\n",
       "    </tr>\n",
       "    <tr>\n",
       "      <th>12</th>\n",
       "      <td>241843</td>\n",
       "    </tr>\n",
       "  </tbody>\n",
       "</table>\n",
       "</div>"
      ],
      "text/plain": [
       "        COUNT\n",
       "MONTH        \n",
       "1      441157\n",
       "2      478865\n",
       "3      437763\n",
       "4      409512\n",
       "5      327649\n",
       "6      226276\n",
       "7      231928\n",
       "8      218792\n",
       "9      237503\n",
       "10     241105\n",
       "11     249001\n",
       "12     241843"
      ]
     },
     "execution_count": 155,
     "metadata": {},
     "output_type": "execute_result"
    }
   ],
   "source": [
    "monthly_count = timed_labours.groupby(timed_labours.MONTH).count().iloc[:, [0]]\n",
    "monthly_count.rename(columns={'GENERE': 'COUNT'}, inplace=True)\n",
    "monthly_count"
   ]
  },
  {
   "cell_type": "code",
   "execution_count": 156,
   "metadata": {},
   "outputs": [
    {
     "data": {
      "text/plain": [
       "<AxesSubplot:title={'center':'Ceased labours for every month of each year'}, xlabel='months', ylabel='counts'>"
      ]
     },
     "execution_count": 156,
     "metadata": {},
     "output_type": "execute_result"
    },
    {
     "data": {
      "image/png": "[encoded data removed]",
      "text/plain": [
       "<Figure size 1080x576 with 1 Axes>"
      ]
     },
     "metadata": {
      "needs_background": "light"
     },
     "output_type": "display_data"
    }
   ],
   "source": [
    "monthly_count.plot(\n",
    "    title='Ceased labours for every month of each year',\n",
    "    xlabel='months',\n",
    "    ylabel='counts',\n",
    "    kind='bar',\n",
    "    legend=False,\n",
    "    figsize=(15, 8)\n",
    ")"
   ]
  },
  {
   "cell_type": "markdown",
   "metadata": {},
   "source": [
    "##### Analyze the time series"
   ]
  },
  {
   "cell_type": "code",
   "execution_count": 157,
   "metadata": {},
   "outputs": [],
   "source": [
    "timed_labours2 = timed_labours[['GENERE']]"
   ]
  },
  {
   "cell_type": "code",
   "execution_count": 159,
   "metadata": {},
   "outputs": [],
   "source": [
    "timed_labours2.index = pd.to_datetime(timed_labours2.index, errors='coerce')"
   ]
  },
  {
   "cell_type": "code",
   "execution_count": 160,
   "metadata": {},
   "outputs": [],
   "source": [
    "timed_labours2 = timed_labours2.resample('M').count()\n",
    "timed_labours2.rename(columns={'GENERE': 'COUNT'}, inplace=True)"
   ]
  },
  {
   "cell_type": "code",
   "execution_count": 161,
   "metadata": {},
   "outputs": [],
   "source": [
    "# filter data that are too low\n",
    "timed_labours2 = timed_labours2[timed_labours2.COUNT > 5000]"
   ]
  },
  {
   "cell_type": "code",
   "execution_count": 162,
   "metadata": {},
   "outputs": [
    {
     "data": {
      "text/plain": [
       "<AxesSubplot:xlabel='DATA'>"
      ]
     },
     "execution_count": 162,
     "metadata": {},
     "output_type": "execute_result"
    },
    {
     "data": {
      "image/png": "[encoded data removed]",
      "text/plain": [
       "<Figure size 432x288 with 1 Axes>"
      ]
     },
     "metadata": {
      "needs_background": "light"
     },
     "output_type": "display_data"
    }
   ],
   "source": [
    "timed_labours2.plot()"
   ]
  },
  {
   "cell_type": "markdown",
   "metadata": {},
   "source": [
    "Autocorrelation"
   ]
  },
  {
   "cell_type": "code",
   "execution_count": 163,
   "metadata": {},
   "outputs": [
    {
     "data": {
      "image/png": "[encoded data removed]",
      "text/plain": [
       "<Figure size 1080x720 with 1 Axes>"
      ]
     },
     "metadata": {
      "needs_background": "light"
     },
     "output_type": "display_data"
    }
   ],
   "source": [
    "plt.rc('figure', figsize=(15, 10))\n",
    "plot_acf(timed_labours2)\n",
    "plt.xlabel('Years')\n",
    "plt.show()"
   ]
  },
  {
   "cell_type": "markdown",
   "metadata": {},
   "source": [
    "There is a little correlation during the first day of the months"
   ]
  },
  {
   "cell_type": "markdown",
   "metadata": {},
   "source": [
    "# Time series forecasting"
   ]
  },
  {
   "cell_type": "code",
   "execution_count": 164,
   "metadata": {},
   "outputs": [],
   "source": [
    "#Decompose the seasonal data\n",
    "\n",
    "def create_features(df, label=None):\n",
    "    \"\"\"\n",
    "    Creates time series features from datetime index.\n",
    "    \"\"\"\n",
    "    df = df.copy()\n",
    "    df['date'] = df.index\n",
    "    df['hour'] = df['date'].dt.hour\n",
    "    df['dayofweek'] = df['date'].dt.dayofweek\n",
    "    df['quarter'] = df['date'].dt.quarter\n",
    "    df['month'] = df['date'].dt.month\n",
    "    df['year'] = df['date'].dt.year\n",
    "    df['dayofyear'] = df['date'].dt.dayofyear\n",
    "    df['dayofmonth'] = df['date'].dt.day\n",
    "    df['weekofyear'] = df['date'].dt.weekofyear\n",
    "    \n",
    "    X = df[['hour','dayofweek','quarter','month','year',\n",
    "           'dayofyear','dayofmonth','weekofyear']]\n",
    "    if label:\n",
    "        y = df[label]\n",
    "        return X, y\n",
    "    return X"
   ]
  },
  {
   "cell_type": "code",
   "execution_count": 165,
   "metadata": {},
   "outputs": [
    {
     "data": {
      "text/plain": [
       "Index(['COUNT'], dtype='object')"
      ]
     },
     "execution_count": 165,
     "metadata": {},
     "output_type": "execute_result"
    }
   ],
   "source": [
    "timed_labours2.columns"
   ]
  },
  {
   "cell_type": "code",
   "execution_count": 166,
   "metadata": {},
   "outputs": [
    {
     "name": "stdout",
     "output_type": "stream",
     "text": [
      "Shape (156, 9)\n"
     ]
    },
    {
     "name": "stderr",
     "output_type": "stream",
     "text": [
      "/var/folders/t5/403msh896417yyqp00bd6bhm0000gn/T/ipykernel_10693/786046875.py:16: FutureWarning: Series.dt.weekofyear and Series.dt.week have been deprecated. Please use Series.dt.isocalendar().week instead.\n",
      "  df['weekofyear'] = df['date'].dt.weekofyear\n"
     ]
    },
    {
     "data": {
      "text/html": [
       "<div>\n",
       "<style scoped>\n",
       "    .dataframe tbody tr th:only-of-type {\n",
       "        vertical-align: middle;\n",
       "    }\n",
       "\n",
       "    .dataframe tbody tr th {\n",
       "        vertical-align: top;\n",
       "    }\n",
       "\n",
       "    .dataframe thead th {\n",
       "        text-align: right;\n",
       "    }\n",
       "</style>\n",
       "<table border=\"1\" class=\"dataframe\">\n",
       "  <thead>\n",
       "    <tr style=\"text-align: right;\">\n",
       "      <th></th>\n",
       "      <th>hour</th>\n",
       "      <th>dayofweek</th>\n",
       "      <th>quarter</th>\n",
       "      <th>month</th>\n",
       "      <th>year</th>\n",
       "      <th>dayofyear</th>\n",
       "      <th>dayofmonth</th>\n",
       "      <th>weekofyear</th>\n",
       "      <th>COUNT</th>\n",
       "    </tr>\n",
       "    <tr>\n",
       "      <th>DATA</th>\n",
       "      <th></th>\n",
       "      <th></th>\n",
       "      <th></th>\n",
       "      <th></th>\n",
       "      <th></th>\n",
       "      <th></th>\n",
       "      <th></th>\n",
       "      <th></th>\n",
       "      <th></th>\n",
       "    </tr>\n",
       "  </thead>\n",
       "  <tbody>\n",
       "    <tr>\n",
       "      <th>2009-01-31</th>\n",
       "      <td>0</td>\n",
       "      <td>5</td>\n",
       "      <td>1</td>\n",
       "      <td>1</td>\n",
       "      <td>2009</td>\n",
       "      <td>31</td>\n",
       "      <td>31</td>\n",
       "      <td>5</td>\n",
       "      <td>26988</td>\n",
       "    </tr>\n",
       "    <tr>\n",
       "      <th>2009-02-28</th>\n",
       "      <td>0</td>\n",
       "      <td>5</td>\n",
       "      <td>1</td>\n",
       "      <td>2</td>\n",
       "      <td>2009</td>\n",
       "      <td>59</td>\n",
       "      <td>28</td>\n",
       "      <td>9</td>\n",
       "      <td>25331</td>\n",
       "    </tr>\n",
       "    <tr>\n",
       "      <th>2009-03-31</th>\n",
       "      <td>0</td>\n",
       "      <td>1</td>\n",
       "      <td>1</td>\n",
       "      <td>3</td>\n",
       "      <td>2009</td>\n",
       "      <td>90</td>\n",
       "      <td>31</td>\n",
       "      <td>14</td>\n",
       "      <td>21136</td>\n",
       "    </tr>\n",
       "    <tr>\n",
       "      <th>2009-04-30</th>\n",
       "      <td>0</td>\n",
       "      <td>3</td>\n",
       "      <td>2</td>\n",
       "      <td>4</td>\n",
       "      <td>2009</td>\n",
       "      <td>120</td>\n",
       "      <td>30</td>\n",
       "      <td>18</td>\n",
       "      <td>15604</td>\n",
       "    </tr>\n",
       "    <tr>\n",
       "      <th>2009-05-31</th>\n",
       "      <td>0</td>\n",
       "      <td>6</td>\n",
       "      <td>2</td>\n",
       "      <td>5</td>\n",
       "      <td>2009</td>\n",
       "      <td>151</td>\n",
       "      <td>31</td>\n",
       "      <td>22</td>\n",
       "      <td>10741</td>\n",
       "    </tr>\n",
       "    <tr>\n",
       "      <th>2009-06-30</th>\n",
       "      <td>0</td>\n",
       "      <td>1</td>\n",
       "      <td>2</td>\n",
       "      <td>6</td>\n",
       "      <td>2009</td>\n",
       "      <td>181</td>\n",
       "      <td>30</td>\n",
       "      <td>27</td>\n",
       "      <td>10147</td>\n",
       "    </tr>\n",
       "    <tr>\n",
       "      <th>2009-07-31</th>\n",
       "      <td>0</td>\n",
       "      <td>4</td>\n",
       "      <td>3</td>\n",
       "      <td>7</td>\n",
       "      <td>2009</td>\n",
       "      <td>212</td>\n",
       "      <td>31</td>\n",
       "      <td>31</td>\n",
       "      <td>10658</td>\n",
       "    </tr>\n",
       "    <tr>\n",
       "      <th>2009-08-31</th>\n",
       "      <td>0</td>\n",
       "      <td>0</td>\n",
       "      <td>3</td>\n",
       "      <td>8</td>\n",
       "      <td>2009</td>\n",
       "      <td>243</td>\n",
       "      <td>31</td>\n",
       "      <td>36</td>\n",
       "      <td>9140</td>\n",
       "    </tr>\n",
       "    <tr>\n",
       "      <th>2009-09-30</th>\n",
       "      <td>0</td>\n",
       "      <td>2</td>\n",
       "      <td>3</td>\n",
       "      <td>9</td>\n",
       "      <td>2009</td>\n",
       "      <td>273</td>\n",
       "      <td>30</td>\n",
       "      <td>40</td>\n",
       "      <td>13256</td>\n",
       "    </tr>\n",
       "    <tr>\n",
       "      <th>2009-10-31</th>\n",
       "      <td>0</td>\n",
       "      <td>5</td>\n",
       "      <td>4</td>\n",
       "      <td>10</td>\n",
       "      <td>2009</td>\n",
       "      <td>304</td>\n",
       "      <td>31</td>\n",
       "      <td>44</td>\n",
       "      <td>12326</td>\n",
       "    </tr>\n",
       "  </tbody>\n",
       "</table>\n",
       "</div>"
      ],
      "text/plain": [
       "            hour  dayofweek  quarter  month  year  dayofyear  dayofmonth  \\\n",
       "DATA                                                                       \n",
       "2009-01-31     0          5        1      1  2009         31          31   \n",
       "2009-02-28     0          5        1      2  2009         59          28   \n",
       "2009-03-31     0          1        1      3  2009         90          31   \n",
       "2009-04-30     0          3        2      4  2009        120          30   \n",
       "2009-05-31     0          6        2      5  2009        151          31   \n",
       "2009-06-30     0          1        2      6  2009        181          30   \n",
       "2009-07-31     0          4        3      7  2009        212          31   \n",
       "2009-08-31     0          0        3      8  2009        243          31   \n",
       "2009-09-30     0          2        3      9  2009        273          30   \n",
       "2009-10-31     0          5        4     10  2009        304          31   \n",
       "\n",
       "            weekofyear  COUNT  \n",
       "DATA                           \n",
       "2009-01-31           5  26988  \n",
       "2009-02-28           9  25331  \n",
       "2009-03-31          14  21136  \n",
       "2009-04-30          18  15604  \n",
       "2009-05-31          22  10741  \n",
       "2009-06-30          27  10147  \n",
       "2009-07-31          31  10658  \n",
       "2009-08-31          36   9140  \n",
       "2009-09-30          40  13256  \n",
       "2009-10-31          44  12326  "
      ]
     },
     "execution_count": 166,
     "metadata": {},
     "output_type": "execute_result"
    }
   ],
   "source": [
    "X, y = create_features(timed_labours2, label='COUNT')\n",
    "\n",
    "features_and_target = pd.concat([X, y], axis=1)\n",
    "\n",
    "print(\"Shape\",features_and_target.shape)\n",
    "features_and_target.head(10)"
   ]
  },
  {
   "cell_type": "code",
   "execution_count": 167,
   "metadata": {},
   "outputs": [
    {
     "data": {
      "image/png": "[encoded data removed]",
      "text/plain": [
       "<Figure size 1482.25x360 with 4 Axes>"
      ]
     },
     "metadata": {
      "needs_background": "light"
     },
     "output_type": "display_data"
    }
   ],
   "source": [
    "sns.pairplot(features_and_target.dropna(),\n",
    "             hue='hour',\n",
    "             x_vars=['hour','dayofweek',\n",
    "                     'year','weekofyear'],\n",
    "             y_vars='COUNT',\n",
    "             height=5,\n",
    "             plot_kws={'alpha':0.15, 'linewidth':0}\n",
    "            )\n",
    "plt.suptitle('Power Use MW by Hour, Day of Week, Year and Week of Year')\n",
    "plt.show()"
   ]
  },
  {
   "cell_type": "code",
   "execution_count": 169,
   "metadata": {},
   "outputs": [],
   "source": [
    "split_date = '01-Jan-2015'\n",
    "pjme_train = timed_labours2.loc[timed_labours2.index <= split_date].copy()\n",
    "pjme_test = timed_labours2.loc[timed_labours2.index > split_date].copy()"
   ]
  },
  {
   "cell_type": "code",
   "execution_count": 177,
   "metadata": {},
   "outputs": [
    {
     "data": {
      "image/png": "[encoded data removed]",
      "text/plain": [
       "<Figure size 1080x360 with 1 Axes>"
      ]
     },
     "metadata": {
      "needs_background": "light"
     },
     "output_type": "display_data"
    }
   ],
   "source": [
    "# Plot train and test so you can see where we have split\n",
    "pjme_test \\\n",
    "    .rename(columns={'COUNT': 'TEST SET'}) \\\n",
    "    .join(pjme_train.rename(columns={'COUNT': 'TRAINING SET'}),\n",
    "          how='outer') \\\n",
    "    .plot(figsize=(15,5), title='PJM East', style='.')\n",
    "plt.show()"
   ]
  },
  {
   "cell_type": "code",
   "execution_count": 178,
   "metadata": {},
   "outputs": [
    {
     "name": "stdout",
     "output_type": "stream",
     "text": [
      "Index(['COUNT'], dtype='object')\n"
     ]
    },
    {
     "data": {
      "text/html": [
       "<div>\n",
       "<style scoped>\n",
       "    .dataframe tbody tr th:only-of-type {\n",
       "        vertical-align: middle;\n",
       "    }\n",
       "\n",
       "    .dataframe tbody tr th {\n",
       "        vertical-align: top;\n",
       "    }\n",
       "\n",
       "    .dataframe thead th {\n",
       "        text-align: right;\n",
       "    }\n",
       "</style>\n",
       "<table border=\"1\" class=\"dataframe\">\n",
       "  <thead>\n",
       "    <tr style=\"text-align: right;\">\n",
       "      <th></th>\n",
       "      <th>COUNT</th>\n",
       "    </tr>\n",
       "    <tr>\n",
       "      <th>DATA</th>\n",
       "      <th></th>\n",
       "    </tr>\n",
       "  </thead>\n",
       "  <tbody>\n",
       "    <tr>\n",
       "      <th>2009-01-31</th>\n",
       "      <td>26988</td>\n",
       "    </tr>\n",
       "    <tr>\n",
       "      <th>2009-02-28</th>\n",
       "      <td>25331</td>\n",
       "    </tr>\n",
       "    <tr>\n",
       "      <th>2009-03-31</th>\n",
       "      <td>21136</td>\n",
       "    </tr>\n",
       "    <tr>\n",
       "      <th>2009-04-30</th>\n",
       "      <td>15604</td>\n",
       "    </tr>\n",
       "    <tr>\n",
       "      <th>2009-05-31</th>\n",
       "      <td>10741</td>\n",
       "    </tr>\n",
       "  </tbody>\n",
       "</table>\n",
       "</div>"
      ],
      "text/plain": [
       "            COUNT\n",
       "DATA             \n",
       "2009-01-31  26988\n",
       "2009-02-28  25331\n",
       "2009-03-31  21136\n",
       "2009-04-30  15604\n",
       "2009-05-31  10741"
      ]
     },
     "execution_count": 178,
     "metadata": {},
     "output_type": "execute_result"
    }
   ],
   "source": [
    "# Format data for prophet model using ds and y\n",
    "pjme_train.reset_index() \\\n",
    "    .rename(columns={'DATA':'ds',\n",
    "                     'COUNT':'y'})\n",
    "\n",
    "print(pjme_train.columns)\n",
    "pjme_train.head(5)"
   ]
  },
  {
   "cell_type": "code",
   "execution_count": 179,
   "metadata": {},
   "outputs": [
    {
     "name": "stderr",
     "output_type": "stream",
     "text": [
      "INFO:fbprophet:Disabling weekly seasonality. Run prophet with weekly_seasonality=True to override this.\n",
      "INFO:fbprophet:Disabling daily seasonality. Run prophet with daily_seasonality=True to override this.\n",
      "/opt/homebrew/lib/python3.9/site-packages/fbprophet/forecaster.py:891: FutureWarning: The frame.append method is deprecated and will be removed from pandas in a future version. Use pandas.concat instead.\n",
      "  components = components.append(new_comp)\n"
     ]
    },
    {
     "name": "stdout",
     "output_type": "stream",
     "text": [
      "\n",
      "Initial log joint probability = -82.0998\n"
     ]
    },
    {
     "data": {
      "text/plain": [
       "<fbprophet.forecaster.Prophet at 0x179643460>"
      ]
     },
     "execution_count": 179,
     "metadata": {},
     "output_type": "execute_result"
    },
    {
     "name": "stdout",
     "output_type": "stream",
     "text": [
      "Iteration  1. Log joint probability =    52.2667. Improved by 134.366.\n",
      "Iteration  2. Log joint probability =    91.0905. Improved by 38.8238.\n",
      "Iteration  3. Log joint probability =    115.818. Improved by 24.7274.\n",
      "Iteration  4. Log joint probability =    126.447. Improved by 10.6296.\n",
      "Iteration  5. Log joint probability =    126.461. Improved by 0.0130654.\n",
      "Iteration  6. Log joint probability =    126.485. Improved by 0.0242846.\n",
      "Iteration  7. Log joint probability =    126.493. Improved by 0.00789794.\n",
      "Iteration  8. Log joint probability =    127.629. Improved by 1.13672.\n",
      "Iteration  9. Log joint probability =    127.645. Improved by 0.0160064.\n",
      "Iteration 10. Log joint probability =     127.66. Improved by 0.0149587.\n",
      "Iteration 11. Log joint probability =    127.675. Improved by 0.0148732.\n",
      "Iteration 12. Log joint probability =    127.733. Improved by 0.0576412.\n",
      "Iteration 13. Log joint probability =    127.761. Improved by 0.0283249.\n",
      "Iteration 14. Log joint probability =    127.941. Improved by 0.179573.\n",
      "Iteration 15. Log joint probability =    128.505. Improved by 0.563716.\n",
      "Iteration 16. Log joint probability =    128.524. Improved by 0.0196825.\n",
      "Iteration 17. Log joint probability =    128.699. Improved by 0.17431.\n",
      "Iteration 18. Log joint probability =    128.715. Improved by 0.0164656.\n",
      "Iteration 19. Log joint probability =    129.647. Improved by 0.931572.\n",
      "Iteration 20. Log joint probability =    129.977. Improved by 0.330864.\n",
      "Iteration 21. Log joint probability =    130.111. Improved by 0.133071.\n",
      "Iteration 22. Log joint probability =    130.141. Improved by 0.0303649.\n",
      "Iteration 23. Log joint probability =    130.155. Improved by 0.0143989.\n",
      "Iteration 24. Log joint probability =    130.197. Improved by 0.0413226.\n",
      "Iteration 25. Log joint probability =    130.206. Improved by 0.00897947.\n",
      "Iteration 26. Log joint probability =    130.211. Improved by 0.00586925.\n",
      "Iteration 27. Log joint probability =    130.247. Improved by 0.0352933.\n",
      "Iteration 28. Log joint probability =     130.29. Improved by 0.0428715.\n",
      "Iteration 29. Log joint probability =    130.299. Improved by 0.00920156.\n",
      "Iteration 30. Log joint probability =    130.304. Improved by 0.00516462.\n",
      "Iteration 31. Log joint probability =    130.309. Improved by 0.00508806.\n",
      "Iteration 32. Log joint probability =     130.31. Improved by 0.00141172.\n",
      "Iteration 33. Log joint probability =    130.316. Improved by 0.00537814.\n",
      "Iteration 34. Log joint probability =    130.317. Improved by 0.00163798.\n",
      "Iteration 35. Log joint probability =     130.32. Improved by 0.00299018.\n",
      "Iteration 36. Log joint probability =    130.325. Improved by 0.00431825.\n",
      "Iteration 37. Log joint probability =    130.326. Improved by 0.00155714.\n",
      "Iteration 38. Log joint probability =     130.33. Improved by 0.00351093.\n",
      "Iteration 39. Log joint probability =    130.331. Improved by 0.000705742.\n",
      "Iteration 40. Log joint probability =    130.331. Improved by 0.00082757.\n",
      "Iteration 41. Log joint probability =    130.332. Improved by 0.000199724.\n",
      "Iteration 42. Log joint probability =    130.332. Improved by 0.000349898.\n",
      "Iteration 43. Log joint probability =    130.332. Improved by 8.62698e-05.\n",
      "Iteration 44. Log joint probability =    130.332. Improved by 0.000179132.\n",
      "Iteration 45. Log joint probability =    130.332. Improved by 0.000150956.\n",
      "Iteration 46. Log joint probability =    130.333. Improved by 0.000182577.\n",
      "Iteration 47. Log joint probability =    130.333. Improved by 0.0002174.\n",
      "Iteration 48. Log joint probability =    130.333. Improved by 2.87166e-05.\n",
      "Iteration 49. Log joint probability =    130.333. Improved by 5.09377e-05.\n",
      "Iteration 50. Log joint probability =    130.333. Improved by 7.34302e-05.\n",
      "Iteration 51. Log joint probability =    130.333. Improved by 2.46114e-05.\n",
      "Iteration 52. Log joint probability =    130.333. Improved by 3.28272e-05.\n",
      "Iteration 53. Log joint probability =    130.333. Improved by 4.54239e-06.\n",
      "Iteration 54. Log joint probability =    130.333. Improved by 3.14724e-05.\n",
      "Iteration 55. Log joint probability =    130.333. Improved by 1.88571e-05.\n",
      "Iteration 56. Log joint probability =    130.333. Improved by 1.1985e-05.\n",
      "Iteration 57. Log joint probability =    130.333. Improved by 6.07229e-06.\n",
      "Iteration 58. Log joint probability =    130.333. Improved by 1.37387e-05.\n",
      "Iteration 59. Log joint probability =    130.333. Improved by 1.56857e-05.\n",
      "Iteration 60. Log joint probability =    130.333. Improved by 7.2538e-06.\n",
      "Iteration 61. Log joint probability =    130.333. Improved by 4.01431e-07.\n",
      "Iteration 62. Log joint probability =    130.333. Improved by 1.15221e-06.\n",
      "Iteration 63. Log joint probability =    130.333. Improved by 3.31537e-06.\n",
      "Iteration 64. Log joint probability =    130.333. Improved by 1.16855e-06.\n",
      "Iteration 65. Log joint probability =    130.333. Improved by 2.55859e-06.\n",
      "Iteration 66. Log joint probability =    130.333. Improved by 1.72584e-06.\n",
      "Iteration 67. Log joint probability =    130.333. Improved by 6.07942e-07.\n",
      "Iteration 68. Log joint probability =    130.333. Improved by 1.50078e-07.\n",
      "Iteration 69. Log joint probability =    130.333. Improved by 9.8956e-07.\n",
      "Iteration 70. Log joint probability =    130.333. Improved by 1.81827e-07.\n",
      "Iteration 71. Log joint probability =    130.333. Improved by 2.32144e-08.\n",
      "Iteration 72. Log joint probability =    130.333. Improved by 2.6773e-07.\n",
      "Iteration 73. Log joint probability =    130.333. Improved by 1.65645e-07.\n",
      "Iteration 74. Log joint probability =    130.333. Improved by 2.52886e-07.\n",
      "Iteration 75. Log joint probability =    130.333. Improved by 3.22017e-08.\n",
      "Iteration 76. Log joint probability =    130.333. Improved by 3.78719e-10.\n"
     ]
    }
   ],
   "source": [
    "# Setup and train model and fit\n",
    "model = Prophet()\n",
    "model.fit(pjme_train.reset_index() \\\n",
    "              .rename(columns={'DATA':'ds',\n",
    "                               'COUNT':'y'}))"
   ]
  },
  {
   "cell_type": "code",
   "execution_count": 181,
   "metadata": {},
   "outputs": [
    {
     "name": "stderr",
     "output_type": "stream",
     "text": [
      "/opt/homebrew/lib/python3.9/site-packages/fbprophet/forecaster.py:891: FutureWarning: The frame.append method is deprecated and will be removed from pandas in a future version. Use pandas.concat instead.\n",
      "  components = components.append(new_comp)\n",
      "/opt/homebrew/lib/python3.9/site-packages/fbprophet/forecaster.py:891: FutureWarning: The frame.append method is deprecated and will be removed from pandas in a future version. Use pandas.concat instead.\n",
      "  components = components.append(new_comp)\n"
     ]
    }
   ],
   "source": [
    "# Predict on training set with model\n",
    "pjme_test_fcst = model.predict(df=pjme_test.reset_index().rename(columns={'DATA':'ds'}))"
   ]
  },
  {
   "cell_type": "code",
   "execution_count": 182,
   "metadata": {},
   "outputs": [
    {
     "data": {
      "text/html": [
       "<div>\n",
       "<style scoped>\n",
       "    .dataframe tbody tr th:only-of-type {\n",
       "        vertical-align: middle;\n",
       "    }\n",
       "\n",
       "    .dataframe tbody tr th {\n",
       "        vertical-align: top;\n",
       "    }\n",
       "\n",
       "    .dataframe thead th {\n",
       "        text-align: right;\n",
       "    }\n",
       "</style>\n",
       "<table border=\"1\" class=\"dataframe\">\n",
       "  <thead>\n",
       "    <tr style=\"text-align: right;\">\n",
       "      <th></th>\n",
       "      <th>ds</th>\n",
       "      <th>trend</th>\n",
       "      <th>yhat_lower</th>\n",
       "      <th>yhat_upper</th>\n",
       "      <th>trend_lower</th>\n",
       "      <th>trend_upper</th>\n",
       "      <th>additive_terms</th>\n",
       "      <th>additive_terms_lower</th>\n",
       "      <th>additive_terms_upper</th>\n",
       "      <th>yearly</th>\n",
       "      <th>yearly_lower</th>\n",
       "      <th>yearly_upper</th>\n",
       "      <th>multiplicative_terms</th>\n",
       "      <th>multiplicative_terms_lower</th>\n",
       "      <th>multiplicative_terms_upper</th>\n",
       "      <th>yhat</th>\n",
       "    </tr>\n",
       "  </thead>\n",
       "  <tbody>\n",
       "    <tr>\n",
       "      <th>0</th>\n",
       "      <td>2015-01-31</td>\n",
       "      <td>27369.740326</td>\n",
       "      <td>35016.629669</td>\n",
       "      <td>47346.216449</td>\n",
       "      <td>27368.185688</td>\n",
       "      <td>27371.277729</td>\n",
       "      <td>13991.758178</td>\n",
       "      <td>13991.758178</td>\n",
       "      <td>13991.758178</td>\n",
       "      <td>13991.758178</td>\n",
       "      <td>13991.758178</td>\n",
       "      <td>13991.758178</td>\n",
       "      <td>0.0</td>\n",
       "      <td>0.0</td>\n",
       "      <td>0.0</td>\n",
       "      <td>41361.498504</td>\n",
       "    </tr>\n",
       "    <tr>\n",
       "      <th>1</th>\n",
       "      <td>2015-02-28</td>\n",
       "      <td>27356.430450</td>\n",
       "      <td>29390.873669</td>\n",
       "      <td>41457.150482</td>\n",
       "      <td>27343.665174</td>\n",
       "      <td>27369.030672</td>\n",
       "      <td>8074.380979</td>\n",
       "      <td>8074.380979</td>\n",
       "      <td>8074.380979</td>\n",
       "      <td>8074.380979</td>\n",
       "      <td>8074.380979</td>\n",
       "      <td>8074.380979</td>\n",
       "      <td>0.0</td>\n",
       "      <td>0.0</td>\n",
       "      <td>0.0</td>\n",
       "      <td>35430.811428</td>\n",
       "    </tr>\n",
       "    <tr>\n",
       "      <th>2</th>\n",
       "      <td>2015-03-31</td>\n",
       "      <td>27341.694515</td>\n",
       "      <td>33820.415517</td>\n",
       "      <td>45750.400660</td>\n",
       "      <td>27307.404821</td>\n",
       "      <td>27370.496974</td>\n",
       "      <td>12124.565883</td>\n",
       "      <td>12124.565883</td>\n",
       "      <td>12124.565883</td>\n",
       "      <td>12124.565883</td>\n",
       "      <td>12124.565883</td>\n",
       "      <td>12124.565883</td>\n",
       "      <td>0.0</td>\n",
       "      <td>0.0</td>\n",
       "      <td>0.0</td>\n",
       "      <td>39466.260398</td>\n",
       "    </tr>\n",
       "    <tr>\n",
       "      <th>3</th>\n",
       "      <td>2015-04-30</td>\n",
       "      <td>27327.433932</td>\n",
       "      <td>33009.826525</td>\n",
       "      <td>45269.987710</td>\n",
       "      <td>27273.728574</td>\n",
       "      <td>27374.115020</td>\n",
       "      <td>11550.829100</td>\n",
       "      <td>11550.829100</td>\n",
       "      <td>11550.829100</td>\n",
       "      <td>11550.829100</td>\n",
       "      <td>11550.829100</td>\n",
       "      <td>11550.829100</td>\n",
       "      <td>0.0</td>\n",
       "      <td>0.0</td>\n",
       "      <td>0.0</td>\n",
       "      <td>38878.263032</td>\n",
       "    </tr>\n",
       "    <tr>\n",
       "      <th>4</th>\n",
       "      <td>2015-05-31</td>\n",
       "      <td>27312.697997</td>\n",
       "      <td>20179.956844</td>\n",
       "      <td>32540.692911</td>\n",
       "      <td>27229.803131</td>\n",
       "      <td>27385.578712</td>\n",
       "      <td>-787.302717</td>\n",
       "      <td>-787.302717</td>\n",
       "      <td>-787.302717</td>\n",
       "      <td>-787.302717</td>\n",
       "      <td>-787.302717</td>\n",
       "      <td>-787.302717</td>\n",
       "      <td>0.0</td>\n",
       "      <td>0.0</td>\n",
       "      <td>0.0</td>\n",
       "      <td>26525.395280</td>\n",
       "    </tr>\n",
       "  </tbody>\n",
       "</table>\n",
       "</div>"
      ],
      "text/plain": [
       "          ds         trend    yhat_lower    yhat_upper   trend_lower  \\\n",
       "0 2015-01-31  27369.740326  35016.629669  47346.216449  27368.185688   \n",
       "1 2015-02-28  27356.430450  29390.873669  41457.150482  27343.665174   \n",
       "2 2015-03-31  27341.694515  33820.415517  45750.400660  27307.404821   \n",
       "3 2015-04-30  27327.433932  33009.826525  45269.987710  27273.728574   \n",
       "4 2015-05-31  27312.697997  20179.956844  32540.692911  27229.803131   \n",
       "\n",
       "    trend_upper  additive_terms  additive_terms_lower  additive_terms_upper  \\\n",
       "0  27371.277729    13991.758178          13991.758178          13991.758178   \n",
       "1  27369.030672     8074.380979           8074.380979           8074.380979   \n",
       "2  27370.496974    12124.565883          12124.565883          12124.565883   \n",
       "3  27374.115020    11550.829100          11550.829100          11550.829100   \n",
       "4  27385.578712     -787.302717           -787.302717           -787.302717   \n",
       "\n",
       "         yearly  yearly_lower  yearly_upper  multiplicative_terms  \\\n",
       "0  13991.758178  13991.758178  13991.758178                   0.0   \n",
       "1   8074.380979   8074.380979   8074.380979                   0.0   \n",
       "2  12124.565883  12124.565883  12124.565883                   0.0   \n",
       "3  11550.829100  11550.829100  11550.829100                   0.0   \n",
       "4   -787.302717   -787.302717   -787.302717                   0.0   \n",
       "\n",
       "   multiplicative_terms_lower  multiplicative_terms_upper          yhat  \n",
       "0                         0.0                         0.0  41361.498504  \n",
       "1                         0.0                         0.0  35430.811428  \n",
       "2                         0.0                         0.0  39466.260398  \n",
       "3                         0.0                         0.0  38878.263032  \n",
       "4                         0.0                         0.0  26525.395280  "
      ]
     },
     "execution_count": 182,
     "metadata": {},
     "output_type": "execute_result"
    }
   ],
   "source": [
    "pjme_test_fcst.head()"
   ]
  },
  {
   "cell_type": "code",
   "execution_count": 183,
   "metadata": {},
   "outputs": [
    {
     "data": {
      "image/png": "[encoded data removed]",
      "text/plain": [
       "<Figure size 1080x360 with 1 Axes>"
      ]
     },
     "metadata": {
      "needs_background": "light"
     },
     "output_type": "display_data"
    }
   ],
   "source": [
    "# Plot the forecast\n",
    "f, ax = plt.subplots(1)\n",
    "f.set_figheight(5)\n",
    "f.set_figwidth(15)\n",
    "fig = model.plot(pjme_test_fcst,\n",
    "                 ax=ax)\n",
    "plt.show()"
   ]
  },
  {
   "cell_type": "code",
   "execution_count": 184,
   "metadata": {},
   "outputs": [
    {
     "name": "stderr",
     "output_type": "stream",
     "text": [
      "/opt/homebrew/lib/python3.9/site-packages/fbprophet/forecaster.py:891: FutureWarning: The frame.append method is deprecated and will be removed from pandas in a future version. Use pandas.concat instead.\n",
      "  components = components.append(new_comp)\n"
     ]
    },
    {
     "data": {
      "image/png": "[encoded data removed]",
      "text/plain": [
       "<Figure size 648x432 with 2 Axes>"
      ]
     },
     "metadata": {},
     "output_type": "display_data"
    }
   ],
   "source": [
    "# Plot the components of the model\n",
    "fig = model.plot_components(pjme_test_fcst)"
   ]
  }
 ],
 "metadata": {
  "language_info": {
   "name": "python"
  },
  "orig_nbformat": 4
 },
 "nbformat": 4,
 "nbformat_minor": 2
}
