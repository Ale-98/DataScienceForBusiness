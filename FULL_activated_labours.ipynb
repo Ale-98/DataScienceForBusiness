{
 "cells": [
  {
   "cell_type": "markdown",
   "metadata": {},
   "source": [
    "# Activated Labours: data analysis and predictions\n",
    "The purpose of this notebook is to have a view of the data contained in the **Rapporti_di_lavoro_attivati**.\n",
    "More precisely we want to:\n",
    "* Analyse the data.\n",
    "* Add data from another dataset to increase the amount of information.\n",
    "* Make some transformations in order to prepare data for Machine Learning.\n",
    "* Try to find correlations within data.\n",
    "* Try to make some predictions. \n",
    "\n",
    "In particular we want to see if it is possible to predict the hourly retributions(which represent the information we are going to add to our dataset), basing on the information stored in the **Rapporti_di_lavoro_attivati.csv** dataset. We will try to find the best feaures to use for this purpose through analysis."
   ]
  },
  {
   "cell_type": "code",
   "execution_count": 1,
   "metadata": {},
   "outputs": [
    {
     "name": "stderr",
     "output_type": "stream",
     "text": [
      "/home/ale/anaconda3/envs/datasciencefb/lib/python3.8/site-packages/statsmodels/compat/pandas.py:61: FutureWarning: pandas.Int64Index is deprecated and will be removed from pandas in a future version. Use pandas.Index with the appropriate dtype instead.\n",
      "  from pandas import Int64Index as NumericIndex\n"
     ]
    }
   ],
   "source": [
    "import pandas as pd\n",
    "import numpy as np\n",
    "import matplotlib.pyplot as plt\n",
    "from datetime import datetime\n",
    "import seaborn as sns\n",
    "from statsmodels.graphics.tsaplots import plot_acf, plot_pacf\n",
    "import re\n",
    "import utils\n",
    "from matplotlib import rcParams\n",
    "from tqdm import tqdm\n",
    "\n",
    "a4_dims = (11.7, 8.27)\n",
    "rcParams['figure.figsize'] = a4_dims\n",
    "\n",
    "STD_SIZE = (15, 10)\n",
    "MID_SIZE = (25, 20)\n",
    "BIG_SIZE = (30, 30)"
   ]
  },
  {
   "cell_type": "markdown",
   "metadata": {},
   "source": [
    "## Have a first view of the dataset"
   ]
  },
  {
   "cell_type": "markdown",
   "metadata": {},
   "source": [
    "Import the dataset"
   ]
  },
  {
   "cell_type": "code",
   "execution_count": 2,
   "metadata": {},
   "outputs": [
    {
     "name": "stdout",
     "output_type": "stream",
     "text": [
      "Shape: (9579794, 9)\n"
     ]
    },
    {
     "data": {
      "text/html": [
       "<div>\n",
       "<style scoped>\n",
       "    .dataframe tbody tr th:only-of-type {\n",
       "        vertical-align: middle;\n",
       "    }\n",
       "\n",
       "    .dataframe tbody tr th {\n",
       "        vertical-align: top;\n",
       "    }\n",
       "\n",
       "    .dataframe thead th {\n",
       "        text-align: right;\n",
       "    }\n",
       "</style>\n",
       "<table border=\"1\" class=\"dataframe\">\n",
       "  <thead>\n",
       "    <tr style=\"text-align: right;\">\n",
       "      <th></th>\n",
       "      <th>DATA</th>\n",
       "      <th>GENERE</th>\n",
       "      <th>ETA</th>\n",
       "      <th>SETTOREECONOMICODETTAGLIO</th>\n",
       "      <th>TITOLOSTUDIO</th>\n",
       "      <th>CONTRATTO</th>\n",
       "      <th>MODALITALAVORO</th>\n",
       "      <th>PROVINCIAIMPRESA</th>\n",
       "      <th>ITALIANO</th>\n",
       "    </tr>\n",
       "  </thead>\n",
       "  <tbody>\n",
       "    <tr>\n",
       "      <th>0</th>\n",
       "      <td>2020-09-05</td>\n",
       "      <td>F</td>\n",
       "      <td>60</td>\n",
       "      <td>Attività di famiglie e convivenze come datori ...</td>\n",
       "      <td>NESSUN TITOLO DI STUDIO</td>\n",
       "      <td>LAVORO DOMESTICO</td>\n",
       "      <td>TEMPO PIENO</td>\n",
       "      <td>BERGAMO</td>\n",
       "      <td>UCRAINA</td>\n",
       "    </tr>\n",
       "    <tr>\n",
       "      <th>1</th>\n",
       "      <td>2019-12-07</td>\n",
       "      <td>M</td>\n",
       "      <td>43</td>\n",
       "      <td>Gestioni di funicolari, ski-lift e seggiovie s...</td>\n",
       "      <td>LICENZA MEDIA</td>\n",
       "      <td>LAVORO A TEMPO DETERMINATO</td>\n",
       "      <td>TEMPO PIENO</td>\n",
       "      <td>BERGAMO</td>\n",
       "      <td>ITALIA</td>\n",
       "    </tr>\n",
       "    <tr>\n",
       "      <th>2</th>\n",
       "      <td>2013-05-06</td>\n",
       "      <td>F</td>\n",
       "      <td>20</td>\n",
       "      <td>Fabbricazione di altre apparecchiature elettri...</td>\n",
       "      <td>LICENZA MEDIA</td>\n",
       "      <td>APPRENDISTATO PROFESSIONALIZZANTE O CONTRATTO ...</td>\n",
       "      <td>TEMPO PIENO</td>\n",
       "      <td>BERGAMO</td>\n",
       "      <td>ITALIA</td>\n",
       "    </tr>\n",
       "    <tr>\n",
       "      <th>3</th>\n",
       "      <td>2010-12-03</td>\n",
       "      <td>F</td>\n",
       "      <td>28</td>\n",
       "      <td>Alberghi</td>\n",
       "      <td>DIPLOMA DI ISTRUZIONE SECONDARIA SUPERIORE  CH...</td>\n",
       "      <td>LAVORO INTERMITTENTE A TEMPO DETERMINATO</td>\n",
       "      <td>NON DEFINITO</td>\n",
       "      <td>BERGAMO</td>\n",
       "      <td>ITALIA</td>\n",
       "    </tr>\n",
       "    <tr>\n",
       "      <th>4</th>\n",
       "      <td>2021-06-04</td>\n",
       "      <td>F</td>\n",
       "      <td>49</td>\n",
       "      <td>Rifugi di montagna</td>\n",
       "      <td>LICENZA MEDIA</td>\n",
       "      <td>LAVORO INTERMITTENTE</td>\n",
       "      <td>NON DEFINITO</td>\n",
       "      <td>BERGAMO</td>\n",
       "      <td>ITALIA</td>\n",
       "    </tr>\n",
       "  </tbody>\n",
       "</table>\n",
       "</div>"
      ],
      "text/plain": [
       "        DATA GENERE  ETA                          SETTOREECONOMICODETTAGLIO  \\\n",
       "0 2020-09-05      F   60  Attività di famiglie e convivenze come datori ...   \n",
       "1 2019-12-07      M   43  Gestioni di funicolari, ski-lift e seggiovie s...   \n",
       "2 2013-05-06      F   20  Fabbricazione di altre apparecchiature elettri...   \n",
       "3 2010-12-03      F   28                                           Alberghi   \n",
       "4 2021-06-04      F   49                                 Rifugi di montagna   \n",
       "\n",
       "                                        TITOLOSTUDIO  \\\n",
       "0                            NESSUN TITOLO DI STUDIO   \n",
       "1                                      LICENZA MEDIA   \n",
       "2                                      LICENZA MEDIA   \n",
       "3  DIPLOMA DI ISTRUZIONE SECONDARIA SUPERIORE  CH...   \n",
       "4                                      LICENZA MEDIA   \n",
       "\n",
       "                                           CONTRATTO MODALITALAVORO  \\\n",
       "0                                   LAVORO DOMESTICO    TEMPO PIENO   \n",
       "1                         LAVORO A TEMPO DETERMINATO    TEMPO PIENO   \n",
       "2  APPRENDISTATO PROFESSIONALIZZANTE O CONTRATTO ...    TEMPO PIENO   \n",
       "3           LAVORO INTERMITTENTE A TEMPO DETERMINATO   NON DEFINITO   \n",
       "4                               LAVORO INTERMITTENTE   NON DEFINITO   \n",
       "\n",
       "  PROVINCIAIMPRESA ITALIANO  \n",
       "0          BERGAMO  UCRAINA  \n",
       "1          BERGAMO   ITALIA  \n",
       "2          BERGAMO   ITALIA  \n",
       "3          BERGAMO   ITALIA  \n",
       "4          BERGAMO   ITALIA  "
      ]
     },
     "execution_count": 2,
     "metadata": {},
     "output_type": "execute_result"
    }
   ],
   "source": [
    "activated_labours = pd.read_csv('datasets/Rapporti_di_lavoro_attivati.csv', parse_dates=['DATA'])\n",
    "print(f'Shape: {activated_labours.shape}')\n",
    "activated_labours.head()"
   ]
  },
  {
   "cell_type": "markdown",
   "metadata": {},
   "source": [
    "Inspect data types"
   ]
  },
  {
   "cell_type": "code",
   "execution_count": 3,
   "metadata": {},
   "outputs": [
    {
     "data": {
      "text/plain": [
       "DATA                         datetime64[ns]\n",
       "GENERE                               object\n",
       "ETA                                   int64\n",
       "SETTOREECONOMICODETTAGLIO            object\n",
       "TITOLOSTUDIO                         object\n",
       "CONTRATTO                            object\n",
       "MODALITALAVORO                       object\n",
       "PROVINCIAIMPRESA                     object\n",
       "ITALIANO                             object\n",
       "dtype: object"
      ]
     },
     "execution_count": 3,
     "metadata": {},
     "output_type": "execute_result"
    }
   ],
   "source": [
    "activated_labours.dtypes"
   ]
  },
  {
   "cell_type": "code",
   "execution_count": 4,
   "metadata": {},
   "outputs": [
    {
     "data": {
      "text/plain": [
       "9579794"
      ]
     },
     "execution_count": 4,
     "metadata": {},
     "output_type": "execute_result"
    }
   ],
   "source": [
    "len(activated_labours)"
   ]
  },
  {
   "cell_type": "markdown",
   "metadata": {},
   "source": [
    "Some general information"
   ]
  },
  {
   "cell_type": "code",
   "execution_count": 5,
   "metadata": {},
   "outputs": [
    {
     "name": "stdout",
     "output_type": "stream",
     "text": [
      "<class 'pandas.core.frame.DataFrame'>\n",
      "RangeIndex: 9579794 entries, 0 to 9579793\n",
      "Data columns (total 9 columns):\n",
      " #   Column                     Dtype         \n",
      "---  ------                     -----         \n",
      " 0   DATA                       datetime64[ns]\n",
      " 1   GENERE                     object        \n",
      " 2   ETA                        int64         \n",
      " 3   SETTOREECONOMICODETTAGLIO  object        \n",
      " 4   TITOLOSTUDIO               object        \n",
      " 5   CONTRATTO                  object        \n",
      " 6   MODALITALAVORO             object        \n",
      " 7   PROVINCIAIMPRESA           object        \n",
      " 8   ITALIANO                   object        \n",
      "dtypes: datetime64[ns](1), int64(1), object(7)\n",
      "memory usage: 657.8+ MB\n"
     ]
    }
   ],
   "source": [
    "activated_labours.info()"
   ]
  },
  {
   "cell_type": "markdown",
   "metadata": {},
   "source": [
    "### Sort records basing on **DATA** column"
   ]
  },
  {
   "cell_type": "markdown",
   "metadata": {},
   "source": [
    "Sorting the data with respect to the **DATA** column is only required for making some time series analysis, which will be eventually performed later on."
   ]
  },
  {
   "cell_type": "code",
   "execution_count": 6,
   "metadata": {},
   "outputs": [
    {
     "data": {
      "text/plain": [
       "0   2020-09-05\n",
       "1   2019-12-07\n",
       "2   2013-05-06\n",
       "3   2010-12-03\n",
       "4   2021-06-04\n",
       "Name: DATA, dtype: datetime64[ns]"
      ]
     },
     "execution_count": 6,
     "metadata": {},
     "output_type": "execute_result"
    }
   ],
   "source": [
    "activated_labours['DATA'].head()"
   ]
  },
  {
   "cell_type": "markdown",
   "metadata": {},
   "source": [
    "Sort basing on dates"
   ]
  },
  {
   "cell_type": "code",
   "execution_count": 7,
   "metadata": {},
   "outputs": [
    {
     "name": "stdout",
     "output_type": "stream",
     "text": [
      "Sorted\n"
     ]
    }
   ],
   "source": [
    "activated_labours = activated_labours.sort_values(by='DATA', ascending=True)\n",
    "activated_labours.reset_index(drop=True, inplace=True)\n",
    "min_ok = activated_labours.DATA.min() == activated_labours.DATA[0]\n",
    "max_ok = activated_labours.DATA.max() == activated_labours.DATA[len(activated_labours) - 1]\n",
    "print('Sorted' if min_ok and max_ok else 'Not sorted')"
   ]
  },
  {
   "cell_type": "markdown",
   "metadata": {},
   "source": [
    "## Inspection of null values"
   ]
  },
  {
   "cell_type": "code",
   "execution_count": 8,
   "metadata": {},
   "outputs": [
    {
     "name": "stdout",
     "output_type": "stream",
     "text": [
      "Your selected dataframe has 9 columns.\n",
      "There are 3 columns that have missing values.\n"
     ]
    },
    {
     "data": {
      "text/html": [
       "<div>\n",
       "<style scoped>\n",
       "    .dataframe tbody tr th:only-of-type {\n",
       "        vertical-align: middle;\n",
       "    }\n",
       "\n",
       "    .dataframe tbody tr th {\n",
       "        vertical-align: top;\n",
       "    }\n",
       "\n",
       "    .dataframe thead th {\n",
       "        text-align: right;\n",
       "    }\n",
       "</style>\n",
       "<table border=\"1\" class=\"dataframe\">\n",
       "  <thead>\n",
       "    <tr style=\"text-align: right;\">\n",
       "      <th></th>\n",
       "      <th>Missing Values</th>\n",
       "      <th>% of Total Values</th>\n",
       "    </tr>\n",
       "  </thead>\n",
       "  <tbody>\n",
       "    <tr>\n",
       "      <th>MODALITALAVORO</th>\n",
       "      <td>440779</td>\n",
       "      <td>4.6</td>\n",
       "    </tr>\n",
       "    <tr>\n",
       "      <th>SETTOREECONOMICODETTAGLIO</th>\n",
       "      <td>2888</td>\n",
       "      <td>0.0</td>\n",
       "    </tr>\n",
       "    <tr>\n",
       "      <th>TITOLOSTUDIO</th>\n",
       "      <td>580</td>\n",
       "      <td>0.0</td>\n",
       "    </tr>\n",
       "  </tbody>\n",
       "</table>\n",
       "</div>"
      ],
      "text/plain": [
       "                           Missing Values  % of Total Values\n",
       "MODALITALAVORO                     440779                4.6\n",
       "SETTOREECONOMICODETTAGLIO            2888                0.0\n",
       "TITOLOSTUDIO                          580                0.0"
      ]
     },
     "execution_count": 8,
     "metadata": {},
     "output_type": "execute_result"
    }
   ],
   "source": [
    "utils.missing_values_table(activated_labours)"
   ]
  },
  {
   "cell_type": "markdown",
   "metadata": {},
   "source": [
    "Only three columns contains null values... Let's inspect more deeply how could i remove them."
   ]
  },
  {
   "cell_type": "markdown",
   "metadata": {},
   "source": [
    "### TITOLO DI STUDIO"
   ]
  },
  {
   "cell_type": "code",
   "execution_count": 9,
   "metadata": {},
   "outputs": [
    {
     "data": {
      "text/plain": [
       "TITOLOSTUDIO                                                                                                           \n",
       "NESSUN TITOLO DI STUDIO                                                                                                    2721891\n",
       "LICENZA MEDIA                                                                                                              2523342\n",
       "DIPLOMA DI ISTRUZIONE SECONDARIA SUPERIORE  CHE PERMETTE L'ACCESSO ALL'UNIVERSITA                                          2430781\n",
       "LAUREA - Vecchio o nuovo ordinamento                                                                                        988171\n",
       "TITOLO DI ISTRUZIONE SECONDARIA SUPERIORE (SCOLASTICA ED EXTRA-SCOLASTICA) CHE NON PERMETTE L'ACCESSO ALL'UNIVERSITÀ ()     645228\n",
       "LICENZA ELEMENTARE                                                                                                           82570\n",
       "DIPLOMA UNIVERSITARIO                                                                                                        74488\n",
       "DIPLOMA DI SPECIALIZZAZIONE                                                                                                  57792\n",
       "TITOLO DI DOTTORE DI RICERCA                                                                                                 21102\n",
       "DIPLOMA TERZIARIO EXTRA-UNIVERSITARIO                                                                                        14346\n",
       "MASTER UNIVERSITARIO DI PRIMO LIVELLO                                                                                        11180\n",
       "TITOLO DI STUDIO POST-LAUREA                                                                                                  8323\n",
       "dtype: int64"
      ]
     },
     "execution_count": 9,
     "metadata": {},
     "output_type": "execute_result"
    }
   ],
   "source": [
    "activated_labours.loc[:, ['TITOLOSTUDIO']].value_counts()"
   ]
  },
  {
   "cell_type": "markdown",
   "metadata": {},
   "source": [
    "I'll fill in all the null values in the **TITOLO DI STUDIO** column with the **NESSUN TITOLO DI STUDIO** value"
   ]
  },
  {
   "cell_type": "code",
   "execution_count": 10,
   "metadata": {},
   "outputs": [],
   "source": [
    "activated_labours.TITOLOSTUDIO.fillna('NESSUN TITOLO DI STUDIO', inplace=True)"
   ]
  },
  {
   "cell_type": "code",
   "execution_count": 11,
   "metadata": {},
   "outputs": [
    {
     "name": "stderr",
     "output_type": "stream",
     "text": [
      "/home/ale/anaconda3/envs/datasciencefb/lib/python3.8/site-packages/seaborn/axisgrid.py:88: UserWarning: Tight layout not applied. The left and right margins cannot be made large enough to accommodate all axes decorations. \n",
      "  self._figure.tight_layout(*args, **kwargs)\n"
     ]
    },
    {
     "data": {
      "text/plain": [
       "<seaborn.axisgrid.FacetGrid at 0x7fe3d65e9fd0>"
      ]
     },
     "execution_count": 11,
     "metadata": {},
     "output_type": "execute_result"
    },
    {
     "data": {
      "image/png": "[encoded data removed]",
      "text/plain": [
       "<Figure size 360x360 with 1 Axes>"
      ]
     },
     "metadata": {
      "needs_background": "light"
     },
     "output_type": "display_data"
    }
   ],
   "source": [
    "sns.catplot(data=activated_labours, y='TITOLOSTUDIO', kind='count')"
   ]
  },
  {
   "cell_type": "code",
   "execution_count": 12,
   "metadata": {},
   "outputs": [
    {
     "name": "stdout",
     "output_type": "stream",
     "text": [
      "Your selected dataframe has 9 columns.\n",
      "There are 2 columns that have missing values.\n"
     ]
    },
    {
     "data": {
      "text/html": [
       "<div>\n",
       "<style scoped>\n",
       "    .dataframe tbody tr th:only-of-type {\n",
       "        vertical-align: middle;\n",
       "    }\n",
       "\n",
       "    .dataframe tbody tr th {\n",
       "        vertical-align: top;\n",
       "    }\n",
       "\n",
       "    .dataframe thead th {\n",
       "        text-align: right;\n",
       "    }\n",
       "</style>\n",
       "<table border=\"1\" class=\"dataframe\">\n",
       "  <thead>\n",
       "    <tr style=\"text-align: right;\">\n",
       "      <th></th>\n",
       "      <th>Missing Values</th>\n",
       "      <th>% of Total Values</th>\n",
       "    </tr>\n",
       "  </thead>\n",
       "  <tbody>\n",
       "    <tr>\n",
       "      <th>MODALITALAVORO</th>\n",
       "      <td>440779</td>\n",
       "      <td>4.6</td>\n",
       "    </tr>\n",
       "    <tr>\n",
       "      <th>SETTOREECONOMICODETTAGLIO</th>\n",
       "      <td>2888</td>\n",
       "      <td>0.0</td>\n",
       "    </tr>\n",
       "  </tbody>\n",
       "</table>\n",
       "</div>"
      ],
      "text/plain": [
       "                           Missing Values  % of Total Values\n",
       "MODALITALAVORO                     440779                4.6\n",
       "SETTOREECONOMICODETTAGLIO            2888                0.0"
      ]
     },
     "execution_count": 12,
     "metadata": {},
     "output_type": "execute_result"
    }
   ],
   "source": [
    "utils.missing_values_table(activated_labours)"
   ]
  },
  {
   "cell_type": "markdown",
   "metadata": {},
   "source": [
    "### SETTORE ECONOMICO DETTAGLIO"
   ]
  },
  {
   "cell_type": "code",
   "execution_count": 13,
   "metadata": {},
   "outputs": [
    {
     "data": {
      "text/plain": [
       "SETTOREECONOMICODETTAGLIO                                                                                                                                                      \n",
       "Alberghi                                                                                                                                                                           467057\n",
       "Ristorazione con somministrazione                                                                                                                                                  445191\n",
       "Attività di produzione cinematografica, di video e di programmi televisivi                                                                                                         379116\n",
       "Attività di famiglie e convivenze come datori di lavoro per personale domestico                                                                                                    348181\n",
       "Altri servizi di supporto alle imprese nca                                                                                                                                         303280\n",
       "                                                                                                                                                                                    ...  \n",
       "Gestione di stazioni per autobus                                                                                                                                                        1\n",
       "Coltivazione di ortaggi (inclusi i meloni) in foglia, a fusto, a frutto, in radici, bulbi e tuberi in colture\\nprotette fuori suolo (escluse barbabietola da zucchero e patate)         1\n",
       "Agenti e rappresentanti di giocattoli                                                                                                                                                   1\n",
       "Coltivazione di fiori in colture protette fuori suolo                                                                                                                                   1\n",
       "Bachicoltura                                                                                                                                                                            1\n",
       "Length: 1224, dtype: int64"
      ]
     },
     "execution_count": 13,
     "metadata": {},
     "output_type": "execute_result"
    }
   ],
   "source": [
    "counts = activated_labours.loc[:, ['SETTOREECONOMICODETTAGLIO']].value_counts()\n",
    "counts"
   ]
  },
  {
   "cell_type": "code",
   "execution_count": 14,
   "metadata": {},
   "outputs": [
    {
     "data": {
      "text/plain": [
       "1224"
      ]
     },
     "execution_count": 14,
     "metadata": {},
     "output_type": "execute_result"
    }
   ],
   "source": [
    "counts.shape[0]"
   ]
  },
  {
   "cell_type": "code",
   "execution_count": 15,
   "metadata": {},
   "outputs": [
    {
     "data": {
      "text/plain": [
       "<BarContainer object of 18 artists>"
      ]
     },
     "execution_count": 15,
     "metadata": {},
     "output_type": "execute_result"
    },
    {
     "data": {
      "image/png": "[encoded data removed]",
      "text/plain": [
       "<Figure size 842.4x595.44 with 1 Axes>"
      ]
     },
     "metadata": {
      "needs_background": "light"
     },
     "output_type": "display_data"
    }
   ],
   "source": [
    "LIMIT = 80000\n",
    "counts = counts[counts.values > LIMIT]\n",
    "plt.barh(y=[i[0] for i in counts.index], width=counts.values)"
   ]
  },
  {
   "cell_type": "markdown",
   "metadata": {},
   "source": [
    "Column **settore economico dettaglio** contains too general information and a lot of values which have a too small amount of count. In order to make an understandable plot i would have to avoid considering too many values, so for now i'll drop it."
   ]
  },
  {
   "cell_type": "code",
   "execution_count": 16,
   "metadata": {},
   "outputs": [],
   "source": [
    "activated_labours.drop(labels=['SETTOREECONOMICODETTAGLIO'], axis=1, inplace=True)"
   ]
  },
  {
   "cell_type": "code",
   "execution_count": 17,
   "metadata": {},
   "outputs": [
    {
     "name": "stdout",
     "output_type": "stream",
     "text": [
      "Your selected dataframe has 8 columns.\n",
      "There are 1 columns that have missing values.\n"
     ]
    },
    {
     "data": {
      "text/html": [
       "<div>\n",
       "<style scoped>\n",
       "    .dataframe tbody tr th:only-of-type {\n",
       "        vertical-align: middle;\n",
       "    }\n",
       "\n",
       "    .dataframe tbody tr th {\n",
       "        vertical-align: top;\n",
       "    }\n",
       "\n",
       "    .dataframe thead th {\n",
       "        text-align: right;\n",
       "    }\n",
       "</style>\n",
       "<table border=\"1\" class=\"dataframe\">\n",
       "  <thead>\n",
       "    <tr style=\"text-align: right;\">\n",
       "      <th></th>\n",
       "      <th>Missing Values</th>\n",
       "      <th>% of Total Values</th>\n",
       "    </tr>\n",
       "  </thead>\n",
       "  <tbody>\n",
       "    <tr>\n",
       "      <th>MODALITALAVORO</th>\n",
       "      <td>440779</td>\n",
       "      <td>4.6</td>\n",
       "    </tr>\n",
       "  </tbody>\n",
       "</table>\n",
       "</div>"
      ],
      "text/plain": [
       "                Missing Values  % of Total Values\n",
       "MODALITALAVORO          440779                4.6"
      ]
     },
     "execution_count": 17,
     "metadata": {},
     "output_type": "execute_result"
    }
   ],
   "source": [
    "utils.missing_values_table(activated_labours)"
   ]
  },
  {
   "cell_type": "markdown",
   "metadata": {},
   "source": [
    "### MODALITA LAVORO"
   ]
  },
  {
   "cell_type": "code",
   "execution_count": 18,
   "metadata": {},
   "outputs": [
    {
     "data": {
      "text/plain": [
       "MODALITALAVORO            \n",
       "TEMPO PIENO                   5337940\n",
       "TEMPO PARZIALE ORIZZONTALE    2026056\n",
       "NON DEFINITO                  1087460\n",
       "TEMPO PARZIALE MISTO           445419\n",
       "TEMPO PARZIALE VERTICALE       242140\n",
       "dtype: int64"
      ]
     },
     "execution_count": 18,
     "metadata": {},
     "output_type": "execute_result"
    }
   ],
   "source": [
    "activated_labours.loc[:, ['MODALITALAVORO']].value_counts()"
   ]
  },
  {
   "cell_type": "markdown",
   "metadata": {},
   "source": [
    "Fill null values into **modalità lavoro** with value **NON DEFINITO**"
   ]
  },
  {
   "cell_type": "code",
   "execution_count": 19,
   "metadata": {},
   "outputs": [
    {
     "data": {
      "text/plain": [
       "0"
      ]
     },
     "execution_count": 19,
     "metadata": {},
     "output_type": "execute_result"
    }
   ],
   "source": [
    "activated_labours['MODALITALAVORO'] = activated_labours['MODALITALAVORO'].fillna('NON DEFINITO')\n",
    "activated_labours['MODALITALAVORO'].isnull().sum()"
   ]
  },
  {
   "cell_type": "code",
   "execution_count": 20,
   "metadata": {},
   "outputs": [
    {
     "data": {
      "text/plain": [
       "<seaborn.axisgrid.FacetGrid at 0x7fe3ab4f7b80>"
      ]
     },
     "execution_count": 20,
     "metadata": {},
     "output_type": "execute_result"
    },
    {
     "data": {
      "image/png": "[encoded data removed]",
      "text/plain": [
       "<Figure size 360x360 with 1 Axes>"
      ]
     },
     "metadata": {
      "needs_background": "light"
     },
     "output_type": "display_data"
    }
   ],
   "source": [
    "sns.catplot(data=activated_labours, y='MODALITALAVORO', kind='count')"
   ]
  },
  {
   "cell_type": "code",
   "execution_count": 21,
   "metadata": {},
   "outputs": [
    {
     "name": "stdout",
     "output_type": "stream",
     "text": [
      "Your selected dataframe has 8 columns.\n",
      "There are 0 columns that have missing values.\n"
     ]
    },
    {
     "data": {
      "text/html": [
       "<div>\n",
       "<style scoped>\n",
       "    .dataframe tbody tr th:only-of-type {\n",
       "        vertical-align: middle;\n",
       "    }\n",
       "\n",
       "    .dataframe tbody tr th {\n",
       "        vertical-align: top;\n",
       "    }\n",
       "\n",
       "    .dataframe thead th {\n",
       "        text-align: right;\n",
       "    }\n",
       "</style>\n",
       "<table border=\"1\" class=\"dataframe\">\n",
       "  <thead>\n",
       "    <tr style=\"text-align: right;\">\n",
       "      <th></th>\n",
       "      <th>Missing Values</th>\n",
       "      <th>% of Total Values</th>\n",
       "    </tr>\n",
       "  </thead>\n",
       "  <tbody>\n",
       "  </tbody>\n",
       "</table>\n",
       "</div>"
      ],
      "text/plain": [
       "Empty DataFrame\n",
       "Columns: [Missing Values, % of Total Values]\n",
       "Index: []"
      ]
     },
     "execution_count": 21,
     "metadata": {},
     "output_type": "execute_result"
    }
   ],
   "source": [
    "utils.missing_values_table(activated_labours)"
   ]
  },
  {
   "cell_type": "markdown",
   "metadata": {},
   "source": [
    "Now the dataframe contains **0** null values."
   ]
  },
  {
   "cell_type": "markdown",
   "metadata": {},
   "source": [
    "### Duplicated records"
   ]
  },
  {
   "cell_type": "code",
   "execution_count": 22,
   "metadata": {},
   "outputs": [
    {
     "data": {
      "text/plain": [
       "2536002"
      ]
     },
     "execution_count": 22,
     "metadata": {},
     "output_type": "execute_result"
    }
   ],
   "source": [
    "activated_labours.duplicated().sum()"
   ]
  },
  {
   "cell_type": "markdown",
   "metadata": {},
   "source": [
    "the presence of duplicated lines is not meaningful because there could be different people with same characteristics having activated a labour in the same day"
   ]
  },
  {
   "cell_type": "markdown",
   "metadata": {},
   "source": [
    "Rename column **ITALIANO** into **NAZIONALITA**"
   ]
  },
  {
   "cell_type": "code",
   "execution_count": 23,
   "metadata": {},
   "outputs": [],
   "source": [
    "activated_labours.rename({'ITALIANO': 'NAZIONALITA'}, axis=1, inplace=True)"
   ]
  },
  {
   "cell_type": "markdown",
   "metadata": {},
   "source": [
    "## Plots of distribution of data"
   ]
  },
  {
   "cell_type": "markdown",
   "metadata": {},
   "source": [
    "### Plot of categorical data distributions"
   ]
  },
  {
   "cell_type": "code",
   "execution_count": 24,
   "metadata": {},
   "outputs": [
    {
     "name": "stdout",
     "output_type": "stream",
     "text": [
      "['GENERE', 'TITOLOSTUDIO', 'CONTRATTO', 'MODALITALAVORO', 'PROVINCIAIMPRESA', 'NAZIONALITA']\n"
     ]
    },
    {
     "data": {
      "image/png": "[encoded data removed]",
      "text/plain": [
       "<Figure size 1800x1440 with 6 Axes>"
      ]
     },
     "metadata": {
      "needs_background": "light"
     },
     "output_type": "display_data"
    }
   ],
   "source": [
    "categorical_features = [col for col in activated_labours if activated_labours[col].dtype == 'object']\n",
    "print(categorical_features)\n",
    "\n",
    "fig = plt.figure(figsize=MID_SIZE)\n",
    "for i, category in enumerate(categorical_features):\n",
    "    ax = fig.add_subplot(2, 3, i+1)\n",
    "    freqs = activated_labours[category].value_counts()\n",
    "    freqs.plot.bar(x=freqs.index, y=freqs.values)\n",
    "    ax.set_title('Distribution of category: %s' % category)\n",
    "    ax.set_xlabel(category)\n",
    "    ax.set_ylabel('value counts')\n",
    "plt.show()"
   ]
  },
  {
   "cell_type": "markdown",
   "metadata": {},
   "source": [
    "### Plot of numerical data distribution"
   ]
  },
  {
   "cell_type": "code",
   "execution_count": 25,
   "metadata": {},
   "outputs": [
    {
     "data": {
      "text/plain": [
       "76879      101\n",
       "9579793    221\n",
       "Name: ETA, dtype: int64"
      ]
     },
     "execution_count": 25,
     "metadata": {},
     "output_type": "execute_result"
    }
   ],
   "source": [
    "activated_labours.ETA[activated_labours.ETA > 100]"
   ]
  },
  {
   "cell_type": "markdown",
   "metadata": {},
   "source": [
    "I remove the person that has 221 years"
   ]
  },
  {
   "cell_type": "code",
   "execution_count": 26,
   "metadata": {},
   "outputs": [
    {
     "data": {
      "text/plain": [
       "101"
      ]
     },
     "execution_count": 26,
     "metadata": {},
     "output_type": "execute_result"
    }
   ],
   "source": [
    "activated_labours = activated_labours[activated_labours.ETA != 221]\n",
    "activated_labours.ETA.max()"
   ]
  },
  {
   "cell_type": "code",
   "execution_count": 27,
   "metadata": {},
   "outputs": [
    {
     "data": {
      "text/plain": [
       "<seaborn.axisgrid.FacetGrid at 0x7fe3aacd1640>"
      ]
     },
     "execution_count": 27,
     "metadata": {},
     "output_type": "execute_result"
    },
    {
     "data": {
      "image/png": "[encoded data removed]",
      "text/plain": [
       "<Figure size 360x360 with 1 Axes>"
      ]
     },
     "metadata": {
      "needs_background": "light"
     },
     "output_type": "display_data"
    }
   ],
   "source": [
    "sns.displot(activated_labours.ETA, bins=10)"
   ]
  },
  {
   "cell_type": "markdown",
   "metadata": {},
   "source": [
    "## Descriptive statistics"
   ]
  },
  {
   "cell_type": "markdown",
   "metadata": {},
   "source": [
    "The following function prints some useful measures of variability in order to have a clearer understanding of the **ETA** column, which is the only column that contains numerical values."
   ]
  },
  {
   "cell_type": "code",
   "execution_count": 28,
   "metadata": {},
   "outputs": [
    {
     "name": "stdout",
     "output_type": "stream",
     "text": [
      "Mean on column ETA: 35.301722072700315\n",
      "Median on column ETA: 34.0\n",
      "Mode on column ETA: 0    25\n",
      "Name: ETA, dtype: int64\n",
      "Variance on column ETA: 138.81999306057614\n",
      "Standard deviation on column ETA: 11.782189654753319\n",
      "Trimmed mean on column ETA with limit 0.1: 34.23565773871471\n",
      "Mean absolute deviation on column ETA: 9.84983217089415\n",
      "Median absolute deviation on column ETA: 9.76870418807588\n"
     ]
    }
   ],
   "source": [
    "utils.variability_measures(activated_labours, column='ETA', limit=0.1)"
   ]
  },
  {
   "cell_type": "code",
   "execution_count": 29,
   "metadata": {},
   "outputs": [],
   "source": [
    "# activated_labours.to_csv('./activated_labours_cleaned.csv')"
   ]
  },
  {
   "cell_type": "markdown",
   "metadata": {},
   "source": [
    "## Add hourly retributions"
   ]
  },
  {
   "cell_type": "markdown",
   "id": "483cb98c",
   "metadata": {},
   "source": [
    "### Hourly retributions with respect to **GENERE**, **TITOLODISTUDIO** and **ANNO**"
   ]
  },
  {
   "cell_type": "code",
   "execution_count": 30,
   "id": "1f832129",
   "metadata": {},
   "outputs": [
    {
     "data": {
      "text/html": [
       "<div>\n",
       "<style scoped>\n",
       "    .dataframe tbody tr th:only-of-type {\n",
       "        vertical-align: middle;\n",
       "    }\n",
       "\n",
       "    .dataframe tbody tr th {\n",
       "        vertical-align: top;\n",
       "    }\n",
       "\n",
       "    .dataframe thead th {\n",
       "        text-align: right;\n",
       "    }\n",
       "</style>\n",
       "<table border=\"1\" class=\"dataframe\">\n",
       "  <thead>\n",
       "    <tr style=\"text-align: right;\">\n",
       "      <th></th>\n",
       "      <th>ITTER107</th>\n",
       "      <th>Territorio</th>\n",
       "      <th>TIPO_DATO7</th>\n",
       "      <th>Tipo dato</th>\n",
       "      <th>SEXISTAT1</th>\n",
       "      <th>Sesso</th>\n",
       "      <th>TITOLO_STUDIO</th>\n",
       "      <th>Titolo di studio</th>\n",
       "      <th>PROFILO_PROF</th>\n",
       "      <th>Qualifica contrattuale</th>\n",
       "      <th>ATECO_2007</th>\n",
       "      <th>Ateco 2007</th>\n",
       "      <th>CLLVT</th>\n",
       "      <th>Classe di dipendenti</th>\n",
       "      <th>TIME</th>\n",
       "      <th>Seleziona periodo</th>\n",
       "      <th>Value</th>\n",
       "      <th>Flag Codes</th>\n",
       "      <th>Flags</th>\n",
       "    </tr>\n",
       "  </thead>\n",
       "  <tbody>\n",
       "    <tr>\n",
       "      <th>0</th>\n",
       "      <td>ITC</td>\n",
       "      <td>Nord-ovest</td>\n",
       "      <td>HOUWAG_ENTEMP_MED_MI</td>\n",
       "      <td>Retribuzione lorda  oraria per ora retribuita ...</td>\n",
       "      <td>1</td>\n",
       "      <td>maschi</td>\n",
       "      <td>11</td>\n",
       "      <td>laurea e post-laurea</td>\n",
       "      <td>6</td>\n",
       "      <td>operaio</td>\n",
       "      <td>B</td>\n",
       "      <td>estrazione di minerali da cave e miniere</td>\n",
       "      <td>TOTAL</td>\n",
       "      <td>totale</td>\n",
       "      <td>2014</td>\n",
       "      <td>2014</td>\n",
       "      <td>13.10</td>\n",
       "      <td>NaN</td>\n",
       "      <td>NaN</td>\n",
       "    </tr>\n",
       "    <tr>\n",
       "      <th>1</th>\n",
       "      <td>ITC</td>\n",
       "      <td>Nord-ovest</td>\n",
       "      <td>HOUWAG_ENTEMP_MED_MI</td>\n",
       "      <td>Retribuzione lorda  oraria per ora retribuita ...</td>\n",
       "      <td>1</td>\n",
       "      <td>maschi</td>\n",
       "      <td>11</td>\n",
       "      <td>laurea e post-laurea</td>\n",
       "      <td>6</td>\n",
       "      <td>operaio</td>\n",
       "      <td>B</td>\n",
       "      <td>estrazione di minerali da cave e miniere</td>\n",
       "      <td>TOTAL</td>\n",
       "      <td>totale</td>\n",
       "      <td>2015</td>\n",
       "      <td>2015</td>\n",
       "      <td>12.44</td>\n",
       "      <td>NaN</td>\n",
       "      <td>NaN</td>\n",
       "    </tr>\n",
       "    <tr>\n",
       "      <th>2</th>\n",
       "      <td>ITC</td>\n",
       "      <td>Nord-ovest</td>\n",
       "      <td>HOUWAG_ENTEMP_MED_MI</td>\n",
       "      <td>Retribuzione lorda  oraria per ora retribuita ...</td>\n",
       "      <td>1</td>\n",
       "      <td>maschi</td>\n",
       "      <td>11</td>\n",
       "      <td>laurea e post-laurea</td>\n",
       "      <td>6</td>\n",
       "      <td>operaio</td>\n",
       "      <td>B</td>\n",
       "      <td>estrazione di minerali da cave e miniere</td>\n",
       "      <td>TOTAL</td>\n",
       "      <td>totale</td>\n",
       "      <td>2016</td>\n",
       "      <td>2016</td>\n",
       "      <td>NaN</td>\n",
       "      <td>c</td>\n",
       "      <td>dato oscurato per la tutela del segreto statis...</td>\n",
       "    </tr>\n",
       "    <tr>\n",
       "      <th>3</th>\n",
       "      <td>ITC</td>\n",
       "      <td>Nord-ovest</td>\n",
       "      <td>HOUWAG_ENTEMP_MED_MI</td>\n",
       "      <td>Retribuzione lorda  oraria per ora retribuita ...</td>\n",
       "      <td>1</td>\n",
       "      <td>maschi</td>\n",
       "      <td>11</td>\n",
       "      <td>laurea e post-laurea</td>\n",
       "      <td>6</td>\n",
       "      <td>operaio</td>\n",
       "      <td>B</td>\n",
       "      <td>estrazione di minerali da cave e miniere</td>\n",
       "      <td>TOTAL</td>\n",
       "      <td>totale</td>\n",
       "      <td>2017</td>\n",
       "      <td>2017</td>\n",
       "      <td>NaN</td>\n",
       "      <td>c</td>\n",
       "      <td>dato oscurato per la tutela del segreto statis...</td>\n",
       "    </tr>\n",
       "    <tr>\n",
       "      <th>4</th>\n",
       "      <td>ITC</td>\n",
       "      <td>Nord-ovest</td>\n",
       "      <td>HOUWAG_ENTEMP_MED_MI</td>\n",
       "      <td>Retribuzione lorda  oraria per ora retribuita ...</td>\n",
       "      <td>1</td>\n",
       "      <td>maschi</td>\n",
       "      <td>11</td>\n",
       "      <td>laurea e post-laurea</td>\n",
       "      <td>6</td>\n",
       "      <td>operaio</td>\n",
       "      <td>B</td>\n",
       "      <td>estrazione di minerali da cave e miniere</td>\n",
       "      <td>TOTAL</td>\n",
       "      <td>totale</td>\n",
       "      <td>2018</td>\n",
       "      <td>2018</td>\n",
       "      <td>NaN</td>\n",
       "      <td>c</td>\n",
       "      <td>dato oscurato per la tutela del segreto statis...</td>\n",
       "    </tr>\n",
       "  </tbody>\n",
       "</table>\n",
       "</div>"
      ],
      "text/plain": [
       "  ITTER107  Territorio            TIPO_DATO7  \\\n",
       "0      ITC  Nord-ovest  HOUWAG_ENTEMP_MED_MI   \n",
       "1      ITC  Nord-ovest  HOUWAG_ENTEMP_MED_MI   \n",
       "2      ITC  Nord-ovest  HOUWAG_ENTEMP_MED_MI   \n",
       "3      ITC  Nord-ovest  HOUWAG_ENTEMP_MED_MI   \n",
       "4      ITC  Nord-ovest  HOUWAG_ENTEMP_MED_MI   \n",
       "\n",
       "                                           Tipo dato  SEXISTAT1   Sesso  \\\n",
       "0  Retribuzione lorda  oraria per ora retribuita ...          1  maschi   \n",
       "1  Retribuzione lorda  oraria per ora retribuita ...          1  maschi   \n",
       "2  Retribuzione lorda  oraria per ora retribuita ...          1  maschi   \n",
       "3  Retribuzione lorda  oraria per ora retribuita ...          1  maschi   \n",
       "4  Retribuzione lorda  oraria per ora retribuita ...          1  maschi   \n",
       "\n",
       "   TITOLO_STUDIO      Titolo di studio  PROFILO_PROF Qualifica contrattuale  \\\n",
       "0             11  laurea e post-laurea             6                operaio   \n",
       "1             11  laurea e post-laurea             6                operaio   \n",
       "2             11  laurea e post-laurea             6                operaio   \n",
       "3             11  laurea e post-laurea             6                operaio   \n",
       "4             11  laurea e post-laurea             6                operaio   \n",
       "\n",
       "  ATECO_2007                                Ateco 2007  CLLVT  \\\n",
       "0          B  estrazione di minerali da cave e miniere  TOTAL   \n",
       "1          B  estrazione di minerali da cave e miniere  TOTAL   \n",
       "2          B  estrazione di minerali da cave e miniere  TOTAL   \n",
       "3          B  estrazione di minerali da cave e miniere  TOTAL   \n",
       "4          B  estrazione di minerali da cave e miniere  TOTAL   \n",
       "\n",
       "  Classe di dipendenti  TIME  Seleziona periodo  Value Flag Codes  \\\n",
       "0               totale  2014               2014  13.10        NaN   \n",
       "1               totale  2015               2015  12.44        NaN   \n",
       "2               totale  2016               2016    NaN          c   \n",
       "3               totale  2017               2017    NaN          c   \n",
       "4               totale  2018               2018    NaN          c   \n",
       "\n",
       "                                               Flags  \n",
       "0                                                NaN  \n",
       "1                                                NaN  \n",
       "2  dato oscurato per la tutela del segreto statis...  \n",
       "3  dato oscurato per la tutela del segreto statis...  \n",
       "4  dato oscurato per la tutela del segreto statis...  "
      ]
     },
     "execution_count": 30,
     "metadata": {},
     "output_type": "execute_result"
    }
   ],
   "source": [
    "retributions = pd.read_csv('datasets/retribuzioni2.csv')\n",
    "retributions.head()"
   ]
  },
  {
   "cell_type": "markdown",
   "id": "187b113a",
   "metadata": {},
   "source": [
    "Firstly clean the dataset"
   ]
  },
  {
   "cell_type": "code",
   "execution_count": 31,
   "id": "66d54bc0",
   "metadata": {},
   "outputs": [
    {
     "data": {
      "text/plain": [
       "(9682, 19)"
      ]
     },
     "execution_count": 31,
     "metadata": {},
     "output_type": "execute_result"
    }
   ],
   "source": [
    "retributions.shape"
   ]
  },
  {
   "cell_type": "code",
   "execution_count": 32,
   "id": "15e51484",
   "metadata": {},
   "outputs": [
    {
     "data": {
      "text/plain": [
       "Index(['ITTER107', 'Territorio', 'TIPO_DATO7', 'Tipo dato', 'SEXISTAT1',\n",
       "       'Sesso', 'TITOLO_STUDIO', 'Titolo di studio', 'PROFILO_PROF',\n",
       "       'Qualifica contrattuale', 'ATECO_2007', 'Ateco 2007', 'CLLVT',\n",
       "       'Classe di dipendenti', 'TIME', 'Seleziona periodo', 'Value',\n",
       "       'Flag Codes', 'Flags'],\n",
       "      dtype='object')"
      ]
     },
     "execution_count": 32,
     "metadata": {},
     "output_type": "execute_result"
    }
   ],
   "source": [
    "retributions.columns"
   ]
  },
  {
   "cell_type": "markdown",
   "id": "271efed1",
   "metadata": {},
   "source": [
    "Dropping unuseful or duplicated columns"
   ]
  },
  {
   "cell_type": "code",
   "execution_count": 33,
   "id": "b962ec5f",
   "metadata": {},
   "outputs": [
    {
     "data": {
      "text/plain": [
       "Index(['Territorio', 'Sesso', 'Titolo di studio', 'Qualifica contrattuale',\n",
       "       'Ateco 2007', 'Seleziona periodo', 'Value'],\n",
       "      dtype='object')"
      ]
     },
     "execution_count": 33,
     "metadata": {},
     "output_type": "execute_result"
    }
   ],
   "source": [
    "retributions2 = retributions.drop(['ITTER107', 'TIPO_DATO7', 'Tipo dato', 'SEXISTAT1', 'TITOLO_STUDIO', 'PROFILO_PROF', 'ATECO_2007', 'CLLVT', 'Classe di dipendenti', 'TIME', 'Flag Codes', 'Flags'], axis=1)\n",
    "retributions2.columns"
   ]
  },
  {
   "cell_type": "markdown",
   "id": "64e542a7",
   "metadata": {},
   "source": [
    "Rename column **Seleziona periodo** in **anno**"
   ]
  },
  {
   "cell_type": "code",
   "execution_count": 34,
   "id": "23e2e07a",
   "metadata": {},
   "outputs": [
    {
     "data": {
      "text/plain": [
       "array([2014, 2015, 2016, 2017, 2018, 2019])"
      ]
     },
     "execution_count": 34,
     "metadata": {},
     "output_type": "execute_result"
    }
   ],
   "source": [
    "retributions2.rename({'Seleziona periodo': 'anno'}, axis=1, inplace=True)\n",
    "retributions2.anno.unique()"
   ]
  },
  {
   "cell_type": "code",
   "execution_count": 35,
   "id": "cd4d4ca5",
   "metadata": {},
   "outputs": [
    {
     "name": "stdout",
     "output_type": "stream",
     "text": [
      "<class 'pandas.core.frame.DataFrame'>\n",
      "RangeIndex: 9682 entries, 0 to 9681\n",
      "Data columns (total 7 columns):\n",
      " #   Column                  Non-Null Count  Dtype  \n",
      "---  ------                  --------------  -----  \n",
      " 0   Territorio              9682 non-null   object \n",
      " 1   Sesso                   9682 non-null   object \n",
      " 2   Titolo di studio        9682 non-null   object \n",
      " 3   Qualifica contrattuale  9682 non-null   object \n",
      " 4   Ateco 2007              9682 non-null   object \n",
      " 5   anno                    9682 non-null   int64  \n",
      " 6   Value                   8758 non-null   float64\n",
      "dtypes: float64(1), int64(1), object(5)\n",
      "memory usage: 529.6+ KB\n"
     ]
    }
   ],
   "source": [
    "retributions2.info()"
   ]
  },
  {
   "cell_type": "markdown",
   "id": "9b2bef1b",
   "metadata": {},
   "source": [
    "### Missing values inspection"
   ]
  },
  {
   "cell_type": "code",
   "execution_count": 36,
   "id": "14bd69c0",
   "metadata": {},
   "outputs": [
    {
     "name": "stdout",
     "output_type": "stream",
     "text": [
      "Your selected dataframe has 7 columns.\n",
      "There are 1 columns that have missing values.\n"
     ]
    },
    {
     "data": {
      "text/html": [
       "<div>\n",
       "<style scoped>\n",
       "    .dataframe tbody tr th:only-of-type {\n",
       "        vertical-align: middle;\n",
       "    }\n",
       "\n",
       "    .dataframe tbody tr th {\n",
       "        vertical-align: top;\n",
       "    }\n",
       "\n",
       "    .dataframe thead th {\n",
       "        text-align: right;\n",
       "    }\n",
       "</style>\n",
       "<table border=\"1\" class=\"dataframe\">\n",
       "  <thead>\n",
       "    <tr style=\"text-align: right;\">\n",
       "      <th></th>\n",
       "      <th>Missing Values</th>\n",
       "      <th>% of Total Values</th>\n",
       "    </tr>\n",
       "  </thead>\n",
       "  <tbody>\n",
       "    <tr>\n",
       "      <th>Value</th>\n",
       "      <td>924</td>\n",
       "      <td>9.5</td>\n",
       "    </tr>\n",
       "  </tbody>\n",
       "</table>\n",
       "</div>"
      ],
      "text/plain": [
       "       Missing Values  % of Total Values\n",
       "Value             924                9.5"
      ]
     },
     "execution_count": 36,
     "metadata": {},
     "output_type": "execute_result"
    }
   ],
   "source": [
    "utils.missing_values_table(retributions2)"
   ]
  },
  {
   "cell_type": "markdown",
   "id": "7a6a6cee",
   "metadata": {},
   "source": [
    "There are some missing values only on the **Values** column. Since there are only a few i'll drop all the rows containig missing values for that column."
   ]
  },
  {
   "cell_type": "code",
   "execution_count": 37,
   "id": "b40df208",
   "metadata": {},
   "outputs": [],
   "source": [
    "retributions3 = retributions2.dropna()"
   ]
  },
  {
   "cell_type": "code",
   "execution_count": 38,
   "id": "e42e4ce9",
   "metadata": {},
   "outputs": [
    {
     "name": "stdout",
     "output_type": "stream",
     "text": [
      "Your selected dataframe has 7 columns.\n",
      "There are 0 columns that have missing values.\n"
     ]
    },
    {
     "data": {
      "text/html": [
       "<div>\n",
       "<style scoped>\n",
       "    .dataframe tbody tr th:only-of-type {\n",
       "        vertical-align: middle;\n",
       "    }\n",
       "\n",
       "    .dataframe tbody tr th {\n",
       "        vertical-align: top;\n",
       "    }\n",
       "\n",
       "    .dataframe thead th {\n",
       "        text-align: right;\n",
       "    }\n",
       "</style>\n",
       "<table border=\"1\" class=\"dataframe\">\n",
       "  <thead>\n",
       "    <tr style=\"text-align: right;\">\n",
       "      <th></th>\n",
       "      <th>Missing Values</th>\n",
       "      <th>% of Total Values</th>\n",
       "    </tr>\n",
       "  </thead>\n",
       "  <tbody>\n",
       "  </tbody>\n",
       "</table>\n",
       "</div>"
      ],
      "text/plain": [
       "Empty DataFrame\n",
       "Columns: [Missing Values, % of Total Values]\n",
       "Index: []"
      ]
     },
     "execution_count": 38,
     "metadata": {},
     "output_type": "execute_result"
    }
   ],
   "source": [
    "utils.missing_values_table(retributions3)"
   ]
  },
  {
   "cell_type": "markdown",
   "id": "b1970617",
   "metadata": {},
   "source": [
    "All missing values have been removed"
   ]
  },
  {
   "cell_type": "markdown",
   "metadata": {},
   "source": [
    "Convert all column names to upper case in order to simplify the join operation"
   ]
  },
  {
   "cell_type": "code",
   "execution_count": 39,
   "id": "649b521c",
   "metadata": {},
   "outputs": [
    {
     "data": {
      "text/html": [
       "<div>\n",
       "<style scoped>\n",
       "    .dataframe tbody tr th:only-of-type {\n",
       "        vertical-align: middle;\n",
       "    }\n",
       "\n",
       "    .dataframe tbody tr th {\n",
       "        vertical-align: top;\n",
       "    }\n",
       "\n",
       "    .dataframe thead th {\n",
       "        text-align: right;\n",
       "    }\n",
       "</style>\n",
       "<table border=\"1\" class=\"dataframe\">\n",
       "  <thead>\n",
       "    <tr style=\"text-align: right;\">\n",
       "      <th></th>\n",
       "      <th>TERRITORIO</th>\n",
       "      <th>SESSO</th>\n",
       "      <th>TITOLO DI STUDIO</th>\n",
       "      <th>QUALIFICA CONTRATTUALE</th>\n",
       "      <th>ATECO 2007</th>\n",
       "      <th>ANNO</th>\n",
       "      <th>VALUE</th>\n",
       "    </tr>\n",
       "  </thead>\n",
       "  <tbody>\n",
       "    <tr>\n",
       "      <th>0</th>\n",
       "      <td>Nord-ovest</td>\n",
       "      <td>maschi</td>\n",
       "      <td>laurea e post-laurea</td>\n",
       "      <td>operaio</td>\n",
       "      <td>estrazione di minerali da cave e miniere</td>\n",
       "      <td>2014</td>\n",
       "      <td>13.10</td>\n",
       "    </tr>\n",
       "    <tr>\n",
       "      <th>1</th>\n",
       "      <td>Nord-ovest</td>\n",
       "      <td>maschi</td>\n",
       "      <td>laurea e post-laurea</td>\n",
       "      <td>operaio</td>\n",
       "      <td>estrazione di minerali da cave e miniere</td>\n",
       "      <td>2015</td>\n",
       "      <td>12.44</td>\n",
       "    </tr>\n",
       "    <tr>\n",
       "      <th>5</th>\n",
       "      <td>Nord-ovest</td>\n",
       "      <td>maschi</td>\n",
       "      <td>laurea e post-laurea</td>\n",
       "      <td>operaio</td>\n",
       "      <td>estrazione di minerali da cave e miniere</td>\n",
       "      <td>2019</td>\n",
       "      <td>13.74</td>\n",
       "    </tr>\n",
       "    <tr>\n",
       "      <th>9</th>\n",
       "      <td>Nord-ovest</td>\n",
       "      <td>maschi</td>\n",
       "      <td>laurea e post-laurea</td>\n",
       "      <td>apprendista</td>\n",
       "      <td>estrazione di minerali da cave e miniere</td>\n",
       "      <td>2017</td>\n",
       "      <td>19.60</td>\n",
       "    </tr>\n",
       "    <tr>\n",
       "      <th>10</th>\n",
       "      <td>Nord-ovest</td>\n",
       "      <td>maschi</td>\n",
       "      <td>laurea e post-laurea</td>\n",
       "      <td>apprendista</td>\n",
       "      <td>estrazione di minerali da cave e miniere</td>\n",
       "      <td>2018</td>\n",
       "      <td>18.24</td>\n",
       "    </tr>\n",
       "  </tbody>\n",
       "</table>\n",
       "</div>"
      ],
      "text/plain": [
       "    TERRITORIO   SESSO      TITOLO DI STUDIO QUALIFICA CONTRATTUALE  \\\n",
       "0   Nord-ovest  maschi  laurea e post-laurea                operaio   \n",
       "1   Nord-ovest  maschi  laurea e post-laurea                operaio   \n",
       "5   Nord-ovest  maschi  laurea e post-laurea                operaio   \n",
       "9   Nord-ovest  maschi  laurea e post-laurea            apprendista   \n",
       "10  Nord-ovest  maschi  laurea e post-laurea            apprendista   \n",
       "\n",
       "                                  ATECO 2007  ANNO  VALUE  \n",
       "0   estrazione di minerali da cave e miniere  2014  13.10  \n",
       "1   estrazione di minerali da cave e miniere  2015  12.44  \n",
       "5   estrazione di minerali da cave e miniere  2019  13.74  \n",
       "9   estrazione di minerali da cave e miniere  2017  19.60  \n",
       "10  estrazione di minerali da cave e miniere  2018  18.24  "
      ]
     },
     "execution_count": 39,
     "metadata": {},
     "output_type": "execute_result"
    }
   ],
   "source": [
    "retributions3.columns = retributions3.columns.str.upper()\n",
    "retributions3.head()"
   ]
  },
  {
   "cell_type": "code",
   "execution_count": 40,
   "id": "8b5d10c3",
   "metadata": {},
   "outputs": [
    {
     "data": {
      "text/plain": [
       "8758"
      ]
     },
     "execution_count": 40,
     "metadata": {},
     "output_type": "execute_result"
    }
   ],
   "source": [
    "retributions3.shape[0]"
   ]
  },
  {
   "cell_type": "markdown",
   "id": "3279359d",
   "metadata": {},
   "source": [
    "Since the dataset **rapporti_di_lavoro_attivati** contains only data that makes reference to Lombardy i'll keep only the records which make reference to **NORD-OVEST** as territory."
   ]
  },
  {
   "cell_type": "code",
   "execution_count": 41,
   "id": "ff51fee8",
   "metadata": {},
   "outputs": [
    {
     "name": "stderr",
     "output_type": "stream",
     "text": [
      "<ipython-input-41-3064745fc066>:2: SettingWithCopyWarning: \n",
      "A value is trying to be set on a copy of a slice from a DataFrame\n",
      "\n",
      "See the caveats in the documentation: https://pandas.pydata.org/pandas-docs/stable/user_guide/indexing.html#returning-a-view-versus-a-copy\n",
      "  retributions4.drop('TERRITORIO', axis=1, inplace=True)\n"
     ]
    },
    {
     "data": {
      "text/plain": [
       "1835"
      ]
     },
     "execution_count": 41,
     "metadata": {},
     "output_type": "execute_result"
    }
   ],
   "source": [
    "retributions4 = retributions3[retributions3['TERRITORIO'] == 'Nord-ovest']\n",
    "retributions4.drop('TERRITORIO', axis=1, inplace=True)\n",
    "retributions4.shape[0]"
   ]
  },
  {
   "cell_type": "markdown",
   "id": "726093bc",
   "metadata": {},
   "source": [
    "Refactoring of some values in order to let them be coherent with tha values of the starting dataframe."
   ]
  },
  {
   "cell_type": "code",
   "execution_count": 42,
   "id": "30b99bf4",
   "metadata": {
    "scrolled": true
   },
   "outputs": [
    {
     "name": "stderr",
     "output_type": "stream",
     "text": [
      "<ipython-input-42-38a676a592ba>:1: SettingWithCopyWarning: \n",
      "A value is trying to be set on a copy of a slice from a DataFrame.\n",
      "Try using .loc[row_indexer,col_indexer] = value instead\n",
      "\n",
      "See the caveats in the documentation: https://pandas.pydata.org/pandas-docs/stable/user_guide/indexing.html#returning-a-view-versus-a-copy\n",
      "  retributions4['SESSO'] = retributions4['SESSO'].replace({'maschi': 'M', 'femmine': 'F'})\n"
     ]
    },
    {
     "data": {
      "text/plain": [
       "array(['M', 'F'], dtype=object)"
      ]
     },
     "execution_count": 42,
     "metadata": {},
     "output_type": "execute_result"
    }
   ],
   "source": [
    "retributions4['SESSO'] = retributions4['SESSO'].replace({'maschi': 'M', 'femmine': 'F'})\n",
    "retributions4['SESSO'].unique() "
   ]
  },
  {
   "cell_type": "code",
   "execution_count": 43,
   "id": "044af0e6",
   "metadata": {},
   "outputs": [
    {
     "name": "stderr",
     "output_type": "stream",
     "text": [
      "<ipython-input-43-d05f8b689524>:1: SettingWithCopyWarning: \n",
      "A value is trying to be set on a copy of a slice from a DataFrame.\n",
      "Try using .loc[row_indexer,col_indexer] = value instead\n",
      "\n",
      "See the caveats in the documentation: https://pandas.pydata.org/pandas-docs/stable/user_guide/indexing.html#returning-a-view-versus-a-copy\n",
      "  retributions4['TITOLO DI STUDIO'] = retributions4['TITOLO DI STUDIO'].str.upper()\n"
     ]
    },
    {
     "data": {
      "text/plain": [
       "array(['LAUREA E POST-LAUREA', 'DIPLOMA',\n",
       "       'NESSUN TITOLO DI STUDIO, LICENZA DI SCUOLA ELEMENTARE E MEDIA'],\n",
       "      dtype=object)"
      ]
     },
     "execution_count": 43,
     "metadata": {},
     "output_type": "execute_result"
    }
   ],
   "source": [
    "retributions4['TITOLO DI STUDIO'] = retributions4['TITOLO DI STUDIO'].str.upper()\n",
    "retributions4['TITOLO DI STUDIO'].unique()"
   ]
  },
  {
   "cell_type": "code",
   "execution_count": 44,
   "id": "3c407597",
   "metadata": {},
   "outputs": [
    {
     "name": "stderr",
     "output_type": "stream",
     "text": [
      "<ipython-input-44-90d111c7d858>:1: SettingWithCopyWarning: \n",
      "A value is trying to be set on a copy of a slice from a DataFrame.\n",
      "Try using .loc[row_indexer,col_indexer] = value instead\n",
      "\n",
      "See the caveats in the documentation: https://pandas.pydata.org/pandas-docs/stable/user_guide/indexing.html#returning-a-view-versus-a-copy\n",
      "  retributions4['QUALIFICA CONTRATTUALE'] = retributions4['QUALIFICA CONTRATTUALE'].str.upper()\n"
     ]
    },
    {
     "data": {
      "text/plain": [
       "array(['OPERAIO', 'APPRENDISTA', 'DIRIGENTE; IMPIEGATO'], dtype=object)"
      ]
     },
     "execution_count": 44,
     "metadata": {},
     "output_type": "execute_result"
    }
   ],
   "source": [
    "retributions4['QUALIFICA CONTRATTUALE'] = retributions4['QUALIFICA CONTRATTUALE'].str.upper()\n",
    "retributions4['QUALIFICA CONTRATTUALE'].unique()"
   ]
  },
  {
   "cell_type": "code",
   "execution_count": 45,
   "id": "1ae85947",
   "metadata": {},
   "outputs": [
    {
     "name": "stderr",
     "output_type": "stream",
     "text": [
      "<ipython-input-45-cbdc431e99de>:1: SettingWithCopyWarning: \n",
      "A value is trying to be set on a copy of a slice from a DataFrame.\n",
      "Try using .loc[row_indexer,col_indexer] = value instead\n",
      "\n",
      "See the caveats in the documentation: https://pandas.pydata.org/pandas-docs/stable/user_guide/indexing.html#returning-a-view-versus-a-copy\n",
      "  retributions4['ATECO 2007'] = retributions4['ATECO 2007'].str.upper()\n"
     ]
    },
    {
     "data": {
      "text/plain": [
       "array(['ESTRAZIONE DI MINERALI DA CAVE E MINIERE',\n",
       "       'ATTIVITÀ MANIFATTURIERE',\n",
       "       'FORNITURA DI ENERGIA ELETTRICA, GAS, VAPORE E ARIA CONDIZIONATA',\n",
       "       'FORNITURA DI ACQUA RETI FOGNARIE, ATTIVITÀ DI GESTIONE DEI RIFIUTI E RISANAMENTO',\n",
       "       'COSTRUZIONI',\n",
       "       \"COMMERCIO ALL'INGROSSO E AL DETTAGLIO, RIPARAZIONE DI AUTOVEICOLI E MOTOCICLI\",\n",
       "       'TRASPORTO E MAGAZZINAGGIO',\n",
       "       'ATTIVITÀ DEI SERVIZI DI ALLOGGIO E DI RISTORAZIONE',\n",
       "       'SERVIZI DI INFORMAZIONE E COMUNICAZIONE',\n",
       "       'ATTIVITÀ FINANZIARIE E ASSICURATIVE', 'ATTIVITÀ IMMOBILIARI',\n",
       "       'ATTIVITÀ PROFESSIONALI, SCIENTIFICHE E TECNICHE',\n",
       "       'NOLEGGIO, AGENZIE DI VIAGGIO, SERVIZI DI SUPPORTO ALLE IMPRESE',\n",
       "       'ISTRUZIONE', 'SANITÀ E ASSISTENZA SOCIALE',\n",
       "       'ATTIVITÀ ARTISTICHE, SPORTIVE, DI INTRATTENIMENTO E DIVERTIMENTO',\n",
       "       'ALTRE ATTIVITÀ DI SERVIZI', 'SERVIZI  (G-S, ESCLUSO O)'],\n",
       "      dtype=object)"
      ]
     },
     "execution_count": 45,
     "metadata": {},
     "output_type": "execute_result"
    }
   ],
   "source": [
    "retributions4['ATECO 2007'] = retributions4['ATECO 2007'].str.upper()\n",
    "retributions4['ATECO 2007'].unique()"
   ]
  },
  {
   "cell_type": "markdown",
   "id": "ce77c88c",
   "metadata": {},
   "source": [
    "### Renaming the columns on which i want to make the join"
   ]
  },
  {
   "cell_type": "code",
   "execution_count": 46,
   "id": "eab3a7d5",
   "metadata": {},
   "outputs": [
    {
     "data": {
      "text/plain": [
       "Index(['SESSO', 'TITOLO DI STUDIO', 'QUALIFICA CONTRATTUALE', 'ATECO 2007',\n",
       "       'ANNO', 'VALUE'],\n",
       "      dtype='object')"
      ]
     },
     "execution_count": 46,
     "metadata": {},
     "output_type": "execute_result"
    }
   ],
   "source": [
    "retributions4.columns"
   ]
  },
  {
   "cell_type": "code",
   "execution_count": 47,
   "id": "b932b2e5",
   "metadata": {},
   "outputs": [
    {
     "data": {
      "text/plain": [
       "Index(['GENERE', 'TITOLOSTUDIO', 'QUALIFICA CONTRATTUALE', 'ATECO 2007',\n",
       "       'ANNO', 'VALUE'],\n",
       "      dtype='object')"
      ]
     },
     "execution_count": 47,
     "metadata": {},
     "output_type": "execute_result"
    }
   ],
   "source": [
    "retributions4 = retributions4.rename({'SESSO': 'GENERE',\n",
    "                      'TITOLO DI STUDIO': 'TITOLOSTUDIO'}, axis=1)\n",
    "retributions4.columns"
   ]
  },
  {
   "cell_type": "markdown",
   "id": "f5bbc6e2",
   "metadata": {},
   "source": [
    "### Adaptations on rapporti_di_lavoro_attivati.csv dataset\n",
    "* In order to let the data be correctly joined i need to transform also some data in the **rapporti_di_lavoro_attivati** dataset.\n",
    "By this way i want to obtain less null values as possible."
   ]
  },
  {
   "cell_type": "markdown",
   "id": "da71d324",
   "metadata": {},
   "source": [
    "Importing..."
   ]
  },
  {
   "cell_type": "code",
   "execution_count": 48,
   "id": "5cd06a56",
   "metadata": {},
   "outputs": [
    {
     "data": {
      "text/html": [
       "<div>\n",
       "<style scoped>\n",
       "    .dataframe tbody tr th:only-of-type {\n",
       "        vertical-align: middle;\n",
       "    }\n",
       "\n",
       "    .dataframe tbody tr th {\n",
       "        vertical-align: top;\n",
       "    }\n",
       "\n",
       "    .dataframe thead th {\n",
       "        text-align: right;\n",
       "    }\n",
       "</style>\n",
       "<table border=\"1\" class=\"dataframe\">\n",
       "  <thead>\n",
       "    <tr style=\"text-align: right;\">\n",
       "      <th></th>\n",
       "      <th>DATA</th>\n",
       "      <th>GENERE</th>\n",
       "      <th>ETA</th>\n",
       "      <th>TITOLOSTUDIO</th>\n",
       "      <th>CONTRATTO</th>\n",
       "      <th>MODALITALAVORO</th>\n",
       "      <th>PROVINCIAIMPRESA</th>\n",
       "      <th>NAZIONALITA</th>\n",
       "    </tr>\n",
       "  </thead>\n",
       "  <tbody>\n",
       "    <tr>\n",
       "      <th>0</th>\n",
       "      <td>1973-02-01</td>\n",
       "      <td>F</td>\n",
       "      <td>20</td>\n",
       "      <td>NESSUN TITOLO DI STUDIO</td>\n",
       "      <td>LAVORO DOMESTICO A TEMPO INDETERMINATO</td>\n",
       "      <td>TEMPO PARZIALE ORIZZONTALE</td>\n",
       "      <td>MILANO</td>\n",
       "      <td>ITALIA</td>\n",
       "    </tr>\n",
       "    <tr>\n",
       "      <th>1</th>\n",
       "      <td>1974-11-06</td>\n",
       "      <td>F</td>\n",
       "      <td>21</td>\n",
       "      <td>NESSUN TITOLO DI STUDIO</td>\n",
       "      <td>LAVORO DOMESTICO A TEMPO INDETERMINATO</td>\n",
       "      <td>TEMPO PARZIALE ORIZZONTALE</td>\n",
       "      <td>MILANO</td>\n",
       "      <td>ITALIA</td>\n",
       "    </tr>\n",
       "    <tr>\n",
       "      <th>2</th>\n",
       "      <td>1976-01-10</td>\n",
       "      <td>F</td>\n",
       "      <td>21</td>\n",
       "      <td>NESSUN TITOLO DI STUDIO</td>\n",
       "      <td>LAVORO DOMESTICO A TEMPO INDETERMINATO</td>\n",
       "      <td>TEMPO PARZIALE ORIZZONTALE</td>\n",
       "      <td>BERGAMO</td>\n",
       "      <td>ITALIA</td>\n",
       "    </tr>\n",
       "    <tr>\n",
       "      <th>3</th>\n",
       "      <td>1978-01-05</td>\n",
       "      <td>M</td>\n",
       "      <td>25</td>\n",
       "      <td>NESSUN TITOLO DI STUDIO</td>\n",
       "      <td>LAVORO DOMESTICO A TEMPO INDETERMINATO</td>\n",
       "      <td>TEMPO PIENO</td>\n",
       "      <td>MILANO</td>\n",
       "      <td>ITALIA</td>\n",
       "    </tr>\n",
       "    <tr>\n",
       "      <th>4</th>\n",
       "      <td>1978-10-07</td>\n",
       "      <td>M</td>\n",
       "      <td>26</td>\n",
       "      <td>NESSUN TITOLO DI STUDIO</td>\n",
       "      <td>LAVORO DOMESTICO A TEMPO INDETERMINATO</td>\n",
       "      <td>TEMPO PIENO</td>\n",
       "      <td>MILANO</td>\n",
       "      <td>ITALIA</td>\n",
       "    </tr>\n",
       "  </tbody>\n",
       "</table>\n",
       "</div>"
      ],
      "text/plain": [
       "        DATA GENERE  ETA             TITOLOSTUDIO  \\\n",
       "0 1973-02-01      F   20  NESSUN TITOLO DI STUDIO   \n",
       "1 1974-11-06      F   21  NESSUN TITOLO DI STUDIO   \n",
       "2 1976-01-10      F   21  NESSUN TITOLO DI STUDIO   \n",
       "3 1978-01-05      M   25  NESSUN TITOLO DI STUDIO   \n",
       "4 1978-10-07      M   26  NESSUN TITOLO DI STUDIO   \n",
       "\n",
       "                                CONTRATTO              MODALITALAVORO  \\\n",
       "0  LAVORO DOMESTICO A TEMPO INDETERMINATO  TEMPO PARZIALE ORIZZONTALE   \n",
       "1  LAVORO DOMESTICO A TEMPO INDETERMINATO  TEMPO PARZIALE ORIZZONTALE   \n",
       "2  LAVORO DOMESTICO A TEMPO INDETERMINATO  TEMPO PARZIALE ORIZZONTALE   \n",
       "3  LAVORO DOMESTICO A TEMPO INDETERMINATO                 TEMPO PIENO   \n",
       "4  LAVORO DOMESTICO A TEMPO INDETERMINATO                 TEMPO PIENO   \n",
       "\n",
       "  PROVINCIAIMPRESA NAZIONALITA  \n",
       "0           MILANO      ITALIA  \n",
       "1           MILANO      ITALIA  \n",
       "2          BERGAMO      ITALIA  \n",
       "3           MILANO      ITALIA  \n",
       "4           MILANO      ITALIA  "
      ]
     },
     "execution_count": 48,
     "metadata": {},
     "output_type": "execute_result"
    }
   ],
   "source": [
    "activated_cleaned = pd.read_csv('./datasets/activated_labours_cleaned.csv', parse_dates=['DATA'], index_col=0)\n",
    "# activated_cleaned.drop('Unnamed: 0', axis=1, inplace=True)\n",
    "# activated_cleaned.set_index('DATA', inplace=True)\n",
    "activated_cleaned.head()"
   ]
  },
  {
   "cell_type": "markdown",
   "id": "fe71e95c",
   "metadata": {},
   "source": [
    "Create column **ANNO** for joining purposes"
   ]
  },
  {
   "cell_type": "code",
   "execution_count": 49,
   "id": "3b2a1977",
   "metadata": {},
   "outputs": [
    {
     "data": {
      "text/html": [
       "<div>\n",
       "<style scoped>\n",
       "    .dataframe tbody tr th:only-of-type {\n",
       "        vertical-align: middle;\n",
       "    }\n",
       "\n",
       "    .dataframe tbody tr th {\n",
       "        vertical-align: top;\n",
       "    }\n",
       "\n",
       "    .dataframe thead th {\n",
       "        text-align: right;\n",
       "    }\n",
       "</style>\n",
       "<table border=\"1\" class=\"dataframe\">\n",
       "  <thead>\n",
       "    <tr style=\"text-align: right;\">\n",
       "      <th></th>\n",
       "      <th>DATA</th>\n",
       "      <th>GENERE</th>\n",
       "      <th>ETA</th>\n",
       "      <th>TITOLOSTUDIO</th>\n",
       "      <th>CONTRATTO</th>\n",
       "      <th>MODALITALAVORO</th>\n",
       "      <th>PROVINCIAIMPRESA</th>\n",
       "      <th>NAZIONALITA</th>\n",
       "      <th>ANNO</th>\n",
       "    </tr>\n",
       "  </thead>\n",
       "  <tbody>\n",
       "    <tr>\n",
       "      <th>0</th>\n",
       "      <td>1973-02-01</td>\n",
       "      <td>F</td>\n",
       "      <td>20</td>\n",
       "      <td>NESSUN TITOLO DI STUDIO</td>\n",
       "      <td>LAVORO DOMESTICO A TEMPO INDETERMINATO</td>\n",
       "      <td>TEMPO PARZIALE ORIZZONTALE</td>\n",
       "      <td>MILANO</td>\n",
       "      <td>ITALIA</td>\n",
       "      <td>1973</td>\n",
       "    </tr>\n",
       "    <tr>\n",
       "      <th>1</th>\n",
       "      <td>1974-11-06</td>\n",
       "      <td>F</td>\n",
       "      <td>21</td>\n",
       "      <td>NESSUN TITOLO DI STUDIO</td>\n",
       "      <td>LAVORO DOMESTICO A TEMPO INDETERMINATO</td>\n",
       "      <td>TEMPO PARZIALE ORIZZONTALE</td>\n",
       "      <td>MILANO</td>\n",
       "      <td>ITALIA</td>\n",
       "      <td>1974</td>\n",
       "    </tr>\n",
       "    <tr>\n",
       "      <th>2</th>\n",
       "      <td>1976-01-10</td>\n",
       "      <td>F</td>\n",
       "      <td>21</td>\n",
       "      <td>NESSUN TITOLO DI STUDIO</td>\n",
       "      <td>LAVORO DOMESTICO A TEMPO INDETERMINATO</td>\n",
       "      <td>TEMPO PARZIALE ORIZZONTALE</td>\n",
       "      <td>BERGAMO</td>\n",
       "      <td>ITALIA</td>\n",
       "      <td>1976</td>\n",
       "    </tr>\n",
       "    <tr>\n",
       "      <th>3</th>\n",
       "      <td>1978-01-05</td>\n",
       "      <td>M</td>\n",
       "      <td>25</td>\n",
       "      <td>NESSUN TITOLO DI STUDIO</td>\n",
       "      <td>LAVORO DOMESTICO A TEMPO INDETERMINATO</td>\n",
       "      <td>TEMPO PIENO</td>\n",
       "      <td>MILANO</td>\n",
       "      <td>ITALIA</td>\n",
       "      <td>1978</td>\n",
       "    </tr>\n",
       "    <tr>\n",
       "      <th>4</th>\n",
       "      <td>1978-10-07</td>\n",
       "      <td>M</td>\n",
       "      <td>26</td>\n",
       "      <td>NESSUN TITOLO DI STUDIO</td>\n",
       "      <td>LAVORO DOMESTICO A TEMPO INDETERMINATO</td>\n",
       "      <td>TEMPO PIENO</td>\n",
       "      <td>MILANO</td>\n",
       "      <td>ITALIA</td>\n",
       "      <td>1978</td>\n",
       "    </tr>\n",
       "  </tbody>\n",
       "</table>\n",
       "</div>"
      ],
      "text/plain": [
       "        DATA GENERE  ETA             TITOLOSTUDIO  \\\n",
       "0 1973-02-01      F   20  NESSUN TITOLO DI STUDIO   \n",
       "1 1974-11-06      F   21  NESSUN TITOLO DI STUDIO   \n",
       "2 1976-01-10      F   21  NESSUN TITOLO DI STUDIO   \n",
       "3 1978-01-05      M   25  NESSUN TITOLO DI STUDIO   \n",
       "4 1978-10-07      M   26  NESSUN TITOLO DI STUDIO   \n",
       "\n",
       "                                CONTRATTO              MODALITALAVORO  \\\n",
       "0  LAVORO DOMESTICO A TEMPO INDETERMINATO  TEMPO PARZIALE ORIZZONTALE   \n",
       "1  LAVORO DOMESTICO A TEMPO INDETERMINATO  TEMPO PARZIALE ORIZZONTALE   \n",
       "2  LAVORO DOMESTICO A TEMPO INDETERMINATO  TEMPO PARZIALE ORIZZONTALE   \n",
       "3  LAVORO DOMESTICO A TEMPO INDETERMINATO                 TEMPO PIENO   \n",
       "4  LAVORO DOMESTICO A TEMPO INDETERMINATO                 TEMPO PIENO   \n",
       "\n",
       "  PROVINCIAIMPRESA NAZIONALITA  ANNO  \n",
       "0           MILANO      ITALIA  1973  \n",
       "1           MILANO      ITALIA  1974  \n",
       "2          BERGAMO      ITALIA  1976  \n",
       "3           MILANO      ITALIA  1978  \n",
       "4           MILANO      ITALIA  1978  "
      ]
     },
     "execution_count": 49,
     "metadata": {},
     "output_type": "execute_result"
    }
   ],
   "source": [
    "activated_cleaned['ANNO'] = pd.DatetimeIndex(activated_cleaned.DATA).year\n",
    "activated_cleaned.head()"
   ]
  },
  {
   "cell_type": "code",
   "execution_count": 50,
   "id": "e7ca1ddd",
   "metadata": {},
   "outputs": [
    {
     "data": {
      "text/plain": [
       "array(['NESSUN TITOLO DI STUDIO', 'LICENZA MEDIA', 'LICENZA ELEMENTARE',\n",
       "       \"DIPLOMA DI ISTRUZIONE SECONDARIA SUPERIORE  CHE PERMETTE L'ACCESSO ALL'UNIVERSITA\",\n",
       "       'LAUREA - Vecchio o nuovo ordinamento',\n",
       "       \"TITOLO DI ISTRUZIONE SECONDARIA SUPERIORE (SCOLASTICA ED EXTRA-SCOLASTICA) CHE NON PERMETTE L'ACCESSO ALL'UNIVERSITÀ ()\",\n",
       "       'MASTER UNIVERSITARIO DI PRIMO LIVELLO',\n",
       "       'DIPLOMA TERZIARIO EXTRA-UNIVERSITARIO', 'DIPLOMA UNIVERSITARIO',\n",
       "       'DIPLOMA DI SPECIALIZZAZIONE', 'TITOLO DI DOTTORE DI RICERCA',\n",
       "       'TITOLO DI STUDIO POST-LAUREA'], dtype=object)"
      ]
     },
     "execution_count": 50,
     "metadata": {},
     "output_type": "execute_result"
    }
   ],
   "source": [
    "activated_cleaned['TITOLOSTUDIO'].unique()"
   ]
  },
  {
   "cell_type": "code",
   "execution_count": 51,
   "id": "a97777bb",
   "metadata": {},
   "outputs": [
    {
     "data": {
      "text/plain": [
       "array(['LAUREA E POST-LAUREA', 'DIPLOMA',\n",
       "       'NESSUN TITOLO DI STUDIO, LICENZA DI SCUOLA ELEMENTARE E MEDIA'],\n",
       "      dtype=object)"
      ]
     },
     "execution_count": 51,
     "metadata": {},
     "output_type": "execute_result"
    }
   ],
   "source": [
    "retributions4['TITOLOSTUDIO'].unique()"
   ]
  },
  {
   "cell_type": "markdown",
   "metadata": {},
   "source": [
    "I reduce the values of **TITOLOSTUDIO** in order to increase the compatibility between the two datasets at joining."
   ]
  },
  {
   "cell_type": "code",
   "execution_count": 52,
   "id": "958a3b57",
   "metadata": {},
   "outputs": [
    {
     "data": {
      "text/html": [
       "<div>\n",
       "<style scoped>\n",
       "    .dataframe tbody tr th:only-of-type {\n",
       "        vertical-align: middle;\n",
       "    }\n",
       "\n",
       "    .dataframe tbody tr th {\n",
       "        vertical-align: top;\n",
       "    }\n",
       "\n",
       "    .dataframe thead th {\n",
       "        text-align: right;\n",
       "    }\n",
       "</style>\n",
       "<table border=\"1\" class=\"dataframe\">\n",
       "  <thead>\n",
       "    <tr style=\"text-align: right;\">\n",
       "      <th></th>\n",
       "      <th>DATA</th>\n",
       "      <th>GENERE</th>\n",
       "      <th>ETA</th>\n",
       "      <th>TITOLOSTUDIO</th>\n",
       "      <th>CONTRATTO</th>\n",
       "      <th>MODALITALAVORO</th>\n",
       "      <th>PROVINCIAIMPRESA</th>\n",
       "      <th>NAZIONALITA</th>\n",
       "      <th>ANNO</th>\n",
       "    </tr>\n",
       "  </thead>\n",
       "  <tbody>\n",
       "    <tr>\n",
       "      <th>0</th>\n",
       "      <td>1973-02-01</td>\n",
       "      <td>F</td>\n",
       "      <td>20</td>\n",
       "      <td>NESSUN TITOLO DI STUDIO, LICENZA DI SCUOLA ELE...</td>\n",
       "      <td>LAVORO DOMESTICO A TEMPO INDETERMINATO</td>\n",
       "      <td>TEMPO PARZIALE ORIZZONTALE</td>\n",
       "      <td>MILANO</td>\n",
       "      <td>ITALIA</td>\n",
       "      <td>1973</td>\n",
       "    </tr>\n",
       "    <tr>\n",
       "      <th>1</th>\n",
       "      <td>1974-11-06</td>\n",
       "      <td>F</td>\n",
       "      <td>21</td>\n",
       "      <td>NESSUN TITOLO DI STUDIO, LICENZA DI SCUOLA ELE...</td>\n",
       "      <td>LAVORO DOMESTICO A TEMPO INDETERMINATO</td>\n",
       "      <td>TEMPO PARZIALE ORIZZONTALE</td>\n",
       "      <td>MILANO</td>\n",
       "      <td>ITALIA</td>\n",
       "      <td>1974</td>\n",
       "    </tr>\n",
       "    <tr>\n",
       "      <th>2</th>\n",
       "      <td>1976-01-10</td>\n",
       "      <td>F</td>\n",
       "      <td>21</td>\n",
       "      <td>NESSUN TITOLO DI STUDIO, LICENZA DI SCUOLA ELE...</td>\n",
       "      <td>LAVORO DOMESTICO A TEMPO INDETERMINATO</td>\n",
       "      <td>TEMPO PARZIALE ORIZZONTALE</td>\n",
       "      <td>BERGAMO</td>\n",
       "      <td>ITALIA</td>\n",
       "      <td>1976</td>\n",
       "    </tr>\n",
       "    <tr>\n",
       "      <th>3</th>\n",
       "      <td>1978-01-05</td>\n",
       "      <td>M</td>\n",
       "      <td>25</td>\n",
       "      <td>NESSUN TITOLO DI STUDIO, LICENZA DI SCUOLA ELE...</td>\n",
       "      <td>LAVORO DOMESTICO A TEMPO INDETERMINATO</td>\n",
       "      <td>TEMPO PIENO</td>\n",
       "      <td>MILANO</td>\n",
       "      <td>ITALIA</td>\n",
       "      <td>1978</td>\n",
       "    </tr>\n",
       "    <tr>\n",
       "      <th>4</th>\n",
       "      <td>1978-10-07</td>\n",
       "      <td>M</td>\n",
       "      <td>26</td>\n",
       "      <td>NESSUN TITOLO DI STUDIO, LICENZA DI SCUOLA ELE...</td>\n",
       "      <td>LAVORO DOMESTICO A TEMPO INDETERMINATO</td>\n",
       "      <td>TEMPO PIENO</td>\n",
       "      <td>MILANO</td>\n",
       "      <td>ITALIA</td>\n",
       "      <td>1978</td>\n",
       "    </tr>\n",
       "  </tbody>\n",
       "</table>\n",
       "</div>"
      ],
      "text/plain": [
       "        DATA GENERE  ETA                                       TITOLOSTUDIO  \\\n",
       "0 1973-02-01      F   20  NESSUN TITOLO DI STUDIO, LICENZA DI SCUOLA ELE...   \n",
       "1 1974-11-06      F   21  NESSUN TITOLO DI STUDIO, LICENZA DI SCUOLA ELE...   \n",
       "2 1976-01-10      F   21  NESSUN TITOLO DI STUDIO, LICENZA DI SCUOLA ELE...   \n",
       "3 1978-01-05      M   25  NESSUN TITOLO DI STUDIO, LICENZA DI SCUOLA ELE...   \n",
       "4 1978-10-07      M   26  NESSUN TITOLO DI STUDIO, LICENZA DI SCUOLA ELE...   \n",
       "\n",
       "                                CONTRATTO              MODALITALAVORO  \\\n",
       "0  LAVORO DOMESTICO A TEMPO INDETERMINATO  TEMPO PARZIALE ORIZZONTALE   \n",
       "1  LAVORO DOMESTICO A TEMPO INDETERMINATO  TEMPO PARZIALE ORIZZONTALE   \n",
       "2  LAVORO DOMESTICO A TEMPO INDETERMINATO  TEMPO PARZIALE ORIZZONTALE   \n",
       "3  LAVORO DOMESTICO A TEMPO INDETERMINATO                 TEMPO PIENO   \n",
       "4  LAVORO DOMESTICO A TEMPO INDETERMINATO                 TEMPO PIENO   \n",
       "\n",
       "  PROVINCIAIMPRESA NAZIONALITA  ANNO  \n",
       "0           MILANO      ITALIA  1973  \n",
       "1           MILANO      ITALIA  1974  \n",
       "2          BERGAMO      ITALIA  1976  \n",
       "3           MILANO      ITALIA  1978  \n",
       "4           MILANO      ITALIA  1978  "
      ]
     },
     "execution_count": 52,
     "metadata": {},
     "output_type": "execute_result"
    }
   ],
   "source": [
    "study_titles_map = {'NESSUN TITOLO DI STUDIO': 'NESSUN TITOLO DI STUDIO, LICENZA DI SCUOLA ELEMENTARE E MEDIA',\n",
    "                    'LICENZA MEDIA': 'NESSUN TITOLO DI STUDIO, LICENZA DI SCUOLA ELEMENTARE E MEDIA',\n",
    "                    'LICENZA ELEMENTARE': 'NESSUN TITOLO DI STUDIO, LICENZA DI SCUOLA ELEMENTARE E MEDIA',\n",
    "                    'LAUREA': 'LAUREA E POST-LAUREA',\n",
    "                    'LAUREA - Vecchio o nuovo ordinamento': 'LAUREA E POST-LAUREA',\n",
    "                    'TITOLO DI STUDIO POST-LAUREA': 'LAUREA E POST-LAUREA',\n",
    "                    'DIPLOMA DI ISTRUZIONE SECONDARIA SUPERIORE  CHE PERMETTE L\\'ACCESSO ALL\\'UNIVERSITA': 'DIPLOMA DI ISTRUZIONE SECONDARIA SUPERIORE, TERZIARIO EXTRA-UNIVERSITARIO, UNIVERSITARIO',\n",
    "                    'DIPLOMA TERZIARIO EXTRA-UNIVERSITARIO': 'DIPLOMA DI ISTRUZIONE SECONDARIA SUPERIORE, TERZIARIO EXTRA-UNIVERSITARIO, UNIVERSITARIO',\n",
    "                    'DIPLOMA UNIVERSITARIO' : 'DIPLOMA DI ISTRUZIONE SECONDARIA SUPERIORE, TERZIARIO EXTRA-UNIVERSITARIO, UNIVERSITARIO'}\n",
    "activated_cleaned['TITOLOSTUDIO'] = activated_cleaned['TITOLOSTUDIO'].replace(study_titles_map)\n",
    "activated_cleaned.head()"
   ]
  },
  {
   "cell_type": "markdown",
   "metadata": {},
   "source": [
    "Modify also a value in the **retribuzioni** dataset."
   ]
  },
  {
   "cell_type": "code",
   "execution_count": 53,
   "id": "cbd96a3e",
   "metadata": {},
   "outputs": [
    {
     "data": {
      "text/html": [
       "<div>\n",
       "<style scoped>\n",
       "    .dataframe tbody tr th:only-of-type {\n",
       "        vertical-align: middle;\n",
       "    }\n",
       "\n",
       "    .dataframe tbody tr th {\n",
       "        vertical-align: top;\n",
       "    }\n",
       "\n",
       "    .dataframe thead th {\n",
       "        text-align: right;\n",
       "    }\n",
       "</style>\n",
       "<table border=\"1\" class=\"dataframe\">\n",
       "  <thead>\n",
       "    <tr style=\"text-align: right;\">\n",
       "      <th></th>\n",
       "      <th>GENERE</th>\n",
       "      <th>TITOLOSTUDIO</th>\n",
       "      <th>QUALIFICA CONTRATTUALE</th>\n",
       "      <th>ATECO 2007</th>\n",
       "      <th>ANNO</th>\n",
       "      <th>VALUE</th>\n",
       "    </tr>\n",
       "  </thead>\n",
       "  <tbody>\n",
       "    <tr>\n",
       "      <th>0</th>\n",
       "      <td>M</td>\n",
       "      <td>LAUREA E POST-LAUREA</td>\n",
       "      <td>OPERAIO</td>\n",
       "      <td>ESTRAZIONE DI MINERALI DA CAVE E MINIERE</td>\n",
       "      <td>2014</td>\n",
       "      <td>13.10</td>\n",
       "    </tr>\n",
       "    <tr>\n",
       "      <th>1</th>\n",
       "      <td>M</td>\n",
       "      <td>LAUREA E POST-LAUREA</td>\n",
       "      <td>OPERAIO</td>\n",
       "      <td>ESTRAZIONE DI MINERALI DA CAVE E MINIERE</td>\n",
       "      <td>2015</td>\n",
       "      <td>12.44</td>\n",
       "    </tr>\n",
       "    <tr>\n",
       "      <th>5</th>\n",
       "      <td>M</td>\n",
       "      <td>LAUREA E POST-LAUREA</td>\n",
       "      <td>OPERAIO</td>\n",
       "      <td>ESTRAZIONE DI MINERALI DA CAVE E MINIERE</td>\n",
       "      <td>2019</td>\n",
       "      <td>13.74</td>\n",
       "    </tr>\n",
       "    <tr>\n",
       "      <th>9</th>\n",
       "      <td>M</td>\n",
       "      <td>LAUREA E POST-LAUREA</td>\n",
       "      <td>APPRENDISTA</td>\n",
       "      <td>ESTRAZIONE DI MINERALI DA CAVE E MINIERE</td>\n",
       "      <td>2017</td>\n",
       "      <td>19.60</td>\n",
       "    </tr>\n",
       "    <tr>\n",
       "      <th>10</th>\n",
       "      <td>M</td>\n",
       "      <td>LAUREA E POST-LAUREA</td>\n",
       "      <td>APPRENDISTA</td>\n",
       "      <td>ESTRAZIONE DI MINERALI DA CAVE E MINIERE</td>\n",
       "      <td>2018</td>\n",
       "      <td>18.24</td>\n",
       "    </tr>\n",
       "  </tbody>\n",
       "</table>\n",
       "</div>"
      ],
      "text/plain": [
       "   GENERE          TITOLOSTUDIO QUALIFICA CONTRATTUALE  \\\n",
       "0       M  LAUREA E POST-LAUREA                OPERAIO   \n",
       "1       M  LAUREA E POST-LAUREA                OPERAIO   \n",
       "5       M  LAUREA E POST-LAUREA                OPERAIO   \n",
       "9       M  LAUREA E POST-LAUREA            APPRENDISTA   \n",
       "10      M  LAUREA E POST-LAUREA            APPRENDISTA   \n",
       "\n",
       "                                  ATECO 2007  ANNO  VALUE  \n",
       "0   ESTRAZIONE DI MINERALI DA CAVE E MINIERE  2014  13.10  \n",
       "1   ESTRAZIONE DI MINERALI DA CAVE E MINIERE  2015  12.44  \n",
       "5   ESTRAZIONE DI MINERALI DA CAVE E MINIERE  2019  13.74  \n",
       "9   ESTRAZIONE DI MINERALI DA CAVE E MINIERE  2017  19.60  \n",
       "10  ESTRAZIONE DI MINERALI DA CAVE E MINIERE  2018  18.24  "
      ]
     },
     "execution_count": 53,
     "metadata": {},
     "output_type": "execute_result"
    }
   ],
   "source": [
    "retributions4['TITOLOSTUDIO'] = retributions4['TITOLOSTUDIO'].replace({'DIPLOMA': 'DIPLOMA DI ISTRUZIONE SECONDARIA SUPERIORE, TERZIARIO EXTRA-UNIVERSITARIO, UNIVERSITARIO'})\n",
    "retributions4.head()"
   ]
  },
  {
   "cell_type": "code",
   "execution_count": 54,
   "id": "f51e61d8",
   "metadata": {},
   "outputs": [
    {
     "data": {
      "text/html": [
       "<div>\n",
       "<style scoped>\n",
       "    .dataframe tbody tr th:only-of-type {\n",
       "        vertical-align: middle;\n",
       "    }\n",
       "\n",
       "    .dataframe tbody tr th {\n",
       "        vertical-align: top;\n",
       "    }\n",
       "\n",
       "    .dataframe thead th {\n",
       "        text-align: right;\n",
       "    }\n",
       "</style>\n",
       "<table border=\"1\" class=\"dataframe\">\n",
       "  <thead>\n",
       "    <tr style=\"text-align: right;\">\n",
       "      <th></th>\n",
       "      <th>DATA</th>\n",
       "      <th>GENERE</th>\n",
       "      <th>ETA</th>\n",
       "      <th>TITOLOSTUDIO</th>\n",
       "      <th>CONTRATTO</th>\n",
       "      <th>MODALITALAVORO</th>\n",
       "      <th>PROVINCIAIMPRESA</th>\n",
       "      <th>NAZIONALITA</th>\n",
       "    </tr>\n",
       "    <tr>\n",
       "      <th>ANNO</th>\n",
       "      <th></th>\n",
       "      <th></th>\n",
       "      <th></th>\n",
       "      <th></th>\n",
       "      <th></th>\n",
       "      <th></th>\n",
       "      <th></th>\n",
       "      <th></th>\n",
       "    </tr>\n",
       "  </thead>\n",
       "  <tbody>\n",
       "    <tr>\n",
       "      <th>1973</th>\n",
       "      <td>1</td>\n",
       "      <td>1</td>\n",
       "      <td>1</td>\n",
       "      <td>1</td>\n",
       "      <td>1</td>\n",
       "      <td>1</td>\n",
       "      <td>1</td>\n",
       "      <td>1</td>\n",
       "    </tr>\n",
       "    <tr>\n",
       "      <th>1974</th>\n",
       "      <td>1</td>\n",
       "      <td>1</td>\n",
       "      <td>1</td>\n",
       "      <td>1</td>\n",
       "      <td>1</td>\n",
       "      <td>1</td>\n",
       "      <td>1</td>\n",
       "      <td>1</td>\n",
       "    </tr>\n",
       "    <tr>\n",
       "      <th>1976</th>\n",
       "      <td>1</td>\n",
       "      <td>1</td>\n",
       "      <td>1</td>\n",
       "      <td>1</td>\n",
       "      <td>1</td>\n",
       "      <td>1</td>\n",
       "      <td>1</td>\n",
       "      <td>1</td>\n",
       "    </tr>\n",
       "    <tr>\n",
       "      <th>1978</th>\n",
       "      <td>2</td>\n",
       "      <td>2</td>\n",
       "      <td>2</td>\n",
       "      <td>2</td>\n",
       "      <td>2</td>\n",
       "      <td>2</td>\n",
       "      <td>2</td>\n",
       "      <td>2</td>\n",
       "    </tr>\n",
       "    <tr>\n",
       "      <th>1979</th>\n",
       "      <td>1</td>\n",
       "      <td>1</td>\n",
       "      <td>1</td>\n",
       "      <td>1</td>\n",
       "      <td>1</td>\n",
       "      <td>1</td>\n",
       "      <td>1</td>\n",
       "      <td>1</td>\n",
       "    </tr>\n",
       "    <tr>\n",
       "      <th>1980</th>\n",
       "      <td>1</td>\n",
       "      <td>1</td>\n",
       "      <td>1</td>\n",
       "      <td>1</td>\n",
       "      <td>1</td>\n",
       "      <td>1</td>\n",
       "      <td>1</td>\n",
       "      <td>1</td>\n",
       "    </tr>\n",
       "    <tr>\n",
       "      <th>1981</th>\n",
       "      <td>1</td>\n",
       "      <td>1</td>\n",
       "      <td>1</td>\n",
       "      <td>1</td>\n",
       "      <td>1</td>\n",
       "      <td>1</td>\n",
       "      <td>1</td>\n",
       "      <td>1</td>\n",
       "    </tr>\n",
       "    <tr>\n",
       "      <th>1982</th>\n",
       "      <td>1</td>\n",
       "      <td>1</td>\n",
       "      <td>1</td>\n",
       "      <td>1</td>\n",
       "      <td>1</td>\n",
       "      <td>1</td>\n",
       "      <td>1</td>\n",
       "      <td>1</td>\n",
       "    </tr>\n",
       "    <tr>\n",
       "      <th>1988</th>\n",
       "      <td>1</td>\n",
       "      <td>1</td>\n",
       "      <td>1</td>\n",
       "      <td>1</td>\n",
       "      <td>1</td>\n",
       "      <td>1</td>\n",
       "      <td>1</td>\n",
       "      <td>1</td>\n",
       "    </tr>\n",
       "    <tr>\n",
       "      <th>1996</th>\n",
       "      <td>1</td>\n",
       "      <td>1</td>\n",
       "      <td>1</td>\n",
       "      <td>1</td>\n",
       "      <td>1</td>\n",
       "      <td>1</td>\n",
       "      <td>1</td>\n",
       "      <td>1</td>\n",
       "    </tr>\n",
       "    <tr>\n",
       "      <th>1997</th>\n",
       "      <td>2</td>\n",
       "      <td>2</td>\n",
       "      <td>2</td>\n",
       "      <td>2</td>\n",
       "      <td>2</td>\n",
       "      <td>2</td>\n",
       "      <td>2</td>\n",
       "      <td>2</td>\n",
       "    </tr>\n",
       "    <tr>\n",
       "      <th>1999</th>\n",
       "      <td>1</td>\n",
       "      <td>1</td>\n",
       "      <td>1</td>\n",
       "      <td>1</td>\n",
       "      <td>1</td>\n",
       "      <td>1</td>\n",
       "      <td>1</td>\n",
       "      <td>1</td>\n",
       "    </tr>\n",
       "    <tr>\n",
       "      <th>2001</th>\n",
       "      <td>38</td>\n",
       "      <td>38</td>\n",
       "      <td>38</td>\n",
       "      <td>38</td>\n",
       "      <td>38</td>\n",
       "      <td>38</td>\n",
       "      <td>38</td>\n",
       "      <td>38</td>\n",
       "    </tr>\n",
       "    <tr>\n",
       "      <th>2003</th>\n",
       "      <td>2</td>\n",
       "      <td>2</td>\n",
       "      <td>2</td>\n",
       "      <td>2</td>\n",
       "      <td>2</td>\n",
       "      <td>2</td>\n",
       "      <td>2</td>\n",
       "      <td>2</td>\n",
       "    </tr>\n",
       "    <tr>\n",
       "      <th>2004</th>\n",
       "      <td>2</td>\n",
       "      <td>2</td>\n",
       "      <td>2</td>\n",
       "      <td>2</td>\n",
       "      <td>2</td>\n",
       "      <td>2</td>\n",
       "      <td>2</td>\n",
       "      <td>2</td>\n",
       "    </tr>\n",
       "    <tr>\n",
       "      <th>2005</th>\n",
       "      <td>1</td>\n",
       "      <td>1</td>\n",
       "      <td>1</td>\n",
       "      <td>1</td>\n",
       "      <td>1</td>\n",
       "      <td>1</td>\n",
       "      <td>1</td>\n",
       "      <td>1</td>\n",
       "    </tr>\n",
       "    <tr>\n",
       "      <th>2006</th>\n",
       "      <td>3</td>\n",
       "      <td>3</td>\n",
       "      <td>3</td>\n",
       "      <td>3</td>\n",
       "      <td>3</td>\n",
       "      <td>3</td>\n",
       "      <td>3</td>\n",
       "      <td>3</td>\n",
       "    </tr>\n",
       "    <tr>\n",
       "      <th>2007</th>\n",
       "      <td>6</td>\n",
       "      <td>6</td>\n",
       "      <td>6</td>\n",
       "      <td>6</td>\n",
       "      <td>6</td>\n",
       "      <td>6</td>\n",
       "      <td>6</td>\n",
       "      <td>6</td>\n",
       "    </tr>\n",
       "    <tr>\n",
       "      <th>2008</th>\n",
       "      <td>1590</td>\n",
       "      <td>1590</td>\n",
       "      <td>1590</td>\n",
       "      <td>1590</td>\n",
       "      <td>1590</td>\n",
       "      <td>1590</td>\n",
       "      <td>1590</td>\n",
       "      <td>1590</td>\n",
       "    </tr>\n",
       "    <tr>\n",
       "      <th>2009</th>\n",
       "      <td>397507</td>\n",
       "      <td>397507</td>\n",
       "      <td>397507</td>\n",
       "      <td>397507</td>\n",
       "      <td>397507</td>\n",
       "      <td>397507</td>\n",
       "      <td>397507</td>\n",
       "      <td>397507</td>\n",
       "    </tr>\n",
       "    <tr>\n",
       "      <th>2010</th>\n",
       "      <td>793129</td>\n",
       "      <td>793129</td>\n",
       "      <td>793129</td>\n",
       "      <td>793129</td>\n",
       "      <td>793129</td>\n",
       "      <td>793129</td>\n",
       "      <td>793129</td>\n",
       "      <td>793129</td>\n",
       "    </tr>\n",
       "    <tr>\n",
       "      <th>2011</th>\n",
       "      <td>858716</td>\n",
       "      <td>858716</td>\n",
       "      <td>858716</td>\n",
       "      <td>858716</td>\n",
       "      <td>858716</td>\n",
       "      <td>858716</td>\n",
       "      <td>858716</td>\n",
       "      <td>858716</td>\n",
       "    </tr>\n",
       "    <tr>\n",
       "      <th>2012</th>\n",
       "      <td>763733</td>\n",
       "      <td>763733</td>\n",
       "      <td>763733</td>\n",
       "      <td>763733</td>\n",
       "      <td>763733</td>\n",
       "      <td>763733</td>\n",
       "      <td>763733</td>\n",
       "      <td>763733</td>\n",
       "    </tr>\n",
       "    <tr>\n",
       "      <th>2013</th>\n",
       "      <td>673152</td>\n",
       "      <td>673152</td>\n",
       "      <td>673152</td>\n",
       "      <td>673152</td>\n",
       "      <td>673152</td>\n",
       "      <td>673152</td>\n",
       "      <td>673152</td>\n",
       "      <td>673152</td>\n",
       "    </tr>\n",
       "    <tr>\n",
       "      <th>2014</th>\n",
       "      <td>689300</td>\n",
       "      <td>689300</td>\n",
       "      <td>689300</td>\n",
       "      <td>689300</td>\n",
       "      <td>689300</td>\n",
       "      <td>689300</td>\n",
       "      <td>689300</td>\n",
       "      <td>689300</td>\n",
       "    </tr>\n",
       "    <tr>\n",
       "      <th>2015</th>\n",
       "      <td>757895</td>\n",
       "      <td>757895</td>\n",
       "      <td>757895</td>\n",
       "      <td>757895</td>\n",
       "      <td>757895</td>\n",
       "      <td>757895</td>\n",
       "      <td>757895</td>\n",
       "      <td>757895</td>\n",
       "    </tr>\n",
       "    <tr>\n",
       "      <th>2016</th>\n",
       "      <td>761881</td>\n",
       "      <td>761881</td>\n",
       "      <td>761881</td>\n",
       "      <td>761881</td>\n",
       "      <td>761881</td>\n",
       "      <td>761881</td>\n",
       "      <td>761881</td>\n",
       "      <td>761881</td>\n",
       "    </tr>\n",
       "    <tr>\n",
       "      <th>2017</th>\n",
       "      <td>847079</td>\n",
       "      <td>847079</td>\n",
       "      <td>847079</td>\n",
       "      <td>847079</td>\n",
       "      <td>847079</td>\n",
       "      <td>847079</td>\n",
       "      <td>847079</td>\n",
       "      <td>847079</td>\n",
       "    </tr>\n",
       "    <tr>\n",
       "      <th>2018</th>\n",
       "      <td>899082</td>\n",
       "      <td>899082</td>\n",
       "      <td>899082</td>\n",
       "      <td>899082</td>\n",
       "      <td>899082</td>\n",
       "      <td>899082</td>\n",
       "      <td>899082</td>\n",
       "      <td>899082</td>\n",
       "    </tr>\n",
       "    <tr>\n",
       "      <th>2019</th>\n",
       "      <td>874079</td>\n",
       "      <td>874079</td>\n",
       "      <td>874079</td>\n",
       "      <td>874079</td>\n",
       "      <td>874079</td>\n",
       "      <td>874079</td>\n",
       "      <td>874079</td>\n",
       "      <td>874079</td>\n",
       "    </tr>\n",
       "    <tr>\n",
       "      <th>2020</th>\n",
       "      <td>640133</td>\n",
       "      <td>640133</td>\n",
       "      <td>640133</td>\n",
       "      <td>640133</td>\n",
       "      <td>640133</td>\n",
       "      <td>640133</td>\n",
       "      <td>640133</td>\n",
       "      <td>640133</td>\n",
       "    </tr>\n",
       "    <tr>\n",
       "      <th>2021</th>\n",
       "      <td>622451</td>\n",
       "      <td>622451</td>\n",
       "      <td>622451</td>\n",
       "      <td>622451</td>\n",
       "      <td>622451</td>\n",
       "      <td>622451</td>\n",
       "      <td>622451</td>\n",
       "      <td>622451</td>\n",
       "    </tr>\n",
       "  </tbody>\n",
       "</table>\n",
       "</div>"
      ],
      "text/plain": [
       "        DATA  GENERE     ETA  TITOLOSTUDIO  CONTRATTO  MODALITALAVORO  \\\n",
       "ANNO                                                                    \n",
       "1973       1       1       1             1          1               1   \n",
       "1974       1       1       1             1          1               1   \n",
       "1976       1       1       1             1          1               1   \n",
       "1978       2       2       2             2          2               2   \n",
       "1979       1       1       1             1          1               1   \n",
       "1980       1       1       1             1          1               1   \n",
       "1981       1       1       1             1          1               1   \n",
       "1982       1       1       1             1          1               1   \n",
       "1988       1       1       1             1          1               1   \n",
       "1996       1       1       1             1          1               1   \n",
       "1997       2       2       2             2          2               2   \n",
       "1999       1       1       1             1          1               1   \n",
       "2001      38      38      38            38         38              38   \n",
       "2003       2       2       2             2          2               2   \n",
       "2004       2       2       2             2          2               2   \n",
       "2005       1       1       1             1          1               1   \n",
       "2006       3       3       3             3          3               3   \n",
       "2007       6       6       6             6          6               6   \n",
       "2008    1590    1590    1590          1590       1590            1590   \n",
       "2009  397507  397507  397507        397507     397507          397507   \n",
       "2010  793129  793129  793129        793129     793129          793129   \n",
       "2011  858716  858716  858716        858716     858716          858716   \n",
       "2012  763733  763733  763733        763733     763733          763733   \n",
       "2013  673152  673152  673152        673152     673152          673152   \n",
       "2014  689300  689300  689300        689300     689300          689300   \n",
       "2015  757895  757895  757895        757895     757895          757895   \n",
       "2016  761881  761881  761881        761881     761881          761881   \n",
       "2017  847079  847079  847079        847079     847079          847079   \n",
       "2018  899082  899082  899082        899082     899082          899082   \n",
       "2019  874079  874079  874079        874079     874079          874079   \n",
       "2020  640133  640133  640133        640133     640133          640133   \n",
       "2021  622451  622451  622451        622451     622451          622451   \n",
       "\n",
       "      PROVINCIAIMPRESA  NAZIONALITA  \n",
       "ANNO                                 \n",
       "1973                 1            1  \n",
       "1974                 1            1  \n",
       "1976                 1            1  \n",
       "1978                 2            2  \n",
       "1979                 1            1  \n",
       "1980                 1            1  \n",
       "1981                 1            1  \n",
       "1982                 1            1  \n",
       "1988                 1            1  \n",
       "1996                 1            1  \n",
       "1997                 2            2  \n",
       "1999                 1            1  \n",
       "2001                38           38  \n",
       "2003                 2            2  \n",
       "2004                 2            2  \n",
       "2005                 1            1  \n",
       "2006                 3            3  \n",
       "2007                 6            6  \n",
       "2008              1590         1590  \n",
       "2009            397507       397507  \n",
       "2010            793129       793129  \n",
       "2011            858716       858716  \n",
       "2012            763733       763733  \n",
       "2013            673152       673152  \n",
       "2014            689300       689300  \n",
       "2015            757895       757895  \n",
       "2016            761881       761881  \n",
       "2017            847079       847079  \n",
       "2018            899082       899082  \n",
       "2019            874079       874079  \n",
       "2020            640133       640133  \n",
       "2021            622451       622451  "
      ]
     },
     "execution_count": 54,
     "metadata": {},
     "output_type": "execute_result"
    }
   ],
   "source": [
    "activated_cleaned.groupby('ANNO').count()"
   ]
  },
  {
   "cell_type": "markdown",
   "id": "c824dc0c",
   "metadata": {},
   "source": [
    "Since the **retribuzioni** dataset contains only records which make reference to the period between 2014 and 2019, i'll keep only the values that are part of this time interval."
   ]
  },
  {
   "cell_type": "code",
   "execution_count": 55,
   "id": "ae78aea0",
   "metadata": {},
   "outputs": [
    {
     "data": {
      "text/plain": [
       "array([2014, 2015, 2016, 2017, 2018, 2019])"
      ]
     },
     "execution_count": 55,
     "metadata": {},
     "output_type": "execute_result"
    }
   ],
   "source": [
    "activated_cleaned = activated_cleaned[activated_cleaned['ANNO'].isin([2014, 2015, 2016, 2017, 2018, 2019])]\n",
    "activated_cleaned.reset_index(inplace=True)\n",
    "activated_cleaned.ANNO.unique()"
   ]
  },
  {
   "cell_type": "markdown",
   "id": "4efa15c8",
   "metadata": {},
   "source": [
    "### Make the join"
   ]
  },
  {
   "cell_type": "markdown",
   "metadata": {},
   "source": [
    "Find out it the columns in common between the two datasets are the ones which we expected."
   ]
  },
  {
   "cell_type": "code",
   "execution_count": 56,
   "id": "693f78a2",
   "metadata": {},
   "outputs": [
    {
     "data": {
      "text/plain": [
       "['GENERE', 'TITOLOSTUDIO', 'ANNO']"
      ]
     },
     "execution_count": 56,
     "metadata": {},
     "output_type": "execute_result"
    }
   ],
   "source": [
    "intersection = []\n",
    "for col in retributions4.columns:\n",
    "    if col in activated_cleaned.columns:\n",
    "        intersection.append(col)\n",
    "intersection"
   ]
  },
  {
   "cell_type": "markdown",
   "id": "8d5928b1",
   "metadata": {},
   "source": [
    "Checking..."
   ]
  },
  {
   "cell_type": "code",
   "execution_count": 57,
   "id": "7d2990e9",
   "metadata": {},
   "outputs": [
    {
     "name": "stdout",
     "output_type": "stream",
     "text": [
      "True True True\n"
     ]
    }
   ],
   "source": [
    "contained1 = True\n",
    "for value in retributions4['GENERE'].unique():\n",
    "    if value not in activated_cleaned['GENERE'].unique():\n",
    "        contained1 = False\n",
    "        print(value)\n",
    "        \n",
    "contained2 = True\n",
    "for value in retributions4['TITOLOSTUDIO'].unique():\n",
    "    if value not in activated_cleaned['TITOLOSTUDIO'].unique():\n",
    "        contained2 = False\n",
    "        print(value)\n",
    "        \n",
    "contained3 = True\n",
    "for value in retributions4['ANNO'].unique():\n",
    "    if value not in activated_cleaned['ANNO'].unique():\n",
    "        contained3 = False\n",
    "        print(value)\n",
    "        \n",
    "print(contained1, contained2, contained3)"
   ]
  },
  {
   "cell_type": "markdown",
   "id": "f371fad1",
   "metadata": {},
   "source": [
    "### Building a look up table for simply adding retribution values to the main dataframe"
   ]
  },
  {
   "cell_type": "markdown",
   "metadata": {},
   "source": [
    "I found out that my computer has not enough memory to perform the join, so i'll perform it in a different way:\n",
    "* I create a look up table with a multi-index containing the columns shared between the datasets.\n",
    "* I apply a function on axis=0 by extracting the values of **GENERE**, **ANNO**, **TITOLOSTUDIO** and i use these values to indicize the value of **VALUE** which should be added to the considered record."
   ]
  },
  {
   "cell_type": "code",
   "execution_count": 58,
   "id": "fc71e146",
   "metadata": {},
   "outputs": [
    {
     "data": {
      "text/html": [
       "<div>\n",
       "<style scoped>\n",
       "    .dataframe tbody tr th:only-of-type {\n",
       "        vertical-align: middle;\n",
       "    }\n",
       "\n",
       "    .dataframe tbody tr th {\n",
       "        vertical-align: top;\n",
       "    }\n",
       "\n",
       "    .dataframe thead tr th {\n",
       "        text-align: left;\n",
       "    }\n",
       "</style>\n",
       "<table border=\"1\" class=\"dataframe\">\n",
       "  <thead>\n",
       "    <tr>\n",
       "      <th>GENERE</th>\n",
       "      <th colspan=\"10\" halign=\"left\">F</th>\n",
       "      <th>...</th>\n",
       "      <th colspan=\"10\" halign=\"left\">M</th>\n",
       "    </tr>\n",
       "    <tr>\n",
       "      <th>ANNO</th>\n",
       "      <th colspan=\"3\" halign=\"left\">2014</th>\n",
       "      <th colspan=\"3\" halign=\"left\">2015</th>\n",
       "      <th colspan=\"3\" halign=\"left\">2016</th>\n",
       "      <th>2017</th>\n",
       "      <th>...</th>\n",
       "      <th>2016</th>\n",
       "      <th colspan=\"3\" halign=\"left\">2017</th>\n",
       "      <th colspan=\"3\" halign=\"left\">2018</th>\n",
       "      <th colspan=\"3\" halign=\"left\">2019</th>\n",
       "    </tr>\n",
       "    <tr>\n",
       "      <th>TITOLOSTUDIO</th>\n",
       "      <th>DIPLOMA DI ISTRUZIONE SECONDARIA SUPERIORE, TERZIARIO EXTRA-UNIVERSITARIO, UNIVERSITARIO</th>\n",
       "      <th>LAUREA E POST-LAUREA</th>\n",
       "      <th>NESSUN TITOLO DI STUDIO, LICENZA DI SCUOLA ELEMENTARE E MEDIA</th>\n",
       "      <th>DIPLOMA DI ISTRUZIONE SECONDARIA SUPERIORE, TERZIARIO EXTRA-UNIVERSITARIO, UNIVERSITARIO</th>\n",
       "      <th>LAUREA E POST-LAUREA</th>\n",
       "      <th>NESSUN TITOLO DI STUDIO, LICENZA DI SCUOLA ELEMENTARE E MEDIA</th>\n",
       "      <th>DIPLOMA DI ISTRUZIONE SECONDARIA SUPERIORE, TERZIARIO EXTRA-UNIVERSITARIO, UNIVERSITARIO</th>\n",
       "      <th>LAUREA E POST-LAUREA</th>\n",
       "      <th>NESSUN TITOLO DI STUDIO, LICENZA DI SCUOLA ELEMENTARE E MEDIA</th>\n",
       "      <th>DIPLOMA DI ISTRUZIONE SECONDARIA SUPERIORE, TERZIARIO EXTRA-UNIVERSITARIO, UNIVERSITARIO</th>\n",
       "      <th>...</th>\n",
       "      <th>NESSUN TITOLO DI STUDIO, LICENZA DI SCUOLA ELEMENTARE E MEDIA</th>\n",
       "      <th>DIPLOMA DI ISTRUZIONE SECONDARIA SUPERIORE, TERZIARIO EXTRA-UNIVERSITARIO, UNIVERSITARIO</th>\n",
       "      <th>LAUREA E POST-LAUREA</th>\n",
       "      <th>NESSUN TITOLO DI STUDIO, LICENZA DI SCUOLA ELEMENTARE E MEDIA</th>\n",
       "      <th>DIPLOMA DI ISTRUZIONE SECONDARIA SUPERIORE, TERZIARIO EXTRA-UNIVERSITARIO, UNIVERSITARIO</th>\n",
       "      <th>LAUREA E POST-LAUREA</th>\n",
       "      <th>NESSUN TITOLO DI STUDIO, LICENZA DI SCUOLA ELEMENTARE E MEDIA</th>\n",
       "      <th>DIPLOMA DI ISTRUZIONE SECONDARIA SUPERIORE, TERZIARIO EXTRA-UNIVERSITARIO, UNIVERSITARIO</th>\n",
       "      <th>LAUREA E POST-LAUREA</th>\n",
       "      <th>NESSUN TITOLO DI STUDIO, LICENZA DI SCUOLA ELEMENTARE E MEDIA</th>\n",
       "    </tr>\n",
       "  </thead>\n",
       "  <tbody>\n",
       "    <tr>\n",
       "      <th>VALUE</th>\n",
       "      <td>10.788077</td>\n",
       "      <td>11.90449</td>\n",
       "      <td>10.21</td>\n",
       "      <td>10.894038</td>\n",
       "      <td>12.116122</td>\n",
       "      <td>10.380204</td>\n",
       "      <td>10.895098</td>\n",
       "      <td>12.088367</td>\n",
       "      <td>10.297143</td>\n",
       "      <td>10.907843</td>\n",
       "      <td>...</td>\n",
       "      <td>11.925294</td>\n",
       "      <td>12.801321</td>\n",
       "      <td>14.378431</td>\n",
       "      <td>12.052308</td>\n",
       "      <td>12.942264</td>\n",
       "      <td>14.39</td>\n",
       "      <td>12.1</td>\n",
       "      <td>13.130926</td>\n",
       "      <td>14.387692</td>\n",
       "      <td>12.227059</td>\n",
       "    </tr>\n",
       "  </tbody>\n",
       "</table>\n",
       "<p>1 rows × 36 columns</p>\n",
       "</div>"
      ],
      "text/plain": [
       "GENERE                                                                                              F  \\\n",
       "ANNO                                                                                             2014   \n",
       "TITOLOSTUDIO DIPLOMA DI ISTRUZIONE SECONDARIA SUPERIORE, TERZIARIO EXTRA-UNIVERSITARIO, UNIVERSITARIO   \n",
       "VALUE                                                 10.788077                                         \n",
       "\n",
       "GENERE                             \\\n",
       "ANNO                                \n",
       "TITOLOSTUDIO LAUREA E POST-LAUREA   \n",
       "VALUE                    11.90449   \n",
       "\n",
       "GENERE                                                                      \\\n",
       "ANNO                                                                         \n",
       "TITOLOSTUDIO NESSUN TITOLO DI STUDIO, LICENZA DI SCUOLA ELEMENTARE E MEDIA   \n",
       "VALUE                                                     10.21              \n",
       "\n",
       "GENERE                                                                                                 \\\n",
       "ANNO                                                                                             2015   \n",
       "TITOLOSTUDIO DIPLOMA DI ISTRUZIONE SECONDARIA SUPERIORE, TERZIARIO EXTRA-UNIVERSITARIO, UNIVERSITARIO   \n",
       "VALUE                                                 10.894038                                         \n",
       "\n",
       "GENERE                             \\\n",
       "ANNO                                \n",
       "TITOLOSTUDIO LAUREA E POST-LAUREA   \n",
       "VALUE                   12.116122   \n",
       "\n",
       "GENERE                                                                      \\\n",
       "ANNO                                                                         \n",
       "TITOLOSTUDIO NESSUN TITOLO DI STUDIO, LICENZA DI SCUOLA ELEMENTARE E MEDIA   \n",
       "VALUE                                                 10.380204              \n",
       "\n",
       "GENERE                                                                                                 \\\n",
       "ANNO                                                                                             2016   \n",
       "TITOLOSTUDIO DIPLOMA DI ISTRUZIONE SECONDARIA SUPERIORE, TERZIARIO EXTRA-UNIVERSITARIO, UNIVERSITARIO   \n",
       "VALUE                                                 10.895098                                         \n",
       "\n",
       "GENERE                             \\\n",
       "ANNO                                \n",
       "TITOLOSTUDIO LAUREA E POST-LAUREA   \n",
       "VALUE                   12.088367   \n",
       "\n",
       "GENERE                                                                      \\\n",
       "ANNO                                                                         \n",
       "TITOLOSTUDIO NESSUN TITOLO DI STUDIO, LICENZA DI SCUOLA ELEMENTARE E MEDIA   \n",
       "VALUE                                                 10.297143              \n",
       "\n",
       "GENERE                                                                                                 \\\n",
       "ANNO                                                                                             2017   \n",
       "TITOLOSTUDIO DIPLOMA DI ISTRUZIONE SECONDARIA SUPERIORE, TERZIARIO EXTRA-UNIVERSITARIO, UNIVERSITARIO   \n",
       "VALUE                                                 10.907843                                         \n",
       "\n",
       "GENERE        ...  \\\n",
       "ANNO          ...   \n",
       "TITOLOSTUDIO  ...   \n",
       "VALUE         ...   \n",
       "\n",
       "GENERE                                                                   M  \\\n",
       "ANNO                                                                  2016   \n",
       "TITOLOSTUDIO NESSUN TITOLO DI STUDIO, LICENZA DI SCUOLA ELEMENTARE E MEDIA   \n",
       "VALUE                                                 11.925294              \n",
       "\n",
       "GENERE                                                                                                 \\\n",
       "ANNO                                                                                             2017   \n",
       "TITOLOSTUDIO DIPLOMA DI ISTRUZIONE SECONDARIA SUPERIORE, TERZIARIO EXTRA-UNIVERSITARIO, UNIVERSITARIO   \n",
       "VALUE                                                 12.801321                                         \n",
       "\n",
       "GENERE                             \\\n",
       "ANNO                                \n",
       "TITOLOSTUDIO LAUREA E POST-LAUREA   \n",
       "VALUE                   14.378431   \n",
       "\n",
       "GENERE                                                                      \\\n",
       "ANNO                                                                         \n",
       "TITOLOSTUDIO NESSUN TITOLO DI STUDIO, LICENZA DI SCUOLA ELEMENTARE E MEDIA   \n",
       "VALUE                                                 12.052308              \n",
       "\n",
       "GENERE                                                                                                 \\\n",
       "ANNO                                                                                             2018   \n",
       "TITOLOSTUDIO DIPLOMA DI ISTRUZIONE SECONDARIA SUPERIORE, TERZIARIO EXTRA-UNIVERSITARIO, UNIVERSITARIO   \n",
       "VALUE                                                 12.942264                                         \n",
       "\n",
       "GENERE                             \\\n",
       "ANNO                                \n",
       "TITOLOSTUDIO LAUREA E POST-LAUREA   \n",
       "VALUE                       14.39   \n",
       "\n",
       "GENERE                                                                      \\\n",
       "ANNO                                                                         \n",
       "TITOLOSTUDIO NESSUN TITOLO DI STUDIO, LICENZA DI SCUOLA ELEMENTARE E MEDIA   \n",
       "VALUE                                                      12.1              \n",
       "\n",
       "GENERE                                                                                                 \\\n",
       "ANNO                                                                                             2019   \n",
       "TITOLOSTUDIO DIPLOMA DI ISTRUZIONE SECONDARIA SUPERIORE, TERZIARIO EXTRA-UNIVERSITARIO, UNIVERSITARIO   \n",
       "VALUE                                                 13.130926                                         \n",
       "\n",
       "GENERE                             \\\n",
       "ANNO                                \n",
       "TITOLOSTUDIO LAUREA E POST-LAUREA   \n",
       "VALUE                   14.387692   \n",
       "\n",
       "GENERE                                                                      \n",
       "ANNO                                                                        \n",
       "TITOLOSTUDIO NESSUN TITOLO DI STUDIO, LICENZA DI SCUOLA ELEMENTARE E MEDIA  \n",
       "VALUE                                                 12.227059             \n",
       "\n",
       "[1 rows x 36 columns]"
      ]
     },
     "execution_count": 58,
     "metadata": {},
     "output_type": "execute_result"
    }
   ],
   "source": [
    "retr = retributions4[['GENERE', 'ANNO', 'TITOLOSTUDIO', 'VALUE']].groupby(['GENERE', 'ANNO', 'TITOLOSTUDIO']).mean()\n",
    "retr1 = retr.T\n",
    "retr1"
   ]
  },
  {
   "cell_type": "markdown",
   "metadata": {},
   "source": [
    "An example:"
   ]
  },
  {
   "cell_type": "code",
   "execution_count": 59,
   "id": "936c6afb",
   "metadata": {},
   "outputs": [
    {
     "data": {
      "text/plain": [
       "10.380204081632654"
      ]
     },
     "execution_count": 59,
     "metadata": {},
     "output_type": "execute_result"
    }
   ],
   "source": [
    "retr1['F', 2015, 'NESSUN TITOLO DI STUDIO, LICENZA DI SCUOLA ELEMENTARE E MEDIA'][0]"
   ]
  },
  {
   "cell_type": "markdown",
   "id": "e9fc69f9",
   "metadata": {},
   "source": [
    "Getting retributions effectively"
   ]
  },
  {
   "cell_type": "code",
   "execution_count": 60,
   "id": "fc1a423f",
   "metadata": {},
   "outputs": [],
   "source": [
    "def get_retribution(x):\n",
    "    value = 0\n",
    "    try:\n",
    "        value = round(retr1[x['GENERE'], x['ANNO'], x['TITOLOSTUDIO']][0], 3)\n",
    "    except KeyError:\n",
    "        value = np.nan\n",
    "    return value"
   ]
  },
  {
   "cell_type": "markdown",
   "metadata": {},
   "source": [
    "Application of the function to preform the join takes between 5 and 100 minutes, so i load the dataset with the ready to use data that i have computed before."
   ]
  },
  {
   "cell_type": "code",
   "execution_count": 61,
   "id": "180689d3",
   "metadata": {},
   "outputs": [
    {
     "data": {
      "text/html": [
       "<div>\n",
       "<style scoped>\n",
       "    .dataframe tbody tr th:only-of-type {\n",
       "        vertical-align: middle;\n",
       "    }\n",
       "\n",
       "    .dataframe tbody tr th {\n",
       "        vertical-align: top;\n",
       "    }\n",
       "\n",
       "    .dataframe thead th {\n",
       "        text-align: right;\n",
       "    }\n",
       "</style>\n",
       "<table border=\"1\" class=\"dataframe\">\n",
       "  <thead>\n",
       "    <tr style=\"text-align: right;\">\n",
       "      <th></th>\n",
       "      <th>DATA</th>\n",
       "      <th>GENERE</th>\n",
       "      <th>ETA</th>\n",
       "      <th>TITOLOSTUDIO</th>\n",
       "      <th>CONTRATTO</th>\n",
       "      <th>MODALITALAVORO</th>\n",
       "      <th>PROVINCIAIMPRESA</th>\n",
       "      <th>NAZIONALITA</th>\n",
       "      <th>ANNO</th>\n",
       "      <th>RETRIBUZIONE</th>\n",
       "    </tr>\n",
       "  </thead>\n",
       "  <tbody>\n",
       "    <tr>\n",
       "      <th>0</th>\n",
       "      <td>2014-01-01</td>\n",
       "      <td>F</td>\n",
       "      <td>49</td>\n",
       "      <td>NESSUN TITOLO DI STUDIO, LICENZA DI SCUOLA ELE...</td>\n",
       "      <td>LAVORO A TEMPO INDETERMINATO</td>\n",
       "      <td>TEMPO PARZIALE ORIZZONTALE</td>\n",
       "      <td>VARESE</td>\n",
       "      <td>MAROCCO</td>\n",
       "      <td>2014</td>\n",
       "      <td>10.210</td>\n",
       "    </tr>\n",
       "    <tr>\n",
       "      <th>1</th>\n",
       "      <td>2014-01-01</td>\n",
       "      <td>F</td>\n",
       "      <td>52</td>\n",
       "      <td>NESSUN TITOLO DI STUDIO, LICENZA DI SCUOLA ELE...</td>\n",
       "      <td>LAVORO DOMESTICO</td>\n",
       "      <td>TEMPO PARZIALE ORIZZONTALE</td>\n",
       "      <td>MANTOVA</td>\n",
       "      <td>ALBANIA</td>\n",
       "      <td>2014</td>\n",
       "      <td>10.210</td>\n",
       "    </tr>\n",
       "    <tr>\n",
       "      <th>2</th>\n",
       "      <td>2014-01-01</td>\n",
       "      <td>F</td>\n",
       "      <td>43</td>\n",
       "      <td>NESSUN TITOLO DI STUDIO, LICENZA DI SCUOLA ELE...</td>\n",
       "      <td>LAVORO DOMESTICO</td>\n",
       "      <td>TEMPO PARZIALE ORIZZONTALE</td>\n",
       "      <td>BERGAMO</td>\n",
       "      <td>ITALIA</td>\n",
       "      <td>2014</td>\n",
       "      <td>10.210</td>\n",
       "    </tr>\n",
       "    <tr>\n",
       "      <th>3</th>\n",
       "      <td>2014-01-01</td>\n",
       "      <td>M</td>\n",
       "      <td>29</td>\n",
       "      <td>NESSUN TITOLO DI STUDIO, LICENZA DI SCUOLA ELE...</td>\n",
       "      <td>LAVORO A TEMPO INDETERMINATO</td>\n",
       "      <td>TEMPO PIENO</td>\n",
       "      <td>MILANO</td>\n",
       "      <td>BANGLADESH</td>\n",
       "      <td>2014</td>\n",
       "      <td>12.070</td>\n",
       "    </tr>\n",
       "    <tr>\n",
       "      <th>4</th>\n",
       "      <td>2014-01-01</td>\n",
       "      <td>F</td>\n",
       "      <td>29</td>\n",
       "      <td>LAUREA E POST-LAUREA</td>\n",
       "      <td>LAVORO A TEMPO DETERMINATO</td>\n",
       "      <td>TEMPO PIENO</td>\n",
       "      <td>MILANO</td>\n",
       "      <td>ITALIA</td>\n",
       "      <td>2014</td>\n",
       "      <td>11.904</td>\n",
       "    </tr>\n",
       "  </tbody>\n",
       "</table>\n",
       "</div>"
      ],
      "text/plain": [
       "        DATA GENERE  ETA                                       TITOLOSTUDIO  \\\n",
       "0 2014-01-01      F   49  NESSUN TITOLO DI STUDIO, LICENZA DI SCUOLA ELE...   \n",
       "1 2014-01-01      F   52  NESSUN TITOLO DI STUDIO, LICENZA DI SCUOLA ELE...   \n",
       "2 2014-01-01      F   43  NESSUN TITOLO DI STUDIO, LICENZA DI SCUOLA ELE...   \n",
       "3 2014-01-01      M   29  NESSUN TITOLO DI STUDIO, LICENZA DI SCUOLA ELE...   \n",
       "4 2014-01-01      F   29                               LAUREA E POST-LAUREA   \n",
       "\n",
       "                      CONTRATTO              MODALITALAVORO PROVINCIAIMPRESA  \\\n",
       "0  LAVORO A TEMPO INDETERMINATO  TEMPO PARZIALE ORIZZONTALE           VARESE   \n",
       "1              LAVORO DOMESTICO  TEMPO PARZIALE ORIZZONTALE          MANTOVA   \n",
       "2              LAVORO DOMESTICO  TEMPO PARZIALE ORIZZONTALE          BERGAMO   \n",
       "3  LAVORO A TEMPO INDETERMINATO                 TEMPO PIENO           MILANO   \n",
       "4    LAVORO A TEMPO DETERMINATO                 TEMPO PIENO           MILANO   \n",
       "\n",
       "  NAZIONALITA  ANNO  RETRIBUZIONE  \n",
       "0     MAROCCO  2014        10.210  \n",
       "1     ALBANIA  2014        10.210  \n",
       "2      ITALIA  2014        10.210  \n",
       "3  BANGLADESH  2014        12.070  \n",
       "4      ITALIA  2014        11.904  "
      ]
     },
     "execution_count": 61,
     "metadata": {},
     "output_type": "execute_result"
    }
   ],
   "source": [
    "# retributions = []\n",
    "# for x in tqdm(activated_cleaned.iterrows(), total=activated_cleaned.shape[0]):\n",
    "#     print(x[1]['ANNO'])\n",
    "#     retributions.append(get_retribution(x[1]))\n",
    "\n",
    "# activated_cleaned['RETRIBUZIONE'] = retributions\n",
    "\n",
    "activated_cleaned = pd.read_csv('datasets/activated_with_retributions2.csv', index_col=0, parse_dates=['DATA'])\n",
    "activated_cleaned.drop('index', inplace=True, axis=1) \n",
    "activated_cleaned.head()"
   ]
  },
  {
   "cell_type": "code",
   "execution_count": 62,
   "id": "2d45297d",
   "metadata": {},
   "outputs": [
    {
     "name": "stdout",
     "output_type": "stream",
     "text": [
      "<class 'pandas.core.series.Series'>\n",
      "Int64Index: 4829316 entries, 0 to 4829315\n",
      "Series name: RETRIBUZIONE\n",
      "Non-Null Count    Dtype  \n",
      "--------------    -----  \n",
      "4479832 non-null  float64\n",
      "dtypes: float64(1)\n",
      "memory usage: 73.7 MB\n"
     ]
    }
   ],
   "source": [
    "activated_cleaned.RETRIBUZIONE.info()"
   ]
  },
  {
   "cell_type": "code",
   "execution_count": 63,
   "metadata": {},
   "outputs": [
    {
     "name": "stdout",
     "output_type": "stream",
     "text": [
      "Your selected dataframe has 10 columns.\n",
      "There are 1 columns that have missing values.\n"
     ]
    },
    {
     "data": {
      "text/html": [
       "<div>\n",
       "<style scoped>\n",
       "    .dataframe tbody tr th:only-of-type {\n",
       "        vertical-align: middle;\n",
       "    }\n",
       "\n",
       "    .dataframe tbody tr th {\n",
       "        vertical-align: top;\n",
       "    }\n",
       "\n",
       "    .dataframe thead th {\n",
       "        text-align: right;\n",
       "    }\n",
       "</style>\n",
       "<table border=\"1\" class=\"dataframe\">\n",
       "  <thead>\n",
       "    <tr style=\"text-align: right;\">\n",
       "      <th></th>\n",
       "      <th>Missing Values</th>\n",
       "      <th>% of Total Values</th>\n",
       "    </tr>\n",
       "  </thead>\n",
       "  <tbody>\n",
       "    <tr>\n",
       "      <th>RETRIBUZIONE</th>\n",
       "      <td>349484</td>\n",
       "      <td>7.2</td>\n",
       "    </tr>\n",
       "  </tbody>\n",
       "</table>\n",
       "</div>"
      ],
      "text/plain": [
       "              Missing Values  % of Total Values\n",
       "RETRIBUZIONE          349484                7.2"
      ]
     },
     "execution_count": 63,
     "metadata": {},
     "output_type": "execute_result"
    }
   ],
   "source": [
    "utils.missing_values_table(activated_cleaned)"
   ]
  },
  {
   "cell_type": "markdown",
   "metadata": {},
   "source": [
    "Fill the missing values produced with the mean"
   ]
  },
  {
   "cell_type": "code",
   "execution_count": 64,
   "metadata": {},
   "outputs": [],
   "source": [
    "activated_cleaned.RETRIBUZIONE.fillna(activated_cleaned.RETRIBUZIONE.mean(), inplace=True)"
   ]
  },
  {
   "cell_type": "code",
   "execution_count": 65,
   "metadata": {},
   "outputs": [
    {
     "name": "stdout",
     "output_type": "stream",
     "text": [
      "Your selected dataframe has 10 columns.\n",
      "There are 0 columns that have missing values.\n"
     ]
    },
    {
     "data": {
      "text/html": [
       "<div>\n",
       "<style scoped>\n",
       "    .dataframe tbody tr th:only-of-type {\n",
       "        vertical-align: middle;\n",
       "    }\n",
       "\n",
       "    .dataframe tbody tr th {\n",
       "        vertical-align: top;\n",
       "    }\n",
       "\n",
       "    .dataframe thead th {\n",
       "        text-align: right;\n",
       "    }\n",
       "</style>\n",
       "<table border=\"1\" class=\"dataframe\">\n",
       "  <thead>\n",
       "    <tr style=\"text-align: right;\">\n",
       "      <th></th>\n",
       "      <th>Missing Values</th>\n",
       "      <th>% of Total Values</th>\n",
       "    </tr>\n",
       "  </thead>\n",
       "  <tbody>\n",
       "  </tbody>\n",
       "</table>\n",
       "</div>"
      ],
      "text/plain": [
       "Empty DataFrame\n",
       "Columns: [Missing Values, % of Total Values]\n",
       "Index: []"
      ]
     },
     "execution_count": 65,
     "metadata": {},
     "output_type": "execute_result"
    }
   ],
   "source": [
    "utils.missing_values_table(activated_cleaned)"
   ]
  },
  {
   "cell_type": "markdown",
   "metadata": {},
   "source": [
    "## Have a look at the new data"
   ]
  },
  {
   "cell_type": "markdown",
   "metadata": {},
   "source": [
    "Distribution of **RETRIBUZIONE** with respect to **TITOLO DI STUDIO** and **GENERE**. Each subset is independently normalized."
   ]
  },
  {
   "cell_type": "code",
   "execution_count": 66,
   "metadata": {},
   "outputs": [
    {
     "data": {
      "text/plain": [
       "<seaborn.axisgrid.FacetGrid at 0x7fe3ae1350a0>"
      ]
     },
     "execution_count": 66,
     "metadata": {},
     "output_type": "execute_result"
    },
    {
     "data": {
      "image/png": "[encoded data removed]",
      "text/plain": [
       "<Figure size 1086.12x720 with 2 Axes>"
      ]
     },
     "metadata": {
      "needs_background": "light"
     },
     "output_type": "display_data"
    }
   ],
   "source": [
    "sns.displot(data=activated_cleaned, x='RETRIBUZIONE', hue='TITOLOSTUDIO', row='GENERE', element='step', bins=30, stat='density', common_norm=False)"
   ]
  },
  {
   "cell_type": "code",
   "execution_count": 67,
   "metadata": {},
   "outputs": [
    {
     "data": {
      "text/plain": [
       "Index(['DATA', 'GENERE', 'ETA', 'TITOLOSTUDIO', 'CONTRATTO', 'MODALITALAVORO',\n",
       "       'PROVINCIAIMPRESA', 'NAZIONALITA', 'ANNO', 'RETRIBUZIONE'],\n",
       "      dtype='object')"
      ]
     },
     "execution_count": 67,
     "metadata": {},
     "output_type": "execute_result"
    }
   ],
   "source": [
    "activated_cleaned.columns"
   ]
  },
  {
   "cell_type": "markdown",
   "metadata": {},
   "source": [
    "**RETRIBUZIONE** with respect to **GENERE** and **MODALITALAVORO**."
   ]
  },
  {
   "cell_type": "code",
   "execution_count": 68,
   "metadata": {},
   "outputs": [
    {
     "data": {
      "text/plain": [
       "<seaborn.axisgrid.FacetGrid at 0x7fe3ab9f9e20>"
      ]
     },
     "execution_count": 68,
     "metadata": {},
     "output_type": "execute_result"
    },
    {
     "data": {
      "image/png": "[encoded data removed]",
      "text/plain": [
       "<Figure size 1848.88x360 with 5 Axes>"
      ]
     },
     "metadata": {
      "needs_background": "light"
     },
     "output_type": "display_data"
    }
   ],
   "source": [
    "sns.displot(data=activated_cleaned, x='RETRIBUZIONE', hue='GENERE', col='MODALITALAVORO', element='step', bins=30, stat='density', common_norm=False)"
   ]
  },
  {
   "cell_type": "code",
   "execution_count": 69,
   "metadata": {},
   "outputs": [
    {
     "data": {
      "text/plain": [
       "<seaborn.axisgrid.FacetGrid at 0x7fe3af6c6e20>"
      ]
     },
     "execution_count": 69,
     "metadata": {},
     "output_type": "execute_result"
    },
    {
     "data": {
      "image/png": "[encoded data removed]",
      "text/plain": [
       "<Figure size 408.875x360 with 1 Axes>"
      ]
     },
     "metadata": {
      "needs_background": "light"
     },
     "output_type": "display_data"
    }
   ],
   "source": [
    "sns.displot(data=activated_cleaned, x='RETRIBUZIONE', y='ETA', hue='GENERE', bins=30)"
   ]
  },
  {
   "cell_type": "code",
   "execution_count": 70,
   "metadata": {},
   "outputs": [
    {
     "name": "stderr",
     "output_type": "stream",
     "text": [
      "/home/ale/anaconda3/envs/datasciencefb/lib/python3.8/site-packages/seaborn/axisgrid.py:88: UserWarning: Tight layout not applied. The left and right margins cannot be made large enough to accommodate all axes decorations. \n",
      "  self._figure.tight_layout(*args, **kwargs)\n"
     ]
    },
    {
     "data": {
      "text/plain": [
       "<seaborn.axisgrid.FacetGrid at 0x7fe3ad0d5190>"
      ]
     },
     "execution_count": 70,
     "metadata": {},
     "output_type": "execute_result"
    },
    {
     "data": {
      "image/png": "[encoded data removed]",
      "text/plain": [
       "<Figure size 408.875x360 with 1 Axes>"
      ]
     },
     "metadata": {
      "needs_background": "light"
     },
     "output_type": "display_data"
    }
   ],
   "source": [
    "sns.displot(data=activated_cleaned, x='RETRIBUZIONE', y='TITOLOSTUDIO', hue='GENERE', bins=30)"
   ]
  },
  {
   "cell_type": "code",
   "execution_count": 71,
   "metadata": {},
   "outputs": [],
   "source": [
    "# sns.catplot(x=\"TITOLOSTUDIO\", y=\"RETRIBUZIONE\", hue=\"GENERE\", kind=\"violin\", inner=\"stick\", split=True, palette=\"pastel\", data=activated_cleaned)"
   ]
  },
  {
   "cell_type": "markdown",
   "id": "5fd9e9e5",
   "metadata": {},
   "source": [
    "## Transformations\n",
    "* Convert everyting to discrete values.\n",
    "* Normalize the data."
   ]
  },
  {
   "cell_type": "markdown",
   "id": "e7c1e155",
   "metadata": {},
   "source": [
    "In this part of the notebook we're performing some transformations on the dataset in order to convert all the categorical features into numerical features, and to let them be more suitable for our predictin purposes."
   ]
  },
  {
   "cell_type": "code",
   "execution_count": 72,
   "id": "4902bbf8",
   "metadata": {},
   "outputs": [
    {
     "name": "stderr",
     "output_type": "stream",
     "text": [
      "/home/ale/anaconda3/envs/datasciencefb/lib/python3.8/site-packages/xgboost/compat.py:36: FutureWarning: pandas.Int64Index is deprecated and will be removed from pandas in a future version. Use pandas.Index with the appropriate dtype instead.\n",
      "  from pandas import MultiIndex, Int64Index\n"
     ]
    }
   ],
   "source": [
    "import xgboost as xgb\n",
    "from xgboost import XGBClassifier\n",
    "from sklearn.metrics import confusion_matrix\n",
    "from sklearn.model_selection import train_test_split\n",
    "from sklearn.model_selection import cross_val_score, KFold\n",
    "from sklearn.metrics import accuracy_score\n"
   ]
  },
  {
   "cell_type": "code",
   "execution_count": 73,
   "id": "d86d1d07",
   "metadata": {},
   "outputs": [
    {
     "data": {
      "text/html": [
       "<div>\n",
       "<style scoped>\n",
       "    .dataframe tbody tr th:only-of-type {\n",
       "        vertical-align: middle;\n",
       "    }\n",
       "\n",
       "    .dataframe tbody tr th {\n",
       "        vertical-align: top;\n",
       "    }\n",
       "\n",
       "    .dataframe thead th {\n",
       "        text-align: right;\n",
       "    }\n",
       "</style>\n",
       "<table border=\"1\" class=\"dataframe\">\n",
       "  <thead>\n",
       "    <tr style=\"text-align: right;\">\n",
       "      <th></th>\n",
       "      <th>DATA</th>\n",
       "      <th>GENERE</th>\n",
       "      <th>ETA</th>\n",
       "      <th>TITOLOSTUDIO</th>\n",
       "      <th>CONTRATTO</th>\n",
       "      <th>MODALITALAVORO</th>\n",
       "      <th>PROVINCIAIMPRESA</th>\n",
       "      <th>NAZIONALITA</th>\n",
       "      <th>ANNO</th>\n",
       "      <th>RETRIBUZIONE</th>\n",
       "    </tr>\n",
       "  </thead>\n",
       "  <tbody>\n",
       "    <tr>\n",
       "      <th>0</th>\n",
       "      <td>2014-01-01</td>\n",
       "      <td>F</td>\n",
       "      <td>49</td>\n",
       "      <td>NESSUN TITOLO DI STUDIO, LICENZA DI SCUOLA ELE...</td>\n",
       "      <td>LAVORO A TEMPO INDETERMINATO</td>\n",
       "      <td>TEMPO PARZIALE ORIZZONTALE</td>\n",
       "      <td>VARESE</td>\n",
       "      <td>MAROCCO</td>\n",
       "      <td>2014</td>\n",
       "      <td>10.210</td>\n",
       "    </tr>\n",
       "    <tr>\n",
       "      <th>1</th>\n",
       "      <td>2014-01-01</td>\n",
       "      <td>F</td>\n",
       "      <td>52</td>\n",
       "      <td>NESSUN TITOLO DI STUDIO, LICENZA DI SCUOLA ELE...</td>\n",
       "      <td>LAVORO DOMESTICO</td>\n",
       "      <td>TEMPO PARZIALE ORIZZONTALE</td>\n",
       "      <td>MANTOVA</td>\n",
       "      <td>ALBANIA</td>\n",
       "      <td>2014</td>\n",
       "      <td>10.210</td>\n",
       "    </tr>\n",
       "    <tr>\n",
       "      <th>2</th>\n",
       "      <td>2014-01-01</td>\n",
       "      <td>F</td>\n",
       "      <td>43</td>\n",
       "      <td>NESSUN TITOLO DI STUDIO, LICENZA DI SCUOLA ELE...</td>\n",
       "      <td>LAVORO DOMESTICO</td>\n",
       "      <td>TEMPO PARZIALE ORIZZONTALE</td>\n",
       "      <td>BERGAMO</td>\n",
       "      <td>ITALIA</td>\n",
       "      <td>2014</td>\n",
       "      <td>10.210</td>\n",
       "    </tr>\n",
       "    <tr>\n",
       "      <th>3</th>\n",
       "      <td>2014-01-01</td>\n",
       "      <td>M</td>\n",
       "      <td>29</td>\n",
       "      <td>NESSUN TITOLO DI STUDIO, LICENZA DI SCUOLA ELE...</td>\n",
       "      <td>LAVORO A TEMPO INDETERMINATO</td>\n",
       "      <td>TEMPO PIENO</td>\n",
       "      <td>MILANO</td>\n",
       "      <td>BANGLADESH</td>\n",
       "      <td>2014</td>\n",
       "      <td>12.070</td>\n",
       "    </tr>\n",
       "    <tr>\n",
       "      <th>4</th>\n",
       "      <td>2014-01-01</td>\n",
       "      <td>F</td>\n",
       "      <td>29</td>\n",
       "      <td>LAUREA E POST-LAUREA</td>\n",
       "      <td>LAVORO A TEMPO DETERMINATO</td>\n",
       "      <td>TEMPO PIENO</td>\n",
       "      <td>MILANO</td>\n",
       "      <td>ITALIA</td>\n",
       "      <td>2014</td>\n",
       "      <td>11.904</td>\n",
       "    </tr>\n",
       "  </tbody>\n",
       "</table>\n",
       "</div>"
      ],
      "text/plain": [
       "        DATA GENERE  ETA                                       TITOLOSTUDIO  \\\n",
       "0 2014-01-01      F   49  NESSUN TITOLO DI STUDIO, LICENZA DI SCUOLA ELE...   \n",
       "1 2014-01-01      F   52  NESSUN TITOLO DI STUDIO, LICENZA DI SCUOLA ELE...   \n",
       "2 2014-01-01      F   43  NESSUN TITOLO DI STUDIO, LICENZA DI SCUOLA ELE...   \n",
       "3 2014-01-01      M   29  NESSUN TITOLO DI STUDIO, LICENZA DI SCUOLA ELE...   \n",
       "4 2014-01-01      F   29                               LAUREA E POST-LAUREA   \n",
       "\n",
       "                      CONTRATTO              MODALITALAVORO PROVINCIAIMPRESA  \\\n",
       "0  LAVORO A TEMPO INDETERMINATO  TEMPO PARZIALE ORIZZONTALE           VARESE   \n",
       "1              LAVORO DOMESTICO  TEMPO PARZIALE ORIZZONTALE          MANTOVA   \n",
       "2              LAVORO DOMESTICO  TEMPO PARZIALE ORIZZONTALE          BERGAMO   \n",
       "3  LAVORO A TEMPO INDETERMINATO                 TEMPO PIENO           MILANO   \n",
       "4    LAVORO A TEMPO DETERMINATO                 TEMPO PIENO           MILANO   \n",
       "\n",
       "  NAZIONALITA  ANNO  RETRIBUZIONE  \n",
       "0     MAROCCO  2014        10.210  \n",
       "1     ALBANIA  2014        10.210  \n",
       "2      ITALIA  2014        10.210  \n",
       "3  BANGLADESH  2014        12.070  \n",
       "4      ITALIA  2014        11.904  "
      ]
     },
     "execution_count": 73,
     "metadata": {},
     "output_type": "execute_result"
    }
   ],
   "source": [
    "activated_labours = activated_cleaned.copy()\n",
    "activated_labours.head()"
   ]
  },
  {
   "cell_type": "markdown",
   "id": "b97b73a3",
   "metadata": {},
   "source": [
    "### Transform the data"
   ]
  },
  {
   "cell_type": "code",
   "execution_count": 74,
   "id": "7daac451",
   "metadata": {},
   "outputs": [],
   "source": [
    "activated_transformed = pd.DataFrame()"
   ]
  },
  {
   "cell_type": "markdown",
   "id": "64244972",
   "metadata": {},
   "source": [
    "Converting **GENERE** column to dummies."
   ]
  },
  {
   "cell_type": "code",
   "execution_count": 75,
   "id": "0b33b37f",
   "metadata": {},
   "outputs": [
    {
     "data": {
      "text/plain": [
       "array([['F'],\n",
       "       ['F'],\n",
       "       ['F'],\n",
       "       ...,\n",
       "       ['M'],\n",
       "       ['M'],\n",
       "       ['F']], dtype=object)"
      ]
     },
     "execution_count": 75,
     "metadata": {},
     "output_type": "execute_result"
    }
   ],
   "source": [
    "df_col = activated_labours['GENERE'].values.reshape(-1,1)\n",
    "df_col"
   ]
  },
  {
   "cell_type": "code",
   "execution_count": 76,
   "id": "f58c2bc0",
   "metadata": {},
   "outputs": [
    {
     "data": {
      "text/plain": [
       "array([[1., 0.],\n",
       "       [1., 0.],\n",
       "       [1., 0.],\n",
       "       ...,\n",
       "       [0., 1.],\n",
       "       [0., 1.],\n",
       "       [1., 0.]])"
      ]
     },
     "execution_count": 76,
     "metadata": {},
     "output_type": "execute_result"
    }
   ],
   "source": [
    "from sklearn.preprocessing import OneHotEncoder, LabelEncoder\n",
    "enc_gen = OneHotEncoder()\n",
    "X = enc_gen.fit_transform(df_col).toarray()\n",
    "X"
   ]
  },
  {
   "cell_type": "code",
   "execution_count": 77,
   "id": "3805ded9",
   "metadata": {},
   "outputs": [
    {
     "data": {
      "text/html": [
       "<div>\n",
       "<style scoped>\n",
       "    .dataframe tbody tr th:only-of-type {\n",
       "        vertical-align: middle;\n",
       "    }\n",
       "\n",
       "    .dataframe tbody tr th {\n",
       "        vertical-align: top;\n",
       "    }\n",
       "\n",
       "    .dataframe thead th {\n",
       "        text-align: right;\n",
       "    }\n",
       "</style>\n",
       "<table border=\"1\" class=\"dataframe\">\n",
       "  <thead>\n",
       "    <tr style=\"text-align: right;\">\n",
       "      <th></th>\n",
       "      <th>GENERE_F</th>\n",
       "      <th>GENERE_M</th>\n",
       "    </tr>\n",
       "  </thead>\n",
       "  <tbody>\n",
       "    <tr>\n",
       "      <th>0</th>\n",
       "      <td>1.0</td>\n",
       "      <td>0.0</td>\n",
       "    </tr>\n",
       "    <tr>\n",
       "      <th>1</th>\n",
       "      <td>1.0</td>\n",
       "      <td>0.0</td>\n",
       "    </tr>\n",
       "    <tr>\n",
       "      <th>2</th>\n",
       "      <td>1.0</td>\n",
       "      <td>0.0</td>\n",
       "    </tr>\n",
       "    <tr>\n",
       "      <th>3</th>\n",
       "      <td>0.0</td>\n",
       "      <td>1.0</td>\n",
       "    </tr>\n",
       "    <tr>\n",
       "      <th>4</th>\n",
       "      <td>1.0</td>\n",
       "      <td>0.0</td>\n",
       "    </tr>\n",
       "  </tbody>\n",
       "</table>\n",
       "</div>"
      ],
      "text/plain": [
       "   GENERE_F  GENERE_M\n",
       "0       1.0       0.0\n",
       "1       1.0       0.0\n",
       "2       1.0       0.0\n",
       "3       0.0       1.0\n",
       "4       1.0       0.0"
      ]
     },
     "execution_count": 77,
     "metadata": {},
     "output_type": "execute_result"
    }
   ],
   "source": [
    "dfOneHot = pd.DataFrame(X, columns = ['GENERE_F', 'GENERE_M'])\n",
    "activated_transformed = pd.concat([activated_transformed, dfOneHot], axis=1)\n",
    "activated_transformed.head()"
   ]
  },
  {
   "cell_type": "markdown",
   "id": "51bb492b",
   "metadata": {},
   "source": [
    "Transforming **TITOLO STUDIO** with manually defined transformation(in order to maintain the ordinal information of data)."
   ]
  },
  {
   "cell_type": "markdown",
   "id": "babc8791",
   "metadata": {},
   "source": [
    "[ISTAT document](https://www.istat.it/it/files/2011/01/Classificazione-titoli-studio-28_ott_2005-nota_metodologica.pdf)"
   ]
  },
  {
   "cell_type": "code",
   "execution_count": 78,
   "id": "afcc6cdb",
   "metadata": {},
   "outputs": [
    {
     "data": {
      "text/plain": [
       "array(['NESSUN TITOLO DI STUDIO, LICENZA DI SCUOLA ELEMENTARE E MEDIA',\n",
       "       'LAUREA E POST-LAUREA',\n",
       "       'DIPLOMA DI ISTRUZIONE SECONDARIA SUPERIORE, TERZIARIO EXTRA-UNIVERSITARIO, UNIVERSITARIO',\n",
       "       \"TITOLO DI ISTRUZIONE SECONDARIA SUPERIORE (SCOLASTICA ED EXTRA-SCOLASTICA) CHE NON PERMETTE L'ACCESSO ALL'UNIVERSITÀ ()\",\n",
       "       'DIPLOMA DI SPECIALIZZAZIONE',\n",
       "       'MASTER UNIVERSITARIO DI PRIMO LIVELLO',\n",
       "       'TITOLO DI DOTTORE DI RICERCA'], dtype=object)"
      ]
     },
     "execution_count": 78,
     "metadata": {},
     "output_type": "execute_result"
    }
   ],
   "source": [
    "activated_labours.TITOLOSTUDIO.unique()"
   ]
  },
  {
   "cell_type": "code",
   "execution_count": 79,
   "id": "af73edd4",
   "metadata": {},
   "outputs": [
    {
     "data": {
      "text/html": [
       "<div>\n",
       "<style scoped>\n",
       "    .dataframe tbody tr th:only-of-type {\n",
       "        vertical-align: middle;\n",
       "    }\n",
       "\n",
       "    .dataframe tbody tr th {\n",
       "        vertical-align: top;\n",
       "    }\n",
       "\n",
       "    .dataframe thead th {\n",
       "        text-align: right;\n",
       "    }\n",
       "</style>\n",
       "<table border=\"1\" class=\"dataframe\">\n",
       "  <thead>\n",
       "    <tr style=\"text-align: right;\">\n",
       "      <th></th>\n",
       "      <th>GENERE_F</th>\n",
       "      <th>GENERE_M</th>\n",
       "      <th>TITOLOSTUDIO</th>\n",
       "    </tr>\n",
       "  </thead>\n",
       "  <tbody>\n",
       "    <tr>\n",
       "      <th>0</th>\n",
       "      <td>1.0</td>\n",
       "      <td>0.0</td>\n",
       "      <td>0</td>\n",
       "    </tr>\n",
       "    <tr>\n",
       "      <th>1</th>\n",
       "      <td>1.0</td>\n",
       "      <td>0.0</td>\n",
       "      <td>0</td>\n",
       "    </tr>\n",
       "    <tr>\n",
       "      <th>2</th>\n",
       "      <td>1.0</td>\n",
       "      <td>0.0</td>\n",
       "      <td>0</td>\n",
       "    </tr>\n",
       "    <tr>\n",
       "      <th>3</th>\n",
       "      <td>0.0</td>\n",
       "      <td>1.0</td>\n",
       "      <td>0</td>\n",
       "    </tr>\n",
       "    <tr>\n",
       "      <th>4</th>\n",
       "      <td>1.0</td>\n",
       "      <td>0.0</td>\n",
       "      <td>3</td>\n",
       "    </tr>\n",
       "  </tbody>\n",
       "</table>\n",
       "</div>"
      ],
      "text/plain": [
       "   GENERE_F  GENERE_M  TITOLOSTUDIO\n",
       "0       1.0       0.0             0\n",
       "1       1.0       0.0             0\n",
       "2       1.0       0.0             0\n",
       "3       0.0       1.0             0\n",
       "4       1.0       0.0             3"
      ]
     },
     "execution_count": 79,
     "metadata": {},
     "output_type": "execute_result"
    }
   ],
   "source": [
    "studylevel_mapper = {'NESSUN TITOLO DI STUDIO, LICENZA DI SCUOLA ELEMENTARE E MEDIA': 0,\n",
    "          'TITOLO DI ISTRUZIONE SECONDARIA SUPERIORE (SCOLASTICA ED EXTRA-SCOLASTICA) CHE NON PERMETTE L\\'ACCESSO ALL\\'UNIVERSITÀ ()': 1,\n",
    "          'DIPLOMA DI ISTRUZIONE SECONDARIA SUPERIORE, TERZIARIO EXTRA-UNIVERSITARIO, UNIVERSITARIO': 2,\n",
    "          'LAUREA E POST-LAUREA': 3,\n",
    "          'MASTER UNIVERSITARIO DI PRIMO LIVELLO': 4,\n",
    "          'DIPLOMA DI SPECIALIZZAZIONE': 5,\n",
    "          'TITOLO DI DOTTORE DI RICERCA': 6,\n",
    "          }\n",
    "activated_transformed['TITOLOSTUDIO'] = activated_labours['TITOLOSTUDIO'].replace(studylevel_mapper)\n",
    "activated_transformed.head()"
   ]
  },
  {
   "cell_type": "code",
   "execution_count": 80,
   "id": "77886e96",
   "metadata": {},
   "outputs": [
    {
     "data": {
      "text/plain": [
       "array([0, 3, 2, 1, 5, 4, 6])"
      ]
     },
     "execution_count": 80,
     "metadata": {},
     "output_type": "execute_result"
    }
   ],
   "source": [
    "activated_transformed.TITOLOSTUDIO.unique()"
   ]
  },
  {
   "cell_type": "markdown",
   "id": "6a2cd43c",
   "metadata": {},
   "source": [
    "Transforming **MODALITÀ LAVORO** using LabelEncoder."
   ]
  },
  {
   "cell_type": "code",
   "execution_count": 81,
   "id": "e6bbd841",
   "metadata": {},
   "outputs": [
    {
     "data": {
      "text/plain": [
       "array(['TEMPO PARZIALE ORIZZONTALE', 'TEMPO PIENO', 'NON DEFINITO',\n",
       "       'TEMPO PARZIALE MISTO', 'TEMPO PARZIALE VERTICALE'], dtype=object)"
      ]
     },
     "execution_count": 81,
     "metadata": {},
     "output_type": "execute_result"
    }
   ],
   "source": [
    "activated_labours.MODALITALAVORO.unique()"
   ]
  },
  {
   "cell_type": "code",
   "execution_count": 82,
   "id": "c9b68c27",
   "metadata": {},
   "outputs": [
    {
     "data": {
      "text/plain": [
       "array([2, 2, 2, ..., 4, 4, 4])"
      ]
     },
     "execution_count": 82,
     "metadata": {},
     "output_type": "execute_result"
    }
   ],
   "source": [
    "le_workmode = LabelEncoder()\n",
    "transformed_col = le_workmode.fit_transform(activated_labours.MODALITALAVORO)\n",
    "transformed_col"
   ]
  },
  {
   "cell_type": "code",
   "execution_count": 83,
   "id": "a55d8a18",
   "metadata": {},
   "outputs": [
    {
     "data": {
      "text/html": [
       "<div>\n",
       "<style scoped>\n",
       "    .dataframe tbody tr th:only-of-type {\n",
       "        vertical-align: middle;\n",
       "    }\n",
       "\n",
       "    .dataframe tbody tr th {\n",
       "        vertical-align: top;\n",
       "    }\n",
       "\n",
       "    .dataframe thead th {\n",
       "        text-align: right;\n",
       "    }\n",
       "</style>\n",
       "<table border=\"1\" class=\"dataframe\">\n",
       "  <thead>\n",
       "    <tr style=\"text-align: right;\">\n",
       "      <th></th>\n",
       "      <th>GENERE_F</th>\n",
       "      <th>GENERE_M</th>\n",
       "      <th>TITOLOSTUDIO</th>\n",
       "      <th>MODALITALAVORO</th>\n",
       "    </tr>\n",
       "  </thead>\n",
       "  <tbody>\n",
       "    <tr>\n",
       "      <th>0</th>\n",
       "      <td>1.0</td>\n",
       "      <td>0.0</td>\n",
       "      <td>0</td>\n",
       "      <td>2</td>\n",
       "    </tr>\n",
       "    <tr>\n",
       "      <th>1</th>\n",
       "      <td>1.0</td>\n",
       "      <td>0.0</td>\n",
       "      <td>0</td>\n",
       "      <td>2</td>\n",
       "    </tr>\n",
       "    <tr>\n",
       "      <th>2</th>\n",
       "      <td>1.0</td>\n",
       "      <td>0.0</td>\n",
       "      <td>0</td>\n",
       "      <td>2</td>\n",
       "    </tr>\n",
       "    <tr>\n",
       "      <th>3</th>\n",
       "      <td>0.0</td>\n",
       "      <td>1.0</td>\n",
       "      <td>0</td>\n",
       "      <td>4</td>\n",
       "    </tr>\n",
       "    <tr>\n",
       "      <th>4</th>\n",
       "      <td>1.0</td>\n",
       "      <td>0.0</td>\n",
       "      <td>3</td>\n",
       "      <td>4</td>\n",
       "    </tr>\n",
       "  </tbody>\n",
       "</table>\n",
       "</div>"
      ],
      "text/plain": [
       "   GENERE_F  GENERE_M  TITOLOSTUDIO  MODALITALAVORO\n",
       "0       1.0       0.0             0               2\n",
       "1       1.0       0.0             0               2\n",
       "2       1.0       0.0             0               2\n",
       "3       0.0       1.0             0               4\n",
       "4       1.0       0.0             3               4"
      ]
     },
     "execution_count": 83,
     "metadata": {},
     "output_type": "execute_result"
    }
   ],
   "source": [
    "activated_transformed['MODALITALAVORO'] = transformed_col\n",
    "activated_transformed.head()"
   ]
  },
  {
   "cell_type": "code",
   "execution_count": 84,
   "id": "cedf5bf2",
   "metadata": {},
   "outputs": [
    {
     "data": {
      "text/plain": [
       "array([2, 4, 0, 1, 3])"
      ]
     },
     "execution_count": 84,
     "metadata": {},
     "output_type": "execute_result"
    }
   ],
   "source": [
    "activated_transformed.MODALITALAVORO.unique()"
   ]
  },
  {
   "cell_type": "markdown",
   "id": "52a76be2",
   "metadata": {},
   "source": [
    "Transforming **PROVINCIA IMPRESA**, **NAZIONALITÀ** and **CONTRATTO**."
   ]
  },
  {
   "cell_type": "code",
   "execution_count": 85,
   "id": "40592971",
   "metadata": {},
   "outputs": [
    {
     "data": {
      "text/plain": [
       "array(['VARESE', 'MANTOVA', 'BERGAMO', 'MILANO', 'MONZA E BRIANZA',\n",
       "       'BRESCIA', 'LODI', 'PAVIA', 'LECCO', 'SONDRIO', 'CREMONA', 'COMO'],\n",
       "      dtype=object)"
      ]
     },
     "execution_count": 85,
     "metadata": {},
     "output_type": "execute_result"
    }
   ],
   "source": [
    "activated_labours.PROVINCIAIMPRESA.unique()"
   ]
  },
  {
   "cell_type": "code",
   "execution_count": 86,
   "id": "41f02bb9",
   "metadata": {},
   "outputs": [
    {
     "data": {
      "text/html": [
       "<div>\n",
       "<style scoped>\n",
       "    .dataframe tbody tr th:only-of-type {\n",
       "        vertical-align: middle;\n",
       "    }\n",
       "\n",
       "    .dataframe tbody tr th {\n",
       "        vertical-align: top;\n",
       "    }\n",
       "\n",
       "    .dataframe thead th {\n",
       "        text-align: right;\n",
       "    }\n",
       "</style>\n",
       "<table border=\"1\" class=\"dataframe\">\n",
       "  <thead>\n",
       "    <tr style=\"text-align: right;\">\n",
       "      <th></th>\n",
       "      <th>GENERE_F</th>\n",
       "      <th>GENERE_M</th>\n",
       "      <th>TITOLOSTUDIO</th>\n",
       "      <th>MODALITALAVORO</th>\n",
       "      <th>PROVINCIAIMPRESA</th>\n",
       "    </tr>\n",
       "  </thead>\n",
       "  <tbody>\n",
       "    <tr>\n",
       "      <th>0</th>\n",
       "      <td>1.0</td>\n",
       "      <td>0.0</td>\n",
       "      <td>0</td>\n",
       "      <td>2</td>\n",
       "      <td>11</td>\n",
       "    </tr>\n",
       "    <tr>\n",
       "      <th>1</th>\n",
       "      <td>1.0</td>\n",
       "      <td>0.0</td>\n",
       "      <td>0</td>\n",
       "      <td>2</td>\n",
       "      <td>6</td>\n",
       "    </tr>\n",
       "    <tr>\n",
       "      <th>2</th>\n",
       "      <td>1.0</td>\n",
       "      <td>0.0</td>\n",
       "      <td>0</td>\n",
       "      <td>2</td>\n",
       "      <td>0</td>\n",
       "    </tr>\n",
       "    <tr>\n",
       "      <th>3</th>\n",
       "      <td>0.0</td>\n",
       "      <td>1.0</td>\n",
       "      <td>0</td>\n",
       "      <td>4</td>\n",
       "      <td>7</td>\n",
       "    </tr>\n",
       "    <tr>\n",
       "      <th>4</th>\n",
       "      <td>1.0</td>\n",
       "      <td>0.0</td>\n",
       "      <td>3</td>\n",
       "      <td>4</td>\n",
       "      <td>7</td>\n",
       "    </tr>\n",
       "  </tbody>\n",
       "</table>\n",
       "</div>"
      ],
      "text/plain": [
       "   GENERE_F  GENERE_M  TITOLOSTUDIO  MODALITALAVORO  PROVINCIAIMPRESA\n",
       "0       1.0       0.0             0               2                11\n",
       "1       1.0       0.0             0               2                 6\n",
       "2       1.0       0.0             0               2                 0\n",
       "3       0.0       1.0             0               4                 7\n",
       "4       1.0       0.0             3               4                 7"
      ]
     },
     "execution_count": 86,
     "metadata": {},
     "output_type": "execute_result"
    }
   ],
   "source": [
    "le_prov = LabelEncoder()\n",
    "transformed_prov = le_prov.fit_transform(activated_labours.PROVINCIAIMPRESA)\n",
    "activated_transformed['PROVINCIAIMPRESA'] = transformed_prov\n",
    "activated_transformed.head()"
   ]
  },
  {
   "cell_type": "code",
   "execution_count": 87,
   "id": "f85d8ecd",
   "metadata": {},
   "outputs": [
    {
     "data": {
      "text/plain": [
       "array(['MAROCCO', 'ALBANIA', 'ITALIA', 'BANGLADESH', 'ROMANIA', 'TUNISIA',\n",
       "       \"COSTA D'AVORIO\", 'LIBERIA', 'EGITTO', 'CAMERUN', 'UCRAINA',\n",
       "       'ECUADOR', 'HONDURAS', 'CUBA', 'IRAQ', 'FILIPPINE', 'Moldova',\n",
       "       'Territori Autonomia Palestinese', 'BOLIVIA',\n",
       "       'Dominicana, Repubblica', 'SRI LANKA', \"PERU'\", 'SUDAN',\n",
       "       'PAKISTAN', 'NIGERIA', 'LIBIA', 'UNGHERIA', 'ARGENTINA', 'CROAZIA',\n",
       "       'BRASILE', 'Cinese, Repubblica Popolare', 'SPAGNA', 'INDIA',\n",
       "       'GHANA', 'SENEGAL', 'DOMINICA', 'REGNO UNITO', 'BULGARIA',\n",
       "       'MACEDONIA, ex REP. JUGOSLAVIA', 'TOGO', 'PORTOGALLO',\n",
       "       'EL SALVADOR', 'SLOVACCHIA', 'POLONIA', 'SERBIA', 'MALI',\n",
       "       'GERMANIA', \"STATI UNITI D'AMERICA\", 'IRAN', 'FRANCIA',\n",
       "       'BURKINA FASO', 'Mauritius', 'ERITREA', 'BENIN', 'KOSOVO',\n",
       "       'VENEZUELA', 'GIAPPONE', 'SIERRA LEONE', 'GAMBIA', 'GIORDANIA',\n",
       "       'ISRAELE', 'TURCHIA', 'CAPO VERDE', 'RUSSA, Federazione',\n",
       "       'ETIOPIA', 'LIBANO', 'SEYCHELLES', 'BOSNIA-ERZEGOVINA',\n",
       "       'CECA, Repubblica', 'LETTONIA', 'AUSTRIA', 'AFGHANISTAN',\n",
       "       'ALGERIA', 'ARMENIA', 'SUD AFRICA', 'SLOVENIA',\n",
       "       'Congo, Rep.Democratica', 'BELGIO', 'COLOMBIA', 'GRECIA', 'GUINEA',\n",
       "       'BIELORUSSIA', 'VIETNAM', 'SIRIA', 'SVIZZERA', 'UZBEKISTAN',\n",
       "       'LIECHTENSTEIN', 'URUGUAY', 'THAILANDIA', 'SOMALIA', 'LITUANIA',\n",
       "       'Corea, Repubblica', 'PAESI BASSI', 'INDONESIA', 'PARAGUAY',\n",
       "       'MALAYSIA', 'ESTONIA', 'MESSICO', 'NORVEGIA', 'GUINEA BISSAU',\n",
       "       'Centrafricana, Repubblica', 'KAZAKHSTAN', 'GEORGIA', 'RUANDA',\n",
       "       'CANADA', 'ANGOLA', 'APOLIDE', 'MOZAMBICO', 'NIGER', 'NEPAL',\n",
       "       'TAIWAN', 'GIAMAICA', 'MAURITANIA', 'IRLANDA', 'SINGAPORE', 'CILE',\n",
       "       'AUSTRALIA', 'FINLANDIA', 'SVEZIA', 'KENYA', 'ZAMBIA', 'GUATEMALA',\n",
       "       'MONTENEGRO', 'DANIMARCA', 'CAMBOGIA', 'BURUNDI',\n",
       "       'Micronesia, Stati Federati', 'NICARAGUA', 'MALTA', 'CONGO',\n",
       "       'UGANDA', 'NUOVA ZELANDA', 'KUWAIT', 'BARBADOS', 'PANAMA',\n",
       "       'MYANMAR', 'TANZANIA', 'EMIRATI ARABI UNITI', 'MALDIVE', 'HAITI',\n",
       "       'ZIMBABWE', 'KIRGHIZISTAN', 'AZERBAIGIAN', 'SAN MARINO', 'YEMEN',\n",
       "       'COSTA RICA', 'TRINIDAD E TOBAGO', 'SWAZILAND', 'MADAGASCAR',\n",
       "       'LAOS', 'CIAD', 'ISLANDA', 'CIPRO', 'TURKMENISTAN', 'FIGI',\n",
       "       'MONGOLIA', 'GABON', 'BHUTAN', 'LESOTHO', 'GUYANA', 'TUVALU',\n",
       "       'Corea, Repubblica Popolare', 'ANTIGUA E BARBUDA',\n",
       "       'Saint Vincent e Grenadin', 'LUSSEMBURGO', 'PALAU', 'KIRIBATI',\n",
       "       'BAHREIN', 'NAMIBIA', 'GRENADA', 'GUINEA EQUATORIALE',\n",
       "       'ARABIA SAUDITA', 'SAINT LUCIA', 'BAHAMAS', 'TAGIKISTAN',\n",
       "       'TERRITORI PALESTINESI', 'COMORE', 'ANDORRA',\n",
       "       'Sao Tomè e Principe', 'MALAWI', 'Marshall, Isole', 'QATAR',\n",
       "       'VANUATU', 'PAPUA NUOVA GUINEA', 'SANTA SEDE', 'MONACO', 'NAURU',\n",
       "       'TONGA', 'OMAN', 'BOTSWANA', 'Saint Kitts e Nevis', 'GIBUTI',\n",
       "       'SURINAME', 'BRUNEI'], dtype=object)"
      ]
     },
     "execution_count": 87,
     "metadata": {},
     "output_type": "execute_result"
    }
   ],
   "source": [
    "activated_labours.NAZIONALITA.unique()"
   ]
  },
  {
   "cell_type": "code",
   "execution_count": 88,
   "id": "2c643c82",
   "metadata": {},
   "outputs": [
    {
     "data": {
      "text/html": [
       "<div>\n",
       "<style scoped>\n",
       "    .dataframe tbody tr th:only-of-type {\n",
       "        vertical-align: middle;\n",
       "    }\n",
       "\n",
       "    .dataframe tbody tr th {\n",
       "        vertical-align: top;\n",
       "    }\n",
       "\n",
       "    .dataframe thead th {\n",
       "        text-align: right;\n",
       "    }\n",
       "</style>\n",
       "<table border=\"1\" class=\"dataframe\">\n",
       "  <thead>\n",
       "    <tr style=\"text-align: right;\">\n",
       "      <th></th>\n",
       "      <th>GENERE_F</th>\n",
       "      <th>GENERE_M</th>\n",
       "      <th>TITOLOSTUDIO</th>\n",
       "      <th>MODALITALAVORO</th>\n",
       "      <th>PROVINCIAIMPRESA</th>\n",
       "      <th>NAZIONALITA</th>\n",
       "    </tr>\n",
       "  </thead>\n",
       "  <tbody>\n",
       "    <tr>\n",
       "      <th>0</th>\n",
       "      <td>1.0</td>\n",
       "      <td>0.0</td>\n",
       "      <td>0</td>\n",
       "      <td>2</td>\n",
       "      <td>11</td>\n",
       "      <td>111</td>\n",
       "    </tr>\n",
       "    <tr>\n",
       "      <th>1</th>\n",
       "      <td>1.0</td>\n",
       "      <td>0.0</td>\n",
       "      <td>0</td>\n",
       "      <td>2</td>\n",
       "      <td>6</td>\n",
       "      <td>1</td>\n",
       "    </tr>\n",
       "    <tr>\n",
       "      <th>2</th>\n",
       "      <td>1.0</td>\n",
       "      <td>0.0</td>\n",
       "      <td>0</td>\n",
       "      <td>2</td>\n",
       "      <td>0</td>\n",
       "      <td>88</td>\n",
       "    </tr>\n",
       "    <tr>\n",
       "      <th>3</th>\n",
       "      <td>0.0</td>\n",
       "      <td>1.0</td>\n",
       "      <td>0</td>\n",
       "      <td>4</td>\n",
       "      <td>7</td>\n",
       "      <td>15</td>\n",
       "    </tr>\n",
       "    <tr>\n",
       "      <th>4</th>\n",
       "      <td>1.0</td>\n",
       "      <td>0.0</td>\n",
       "      <td>3</td>\n",
       "      <td>4</td>\n",
       "      <td>7</td>\n",
       "      <td>88</td>\n",
       "    </tr>\n",
       "  </tbody>\n",
       "</table>\n",
       "</div>"
      ],
      "text/plain": [
       "   GENERE_F  GENERE_M  TITOLOSTUDIO  MODALITALAVORO  PROVINCIAIMPRESA  \\\n",
       "0       1.0       0.0             0               2                11   \n",
       "1       1.0       0.0             0               2                 6   \n",
       "2       1.0       0.0             0               2                 0   \n",
       "3       0.0       1.0             0               4                 7   \n",
       "4       1.0       0.0             3               4                 7   \n",
       "\n",
       "   NAZIONALITA  \n",
       "0          111  \n",
       "1            1  \n",
       "2           88  \n",
       "3           15  \n",
       "4           88  "
      ]
     },
     "execution_count": 88,
     "metadata": {},
     "output_type": "execute_result"
    }
   ],
   "source": [
    "le_nationality = LabelEncoder()\n",
    "transformed_nationality = le_nationality.fit_transform(activated_labours.NAZIONALITA)\n",
    "activated_transformed['NAZIONALITA'] = transformed_nationality\n",
    "activated_transformed.head()"
   ]
  },
  {
   "cell_type": "code",
   "execution_count": 89,
   "metadata": {},
   "outputs": [
    {
     "data": {
      "text/html": [
       "<div>\n",
       "<style scoped>\n",
       "    .dataframe tbody tr th:only-of-type {\n",
       "        vertical-align: middle;\n",
       "    }\n",
       "\n",
       "    .dataframe tbody tr th {\n",
       "        vertical-align: top;\n",
       "    }\n",
       "\n",
       "    .dataframe thead th {\n",
       "        text-align: right;\n",
       "    }\n",
       "</style>\n",
       "<table border=\"1\" class=\"dataframe\">\n",
       "  <thead>\n",
       "    <tr style=\"text-align: right;\">\n",
       "      <th></th>\n",
       "      <th>GENERE_F</th>\n",
       "      <th>GENERE_M</th>\n",
       "      <th>TITOLOSTUDIO</th>\n",
       "      <th>MODALITALAVORO</th>\n",
       "      <th>PROVINCIAIMPRESA</th>\n",
       "      <th>NAZIONALITA</th>\n",
       "      <th>CONTRATTO</th>\n",
       "    </tr>\n",
       "  </thead>\n",
       "  <tbody>\n",
       "    <tr>\n",
       "      <th>0</th>\n",
       "      <td>1.0</td>\n",
       "      <td>0.0</td>\n",
       "      <td>0</td>\n",
       "      <td>2</td>\n",
       "      <td>11</td>\n",
       "      <td>111</td>\n",
       "      <td>12</td>\n",
       "    </tr>\n",
       "    <tr>\n",
       "      <th>1</th>\n",
       "      <td>1.0</td>\n",
       "      <td>0.0</td>\n",
       "      <td>0</td>\n",
       "      <td>2</td>\n",
       "      <td>6</td>\n",
       "      <td>1</td>\n",
       "      <td>15</td>\n",
       "    </tr>\n",
       "    <tr>\n",
       "      <th>2</th>\n",
       "      <td>1.0</td>\n",
       "      <td>0.0</td>\n",
       "      <td>0</td>\n",
       "      <td>2</td>\n",
       "      <td>0</td>\n",
       "      <td>88</td>\n",
       "      <td>15</td>\n",
       "    </tr>\n",
       "    <tr>\n",
       "      <th>3</th>\n",
       "      <td>0.0</td>\n",
       "      <td>1.0</td>\n",
       "      <td>0</td>\n",
       "      <td>4</td>\n",
       "      <td>7</td>\n",
       "      <td>15</td>\n",
       "      <td>12</td>\n",
       "    </tr>\n",
       "    <tr>\n",
       "      <th>4</th>\n",
       "      <td>1.0</td>\n",
       "      <td>0.0</td>\n",
       "      <td>3</td>\n",
       "      <td>4</td>\n",
       "      <td>7</td>\n",
       "      <td>88</td>\n",
       "      <td>10</td>\n",
       "    </tr>\n",
       "  </tbody>\n",
       "</table>\n",
       "</div>"
      ],
      "text/plain": [
       "   GENERE_F  GENERE_M  TITOLOSTUDIO  MODALITALAVORO  PROVINCIAIMPRESA  \\\n",
       "0       1.0       0.0             0               2                11   \n",
       "1       1.0       0.0             0               2                 6   \n",
       "2       1.0       0.0             0               2                 0   \n",
       "3       0.0       1.0             0               4                 7   \n",
       "4       1.0       0.0             3               4                 7   \n",
       "\n",
       "   NAZIONALITA  CONTRATTO  \n",
       "0          111         12  \n",
       "1            1         15  \n",
       "2           88         15  \n",
       "3           15         12  \n",
       "4           88         10  "
      ]
     },
     "execution_count": 89,
     "metadata": {},
     "output_type": "execute_result"
    }
   ],
   "source": [
    "le_contract = LabelEncoder()\n",
    "transformed_contract = le_contract.fit_transform(activated_labours.CONTRATTO)\n",
    "activated_transformed['CONTRATTO'] = transformed_contract\n",
    "activated_transformed.head()"
   ]
  },
  {
   "cell_type": "code",
   "execution_count": 90,
   "metadata": {},
   "outputs": [
    {
     "data": {
      "text/html": [
       "<div>\n",
       "<style scoped>\n",
       "    .dataframe tbody tr th:only-of-type {\n",
       "        vertical-align: middle;\n",
       "    }\n",
       "\n",
       "    .dataframe tbody tr th {\n",
       "        vertical-align: top;\n",
       "    }\n",
       "\n",
       "    .dataframe thead th {\n",
       "        text-align: right;\n",
       "    }\n",
       "</style>\n",
       "<table border=\"1\" class=\"dataframe\">\n",
       "  <thead>\n",
       "    <tr style=\"text-align: right;\">\n",
       "      <th></th>\n",
       "      <th>GENERE_F</th>\n",
       "      <th>GENERE_M</th>\n",
       "      <th>TITOLOSTUDIO</th>\n",
       "      <th>MODALITALAVORO</th>\n",
       "      <th>PROVINCIAIMPRESA</th>\n",
       "      <th>NAZIONALITA</th>\n",
       "      <th>CONTRATTO</th>\n",
       "      <th>ETA</th>\n",
       "      <th>RETRIBUZIONE</th>\n",
       "      <th>DATA</th>\n",
       "      <th>ANNO</th>\n",
       "    </tr>\n",
       "  </thead>\n",
       "  <tbody>\n",
       "    <tr>\n",
       "      <th>0</th>\n",
       "      <td>1.0</td>\n",
       "      <td>0.0</td>\n",
       "      <td>0</td>\n",
       "      <td>2</td>\n",
       "      <td>11</td>\n",
       "      <td>111</td>\n",
       "      <td>12</td>\n",
       "      <td>49</td>\n",
       "      <td>10.210</td>\n",
       "      <td>2014-01-01</td>\n",
       "      <td>2014</td>\n",
       "    </tr>\n",
       "    <tr>\n",
       "      <th>1</th>\n",
       "      <td>1.0</td>\n",
       "      <td>0.0</td>\n",
       "      <td>0</td>\n",
       "      <td>2</td>\n",
       "      <td>6</td>\n",
       "      <td>1</td>\n",
       "      <td>15</td>\n",
       "      <td>52</td>\n",
       "      <td>10.210</td>\n",
       "      <td>2014-01-01</td>\n",
       "      <td>2014</td>\n",
       "    </tr>\n",
       "    <tr>\n",
       "      <th>2</th>\n",
       "      <td>1.0</td>\n",
       "      <td>0.0</td>\n",
       "      <td>0</td>\n",
       "      <td>2</td>\n",
       "      <td>0</td>\n",
       "      <td>88</td>\n",
       "      <td>15</td>\n",
       "      <td>43</td>\n",
       "      <td>10.210</td>\n",
       "      <td>2014-01-01</td>\n",
       "      <td>2014</td>\n",
       "    </tr>\n",
       "    <tr>\n",
       "      <th>3</th>\n",
       "      <td>0.0</td>\n",
       "      <td>1.0</td>\n",
       "      <td>0</td>\n",
       "      <td>4</td>\n",
       "      <td>7</td>\n",
       "      <td>15</td>\n",
       "      <td>12</td>\n",
       "      <td>29</td>\n",
       "      <td>12.070</td>\n",
       "      <td>2014-01-01</td>\n",
       "      <td>2014</td>\n",
       "    </tr>\n",
       "    <tr>\n",
       "      <th>4</th>\n",
       "      <td>1.0</td>\n",
       "      <td>0.0</td>\n",
       "      <td>3</td>\n",
       "      <td>4</td>\n",
       "      <td>7</td>\n",
       "      <td>88</td>\n",
       "      <td>10</td>\n",
       "      <td>29</td>\n",
       "      <td>11.904</td>\n",
       "      <td>2014-01-01</td>\n",
       "      <td>2014</td>\n",
       "    </tr>\n",
       "  </tbody>\n",
       "</table>\n",
       "</div>"
      ],
      "text/plain": [
       "   GENERE_F  GENERE_M  TITOLOSTUDIO  MODALITALAVORO  PROVINCIAIMPRESA  \\\n",
       "0       1.0       0.0             0               2                11   \n",
       "1       1.0       0.0             0               2                 6   \n",
       "2       1.0       0.0             0               2                 0   \n",
       "3       0.0       1.0             0               4                 7   \n",
       "4       1.0       0.0             3               4                 7   \n",
       "\n",
       "   NAZIONALITA  CONTRATTO  ETA  RETRIBUZIONE       DATA  ANNO  \n",
       "0          111         12   49        10.210 2014-01-01  2014  \n",
       "1            1         15   52        10.210 2014-01-01  2014  \n",
       "2           88         15   43        10.210 2014-01-01  2014  \n",
       "3           15         12   29        12.070 2014-01-01  2014  \n",
       "4           88         10   29        11.904 2014-01-01  2014  "
      ]
     },
     "execution_count": 90,
     "metadata": {},
     "output_type": "execute_result"
    }
   ],
   "source": [
    "activated_transformed['ETA'] = activated_labours['ETA']\n",
    "activated_transformed['RETRIBUZIONE'] = activated_labours['RETRIBUZIONE']\n",
    "activated_transformed['DATA'] = activated_labours['DATA']\n",
    "activated_transformed['ANNO'] = activated_labours['ANNO']\n",
    "activated_transformed.head()"
   ]
  },
  {
   "cell_type": "markdown",
   "id": "43988776",
   "metadata": {},
   "source": [
    "Every feature has been converted into numerical values."
   ]
  },
  {
   "cell_type": "code",
   "execution_count": 91,
   "id": "a6a6ec70",
   "metadata": {},
   "outputs": [],
   "source": [
    "#activated_transformed.to_csv('./activated_labours_transformed_reg.csv')"
   ]
  },
  {
   "cell_type": "markdown",
   "metadata": {},
   "source": [
    "### Scale the data"
   ]
  },
  {
   "cell_type": "markdown",
   "metadata": {},
   "source": [
    "Apply standardization."
   ]
  },
  {
   "cell_type": "code",
   "execution_count": 92,
   "metadata": {},
   "outputs": [],
   "source": [
    "from sklearn.preprocessing import StandardScaler"
   ]
  },
  {
   "cell_type": "code",
   "execution_count": 93,
   "metadata": {},
   "outputs": [
    {
     "data": {
      "text/html": [
       "<div>\n",
       "<style scoped>\n",
       "    .dataframe tbody tr th:only-of-type {\n",
       "        vertical-align: middle;\n",
       "    }\n",
       "\n",
       "    .dataframe tbody tr th {\n",
       "        vertical-align: top;\n",
       "    }\n",
       "\n",
       "    .dataframe thead th {\n",
       "        text-align: right;\n",
       "    }\n",
       "</style>\n",
       "<table border=\"1\" class=\"dataframe\">\n",
       "  <thead>\n",
       "    <tr style=\"text-align: right;\">\n",
       "      <th></th>\n",
       "      <th>GENERE_F</th>\n",
       "      <th>GENERE_M</th>\n",
       "      <th>TITOLOSTUDIO</th>\n",
       "      <th>MODALITALAVORO</th>\n",
       "      <th>PROVINCIAIMPRESA</th>\n",
       "      <th>NAZIONALITA</th>\n",
       "      <th>CONTRATTO</th>\n",
       "      <th>ETA</th>\n",
       "      <th>RETRIBUZIONE</th>\n",
       "      <th>ANNO</th>\n",
       "    </tr>\n",
       "  </thead>\n",
       "  <tbody>\n",
       "    <tr>\n",
       "      <th>0</th>\n",
       "      <td>1.084956</td>\n",
       "      <td>-1.084956</td>\n",
       "      <td>-0.833091</td>\n",
       "      <td>-0.665584</td>\n",
       "      <td>1.725386</td>\n",
       "      <td>0.811845</td>\n",
       "      <td>0.319446</td>\n",
       "      <td>1.121898</td>\n",
       "      <td>-1.504633</td>\n",
       "      <td>-1.566928</td>\n",
       "    </tr>\n",
       "    <tr>\n",
       "      <th>1</th>\n",
       "      <td>1.084956</td>\n",
       "      <td>-1.084956</td>\n",
       "      <td>-0.833091</td>\n",
       "      <td>-0.665584</td>\n",
       "      <td>0.089319</td>\n",
       "      <td>-3.333630</td>\n",
       "      <td>1.277094</td>\n",
       "      <td>1.372639</td>\n",
       "      <td>-1.504633</td>\n",
       "      <td>-1.566928</td>\n",
       "    </tr>\n",
       "    <tr>\n",
       "      <th>2</th>\n",
       "      <td>1.084956</td>\n",
       "      <td>-1.084956</td>\n",
       "      <td>-0.833091</td>\n",
       "      <td>-0.665584</td>\n",
       "      <td>-1.873962</td>\n",
       "      <td>-0.054936</td>\n",
       "      <td>1.277094</td>\n",
       "      <td>0.620416</td>\n",
       "      <td>-1.504633</td>\n",
       "      <td>-1.566928</td>\n",
       "    </tr>\n",
       "    <tr>\n",
       "      <th>3</th>\n",
       "      <td>-0.921697</td>\n",
       "      <td>0.921697</td>\n",
       "      <td>-0.833091</td>\n",
       "      <td>0.762277</td>\n",
       "      <td>0.416532</td>\n",
       "      <td>-2.806024</td>\n",
       "      <td>0.319446</td>\n",
       "      <td>-0.549710</td>\n",
       "      <td>0.350824</td>\n",
       "      <td>-1.566928</td>\n",
       "    </tr>\n",
       "    <tr>\n",
       "      <th>4</th>\n",
       "      <td>1.084956</td>\n",
       "      <td>-1.084956</td>\n",
       "      <td>1.708498</td>\n",
       "      <td>0.762277</td>\n",
       "      <td>0.416532</td>\n",
       "      <td>-0.054936</td>\n",
       "      <td>-0.318986</td>\n",
       "      <td>-0.549710</td>\n",
       "      <td>0.185230</td>\n",
       "      <td>-1.566928</td>\n",
       "    </tr>\n",
       "  </tbody>\n",
       "</table>\n",
       "</div>"
      ],
      "text/plain": [
       "   GENERE_F  GENERE_M  TITOLOSTUDIO  MODALITALAVORO  PROVINCIAIMPRESA  \\\n",
       "0  1.084956 -1.084956     -0.833091       -0.665584          1.725386   \n",
       "1  1.084956 -1.084956     -0.833091       -0.665584          0.089319   \n",
       "2  1.084956 -1.084956     -0.833091       -0.665584         -1.873962   \n",
       "3 -0.921697  0.921697     -0.833091        0.762277          0.416532   \n",
       "4  1.084956 -1.084956      1.708498        0.762277          0.416532   \n",
       "\n",
       "   NAZIONALITA  CONTRATTO       ETA  RETRIBUZIONE      ANNO  \n",
       "0     0.811845   0.319446  1.121898     -1.504633 -1.566928  \n",
       "1    -3.333630   1.277094  1.372639     -1.504633 -1.566928  \n",
       "2    -0.054936   1.277094  0.620416     -1.504633 -1.566928  \n",
       "3    -2.806024   0.319446 -0.549710      0.350824 -1.566928  \n",
       "4    -0.054936  -0.318986 -0.549710      0.185230 -1.566928  "
      ]
     },
     "execution_count": 93,
     "metadata": {},
     "output_type": "execute_result"
    }
   ],
   "source": [
    "ss = StandardScaler()\n",
    "activated_transformed_temp = activated_transformed.drop('DATA', axis=1)\n",
    "scaled_labours = pd.DataFrame(data=ss.fit_transform(activated_transformed_temp), columns=activated_transformed_temp.columns)\n",
    "scaled_labours.head()"
   ]
  },
  {
   "cell_type": "markdown",
   "metadata": {},
   "source": [
    "## Correlation"
   ]
  },
  {
   "cell_type": "code",
   "execution_count": 94,
   "metadata": {},
   "outputs": [
    {
     "data": {
      "text/plain": [
       "<AxesSubplot:>"
      ]
     },
     "execution_count": 94,
     "metadata": {},
     "output_type": "execute_result"
    },
    {
     "data": {
      "image/png": "[encoded data removed]",
      "text/plain": [
       "<Figure size 842.4x595.44 with 2 Axes>"
      ]
     },
     "metadata": {
      "needs_background": "light"
     },
     "output_type": "display_data"
    }
   ],
   "source": [
    "sns.heatmap(scaled_labours.corr(), \n",
    "            square=True,\n",
    "            linewidths=0.2,\n",
    "            cmap='Blues_r',\n",
    "            annot=True)"
   ]
  },
  {
   "cell_type": "markdown",
   "metadata": {},
   "source": [
    "The best correlation is between **RETRIBUZIONE** and **GENERE**, but there is also a considerable correlation between **RETRIBUZIONE** and **TITOLOSTUDIO**.\n",
    "A more weak correlation is the one between **RETRIBUZIONE** and **MODALITALAVORO**.\n",
    "We'll try to make predictions about **RETRIBUZIONE** basing on **GENERE** and **TITOLOSTUDIO**. Later on we'll compare the results of predictions by considering also **MODALITALAVORO**. "
   ]
  },
  {
   "cell_type": "code",
   "execution_count": 96,
   "metadata": {},
   "outputs": [],
   "source": [
    "scaled_labours1 = scaled_labours[['GENERE_F', 'GENERE_M', 'TITOLOSTUDIO', 'RETRIBUZIONE']]\n",
    "scaled_labours2 = scaled_labours[['GENERE_F', 'GENERE_M', 'TITOLOSTUDIO', 'MODALITALAVORO', 'RETRIBUZIONE']]"
   ]
  },
  {
   "cell_type": "markdown",
   "metadata": {},
   "source": [
    "## Predictions"
   ]
  },
  {
   "cell_type": "markdown",
   "metadata": {},
   "source": [
    "We will compare the predictions computed using different regression models and then compare the results with the same models applied considering also the feature **MODALITALAVORO**"
   ]
  },
  {
   "cell_type": "code",
   "execution_count": 97,
   "metadata": {},
   "outputs": [],
   "source": [
    "from sklearn import preprocessing, svm\n",
    "from sklearn.linear_model import LinearRegression, ElasticNet\n",
    "from sklearn.model_selection import train_test_split, cross_val_score, GridSearchCV\n",
    "from sklearn.ensemble import RandomForestRegressor\n",
    "from sklearn.metrics import mean_squared_error, r2_score"
   ]
  },
  {
   "cell_type": "code",
   "execution_count": 98,
   "metadata": {},
   "outputs": [],
   "source": [
    "X = scaled_labours1.drop('RETRIBUZIONE', axis=1)\n",
    "Y = scaled_labours1['RETRIBUZIONE']\n",
    "\n",
    "x = X.values\n",
    "y = Y.values\n",
    "\n",
    "x_train, x_test, y_train, y_test = train_test_split(x, y, test_size = 0.1, random_state = 0)"
   ]
  },
  {
   "cell_type": "markdown",
   "metadata": {},
   "source": [
    "### Linear regression"
   ]
  },
  {
   "cell_type": "code",
   "execution_count": 99,
   "metadata": {},
   "outputs": [
    {
     "name": "stdout",
     "output_type": "stream",
     "text": [
      "DEGREE 1: MSE=0.15344357262114106 R2=0.8464744375162119\n",
      "DEGREE 2: MSE=0.15214788512561792 R2=0.8477708173394617\n",
      "DEGREE 3: MSE=0.10180008255565334 R2=0.8981455223684004\n",
      "DEGREE 4: MSE=0.08475658629401914 R2=0.9151981255212106\n"
     ]
    },
    {
     "ename": "",
     "evalue": "",
     "output_type": "error",
     "traceback": [
      "\u001b[1;31mCanceled future for execute_request message before replies were done"
     ]
    },
    {
     "ename": "",
     "evalue": "",
     "output_type": "error",
     "traceback": [
      "\u001b[1;31mThe Kernel crashed while executing code in the the current cell or a previous cell. Please review the code in the cell(s) to identify a possible cause of the failure. Click <a href='https://aka.ms/vscodeJupyterKernelCrash'>here</a> for more info. View Jupyter <a href='command:jupyter.viewOutput'>log</a> for further details."
     ]
    }
   ],
   "source": [
    "scores = []\n",
    "\n",
    "for i in range(1, 4):\n",
    "    polyfeats = preprocessing.PolynomialFeatures(degree=i)\n",
    "    x_train_poly = polyfeats.fit_transform(x_train)\n",
    "    x_test_poly = polyfeats.transform(x_test)\n",
    "    lr = LinearRegression()\n",
    "    lr.fit(x_train_poly, y_train)\n",
    "    y_pred = lr.predict(x_test_poly)\n",
    "    mse = mean_squared_error(y_test, y_pred)\n",
    "    r2 = r2_score(y_test, y_pred)\n",
    "    scores.append(r2)\n",
    "    print(\"DEGREE \"+str(i)+\": MSE=\"+str(mse)+\" R2=\"+str(r2))"
   ]
  },
  {
   "cell_type": "markdown",
   "id": "8d4659fc",
   "metadata": {},
   "source": [
    "# Machine learning"
   ]
  },
  {
   "cell_type": "markdown",
   "id": "88b42e69",
   "metadata": {},
   "source": [
    "Given a set of activated labours features we want to try to predict the study title of people."
   ]
  },
  {
   "cell_type": "code",
   "execution_count": 21,
   "id": "caae796d",
   "metadata": {},
   "outputs": [
    {
     "data": {
      "text/html": [
       "<div>\n",
       "<style scoped>\n",
       "    .dataframe tbody tr th:only-of-type {\n",
       "        vertical-align: middle;\n",
       "    }\n",
       "\n",
       "    .dataframe tbody tr th {\n",
       "        vertical-align: top;\n",
       "    }\n",
       "\n",
       "    .dataframe thead th {\n",
       "        text-align: right;\n",
       "    }\n",
       "</style>\n",
       "<table border=\"1\" class=\"dataframe\">\n",
       "  <thead>\n",
       "    <tr style=\"text-align: right;\">\n",
       "      <th></th>\n",
       "      <th>GENERE_F</th>\n",
       "      <th>GENERE_M</th>\n",
       "      <th>TITOLOSTUDIO</th>\n",
       "      <th>MODALITALAVORO</th>\n",
       "      <th>PROVINCIAIMPRESA</th>\n",
       "      <th>NATIONALITY</th>\n",
       "    </tr>\n",
       "  </thead>\n",
       "  <tbody>\n",
       "    <tr>\n",
       "      <th>0</th>\n",
       "      <td>1.0</td>\n",
       "      <td>0.0</td>\n",
       "      <td>0</td>\n",
       "      <td>2</td>\n",
       "      <td>7</td>\n",
       "      <td>89</td>\n",
       "    </tr>\n",
       "    <tr>\n",
       "      <th>1</th>\n",
       "      <td>1.0</td>\n",
       "      <td>0.0</td>\n",
       "      <td>0</td>\n",
       "      <td>2</td>\n",
       "      <td>7</td>\n",
       "      <td>89</td>\n",
       "    </tr>\n",
       "    <tr>\n",
       "      <th>2</th>\n",
       "      <td>1.0</td>\n",
       "      <td>0.0</td>\n",
       "      <td>0</td>\n",
       "      <td>2</td>\n",
       "      <td>0</td>\n",
       "      <td>89</td>\n",
       "    </tr>\n",
       "    <tr>\n",
       "      <th>3</th>\n",
       "      <td>0.0</td>\n",
       "      <td>1.0</td>\n",
       "      <td>0</td>\n",
       "      <td>4</td>\n",
       "      <td>7</td>\n",
       "      <td>89</td>\n",
       "    </tr>\n",
       "    <tr>\n",
       "      <th>4</th>\n",
       "      <td>0.0</td>\n",
       "      <td>1.0</td>\n",
       "      <td>0</td>\n",
       "      <td>4</td>\n",
       "      <td>7</td>\n",
       "      <td>89</td>\n",
       "    </tr>\n",
       "  </tbody>\n",
       "</table>\n",
       "</div>"
      ],
      "text/plain": [
       "   GENERE_F  GENERE_M  TITOLOSTUDIO  MODALITALAVORO  PROVINCIAIMPRESA  \\\n",
       "0       1.0       0.0             0               2                 7   \n",
       "1       1.0       0.0             0               2                 7   \n",
       "2       1.0       0.0             0               2                 0   \n",
       "3       0.0       1.0             0               4                 7   \n",
       "4       0.0       1.0             0               4                 7   \n",
       "\n",
       "   NATIONALITY  \n",
       "0           89  \n",
       "1           89  \n",
       "2           89  \n",
       "3           89  \n",
       "4           89  "
      ]
     },
     "execution_count": 21,
     "metadata": {},
     "output_type": "execute_result"
    }
   ],
   "source": [
    "# the features\n",
    "activated_transformed.head()"
   ]
  },
  {
   "cell_type": "markdown",
   "id": "53d340f4",
   "metadata": {},
   "source": [
    "### Linear regression"
   ]
  },
  {
   "cell_type": "markdown",
   "id": "34d90361",
   "metadata": {},
   "source": [
    "We must check the linearity of the data to understand if we can apply the multiple linear regression."
   ]
  },
  {
   "cell_type": "code",
   "execution_count": 23,
   "id": "fb757e37",
   "metadata": {},
   "outputs": [
    {
     "data": {
      "image/png": "[encoded data removed]",
      "text/plain": [
       "<Figure size 792x576 with 2 Axes>"
      ]
     },
     "metadata": {
      "needs_background": "light"
     },
     "output_type": "display_data"
    }
   ],
   "source": [
    "corrMatrix = activated_transformed.corr()\n",
    "plt.figure(figsize=(11,8))\n",
    "sns.heatmap(corrMatrix, annot=True)\n",
    "plt.show()"
   ]
  },
  {
   "cell_type": "markdown",
   "id": "2fdb1a67",
   "metadata": {},
   "source": [
    "The correlation matrix does not show significative correlations between our features. Thus, performing the linear regression is not suitable in our case."
   ]
  },
  {
   "cell_type": "markdown",
   "id": "ec73ce80",
   "metadata": {},
   "source": [
    "### XGBoost"
   ]
  },
  {
   "cell_type": "markdown",
   "id": "34fa12e0",
   "metadata": {},
   "source": [
    "Move target column to the last position"
   ]
  },
  {
   "cell_type": "code",
   "execution_count": 32,
   "id": "296074ff",
   "metadata": {},
   "outputs": [],
   "source": [
    "xgb_activated_transformed = activated_transformed.loc[:, activated_transformed.columns != 'TITOLOSTUDIO']\n",
    "xgb_activated_transformed['TITOLOSTUDIO']= activated_transformed['TITOLOSTUDIO']"
   ]
  },
  {
   "cell_type": "code",
   "execution_count": 33,
   "id": "17a3991e",
   "metadata": {},
   "outputs": [
    {
     "data": {
      "text/html": [
       "<div>\n",
       "<style scoped>\n",
       "    .dataframe tbody tr th:only-of-type {\n",
       "        vertical-align: middle;\n",
       "    }\n",
       "\n",
       "    .dataframe tbody tr th {\n",
       "        vertical-align: top;\n",
       "    }\n",
       "\n",
       "    .dataframe thead th {\n",
       "        text-align: right;\n",
       "    }\n",
       "</style>\n",
       "<table border=\"1\" class=\"dataframe\">\n",
       "  <thead>\n",
       "    <tr style=\"text-align: right;\">\n",
       "      <th></th>\n",
       "      <th>GENERE_F</th>\n",
       "      <th>GENERE_M</th>\n",
       "      <th>MODALITALAVORO</th>\n",
       "      <th>PROVINCIAIMPRESA</th>\n",
       "      <th>NATIONALITY</th>\n",
       "      <th>TITOLOSTUDIO</th>\n",
       "    </tr>\n",
       "  </thead>\n",
       "  <tbody>\n",
       "    <tr>\n",
       "      <th>0</th>\n",
       "      <td>1.0</td>\n",
       "      <td>0.0</td>\n",
       "      <td>2</td>\n",
       "      <td>7</td>\n",
       "      <td>89</td>\n",
       "      <td>0</td>\n",
       "    </tr>\n",
       "    <tr>\n",
       "      <th>1</th>\n",
       "      <td>1.0</td>\n",
       "      <td>0.0</td>\n",
       "      <td>2</td>\n",
       "      <td>7</td>\n",
       "      <td>89</td>\n",
       "      <td>0</td>\n",
       "    </tr>\n",
       "    <tr>\n",
       "      <th>2</th>\n",
       "      <td>1.0</td>\n",
       "      <td>0.0</td>\n",
       "      <td>2</td>\n",
       "      <td>0</td>\n",
       "      <td>89</td>\n",
       "      <td>0</td>\n",
       "    </tr>\n",
       "    <tr>\n",
       "      <th>3</th>\n",
       "      <td>0.0</td>\n",
       "      <td>1.0</td>\n",
       "      <td>4</td>\n",
       "      <td>7</td>\n",
       "      <td>89</td>\n",
       "      <td>0</td>\n",
       "    </tr>\n",
       "    <tr>\n",
       "      <th>4</th>\n",
       "      <td>0.0</td>\n",
       "      <td>1.0</td>\n",
       "      <td>4</td>\n",
       "      <td>7</td>\n",
       "      <td>89</td>\n",
       "      <td>0</td>\n",
       "    </tr>\n",
       "  </tbody>\n",
       "</table>\n",
       "</div>"
      ],
      "text/plain": [
       "   GENERE_F  GENERE_M  MODALITALAVORO  PROVINCIAIMPRESA  NATIONALITY  \\\n",
       "0       1.0       0.0               2                 7           89   \n",
       "1       1.0       0.0               2                 7           89   \n",
       "2       1.0       0.0               2                 0           89   \n",
       "3       0.0       1.0               4                 7           89   \n",
       "4       0.0       1.0               4                 7           89   \n",
       "\n",
       "   TITOLOSTUDIO  \n",
       "0             0  \n",
       "1             0  \n",
       "2             0  \n",
       "3             0  \n",
       "4             0  "
      ]
     },
     "execution_count": 33,
     "metadata": {},
     "output_type": "execute_result"
    }
   ],
   "source": [
    "xgb_activated_transformed.head()"
   ]
  },
  {
   "cell_type": "code",
   "execution_count": 37,
   "id": "d8378a9e",
   "metadata": {},
   "outputs": [],
   "source": [
    "#Prepare the dataset for prediction\n",
    "X, y = xgb_activated_transformed.iloc[:,:-1], xgb_activated_transformed.iloc[:,-1]"
   ]
  },
  {
   "cell_type": "code",
   "execution_count": 39,
   "id": "87a48a73",
   "metadata": {},
   "outputs": [],
   "source": [
    "data_dmatrix = xgb.DMatrix(data=X,label=y)"
   ]
  },
  {
   "cell_type": "code",
   "execution_count": 45,
   "id": "97fd2fc7",
   "metadata": {},
   "outputs": [],
   "source": [
    "X_train, X_test, y_train, y_test = train_test_split(X, y, test_size=0.2, random_state=123)"
   ]
  },
  {
   "cell_type": "code",
   "execution_count": 43,
   "id": "5bc0bfc4",
   "metadata": {},
   "outputs": [],
   "source": [
    "xgbc = XGBClassifier()"
   ]
  },
  {
   "cell_type": "code",
   "execution_count": 46,
   "id": "3b25baf8",
   "metadata": {},
   "outputs": [
    {
     "data": {
      "text/plain": [
       "XGBClassifier(base_score=0.5, booster='gbtree', callbacks=None,\n",
       "              colsample_bylevel=1, colsample_bynode=1, colsample_bytree=1,\n",
       "              early_stopping_rounds=None, enable_categorical=False,\n",
       "              eval_metric=None, gamma=0, gpu_id=-1, grow_policy='depthwise',\n",
       "              importance_type=None, interaction_constraints='',\n",
       "              learning_rate=0.300000012, max_bin=256, max_cat_to_onehot=4,\n",
       "              max_delta_step=0, max_depth=6, max_leaves=0, min_child_weight=1,\n",
       "              missing=nan, monotone_constraints='()', n_estimators=100,\n",
       "              n_jobs=0, num_parallel_tree=1, objective='multi:softprob',\n",
       "              predictor='auto', random_state=0, reg_alpha=0, ...)"
      ]
     },
     "execution_count": 46,
     "metadata": {},
     "output_type": "execute_result"
    }
   ],
   "source": [
    "xgbc.fit(X_train, y_train)"
   ]
  },
  {
   "cell_type": "code",
   "execution_count": 48,
   "id": "d58f11a5",
   "metadata": {},
   "outputs": [
    {
     "ename": "KeyboardInterrupt",
     "evalue": "",
     "output_type": "error",
     "traceback": [
      "\u001b[0;31m---------------------------------------------------------------------------\u001b[0m",
      "\u001b[0;31mKeyboardInterrupt\u001b[0m                         Traceback (most recent call last)",
      "\u001b[1;32m/Users/andreanonali/Documents/DataScienceForBusiness/transformations_activated_labours.ipynb Cell 47'\u001b[0m in \u001b[0;36m<cell line: 1>\u001b[0;34m()\u001b[0m\n\u001b[0;32m----> <a href='vscode-notebook-cell:/Users/andreanonali/Documents/DataScienceForBusiness/transformations_activated_labours.ipynb#ch0000048?line=0'>1</a>\u001b[0m cross_val_score(xgbc, X_train, y_train, cv\u001b[39m=\u001b[39;49m\u001b[39m5\u001b[39;49m)\n",
      "File \u001b[0;32m/opt/homebrew/lib/python3.9/site-packages/sklearn/model_selection/_validation.py:509\u001b[0m, in \u001b[0;36mcross_val_score\u001b[0;34m(estimator, X, y, groups, scoring, cv, n_jobs, verbose, fit_params, pre_dispatch, error_score)\u001b[0m\n\u001b[1;32m    <a href='file:///opt/homebrew/lib/python3.9/site-packages/sklearn/model_selection/_validation.py?line=505'>506</a>\u001b[0m \u001b[39m# To ensure multimetric format is not supported\u001b[39;00m\n\u001b[1;32m    <a href='file:///opt/homebrew/lib/python3.9/site-packages/sklearn/model_selection/_validation.py?line=506'>507</a>\u001b[0m scorer \u001b[39m=\u001b[39m check_scoring(estimator, scoring\u001b[39m=\u001b[39mscoring)\n\u001b[0;32m--> <a href='file:///opt/homebrew/lib/python3.9/site-packages/sklearn/model_selection/_validation.py?line=508'>509</a>\u001b[0m cv_results \u001b[39m=\u001b[39m cross_validate(\n\u001b[1;32m    <a href='file:///opt/homebrew/lib/python3.9/site-packages/sklearn/model_selection/_validation.py?line=509'>510</a>\u001b[0m     estimator\u001b[39m=\u001b[39;49mestimator,\n\u001b[1;32m    <a href='file:///opt/homebrew/lib/python3.9/site-packages/sklearn/model_selection/_validation.py?line=510'>511</a>\u001b[0m     X\u001b[39m=\u001b[39;49mX,\n\u001b[1;32m    <a href='file:///opt/homebrew/lib/python3.9/site-packages/sklearn/model_selection/_validation.py?line=511'>512</a>\u001b[0m     y\u001b[39m=\u001b[39;49my,\n\u001b[1;32m    <a href='file:///opt/homebrew/lib/python3.9/site-packages/sklearn/model_selection/_validation.py?line=512'>513</a>\u001b[0m     groups\u001b[39m=\u001b[39;49mgroups,\n\u001b[1;32m    <a href='file:///opt/homebrew/lib/python3.9/site-packages/sklearn/model_selection/_validation.py?line=513'>514</a>\u001b[0m     scoring\u001b[39m=\u001b[39;49m{\u001b[39m\"\u001b[39;49m\u001b[39mscore\u001b[39;49m\u001b[39m\"\u001b[39;49m: scorer},\n\u001b[1;32m    <a href='file:///opt/homebrew/lib/python3.9/site-packages/sklearn/model_selection/_validation.py?line=514'>515</a>\u001b[0m     cv\u001b[39m=\u001b[39;49mcv,\n\u001b[1;32m    <a href='file:///opt/homebrew/lib/python3.9/site-packages/sklearn/model_selection/_validation.py?line=515'>516</a>\u001b[0m     n_jobs\u001b[39m=\u001b[39;49mn_jobs,\n\u001b[1;32m    <a href='file:///opt/homebrew/lib/python3.9/site-packages/sklearn/model_selection/_validation.py?line=516'>517</a>\u001b[0m     verbose\u001b[39m=\u001b[39;49mverbose,\n\u001b[1;32m    <a href='file:///opt/homebrew/lib/python3.9/site-packages/sklearn/model_selection/_validation.py?line=517'>518</a>\u001b[0m     fit_params\u001b[39m=\u001b[39;49mfit_params,\n\u001b[1;32m    <a href='file:///opt/homebrew/lib/python3.9/site-packages/sklearn/model_selection/_validation.py?line=518'>519</a>\u001b[0m     pre_dispatch\u001b[39m=\u001b[39;49mpre_dispatch,\n\u001b[1;32m    <a href='file:///opt/homebrew/lib/python3.9/site-packages/sklearn/model_selection/_validation.py?line=519'>520</a>\u001b[0m     error_score\u001b[39m=\u001b[39;49merror_score,\n\u001b[1;32m    <a href='file:///opt/homebrew/lib/python3.9/site-packages/sklearn/model_selection/_validation.py?line=520'>521</a>\u001b[0m )\n\u001b[1;32m    <a href='file:///opt/homebrew/lib/python3.9/site-packages/sklearn/model_selection/_validation.py?line=521'>522</a>\u001b[0m \u001b[39mreturn\u001b[39;00m cv_results[\u001b[39m\"\u001b[39m\u001b[39mtest_score\u001b[39m\u001b[39m\"\u001b[39m]\n",
      "File \u001b[0;32m/opt/homebrew/lib/python3.9/site-packages/sklearn/model_selection/_validation.py:267\u001b[0m, in \u001b[0;36mcross_validate\u001b[0;34m(estimator, X, y, groups, scoring, cv, n_jobs, verbose, fit_params, pre_dispatch, return_train_score, return_estimator, error_score)\u001b[0m\n\u001b[1;32m    <a href='file:///opt/homebrew/lib/python3.9/site-packages/sklearn/model_selection/_validation.py?line=263'>264</a>\u001b[0m \u001b[39m# We clone the estimator to make sure that all the folds are\u001b[39;00m\n\u001b[1;32m    <a href='file:///opt/homebrew/lib/python3.9/site-packages/sklearn/model_selection/_validation.py?line=264'>265</a>\u001b[0m \u001b[39m# independent, and that it is pickle-able.\u001b[39;00m\n\u001b[1;32m    <a href='file:///opt/homebrew/lib/python3.9/site-packages/sklearn/model_selection/_validation.py?line=265'>266</a>\u001b[0m parallel \u001b[39m=\u001b[39m Parallel(n_jobs\u001b[39m=\u001b[39mn_jobs, verbose\u001b[39m=\u001b[39mverbose, pre_dispatch\u001b[39m=\u001b[39mpre_dispatch)\n\u001b[0;32m--> <a href='file:///opt/homebrew/lib/python3.9/site-packages/sklearn/model_selection/_validation.py?line=266'>267</a>\u001b[0m results \u001b[39m=\u001b[39m parallel(\n\u001b[1;32m    <a href='file:///opt/homebrew/lib/python3.9/site-packages/sklearn/model_selection/_validation.py?line=267'>268</a>\u001b[0m     delayed(_fit_and_score)(\n\u001b[1;32m    <a href='file:///opt/homebrew/lib/python3.9/site-packages/sklearn/model_selection/_validation.py?line=268'>269</a>\u001b[0m         clone(estimator),\n\u001b[1;32m    <a href='file:///opt/homebrew/lib/python3.9/site-packages/sklearn/model_selection/_validation.py?line=269'>270</a>\u001b[0m         X,\n\u001b[1;32m    <a href='file:///opt/homebrew/lib/python3.9/site-packages/sklearn/model_selection/_validation.py?line=270'>271</a>\u001b[0m         y,\n\u001b[1;32m    <a href='file:///opt/homebrew/lib/python3.9/site-packages/sklearn/model_selection/_validation.py?line=271'>272</a>\u001b[0m         scorers,\n\u001b[1;32m    <a href='file:///opt/homebrew/lib/python3.9/site-packages/sklearn/model_selection/_validation.py?line=272'>273</a>\u001b[0m         train,\n\u001b[1;32m    <a href='file:///opt/homebrew/lib/python3.9/site-packages/sklearn/model_selection/_validation.py?line=273'>274</a>\u001b[0m         test,\n\u001b[1;32m    <a href='file:///opt/homebrew/lib/python3.9/site-packages/sklearn/model_selection/_validation.py?line=274'>275</a>\u001b[0m         verbose,\n\u001b[1;32m    <a href='file:///opt/homebrew/lib/python3.9/site-packages/sklearn/model_selection/_validation.py?line=275'>276</a>\u001b[0m         \u001b[39mNone\u001b[39;49;00m,\n\u001b[1;32m    <a href='file:///opt/homebrew/lib/python3.9/site-packages/sklearn/model_selection/_validation.py?line=276'>277</a>\u001b[0m         fit_params,\n\u001b[1;32m    <a href='file:///opt/homebrew/lib/python3.9/site-packages/sklearn/model_selection/_validation.py?line=277'>278</a>\u001b[0m         return_train_score\u001b[39m=\u001b[39;49mreturn_train_score,\n\u001b[1;32m    <a href='file:///opt/homebrew/lib/python3.9/site-packages/sklearn/model_selection/_validation.py?line=278'>279</a>\u001b[0m         return_times\u001b[39m=\u001b[39;49m\u001b[39mTrue\u001b[39;49;00m,\n\u001b[1;32m    <a href='file:///opt/homebrew/lib/python3.9/site-packages/sklearn/model_selection/_validation.py?line=279'>280</a>\u001b[0m         return_estimator\u001b[39m=\u001b[39;49mreturn_estimator,\n\u001b[1;32m    <a href='file:///opt/homebrew/lib/python3.9/site-packages/sklearn/model_selection/_validation.py?line=280'>281</a>\u001b[0m         error_score\u001b[39m=\u001b[39;49merror_score,\n\u001b[1;32m    <a href='file:///opt/homebrew/lib/python3.9/site-packages/sklearn/model_selection/_validation.py?line=281'>282</a>\u001b[0m     )\n\u001b[1;32m    <a href='file:///opt/homebrew/lib/python3.9/site-packages/sklearn/model_selection/_validation.py?line=282'>283</a>\u001b[0m     \u001b[39mfor\u001b[39;49;00m train, test \u001b[39min\u001b[39;49;00m cv\u001b[39m.\u001b[39;49msplit(X, y, groups)\n\u001b[1;32m    <a href='file:///opt/homebrew/lib/python3.9/site-packages/sklearn/model_selection/_validation.py?line=283'>284</a>\u001b[0m )\n\u001b[1;32m    <a href='file:///opt/homebrew/lib/python3.9/site-packages/sklearn/model_selection/_validation.py?line=285'>286</a>\u001b[0m _warn_about_fit_failures(results, error_score)\n\u001b[1;32m    <a href='file:///opt/homebrew/lib/python3.9/site-packages/sklearn/model_selection/_validation.py?line=287'>288</a>\u001b[0m \u001b[39m# For callabe scoring, the return type is only know after calling. If the\u001b[39;00m\n\u001b[1;32m    <a href='file:///opt/homebrew/lib/python3.9/site-packages/sklearn/model_selection/_validation.py?line=288'>289</a>\u001b[0m \u001b[39m# return type is a dictionary, the error scores can now be inserted with\u001b[39;00m\n\u001b[1;32m    <a href='file:///opt/homebrew/lib/python3.9/site-packages/sklearn/model_selection/_validation.py?line=289'>290</a>\u001b[0m \u001b[39m# the correct key.\u001b[39;00m\n",
      "File \u001b[0;32m/opt/homebrew/lib/python3.9/site-packages/joblib/parallel.py:1043\u001b[0m, in \u001b[0;36mParallel.__call__\u001b[0;34m(self, iterable)\u001b[0m\n\u001b[1;32m   <a href='file:///opt/homebrew/lib/python3.9/site-packages/joblib/parallel.py?line=1033'>1034</a>\u001b[0m \u001b[39mtry\u001b[39;00m:\n\u001b[1;32m   <a href='file:///opt/homebrew/lib/python3.9/site-packages/joblib/parallel.py?line=1034'>1035</a>\u001b[0m     \u001b[39m# Only set self._iterating to True if at least a batch\u001b[39;00m\n\u001b[1;32m   <a href='file:///opt/homebrew/lib/python3.9/site-packages/joblib/parallel.py?line=1035'>1036</a>\u001b[0m     \u001b[39m# was dispatched. In particular this covers the edge\u001b[39;00m\n\u001b[0;32m   (...)\u001b[0m\n\u001b[1;32m   <a href='file:///opt/homebrew/lib/python3.9/site-packages/joblib/parallel.py?line=1039'>1040</a>\u001b[0m     \u001b[39m# was very quick and its callback already dispatched all the\u001b[39;00m\n\u001b[1;32m   <a href='file:///opt/homebrew/lib/python3.9/site-packages/joblib/parallel.py?line=1040'>1041</a>\u001b[0m     \u001b[39m# remaining jobs.\u001b[39;00m\n\u001b[1;32m   <a href='file:///opt/homebrew/lib/python3.9/site-packages/joblib/parallel.py?line=1041'>1042</a>\u001b[0m     \u001b[39mself\u001b[39m\u001b[39m.\u001b[39m_iterating \u001b[39m=\u001b[39m \u001b[39mFalse\u001b[39;00m\n\u001b[0;32m-> <a href='file:///opt/homebrew/lib/python3.9/site-packages/joblib/parallel.py?line=1042'>1043</a>\u001b[0m     \u001b[39mif\u001b[39;00m \u001b[39mself\u001b[39;49m\u001b[39m.\u001b[39;49mdispatch_one_batch(iterator):\n\u001b[1;32m   <a href='file:///opt/homebrew/lib/python3.9/site-packages/joblib/parallel.py?line=1043'>1044</a>\u001b[0m         \u001b[39mself\u001b[39m\u001b[39m.\u001b[39m_iterating \u001b[39m=\u001b[39m \u001b[39mself\u001b[39m\u001b[39m.\u001b[39m_original_iterator \u001b[39mis\u001b[39;00m \u001b[39mnot\u001b[39;00m \u001b[39mNone\u001b[39;00m\n\u001b[1;32m   <a href='file:///opt/homebrew/lib/python3.9/site-packages/joblib/parallel.py?line=1045'>1046</a>\u001b[0m     \u001b[39mwhile\u001b[39;00m \u001b[39mself\u001b[39m\u001b[39m.\u001b[39mdispatch_one_batch(iterator):\n",
      "File \u001b[0;32m/opt/homebrew/lib/python3.9/site-packages/joblib/parallel.py:861\u001b[0m, in \u001b[0;36mParallel.dispatch_one_batch\u001b[0;34m(self, iterator)\u001b[0m\n\u001b[1;32m    <a href='file:///opt/homebrew/lib/python3.9/site-packages/joblib/parallel.py?line=858'>859</a>\u001b[0m     \u001b[39mreturn\u001b[39;00m \u001b[39mFalse\u001b[39;00m\n\u001b[1;32m    <a href='file:///opt/homebrew/lib/python3.9/site-packages/joblib/parallel.py?line=859'>860</a>\u001b[0m \u001b[39melse\u001b[39;00m:\n\u001b[0;32m--> <a href='file:///opt/homebrew/lib/python3.9/site-packages/joblib/parallel.py?line=860'>861</a>\u001b[0m     \u001b[39mself\u001b[39;49m\u001b[39m.\u001b[39;49m_dispatch(tasks)\n\u001b[1;32m    <a href='file:///opt/homebrew/lib/python3.9/site-packages/joblib/parallel.py?line=861'>862</a>\u001b[0m     \u001b[39mreturn\u001b[39;00m \u001b[39mTrue\u001b[39;00m\n",
      "File \u001b[0;32m/opt/homebrew/lib/python3.9/site-packages/joblib/parallel.py:779\u001b[0m, in \u001b[0;36mParallel._dispatch\u001b[0;34m(self, batch)\u001b[0m\n\u001b[1;32m    <a href='file:///opt/homebrew/lib/python3.9/site-packages/joblib/parallel.py?line=776'>777</a>\u001b[0m \u001b[39mwith\u001b[39;00m \u001b[39mself\u001b[39m\u001b[39m.\u001b[39m_lock:\n\u001b[1;32m    <a href='file:///opt/homebrew/lib/python3.9/site-packages/joblib/parallel.py?line=777'>778</a>\u001b[0m     job_idx \u001b[39m=\u001b[39m \u001b[39mlen\u001b[39m(\u001b[39mself\u001b[39m\u001b[39m.\u001b[39m_jobs)\n\u001b[0;32m--> <a href='file:///opt/homebrew/lib/python3.9/site-packages/joblib/parallel.py?line=778'>779</a>\u001b[0m     job \u001b[39m=\u001b[39m \u001b[39mself\u001b[39;49m\u001b[39m.\u001b[39;49m_backend\u001b[39m.\u001b[39;49mapply_async(batch, callback\u001b[39m=\u001b[39;49mcb)\n\u001b[1;32m    <a href='file:///opt/homebrew/lib/python3.9/site-packages/joblib/parallel.py?line=779'>780</a>\u001b[0m     \u001b[39m# A job can complete so quickly than its callback is\u001b[39;00m\n\u001b[1;32m    <a href='file:///opt/homebrew/lib/python3.9/site-packages/joblib/parallel.py?line=780'>781</a>\u001b[0m     \u001b[39m# called before we get here, causing self._jobs to\u001b[39;00m\n\u001b[1;32m    <a href='file:///opt/homebrew/lib/python3.9/site-packages/joblib/parallel.py?line=781'>782</a>\u001b[0m     \u001b[39m# grow. To ensure correct results ordering, .insert is\u001b[39;00m\n\u001b[1;32m    <a href='file:///opt/homebrew/lib/python3.9/site-packages/joblib/parallel.py?line=782'>783</a>\u001b[0m     \u001b[39m# used (rather than .append) in the following line\u001b[39;00m\n\u001b[1;32m    <a href='file:///opt/homebrew/lib/python3.9/site-packages/joblib/parallel.py?line=783'>784</a>\u001b[0m     \u001b[39mself\u001b[39m\u001b[39m.\u001b[39m_jobs\u001b[39m.\u001b[39minsert(job_idx, job)\n",
      "File \u001b[0;32m/opt/homebrew/lib/python3.9/site-packages/joblib/_parallel_backends.py:208\u001b[0m, in \u001b[0;36mSequentialBackend.apply_async\u001b[0;34m(self, func, callback)\u001b[0m\n\u001b[1;32m    <a href='file:///opt/homebrew/lib/python3.9/site-packages/joblib/_parallel_backends.py?line=205'>206</a>\u001b[0m \u001b[39mdef\u001b[39;00m \u001b[39mapply_async\u001b[39m(\u001b[39mself\u001b[39m, func, callback\u001b[39m=\u001b[39m\u001b[39mNone\u001b[39;00m):\n\u001b[1;32m    <a href='file:///opt/homebrew/lib/python3.9/site-packages/joblib/_parallel_backends.py?line=206'>207</a>\u001b[0m     \u001b[39m\"\"\"Schedule a func to be run\"\"\"\u001b[39;00m\n\u001b[0;32m--> <a href='file:///opt/homebrew/lib/python3.9/site-packages/joblib/_parallel_backends.py?line=207'>208</a>\u001b[0m     result \u001b[39m=\u001b[39m ImmediateResult(func)\n\u001b[1;32m    <a href='file:///opt/homebrew/lib/python3.9/site-packages/joblib/_parallel_backends.py?line=208'>209</a>\u001b[0m     \u001b[39mif\u001b[39;00m callback:\n\u001b[1;32m    <a href='file:///opt/homebrew/lib/python3.9/site-packages/joblib/_parallel_backends.py?line=209'>210</a>\u001b[0m         callback(result)\n",
      "File \u001b[0;32m/opt/homebrew/lib/python3.9/site-packages/joblib/_parallel_backends.py:572\u001b[0m, in \u001b[0;36mImmediateResult.__init__\u001b[0;34m(self, batch)\u001b[0m\n\u001b[1;32m    <a href='file:///opt/homebrew/lib/python3.9/site-packages/joblib/_parallel_backends.py?line=568'>569</a>\u001b[0m \u001b[39mdef\u001b[39;00m \u001b[39m__init__\u001b[39m(\u001b[39mself\u001b[39m, batch):\n\u001b[1;32m    <a href='file:///opt/homebrew/lib/python3.9/site-packages/joblib/_parallel_backends.py?line=569'>570</a>\u001b[0m     \u001b[39m# Don't delay the application, to avoid keeping the input\u001b[39;00m\n\u001b[1;32m    <a href='file:///opt/homebrew/lib/python3.9/site-packages/joblib/_parallel_backends.py?line=570'>571</a>\u001b[0m     \u001b[39m# arguments in memory\u001b[39;00m\n\u001b[0;32m--> <a href='file:///opt/homebrew/lib/python3.9/site-packages/joblib/_parallel_backends.py?line=571'>572</a>\u001b[0m     \u001b[39mself\u001b[39m\u001b[39m.\u001b[39mresults \u001b[39m=\u001b[39m batch()\n",
      "File \u001b[0;32m/opt/homebrew/lib/python3.9/site-packages/joblib/parallel.py:262\u001b[0m, in \u001b[0;36mBatchedCalls.__call__\u001b[0;34m(self)\u001b[0m\n\u001b[1;32m    <a href='file:///opt/homebrew/lib/python3.9/site-packages/joblib/parallel.py?line=257'>258</a>\u001b[0m \u001b[39mdef\u001b[39;00m \u001b[39m__call__\u001b[39m(\u001b[39mself\u001b[39m):\n\u001b[1;32m    <a href='file:///opt/homebrew/lib/python3.9/site-packages/joblib/parallel.py?line=258'>259</a>\u001b[0m     \u001b[39m# Set the default nested backend to self._backend but do not set the\u001b[39;00m\n\u001b[1;32m    <a href='file:///opt/homebrew/lib/python3.9/site-packages/joblib/parallel.py?line=259'>260</a>\u001b[0m     \u001b[39m# change the default number of processes to -1\u001b[39;00m\n\u001b[1;32m    <a href='file:///opt/homebrew/lib/python3.9/site-packages/joblib/parallel.py?line=260'>261</a>\u001b[0m     \u001b[39mwith\u001b[39;00m parallel_backend(\u001b[39mself\u001b[39m\u001b[39m.\u001b[39m_backend, n_jobs\u001b[39m=\u001b[39m\u001b[39mself\u001b[39m\u001b[39m.\u001b[39m_n_jobs):\n\u001b[0;32m--> <a href='file:///opt/homebrew/lib/python3.9/site-packages/joblib/parallel.py?line=261'>262</a>\u001b[0m         \u001b[39mreturn\u001b[39;00m [func(\u001b[39m*\u001b[39margs, \u001b[39m*\u001b[39m\u001b[39m*\u001b[39mkwargs)\n\u001b[1;32m    <a href='file:///opt/homebrew/lib/python3.9/site-packages/joblib/parallel.py?line=262'>263</a>\u001b[0m                 \u001b[39mfor\u001b[39;00m func, args, kwargs \u001b[39min\u001b[39;00m \u001b[39mself\u001b[39m\u001b[39m.\u001b[39mitems]\n",
      "File \u001b[0;32m/opt/homebrew/lib/python3.9/site-packages/joblib/parallel.py:262\u001b[0m, in \u001b[0;36m<listcomp>\u001b[0;34m(.0)\u001b[0m\n\u001b[1;32m    <a href='file:///opt/homebrew/lib/python3.9/site-packages/joblib/parallel.py?line=257'>258</a>\u001b[0m \u001b[39mdef\u001b[39;00m \u001b[39m__call__\u001b[39m(\u001b[39mself\u001b[39m):\n\u001b[1;32m    <a href='file:///opt/homebrew/lib/python3.9/site-packages/joblib/parallel.py?line=258'>259</a>\u001b[0m     \u001b[39m# Set the default nested backend to self._backend but do not set the\u001b[39;00m\n\u001b[1;32m    <a href='file:///opt/homebrew/lib/python3.9/site-packages/joblib/parallel.py?line=259'>260</a>\u001b[0m     \u001b[39m# change the default number of processes to -1\u001b[39;00m\n\u001b[1;32m    <a href='file:///opt/homebrew/lib/python3.9/site-packages/joblib/parallel.py?line=260'>261</a>\u001b[0m     \u001b[39mwith\u001b[39;00m parallel_backend(\u001b[39mself\u001b[39m\u001b[39m.\u001b[39m_backend, n_jobs\u001b[39m=\u001b[39m\u001b[39mself\u001b[39m\u001b[39m.\u001b[39m_n_jobs):\n\u001b[0;32m--> <a href='file:///opt/homebrew/lib/python3.9/site-packages/joblib/parallel.py?line=261'>262</a>\u001b[0m         \u001b[39mreturn\u001b[39;00m [func(\u001b[39m*\u001b[39;49margs, \u001b[39m*\u001b[39;49m\u001b[39m*\u001b[39;49mkwargs)\n\u001b[1;32m    <a href='file:///opt/homebrew/lib/python3.9/site-packages/joblib/parallel.py?line=262'>263</a>\u001b[0m                 \u001b[39mfor\u001b[39;00m func, args, kwargs \u001b[39min\u001b[39;00m \u001b[39mself\u001b[39m\u001b[39m.\u001b[39mitems]\n",
      "File \u001b[0;32m/opt/homebrew/lib/python3.9/site-packages/sklearn/utils/fixes.py:216\u001b[0m, in \u001b[0;36m_FuncWrapper.__call__\u001b[0;34m(self, *args, **kwargs)\u001b[0m\n\u001b[1;32m    <a href='file:///opt/homebrew/lib/python3.9/site-packages/sklearn/utils/fixes.py?line=213'>214</a>\u001b[0m \u001b[39mdef\u001b[39;00m \u001b[39m__call__\u001b[39m(\u001b[39mself\u001b[39m, \u001b[39m*\u001b[39margs, \u001b[39m*\u001b[39m\u001b[39m*\u001b[39mkwargs):\n\u001b[1;32m    <a href='file:///opt/homebrew/lib/python3.9/site-packages/sklearn/utils/fixes.py?line=214'>215</a>\u001b[0m     \u001b[39mwith\u001b[39;00m config_context(\u001b[39m*\u001b[39m\u001b[39m*\u001b[39m\u001b[39mself\u001b[39m\u001b[39m.\u001b[39mconfig):\n\u001b[0;32m--> <a href='file:///opt/homebrew/lib/python3.9/site-packages/sklearn/utils/fixes.py?line=215'>216</a>\u001b[0m         \u001b[39mreturn\u001b[39;00m \u001b[39mself\u001b[39;49m\u001b[39m.\u001b[39;49mfunction(\u001b[39m*\u001b[39;49margs, \u001b[39m*\u001b[39;49m\u001b[39m*\u001b[39;49mkwargs)\n",
      "File \u001b[0;32m/opt/homebrew/lib/python3.9/site-packages/sklearn/model_selection/_validation.py:680\u001b[0m, in \u001b[0;36m_fit_and_score\u001b[0;34m(estimator, X, y, scorer, train, test, verbose, parameters, fit_params, return_train_score, return_parameters, return_n_test_samples, return_times, return_estimator, split_progress, candidate_progress, error_score)\u001b[0m\n\u001b[1;32m    <a href='file:///opt/homebrew/lib/python3.9/site-packages/sklearn/model_selection/_validation.py?line=677'>678</a>\u001b[0m         estimator\u001b[39m.\u001b[39mfit(X_train, \u001b[39m*\u001b[39m\u001b[39m*\u001b[39mfit_params)\n\u001b[1;32m    <a href='file:///opt/homebrew/lib/python3.9/site-packages/sklearn/model_selection/_validation.py?line=678'>679</a>\u001b[0m     \u001b[39melse\u001b[39;00m:\n\u001b[0;32m--> <a href='file:///opt/homebrew/lib/python3.9/site-packages/sklearn/model_selection/_validation.py?line=679'>680</a>\u001b[0m         estimator\u001b[39m.\u001b[39;49mfit(X_train, y_train, \u001b[39m*\u001b[39;49m\u001b[39m*\u001b[39;49mfit_params)\n\u001b[1;32m    <a href='file:///opt/homebrew/lib/python3.9/site-packages/sklearn/model_selection/_validation.py?line=681'>682</a>\u001b[0m \u001b[39mexcept\u001b[39;00m \u001b[39mException\u001b[39;00m:\n\u001b[1;32m    <a href='file:///opt/homebrew/lib/python3.9/site-packages/sklearn/model_selection/_validation.py?line=682'>683</a>\u001b[0m     \u001b[39m# Note fit time as time until error\u001b[39;00m\n\u001b[1;32m    <a href='file:///opt/homebrew/lib/python3.9/site-packages/sklearn/model_selection/_validation.py?line=683'>684</a>\u001b[0m     fit_time \u001b[39m=\u001b[39m time\u001b[39m.\u001b[39mtime() \u001b[39m-\u001b[39m start_time\n",
      "File \u001b[0;32m/opt/homebrew/lib/python3.9/site-packages/xgboost/core.py:532\u001b[0m, in \u001b[0;36m_deprecate_positional_args.<locals>.inner_f\u001b[0;34m(*args, **kwargs)\u001b[0m\n\u001b[1;32m    <a href='file:///opt/homebrew/lib/python3.9/site-packages/xgboost/core.py?line=529'>530</a>\u001b[0m \u001b[39mfor\u001b[39;00m k, arg \u001b[39min\u001b[39;00m \u001b[39mzip\u001b[39m(sig\u001b[39m.\u001b[39mparameters, args):\n\u001b[1;32m    <a href='file:///opt/homebrew/lib/python3.9/site-packages/xgboost/core.py?line=530'>531</a>\u001b[0m     kwargs[k] \u001b[39m=\u001b[39m arg\n\u001b[0;32m--> <a href='file:///opt/homebrew/lib/python3.9/site-packages/xgboost/core.py?line=531'>532</a>\u001b[0m \u001b[39mreturn\u001b[39;00m f(\u001b[39m*\u001b[39;49m\u001b[39m*\u001b[39;49mkwargs)\n",
      "File \u001b[0;32m/opt/homebrew/lib/python3.9/site-packages/xgboost/sklearn.py:1400\u001b[0m, in \u001b[0;36mXGBClassifier.fit\u001b[0;34m(self, X, y, sample_weight, base_margin, eval_set, eval_metric, early_stopping_rounds, verbose, xgb_model, sample_weight_eval_set, base_margin_eval_set, feature_weights, callbacks)\u001b[0m\n\u001b[1;32m   <a href='file:///opt/homebrew/lib/python3.9/site-packages/xgboost/sklearn.py?line=1378'>1379</a>\u001b[0m model, metric, params, early_stopping_rounds, callbacks \u001b[39m=\u001b[39m \u001b[39mself\u001b[39m\u001b[39m.\u001b[39m_configure_fit(\n\u001b[1;32m   <a href='file:///opt/homebrew/lib/python3.9/site-packages/xgboost/sklearn.py?line=1379'>1380</a>\u001b[0m     xgb_model, eval_metric, params, early_stopping_rounds, callbacks\n\u001b[1;32m   <a href='file:///opt/homebrew/lib/python3.9/site-packages/xgboost/sklearn.py?line=1380'>1381</a>\u001b[0m )\n\u001b[1;32m   <a href='file:///opt/homebrew/lib/python3.9/site-packages/xgboost/sklearn.py?line=1381'>1382</a>\u001b[0m train_dmatrix, evals \u001b[39m=\u001b[39m _wrap_evaluation_matrices(\n\u001b[1;32m   <a href='file:///opt/homebrew/lib/python3.9/site-packages/xgboost/sklearn.py?line=1382'>1383</a>\u001b[0m     missing\u001b[39m=\u001b[39m\u001b[39mself\u001b[39m\u001b[39m.\u001b[39mmissing,\n\u001b[1;32m   <a href='file:///opt/homebrew/lib/python3.9/site-packages/xgboost/sklearn.py?line=1383'>1384</a>\u001b[0m     X\u001b[39m=\u001b[39mX,\n\u001b[0;32m   (...)\u001b[0m\n\u001b[1;32m   <a href='file:///opt/homebrew/lib/python3.9/site-packages/xgboost/sklearn.py?line=1396'>1397</a>\u001b[0m     enable_categorical\u001b[39m=\u001b[39m\u001b[39mself\u001b[39m\u001b[39m.\u001b[39menable_categorical,\n\u001b[1;32m   <a href='file:///opt/homebrew/lib/python3.9/site-packages/xgboost/sklearn.py?line=1397'>1398</a>\u001b[0m )\n\u001b[0;32m-> <a href='file:///opt/homebrew/lib/python3.9/site-packages/xgboost/sklearn.py?line=1399'>1400</a>\u001b[0m \u001b[39mself\u001b[39m\u001b[39m.\u001b[39m_Booster \u001b[39m=\u001b[39m train(\n\u001b[1;32m   <a href='file:///opt/homebrew/lib/python3.9/site-packages/xgboost/sklearn.py?line=1400'>1401</a>\u001b[0m     params,\n\u001b[1;32m   <a href='file:///opt/homebrew/lib/python3.9/site-packages/xgboost/sklearn.py?line=1401'>1402</a>\u001b[0m     train_dmatrix,\n\u001b[1;32m   <a href='file:///opt/homebrew/lib/python3.9/site-packages/xgboost/sklearn.py?line=1402'>1403</a>\u001b[0m     \u001b[39mself\u001b[39;49m\u001b[39m.\u001b[39;49mget_num_boosting_rounds(),\n\u001b[1;32m   <a href='file:///opt/homebrew/lib/python3.9/site-packages/xgboost/sklearn.py?line=1403'>1404</a>\u001b[0m     evals\u001b[39m=\u001b[39;49mevals,\n\u001b[1;32m   <a href='file:///opt/homebrew/lib/python3.9/site-packages/xgboost/sklearn.py?line=1404'>1405</a>\u001b[0m     early_stopping_rounds\u001b[39m=\u001b[39;49mearly_stopping_rounds,\n\u001b[1;32m   <a href='file:///opt/homebrew/lib/python3.9/site-packages/xgboost/sklearn.py?line=1405'>1406</a>\u001b[0m     evals_result\u001b[39m=\u001b[39;49mevals_result,\n\u001b[1;32m   <a href='file:///opt/homebrew/lib/python3.9/site-packages/xgboost/sklearn.py?line=1406'>1407</a>\u001b[0m     obj\u001b[39m=\u001b[39;49mobj,\n\u001b[1;32m   <a href='file:///opt/homebrew/lib/python3.9/site-packages/xgboost/sklearn.py?line=1407'>1408</a>\u001b[0m     custom_metric\u001b[39m=\u001b[39;49mmetric,\n\u001b[1;32m   <a href='file:///opt/homebrew/lib/python3.9/site-packages/xgboost/sklearn.py?line=1408'>1409</a>\u001b[0m     verbose_eval\u001b[39m=\u001b[39;49mverbose,\n\u001b[1;32m   <a href='file:///opt/homebrew/lib/python3.9/site-packages/xgboost/sklearn.py?line=1409'>1410</a>\u001b[0m     xgb_model\u001b[39m=\u001b[39;49mmodel,\n\u001b[1;32m   <a href='file:///opt/homebrew/lib/python3.9/site-packages/xgboost/sklearn.py?line=1410'>1411</a>\u001b[0m     callbacks\u001b[39m=\u001b[39;49mcallbacks,\n\u001b[1;32m   <a href='file:///opt/homebrew/lib/python3.9/site-packages/xgboost/sklearn.py?line=1411'>1412</a>\u001b[0m )\n\u001b[1;32m   <a href='file:///opt/homebrew/lib/python3.9/site-packages/xgboost/sklearn.py?line=1413'>1414</a>\u001b[0m \u001b[39mif\u001b[39;00m \u001b[39mnot\u001b[39;00m callable(\u001b[39mself\u001b[39m\u001b[39m.\u001b[39mobjective):\n\u001b[1;32m   <a href='file:///opt/homebrew/lib/python3.9/site-packages/xgboost/sklearn.py?line=1414'>1415</a>\u001b[0m     \u001b[39mself\u001b[39m\u001b[39m.\u001b[39mobjective \u001b[39m=\u001b[39m params[\u001b[39m\"\u001b[39m\u001b[39mobjective\u001b[39m\u001b[39m\"\u001b[39m]\n",
      "File \u001b[0;32m/opt/homebrew/lib/python3.9/site-packages/xgboost/core.py:532\u001b[0m, in \u001b[0;36m_deprecate_positional_args.<locals>.inner_f\u001b[0;34m(*args, **kwargs)\u001b[0m\n\u001b[1;32m    <a href='file:///opt/homebrew/lib/python3.9/site-packages/xgboost/core.py?line=529'>530</a>\u001b[0m \u001b[39mfor\u001b[39;00m k, arg \u001b[39min\u001b[39;00m \u001b[39mzip\u001b[39m(sig\u001b[39m.\u001b[39mparameters, args):\n\u001b[1;32m    <a href='file:///opt/homebrew/lib/python3.9/site-packages/xgboost/core.py?line=530'>531</a>\u001b[0m     kwargs[k] \u001b[39m=\u001b[39m arg\n\u001b[0;32m--> <a href='file:///opt/homebrew/lib/python3.9/site-packages/xgboost/core.py?line=531'>532</a>\u001b[0m \u001b[39mreturn\u001b[39;00m f(\u001b[39m*\u001b[39;49m\u001b[39m*\u001b[39;49mkwargs)\n",
      "File \u001b[0;32m/opt/homebrew/lib/python3.9/site-packages/xgboost/training.py:181\u001b[0m, in \u001b[0;36mtrain\u001b[0;34m(params, dtrain, num_boost_round, evals, obj, feval, maximize, early_stopping_rounds, evals_result, verbose_eval, xgb_model, callbacks, custom_metric)\u001b[0m\n\u001b[1;32m    <a href='file:///opt/homebrew/lib/python3.9/site-packages/xgboost/training.py?line=178'>179</a>\u001b[0m \u001b[39mif\u001b[39;00m cb_container\u001b[39m.\u001b[39mbefore_iteration(bst, i, dtrain, evals):\n\u001b[1;32m    <a href='file:///opt/homebrew/lib/python3.9/site-packages/xgboost/training.py?line=179'>180</a>\u001b[0m     \u001b[39mbreak\u001b[39;00m\n\u001b[0;32m--> <a href='file:///opt/homebrew/lib/python3.9/site-packages/xgboost/training.py?line=180'>181</a>\u001b[0m bst\u001b[39m.\u001b[39;49mupdate(dtrain, i, obj)\n\u001b[1;32m    <a href='file:///opt/homebrew/lib/python3.9/site-packages/xgboost/training.py?line=181'>182</a>\u001b[0m \u001b[39mif\u001b[39;00m cb_container\u001b[39m.\u001b[39mafter_iteration(bst, i, dtrain, evals):\n\u001b[1;32m    <a href='file:///opt/homebrew/lib/python3.9/site-packages/xgboost/training.py?line=182'>183</a>\u001b[0m     \u001b[39mbreak\u001b[39;00m\n",
      "File \u001b[0;32m/opt/homebrew/lib/python3.9/site-packages/xgboost/core.py:1733\u001b[0m, in \u001b[0;36mBooster.update\u001b[0;34m(self, dtrain, iteration, fobj)\u001b[0m\n\u001b[1;32m   <a href='file:///opt/homebrew/lib/python3.9/site-packages/xgboost/core.py?line=1729'>1730</a>\u001b[0m \u001b[39mself\u001b[39m\u001b[39m.\u001b[39m_validate_features(dtrain)\n\u001b[1;32m   <a href='file:///opt/homebrew/lib/python3.9/site-packages/xgboost/core.py?line=1731'>1732</a>\u001b[0m \u001b[39mif\u001b[39;00m fobj \u001b[39mis\u001b[39;00m \u001b[39mNone\u001b[39;00m:\n\u001b[0;32m-> <a href='file:///opt/homebrew/lib/python3.9/site-packages/xgboost/core.py?line=1732'>1733</a>\u001b[0m     _check_call(_LIB\u001b[39m.\u001b[39;49mXGBoosterUpdateOneIter(\u001b[39mself\u001b[39;49m\u001b[39m.\u001b[39;49mhandle,\n\u001b[1;32m   <a href='file:///opt/homebrew/lib/python3.9/site-packages/xgboost/core.py?line=1733'>1734</a>\u001b[0m                                             ctypes\u001b[39m.\u001b[39;49mc_int(iteration),\n\u001b[1;32m   <a href='file:///opt/homebrew/lib/python3.9/site-packages/xgboost/core.py?line=1734'>1735</a>\u001b[0m                                             dtrain\u001b[39m.\u001b[39;49mhandle))\n\u001b[1;32m   <a href='file:///opt/homebrew/lib/python3.9/site-packages/xgboost/core.py?line=1735'>1736</a>\u001b[0m \u001b[39melse\u001b[39;00m:\n\u001b[1;32m   <a href='file:///opt/homebrew/lib/python3.9/site-packages/xgboost/core.py?line=1736'>1737</a>\u001b[0m     pred \u001b[39m=\u001b[39m \u001b[39mself\u001b[39m\u001b[39m.\u001b[39mpredict(dtrain, output_margin\u001b[39m=\u001b[39m\u001b[39mTrue\u001b[39;00m, training\u001b[39m=\u001b[39m\u001b[39mTrue\u001b[39;00m)\n",
      "\u001b[0;31mKeyboardInterrupt\u001b[0m: "
     ]
    }
   ],
   "source": [
    "#cross_val_score(xgbc, X_train, y_train, cv=5)"
   ]
  },
  {
   "cell_type": "code",
   "execution_count": null,
   "id": "b2b8857c",
   "metadata": {},
   "outputs": [],
   "source": [
    "#kfold = KFold(n_splits=10, shuffle=True)\n",
    "#cross_val_score(xgbc, X_train, y_train, cv=kfold )"
   ]
  },
  {
   "cell_type": "code",
   "execution_count": 50,
   "id": "ae789869",
   "metadata": {},
   "outputs": [],
   "source": [
    "ypred = xgbc.predict(X_test)"
   ]
  },
  {
   "cell_type": "code",
   "execution_count": 53,
   "id": "f1184b69",
   "metadata": {},
   "outputs": [
    {
     "data": {
      "text/plain": [
       "0.4128851400264828"
      ]
     },
     "execution_count": 53,
     "metadata": {},
     "output_type": "execute_result"
    }
   ],
   "source": [
    "accuracy_score(y_test, ypred)"
   ]
  }
 ],
 "metadata": {
  "interpreter": {
   "hash": "82bcf3661f098bbc57255d1f768e4b535749c5fa9f3f4a5a1bd4ecfddee23447"
  },
  "kernelspec": {
   "display_name": "Python 3",
   "language": "python",
   "name": "python3"
  },
  "language_info": {
   "codemirror_mode": {
    "name": "ipython",
    "version": 3
   },
   "file_extension": ".py",
   "mimetype": "text/x-python",
   "name": "python",
   "nbconvert_exporter": "python",
   "pygments_lexer": "ipython3",
   "version": "3.8.12"
  }
 },
 "nbformat": 4,
 "nbformat_minor": 2
}
