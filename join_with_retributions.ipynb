{
 "cells": [
  {
   "cell_type": "markdown",
   "id": "483cb98c",
   "metadata": {},
   "source": [
    "# Retribuzioni"
   ]
  },
  {
   "cell_type": "code",
   "execution_count": 2,
   "id": "0e55a251",
   "metadata": {},
   "outputs": [],
   "source": [
    "import pandas as pd\n",
    "import matplotlib.pyplot as plt\n",
    "import utils\n",
    "import numpy as np"
   ]
  },
  {
   "cell_type": "code",
   "execution_count": 3,
   "id": "1f832129",
   "metadata": {},
   "outputs": [
    {
     "data": {
      "text/html": [
       "<div>\n",
       "<style scoped>\n",
       "    .dataframe tbody tr th:only-of-type {\n",
       "        vertical-align: middle;\n",
       "    }\n",
       "\n",
       "    .dataframe tbody tr th {\n",
       "        vertical-align: top;\n",
       "    }\n",
       "\n",
       "    .dataframe thead th {\n",
       "        text-align: right;\n",
       "    }\n",
       "</style>\n",
       "<table border=\"1\" class=\"dataframe\">\n",
       "  <thead>\n",
       "    <tr style=\"text-align: right;\">\n",
       "      <th></th>\n",
       "      <th>ITTER107</th>\n",
       "      <th>Territorio</th>\n",
       "      <th>TIPO_DATO7</th>\n",
       "      <th>Tipo dato</th>\n",
       "      <th>SEXISTAT1</th>\n",
       "      <th>Sesso</th>\n",
       "      <th>TITOLO_STUDIO</th>\n",
       "      <th>Titolo di studio</th>\n",
       "      <th>PROFILO_PROF</th>\n",
       "      <th>Qualifica contrattuale</th>\n",
       "      <th>ATECO_2007</th>\n",
       "      <th>Ateco 2007</th>\n",
       "      <th>CLLVT</th>\n",
       "      <th>Classe di dipendenti</th>\n",
       "      <th>TIME</th>\n",
       "      <th>Seleziona periodo</th>\n",
       "      <th>Value</th>\n",
       "      <th>Flag Codes</th>\n",
       "      <th>Flags</th>\n",
       "    </tr>\n",
       "  </thead>\n",
       "  <tbody>\n",
       "    <tr>\n",
       "      <th>0</th>\n",
       "      <td>ITC</td>\n",
       "      <td>Nord-ovest</td>\n",
       "      <td>HOUWAG_ENTEMP_MED_MI</td>\n",
       "      <td>Retribuzione lorda  oraria per ora retribuita ...</td>\n",
       "      <td>1</td>\n",
       "      <td>maschi</td>\n",
       "      <td>11</td>\n",
       "      <td>laurea e post-laurea</td>\n",
       "      <td>6</td>\n",
       "      <td>operaio</td>\n",
       "      <td>B</td>\n",
       "      <td>estrazione di minerali da cave e miniere</td>\n",
       "      <td>TOTAL</td>\n",
       "      <td>totale</td>\n",
       "      <td>2014</td>\n",
       "      <td>2014</td>\n",
       "      <td>13.10</td>\n",
       "      <td>NaN</td>\n",
       "      <td>NaN</td>\n",
       "    </tr>\n",
       "    <tr>\n",
       "      <th>1</th>\n",
       "      <td>ITC</td>\n",
       "      <td>Nord-ovest</td>\n",
       "      <td>HOUWAG_ENTEMP_MED_MI</td>\n",
       "      <td>Retribuzione lorda  oraria per ora retribuita ...</td>\n",
       "      <td>1</td>\n",
       "      <td>maschi</td>\n",
       "      <td>11</td>\n",
       "      <td>laurea e post-laurea</td>\n",
       "      <td>6</td>\n",
       "      <td>operaio</td>\n",
       "      <td>B</td>\n",
       "      <td>estrazione di minerali da cave e miniere</td>\n",
       "      <td>TOTAL</td>\n",
       "      <td>totale</td>\n",
       "      <td>2015</td>\n",
       "      <td>2015</td>\n",
       "      <td>12.44</td>\n",
       "      <td>NaN</td>\n",
       "      <td>NaN</td>\n",
       "    </tr>\n",
       "    <tr>\n",
       "      <th>2</th>\n",
       "      <td>ITC</td>\n",
       "      <td>Nord-ovest</td>\n",
       "      <td>HOUWAG_ENTEMP_MED_MI</td>\n",
       "      <td>Retribuzione lorda  oraria per ora retribuita ...</td>\n",
       "      <td>1</td>\n",
       "      <td>maschi</td>\n",
       "      <td>11</td>\n",
       "      <td>laurea e post-laurea</td>\n",
       "      <td>6</td>\n",
       "      <td>operaio</td>\n",
       "      <td>B</td>\n",
       "      <td>estrazione di minerali da cave e miniere</td>\n",
       "      <td>TOTAL</td>\n",
       "      <td>totale</td>\n",
       "      <td>2016</td>\n",
       "      <td>2016</td>\n",
       "      <td>NaN</td>\n",
       "      <td>c</td>\n",
       "      <td>dato oscurato per la tutela del segreto statis...</td>\n",
       "    </tr>\n",
       "    <tr>\n",
       "      <th>3</th>\n",
       "      <td>ITC</td>\n",
       "      <td>Nord-ovest</td>\n",
       "      <td>HOUWAG_ENTEMP_MED_MI</td>\n",
       "      <td>Retribuzione lorda  oraria per ora retribuita ...</td>\n",
       "      <td>1</td>\n",
       "      <td>maschi</td>\n",
       "      <td>11</td>\n",
       "      <td>laurea e post-laurea</td>\n",
       "      <td>6</td>\n",
       "      <td>operaio</td>\n",
       "      <td>B</td>\n",
       "      <td>estrazione di minerali da cave e miniere</td>\n",
       "      <td>TOTAL</td>\n",
       "      <td>totale</td>\n",
       "      <td>2017</td>\n",
       "      <td>2017</td>\n",
       "      <td>NaN</td>\n",
       "      <td>c</td>\n",
       "      <td>dato oscurato per la tutela del segreto statis...</td>\n",
       "    </tr>\n",
       "    <tr>\n",
       "      <th>4</th>\n",
       "      <td>ITC</td>\n",
       "      <td>Nord-ovest</td>\n",
       "      <td>HOUWAG_ENTEMP_MED_MI</td>\n",
       "      <td>Retribuzione lorda  oraria per ora retribuita ...</td>\n",
       "      <td>1</td>\n",
       "      <td>maschi</td>\n",
       "      <td>11</td>\n",
       "      <td>laurea e post-laurea</td>\n",
       "      <td>6</td>\n",
       "      <td>operaio</td>\n",
       "      <td>B</td>\n",
       "      <td>estrazione di minerali da cave e miniere</td>\n",
       "      <td>TOTAL</td>\n",
       "      <td>totale</td>\n",
       "      <td>2018</td>\n",
       "      <td>2018</td>\n",
       "      <td>NaN</td>\n",
       "      <td>c</td>\n",
       "      <td>dato oscurato per la tutela del segreto statis...</td>\n",
       "    </tr>\n",
       "  </tbody>\n",
       "</table>\n",
       "</div>"
      ],
      "text/plain": [
       "  ITTER107  Territorio            TIPO_DATO7  \\\n",
       "0      ITC  Nord-ovest  HOUWAG_ENTEMP_MED_MI   \n",
       "1      ITC  Nord-ovest  HOUWAG_ENTEMP_MED_MI   \n",
       "2      ITC  Nord-ovest  HOUWAG_ENTEMP_MED_MI   \n",
       "3      ITC  Nord-ovest  HOUWAG_ENTEMP_MED_MI   \n",
       "4      ITC  Nord-ovest  HOUWAG_ENTEMP_MED_MI   \n",
       "\n",
       "                                           Tipo dato  SEXISTAT1   Sesso  \\\n",
       "0  Retribuzione lorda  oraria per ora retribuita ...          1  maschi   \n",
       "1  Retribuzione lorda  oraria per ora retribuita ...          1  maschi   \n",
       "2  Retribuzione lorda  oraria per ora retribuita ...          1  maschi   \n",
       "3  Retribuzione lorda  oraria per ora retribuita ...          1  maschi   \n",
       "4  Retribuzione lorda  oraria per ora retribuita ...          1  maschi   \n",
       "\n",
       "   TITOLO_STUDIO      Titolo di studio  PROFILO_PROF Qualifica contrattuale  \\\n",
       "0             11  laurea e post-laurea             6                operaio   \n",
       "1             11  laurea e post-laurea             6                operaio   \n",
       "2             11  laurea e post-laurea             6                operaio   \n",
       "3             11  laurea e post-laurea             6                operaio   \n",
       "4             11  laurea e post-laurea             6                operaio   \n",
       "\n",
       "  ATECO_2007                                Ateco 2007  CLLVT  \\\n",
       "0          B  estrazione di minerali da cave e miniere  TOTAL   \n",
       "1          B  estrazione di minerali da cave e miniere  TOTAL   \n",
       "2          B  estrazione di minerali da cave e miniere  TOTAL   \n",
       "3          B  estrazione di minerali da cave e miniere  TOTAL   \n",
       "4          B  estrazione di minerali da cave e miniere  TOTAL   \n",
       "\n",
       "  Classe di dipendenti  TIME  Seleziona periodo  Value Flag Codes  \\\n",
       "0               totale  2014               2014  13.10        NaN   \n",
       "1               totale  2015               2015  12.44        NaN   \n",
       "2               totale  2016               2016    NaN          c   \n",
       "3               totale  2017               2017    NaN          c   \n",
       "4               totale  2018               2018    NaN          c   \n",
       "\n",
       "                                               Flags  \n",
       "0                                                NaN  \n",
       "1                                                NaN  \n",
       "2  dato oscurato per la tutela del segreto statis...  \n",
       "3  dato oscurato per la tutela del segreto statis...  \n",
       "4  dato oscurato per la tutela del segreto statis...  "
      ]
     },
     "execution_count": 3,
     "metadata": {},
     "output_type": "execute_result"
    }
   ],
   "source": [
    "retributions = pd.read_csv('./retribuzioni2.csv')\n",
    "#activated_transformed.drop('Unnamed: 0', axis=1)\n",
    "retributions.head()"
   ]
  },
  {
   "cell_type": "markdown",
   "id": "187b113a",
   "metadata": {},
   "source": [
    "### Firstly clean the dataset"
   ]
  },
  {
   "cell_type": "code",
   "execution_count": 4,
   "id": "66d54bc0",
   "metadata": {},
   "outputs": [
    {
     "data": {
      "text/plain": [
       "(9682, 19)"
      ]
     },
     "execution_count": 4,
     "metadata": {},
     "output_type": "execute_result"
    }
   ],
   "source": [
    "retributions.shape"
   ]
  },
  {
   "cell_type": "code",
   "execution_count": 5,
   "id": "15e51484",
   "metadata": {},
   "outputs": [
    {
     "data": {
      "text/plain": [
       "Index(['ITTER107', 'Territorio', 'TIPO_DATO7', 'Tipo dato', 'SEXISTAT1',\n",
       "       'Sesso', 'TITOLO_STUDIO', 'Titolo di studio', 'PROFILO_PROF',\n",
       "       'Qualifica contrattuale', 'ATECO_2007', 'Ateco 2007', 'CLLVT',\n",
       "       'Classe di dipendenti', 'TIME', 'Seleziona periodo', 'Value',\n",
       "       'Flag Codes', 'Flags'],\n",
       "      dtype='object')"
      ]
     },
     "execution_count": 5,
     "metadata": {},
     "output_type": "execute_result"
    }
   ],
   "source": [
    "retributions.columns"
   ]
  },
  {
   "cell_type": "markdown",
   "id": "271efed1",
   "metadata": {},
   "source": [
    "Dropping unuseful or suplicated columns"
   ]
  },
  {
   "cell_type": "code",
   "execution_count": 6,
   "id": "b962ec5f",
   "metadata": {},
   "outputs": [
    {
     "data": {
      "text/plain": [
       "Index(['Territorio', 'Sesso', 'Titolo di studio', 'Qualifica contrattuale',\n",
       "       'Ateco 2007', 'Seleziona periodo', 'Value'],\n",
       "      dtype='object')"
      ]
     },
     "execution_count": 6,
     "metadata": {},
     "output_type": "execute_result"
    }
   ],
   "source": [
    "retributions2 = retributions.drop(['ITTER107', 'TIPO_DATO7', 'Tipo dato', 'SEXISTAT1', 'TITOLO_STUDIO', 'PROFILO_PROF', 'ATECO_2007', 'CLLVT', 'Classe di dipendenti', 'TIME', 'Flag Codes', 'Flags'], axis=1)\n",
    "retributions2.columns"
   ]
  },
  {
   "cell_type": "markdown",
   "id": "64e542a7",
   "metadata": {},
   "source": [
    "Rename column **Seleziona periodo** in **anno**"
   ]
  },
  {
   "cell_type": "code",
   "execution_count": 7,
   "id": "23e2e07a",
   "metadata": {},
   "outputs": [
    {
     "data": {
      "text/plain": [
       "array([2014, 2015, 2016, 2017, 2018, 2019])"
      ]
     },
     "execution_count": 7,
     "metadata": {},
     "output_type": "execute_result"
    }
   ],
   "source": [
    "retributions2.rename({'Seleziona periodo': 'anno'}, axis=1, inplace=True)\n",
    "retributions2.anno.unique()"
   ]
  },
  {
   "cell_type": "markdown",
   "id": "9b2bef1b",
   "metadata": {},
   "source": [
    "### Missing values inspection"
   ]
  },
  {
   "cell_type": "code",
   "execution_count": 8,
   "id": "cd4d4ca5",
   "metadata": {},
   "outputs": [
    {
     "name": "stdout",
     "output_type": "stream",
     "text": [
      "<class 'pandas.core.frame.DataFrame'>\n",
      "RangeIndex: 9682 entries, 0 to 9681\n",
      "Data columns (total 7 columns):\n",
      " #   Column                  Non-Null Count  Dtype  \n",
      "---  ------                  --------------  -----  \n",
      " 0   Territorio              9682 non-null   object \n",
      " 1   Sesso                   9682 non-null   object \n",
      " 2   Titolo di studio        9682 non-null   object \n",
      " 3   Qualifica contrattuale  9682 non-null   object \n",
      " 4   Ateco 2007              9682 non-null   object \n",
      " 5   anno                    9682 non-null   int64  \n",
      " 6   Value                   8758 non-null   float64\n",
      "dtypes: float64(1), int64(1), object(5)\n",
      "memory usage: 529.6+ KB\n"
     ]
    }
   ],
   "source": [
    "retributions2.info()"
   ]
  },
  {
   "cell_type": "code",
   "execution_count": 9,
   "id": "14bd69c0",
   "metadata": {},
   "outputs": [
    {
     "name": "stdout",
     "output_type": "stream",
     "text": [
      "Your selected dataframe has 7 columns.\n",
      "There are 1 columns that have missing values.\n"
     ]
    },
    {
     "data": {
      "text/html": [
       "<div>\n",
       "<style scoped>\n",
       "    .dataframe tbody tr th:only-of-type {\n",
       "        vertical-align: middle;\n",
       "    }\n",
       "\n",
       "    .dataframe tbody tr th {\n",
       "        vertical-align: top;\n",
       "    }\n",
       "\n",
       "    .dataframe thead th {\n",
       "        text-align: right;\n",
       "    }\n",
       "</style>\n",
       "<table border=\"1\" class=\"dataframe\">\n",
       "  <thead>\n",
       "    <tr style=\"text-align: right;\">\n",
       "      <th></th>\n",
       "      <th>Missing Values</th>\n",
       "      <th>% of Total Values</th>\n",
       "    </tr>\n",
       "  </thead>\n",
       "  <tbody>\n",
       "    <tr>\n",
       "      <th>Value</th>\n",
       "      <td>924</td>\n",
       "      <td>9.5</td>\n",
       "    </tr>\n",
       "  </tbody>\n",
       "</table>\n",
       "</div>"
      ],
      "text/plain": [
       "       Missing Values  % of Total Values\n",
       "Value             924                9.5"
      ]
     },
     "execution_count": 9,
     "metadata": {},
     "output_type": "execute_result"
    }
   ],
   "source": [
    "utils.missing_values_table(retributions2)"
   ]
  },
  {
   "cell_type": "markdown",
   "id": "7a6a6cee",
   "metadata": {},
   "source": [
    "There are some missing values only on the **Values** column. Since there are only a few i'll drop all the rows containig missing values for that column."
   ]
  },
  {
   "cell_type": "code",
   "execution_count": 10,
   "id": "b40df208",
   "metadata": {},
   "outputs": [],
   "source": [
    "retributions3 = retributions2.dropna()"
   ]
  },
  {
   "cell_type": "code",
   "execution_count": 11,
   "id": "e42e4ce9",
   "metadata": {},
   "outputs": [
    {
     "name": "stdout",
     "output_type": "stream",
     "text": [
      "Your selected dataframe has 7 columns.\n",
      "There are 0 columns that have missing values.\n"
     ]
    },
    {
     "data": {
      "text/html": [
       "<div>\n",
       "<style scoped>\n",
       "    .dataframe tbody tr th:only-of-type {\n",
       "        vertical-align: middle;\n",
       "    }\n",
       "\n",
       "    .dataframe tbody tr th {\n",
       "        vertical-align: top;\n",
       "    }\n",
       "\n",
       "    .dataframe thead th {\n",
       "        text-align: right;\n",
       "    }\n",
       "</style>\n",
       "<table border=\"1\" class=\"dataframe\">\n",
       "  <thead>\n",
       "    <tr style=\"text-align: right;\">\n",
       "      <th></th>\n",
       "      <th>Missing Values</th>\n",
       "      <th>% of Total Values</th>\n",
       "    </tr>\n",
       "  </thead>\n",
       "  <tbody>\n",
       "  </tbody>\n",
       "</table>\n",
       "</div>"
      ],
      "text/plain": [
       "Empty DataFrame\n",
       "Columns: [Missing Values, % of Total Values]\n",
       "Index: []"
      ]
     },
     "execution_count": 11,
     "metadata": {},
     "output_type": "execute_result"
    }
   ],
   "source": [
    "utils.missing_values_table(retributions3)"
   ]
  },
  {
   "cell_type": "markdown",
   "id": "b1970617",
   "metadata": {},
   "source": [
    "All missing values have been removed"
   ]
  },
  {
   "cell_type": "code",
   "execution_count": 12,
   "id": "649b521c",
   "metadata": {},
   "outputs": [
    {
     "data": {
      "text/html": [
       "<div>\n",
       "<style scoped>\n",
       "    .dataframe tbody tr th:only-of-type {\n",
       "        vertical-align: middle;\n",
       "    }\n",
       "\n",
       "    .dataframe tbody tr th {\n",
       "        vertical-align: top;\n",
       "    }\n",
       "\n",
       "    .dataframe thead th {\n",
       "        text-align: right;\n",
       "    }\n",
       "</style>\n",
       "<table border=\"1\" class=\"dataframe\">\n",
       "  <thead>\n",
       "    <tr style=\"text-align: right;\">\n",
       "      <th></th>\n",
       "      <th>TERRITORIO</th>\n",
       "      <th>SESSO</th>\n",
       "      <th>TITOLO DI STUDIO</th>\n",
       "      <th>QUALIFICA CONTRATTUALE</th>\n",
       "      <th>ATECO 2007</th>\n",
       "      <th>ANNO</th>\n",
       "      <th>VALUE</th>\n",
       "    </tr>\n",
       "  </thead>\n",
       "  <tbody>\n",
       "    <tr>\n",
       "      <th>0</th>\n",
       "      <td>Nord-ovest</td>\n",
       "      <td>maschi</td>\n",
       "      <td>laurea e post-laurea</td>\n",
       "      <td>operaio</td>\n",
       "      <td>estrazione di minerali da cave e miniere</td>\n",
       "      <td>2014</td>\n",
       "      <td>13.10</td>\n",
       "    </tr>\n",
       "    <tr>\n",
       "      <th>1</th>\n",
       "      <td>Nord-ovest</td>\n",
       "      <td>maschi</td>\n",
       "      <td>laurea e post-laurea</td>\n",
       "      <td>operaio</td>\n",
       "      <td>estrazione di minerali da cave e miniere</td>\n",
       "      <td>2015</td>\n",
       "      <td>12.44</td>\n",
       "    </tr>\n",
       "    <tr>\n",
       "      <th>5</th>\n",
       "      <td>Nord-ovest</td>\n",
       "      <td>maschi</td>\n",
       "      <td>laurea e post-laurea</td>\n",
       "      <td>operaio</td>\n",
       "      <td>estrazione di minerali da cave e miniere</td>\n",
       "      <td>2019</td>\n",
       "      <td>13.74</td>\n",
       "    </tr>\n",
       "    <tr>\n",
       "      <th>9</th>\n",
       "      <td>Nord-ovest</td>\n",
       "      <td>maschi</td>\n",
       "      <td>laurea e post-laurea</td>\n",
       "      <td>apprendista</td>\n",
       "      <td>estrazione di minerali da cave e miniere</td>\n",
       "      <td>2017</td>\n",
       "      <td>19.60</td>\n",
       "    </tr>\n",
       "    <tr>\n",
       "      <th>10</th>\n",
       "      <td>Nord-ovest</td>\n",
       "      <td>maschi</td>\n",
       "      <td>laurea e post-laurea</td>\n",
       "      <td>apprendista</td>\n",
       "      <td>estrazione di minerali da cave e miniere</td>\n",
       "      <td>2018</td>\n",
       "      <td>18.24</td>\n",
       "    </tr>\n",
       "  </tbody>\n",
       "</table>\n",
       "</div>"
      ],
      "text/plain": [
       "    TERRITORIO   SESSO      TITOLO DI STUDIO QUALIFICA CONTRATTUALE  \\\n",
       "0   Nord-ovest  maschi  laurea e post-laurea                operaio   \n",
       "1   Nord-ovest  maschi  laurea e post-laurea                operaio   \n",
       "5   Nord-ovest  maschi  laurea e post-laurea                operaio   \n",
       "9   Nord-ovest  maschi  laurea e post-laurea            apprendista   \n",
       "10  Nord-ovest  maschi  laurea e post-laurea            apprendista   \n",
       "\n",
       "                                  ATECO 2007  ANNO  VALUE  \n",
       "0   estrazione di minerali da cave e miniere  2014  13.10  \n",
       "1   estrazione di minerali da cave e miniere  2015  12.44  \n",
       "5   estrazione di minerali da cave e miniere  2019  13.74  \n",
       "9   estrazione di minerali da cave e miniere  2017  19.60  \n",
       "10  estrazione di minerali da cave e miniere  2018  18.24  "
      ]
     },
     "execution_count": 12,
     "metadata": {},
     "output_type": "execute_result"
    }
   ],
   "source": [
    "retributions3.columns = retributions3.columns.str.upper()\n",
    "retributions3.head()"
   ]
  },
  {
   "cell_type": "code",
   "execution_count": 13,
   "id": "59e0ce0a",
   "metadata": {},
   "outputs": [
    {
     "data": {
      "text/plain": [
       "array([2014, 2015, 2019, 2017, 2018, 2016])"
      ]
     },
     "execution_count": 13,
     "metadata": {},
     "output_type": "execute_result"
    }
   ],
   "source": [
    "retributions3['ANNO'].unique()#.shape[0]"
   ]
  },
  {
   "cell_type": "code",
   "execution_count": 14,
   "id": "8b5d10c3",
   "metadata": {},
   "outputs": [
    {
     "data": {
      "text/plain": [
       "8758"
      ]
     },
     "execution_count": 14,
     "metadata": {},
     "output_type": "execute_result"
    }
   ],
   "source": [
    "retributions3.shape[0]"
   ]
  },
  {
   "cell_type": "markdown",
   "id": "3279359d",
   "metadata": {},
   "source": [
    "Keeping only the records which make reference to **NORD-OVEST** as territory."
   ]
  },
  {
   "cell_type": "code",
   "execution_count": 15,
   "id": "ff51fee8",
   "metadata": {},
   "outputs": [
    {
     "name": "stderr",
     "output_type": "stream",
     "text": [
      "<ipython-input-15-3064745fc066>:2: SettingWithCopyWarning: \n",
      "A value is trying to be set on a copy of a slice from a DataFrame\n",
      "\n",
      "See the caveats in the documentation: https://pandas.pydata.org/pandas-docs/stable/user_guide/indexing.html#returning-a-view-versus-a-copy\n",
      "  retributions4.drop('TERRITORIO', axis=1, inplace=True)\n"
     ]
    },
    {
     "data": {
      "text/plain": [
       "1835"
      ]
     },
     "execution_count": 15,
     "metadata": {},
     "output_type": "execute_result"
    }
   ],
   "source": [
    "retributions4 = retributions3[retributions3['TERRITORIO'] == 'Nord-ovest']\n",
    "retributions4.drop('TERRITORIO', axis=1, inplace=True)\n",
    "retributions4.shape[0]"
   ]
  },
  {
   "cell_type": "markdown",
   "id": "726093bc",
   "metadata": {},
   "source": [
    "Refactoring of some values in order to let them be coherent with tha values of the starting dataframe."
   ]
  },
  {
   "cell_type": "code",
   "execution_count": 16,
   "id": "30b99bf4",
   "metadata": {
    "scrolled": true
   },
   "outputs": [
    {
     "name": "stderr",
     "output_type": "stream",
     "text": [
      "<ipython-input-16-38a676a592ba>:1: SettingWithCopyWarning: \n",
      "A value is trying to be set on a copy of a slice from a DataFrame.\n",
      "Try using .loc[row_indexer,col_indexer] = value instead\n",
      "\n",
      "See the caveats in the documentation: https://pandas.pydata.org/pandas-docs/stable/user_guide/indexing.html#returning-a-view-versus-a-copy\n",
      "  retributions4['SESSO'] = retributions4['SESSO'].replace({'maschi': 'M', 'femmine': 'F'})\n"
     ]
    },
    {
     "data": {
      "text/plain": [
       "array(['M', 'F'], dtype=object)"
      ]
     },
     "execution_count": 16,
     "metadata": {},
     "output_type": "execute_result"
    }
   ],
   "source": [
    "retributions4['SESSO'] = retributions4['SESSO'].replace({'maschi': 'M', 'femmine': 'F'})\n",
    "retributions4['SESSO'].unique() "
   ]
  },
  {
   "cell_type": "code",
   "execution_count": 17,
   "id": "044af0e6",
   "metadata": {},
   "outputs": [
    {
     "name": "stderr",
     "output_type": "stream",
     "text": [
      "<ipython-input-17-d05f8b689524>:1: SettingWithCopyWarning: \n",
      "A value is trying to be set on a copy of a slice from a DataFrame.\n",
      "Try using .loc[row_indexer,col_indexer] = value instead\n",
      "\n",
      "See the caveats in the documentation: https://pandas.pydata.org/pandas-docs/stable/user_guide/indexing.html#returning-a-view-versus-a-copy\n",
      "  retributions4['TITOLO DI STUDIO'] = retributions4['TITOLO DI STUDIO'].str.upper()\n"
     ]
    },
    {
     "data": {
      "text/plain": [
       "array(['LAUREA E POST-LAUREA', 'DIPLOMA',\n",
       "       'NESSUN TITOLO DI STUDIO, LICENZA DI SCUOLA ELEMENTARE E MEDIA'],\n",
       "      dtype=object)"
      ]
     },
     "execution_count": 17,
     "metadata": {},
     "output_type": "execute_result"
    }
   ],
   "source": [
    "retributions4['TITOLO DI STUDIO'] = retributions4['TITOLO DI STUDIO'].str.upper()\n",
    "retributions4['TITOLO DI STUDIO'].unique()"
   ]
  },
  {
   "cell_type": "code",
   "execution_count": 18,
   "id": "3c407597",
   "metadata": {},
   "outputs": [
    {
     "name": "stderr",
     "output_type": "stream",
     "text": [
      "<ipython-input-18-90d111c7d858>:1: SettingWithCopyWarning: \n",
      "A value is trying to be set on a copy of a slice from a DataFrame.\n",
      "Try using .loc[row_indexer,col_indexer] = value instead\n",
      "\n",
      "See the caveats in the documentation: https://pandas.pydata.org/pandas-docs/stable/user_guide/indexing.html#returning-a-view-versus-a-copy\n",
      "  retributions4['QUALIFICA CONTRATTUALE'] = retributions4['QUALIFICA CONTRATTUALE'].str.upper()\n"
     ]
    },
    {
     "data": {
      "text/plain": [
       "array(['OPERAIO', 'APPRENDISTA', 'DIRIGENTE; IMPIEGATO'], dtype=object)"
      ]
     },
     "execution_count": 18,
     "metadata": {},
     "output_type": "execute_result"
    }
   ],
   "source": [
    "retributions4['QUALIFICA CONTRATTUALE'] = retributions4['QUALIFICA CONTRATTUALE'].str.upper()\n",
    "retributions4['QUALIFICA CONTRATTUALE'].unique()"
   ]
  },
  {
   "cell_type": "code",
   "execution_count": 19,
   "id": "1ae85947",
   "metadata": {},
   "outputs": [
    {
     "name": "stderr",
     "output_type": "stream",
     "text": [
      "<ipython-input-19-cbdc431e99de>:1: SettingWithCopyWarning: \n",
      "A value is trying to be set on a copy of a slice from a DataFrame.\n",
      "Try using .loc[row_indexer,col_indexer] = value instead\n",
      "\n",
      "See the caveats in the documentation: https://pandas.pydata.org/pandas-docs/stable/user_guide/indexing.html#returning-a-view-versus-a-copy\n",
      "  retributions4['ATECO 2007'] = retributions4['ATECO 2007'].str.upper()\n"
     ]
    },
    {
     "data": {
      "text/plain": [
       "array(['ESTRAZIONE DI MINERALI DA CAVE E MINIERE',\n",
       "       'ATTIVITÀ MANIFATTURIERE',\n",
       "       'FORNITURA DI ENERGIA ELETTRICA, GAS, VAPORE E ARIA CONDIZIONATA',\n",
       "       'FORNITURA DI ACQUA RETI FOGNARIE, ATTIVITÀ DI GESTIONE DEI RIFIUTI E RISANAMENTO',\n",
       "       'COSTRUZIONI',\n",
       "       \"COMMERCIO ALL'INGROSSO E AL DETTAGLIO, RIPARAZIONE DI AUTOVEICOLI E MOTOCICLI\",\n",
       "       'TRASPORTO E MAGAZZINAGGIO',\n",
       "       'ATTIVITÀ DEI SERVIZI DI ALLOGGIO E DI RISTORAZIONE',\n",
       "       'SERVIZI DI INFORMAZIONE E COMUNICAZIONE',\n",
       "       'ATTIVITÀ FINANZIARIE E ASSICURATIVE', 'ATTIVITÀ IMMOBILIARI',\n",
       "       'ATTIVITÀ PROFESSIONALI, SCIENTIFICHE E TECNICHE',\n",
       "       'NOLEGGIO, AGENZIE DI VIAGGIO, SERVIZI DI SUPPORTO ALLE IMPRESE',\n",
       "       'ISTRUZIONE', 'SANITÀ E ASSISTENZA SOCIALE',\n",
       "       'ATTIVITÀ ARTISTICHE, SPORTIVE, DI INTRATTENIMENTO E DIVERTIMENTO',\n",
       "       'ALTRE ATTIVITÀ DI SERVIZI', 'SERVIZI  (G-S, ESCLUSO O)'],\n",
       "      dtype=object)"
      ]
     },
     "execution_count": 19,
     "metadata": {},
     "output_type": "execute_result"
    }
   ],
   "source": [
    "retributions4['ATECO 2007'] = retributions4['ATECO 2007'].str.upper()\n",
    "retributions4['ATECO 2007'].unique()"
   ]
  },
  {
   "cell_type": "markdown",
   "id": "ce77c88c",
   "metadata": {},
   "source": [
    "### Renaming the columns on which i want to make the join"
   ]
  },
  {
   "cell_type": "code",
   "execution_count": 20,
   "id": "eab3a7d5",
   "metadata": {},
   "outputs": [
    {
     "data": {
      "text/plain": [
       "Index(['SESSO', 'TITOLO DI STUDIO', 'QUALIFICA CONTRATTUALE', 'ATECO 2007',\n",
       "       'ANNO', 'VALUE'],\n",
       "      dtype='object')"
      ]
     },
     "execution_count": 20,
     "metadata": {},
     "output_type": "execute_result"
    }
   ],
   "source": [
    "retributions4.columns"
   ]
  },
  {
   "cell_type": "code",
   "execution_count": 21,
   "id": "b932b2e5",
   "metadata": {},
   "outputs": [
    {
     "data": {
      "text/plain": [
       "Index(['GENERE', 'TITOLOSTUDIO', 'QUALIFICA CONTRATTUALE', 'ATECO 2007',\n",
       "       'ANNO', 'VALUE'],\n",
       "      dtype='object')"
      ]
     },
     "execution_count": 21,
     "metadata": {},
     "output_type": "execute_result"
    }
   ],
   "source": [
    "retributions4 = retributions4.rename({'SESSO': 'GENERE',\n",
    "                      'TITOLO DI STUDIO': 'TITOLOSTUDIO'}, axis=1)\n",
    "retributions4.columns"
   ]
  },
  {
   "cell_type": "markdown",
   "id": "f5bbc6e2",
   "metadata": {},
   "source": [
    "## Adaptations on rapporti_di_lavoro_attivati.csv dataset"
   ]
  },
  {
   "cell_type": "markdown",
   "id": "da71d324",
   "metadata": {},
   "source": [
    "Importing..."
   ]
  },
  {
   "cell_type": "code",
   "execution_count": 22,
   "id": "5cd06a56",
   "metadata": {},
   "outputs": [
    {
     "data": {
      "text/html": [
       "<div>\n",
       "<style scoped>\n",
       "    .dataframe tbody tr th:only-of-type {\n",
       "        vertical-align: middle;\n",
       "    }\n",
       "\n",
       "    .dataframe tbody tr th {\n",
       "        vertical-align: top;\n",
       "    }\n",
       "\n",
       "    .dataframe thead th {\n",
       "        text-align: right;\n",
       "    }\n",
       "</style>\n",
       "<table border=\"1\" class=\"dataframe\">\n",
       "  <thead>\n",
       "    <tr style=\"text-align: right;\">\n",
       "      <th></th>\n",
       "      <th>DATA</th>\n",
       "      <th>GENERE</th>\n",
       "      <th>ETA</th>\n",
       "      <th>TITOLOSTUDIO</th>\n",
       "      <th>CONTRATTO</th>\n",
       "      <th>MODALITALAVORO</th>\n",
       "      <th>PROVINCIAIMPRESA</th>\n",
       "      <th>NAZIONALITA</th>\n",
       "    </tr>\n",
       "  </thead>\n",
       "  <tbody>\n",
       "    <tr>\n",
       "      <th>0</th>\n",
       "      <td>1973-02-01</td>\n",
       "      <td>F</td>\n",
       "      <td>20</td>\n",
       "      <td>NESSUN TITOLO DI STUDIO</td>\n",
       "      <td>LAVORO DOMESTICO A TEMPO INDETERMINATO</td>\n",
       "      <td>TEMPO PARZIALE ORIZZONTALE</td>\n",
       "      <td>MILANO</td>\n",
       "      <td>ITALIA</td>\n",
       "    </tr>\n",
       "    <tr>\n",
       "      <th>1</th>\n",
       "      <td>1974-11-06</td>\n",
       "      <td>F</td>\n",
       "      <td>21</td>\n",
       "      <td>NESSUN TITOLO DI STUDIO</td>\n",
       "      <td>LAVORO DOMESTICO A TEMPO INDETERMINATO</td>\n",
       "      <td>TEMPO PARZIALE ORIZZONTALE</td>\n",
       "      <td>MILANO</td>\n",
       "      <td>ITALIA</td>\n",
       "    </tr>\n",
       "    <tr>\n",
       "      <th>2</th>\n",
       "      <td>1976-01-10</td>\n",
       "      <td>F</td>\n",
       "      <td>21</td>\n",
       "      <td>NESSUN TITOLO DI STUDIO</td>\n",
       "      <td>LAVORO DOMESTICO A TEMPO INDETERMINATO</td>\n",
       "      <td>TEMPO PARZIALE ORIZZONTALE</td>\n",
       "      <td>BERGAMO</td>\n",
       "      <td>ITALIA</td>\n",
       "    </tr>\n",
       "    <tr>\n",
       "      <th>3</th>\n",
       "      <td>1978-01-05</td>\n",
       "      <td>M</td>\n",
       "      <td>25</td>\n",
       "      <td>NESSUN TITOLO DI STUDIO</td>\n",
       "      <td>LAVORO DOMESTICO A TEMPO INDETERMINATO</td>\n",
       "      <td>TEMPO PIENO</td>\n",
       "      <td>MILANO</td>\n",
       "      <td>ITALIA</td>\n",
       "    </tr>\n",
       "    <tr>\n",
       "      <th>4</th>\n",
       "      <td>1978-10-07</td>\n",
       "      <td>M</td>\n",
       "      <td>26</td>\n",
       "      <td>NESSUN TITOLO DI STUDIO</td>\n",
       "      <td>LAVORO DOMESTICO A TEMPO INDETERMINATO</td>\n",
       "      <td>TEMPO PIENO</td>\n",
       "      <td>MILANO</td>\n",
       "      <td>ITALIA</td>\n",
       "    </tr>\n",
       "  </tbody>\n",
       "</table>\n",
       "</div>"
      ],
      "text/plain": [
       "        DATA GENERE  ETA             TITOLOSTUDIO  \\\n",
       "0 1973-02-01      F   20  NESSUN TITOLO DI STUDIO   \n",
       "1 1974-11-06      F   21  NESSUN TITOLO DI STUDIO   \n",
       "2 1976-01-10      F   21  NESSUN TITOLO DI STUDIO   \n",
       "3 1978-01-05      M   25  NESSUN TITOLO DI STUDIO   \n",
       "4 1978-10-07      M   26  NESSUN TITOLO DI STUDIO   \n",
       "\n",
       "                                CONTRATTO              MODALITALAVORO  \\\n",
       "0  LAVORO DOMESTICO A TEMPO INDETERMINATO  TEMPO PARZIALE ORIZZONTALE   \n",
       "1  LAVORO DOMESTICO A TEMPO INDETERMINATO  TEMPO PARZIALE ORIZZONTALE   \n",
       "2  LAVORO DOMESTICO A TEMPO INDETERMINATO  TEMPO PARZIALE ORIZZONTALE   \n",
       "3  LAVORO DOMESTICO A TEMPO INDETERMINATO                 TEMPO PIENO   \n",
       "4  LAVORO DOMESTICO A TEMPO INDETERMINATO                 TEMPO PIENO   \n",
       "\n",
       "  PROVINCIAIMPRESA NAZIONALITA  \n",
       "0           MILANO      ITALIA  \n",
       "1           MILANO      ITALIA  \n",
       "2          BERGAMO      ITALIA  \n",
       "3           MILANO      ITALIA  \n",
       "4           MILANO      ITALIA  "
      ]
     },
     "execution_count": 22,
     "metadata": {},
     "output_type": "execute_result"
    }
   ],
   "source": [
    "activated_cleaned = pd.read_csv('./activated_labours_cleaned.csv', parse_dates=['DATA'], index_col=0)\n",
    "# activated_cleaned.drop('Unnamed: 0', axis=1, inplace=True)\n",
    "# activated_cleaned.set_index('DATA', inplace=True)\n",
    "activated_cleaned.head()"
   ]
  },
  {
   "cell_type": "code",
   "execution_count": 23,
   "id": "570ffb6b",
   "metadata": {},
   "outputs": [
    {
     "data": {
      "text/plain": [
       "0         1973-02-01\n",
       "1         1974-11-06\n",
       "2         1976-01-10\n",
       "3         1978-01-05\n",
       "4         1978-10-07\n",
       "             ...    \n",
       "9579788   2021-10-06\n",
       "9579789   2021-10-06\n",
       "9579790   2021-10-06\n",
       "9579791   2021-10-06\n",
       "9579792   2021-10-06\n",
       "Name: DATA, Length: 9579793, dtype: datetime64[ns]"
      ]
     },
     "execution_count": 23,
     "metadata": {},
     "output_type": "execute_result"
    }
   ],
   "source": [
    "activated_cleaned.DATA"
   ]
  },
  {
   "cell_type": "markdown",
   "id": "fe71e95c",
   "metadata": {},
   "source": [
    "Create column **ANNO** for joining purposes"
   ]
  },
  {
   "cell_type": "code",
   "execution_count": 24,
   "id": "3b2a1977",
   "metadata": {},
   "outputs": [
    {
     "data": {
      "text/html": [
       "<div>\n",
       "<style scoped>\n",
       "    .dataframe tbody tr th:only-of-type {\n",
       "        vertical-align: middle;\n",
       "    }\n",
       "\n",
       "    .dataframe tbody tr th {\n",
       "        vertical-align: top;\n",
       "    }\n",
       "\n",
       "    .dataframe thead th {\n",
       "        text-align: right;\n",
       "    }\n",
       "</style>\n",
       "<table border=\"1\" class=\"dataframe\">\n",
       "  <thead>\n",
       "    <tr style=\"text-align: right;\">\n",
       "      <th></th>\n",
       "      <th>DATA</th>\n",
       "      <th>GENERE</th>\n",
       "      <th>ETA</th>\n",
       "      <th>TITOLOSTUDIO</th>\n",
       "      <th>CONTRATTO</th>\n",
       "      <th>MODALITALAVORO</th>\n",
       "      <th>PROVINCIAIMPRESA</th>\n",
       "      <th>NAZIONALITA</th>\n",
       "      <th>ANNO</th>\n",
       "    </tr>\n",
       "  </thead>\n",
       "  <tbody>\n",
       "    <tr>\n",
       "      <th>0</th>\n",
       "      <td>1973-02-01</td>\n",
       "      <td>F</td>\n",
       "      <td>20</td>\n",
       "      <td>NESSUN TITOLO DI STUDIO</td>\n",
       "      <td>LAVORO DOMESTICO A TEMPO INDETERMINATO</td>\n",
       "      <td>TEMPO PARZIALE ORIZZONTALE</td>\n",
       "      <td>MILANO</td>\n",
       "      <td>ITALIA</td>\n",
       "      <td>1973</td>\n",
       "    </tr>\n",
       "    <tr>\n",
       "      <th>1</th>\n",
       "      <td>1974-11-06</td>\n",
       "      <td>F</td>\n",
       "      <td>21</td>\n",
       "      <td>NESSUN TITOLO DI STUDIO</td>\n",
       "      <td>LAVORO DOMESTICO A TEMPO INDETERMINATO</td>\n",
       "      <td>TEMPO PARZIALE ORIZZONTALE</td>\n",
       "      <td>MILANO</td>\n",
       "      <td>ITALIA</td>\n",
       "      <td>1974</td>\n",
       "    </tr>\n",
       "    <tr>\n",
       "      <th>2</th>\n",
       "      <td>1976-01-10</td>\n",
       "      <td>F</td>\n",
       "      <td>21</td>\n",
       "      <td>NESSUN TITOLO DI STUDIO</td>\n",
       "      <td>LAVORO DOMESTICO A TEMPO INDETERMINATO</td>\n",
       "      <td>TEMPO PARZIALE ORIZZONTALE</td>\n",
       "      <td>BERGAMO</td>\n",
       "      <td>ITALIA</td>\n",
       "      <td>1976</td>\n",
       "    </tr>\n",
       "    <tr>\n",
       "      <th>3</th>\n",
       "      <td>1978-01-05</td>\n",
       "      <td>M</td>\n",
       "      <td>25</td>\n",
       "      <td>NESSUN TITOLO DI STUDIO</td>\n",
       "      <td>LAVORO DOMESTICO A TEMPO INDETERMINATO</td>\n",
       "      <td>TEMPO PIENO</td>\n",
       "      <td>MILANO</td>\n",
       "      <td>ITALIA</td>\n",
       "      <td>1978</td>\n",
       "    </tr>\n",
       "    <tr>\n",
       "      <th>4</th>\n",
       "      <td>1978-10-07</td>\n",
       "      <td>M</td>\n",
       "      <td>26</td>\n",
       "      <td>NESSUN TITOLO DI STUDIO</td>\n",
       "      <td>LAVORO DOMESTICO A TEMPO INDETERMINATO</td>\n",
       "      <td>TEMPO PIENO</td>\n",
       "      <td>MILANO</td>\n",
       "      <td>ITALIA</td>\n",
       "      <td>1978</td>\n",
       "    </tr>\n",
       "  </tbody>\n",
       "</table>\n",
       "</div>"
      ],
      "text/plain": [
       "        DATA GENERE  ETA             TITOLOSTUDIO  \\\n",
       "0 1973-02-01      F   20  NESSUN TITOLO DI STUDIO   \n",
       "1 1974-11-06      F   21  NESSUN TITOLO DI STUDIO   \n",
       "2 1976-01-10      F   21  NESSUN TITOLO DI STUDIO   \n",
       "3 1978-01-05      M   25  NESSUN TITOLO DI STUDIO   \n",
       "4 1978-10-07      M   26  NESSUN TITOLO DI STUDIO   \n",
       "\n",
       "                                CONTRATTO              MODALITALAVORO  \\\n",
       "0  LAVORO DOMESTICO A TEMPO INDETERMINATO  TEMPO PARZIALE ORIZZONTALE   \n",
       "1  LAVORO DOMESTICO A TEMPO INDETERMINATO  TEMPO PARZIALE ORIZZONTALE   \n",
       "2  LAVORO DOMESTICO A TEMPO INDETERMINATO  TEMPO PARZIALE ORIZZONTALE   \n",
       "3  LAVORO DOMESTICO A TEMPO INDETERMINATO                 TEMPO PIENO   \n",
       "4  LAVORO DOMESTICO A TEMPO INDETERMINATO                 TEMPO PIENO   \n",
       "\n",
       "  PROVINCIAIMPRESA NAZIONALITA  ANNO  \n",
       "0           MILANO      ITALIA  1973  \n",
       "1           MILANO      ITALIA  1974  \n",
       "2          BERGAMO      ITALIA  1976  \n",
       "3           MILANO      ITALIA  1978  \n",
       "4           MILANO      ITALIA  1978  "
      ]
     },
     "execution_count": 24,
     "metadata": {},
     "output_type": "execute_result"
    }
   ],
   "source": [
    "activated_cleaned['ANNO'] = pd.DatetimeIndex(activated_cleaned.DATA).year\n",
    "activated_cleaned.head()"
   ]
  },
  {
   "cell_type": "markdown",
   "id": "4d0ba007",
   "metadata": {},
   "source": [
    "Sesso, Titolo di studio, Qualifica contrattuale e Classe di dipendenti contengono come valore la stringa 'totale'"
   ]
  },
  {
   "cell_type": "code",
   "execution_count": 25,
   "id": "e7ca1ddd",
   "metadata": {},
   "outputs": [
    {
     "data": {
      "text/plain": [
       "array(['NESSUN TITOLO DI STUDIO', 'LICENZA MEDIA', 'LICENZA ELEMENTARE',\n",
       "       \"DIPLOMA DI ISTRUZIONE SECONDARIA SUPERIORE  CHE PERMETTE L'ACCESSO ALL'UNIVERSITA\",\n",
       "       'LAUREA - Vecchio o nuovo ordinamento',\n",
       "       \"TITOLO DI ISTRUZIONE SECONDARIA SUPERIORE (SCOLASTICA ED EXTRA-SCOLASTICA) CHE NON PERMETTE L'ACCESSO ALL'UNIVERSITÀ ()\",\n",
       "       'MASTER UNIVERSITARIO DI PRIMO LIVELLO',\n",
       "       'DIPLOMA TERZIARIO EXTRA-UNIVERSITARIO', 'DIPLOMA UNIVERSITARIO',\n",
       "       'DIPLOMA DI SPECIALIZZAZIONE', 'TITOLO DI DOTTORE DI RICERCA',\n",
       "       'TITOLO DI STUDIO POST-LAUREA'], dtype=object)"
      ]
     },
     "execution_count": 25,
     "metadata": {},
     "output_type": "execute_result"
    }
   ],
   "source": [
    "activated_cleaned['TITOLOSTUDIO'].unique()"
   ]
  },
  {
   "cell_type": "code",
   "execution_count": 26,
   "id": "a97777bb",
   "metadata": {},
   "outputs": [
    {
     "data": {
      "text/plain": [
       "array(['LAUREA E POST-LAUREA', 'DIPLOMA',\n",
       "       'NESSUN TITOLO DI STUDIO, LICENZA DI SCUOLA ELEMENTARE E MEDIA'],\n",
       "      dtype=object)"
      ]
     },
     "execution_count": 26,
     "metadata": {},
     "output_type": "execute_result"
    }
   ],
   "source": [
    "retributions4['TITOLOSTUDIO'].unique()"
   ]
  },
  {
   "cell_type": "code",
   "execution_count": 27,
   "id": "958a3b57",
   "metadata": {},
   "outputs": [
    {
     "data": {
      "text/html": [
       "<div>\n",
       "<style scoped>\n",
       "    .dataframe tbody tr th:only-of-type {\n",
       "        vertical-align: middle;\n",
       "    }\n",
       "\n",
       "    .dataframe tbody tr th {\n",
       "        vertical-align: top;\n",
       "    }\n",
       "\n",
       "    .dataframe thead th {\n",
       "        text-align: right;\n",
       "    }\n",
       "</style>\n",
       "<table border=\"1\" class=\"dataframe\">\n",
       "  <thead>\n",
       "    <tr style=\"text-align: right;\">\n",
       "      <th></th>\n",
       "      <th>DATA</th>\n",
       "      <th>GENERE</th>\n",
       "      <th>ETA</th>\n",
       "      <th>TITOLOSTUDIO</th>\n",
       "      <th>CONTRATTO</th>\n",
       "      <th>MODALITALAVORO</th>\n",
       "      <th>PROVINCIAIMPRESA</th>\n",
       "      <th>NAZIONALITA</th>\n",
       "      <th>ANNO</th>\n",
       "    </tr>\n",
       "  </thead>\n",
       "  <tbody>\n",
       "    <tr>\n",
       "      <th>0</th>\n",
       "      <td>1973-02-01</td>\n",
       "      <td>F</td>\n",
       "      <td>20</td>\n",
       "      <td>NESSUN TITOLO DI STUDIO, LICENZA DI SCUOLA ELE...</td>\n",
       "      <td>LAVORO DOMESTICO A TEMPO INDETERMINATO</td>\n",
       "      <td>TEMPO PARZIALE ORIZZONTALE</td>\n",
       "      <td>MILANO</td>\n",
       "      <td>ITALIA</td>\n",
       "      <td>1973</td>\n",
       "    </tr>\n",
       "    <tr>\n",
       "      <th>1</th>\n",
       "      <td>1974-11-06</td>\n",
       "      <td>F</td>\n",
       "      <td>21</td>\n",
       "      <td>NESSUN TITOLO DI STUDIO, LICENZA DI SCUOLA ELE...</td>\n",
       "      <td>LAVORO DOMESTICO A TEMPO INDETERMINATO</td>\n",
       "      <td>TEMPO PARZIALE ORIZZONTALE</td>\n",
       "      <td>MILANO</td>\n",
       "      <td>ITALIA</td>\n",
       "      <td>1974</td>\n",
       "    </tr>\n",
       "    <tr>\n",
       "      <th>2</th>\n",
       "      <td>1976-01-10</td>\n",
       "      <td>F</td>\n",
       "      <td>21</td>\n",
       "      <td>NESSUN TITOLO DI STUDIO, LICENZA DI SCUOLA ELE...</td>\n",
       "      <td>LAVORO DOMESTICO A TEMPO INDETERMINATO</td>\n",
       "      <td>TEMPO PARZIALE ORIZZONTALE</td>\n",
       "      <td>BERGAMO</td>\n",
       "      <td>ITALIA</td>\n",
       "      <td>1976</td>\n",
       "    </tr>\n",
       "    <tr>\n",
       "      <th>3</th>\n",
       "      <td>1978-01-05</td>\n",
       "      <td>M</td>\n",
       "      <td>25</td>\n",
       "      <td>NESSUN TITOLO DI STUDIO, LICENZA DI SCUOLA ELE...</td>\n",
       "      <td>LAVORO DOMESTICO A TEMPO INDETERMINATO</td>\n",
       "      <td>TEMPO PIENO</td>\n",
       "      <td>MILANO</td>\n",
       "      <td>ITALIA</td>\n",
       "      <td>1978</td>\n",
       "    </tr>\n",
       "    <tr>\n",
       "      <th>4</th>\n",
       "      <td>1978-10-07</td>\n",
       "      <td>M</td>\n",
       "      <td>26</td>\n",
       "      <td>NESSUN TITOLO DI STUDIO, LICENZA DI SCUOLA ELE...</td>\n",
       "      <td>LAVORO DOMESTICO A TEMPO INDETERMINATO</td>\n",
       "      <td>TEMPO PIENO</td>\n",
       "      <td>MILANO</td>\n",
       "      <td>ITALIA</td>\n",
       "      <td>1978</td>\n",
       "    </tr>\n",
       "  </tbody>\n",
       "</table>\n",
       "</div>"
      ],
      "text/plain": [
       "        DATA GENERE  ETA                                       TITOLOSTUDIO  \\\n",
       "0 1973-02-01      F   20  NESSUN TITOLO DI STUDIO, LICENZA DI SCUOLA ELE...   \n",
       "1 1974-11-06      F   21  NESSUN TITOLO DI STUDIO, LICENZA DI SCUOLA ELE...   \n",
       "2 1976-01-10      F   21  NESSUN TITOLO DI STUDIO, LICENZA DI SCUOLA ELE...   \n",
       "3 1978-01-05      M   25  NESSUN TITOLO DI STUDIO, LICENZA DI SCUOLA ELE...   \n",
       "4 1978-10-07      M   26  NESSUN TITOLO DI STUDIO, LICENZA DI SCUOLA ELE...   \n",
       "\n",
       "                                CONTRATTO              MODALITALAVORO  \\\n",
       "0  LAVORO DOMESTICO A TEMPO INDETERMINATO  TEMPO PARZIALE ORIZZONTALE   \n",
       "1  LAVORO DOMESTICO A TEMPO INDETERMINATO  TEMPO PARZIALE ORIZZONTALE   \n",
       "2  LAVORO DOMESTICO A TEMPO INDETERMINATO  TEMPO PARZIALE ORIZZONTALE   \n",
       "3  LAVORO DOMESTICO A TEMPO INDETERMINATO                 TEMPO PIENO   \n",
       "4  LAVORO DOMESTICO A TEMPO INDETERMINATO                 TEMPO PIENO   \n",
       "\n",
       "  PROVINCIAIMPRESA NAZIONALITA  ANNO  \n",
       "0           MILANO      ITALIA  1973  \n",
       "1           MILANO      ITALIA  1974  \n",
       "2          BERGAMO      ITALIA  1976  \n",
       "3           MILANO      ITALIA  1978  \n",
       "4           MILANO      ITALIA  1978  "
      ]
     },
     "execution_count": 27,
     "metadata": {},
     "output_type": "execute_result"
    }
   ],
   "source": [
    "study_titles_map = {'NESSUN TITOLO DI STUDIO': 'NESSUN TITOLO DI STUDIO, LICENZA DI SCUOLA ELEMENTARE E MEDIA',\n",
    "                    'LICENZA MEDIA': 'NESSUN TITOLO DI STUDIO, LICENZA DI SCUOLA ELEMENTARE E MEDIA',\n",
    "                    'LICENZA ELEMENTARE': 'NESSUN TITOLO DI STUDIO, LICENZA DI SCUOLA ELEMENTARE E MEDIA',\n",
    "                    'LAUREA': 'LAUREA E POST-LAUREA',\n",
    "                    'LAUREA - Vecchio o nuovo ordinamento': 'LAUREA E POST-LAUREA',\n",
    "                    'TITOLO DI STUDIO POST-LAUREA': 'LAUREA E POST-LAUREA',\n",
    "                    'DIPLOMA DI ISTRUZIONE SECONDARIA SUPERIORE  CHE PERMETTE L\\'ACCESSO ALL\\'UNIVERSITA': 'DIPLOMA DI ISTRUZIONE SECONDARIA SUPERIORE, TERZIARIO EXTRA-UNIVERSITARIO, UNIVERSITARIO',\n",
    "                    'DIPLOMA TERZIARIO EXTRA-UNIVERSITARIO': 'DIPLOMA DI ISTRUZIONE SECONDARIA SUPERIORE, TERZIARIO EXTRA-UNIVERSITARIO, UNIVERSITARIO',\n",
    "                    'DIPLOMA UNIVERSITARIO' : 'DIPLOMA DI ISTRUZIONE SECONDARIA SUPERIORE, TERZIARIO EXTRA-UNIVERSITARIO, UNIVERSITARIO'}\n",
    "activated_cleaned['TITOLOSTUDIO'] = activated_cleaned['TITOLOSTUDIO'].replace(study_titles_map)\n",
    "activated_cleaned.head()"
   ]
  },
  {
   "cell_type": "code",
   "execution_count": 28,
   "id": "cbd96a3e",
   "metadata": {},
   "outputs": [
    {
     "data": {
      "text/html": [
       "<div>\n",
       "<style scoped>\n",
       "    .dataframe tbody tr th:only-of-type {\n",
       "        vertical-align: middle;\n",
       "    }\n",
       "\n",
       "    .dataframe tbody tr th {\n",
       "        vertical-align: top;\n",
       "    }\n",
       "\n",
       "    .dataframe thead th {\n",
       "        text-align: right;\n",
       "    }\n",
       "</style>\n",
       "<table border=\"1\" class=\"dataframe\">\n",
       "  <thead>\n",
       "    <tr style=\"text-align: right;\">\n",
       "      <th></th>\n",
       "      <th>GENERE</th>\n",
       "      <th>TITOLOSTUDIO</th>\n",
       "      <th>QUALIFICA CONTRATTUALE</th>\n",
       "      <th>ATECO 2007</th>\n",
       "      <th>ANNO</th>\n",
       "      <th>VALUE</th>\n",
       "    </tr>\n",
       "  </thead>\n",
       "  <tbody>\n",
       "    <tr>\n",
       "      <th>0</th>\n",
       "      <td>M</td>\n",
       "      <td>LAUREA E POST-LAUREA</td>\n",
       "      <td>OPERAIO</td>\n",
       "      <td>ESTRAZIONE DI MINERALI DA CAVE E MINIERE</td>\n",
       "      <td>2014</td>\n",
       "      <td>13.10</td>\n",
       "    </tr>\n",
       "    <tr>\n",
       "      <th>1</th>\n",
       "      <td>M</td>\n",
       "      <td>LAUREA E POST-LAUREA</td>\n",
       "      <td>OPERAIO</td>\n",
       "      <td>ESTRAZIONE DI MINERALI DA CAVE E MINIERE</td>\n",
       "      <td>2015</td>\n",
       "      <td>12.44</td>\n",
       "    </tr>\n",
       "    <tr>\n",
       "      <th>5</th>\n",
       "      <td>M</td>\n",
       "      <td>LAUREA E POST-LAUREA</td>\n",
       "      <td>OPERAIO</td>\n",
       "      <td>ESTRAZIONE DI MINERALI DA CAVE E MINIERE</td>\n",
       "      <td>2019</td>\n",
       "      <td>13.74</td>\n",
       "    </tr>\n",
       "    <tr>\n",
       "      <th>9</th>\n",
       "      <td>M</td>\n",
       "      <td>LAUREA E POST-LAUREA</td>\n",
       "      <td>APPRENDISTA</td>\n",
       "      <td>ESTRAZIONE DI MINERALI DA CAVE E MINIERE</td>\n",
       "      <td>2017</td>\n",
       "      <td>19.60</td>\n",
       "    </tr>\n",
       "    <tr>\n",
       "      <th>10</th>\n",
       "      <td>M</td>\n",
       "      <td>LAUREA E POST-LAUREA</td>\n",
       "      <td>APPRENDISTA</td>\n",
       "      <td>ESTRAZIONE DI MINERALI DA CAVE E MINIERE</td>\n",
       "      <td>2018</td>\n",
       "      <td>18.24</td>\n",
       "    </tr>\n",
       "  </tbody>\n",
       "</table>\n",
       "</div>"
      ],
      "text/plain": [
       "   GENERE          TITOLOSTUDIO QUALIFICA CONTRATTUALE  \\\n",
       "0       M  LAUREA E POST-LAUREA                OPERAIO   \n",
       "1       M  LAUREA E POST-LAUREA                OPERAIO   \n",
       "5       M  LAUREA E POST-LAUREA                OPERAIO   \n",
       "9       M  LAUREA E POST-LAUREA            APPRENDISTA   \n",
       "10      M  LAUREA E POST-LAUREA            APPRENDISTA   \n",
       "\n",
       "                                  ATECO 2007  ANNO  VALUE  \n",
       "0   ESTRAZIONE DI MINERALI DA CAVE E MINIERE  2014  13.10  \n",
       "1   ESTRAZIONE DI MINERALI DA CAVE E MINIERE  2015  12.44  \n",
       "5   ESTRAZIONE DI MINERALI DA CAVE E MINIERE  2019  13.74  \n",
       "9   ESTRAZIONE DI MINERALI DA CAVE E MINIERE  2017  19.60  \n",
       "10  ESTRAZIONE DI MINERALI DA CAVE E MINIERE  2018  18.24  "
      ]
     },
     "execution_count": 28,
     "metadata": {},
     "output_type": "execute_result"
    }
   ],
   "source": [
    "retributions4['TITOLOSTUDIO'] = retributions4['TITOLOSTUDIO'].replace({'DIPLOMA': 'DIPLOMA DI ISTRUZIONE SECONDARIA SUPERIORE, TERZIARIO EXTRA-UNIVERSITARIO, UNIVERSITARIO'})\n",
    "retributions4.head()"
   ]
  },
  {
   "cell_type": "code",
   "execution_count": 29,
   "id": "f51e61d8",
   "metadata": {},
   "outputs": [
    {
     "data": {
      "text/html": [
       "<div>\n",
       "<style scoped>\n",
       "    .dataframe tbody tr th:only-of-type {\n",
       "        vertical-align: middle;\n",
       "    }\n",
       "\n",
       "    .dataframe tbody tr th {\n",
       "        vertical-align: top;\n",
       "    }\n",
       "\n",
       "    .dataframe thead th {\n",
       "        text-align: right;\n",
       "    }\n",
       "</style>\n",
       "<table border=\"1\" class=\"dataframe\">\n",
       "  <thead>\n",
       "    <tr style=\"text-align: right;\">\n",
       "      <th></th>\n",
       "      <th>DATA</th>\n",
       "      <th>GENERE</th>\n",
       "      <th>ETA</th>\n",
       "      <th>TITOLOSTUDIO</th>\n",
       "      <th>CONTRATTO</th>\n",
       "      <th>MODALITALAVORO</th>\n",
       "      <th>PROVINCIAIMPRESA</th>\n",
       "      <th>NAZIONALITA</th>\n",
       "    </tr>\n",
       "    <tr>\n",
       "      <th>ANNO</th>\n",
       "      <th></th>\n",
       "      <th></th>\n",
       "      <th></th>\n",
       "      <th></th>\n",
       "      <th></th>\n",
       "      <th></th>\n",
       "      <th></th>\n",
       "      <th></th>\n",
       "    </tr>\n",
       "  </thead>\n",
       "  <tbody>\n",
       "    <tr>\n",
       "      <th>1973</th>\n",
       "      <td>1</td>\n",
       "      <td>1</td>\n",
       "      <td>1</td>\n",
       "      <td>1</td>\n",
       "      <td>1</td>\n",
       "      <td>1</td>\n",
       "      <td>1</td>\n",
       "      <td>1</td>\n",
       "    </tr>\n",
       "    <tr>\n",
       "      <th>1974</th>\n",
       "      <td>1</td>\n",
       "      <td>1</td>\n",
       "      <td>1</td>\n",
       "      <td>1</td>\n",
       "      <td>1</td>\n",
       "      <td>1</td>\n",
       "      <td>1</td>\n",
       "      <td>1</td>\n",
       "    </tr>\n",
       "    <tr>\n",
       "      <th>1976</th>\n",
       "      <td>1</td>\n",
       "      <td>1</td>\n",
       "      <td>1</td>\n",
       "      <td>1</td>\n",
       "      <td>1</td>\n",
       "      <td>1</td>\n",
       "      <td>1</td>\n",
       "      <td>1</td>\n",
       "    </tr>\n",
       "    <tr>\n",
       "      <th>1978</th>\n",
       "      <td>2</td>\n",
       "      <td>2</td>\n",
       "      <td>2</td>\n",
       "      <td>2</td>\n",
       "      <td>2</td>\n",
       "      <td>2</td>\n",
       "      <td>2</td>\n",
       "      <td>2</td>\n",
       "    </tr>\n",
       "    <tr>\n",
       "      <th>1979</th>\n",
       "      <td>1</td>\n",
       "      <td>1</td>\n",
       "      <td>1</td>\n",
       "      <td>1</td>\n",
       "      <td>1</td>\n",
       "      <td>1</td>\n",
       "      <td>1</td>\n",
       "      <td>1</td>\n",
       "    </tr>\n",
       "    <tr>\n",
       "      <th>1980</th>\n",
       "      <td>1</td>\n",
       "      <td>1</td>\n",
       "      <td>1</td>\n",
       "      <td>1</td>\n",
       "      <td>1</td>\n",
       "      <td>1</td>\n",
       "      <td>1</td>\n",
       "      <td>1</td>\n",
       "    </tr>\n",
       "    <tr>\n",
       "      <th>1981</th>\n",
       "      <td>1</td>\n",
       "      <td>1</td>\n",
       "      <td>1</td>\n",
       "      <td>1</td>\n",
       "      <td>1</td>\n",
       "      <td>1</td>\n",
       "      <td>1</td>\n",
       "      <td>1</td>\n",
       "    </tr>\n",
       "    <tr>\n",
       "      <th>1982</th>\n",
       "      <td>1</td>\n",
       "      <td>1</td>\n",
       "      <td>1</td>\n",
       "      <td>1</td>\n",
       "      <td>1</td>\n",
       "      <td>1</td>\n",
       "      <td>1</td>\n",
       "      <td>1</td>\n",
       "    </tr>\n",
       "    <tr>\n",
       "      <th>1988</th>\n",
       "      <td>1</td>\n",
       "      <td>1</td>\n",
       "      <td>1</td>\n",
       "      <td>1</td>\n",
       "      <td>1</td>\n",
       "      <td>1</td>\n",
       "      <td>1</td>\n",
       "      <td>1</td>\n",
       "    </tr>\n",
       "    <tr>\n",
       "      <th>1996</th>\n",
       "      <td>1</td>\n",
       "      <td>1</td>\n",
       "      <td>1</td>\n",
       "      <td>1</td>\n",
       "      <td>1</td>\n",
       "      <td>1</td>\n",
       "      <td>1</td>\n",
       "      <td>1</td>\n",
       "    </tr>\n",
       "    <tr>\n",
       "      <th>1997</th>\n",
       "      <td>2</td>\n",
       "      <td>2</td>\n",
       "      <td>2</td>\n",
       "      <td>2</td>\n",
       "      <td>2</td>\n",
       "      <td>2</td>\n",
       "      <td>2</td>\n",
       "      <td>2</td>\n",
       "    </tr>\n",
       "    <tr>\n",
       "      <th>1999</th>\n",
       "      <td>1</td>\n",
       "      <td>1</td>\n",
       "      <td>1</td>\n",
       "      <td>1</td>\n",
       "      <td>1</td>\n",
       "      <td>1</td>\n",
       "      <td>1</td>\n",
       "      <td>1</td>\n",
       "    </tr>\n",
       "    <tr>\n",
       "      <th>2001</th>\n",
       "      <td>38</td>\n",
       "      <td>38</td>\n",
       "      <td>38</td>\n",
       "      <td>38</td>\n",
       "      <td>38</td>\n",
       "      <td>38</td>\n",
       "      <td>38</td>\n",
       "      <td>38</td>\n",
       "    </tr>\n",
       "    <tr>\n",
       "      <th>2003</th>\n",
       "      <td>2</td>\n",
       "      <td>2</td>\n",
       "      <td>2</td>\n",
       "      <td>2</td>\n",
       "      <td>2</td>\n",
       "      <td>2</td>\n",
       "      <td>2</td>\n",
       "      <td>2</td>\n",
       "    </tr>\n",
       "    <tr>\n",
       "      <th>2004</th>\n",
       "      <td>2</td>\n",
       "      <td>2</td>\n",
       "      <td>2</td>\n",
       "      <td>2</td>\n",
       "      <td>2</td>\n",
       "      <td>2</td>\n",
       "      <td>2</td>\n",
       "      <td>2</td>\n",
       "    </tr>\n",
       "    <tr>\n",
       "      <th>2005</th>\n",
       "      <td>1</td>\n",
       "      <td>1</td>\n",
       "      <td>1</td>\n",
       "      <td>1</td>\n",
       "      <td>1</td>\n",
       "      <td>1</td>\n",
       "      <td>1</td>\n",
       "      <td>1</td>\n",
       "    </tr>\n",
       "    <tr>\n",
       "      <th>2006</th>\n",
       "      <td>3</td>\n",
       "      <td>3</td>\n",
       "      <td>3</td>\n",
       "      <td>3</td>\n",
       "      <td>3</td>\n",
       "      <td>3</td>\n",
       "      <td>3</td>\n",
       "      <td>3</td>\n",
       "    </tr>\n",
       "    <tr>\n",
       "      <th>2007</th>\n",
       "      <td>6</td>\n",
       "      <td>6</td>\n",
       "      <td>6</td>\n",
       "      <td>6</td>\n",
       "      <td>6</td>\n",
       "      <td>6</td>\n",
       "      <td>6</td>\n",
       "      <td>6</td>\n",
       "    </tr>\n",
       "    <tr>\n",
       "      <th>2008</th>\n",
       "      <td>1590</td>\n",
       "      <td>1590</td>\n",
       "      <td>1590</td>\n",
       "      <td>1590</td>\n",
       "      <td>1590</td>\n",
       "      <td>1590</td>\n",
       "      <td>1590</td>\n",
       "      <td>1590</td>\n",
       "    </tr>\n",
       "    <tr>\n",
       "      <th>2009</th>\n",
       "      <td>397507</td>\n",
       "      <td>397507</td>\n",
       "      <td>397507</td>\n",
       "      <td>397507</td>\n",
       "      <td>397507</td>\n",
       "      <td>397507</td>\n",
       "      <td>397507</td>\n",
       "      <td>397507</td>\n",
       "    </tr>\n",
       "    <tr>\n",
       "      <th>2010</th>\n",
       "      <td>793129</td>\n",
       "      <td>793129</td>\n",
       "      <td>793129</td>\n",
       "      <td>793129</td>\n",
       "      <td>793129</td>\n",
       "      <td>793129</td>\n",
       "      <td>793129</td>\n",
       "      <td>793129</td>\n",
       "    </tr>\n",
       "    <tr>\n",
       "      <th>2011</th>\n",
       "      <td>858716</td>\n",
       "      <td>858716</td>\n",
       "      <td>858716</td>\n",
       "      <td>858716</td>\n",
       "      <td>858716</td>\n",
       "      <td>858716</td>\n",
       "      <td>858716</td>\n",
       "      <td>858716</td>\n",
       "    </tr>\n",
       "    <tr>\n",
       "      <th>2012</th>\n",
       "      <td>763733</td>\n",
       "      <td>763733</td>\n",
       "      <td>763733</td>\n",
       "      <td>763733</td>\n",
       "      <td>763733</td>\n",
       "      <td>763733</td>\n",
       "      <td>763733</td>\n",
       "      <td>763733</td>\n",
       "    </tr>\n",
       "    <tr>\n",
       "      <th>2013</th>\n",
       "      <td>673152</td>\n",
       "      <td>673152</td>\n",
       "      <td>673152</td>\n",
       "      <td>673152</td>\n",
       "      <td>673152</td>\n",
       "      <td>673152</td>\n",
       "      <td>673152</td>\n",
       "      <td>673152</td>\n",
       "    </tr>\n",
       "    <tr>\n",
       "      <th>2014</th>\n",
       "      <td>689300</td>\n",
       "      <td>689300</td>\n",
       "      <td>689300</td>\n",
       "      <td>689300</td>\n",
       "      <td>689300</td>\n",
       "      <td>689300</td>\n",
       "      <td>689300</td>\n",
       "      <td>689300</td>\n",
       "    </tr>\n",
       "    <tr>\n",
       "      <th>2015</th>\n",
       "      <td>757895</td>\n",
       "      <td>757895</td>\n",
       "      <td>757895</td>\n",
       "      <td>757895</td>\n",
       "      <td>757895</td>\n",
       "      <td>757895</td>\n",
       "      <td>757895</td>\n",
       "      <td>757895</td>\n",
       "    </tr>\n",
       "    <tr>\n",
       "      <th>2016</th>\n",
       "      <td>761881</td>\n",
       "      <td>761881</td>\n",
       "      <td>761881</td>\n",
       "      <td>761881</td>\n",
       "      <td>761881</td>\n",
       "      <td>761881</td>\n",
       "      <td>761881</td>\n",
       "      <td>761881</td>\n",
       "    </tr>\n",
       "    <tr>\n",
       "      <th>2017</th>\n",
       "      <td>847079</td>\n",
       "      <td>847079</td>\n",
       "      <td>847079</td>\n",
       "      <td>847079</td>\n",
       "      <td>847079</td>\n",
       "      <td>847079</td>\n",
       "      <td>847079</td>\n",
       "      <td>847079</td>\n",
       "    </tr>\n",
       "    <tr>\n",
       "      <th>2018</th>\n",
       "      <td>899082</td>\n",
       "      <td>899082</td>\n",
       "      <td>899082</td>\n",
       "      <td>899082</td>\n",
       "      <td>899082</td>\n",
       "      <td>899082</td>\n",
       "      <td>899082</td>\n",
       "      <td>899082</td>\n",
       "    </tr>\n",
       "    <tr>\n",
       "      <th>2019</th>\n",
       "      <td>874079</td>\n",
       "      <td>874079</td>\n",
       "      <td>874079</td>\n",
       "      <td>874079</td>\n",
       "      <td>874079</td>\n",
       "      <td>874079</td>\n",
       "      <td>874079</td>\n",
       "      <td>874079</td>\n",
       "    </tr>\n",
       "    <tr>\n",
       "      <th>2020</th>\n",
       "      <td>640133</td>\n",
       "      <td>640133</td>\n",
       "      <td>640133</td>\n",
       "      <td>640133</td>\n",
       "      <td>640133</td>\n",
       "      <td>640133</td>\n",
       "      <td>640133</td>\n",
       "      <td>640133</td>\n",
       "    </tr>\n",
       "    <tr>\n",
       "      <th>2021</th>\n",
       "      <td>622451</td>\n",
       "      <td>622451</td>\n",
       "      <td>622451</td>\n",
       "      <td>622451</td>\n",
       "      <td>622451</td>\n",
       "      <td>622451</td>\n",
       "      <td>622451</td>\n",
       "      <td>622451</td>\n",
       "    </tr>\n",
       "  </tbody>\n",
       "</table>\n",
       "</div>"
      ],
      "text/plain": [
       "        DATA  GENERE     ETA  TITOLOSTUDIO  CONTRATTO  MODALITALAVORO  \\\n",
       "ANNO                                                                    \n",
       "1973       1       1       1             1          1               1   \n",
       "1974       1       1       1             1          1               1   \n",
       "1976       1       1       1             1          1               1   \n",
       "1978       2       2       2             2          2               2   \n",
       "1979       1       1       1             1          1               1   \n",
       "1980       1       1       1             1          1               1   \n",
       "1981       1       1       1             1          1               1   \n",
       "1982       1       1       1             1          1               1   \n",
       "1988       1       1       1             1          1               1   \n",
       "1996       1       1       1             1          1               1   \n",
       "1997       2       2       2             2          2               2   \n",
       "1999       1       1       1             1          1               1   \n",
       "2001      38      38      38            38         38              38   \n",
       "2003       2       2       2             2          2               2   \n",
       "2004       2       2       2             2          2               2   \n",
       "2005       1       1       1             1          1               1   \n",
       "2006       3       3       3             3          3               3   \n",
       "2007       6       6       6             6          6               6   \n",
       "2008    1590    1590    1590          1590       1590            1590   \n",
       "2009  397507  397507  397507        397507     397507          397507   \n",
       "2010  793129  793129  793129        793129     793129          793129   \n",
       "2011  858716  858716  858716        858716     858716          858716   \n",
       "2012  763733  763733  763733        763733     763733          763733   \n",
       "2013  673152  673152  673152        673152     673152          673152   \n",
       "2014  689300  689300  689300        689300     689300          689300   \n",
       "2015  757895  757895  757895        757895     757895          757895   \n",
       "2016  761881  761881  761881        761881     761881          761881   \n",
       "2017  847079  847079  847079        847079     847079          847079   \n",
       "2018  899082  899082  899082        899082     899082          899082   \n",
       "2019  874079  874079  874079        874079     874079          874079   \n",
       "2020  640133  640133  640133        640133     640133          640133   \n",
       "2021  622451  622451  622451        622451     622451          622451   \n",
       "\n",
       "      PROVINCIAIMPRESA  NAZIONALITA  \n",
       "ANNO                                 \n",
       "1973                 1            1  \n",
       "1974                 1            1  \n",
       "1976                 1            1  \n",
       "1978                 2            2  \n",
       "1979                 1            1  \n",
       "1980                 1            1  \n",
       "1981                 1            1  \n",
       "1982                 1            1  \n",
       "1988                 1            1  \n",
       "1996                 1            1  \n",
       "1997                 2            2  \n",
       "1999                 1            1  \n",
       "2001                38           38  \n",
       "2003                 2            2  \n",
       "2004                 2            2  \n",
       "2005                 1            1  \n",
       "2006                 3            3  \n",
       "2007                 6            6  \n",
       "2008              1590         1590  \n",
       "2009            397507       397507  \n",
       "2010            793129       793129  \n",
       "2011            858716       858716  \n",
       "2012            763733       763733  \n",
       "2013            673152       673152  \n",
       "2014            689300       689300  \n",
       "2015            757895       757895  \n",
       "2016            761881       761881  \n",
       "2017            847079       847079  \n",
       "2018            899082       899082  \n",
       "2019            874079       874079  \n",
       "2020            640133       640133  \n",
       "2021            622451       622451  "
      ]
     },
     "execution_count": 29,
     "metadata": {},
     "output_type": "execute_result"
    }
   ],
   "source": [
    "activated_cleaned.groupby('ANNO').count()"
   ]
  },
  {
   "cell_type": "markdown",
   "id": "c824dc0c",
   "metadata": {},
   "source": [
    "Keep only the records after 2008(excluded) in both dataframes. For the retributions dataframe this requisite is already satisfied."
   ]
  },
  {
   "cell_type": "code",
   "execution_count": 30,
   "id": "ae78aea0",
   "metadata": {},
   "outputs": [
    {
     "data": {
      "text/plain": [
       "array([2014, 2015, 2016, 2017, 2018, 2019, 2020, 2021])"
      ]
     },
     "execution_count": 30,
     "metadata": {},
     "output_type": "execute_result"
    }
   ],
   "source": [
    "activated_cleaned = activated_cleaned[activated_cleaned['ANNO'] >= 2014]\n",
    "activated_cleaned.ANNO.unique()"
   ]
  },
  {
   "cell_type": "markdown",
   "id": "4efa15c8",
   "metadata": {},
   "source": [
    "### Make the join"
   ]
  },
  {
   "cell_type": "code",
   "execution_count": 31,
   "id": "693f78a2",
   "metadata": {},
   "outputs": [
    {
     "data": {
      "text/plain": [
       "['GENERE', 'TITOLOSTUDIO', 'ANNO']"
      ]
     },
     "execution_count": 31,
     "metadata": {},
     "output_type": "execute_result"
    }
   ],
   "source": [
    "intersection = []\n",
    "for col in retributions4.columns:\n",
    "    if col in activated_cleaned.columns:\n",
    "        intersection.append(col)\n",
    "intersection"
   ]
  },
  {
   "cell_type": "markdown",
   "id": "8d5928b1",
   "metadata": {},
   "source": [
    "Checking..."
   ]
  },
  {
   "cell_type": "code",
   "execution_count": 32,
   "id": "a2d2a4c5",
   "metadata": {},
   "outputs": [
    {
     "data": {
      "text/plain": [
       "GENERE                     object\n",
       "TITOLOSTUDIO               object\n",
       "QUALIFICA CONTRATTUALE     object\n",
       "ATECO 2007                 object\n",
       "ANNO                        int64\n",
       "VALUE                     float64\n",
       "dtype: object"
      ]
     },
     "execution_count": 32,
     "metadata": {},
     "output_type": "execute_result"
    }
   ],
   "source": [
    "retributions4.dtypes"
   ]
  },
  {
   "cell_type": "code",
   "execution_count": 33,
   "id": "b53f4fe9",
   "metadata": {},
   "outputs": [
    {
     "data": {
      "text/plain": [
       "DATA                datetime64[ns]\n",
       "GENERE                      object\n",
       "ETA                          int64\n",
       "TITOLOSTUDIO                object\n",
       "CONTRATTO                   object\n",
       "MODALITALAVORO              object\n",
       "PROVINCIAIMPRESA            object\n",
       "NAZIONALITA                 object\n",
       "ANNO                         int64\n",
       "dtype: object"
      ]
     },
     "execution_count": 33,
     "metadata": {},
     "output_type": "execute_result"
    }
   ],
   "source": [
    "activated_cleaned.dtypes"
   ]
  },
  {
   "cell_type": "code",
   "execution_count": 34,
   "id": "7d2990e9",
   "metadata": {},
   "outputs": [
    {
     "name": "stdout",
     "output_type": "stream",
     "text": [
      "True True True\n"
     ]
    }
   ],
   "source": [
    "contained1 = True\n",
    "for value in retributions4['GENERE'].unique():\n",
    "    if value not in activated_cleaned['GENERE'].unique():\n",
    "        contained1 = False\n",
    "        print(value)\n",
    "        \n",
    "contained2 = True\n",
    "for value in retributions4['TITOLOSTUDIO'].unique():\n",
    "    if value not in activated_cleaned['TITOLOSTUDIO'].unique():\n",
    "        contained2 = False\n",
    "        print(value)\n",
    "        \n",
    "contained3 = True\n",
    "for value in retributions4['ANNO'].unique():\n",
    "    if value not in activated_cleaned['ANNO'].unique():\n",
    "        contained3 = False\n",
    "        print(value)\n",
    "        \n",
    "print(contained1, contained2, contained3)"
   ]
  },
  {
   "cell_type": "code",
   "execution_count": 39,
   "id": "297ae556",
   "metadata": {},
   "outputs": [
    {
     "data": {
      "text/plain": [
       "Index(['GENERE', 'TITOLOSTUDIO', 'QUALIFICA CONTRATTUALE', 'ATECO 2007',\n",
       "       'ANNO', 'VALUE'],\n",
       "      dtype='object')"
      ]
     },
     "execution_count": 39,
     "metadata": {},
     "output_type": "execute_result"
    }
   ],
   "source": [
    "retributions4.columns"
   ]
  },
  {
   "cell_type": "code",
   "execution_count": 70,
   "id": "fc71e146",
   "metadata": {},
   "outputs": [
    {
     "data": {
      "text/html": [
       "<div>\n",
       "<style scoped>\n",
       "    .dataframe tbody tr th:only-of-type {\n",
       "        vertical-align: middle;\n",
       "    }\n",
       "\n",
       "    .dataframe tbody tr th {\n",
       "        vertical-align: top;\n",
       "    }\n",
       "\n",
       "    .dataframe thead th {\n",
       "        text-align: right;\n",
       "    }\n",
       "</style>\n",
       "<table border=\"1\" class=\"dataframe\">\n",
       "  <thead>\n",
       "    <tr style=\"text-align: right;\">\n",
       "      <th></th>\n",
       "      <th></th>\n",
       "      <th></th>\n",
       "      <th>VALUE</th>\n",
       "    </tr>\n",
       "    <tr>\n",
       "      <th>GENERE</th>\n",
       "      <th>ANNO</th>\n",
       "      <th>TITOLOSTUDIO</th>\n",
       "      <th></th>\n",
       "    </tr>\n",
       "  </thead>\n",
       "  <tbody>\n",
       "    <tr>\n",
       "      <th rowspan=\"18\" valign=\"top\">F</th>\n",
       "      <th rowspan=\"3\" valign=\"top\">2014</th>\n",
       "      <th>DIPLOMA DI ISTRUZIONE SECONDARIA SUPERIORE, TERZIARIO EXTRA-UNIVERSITARIO, UNIVERSITARIO</th>\n",
       "      <td>10.788077</td>\n",
       "    </tr>\n",
       "    <tr>\n",
       "      <th>LAUREA E POST-LAUREA</th>\n",
       "      <td>11.904490</td>\n",
       "    </tr>\n",
       "    <tr>\n",
       "      <th>NESSUN TITOLO DI STUDIO, LICENZA DI SCUOLA ELEMENTARE E MEDIA</th>\n",
       "      <td>10.210000</td>\n",
       "    </tr>\n",
       "    <tr>\n",
       "      <th rowspan=\"3\" valign=\"top\">2015</th>\n",
       "      <th>DIPLOMA DI ISTRUZIONE SECONDARIA SUPERIORE, TERZIARIO EXTRA-UNIVERSITARIO, UNIVERSITARIO</th>\n",
       "      <td>10.894038</td>\n",
       "    </tr>\n",
       "    <tr>\n",
       "      <th>LAUREA E POST-LAUREA</th>\n",
       "      <td>12.116122</td>\n",
       "    </tr>\n",
       "    <tr>\n",
       "      <th>NESSUN TITOLO DI STUDIO, LICENZA DI SCUOLA ELEMENTARE E MEDIA</th>\n",
       "      <td>10.380204</td>\n",
       "    </tr>\n",
       "    <tr>\n",
       "      <th rowspan=\"3\" valign=\"top\">2016</th>\n",
       "      <th>DIPLOMA DI ISTRUZIONE SECONDARIA SUPERIORE, TERZIARIO EXTRA-UNIVERSITARIO, UNIVERSITARIO</th>\n",
       "      <td>10.895098</td>\n",
       "    </tr>\n",
       "    <tr>\n",
       "      <th>LAUREA E POST-LAUREA</th>\n",
       "      <td>12.088367</td>\n",
       "    </tr>\n",
       "    <tr>\n",
       "      <th>NESSUN TITOLO DI STUDIO, LICENZA DI SCUOLA ELEMENTARE E MEDIA</th>\n",
       "      <td>10.297143</td>\n",
       "    </tr>\n",
       "    <tr>\n",
       "      <th rowspan=\"3\" valign=\"top\">2017</th>\n",
       "      <th>DIPLOMA DI ISTRUZIONE SECONDARIA SUPERIORE, TERZIARIO EXTRA-UNIVERSITARIO, UNIVERSITARIO</th>\n",
       "      <td>10.907843</td>\n",
       "    </tr>\n",
       "    <tr>\n",
       "      <th>LAUREA E POST-LAUREA</th>\n",
       "      <td>12.212041</td>\n",
       "    </tr>\n",
       "    <tr>\n",
       "      <th>NESSUN TITOLO DI STUDIO, LICENZA DI SCUOLA ELEMENTARE E MEDIA</th>\n",
       "      <td>10.356939</td>\n",
       "    </tr>\n",
       "    <tr>\n",
       "      <th rowspan=\"3\" valign=\"top\">2018</th>\n",
       "      <th>DIPLOMA DI ISTRUZIONE SECONDARIA SUPERIORE, TERZIARIO EXTRA-UNIVERSITARIO, UNIVERSITARIO</th>\n",
       "      <td>10.992308</td>\n",
       "    </tr>\n",
       "    <tr>\n",
       "      <th>LAUREA E POST-LAUREA</th>\n",
       "      <td>12.264800</td>\n",
       "    </tr>\n",
       "    <tr>\n",
       "      <th>NESSUN TITOLO DI STUDIO, LICENZA DI SCUOLA ELEMENTARE E MEDIA</th>\n",
       "      <td>10.356800</td>\n",
       "    </tr>\n",
       "    <tr>\n",
       "      <th rowspan=\"3\" valign=\"top\">2019</th>\n",
       "      <th>DIPLOMA DI ISTRUZIONE SECONDARIA SUPERIORE, TERZIARIO EXTRA-UNIVERSITARIO, UNIVERSITARIO</th>\n",
       "      <td>11.135962</td>\n",
       "    </tr>\n",
       "    <tr>\n",
       "      <th>LAUREA E POST-LAUREA</th>\n",
       "      <td>12.371400</td>\n",
       "    </tr>\n",
       "    <tr>\n",
       "      <th>NESSUN TITOLO DI STUDIO, LICENZA DI SCUOLA ELEMENTARE E MEDIA</th>\n",
       "      <td>10.521400</td>\n",
       "    </tr>\n",
       "    <tr>\n",
       "      <th rowspan=\"18\" valign=\"top\">M</th>\n",
       "      <th rowspan=\"3\" valign=\"top\">2014</th>\n",
       "      <th>DIPLOMA DI ISTRUZIONE SECONDARIA SUPERIORE, TERZIARIO EXTRA-UNIVERSITARIO, UNIVERSITARIO</th>\n",
       "      <td>12.584717</td>\n",
       "    </tr>\n",
       "    <tr>\n",
       "      <th>LAUREA E POST-LAUREA</th>\n",
       "      <td>14.124423</td>\n",
       "    </tr>\n",
       "    <tr>\n",
       "      <th>NESSUN TITOLO DI STUDIO, LICENZA DI SCUOLA ELEMENTARE E MEDIA</th>\n",
       "      <td>12.070000</td>\n",
       "    </tr>\n",
       "    <tr>\n",
       "      <th rowspan=\"3\" valign=\"top\">2015</th>\n",
       "      <th>DIPLOMA DI ISTRUZIONE SECONDARIA SUPERIORE, TERZIARIO EXTRA-UNIVERSITARIO, UNIVERSITARIO</th>\n",
       "      <td>12.829057</td>\n",
       "    </tr>\n",
       "    <tr>\n",
       "      <th>LAUREA E POST-LAUREA</th>\n",
       "      <td>14.294706</td>\n",
       "    </tr>\n",
       "    <tr>\n",
       "      <th>NESSUN TITOLO DI STUDIO, LICENZA DI SCUOLA ELEMENTARE E MEDIA</th>\n",
       "      <td>12.050000</td>\n",
       "    </tr>\n",
       "    <tr>\n",
       "      <th rowspan=\"3\" valign=\"top\">2016</th>\n",
       "      <th>DIPLOMA DI ISTRUZIONE SECONDARIA SUPERIORE, TERZIARIO EXTRA-UNIVERSITARIO, UNIVERSITARIO</th>\n",
       "      <td>12.734717</td>\n",
       "    </tr>\n",
       "    <tr>\n",
       "      <th>LAUREA E POST-LAUREA</th>\n",
       "      <td>14.324286</td>\n",
       "    </tr>\n",
       "    <tr>\n",
       "      <th>NESSUN TITOLO DI STUDIO, LICENZA DI SCUOLA ELEMENTARE E MEDIA</th>\n",
       "      <td>11.925294</td>\n",
       "    </tr>\n",
       "    <tr>\n",
       "      <th rowspan=\"3\" valign=\"top\">2017</th>\n",
       "      <th>DIPLOMA DI ISTRUZIONE SECONDARIA SUPERIORE, TERZIARIO EXTRA-UNIVERSITARIO, UNIVERSITARIO</th>\n",
       "      <td>12.801321</td>\n",
       "    </tr>\n",
       "    <tr>\n",
       "      <th>LAUREA E POST-LAUREA</th>\n",
       "      <td>14.378431</td>\n",
       "    </tr>\n",
       "    <tr>\n",
       "      <th>NESSUN TITOLO DI STUDIO, LICENZA DI SCUOLA ELEMENTARE E MEDIA</th>\n",
       "      <td>12.052308</td>\n",
       "    </tr>\n",
       "    <tr>\n",
       "      <th rowspan=\"3\" valign=\"top\">2018</th>\n",
       "      <th>DIPLOMA DI ISTRUZIONE SECONDARIA SUPERIORE, TERZIARIO EXTRA-UNIVERSITARIO, UNIVERSITARIO</th>\n",
       "      <td>12.942264</td>\n",
       "    </tr>\n",
       "    <tr>\n",
       "      <th>LAUREA E POST-LAUREA</th>\n",
       "      <td>14.390000</td>\n",
       "    </tr>\n",
       "    <tr>\n",
       "      <th>NESSUN TITOLO DI STUDIO, LICENZA DI SCUOLA ELEMENTARE E MEDIA</th>\n",
       "      <td>12.100000</td>\n",
       "    </tr>\n",
       "    <tr>\n",
       "      <th rowspan=\"3\" valign=\"top\">2019</th>\n",
       "      <th>DIPLOMA DI ISTRUZIONE SECONDARIA SUPERIORE, TERZIARIO EXTRA-UNIVERSITARIO, UNIVERSITARIO</th>\n",
       "      <td>13.130926</td>\n",
       "    </tr>\n",
       "    <tr>\n",
       "      <th>LAUREA E POST-LAUREA</th>\n",
       "      <td>14.387692</td>\n",
       "    </tr>\n",
       "    <tr>\n",
       "      <th>NESSUN TITOLO DI STUDIO, LICENZA DI SCUOLA ELEMENTARE E MEDIA</th>\n",
       "      <td>12.227059</td>\n",
       "    </tr>\n",
       "  </tbody>\n",
       "</table>\n",
       "</div>"
      ],
      "text/plain": [
       "                                                                    VALUE\n",
       "GENERE ANNO TITOLOSTUDIO                                                 \n",
       "F      2014 DIPLOMA DI ISTRUZIONE SECONDARIA SUPERIORE, TER...  10.788077\n",
       "            LAUREA E POST-LAUREA                                11.904490\n",
       "            NESSUN TITOLO DI STUDIO, LICENZA DI SCUOLA ELEM...  10.210000\n",
       "       2015 DIPLOMA DI ISTRUZIONE SECONDARIA SUPERIORE, TER...  10.894038\n",
       "            LAUREA E POST-LAUREA                                12.116122\n",
       "            NESSUN TITOLO DI STUDIO, LICENZA DI SCUOLA ELEM...  10.380204\n",
       "       2016 DIPLOMA DI ISTRUZIONE SECONDARIA SUPERIORE, TER...  10.895098\n",
       "            LAUREA E POST-LAUREA                                12.088367\n",
       "            NESSUN TITOLO DI STUDIO, LICENZA DI SCUOLA ELEM...  10.297143\n",
       "       2017 DIPLOMA DI ISTRUZIONE SECONDARIA SUPERIORE, TER...  10.907843\n",
       "            LAUREA E POST-LAUREA                                12.212041\n",
       "            NESSUN TITOLO DI STUDIO, LICENZA DI SCUOLA ELEM...  10.356939\n",
       "       2018 DIPLOMA DI ISTRUZIONE SECONDARIA SUPERIORE, TER...  10.992308\n",
       "            LAUREA E POST-LAUREA                                12.264800\n",
       "            NESSUN TITOLO DI STUDIO, LICENZA DI SCUOLA ELEM...  10.356800\n",
       "       2019 DIPLOMA DI ISTRUZIONE SECONDARIA SUPERIORE, TER...  11.135962\n",
       "            LAUREA E POST-LAUREA                                12.371400\n",
       "            NESSUN TITOLO DI STUDIO, LICENZA DI SCUOLA ELEM...  10.521400\n",
       "M      2014 DIPLOMA DI ISTRUZIONE SECONDARIA SUPERIORE, TER...  12.584717\n",
       "            LAUREA E POST-LAUREA                                14.124423\n",
       "            NESSUN TITOLO DI STUDIO, LICENZA DI SCUOLA ELEM...  12.070000\n",
       "       2015 DIPLOMA DI ISTRUZIONE SECONDARIA SUPERIORE, TER...  12.829057\n",
       "            LAUREA E POST-LAUREA                                14.294706\n",
       "            NESSUN TITOLO DI STUDIO, LICENZA DI SCUOLA ELEM...  12.050000\n",
       "       2016 DIPLOMA DI ISTRUZIONE SECONDARIA SUPERIORE, TER...  12.734717\n",
       "            LAUREA E POST-LAUREA                                14.324286\n",
       "            NESSUN TITOLO DI STUDIO, LICENZA DI SCUOLA ELEM...  11.925294\n",
       "       2017 DIPLOMA DI ISTRUZIONE SECONDARIA SUPERIORE, TER...  12.801321\n",
       "            LAUREA E POST-LAUREA                                14.378431\n",
       "            NESSUN TITOLO DI STUDIO, LICENZA DI SCUOLA ELEM...  12.052308\n",
       "       2018 DIPLOMA DI ISTRUZIONE SECONDARIA SUPERIORE, TER...  12.942264\n",
       "            LAUREA E POST-LAUREA                                14.390000\n",
       "            NESSUN TITOLO DI STUDIO, LICENZA DI SCUOLA ELEM...  12.100000\n",
       "       2019 DIPLOMA DI ISTRUZIONE SECONDARIA SUPERIORE, TER...  13.130926\n",
       "            LAUREA E POST-LAUREA                                14.387692\n",
       "            NESSUN TITOLO DI STUDIO, LICENZA DI SCUOLA ELEM...  12.227059"
      ]
     },
     "execution_count": 70,
     "metadata": {},
     "output_type": "execute_result"
    }
   ],
   "source": [
    "retr = retributions4[['GENERE', 'ANNO', 'TITOLOSTUDIO', 'VALUE']].groupby(['GENERE', 'ANNO', 'TITOLOSTUDIO']).mean()\n",
    "retr"
   ]
  },
  {
   "cell_type": "code",
   "execution_count": 92,
   "id": "936c6afb",
   "metadata": {},
   "outputs": [
    {
     "data": {
      "text/plain": [
       "12.116122448979594"
      ]
     },
     "execution_count": 92,
     "metadata": {},
     "output_type": "execute_result"
    }
   ],
   "source": [
    "retr1 = retr.T\n",
    "retr1['F', 2015, 'LAUREA E POST-LAUREA'][0]"
   ]
  },
  {
   "cell_type": "code",
   "execution_count": 108,
   "id": "fc1a423f",
   "metadata": {},
   "outputs": [
    {
     "data": {
      "text/plain": [
       "12.584716981132075"
      ]
     },
     "execution_count": 108,
     "metadata": {},
     "output_type": "execute_result"
    }
   ],
   "source": [
    "def get_retribution(x):\n",
    "    value = 0\n",
    "    #print(x['TITOLOSTUDIO'])\n",
    "    try:\n",
    "        value = retr1[x['GENERE'], x['ANNO'], x['TITOLOSTUDIO']][0]\n",
    "    except KeyError:\n",
    "        value = np.nan\n",
    "    return value\n",
    "\n",
    "get_retribution(activated_cleaned.iloc[2850])"
   ]
  },
  {
   "cell_type": "code",
   "execution_count": 110,
   "id": "ba8878ad",
   "metadata": {},
   "outputs": [
    {
     "data": {
      "text/plain": [
       "array([nan])"
      ]
     },
     "execution_count": 110,
     "metadata": {},
     "output_type": "execute_result"
    }
   ],
   "source": [
    "activated_cleaned['RETRIBUZIONE'] = activated_cleaned.apply(get_retribution)\n",
    "activated_cleaned.RETRIBUZIONE.unique()"
   ]
  },
  {
   "cell_type": "code",
   "execution_count": 37,
   "id": "12643e75",
   "metadata": {},
   "outputs": [
    {
     "ename": "",
     "evalue": "",
     "output_type": "error",
     "traceback": [
      "\u001b[1;31mCanceled future for execute_request message before replies were done"
     ]
    },
    {
     "ename": "",
     "evalue": "",
     "output_type": "error",
     "traceback": [
      "\u001b[1;31mThe Kernel crashed while executing code in the the current cell or a previous cell. Please review the code in the cell(s) to identify a possible cause of the failure. Click <a href='https://aka.ms/vscodeJupyterKernelCrash'>here</a> for more info. View Jupyter <a href='command:jupyter.viewOutput'>log</a> for further details."
     ]
    }
   ],
   "source": [
    "full_dataset = pd.merge(activated_cleaned, retributions4[['ANNO', 'VALUE']], on='ANNO', how='left')\n",
    "full_dataset.columns"
   ]
  },
  {
   "cell_type": "code",
   "execution_count": 34,
   "id": "6a0e95ef",
   "metadata": {},
   "outputs": [
    {
     "ename": "MemoryError",
     "evalue": "Unable to allocate 37.0 GiB for an array with shape (4963993864,) and data type int64",
     "output_type": "error",
     "traceback": [
      "\u001b[0;31m---------------------------------------------------------------------------\u001b[0m",
      "\u001b[0;31mMemoryError\u001b[0m                               Traceback (most recent call last)",
      "\u001b[1;32m/home/ale/Documenti/Università/DataScienceForBusinessNotebooks/LaboratoryProject/join_with_retributions.ipynb Cell 51'\u001b[0m in \u001b[0;36m<cell line: 1>\u001b[0;34m()\u001b[0m\n\u001b[0;32m----> <a href='vscode-notebook-cell:/home/ale/Documenti/Universit%C3%A0/DataScienceForBusinessNotebooks/LaboratoryProject/join_with_retributions.ipynb#ch0000051?line=0'>1</a>\u001b[0m full_dataset \u001b[39m=\u001b[39m utils\u001b[39m.\u001b[39;49mmerge_dataframes(activated_cleaned, retributions4, on\u001b[39m=\u001b[39;49m\u001b[39m'\u001b[39;49m\u001b[39mGENERE\u001b[39;49m\u001b[39m'\u001b[39;49m) \u001b[39m#, how='left')\u001b[39;00m\n\u001b[1;32m      <a href='vscode-notebook-cell:/home/ale/Documenti/Universit%C3%A0/DataScienceForBusinessNotebooks/LaboratoryProject/join_with_retributions.ipynb#ch0000051?line=1'>2</a>\u001b[0m full_dataset\u001b[39m.\u001b[39mcolumns\n",
      "File \u001b[0;32m~/Documenti/Università/DataScienceForBusinessNotebooks/LaboratoryProject/utils.py:93\u001b[0m, in \u001b[0;36mmerge_dataframes\u001b[0;34m(left, right, on)\u001b[0m\n\u001b[1;32m     <a href='file:///home/ale/Documenti/Universit%C3%A0/DataScienceForBusinessNotebooks/LaboratoryProject/utils.py?line=91'>92</a>\u001b[0m \u001b[39mdef\u001b[39;00m \u001b[39mmerge_dataframes\u001b[39m(left, right, on):\n\u001b[0;32m---> <a href='file:///home/ale/Documenti/Universit%C3%A0/DataScienceForBusinessNotebooks/LaboratoryProject/utils.py?line=92'>93</a>\u001b[0m     \u001b[39mreturn\u001b[39;00m left\u001b[39m.\u001b[39;49mmerge(right, on\u001b[39m=\u001b[39;49mon)\n",
      "File \u001b[0;32m~/anaconda3/envs/datasciencefb/lib/python3.8/site-packages/pandas/core/frame.py:9339\u001b[0m, in \u001b[0;36mDataFrame.merge\u001b[0;34m(self, right, how, on, left_on, right_on, left_index, right_index, sort, suffixes, copy, indicator, validate)\u001b[0m\n\u001b[1;32m   <a href='file:///home/ale/anaconda3/envs/datasciencefb/lib/python3.8/site-packages/pandas/core/frame.py?line=9319'>9320</a>\u001b[0m \u001b[39m@Substitution\u001b[39m(\u001b[39m\"\u001b[39m\u001b[39m\"\u001b[39m)\n\u001b[1;32m   <a href='file:///home/ale/anaconda3/envs/datasciencefb/lib/python3.8/site-packages/pandas/core/frame.py?line=9320'>9321</a>\u001b[0m \u001b[39m@Appender\u001b[39m(_merge_doc, indents\u001b[39m=\u001b[39m\u001b[39m2\u001b[39m)\n\u001b[1;32m   <a href='file:///home/ale/anaconda3/envs/datasciencefb/lib/python3.8/site-packages/pandas/core/frame.py?line=9321'>9322</a>\u001b[0m \u001b[39mdef\u001b[39;00m \u001b[39mmerge\u001b[39m(\n\u001b[0;32m   (...)\u001b[0m\n\u001b[1;32m   <a href='file:///home/ale/anaconda3/envs/datasciencefb/lib/python3.8/site-packages/pandas/core/frame.py?line=9334'>9335</a>\u001b[0m     validate: \u001b[39mstr\u001b[39m \u001b[39m|\u001b[39m \u001b[39mNone\u001b[39;00m \u001b[39m=\u001b[39m \u001b[39mNone\u001b[39;00m,\n\u001b[1;32m   <a href='file:///home/ale/anaconda3/envs/datasciencefb/lib/python3.8/site-packages/pandas/core/frame.py?line=9335'>9336</a>\u001b[0m ) \u001b[39m-\u001b[39m\u001b[39m>\u001b[39m DataFrame:\n\u001b[1;32m   <a href='file:///home/ale/anaconda3/envs/datasciencefb/lib/python3.8/site-packages/pandas/core/frame.py?line=9336'>9337</a>\u001b[0m     \u001b[39mfrom\u001b[39;00m \u001b[39mpandas\u001b[39;00m\u001b[39m.\u001b[39;00m\u001b[39mcore\u001b[39;00m\u001b[39m.\u001b[39;00m\u001b[39mreshape\u001b[39;00m\u001b[39m.\u001b[39;00m\u001b[39mmerge\u001b[39;00m \u001b[39mimport\u001b[39;00m merge\n\u001b[0;32m-> <a href='file:///home/ale/anaconda3/envs/datasciencefb/lib/python3.8/site-packages/pandas/core/frame.py?line=9338'>9339</a>\u001b[0m     \u001b[39mreturn\u001b[39;00m merge(\n\u001b[1;32m   <a href='file:///home/ale/anaconda3/envs/datasciencefb/lib/python3.8/site-packages/pandas/core/frame.py?line=9339'>9340</a>\u001b[0m         \u001b[39mself\u001b[39;49m,\n\u001b[1;32m   <a href='file:///home/ale/anaconda3/envs/datasciencefb/lib/python3.8/site-packages/pandas/core/frame.py?line=9340'>9341</a>\u001b[0m         right,\n\u001b[1;32m   <a href='file:///home/ale/anaconda3/envs/datasciencefb/lib/python3.8/site-packages/pandas/core/frame.py?line=9341'>9342</a>\u001b[0m         how\u001b[39m=\u001b[39;49mhow,\n\u001b[1;32m   <a href='file:///home/ale/anaconda3/envs/datasciencefb/lib/python3.8/site-packages/pandas/core/frame.py?line=9342'>9343</a>\u001b[0m         on\u001b[39m=\u001b[39;49mon,\n\u001b[1;32m   <a href='file:///home/ale/anaconda3/envs/datasciencefb/lib/python3.8/site-packages/pandas/core/frame.py?line=9343'>9344</a>\u001b[0m         left_on\u001b[39m=\u001b[39;49mleft_on,\n\u001b[1;32m   <a href='file:///home/ale/anaconda3/envs/datasciencefb/lib/python3.8/site-packages/pandas/core/frame.py?line=9344'>9345</a>\u001b[0m         right_on\u001b[39m=\u001b[39;49mright_on,\n\u001b[1;32m   <a href='file:///home/ale/anaconda3/envs/datasciencefb/lib/python3.8/site-packages/pandas/core/frame.py?line=9345'>9346</a>\u001b[0m         left_index\u001b[39m=\u001b[39;49mleft_index,\n\u001b[1;32m   <a href='file:///home/ale/anaconda3/envs/datasciencefb/lib/python3.8/site-packages/pandas/core/frame.py?line=9346'>9347</a>\u001b[0m         right_index\u001b[39m=\u001b[39;49mright_index,\n\u001b[1;32m   <a href='file:///home/ale/anaconda3/envs/datasciencefb/lib/python3.8/site-packages/pandas/core/frame.py?line=9347'>9348</a>\u001b[0m         sort\u001b[39m=\u001b[39;49msort,\n\u001b[1;32m   <a href='file:///home/ale/anaconda3/envs/datasciencefb/lib/python3.8/site-packages/pandas/core/frame.py?line=9348'>9349</a>\u001b[0m         suffixes\u001b[39m=\u001b[39;49msuffixes,\n\u001b[1;32m   <a href='file:///home/ale/anaconda3/envs/datasciencefb/lib/python3.8/site-packages/pandas/core/frame.py?line=9349'>9350</a>\u001b[0m         copy\u001b[39m=\u001b[39;49mcopy,\n\u001b[1;32m   <a href='file:///home/ale/anaconda3/envs/datasciencefb/lib/python3.8/site-packages/pandas/core/frame.py?line=9350'>9351</a>\u001b[0m         indicator\u001b[39m=\u001b[39;49mindicator,\n\u001b[1;32m   <a href='file:///home/ale/anaconda3/envs/datasciencefb/lib/python3.8/site-packages/pandas/core/frame.py?line=9351'>9352</a>\u001b[0m         validate\u001b[39m=\u001b[39;49mvalidate,\n\u001b[1;32m   <a href='file:///home/ale/anaconda3/envs/datasciencefb/lib/python3.8/site-packages/pandas/core/frame.py?line=9352'>9353</a>\u001b[0m     )\n",
      "File \u001b[0;32m~/anaconda3/envs/datasciencefb/lib/python3.8/site-packages/pandas/core/reshape/merge.py:122\u001b[0m, in \u001b[0;36mmerge\u001b[0;34m(left, right, how, on, left_on, right_on, left_index, right_index, sort, suffixes, copy, indicator, validate)\u001b[0m\n\u001b[1;32m     <a href='file:///home/ale/anaconda3/envs/datasciencefb/lib/python3.8/site-packages/pandas/core/reshape/merge.py?line=89'>90</a>\u001b[0m \u001b[39m@Substitution\u001b[39m(\u001b[39m\"\u001b[39m\u001b[39m\\n\u001b[39;00m\u001b[39mleft : DataFrame or named Series\u001b[39m\u001b[39m\"\u001b[39m)\n\u001b[1;32m     <a href='file:///home/ale/anaconda3/envs/datasciencefb/lib/python3.8/site-packages/pandas/core/reshape/merge.py?line=90'>91</a>\u001b[0m \u001b[39m@Appender\u001b[39m(_merge_doc, indents\u001b[39m=\u001b[39m\u001b[39m0\u001b[39m)\n\u001b[1;32m     <a href='file:///home/ale/anaconda3/envs/datasciencefb/lib/python3.8/site-packages/pandas/core/reshape/merge.py?line=91'>92</a>\u001b[0m \u001b[39mdef\u001b[39;00m \u001b[39mmerge\u001b[39m(\n\u001b[0;32m   (...)\u001b[0m\n\u001b[1;32m    <a href='file:///home/ale/anaconda3/envs/datasciencefb/lib/python3.8/site-packages/pandas/core/reshape/merge.py?line=104'>105</a>\u001b[0m     validate: \u001b[39mstr\u001b[39m \u001b[39m|\u001b[39m \u001b[39mNone\u001b[39;00m \u001b[39m=\u001b[39m \u001b[39mNone\u001b[39;00m,\n\u001b[1;32m    <a href='file:///home/ale/anaconda3/envs/datasciencefb/lib/python3.8/site-packages/pandas/core/reshape/merge.py?line=105'>106</a>\u001b[0m ) \u001b[39m-\u001b[39m\u001b[39m>\u001b[39m DataFrame:\n\u001b[1;32m    <a href='file:///home/ale/anaconda3/envs/datasciencefb/lib/python3.8/site-packages/pandas/core/reshape/merge.py?line=106'>107</a>\u001b[0m     op \u001b[39m=\u001b[39m _MergeOperation(\n\u001b[1;32m    <a href='file:///home/ale/anaconda3/envs/datasciencefb/lib/python3.8/site-packages/pandas/core/reshape/merge.py?line=107'>108</a>\u001b[0m         left,\n\u001b[1;32m    <a href='file:///home/ale/anaconda3/envs/datasciencefb/lib/python3.8/site-packages/pandas/core/reshape/merge.py?line=108'>109</a>\u001b[0m         right,\n\u001b[0;32m   (...)\u001b[0m\n\u001b[1;32m    <a href='file:///home/ale/anaconda3/envs/datasciencefb/lib/python3.8/site-packages/pandas/core/reshape/merge.py?line=119'>120</a>\u001b[0m         validate\u001b[39m=\u001b[39mvalidate,\n\u001b[1;32m    <a href='file:///home/ale/anaconda3/envs/datasciencefb/lib/python3.8/site-packages/pandas/core/reshape/merge.py?line=120'>121</a>\u001b[0m     )\n\u001b[0;32m--> <a href='file:///home/ale/anaconda3/envs/datasciencefb/lib/python3.8/site-packages/pandas/core/reshape/merge.py?line=121'>122</a>\u001b[0m     \u001b[39mreturn\u001b[39;00m op\u001b[39m.\u001b[39;49mget_result()\n",
      "File \u001b[0;32m~/anaconda3/envs/datasciencefb/lib/python3.8/site-packages/pandas/core/reshape/merge.py:716\u001b[0m, in \u001b[0;36m_MergeOperation.get_result\u001b[0;34m(self)\u001b[0m\n\u001b[1;32m    <a href='file:///home/ale/anaconda3/envs/datasciencefb/lib/python3.8/site-packages/pandas/core/reshape/merge.py?line=712'>713</a>\u001b[0m \u001b[39mif\u001b[39;00m \u001b[39mself\u001b[39m\u001b[39m.\u001b[39mindicator:\n\u001b[1;32m    <a href='file:///home/ale/anaconda3/envs/datasciencefb/lib/python3.8/site-packages/pandas/core/reshape/merge.py?line=713'>714</a>\u001b[0m     \u001b[39mself\u001b[39m\u001b[39m.\u001b[39mleft, \u001b[39mself\u001b[39m\u001b[39m.\u001b[39mright \u001b[39m=\u001b[39m \u001b[39mself\u001b[39m\u001b[39m.\u001b[39m_indicator_pre_merge(\u001b[39mself\u001b[39m\u001b[39m.\u001b[39mleft, \u001b[39mself\u001b[39m\u001b[39m.\u001b[39mright)\n\u001b[0;32m--> <a href='file:///home/ale/anaconda3/envs/datasciencefb/lib/python3.8/site-packages/pandas/core/reshape/merge.py?line=715'>716</a>\u001b[0m join_index, left_indexer, right_indexer \u001b[39m=\u001b[39m \u001b[39mself\u001b[39;49m\u001b[39m.\u001b[39;49m_get_join_info()\n\u001b[1;32m    <a href='file:///home/ale/anaconda3/envs/datasciencefb/lib/python3.8/site-packages/pandas/core/reshape/merge.py?line=717'>718</a>\u001b[0m llabels, rlabels \u001b[39m=\u001b[39m _items_overlap_with_suffix(\n\u001b[1;32m    <a href='file:///home/ale/anaconda3/envs/datasciencefb/lib/python3.8/site-packages/pandas/core/reshape/merge.py?line=718'>719</a>\u001b[0m     \u001b[39mself\u001b[39m\u001b[39m.\u001b[39mleft\u001b[39m.\u001b[39m_info_axis, \u001b[39mself\u001b[39m\u001b[39m.\u001b[39mright\u001b[39m.\u001b[39m_info_axis, \u001b[39mself\u001b[39m\u001b[39m.\u001b[39msuffixes\n\u001b[1;32m    <a href='file:///home/ale/anaconda3/envs/datasciencefb/lib/python3.8/site-packages/pandas/core/reshape/merge.py?line=719'>720</a>\u001b[0m )\n\u001b[1;32m    <a href='file:///home/ale/anaconda3/envs/datasciencefb/lib/python3.8/site-packages/pandas/core/reshape/merge.py?line=721'>722</a>\u001b[0m lindexers \u001b[39m=\u001b[39m {\u001b[39m1\u001b[39m: left_indexer} \u001b[39mif\u001b[39;00m left_indexer \u001b[39mis\u001b[39;00m \u001b[39mnot\u001b[39;00m \u001b[39mNone\u001b[39;00m \u001b[39melse\u001b[39;00m {}\n",
      "File \u001b[0;32m~/anaconda3/envs/datasciencefb/lib/python3.8/site-packages/pandas/core/reshape/merge.py:967\u001b[0m, in \u001b[0;36m_MergeOperation._get_join_info\u001b[0;34m(self)\u001b[0m\n\u001b[1;32m    <a href='file:///home/ale/anaconda3/envs/datasciencefb/lib/python3.8/site-packages/pandas/core/reshape/merge.py?line=962'>963</a>\u001b[0m     join_index, right_indexer, left_indexer \u001b[39m=\u001b[39m _left_join_on_index(\n\u001b[1;32m    <a href='file:///home/ale/anaconda3/envs/datasciencefb/lib/python3.8/site-packages/pandas/core/reshape/merge.py?line=963'>964</a>\u001b[0m         right_ax, left_ax, \u001b[39mself\u001b[39m\u001b[39m.\u001b[39mright_join_keys, sort\u001b[39m=\u001b[39m\u001b[39mself\u001b[39m\u001b[39m.\u001b[39msort\n\u001b[1;32m    <a href='file:///home/ale/anaconda3/envs/datasciencefb/lib/python3.8/site-packages/pandas/core/reshape/merge.py?line=964'>965</a>\u001b[0m     )\n\u001b[1;32m    <a href='file:///home/ale/anaconda3/envs/datasciencefb/lib/python3.8/site-packages/pandas/core/reshape/merge.py?line=965'>966</a>\u001b[0m \u001b[39melse\u001b[39;00m:\n\u001b[0;32m--> <a href='file:///home/ale/anaconda3/envs/datasciencefb/lib/python3.8/site-packages/pandas/core/reshape/merge.py?line=966'>967</a>\u001b[0m     (left_indexer, right_indexer) \u001b[39m=\u001b[39m \u001b[39mself\u001b[39;49m\u001b[39m.\u001b[39;49m_get_join_indexers()\n\u001b[1;32m    <a href='file:///home/ale/anaconda3/envs/datasciencefb/lib/python3.8/site-packages/pandas/core/reshape/merge.py?line=968'>969</a>\u001b[0m     \u001b[39mif\u001b[39;00m \u001b[39mself\u001b[39m\u001b[39m.\u001b[39mright_index:\n\u001b[1;32m    <a href='file:///home/ale/anaconda3/envs/datasciencefb/lib/python3.8/site-packages/pandas/core/reshape/merge.py?line=969'>970</a>\u001b[0m         \u001b[39mif\u001b[39;00m \u001b[39mlen\u001b[39m(\u001b[39mself\u001b[39m\u001b[39m.\u001b[39mleft) \u001b[39m>\u001b[39m \u001b[39m0\u001b[39m:\n",
      "File \u001b[0;32m~/anaconda3/envs/datasciencefb/lib/python3.8/site-packages/pandas/core/reshape/merge.py:941\u001b[0m, in \u001b[0;36m_MergeOperation._get_join_indexers\u001b[0;34m(self)\u001b[0m\n\u001b[1;32m    <a href='file:///home/ale/anaconda3/envs/datasciencefb/lib/python3.8/site-packages/pandas/core/reshape/merge.py?line=938'>939</a>\u001b[0m \u001b[39mdef\u001b[39;00m \u001b[39m_get_join_indexers\u001b[39m(\u001b[39mself\u001b[39m) \u001b[39m-\u001b[39m\u001b[39m>\u001b[39m \u001b[39mtuple\u001b[39m[npt\u001b[39m.\u001b[39mNDArray[np\u001b[39m.\u001b[39mintp], npt\u001b[39m.\u001b[39mNDArray[np\u001b[39m.\u001b[39mintp]]:\n\u001b[1;32m    <a href='file:///home/ale/anaconda3/envs/datasciencefb/lib/python3.8/site-packages/pandas/core/reshape/merge.py?line=939'>940</a>\u001b[0m     \u001b[39m\"\"\"return the join indexers\"\"\"\u001b[39;00m\n\u001b[0;32m--> <a href='file:///home/ale/anaconda3/envs/datasciencefb/lib/python3.8/site-packages/pandas/core/reshape/merge.py?line=940'>941</a>\u001b[0m     \u001b[39mreturn\u001b[39;00m get_join_indexers(\n\u001b[1;32m    <a href='file:///home/ale/anaconda3/envs/datasciencefb/lib/python3.8/site-packages/pandas/core/reshape/merge.py?line=941'>942</a>\u001b[0m         \u001b[39mself\u001b[39;49m\u001b[39m.\u001b[39;49mleft_join_keys, \u001b[39mself\u001b[39;49m\u001b[39m.\u001b[39;49mright_join_keys, sort\u001b[39m=\u001b[39;49m\u001b[39mself\u001b[39;49m\u001b[39m.\u001b[39;49msort, how\u001b[39m=\u001b[39;49m\u001b[39mself\u001b[39;49m\u001b[39m.\u001b[39;49mhow\n\u001b[1;32m    <a href='file:///home/ale/anaconda3/envs/datasciencefb/lib/python3.8/site-packages/pandas/core/reshape/merge.py?line=942'>943</a>\u001b[0m     )\n",
      "File \u001b[0;32m~/anaconda3/envs/datasciencefb/lib/python3.8/site-packages/pandas/core/reshape/merge.py:1509\u001b[0m, in \u001b[0;36mget_join_indexers\u001b[0;34m(left_keys, right_keys, sort, how, **kwargs)\u001b[0m\n\u001b[1;32m   <a href='file:///home/ale/anaconda3/envs/datasciencefb/lib/python3.8/site-packages/pandas/core/reshape/merge.py?line=1498'>1499</a>\u001b[0m join_func \u001b[39m=\u001b[39m {\n\u001b[1;32m   <a href='file:///home/ale/anaconda3/envs/datasciencefb/lib/python3.8/site-packages/pandas/core/reshape/merge.py?line=1499'>1500</a>\u001b[0m     \u001b[39m\"\u001b[39m\u001b[39minner\u001b[39m\u001b[39m\"\u001b[39m: libjoin\u001b[39m.\u001b[39minner_join,\n\u001b[1;32m   <a href='file:///home/ale/anaconda3/envs/datasciencefb/lib/python3.8/site-packages/pandas/core/reshape/merge.py?line=1500'>1501</a>\u001b[0m     \u001b[39m\"\u001b[39m\u001b[39mleft\u001b[39m\u001b[39m\"\u001b[39m: libjoin\u001b[39m.\u001b[39mleft_outer_join,\n\u001b[0;32m   (...)\u001b[0m\n\u001b[1;32m   <a href='file:///home/ale/anaconda3/envs/datasciencefb/lib/python3.8/site-packages/pandas/core/reshape/merge.py?line=1504'>1505</a>\u001b[0m     \u001b[39m\"\u001b[39m\u001b[39mouter\u001b[39m\u001b[39m\"\u001b[39m: libjoin\u001b[39m.\u001b[39mfull_outer_join,\n\u001b[1;32m   <a href='file:///home/ale/anaconda3/envs/datasciencefb/lib/python3.8/site-packages/pandas/core/reshape/merge.py?line=1505'>1506</a>\u001b[0m }[how]\n\u001b[1;32m   <a href='file:///home/ale/anaconda3/envs/datasciencefb/lib/python3.8/site-packages/pandas/core/reshape/merge.py?line=1507'>1508</a>\u001b[0m \u001b[39m# error: Cannot call function of unknown type\u001b[39;00m\n\u001b[0;32m-> <a href='file:///home/ale/anaconda3/envs/datasciencefb/lib/python3.8/site-packages/pandas/core/reshape/merge.py?line=1508'>1509</a>\u001b[0m \u001b[39mreturn\u001b[39;00m join_func(lkey, rkey, count, \u001b[39m*\u001b[39;49m\u001b[39m*\u001b[39;49mkwargs)\n",
      "File \u001b[0;32m~/anaconda3/envs/datasciencefb/lib/python3.8/site-packages/pandas/_libs/join.pyx:48\u001b[0m, in \u001b[0;36mpandas._libs.join.inner_join\u001b[0;34m()\u001b[0m\n",
      "\u001b[0;31mMemoryError\u001b[0m: Unable to allocate 37.0 GiB for an array with shape (4963993864,) and data type int64"
     ]
    }
   ],
   "source": [
    "full_dataset = utils.merge_dataframes(activated_cleaned, retributions4, on='GENERE') #, how='left')\n",
    "full_dataset.columns"
   ]
  },
  {
   "cell_type": "code",
   "execution_count": null,
   "id": "5bbf1c8a",
   "metadata": {},
   "outputs": [],
   "source": [
    "full_dataset = pd.merge(activated_cleaned, retributions4, on='ANNO', how='outer')\n",
    "full_dataset.columns"
   ]
  }
 ],
 "metadata": {
  "interpreter": {
   "hash": "82bcf3661f098bbc57255d1f768e4b535749c5fa9f3f4a5a1bd4ecfddee23447"
  },
  "kernelspec": {
   "display_name": "Python 3.8.12 ('datasciencefb')",
   "language": "python",
   "name": "python3"
  },
  "language_info": {
   "codemirror_mode": {
    "name": "ipython",
    "version": 3
   },
   "file_extension": ".py",
   "mimetype": "text/x-python",
   "name": "python",
   "nbconvert_exporter": "python",
   "pygments_lexer": "ipython3",
   "version": "3.8.12"
  }
 },
 "nbformat": 4,
 "nbformat_minor": 5
}
