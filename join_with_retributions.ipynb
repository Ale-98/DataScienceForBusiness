{
 "cells": [
  {
   "cell_type": "markdown",
   "id": "483cb98c",
   "metadata": {},
   "source": [
    "# Retribuzioni"
   ]
  },
  {
   "cell_type": "code",
   "execution_count": 43,
   "id": "0e55a251",
   "metadata": {},
   "outputs": [],
   "source": [
    "import pandas as pd\n",
    "import matplotlib.pyplot as plt\n",
    "import utils\n",
    "import numpy as np"
   ]
  },
  {
   "cell_type": "code",
   "execution_count": 44,
   "id": "1f832129",
   "metadata": {},
   "outputs": [
    {
     "data": {
      "text/html": [
       "<div>\n",
       "<style scoped>\n",
       "    .dataframe tbody tr th:only-of-type {\n",
       "        vertical-align: middle;\n",
       "    }\n",
       "\n",
       "    .dataframe tbody tr th {\n",
       "        vertical-align: top;\n",
       "    }\n",
       "\n",
       "    .dataframe thead th {\n",
       "        text-align: right;\n",
       "    }\n",
       "</style>\n",
       "<table border=\"1\" class=\"dataframe\">\n",
       "  <thead>\n",
       "    <tr style=\"text-align: right;\">\n",
       "      <th></th>\n",
       "      <th>ITTER107</th>\n",
       "      <th>Territorio</th>\n",
       "      <th>TIPO_DATO7</th>\n",
       "      <th>Tipo dato</th>\n",
       "      <th>SEXISTAT1</th>\n",
       "      <th>Sesso</th>\n",
       "      <th>TITOLO_STUDIO</th>\n",
       "      <th>Titolo di studio</th>\n",
       "      <th>PROFILO_PROF</th>\n",
       "      <th>Qualifica contrattuale</th>\n",
       "      <th>ATECO_2007</th>\n",
       "      <th>Ateco 2007</th>\n",
       "      <th>CLLVT</th>\n",
       "      <th>Classe di dipendenti</th>\n",
       "      <th>TIME</th>\n",
       "      <th>Seleziona periodo</th>\n",
       "      <th>Value</th>\n",
       "      <th>Flag Codes</th>\n",
       "      <th>Flags</th>\n",
       "    </tr>\n",
       "  </thead>\n",
       "  <tbody>\n",
       "    <tr>\n",
       "      <th>0</th>\n",
       "      <td>ITC</td>\n",
       "      <td>Nord-ovest</td>\n",
       "      <td>HOUWAG_ENTEMP_MED_MI</td>\n",
       "      <td>Retribuzione lorda  oraria per ora retribuita ...</td>\n",
       "      <td>1</td>\n",
       "      <td>maschi</td>\n",
       "      <td>11</td>\n",
       "      <td>laurea e post-laurea</td>\n",
       "      <td>6</td>\n",
       "      <td>operaio</td>\n",
       "      <td>B</td>\n",
       "      <td>estrazione di minerali da cave e miniere</td>\n",
       "      <td>TOTAL</td>\n",
       "      <td>totale</td>\n",
       "      <td>2014</td>\n",
       "      <td>2014</td>\n",
       "      <td>13.10</td>\n",
       "      <td>NaN</td>\n",
       "      <td>NaN</td>\n",
       "    </tr>\n",
       "    <tr>\n",
       "      <th>1</th>\n",
       "      <td>ITC</td>\n",
       "      <td>Nord-ovest</td>\n",
       "      <td>HOUWAG_ENTEMP_MED_MI</td>\n",
       "      <td>Retribuzione lorda  oraria per ora retribuita ...</td>\n",
       "      <td>1</td>\n",
       "      <td>maschi</td>\n",
       "      <td>11</td>\n",
       "      <td>laurea e post-laurea</td>\n",
       "      <td>6</td>\n",
       "      <td>operaio</td>\n",
       "      <td>B</td>\n",
       "      <td>estrazione di minerali da cave e miniere</td>\n",
       "      <td>TOTAL</td>\n",
       "      <td>totale</td>\n",
       "      <td>2015</td>\n",
       "      <td>2015</td>\n",
       "      <td>12.44</td>\n",
       "      <td>NaN</td>\n",
       "      <td>NaN</td>\n",
       "    </tr>\n",
       "    <tr>\n",
       "      <th>2</th>\n",
       "      <td>ITC</td>\n",
       "      <td>Nord-ovest</td>\n",
       "      <td>HOUWAG_ENTEMP_MED_MI</td>\n",
       "      <td>Retribuzione lorda  oraria per ora retribuita ...</td>\n",
       "      <td>1</td>\n",
       "      <td>maschi</td>\n",
       "      <td>11</td>\n",
       "      <td>laurea e post-laurea</td>\n",
       "      <td>6</td>\n",
       "      <td>operaio</td>\n",
       "      <td>B</td>\n",
       "      <td>estrazione di minerali da cave e miniere</td>\n",
       "      <td>TOTAL</td>\n",
       "      <td>totale</td>\n",
       "      <td>2016</td>\n",
       "      <td>2016</td>\n",
       "      <td>NaN</td>\n",
       "      <td>c</td>\n",
       "      <td>dato oscurato per la tutela del segreto statis...</td>\n",
       "    </tr>\n",
       "    <tr>\n",
       "      <th>3</th>\n",
       "      <td>ITC</td>\n",
       "      <td>Nord-ovest</td>\n",
       "      <td>HOUWAG_ENTEMP_MED_MI</td>\n",
       "      <td>Retribuzione lorda  oraria per ora retribuita ...</td>\n",
       "      <td>1</td>\n",
       "      <td>maschi</td>\n",
       "      <td>11</td>\n",
       "      <td>laurea e post-laurea</td>\n",
       "      <td>6</td>\n",
       "      <td>operaio</td>\n",
       "      <td>B</td>\n",
       "      <td>estrazione di minerali da cave e miniere</td>\n",
       "      <td>TOTAL</td>\n",
       "      <td>totale</td>\n",
       "      <td>2017</td>\n",
       "      <td>2017</td>\n",
       "      <td>NaN</td>\n",
       "      <td>c</td>\n",
       "      <td>dato oscurato per la tutela del segreto statis...</td>\n",
       "    </tr>\n",
       "    <tr>\n",
       "      <th>4</th>\n",
       "      <td>ITC</td>\n",
       "      <td>Nord-ovest</td>\n",
       "      <td>HOUWAG_ENTEMP_MED_MI</td>\n",
       "      <td>Retribuzione lorda  oraria per ora retribuita ...</td>\n",
       "      <td>1</td>\n",
       "      <td>maschi</td>\n",
       "      <td>11</td>\n",
       "      <td>laurea e post-laurea</td>\n",
       "      <td>6</td>\n",
       "      <td>operaio</td>\n",
       "      <td>B</td>\n",
       "      <td>estrazione di minerali da cave e miniere</td>\n",
       "      <td>TOTAL</td>\n",
       "      <td>totale</td>\n",
       "      <td>2018</td>\n",
       "      <td>2018</td>\n",
       "      <td>NaN</td>\n",
       "      <td>c</td>\n",
       "      <td>dato oscurato per la tutela del segreto statis...</td>\n",
       "    </tr>\n",
       "  </tbody>\n",
       "</table>\n",
       "</div>"
      ],
      "text/plain": [
       "  ITTER107  Territorio            TIPO_DATO7  \\\n",
       "0      ITC  Nord-ovest  HOUWAG_ENTEMP_MED_MI   \n",
       "1      ITC  Nord-ovest  HOUWAG_ENTEMP_MED_MI   \n",
       "2      ITC  Nord-ovest  HOUWAG_ENTEMP_MED_MI   \n",
       "3      ITC  Nord-ovest  HOUWAG_ENTEMP_MED_MI   \n",
       "4      ITC  Nord-ovest  HOUWAG_ENTEMP_MED_MI   \n",
       "\n",
       "                                           Tipo dato  SEXISTAT1   Sesso  \\\n",
       "0  Retribuzione lorda  oraria per ora retribuita ...          1  maschi   \n",
       "1  Retribuzione lorda  oraria per ora retribuita ...          1  maschi   \n",
       "2  Retribuzione lorda  oraria per ora retribuita ...          1  maschi   \n",
       "3  Retribuzione lorda  oraria per ora retribuita ...          1  maschi   \n",
       "4  Retribuzione lorda  oraria per ora retribuita ...          1  maschi   \n",
       "\n",
       "   TITOLO_STUDIO      Titolo di studio  PROFILO_PROF Qualifica contrattuale  \\\n",
       "0             11  laurea e post-laurea             6                operaio   \n",
       "1             11  laurea e post-laurea             6                operaio   \n",
       "2             11  laurea e post-laurea             6                operaio   \n",
       "3             11  laurea e post-laurea             6                operaio   \n",
       "4             11  laurea e post-laurea             6                operaio   \n",
       "\n",
       "  ATECO_2007                                Ateco 2007  CLLVT  \\\n",
       "0          B  estrazione di minerali da cave e miniere  TOTAL   \n",
       "1          B  estrazione di minerali da cave e miniere  TOTAL   \n",
       "2          B  estrazione di minerali da cave e miniere  TOTAL   \n",
       "3          B  estrazione di minerali da cave e miniere  TOTAL   \n",
       "4          B  estrazione di minerali da cave e miniere  TOTAL   \n",
       "\n",
       "  Classe di dipendenti  TIME  Seleziona periodo  Value Flag Codes  \\\n",
       "0               totale  2014               2014  13.10        NaN   \n",
       "1               totale  2015               2015  12.44        NaN   \n",
       "2               totale  2016               2016    NaN          c   \n",
       "3               totale  2017               2017    NaN          c   \n",
       "4               totale  2018               2018    NaN          c   \n",
       "\n",
       "                                               Flags  \n",
       "0                                                NaN  \n",
       "1                                                NaN  \n",
       "2  dato oscurato per la tutela del segreto statis...  \n",
       "3  dato oscurato per la tutela del segreto statis...  \n",
       "4  dato oscurato per la tutela del segreto statis...  "
      ]
     },
     "execution_count": 44,
     "metadata": {},
     "output_type": "execute_result"
    }
   ],
   "source": [
    "retributions = pd.read_csv('./retribuzioni2.csv')\n",
    "#activated_transformed.drop('Unnamed: 0', axis=1)\n",
    "retributions.head()"
   ]
  },
  {
   "cell_type": "markdown",
   "id": "187b113a",
   "metadata": {},
   "source": [
    "### Firstly clean the dataset"
   ]
  },
  {
   "cell_type": "code",
   "execution_count": 45,
   "id": "66d54bc0",
   "metadata": {},
   "outputs": [
    {
     "data": {
      "text/plain": [
       "(9682, 19)"
      ]
     },
     "execution_count": 45,
     "metadata": {},
     "output_type": "execute_result"
    }
   ],
   "source": [
    "retributions.shape"
   ]
  },
  {
   "cell_type": "code",
   "execution_count": 46,
   "id": "15e51484",
   "metadata": {},
   "outputs": [
    {
     "data": {
      "text/plain": [
       "Index(['ITTER107', 'Territorio', 'TIPO_DATO7', 'Tipo dato', 'SEXISTAT1',\n",
       "       'Sesso', 'TITOLO_STUDIO', 'Titolo di studio', 'PROFILO_PROF',\n",
       "       'Qualifica contrattuale', 'ATECO_2007', 'Ateco 2007', 'CLLVT',\n",
       "       'Classe di dipendenti', 'TIME', 'Seleziona periodo', 'Value',\n",
       "       'Flag Codes', 'Flags'],\n",
       "      dtype='object')"
      ]
     },
     "execution_count": 46,
     "metadata": {},
     "output_type": "execute_result"
    }
   ],
   "source": [
    "retributions.columns"
   ]
  },
  {
   "cell_type": "markdown",
   "id": "271efed1",
   "metadata": {},
   "source": [
    "Dropping unuseful or suplicated columns"
   ]
  },
  {
   "cell_type": "code",
   "execution_count": 47,
   "id": "b962ec5f",
   "metadata": {},
   "outputs": [
    {
     "data": {
      "text/plain": [
       "Index(['Territorio', 'Sesso', 'Titolo di studio', 'Qualifica contrattuale',\n",
       "       'Ateco 2007', 'Seleziona periodo', 'Value'],\n",
       "      dtype='object')"
      ]
     },
     "execution_count": 47,
     "metadata": {},
     "output_type": "execute_result"
    }
   ],
   "source": [
    "retributions2 = retributions.drop(['ITTER107', 'TIPO_DATO7', 'Tipo dato', 'SEXISTAT1', 'TITOLO_STUDIO', 'PROFILO_PROF', 'ATECO_2007', 'CLLVT', 'Classe di dipendenti', 'TIME', 'Flag Codes', 'Flags'], axis=1)\n",
    "retributions2.columns"
   ]
  },
  {
   "cell_type": "markdown",
   "id": "64e542a7",
   "metadata": {},
   "source": [
    "Rename column **Seleziona periodo** in **anno**"
   ]
  },
  {
   "cell_type": "code",
   "execution_count": 48,
   "id": "23e2e07a",
   "metadata": {},
   "outputs": [
    {
     "data": {
      "text/plain": [
       "array([2014, 2015, 2016, 2017, 2018, 2019])"
      ]
     },
     "execution_count": 48,
     "metadata": {},
     "output_type": "execute_result"
    }
   ],
   "source": [
    "retributions2.rename({'Seleziona periodo': 'anno'}, axis=1, inplace=True)\n",
    "retributions2.anno.unique()"
   ]
  },
  {
   "cell_type": "markdown",
   "id": "9b2bef1b",
   "metadata": {},
   "source": [
    "### Missing values inspection"
   ]
  },
  {
   "cell_type": "code",
   "execution_count": 49,
   "id": "cd4d4ca5",
   "metadata": {},
   "outputs": [
    {
     "name": "stdout",
     "output_type": "stream",
     "text": [
      "<class 'pandas.core.frame.DataFrame'>\n",
      "RangeIndex: 9682 entries, 0 to 9681\n",
      "Data columns (total 7 columns):\n",
      " #   Column                  Non-Null Count  Dtype  \n",
      "---  ------                  --------------  -----  \n",
      " 0   Territorio              9682 non-null   object \n",
      " 1   Sesso                   9682 non-null   object \n",
      " 2   Titolo di studio        9682 non-null   object \n",
      " 3   Qualifica contrattuale  9682 non-null   object \n",
      " 4   Ateco 2007              9682 non-null   object \n",
      " 5   anno                    9682 non-null   int64  \n",
      " 6   Value                   8758 non-null   float64\n",
      "dtypes: float64(1), int64(1), object(5)\n",
      "memory usage: 529.6+ KB\n"
     ]
    }
   ],
   "source": [
    "retributions2.info()"
   ]
  },
  {
   "cell_type": "code",
   "execution_count": 50,
   "id": "14bd69c0",
   "metadata": {},
   "outputs": [
    {
     "name": "stdout",
     "output_type": "stream",
     "text": [
      "Your selected dataframe has 7 columns.\n",
      "There are 1 columns that have missing values.\n"
     ]
    },
    {
     "data": {
      "text/html": [
       "<div>\n",
       "<style scoped>\n",
       "    .dataframe tbody tr th:only-of-type {\n",
       "        vertical-align: middle;\n",
       "    }\n",
       "\n",
       "    .dataframe tbody tr th {\n",
       "        vertical-align: top;\n",
       "    }\n",
       "\n",
       "    .dataframe thead th {\n",
       "        text-align: right;\n",
       "    }\n",
       "</style>\n",
       "<table border=\"1\" class=\"dataframe\">\n",
       "  <thead>\n",
       "    <tr style=\"text-align: right;\">\n",
       "      <th></th>\n",
       "      <th>Missing Values</th>\n",
       "      <th>% of Total Values</th>\n",
       "    </tr>\n",
       "  </thead>\n",
       "  <tbody>\n",
       "    <tr>\n",
       "      <th>Value</th>\n",
       "      <td>924</td>\n",
       "      <td>9.5</td>\n",
       "    </tr>\n",
       "  </tbody>\n",
       "</table>\n",
       "</div>"
      ],
      "text/plain": [
       "       Missing Values  % of Total Values\n",
       "Value             924                9.5"
      ]
     },
     "execution_count": 50,
     "metadata": {},
     "output_type": "execute_result"
    }
   ],
   "source": [
    "utils.missing_values_table(retributions2)"
   ]
  },
  {
   "cell_type": "markdown",
   "id": "7a6a6cee",
   "metadata": {},
   "source": [
    "There are some missing values only on the **Values** column. Since there are only a few i'll drop all the rows containig missing values for that column."
   ]
  },
  {
   "cell_type": "code",
   "execution_count": 51,
   "id": "b40df208",
   "metadata": {},
   "outputs": [],
   "source": [
    "retributions3 = retributions2.dropna()"
   ]
  },
  {
   "cell_type": "code",
   "execution_count": 52,
   "id": "e42e4ce9",
   "metadata": {},
   "outputs": [
    {
     "name": "stdout",
     "output_type": "stream",
     "text": [
      "Your selected dataframe has 7 columns.\n",
      "There are 0 columns that have missing values.\n"
     ]
    },
    {
     "data": {
      "text/html": [
       "<div>\n",
       "<style scoped>\n",
       "    .dataframe tbody tr th:only-of-type {\n",
       "        vertical-align: middle;\n",
       "    }\n",
       "\n",
       "    .dataframe tbody tr th {\n",
       "        vertical-align: top;\n",
       "    }\n",
       "\n",
       "    .dataframe thead th {\n",
       "        text-align: right;\n",
       "    }\n",
       "</style>\n",
       "<table border=\"1\" class=\"dataframe\">\n",
       "  <thead>\n",
       "    <tr style=\"text-align: right;\">\n",
       "      <th></th>\n",
       "      <th>Missing Values</th>\n",
       "      <th>% of Total Values</th>\n",
       "    </tr>\n",
       "  </thead>\n",
       "  <tbody>\n",
       "  </tbody>\n",
       "</table>\n",
       "</div>"
      ],
      "text/plain": [
       "Empty DataFrame\n",
       "Columns: [Missing Values, % of Total Values]\n",
       "Index: []"
      ]
     },
     "execution_count": 52,
     "metadata": {},
     "output_type": "execute_result"
    }
   ],
   "source": [
    "utils.missing_values_table(retributions3)"
   ]
  },
  {
   "cell_type": "markdown",
   "id": "b1970617",
   "metadata": {},
   "source": [
    "All missing values have been removed"
   ]
  },
  {
   "cell_type": "code",
   "execution_count": 53,
   "id": "649b521c",
   "metadata": {},
   "outputs": [
    {
     "data": {
      "text/html": [
       "<div>\n",
       "<style scoped>\n",
       "    .dataframe tbody tr th:only-of-type {\n",
       "        vertical-align: middle;\n",
       "    }\n",
       "\n",
       "    .dataframe tbody tr th {\n",
       "        vertical-align: top;\n",
       "    }\n",
       "\n",
       "    .dataframe thead th {\n",
       "        text-align: right;\n",
       "    }\n",
       "</style>\n",
       "<table border=\"1\" class=\"dataframe\">\n",
       "  <thead>\n",
       "    <tr style=\"text-align: right;\">\n",
       "      <th></th>\n",
       "      <th>TERRITORIO</th>\n",
       "      <th>SESSO</th>\n",
       "      <th>TITOLO DI STUDIO</th>\n",
       "      <th>QUALIFICA CONTRATTUALE</th>\n",
       "      <th>ATECO 2007</th>\n",
       "      <th>ANNO</th>\n",
       "      <th>VALUE</th>\n",
       "    </tr>\n",
       "  </thead>\n",
       "  <tbody>\n",
       "    <tr>\n",
       "      <th>0</th>\n",
       "      <td>Nord-ovest</td>\n",
       "      <td>maschi</td>\n",
       "      <td>laurea e post-laurea</td>\n",
       "      <td>operaio</td>\n",
       "      <td>estrazione di minerali da cave e miniere</td>\n",
       "      <td>2014</td>\n",
       "      <td>13.10</td>\n",
       "    </tr>\n",
       "    <tr>\n",
       "      <th>1</th>\n",
       "      <td>Nord-ovest</td>\n",
       "      <td>maschi</td>\n",
       "      <td>laurea e post-laurea</td>\n",
       "      <td>operaio</td>\n",
       "      <td>estrazione di minerali da cave e miniere</td>\n",
       "      <td>2015</td>\n",
       "      <td>12.44</td>\n",
       "    </tr>\n",
       "    <tr>\n",
       "      <th>5</th>\n",
       "      <td>Nord-ovest</td>\n",
       "      <td>maschi</td>\n",
       "      <td>laurea e post-laurea</td>\n",
       "      <td>operaio</td>\n",
       "      <td>estrazione di minerali da cave e miniere</td>\n",
       "      <td>2019</td>\n",
       "      <td>13.74</td>\n",
       "    </tr>\n",
       "    <tr>\n",
       "      <th>9</th>\n",
       "      <td>Nord-ovest</td>\n",
       "      <td>maschi</td>\n",
       "      <td>laurea e post-laurea</td>\n",
       "      <td>apprendista</td>\n",
       "      <td>estrazione di minerali da cave e miniere</td>\n",
       "      <td>2017</td>\n",
       "      <td>19.60</td>\n",
       "    </tr>\n",
       "    <tr>\n",
       "      <th>10</th>\n",
       "      <td>Nord-ovest</td>\n",
       "      <td>maschi</td>\n",
       "      <td>laurea e post-laurea</td>\n",
       "      <td>apprendista</td>\n",
       "      <td>estrazione di minerali da cave e miniere</td>\n",
       "      <td>2018</td>\n",
       "      <td>18.24</td>\n",
       "    </tr>\n",
       "  </tbody>\n",
       "</table>\n",
       "</div>"
      ],
      "text/plain": [
       "    TERRITORIO   SESSO      TITOLO DI STUDIO QUALIFICA CONTRATTUALE  \\\n",
       "0   Nord-ovest  maschi  laurea e post-laurea                operaio   \n",
       "1   Nord-ovest  maschi  laurea e post-laurea                operaio   \n",
       "5   Nord-ovest  maschi  laurea e post-laurea                operaio   \n",
       "9   Nord-ovest  maschi  laurea e post-laurea            apprendista   \n",
       "10  Nord-ovest  maschi  laurea e post-laurea            apprendista   \n",
       "\n",
       "                                  ATECO 2007  ANNO  VALUE  \n",
       "0   estrazione di minerali da cave e miniere  2014  13.10  \n",
       "1   estrazione di minerali da cave e miniere  2015  12.44  \n",
       "5   estrazione di minerali da cave e miniere  2019  13.74  \n",
       "9   estrazione di minerali da cave e miniere  2017  19.60  \n",
       "10  estrazione di minerali da cave e miniere  2018  18.24  "
      ]
     },
     "execution_count": 53,
     "metadata": {},
     "output_type": "execute_result"
    }
   ],
   "source": [
    "retributions3.columns = retributions3.columns.str.upper()\n",
    "retributions3.head()"
   ]
  },
  {
   "cell_type": "code",
   "execution_count": 54,
   "id": "59e0ce0a",
   "metadata": {},
   "outputs": [
    {
     "data": {
      "text/plain": [
       "array([2014, 2015, 2019, 2017, 2018, 2016])"
      ]
     },
     "execution_count": 54,
     "metadata": {},
     "output_type": "execute_result"
    }
   ],
   "source": [
    "retributions3['ANNO'].unique()#.shape[0]"
   ]
  },
  {
   "cell_type": "code",
   "execution_count": 55,
   "id": "8b5d10c3",
   "metadata": {},
   "outputs": [
    {
     "data": {
      "text/plain": [
       "8758"
      ]
     },
     "execution_count": 55,
     "metadata": {},
     "output_type": "execute_result"
    }
   ],
   "source": [
    "retributions3.shape[0]"
   ]
  },
  {
   "cell_type": "markdown",
   "id": "ce77c88c",
   "metadata": {},
   "source": [
    "### Renaming the columns on which i want to make the join"
   ]
  },
  {
   "cell_type": "code",
   "execution_count": 61,
   "id": "eab3a7d5",
   "metadata": {},
   "outputs": [
    {
     "data": {
      "text/plain": [
       "Index(['TERRITORIO', 'SESSO', 'TITOLO DI STUDIO', 'QUALIFICA CONTRATTUALE',\n",
       "       'ATECO 2007', 'ANNO', 'VALUE'],\n",
       "      dtype='object')"
      ]
     },
     "execution_count": 61,
     "metadata": {},
     "output_type": "execute_result"
    }
   ],
   "source": [
    "retributions3.columns"
   ]
  },
  {
   "cell_type": "code",
   "execution_count": 63,
   "id": "b932b2e5",
   "metadata": {},
   "outputs": [
    {
     "data": {
      "text/plain": [
       "Index(['TERRITORIO', 'SESSO', 'TITOLO DI STUDIO', 'QUALIFICA CONTRATTUALE',\n",
       "       'ATECO 2007', 'ANNO', 'VALUE'],\n",
       "      dtype='object')"
      ]
     },
     "execution_count": 63,
     "metadata": {},
     "output_type": "execute_result"
    }
   ],
   "source": [
    "retributions3 = retributions3.rename({'SESSO': 'GENERE',\n",
    "                      'TITOLO DI STUDIO': 'TITOLOSTUDIO'})\n",
    "retributions3.columns"
   ]
  },
  {
   "cell_type": "code",
   "execution_count": 18,
   "id": "5cd06a56",
   "metadata": {},
   "outputs": [
    {
     "data": {
      "text/html": [
       "<div>\n",
       "<style scoped>\n",
       "    .dataframe tbody tr th:only-of-type {\n",
       "        vertical-align: middle;\n",
       "    }\n",
       "\n",
       "    .dataframe tbody tr th {\n",
       "        vertical-align: top;\n",
       "    }\n",
       "\n",
       "    .dataframe thead th {\n",
       "        text-align: right;\n",
       "    }\n",
       "</style>\n",
       "<table border=\"1\" class=\"dataframe\">\n",
       "  <thead>\n",
       "    <tr style=\"text-align: right;\">\n",
       "      <th></th>\n",
       "      <th>GENERE</th>\n",
       "      <th>ETA</th>\n",
       "      <th>TITOLOSTUDIO</th>\n",
       "      <th>CONTRATTO</th>\n",
       "      <th>MODALITALAVORO</th>\n",
       "      <th>PROVINCIAIMPRESA</th>\n",
       "      <th>NAZIONALITA</th>\n",
       "    </tr>\n",
       "    <tr>\n",
       "      <th>DATA</th>\n",
       "      <th></th>\n",
       "      <th></th>\n",
       "      <th></th>\n",
       "      <th></th>\n",
       "      <th></th>\n",
       "      <th></th>\n",
       "      <th></th>\n",
       "    </tr>\n",
       "  </thead>\n",
       "  <tbody>\n",
       "    <tr>\n",
       "      <th>1973-02-01</th>\n",
       "      <td>F</td>\n",
       "      <td>20</td>\n",
       "      <td>NESSUN TITOLO DI STUDIO</td>\n",
       "      <td>LAVORO DOMESTICO A TEMPO INDETERMINATO</td>\n",
       "      <td>TEMPO PARZIALE ORIZZONTALE</td>\n",
       "      <td>MILANO</td>\n",
       "      <td>ITALIA</td>\n",
       "    </tr>\n",
       "    <tr>\n",
       "      <th>1974-11-06</th>\n",
       "      <td>F</td>\n",
       "      <td>21</td>\n",
       "      <td>NESSUN TITOLO DI STUDIO</td>\n",
       "      <td>LAVORO DOMESTICO A TEMPO INDETERMINATO</td>\n",
       "      <td>TEMPO PARZIALE ORIZZONTALE</td>\n",
       "      <td>MILANO</td>\n",
       "      <td>ITALIA</td>\n",
       "    </tr>\n",
       "    <tr>\n",
       "      <th>1976-01-10</th>\n",
       "      <td>F</td>\n",
       "      <td>21</td>\n",
       "      <td>NESSUN TITOLO DI STUDIO</td>\n",
       "      <td>LAVORO DOMESTICO A TEMPO INDETERMINATO</td>\n",
       "      <td>TEMPO PARZIALE ORIZZONTALE</td>\n",
       "      <td>BERGAMO</td>\n",
       "      <td>ITALIA</td>\n",
       "    </tr>\n",
       "    <tr>\n",
       "      <th>1978-01-05</th>\n",
       "      <td>M</td>\n",
       "      <td>25</td>\n",
       "      <td>NESSUN TITOLO DI STUDIO</td>\n",
       "      <td>LAVORO DOMESTICO A TEMPO INDETERMINATO</td>\n",
       "      <td>TEMPO PIENO</td>\n",
       "      <td>MILANO</td>\n",
       "      <td>ITALIA</td>\n",
       "    </tr>\n",
       "    <tr>\n",
       "      <th>1978-10-07</th>\n",
       "      <td>M</td>\n",
       "      <td>26</td>\n",
       "      <td>NESSUN TITOLO DI STUDIO</td>\n",
       "      <td>LAVORO DOMESTICO A TEMPO INDETERMINATO</td>\n",
       "      <td>TEMPO PIENO</td>\n",
       "      <td>MILANO</td>\n",
       "      <td>ITALIA</td>\n",
       "    </tr>\n",
       "  </tbody>\n",
       "</table>\n",
       "</div>"
      ],
      "text/plain": [
       "           GENERE  ETA             TITOLOSTUDIO  \\\n",
       "DATA                                              \n",
       "1973-02-01      F   20  NESSUN TITOLO DI STUDIO   \n",
       "1974-11-06      F   21  NESSUN TITOLO DI STUDIO   \n",
       "1976-01-10      F   21  NESSUN TITOLO DI STUDIO   \n",
       "1978-01-05      M   25  NESSUN TITOLO DI STUDIO   \n",
       "1978-10-07      M   26  NESSUN TITOLO DI STUDIO   \n",
       "\n",
       "                                         CONTRATTO  \\\n",
       "DATA                                                 \n",
       "1973-02-01  LAVORO DOMESTICO A TEMPO INDETERMINATO   \n",
       "1974-11-06  LAVORO DOMESTICO A TEMPO INDETERMINATO   \n",
       "1976-01-10  LAVORO DOMESTICO A TEMPO INDETERMINATO   \n",
       "1978-01-05  LAVORO DOMESTICO A TEMPO INDETERMINATO   \n",
       "1978-10-07  LAVORO DOMESTICO A TEMPO INDETERMINATO   \n",
       "\n",
       "                        MODALITALAVORO PROVINCIAIMPRESA NAZIONALITA  \n",
       "DATA                                                                 \n",
       "1973-02-01  TEMPO PARZIALE ORIZZONTALE           MILANO      ITALIA  \n",
       "1974-11-06  TEMPO PARZIALE ORIZZONTALE           MILANO      ITALIA  \n",
       "1976-01-10  TEMPO PARZIALE ORIZZONTALE          BERGAMO      ITALIA  \n",
       "1978-01-05                 TEMPO PIENO           MILANO      ITALIA  \n",
       "1978-10-07                 TEMPO PIENO           MILANO      ITALIA  "
      ]
     },
     "execution_count": 18,
     "metadata": {},
     "output_type": "execute_result"
    }
   ],
   "source": [
    "activated_cleaned = pd.read_csv('./activated_labours_cleaned.csv', parse_dates=['DATA'])\n",
    "activated_cleaned.drop('Unnamed: 0', axis=1, inplace=True)\n",
    "activated_cleaned.set_index('DATA', inplace=True)\n",
    "activated_cleaned.head()"
   ]
  },
  {
   "cell_type": "code",
   "execution_count": 19,
   "id": "570ffb6b",
   "metadata": {},
   "outputs": [
    {
     "data": {
      "text/plain": [
       "DatetimeIndex(['1973-02-01', '1974-11-06', '1976-01-10', '1978-01-05',\n",
       "               '1978-10-07', '1979-02-08', '1980-08-01', '1981-04-07',\n",
       "               '1982-03-11', '1988-07-12',\n",
       "               ...\n",
       "               '2021-10-06', '2021-10-06', '2021-10-06', '2021-10-06',\n",
       "               '2021-10-06', '2021-10-06', '2021-10-06', '2021-10-06',\n",
       "               '2021-10-06', '2021-10-06'],\n",
       "              dtype='datetime64[ns]', name='DATA', length=9579793, freq=None)"
      ]
     },
     "execution_count": 19,
     "metadata": {},
     "output_type": "execute_result"
    }
   ],
   "source": [
    "activated_cleaned.index"
   ]
  },
  {
   "cell_type": "code",
   "execution_count": 20,
   "id": "3b2a1977",
   "metadata": {},
   "outputs": [
    {
     "data": {
      "text/html": [
       "<div>\n",
       "<style scoped>\n",
       "    .dataframe tbody tr th:only-of-type {\n",
       "        vertical-align: middle;\n",
       "    }\n",
       "\n",
       "    .dataframe tbody tr th {\n",
       "        vertical-align: top;\n",
       "    }\n",
       "\n",
       "    .dataframe thead th {\n",
       "        text-align: right;\n",
       "    }\n",
       "</style>\n",
       "<table border=\"1\" class=\"dataframe\">\n",
       "  <thead>\n",
       "    <tr style=\"text-align: right;\">\n",
       "      <th></th>\n",
       "      <th>GENERE</th>\n",
       "      <th>ETA</th>\n",
       "      <th>TITOLOSTUDIO</th>\n",
       "      <th>CONTRATTO</th>\n",
       "      <th>MODALITALAVORO</th>\n",
       "      <th>PROVINCIAIMPRESA</th>\n",
       "      <th>NAZIONALITA</th>\n",
       "      <th>ANNO</th>\n",
       "    </tr>\n",
       "    <tr>\n",
       "      <th>DATA</th>\n",
       "      <th></th>\n",
       "      <th></th>\n",
       "      <th></th>\n",
       "      <th></th>\n",
       "      <th></th>\n",
       "      <th></th>\n",
       "      <th></th>\n",
       "      <th></th>\n",
       "    </tr>\n",
       "  </thead>\n",
       "  <tbody>\n",
       "    <tr>\n",
       "      <th>1973-02-01</th>\n",
       "      <td>F</td>\n",
       "      <td>20</td>\n",
       "      <td>NESSUN TITOLO DI STUDIO</td>\n",
       "      <td>LAVORO DOMESTICO A TEMPO INDETERMINATO</td>\n",
       "      <td>TEMPO PARZIALE ORIZZONTALE</td>\n",
       "      <td>MILANO</td>\n",
       "      <td>ITALIA</td>\n",
       "      <td>1973</td>\n",
       "    </tr>\n",
       "    <tr>\n",
       "      <th>1974-11-06</th>\n",
       "      <td>F</td>\n",
       "      <td>21</td>\n",
       "      <td>NESSUN TITOLO DI STUDIO</td>\n",
       "      <td>LAVORO DOMESTICO A TEMPO INDETERMINATO</td>\n",
       "      <td>TEMPO PARZIALE ORIZZONTALE</td>\n",
       "      <td>MILANO</td>\n",
       "      <td>ITALIA</td>\n",
       "      <td>1974</td>\n",
       "    </tr>\n",
       "    <tr>\n",
       "      <th>1976-01-10</th>\n",
       "      <td>F</td>\n",
       "      <td>21</td>\n",
       "      <td>NESSUN TITOLO DI STUDIO</td>\n",
       "      <td>LAVORO DOMESTICO A TEMPO INDETERMINATO</td>\n",
       "      <td>TEMPO PARZIALE ORIZZONTALE</td>\n",
       "      <td>BERGAMO</td>\n",
       "      <td>ITALIA</td>\n",
       "      <td>1976</td>\n",
       "    </tr>\n",
       "    <tr>\n",
       "      <th>1978-01-05</th>\n",
       "      <td>M</td>\n",
       "      <td>25</td>\n",
       "      <td>NESSUN TITOLO DI STUDIO</td>\n",
       "      <td>LAVORO DOMESTICO A TEMPO INDETERMINATO</td>\n",
       "      <td>TEMPO PIENO</td>\n",
       "      <td>MILANO</td>\n",
       "      <td>ITALIA</td>\n",
       "      <td>1978</td>\n",
       "    </tr>\n",
       "    <tr>\n",
       "      <th>1978-10-07</th>\n",
       "      <td>M</td>\n",
       "      <td>26</td>\n",
       "      <td>NESSUN TITOLO DI STUDIO</td>\n",
       "      <td>LAVORO DOMESTICO A TEMPO INDETERMINATO</td>\n",
       "      <td>TEMPO PIENO</td>\n",
       "      <td>MILANO</td>\n",
       "      <td>ITALIA</td>\n",
       "      <td>1978</td>\n",
       "    </tr>\n",
       "  </tbody>\n",
       "</table>\n",
       "</div>"
      ],
      "text/plain": [
       "           GENERE  ETA             TITOLOSTUDIO  \\\n",
       "DATA                                              \n",
       "1973-02-01      F   20  NESSUN TITOLO DI STUDIO   \n",
       "1974-11-06      F   21  NESSUN TITOLO DI STUDIO   \n",
       "1976-01-10      F   21  NESSUN TITOLO DI STUDIO   \n",
       "1978-01-05      M   25  NESSUN TITOLO DI STUDIO   \n",
       "1978-10-07      M   26  NESSUN TITOLO DI STUDIO   \n",
       "\n",
       "                                         CONTRATTO  \\\n",
       "DATA                                                 \n",
       "1973-02-01  LAVORO DOMESTICO A TEMPO INDETERMINATO   \n",
       "1974-11-06  LAVORO DOMESTICO A TEMPO INDETERMINATO   \n",
       "1976-01-10  LAVORO DOMESTICO A TEMPO INDETERMINATO   \n",
       "1978-01-05  LAVORO DOMESTICO A TEMPO INDETERMINATO   \n",
       "1978-10-07  LAVORO DOMESTICO A TEMPO INDETERMINATO   \n",
       "\n",
       "                        MODALITALAVORO PROVINCIAIMPRESA NAZIONALITA  ANNO  \n",
       "DATA                                                                       \n",
       "1973-02-01  TEMPO PARZIALE ORIZZONTALE           MILANO      ITALIA  1973  \n",
       "1974-11-06  TEMPO PARZIALE ORIZZONTALE           MILANO      ITALIA  1974  \n",
       "1976-01-10  TEMPO PARZIALE ORIZZONTALE          BERGAMO      ITALIA  1976  \n",
       "1978-01-05                 TEMPO PIENO           MILANO      ITALIA  1978  \n",
       "1978-10-07                 TEMPO PIENO           MILANO      ITALIA  1978  "
      ]
     },
     "execution_count": 20,
     "metadata": {},
     "output_type": "execute_result"
    }
   ],
   "source": [
    "activated_cleaned['ANNO'] = pd.DatetimeIndex(activated_cleaned.index).year\n",
    "activated_cleaned.head()"
   ]
  },
  {
   "cell_type": "markdown",
   "id": "4d0ba007",
   "metadata": {},
   "source": [
    "Sesso, Titolo di studio, Qualifica contrattuale e Classe di dipendenti contengono come valore la stringa 'totale'"
   ]
  },
  {
   "cell_type": "code",
   "execution_count": 22,
   "id": "e7ca1ddd",
   "metadata": {},
   "outputs": [
    {
     "data": {
      "text/plain": [
       "array(['NESSUN TITOLO DI STUDIO', 'LICENZA MEDIA', 'LICENZA ELEMENTARE',\n",
       "       \"DIPLOMA DI ISTRUZIONE SECONDARIA SUPERIORE  CHE PERMETTE L'ACCESSO ALL'UNIVERSITA\",\n",
       "       'LAUREA - Vecchio o nuovo ordinamento',\n",
       "       \"TITOLO DI ISTRUZIONE SECONDARIA SUPERIORE (SCOLASTICA ED EXTRA-SCOLASTICA) CHE NON PERMETTE L'ACCESSO ALL'UNIVERSITÀ ()\",\n",
       "       'MASTER UNIVERSITARIO DI PRIMO LIVELLO',\n",
       "       'DIPLOMA TERZIARIO EXTRA-UNIVERSITARIO', 'DIPLOMA UNIVERSITARIO',\n",
       "       'DIPLOMA DI SPECIALIZZAZIONE', 'TITOLO DI DOTTORE DI RICERCA',\n",
       "       'TITOLO DI STUDIO POST-LAUREA'], dtype=object)"
      ]
     },
     "execution_count": 22,
     "metadata": {},
     "output_type": "execute_result"
    }
   ],
   "source": [
    "activated_cleaned['TITOLOSTUDIO'].unique()"
   ]
  },
  {
   "cell_type": "code",
   "execution_count": 23,
   "id": "a97777bb",
   "metadata": {},
   "outputs": [
    {
     "data": {
      "text/plain": [
       "array(['totale', 'laurea e post-laurea', 'diploma',\n",
       "       'nessun titolo di studio, licenza di scuola elementare e media'],\n",
       "      dtype=object)"
      ]
     },
     "execution_count": 23,
     "metadata": {},
     "output_type": "execute_result"
    }
   ],
   "source": [
    "retributions3['TITOLO DI STUDIO'].unique()"
   ]
  },
  {
   "cell_type": "code",
   "execution_count": 24,
   "id": "958a3b57",
   "metadata": {},
   "outputs": [
    {
     "data": {
      "text/html": [
       "<div>\n",
       "<style scoped>\n",
       "    .dataframe tbody tr th:only-of-type {\n",
       "        vertical-align: middle;\n",
       "    }\n",
       "\n",
       "    .dataframe tbody tr th {\n",
       "        vertical-align: top;\n",
       "    }\n",
       "\n",
       "    .dataframe thead th {\n",
       "        text-align: right;\n",
       "    }\n",
       "</style>\n",
       "<table border=\"1\" class=\"dataframe\">\n",
       "  <thead>\n",
       "    <tr style=\"text-align: right;\">\n",
       "      <th></th>\n",
       "      <th>GENERE</th>\n",
       "      <th>ETA</th>\n",
       "      <th>TITOLOSTUDIO</th>\n",
       "      <th>CONTRATTO</th>\n",
       "      <th>MODALITALAVORO</th>\n",
       "      <th>PROVINCIAIMPRESA</th>\n",
       "      <th>NAZIONALITA</th>\n",
       "      <th>ANNO</th>\n",
       "    </tr>\n",
       "    <tr>\n",
       "      <th>DATA</th>\n",
       "      <th></th>\n",
       "      <th></th>\n",
       "      <th></th>\n",
       "      <th></th>\n",
       "      <th></th>\n",
       "      <th></th>\n",
       "      <th></th>\n",
       "      <th></th>\n",
       "    </tr>\n",
       "  </thead>\n",
       "  <tbody>\n",
       "    <tr>\n",
       "      <th>1973-02-01</th>\n",
       "      <td>F</td>\n",
       "      <td>20</td>\n",
       "      <td>NESSUN TITOLO DI STUDIO</td>\n",
       "      <td>LAVORO DOMESTICO A TEMPO INDETERMINATO</td>\n",
       "      <td>TEMPO PARZIALE ORIZZONTALE</td>\n",
       "      <td>MILANO</td>\n",
       "      <td>ITALIA</td>\n",
       "      <td>1973</td>\n",
       "    </tr>\n",
       "    <tr>\n",
       "      <th>1974-11-06</th>\n",
       "      <td>F</td>\n",
       "      <td>21</td>\n",
       "      <td>NESSUN TITOLO DI STUDIO</td>\n",
       "      <td>LAVORO DOMESTICO A TEMPO INDETERMINATO</td>\n",
       "      <td>TEMPO PARZIALE ORIZZONTALE</td>\n",
       "      <td>MILANO</td>\n",
       "      <td>ITALIA</td>\n",
       "      <td>1974</td>\n",
       "    </tr>\n",
       "    <tr>\n",
       "      <th>1976-01-10</th>\n",
       "      <td>F</td>\n",
       "      <td>21</td>\n",
       "      <td>NESSUN TITOLO DI STUDIO</td>\n",
       "      <td>LAVORO DOMESTICO A TEMPO INDETERMINATO</td>\n",
       "      <td>TEMPO PARZIALE ORIZZONTALE</td>\n",
       "      <td>BERGAMO</td>\n",
       "      <td>ITALIA</td>\n",
       "      <td>1976</td>\n",
       "    </tr>\n",
       "    <tr>\n",
       "      <th>1978-01-05</th>\n",
       "      <td>M</td>\n",
       "      <td>25</td>\n",
       "      <td>NESSUN TITOLO DI STUDIO</td>\n",
       "      <td>LAVORO DOMESTICO A TEMPO INDETERMINATO</td>\n",
       "      <td>TEMPO PIENO</td>\n",
       "      <td>MILANO</td>\n",
       "      <td>ITALIA</td>\n",
       "      <td>1978</td>\n",
       "    </tr>\n",
       "    <tr>\n",
       "      <th>1978-10-07</th>\n",
       "      <td>M</td>\n",
       "      <td>26</td>\n",
       "      <td>NESSUN TITOLO DI STUDIO</td>\n",
       "      <td>LAVORO DOMESTICO A TEMPO INDETERMINATO</td>\n",
       "      <td>TEMPO PIENO</td>\n",
       "      <td>MILANO</td>\n",
       "      <td>ITALIA</td>\n",
       "      <td>1978</td>\n",
       "    </tr>\n",
       "  </tbody>\n",
       "</table>\n",
       "</div>"
      ],
      "text/plain": [
       "           GENERE  ETA             TITOLOSTUDIO  \\\n",
       "DATA                                              \n",
       "1973-02-01      F   20  NESSUN TITOLO DI STUDIO   \n",
       "1974-11-06      F   21  NESSUN TITOLO DI STUDIO   \n",
       "1976-01-10      F   21  NESSUN TITOLO DI STUDIO   \n",
       "1978-01-05      M   25  NESSUN TITOLO DI STUDIO   \n",
       "1978-10-07      M   26  NESSUN TITOLO DI STUDIO   \n",
       "\n",
       "                                         CONTRATTO  \\\n",
       "DATA                                                 \n",
       "1973-02-01  LAVORO DOMESTICO A TEMPO INDETERMINATO   \n",
       "1974-11-06  LAVORO DOMESTICO A TEMPO INDETERMINATO   \n",
       "1976-01-10  LAVORO DOMESTICO A TEMPO INDETERMINATO   \n",
       "1978-01-05  LAVORO DOMESTICO A TEMPO INDETERMINATO   \n",
       "1978-10-07  LAVORO DOMESTICO A TEMPO INDETERMINATO   \n",
       "\n",
       "                        MODALITALAVORO PROVINCIAIMPRESA NAZIONALITA  ANNO  \n",
       "DATA                                                                       \n",
       "1973-02-01  TEMPO PARZIALE ORIZZONTALE           MILANO      ITALIA  1973  \n",
       "1974-11-06  TEMPO PARZIALE ORIZZONTALE           MILANO      ITALIA  1974  \n",
       "1976-01-10  TEMPO PARZIALE ORIZZONTALE          BERGAMO      ITALIA  1976  \n",
       "1978-01-05                 TEMPO PIENO           MILANO      ITALIA  1978  \n",
       "1978-10-07                 TEMPO PIENO           MILANO      ITALIA  1978  "
      ]
     },
     "execution_count": 24,
     "metadata": {},
     "output_type": "execute_result"
    }
   ],
   "source": [
    "study_titles_map = {'LICENZA MEDIA': 'licenza di scuola elementare e media',\n",
    "                    'LICENZA ELEMENTARE': 'licenza di scuola elementare e media',\n",
    "                    'LAUREA': 'laurea e post-laurea',\n",
    "                    'TITOLO DI STUDIO POST-LAUREA': 'laurea e post-laurea'}\n",
    "activated_cleaned['TITOLOSTUDIO'] = activated_cleaned['TITOLOSTUDIO'].replace(study_titles_map)\n",
    "activated_cleaned.head()"
   ]
  },
  {
   "cell_type": "code",
   "execution_count": null,
   "id": "f51e61d8",
   "metadata": {},
   "outputs": [],
   "source": []
  }
 ],
 "metadata": {
  "kernelspec": {
   "display_name": "Python 3 (ipykernel)",
   "language": "python",
   "name": "python3"
  },
  "language_info": {
   "codemirror_mode": {
    "name": "ipython",
    "version": 3
   },
   "file_extension": ".py",
   "mimetype": "text/x-python",
   "name": "python",
   "nbconvert_exporter": "python",
   "pygments_lexer": "ipython3",
   "version": "3.9.7"
  }
 },
 "nbformat": 4,
 "nbformat_minor": 5
}
