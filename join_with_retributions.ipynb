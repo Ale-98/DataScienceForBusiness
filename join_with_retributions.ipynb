{
 "cells": [
  {
   "cell_type": "markdown",
   "id": "483cb98c",
   "metadata": {},
   "source": [
    "# Retribuzioni"
   ]
  },
  {
   "cell_type": "code",
   "execution_count": 230,
   "id": "0e55a251",
   "metadata": {},
   "outputs": [],
   "source": [
    "import pandas as pd\n",
    "import matplotlib.pyplot as plt\n",
    "import utils\n",
    "import numpy as np"
   ]
  },
  {
   "cell_type": "code",
   "execution_count": 231,
   "id": "1f832129",
   "metadata": {},
   "outputs": [
    {
     "data": {
      "text/html": [
       "<div>\n",
       "<style scoped>\n",
       "    .dataframe tbody tr th:only-of-type {\n",
       "        vertical-align: middle;\n",
       "    }\n",
       "\n",
       "    .dataframe tbody tr th {\n",
       "        vertical-align: top;\n",
       "    }\n",
       "\n",
       "    .dataframe thead th {\n",
       "        text-align: right;\n",
       "    }\n",
       "</style>\n",
       "<table border=\"1\" class=\"dataframe\">\n",
       "  <thead>\n",
       "    <tr style=\"text-align: right;\">\n",
       "      <th></th>\n",
       "      <th>ITTER107</th>\n",
       "      <th>Territorio</th>\n",
       "      <th>TIPO_DATO7</th>\n",
       "      <th>Tipo dato</th>\n",
       "      <th>SEXISTAT1</th>\n",
       "      <th>Sesso</th>\n",
       "      <th>TITOLO_STUDIO</th>\n",
       "      <th>Titolo di studio</th>\n",
       "      <th>PROFILO_PROF</th>\n",
       "      <th>Qualifica contrattuale</th>\n",
       "      <th>ATECO_2007</th>\n",
       "      <th>Ateco 2007</th>\n",
       "      <th>CLLVT</th>\n",
       "      <th>Classe di dipendenti</th>\n",
       "      <th>TIME</th>\n",
       "      <th>Seleziona periodo</th>\n",
       "      <th>Value</th>\n",
       "      <th>Flag Codes</th>\n",
       "      <th>Flags</th>\n",
       "    </tr>\n",
       "  </thead>\n",
       "  <tbody>\n",
       "    <tr>\n",
       "      <th>0</th>\n",
       "      <td>ITC</td>\n",
       "      <td>Nord-ovest</td>\n",
       "      <td>HOUWAG_ENTEMP_MED_MI</td>\n",
       "      <td>Retribuzione lorda  oraria per ora retribuita ...</td>\n",
       "      <td>1</td>\n",
       "      <td>maschi</td>\n",
       "      <td>11</td>\n",
       "      <td>laurea e post-laurea</td>\n",
       "      <td>6</td>\n",
       "      <td>operaio</td>\n",
       "      <td>B</td>\n",
       "      <td>estrazione di minerali da cave e miniere</td>\n",
       "      <td>TOTAL</td>\n",
       "      <td>totale</td>\n",
       "      <td>2014</td>\n",
       "      <td>2014</td>\n",
       "      <td>13.10</td>\n",
       "      <td>NaN</td>\n",
       "      <td>NaN</td>\n",
       "    </tr>\n",
       "    <tr>\n",
       "      <th>1</th>\n",
       "      <td>ITC</td>\n",
       "      <td>Nord-ovest</td>\n",
       "      <td>HOUWAG_ENTEMP_MED_MI</td>\n",
       "      <td>Retribuzione lorda  oraria per ora retribuita ...</td>\n",
       "      <td>1</td>\n",
       "      <td>maschi</td>\n",
       "      <td>11</td>\n",
       "      <td>laurea e post-laurea</td>\n",
       "      <td>6</td>\n",
       "      <td>operaio</td>\n",
       "      <td>B</td>\n",
       "      <td>estrazione di minerali da cave e miniere</td>\n",
       "      <td>TOTAL</td>\n",
       "      <td>totale</td>\n",
       "      <td>2015</td>\n",
       "      <td>2015</td>\n",
       "      <td>12.44</td>\n",
       "      <td>NaN</td>\n",
       "      <td>NaN</td>\n",
       "    </tr>\n",
       "    <tr>\n",
       "      <th>2</th>\n",
       "      <td>ITC</td>\n",
       "      <td>Nord-ovest</td>\n",
       "      <td>HOUWAG_ENTEMP_MED_MI</td>\n",
       "      <td>Retribuzione lorda  oraria per ora retribuita ...</td>\n",
       "      <td>1</td>\n",
       "      <td>maschi</td>\n",
       "      <td>11</td>\n",
       "      <td>laurea e post-laurea</td>\n",
       "      <td>6</td>\n",
       "      <td>operaio</td>\n",
       "      <td>B</td>\n",
       "      <td>estrazione di minerali da cave e miniere</td>\n",
       "      <td>TOTAL</td>\n",
       "      <td>totale</td>\n",
       "      <td>2016</td>\n",
       "      <td>2016</td>\n",
       "      <td>NaN</td>\n",
       "      <td>c</td>\n",
       "      <td>dato oscurato per la tutela del segreto statis...</td>\n",
       "    </tr>\n",
       "    <tr>\n",
       "      <th>3</th>\n",
       "      <td>ITC</td>\n",
       "      <td>Nord-ovest</td>\n",
       "      <td>HOUWAG_ENTEMP_MED_MI</td>\n",
       "      <td>Retribuzione lorda  oraria per ora retribuita ...</td>\n",
       "      <td>1</td>\n",
       "      <td>maschi</td>\n",
       "      <td>11</td>\n",
       "      <td>laurea e post-laurea</td>\n",
       "      <td>6</td>\n",
       "      <td>operaio</td>\n",
       "      <td>B</td>\n",
       "      <td>estrazione di minerali da cave e miniere</td>\n",
       "      <td>TOTAL</td>\n",
       "      <td>totale</td>\n",
       "      <td>2017</td>\n",
       "      <td>2017</td>\n",
       "      <td>NaN</td>\n",
       "      <td>c</td>\n",
       "      <td>dato oscurato per la tutela del segreto statis...</td>\n",
       "    </tr>\n",
       "    <tr>\n",
       "      <th>4</th>\n",
       "      <td>ITC</td>\n",
       "      <td>Nord-ovest</td>\n",
       "      <td>HOUWAG_ENTEMP_MED_MI</td>\n",
       "      <td>Retribuzione lorda  oraria per ora retribuita ...</td>\n",
       "      <td>1</td>\n",
       "      <td>maschi</td>\n",
       "      <td>11</td>\n",
       "      <td>laurea e post-laurea</td>\n",
       "      <td>6</td>\n",
       "      <td>operaio</td>\n",
       "      <td>B</td>\n",
       "      <td>estrazione di minerali da cave e miniere</td>\n",
       "      <td>TOTAL</td>\n",
       "      <td>totale</td>\n",
       "      <td>2018</td>\n",
       "      <td>2018</td>\n",
       "      <td>NaN</td>\n",
       "      <td>c</td>\n",
       "      <td>dato oscurato per la tutela del segreto statis...</td>\n",
       "    </tr>\n",
       "  </tbody>\n",
       "</table>\n",
       "</div>"
      ],
      "text/plain": [
       "  ITTER107  Territorio            TIPO_DATO7  \\\n",
       "0      ITC  Nord-ovest  HOUWAG_ENTEMP_MED_MI   \n",
       "1      ITC  Nord-ovest  HOUWAG_ENTEMP_MED_MI   \n",
       "2      ITC  Nord-ovest  HOUWAG_ENTEMP_MED_MI   \n",
       "3      ITC  Nord-ovest  HOUWAG_ENTEMP_MED_MI   \n",
       "4      ITC  Nord-ovest  HOUWAG_ENTEMP_MED_MI   \n",
       "\n",
       "                                           Tipo dato  SEXISTAT1   Sesso  \\\n",
       "0  Retribuzione lorda  oraria per ora retribuita ...          1  maschi   \n",
       "1  Retribuzione lorda  oraria per ora retribuita ...          1  maschi   \n",
       "2  Retribuzione lorda  oraria per ora retribuita ...          1  maschi   \n",
       "3  Retribuzione lorda  oraria per ora retribuita ...          1  maschi   \n",
       "4  Retribuzione lorda  oraria per ora retribuita ...          1  maschi   \n",
       "\n",
       "   TITOLO_STUDIO      Titolo di studio  PROFILO_PROF Qualifica contrattuale  \\\n",
       "0             11  laurea e post-laurea             6                operaio   \n",
       "1             11  laurea e post-laurea             6                operaio   \n",
       "2             11  laurea e post-laurea             6                operaio   \n",
       "3             11  laurea e post-laurea             6                operaio   \n",
       "4             11  laurea e post-laurea             6                operaio   \n",
       "\n",
       "  ATECO_2007                                Ateco 2007  CLLVT  \\\n",
       "0          B  estrazione di minerali da cave e miniere  TOTAL   \n",
       "1          B  estrazione di minerali da cave e miniere  TOTAL   \n",
       "2          B  estrazione di minerali da cave e miniere  TOTAL   \n",
       "3          B  estrazione di minerali da cave e miniere  TOTAL   \n",
       "4          B  estrazione di minerali da cave e miniere  TOTAL   \n",
       "\n",
       "  Classe di dipendenti  TIME  Seleziona periodo  Value Flag Codes  \\\n",
       "0               totale  2014               2014  13.10        NaN   \n",
       "1               totale  2015               2015  12.44        NaN   \n",
       "2               totale  2016               2016    NaN          c   \n",
       "3               totale  2017               2017    NaN          c   \n",
       "4               totale  2018               2018    NaN          c   \n",
       "\n",
       "                                               Flags  \n",
       "0                                                NaN  \n",
       "1                                                NaN  \n",
       "2  dato oscurato per la tutela del segreto statis...  \n",
       "3  dato oscurato per la tutela del segreto statis...  \n",
       "4  dato oscurato per la tutela del segreto statis...  "
      ]
     },
     "execution_count": 231,
     "metadata": {},
     "output_type": "execute_result"
    }
   ],
   "source": [
    "retributions = pd.read_csv('./retribuzioni2.csv')\n",
    "#activated_transformed.drop('Unnamed: 0', axis=1)\n",
    "retributions.head()"
   ]
  },
  {
   "cell_type": "markdown",
   "id": "187b113a",
   "metadata": {},
   "source": [
    "### Firstly clean the dataset"
   ]
  },
  {
   "cell_type": "code",
   "execution_count": 232,
   "id": "66d54bc0",
   "metadata": {},
   "outputs": [
    {
     "data": {
      "text/plain": [
       "(9682, 19)"
      ]
     },
     "execution_count": 232,
     "metadata": {},
     "output_type": "execute_result"
    }
   ],
   "source": [
    "retributions.shape"
   ]
  },
  {
   "cell_type": "code",
   "execution_count": 233,
   "id": "15e51484",
   "metadata": {},
   "outputs": [
    {
     "data": {
      "text/plain": [
       "Index(['ITTER107', 'Territorio', 'TIPO_DATO7', 'Tipo dato', 'SEXISTAT1',\n",
       "       'Sesso', 'TITOLO_STUDIO', 'Titolo di studio', 'PROFILO_PROF',\n",
       "       'Qualifica contrattuale', 'ATECO_2007', 'Ateco 2007', 'CLLVT',\n",
       "       'Classe di dipendenti', 'TIME', 'Seleziona periodo', 'Value',\n",
       "       'Flag Codes', 'Flags'],\n",
       "      dtype='object')"
      ]
     },
     "execution_count": 233,
     "metadata": {},
     "output_type": "execute_result"
    }
   ],
   "source": [
    "retributions.columns"
   ]
  },
  {
   "cell_type": "markdown",
   "id": "271efed1",
   "metadata": {},
   "source": [
    "Dropping unuseful or suplicated columns"
   ]
  },
  {
   "cell_type": "code",
   "execution_count": 234,
   "id": "b962ec5f",
   "metadata": {},
   "outputs": [
    {
     "data": {
      "text/plain": [
       "Index(['Territorio', 'Sesso', 'Titolo di studio', 'Qualifica contrattuale',\n",
       "       'Ateco 2007', 'Seleziona periodo', 'Value'],\n",
       "      dtype='object')"
      ]
     },
     "execution_count": 234,
     "metadata": {},
     "output_type": "execute_result"
    }
   ],
   "source": [
    "retributions2 = retributions.drop(['ITTER107', 'TIPO_DATO7', 'Tipo dato', 'SEXISTAT1', 'TITOLO_STUDIO', 'PROFILO_PROF', 'ATECO_2007', 'CLLVT', 'Classe di dipendenti', 'TIME', 'Flag Codes', 'Flags'], axis=1)\n",
    "retributions2.columns"
   ]
  },
  {
   "cell_type": "markdown",
   "id": "64e542a7",
   "metadata": {},
   "source": [
    "Rename column **Seleziona periodo** in **anno**"
   ]
  },
  {
   "cell_type": "code",
   "execution_count": 235,
   "id": "23e2e07a",
   "metadata": {},
   "outputs": [
    {
     "data": {
      "text/plain": [
       "array([2014, 2015, 2016, 2017, 2018, 2019])"
      ]
     },
     "execution_count": 235,
     "metadata": {},
     "output_type": "execute_result"
    }
   ],
   "source": [
    "retributions2.rename({'Seleziona periodo': 'anno'}, axis=1, inplace=True)\n",
    "retributions2.anno.unique()"
   ]
  },
  {
   "cell_type": "markdown",
   "id": "9b2bef1b",
   "metadata": {},
   "source": [
    "### Missing values inspection"
   ]
  },
  {
   "cell_type": "code",
   "execution_count": 236,
   "id": "cd4d4ca5",
   "metadata": {},
   "outputs": [
    {
     "name": "stdout",
     "output_type": "stream",
     "text": [
      "<class 'pandas.core.frame.DataFrame'>\n",
      "RangeIndex: 9682 entries, 0 to 9681\n",
      "Data columns (total 7 columns):\n",
      " #   Column                  Non-Null Count  Dtype  \n",
      "---  ------                  --------------  -----  \n",
      " 0   Territorio              9682 non-null   object \n",
      " 1   Sesso                   9682 non-null   object \n",
      " 2   Titolo di studio        9682 non-null   object \n",
      " 3   Qualifica contrattuale  9682 non-null   object \n",
      " 4   Ateco 2007              9682 non-null   object \n",
      " 5   anno                    9682 non-null   int64  \n",
      " 6   Value                   8758 non-null   float64\n",
      "dtypes: float64(1), int64(1), object(5)\n",
      "memory usage: 529.6+ KB\n"
     ]
    }
   ],
   "source": [
    "retributions2.info()"
   ]
  },
  {
   "cell_type": "code",
   "execution_count": 237,
   "id": "14bd69c0",
   "metadata": {},
   "outputs": [
    {
     "name": "stdout",
     "output_type": "stream",
     "text": [
      "Your selected dataframe has 7 columns.\n",
      "There are 1 columns that have missing values.\n"
     ]
    },
    {
     "data": {
      "text/html": [
       "<div>\n",
       "<style scoped>\n",
       "    .dataframe tbody tr th:only-of-type {\n",
       "        vertical-align: middle;\n",
       "    }\n",
       "\n",
       "    .dataframe tbody tr th {\n",
       "        vertical-align: top;\n",
       "    }\n",
       "\n",
       "    .dataframe thead th {\n",
       "        text-align: right;\n",
       "    }\n",
       "</style>\n",
       "<table border=\"1\" class=\"dataframe\">\n",
       "  <thead>\n",
       "    <tr style=\"text-align: right;\">\n",
       "      <th></th>\n",
       "      <th>Missing Values</th>\n",
       "      <th>% of Total Values</th>\n",
       "    </tr>\n",
       "  </thead>\n",
       "  <tbody>\n",
       "    <tr>\n",
       "      <th>Value</th>\n",
       "      <td>924</td>\n",
       "      <td>9.5</td>\n",
       "    </tr>\n",
       "  </tbody>\n",
       "</table>\n",
       "</div>"
      ],
      "text/plain": [
       "       Missing Values  % of Total Values\n",
       "Value             924                9.5"
      ]
     },
     "execution_count": 237,
     "metadata": {},
     "output_type": "execute_result"
    }
   ],
   "source": [
    "utils.missing_values_table(retributions2)"
   ]
  },
  {
   "cell_type": "markdown",
   "id": "7a6a6cee",
   "metadata": {},
   "source": [
    "There are some missing values only on the **Values** column. Since there are only a few i'll drop all the rows containig missing values for that column."
   ]
  },
  {
   "cell_type": "code",
   "execution_count": 238,
   "id": "b40df208",
   "metadata": {},
   "outputs": [],
   "source": [
    "retributions3 = retributions2.dropna()"
   ]
  },
  {
   "cell_type": "code",
   "execution_count": 239,
   "id": "e42e4ce9",
   "metadata": {},
   "outputs": [
    {
     "name": "stdout",
     "output_type": "stream",
     "text": [
      "Your selected dataframe has 7 columns.\n",
      "There are 0 columns that have missing values.\n"
     ]
    },
    {
     "data": {
      "text/html": [
       "<div>\n",
       "<style scoped>\n",
       "    .dataframe tbody tr th:only-of-type {\n",
       "        vertical-align: middle;\n",
       "    }\n",
       "\n",
       "    .dataframe tbody tr th {\n",
       "        vertical-align: top;\n",
       "    }\n",
       "\n",
       "    .dataframe thead th {\n",
       "        text-align: right;\n",
       "    }\n",
       "</style>\n",
       "<table border=\"1\" class=\"dataframe\">\n",
       "  <thead>\n",
       "    <tr style=\"text-align: right;\">\n",
       "      <th></th>\n",
       "      <th>Missing Values</th>\n",
       "      <th>% of Total Values</th>\n",
       "    </tr>\n",
       "  </thead>\n",
       "  <tbody>\n",
       "  </tbody>\n",
       "</table>\n",
       "</div>"
      ],
      "text/plain": [
       "Empty DataFrame\n",
       "Columns: [Missing Values, % of Total Values]\n",
       "Index: []"
      ]
     },
     "execution_count": 239,
     "metadata": {},
     "output_type": "execute_result"
    }
   ],
   "source": [
    "utils.missing_values_table(retributions3)"
   ]
  },
  {
   "cell_type": "markdown",
   "id": "b1970617",
   "metadata": {},
   "source": [
    "All missing values have been removed"
   ]
  },
  {
   "cell_type": "code",
   "execution_count": 240,
   "id": "649b521c",
   "metadata": {},
   "outputs": [
    {
     "data": {
      "text/html": [
       "<div>\n",
       "<style scoped>\n",
       "    .dataframe tbody tr th:only-of-type {\n",
       "        vertical-align: middle;\n",
       "    }\n",
       "\n",
       "    .dataframe tbody tr th {\n",
       "        vertical-align: top;\n",
       "    }\n",
       "\n",
       "    .dataframe thead th {\n",
       "        text-align: right;\n",
       "    }\n",
       "</style>\n",
       "<table border=\"1\" class=\"dataframe\">\n",
       "  <thead>\n",
       "    <tr style=\"text-align: right;\">\n",
       "      <th></th>\n",
       "      <th>TERRITORIO</th>\n",
       "      <th>SESSO</th>\n",
       "      <th>TITOLO DI STUDIO</th>\n",
       "      <th>QUALIFICA CONTRATTUALE</th>\n",
       "      <th>ATECO 2007</th>\n",
       "      <th>ANNO</th>\n",
       "      <th>VALUE</th>\n",
       "    </tr>\n",
       "  </thead>\n",
       "  <tbody>\n",
       "    <tr>\n",
       "      <th>0</th>\n",
       "      <td>Nord-ovest</td>\n",
       "      <td>maschi</td>\n",
       "      <td>laurea e post-laurea</td>\n",
       "      <td>operaio</td>\n",
       "      <td>estrazione di minerali da cave e miniere</td>\n",
       "      <td>2014</td>\n",
       "      <td>13.10</td>\n",
       "    </tr>\n",
       "    <tr>\n",
       "      <th>1</th>\n",
       "      <td>Nord-ovest</td>\n",
       "      <td>maschi</td>\n",
       "      <td>laurea e post-laurea</td>\n",
       "      <td>operaio</td>\n",
       "      <td>estrazione di minerali da cave e miniere</td>\n",
       "      <td>2015</td>\n",
       "      <td>12.44</td>\n",
       "    </tr>\n",
       "    <tr>\n",
       "      <th>5</th>\n",
       "      <td>Nord-ovest</td>\n",
       "      <td>maschi</td>\n",
       "      <td>laurea e post-laurea</td>\n",
       "      <td>operaio</td>\n",
       "      <td>estrazione di minerali da cave e miniere</td>\n",
       "      <td>2019</td>\n",
       "      <td>13.74</td>\n",
       "    </tr>\n",
       "    <tr>\n",
       "      <th>9</th>\n",
       "      <td>Nord-ovest</td>\n",
       "      <td>maschi</td>\n",
       "      <td>laurea e post-laurea</td>\n",
       "      <td>apprendista</td>\n",
       "      <td>estrazione di minerali da cave e miniere</td>\n",
       "      <td>2017</td>\n",
       "      <td>19.60</td>\n",
       "    </tr>\n",
       "    <tr>\n",
       "      <th>10</th>\n",
       "      <td>Nord-ovest</td>\n",
       "      <td>maschi</td>\n",
       "      <td>laurea e post-laurea</td>\n",
       "      <td>apprendista</td>\n",
       "      <td>estrazione di minerali da cave e miniere</td>\n",
       "      <td>2018</td>\n",
       "      <td>18.24</td>\n",
       "    </tr>\n",
       "  </tbody>\n",
       "</table>\n",
       "</div>"
      ],
      "text/plain": [
       "    TERRITORIO   SESSO      TITOLO DI STUDIO QUALIFICA CONTRATTUALE  \\\n",
       "0   Nord-ovest  maschi  laurea e post-laurea                operaio   \n",
       "1   Nord-ovest  maschi  laurea e post-laurea                operaio   \n",
       "5   Nord-ovest  maschi  laurea e post-laurea                operaio   \n",
       "9   Nord-ovest  maschi  laurea e post-laurea            apprendista   \n",
       "10  Nord-ovest  maschi  laurea e post-laurea            apprendista   \n",
       "\n",
       "                                  ATECO 2007  ANNO  VALUE  \n",
       "0   estrazione di minerali da cave e miniere  2014  13.10  \n",
       "1   estrazione di minerali da cave e miniere  2015  12.44  \n",
       "5   estrazione di minerali da cave e miniere  2019  13.74  \n",
       "9   estrazione di minerali da cave e miniere  2017  19.60  \n",
       "10  estrazione di minerali da cave e miniere  2018  18.24  "
      ]
     },
     "execution_count": 240,
     "metadata": {},
     "output_type": "execute_result"
    }
   ],
   "source": [
    "retributions3.columns = retributions3.columns.str.upper()\n",
    "retributions3.head()"
   ]
  },
  {
   "cell_type": "code",
   "execution_count": 241,
   "id": "59e0ce0a",
   "metadata": {},
   "outputs": [
    {
     "data": {
      "text/plain": [
       "array([2014, 2015, 2019, 2017, 2018, 2016])"
      ]
     },
     "execution_count": 241,
     "metadata": {},
     "output_type": "execute_result"
    }
   ],
   "source": [
    "retributions3['ANNO'].unique()#.shape[0]"
   ]
  },
  {
   "cell_type": "code",
   "execution_count": 242,
   "id": "8b5d10c3",
   "metadata": {},
   "outputs": [
    {
     "data": {
      "text/plain": [
       "8758"
      ]
     },
     "execution_count": 242,
     "metadata": {},
     "output_type": "execute_result"
    }
   ],
   "source": [
    "retributions3.shape[0]"
   ]
  },
  {
   "cell_type": "markdown",
   "id": "3279359d",
   "metadata": {},
   "source": [
    "Keeping only the records which make reference to **NORD-OVEST** as territory."
   ]
  },
  {
   "cell_type": "code",
   "execution_count": 243,
   "id": "ff51fee8",
   "metadata": {},
   "outputs": [
    {
     "name": "stderr",
     "output_type": "stream",
     "text": [
      "/home/ale/anaconda3/lib/python3.9/site-packages/pandas/core/frame.py:4906: SettingWithCopyWarning: \n",
      "A value is trying to be set on a copy of a slice from a DataFrame\n",
      "\n",
      "See the caveats in the documentation: https://pandas.pydata.org/pandas-docs/stable/user_guide/indexing.html#returning-a-view-versus-a-copy\n",
      "  return super().drop(\n"
     ]
    },
    {
     "data": {
      "text/plain": [
       "1835"
      ]
     },
     "execution_count": 243,
     "metadata": {},
     "output_type": "execute_result"
    }
   ],
   "source": [
    "retributions4 = retributions3[retributions3['TERRITORIO'] == 'Nord-ovest']\n",
    "retributions4.drop('TERRITORIO', axis=1, inplace=True)\n",
    "retributions4.shape[0]"
   ]
  },
  {
   "cell_type": "markdown",
   "id": "726093bc",
   "metadata": {},
   "source": [
    "Refactoring of some values in order to let them be coherent with tha values of the starting dataframe."
   ]
  },
  {
   "cell_type": "code",
   "execution_count": 244,
   "id": "30b99bf4",
   "metadata": {
    "scrolled": true
   },
   "outputs": [
    {
     "name": "stderr",
     "output_type": "stream",
     "text": [
      "/tmp/ipykernel_3968/1724496005.py:1: SettingWithCopyWarning: \n",
      "A value is trying to be set on a copy of a slice from a DataFrame.\n",
      "Try using .loc[row_indexer,col_indexer] = value instead\n",
      "\n",
      "See the caveats in the documentation: https://pandas.pydata.org/pandas-docs/stable/user_guide/indexing.html#returning-a-view-versus-a-copy\n",
      "  retributions4['SESSO'] = retributions4['SESSO'].replace({'maschi': 'M', 'femmine': 'F'})\n"
     ]
    },
    {
     "data": {
      "text/plain": [
       "array(['M', 'F'], dtype=object)"
      ]
     },
     "execution_count": 244,
     "metadata": {},
     "output_type": "execute_result"
    }
   ],
   "source": [
    "retributions4['SESSO'] = retributions4['SESSO'].replace({'maschi': 'M', 'femmine': 'F'})\n",
    "retributions4['SESSO'].unique() "
   ]
  },
  {
   "cell_type": "code",
   "execution_count": 245,
   "id": "044af0e6",
   "metadata": {},
   "outputs": [
    {
     "name": "stderr",
     "output_type": "stream",
     "text": [
      "/tmp/ipykernel_3968/3482580884.py:1: SettingWithCopyWarning: \n",
      "A value is trying to be set on a copy of a slice from a DataFrame.\n",
      "Try using .loc[row_indexer,col_indexer] = value instead\n",
      "\n",
      "See the caveats in the documentation: https://pandas.pydata.org/pandas-docs/stable/user_guide/indexing.html#returning-a-view-versus-a-copy\n",
      "  retributions4['TITOLO DI STUDIO'] = retributions4['TITOLO DI STUDIO'].str.upper()\n"
     ]
    },
    {
     "data": {
      "text/plain": [
       "array(['LAUREA E POST-LAUREA', 'DIPLOMA',\n",
       "       'NESSUN TITOLO DI STUDIO, LICENZA DI SCUOLA ELEMENTARE E MEDIA'],\n",
       "      dtype=object)"
      ]
     },
     "execution_count": 245,
     "metadata": {},
     "output_type": "execute_result"
    }
   ],
   "source": [
    "retributions4['TITOLO DI STUDIO'] = retributions4['TITOLO DI STUDIO'].str.upper()\n",
    "retributions4['TITOLO DI STUDIO'].unique()"
   ]
  },
  {
   "cell_type": "code",
   "execution_count": 246,
   "id": "3c407597",
   "metadata": {},
   "outputs": [
    {
     "name": "stderr",
     "output_type": "stream",
     "text": [
      "/tmp/ipykernel_3968/1448575132.py:1: SettingWithCopyWarning: \n",
      "A value is trying to be set on a copy of a slice from a DataFrame.\n",
      "Try using .loc[row_indexer,col_indexer] = value instead\n",
      "\n",
      "See the caveats in the documentation: https://pandas.pydata.org/pandas-docs/stable/user_guide/indexing.html#returning-a-view-versus-a-copy\n",
      "  retributions4['QUALIFICA CONTRATTUALE'] = retributions4['QUALIFICA CONTRATTUALE'].str.upper()\n"
     ]
    },
    {
     "data": {
      "text/plain": [
       "array(['OPERAIO', 'APPRENDISTA', 'DIRIGENTE; IMPIEGATO'], dtype=object)"
      ]
     },
     "execution_count": 246,
     "metadata": {},
     "output_type": "execute_result"
    }
   ],
   "source": [
    "retributions4['QUALIFICA CONTRATTUALE'] = retributions4['QUALIFICA CONTRATTUALE'].str.upper()\n",
    "retributions4['QUALIFICA CONTRATTUALE'].unique()"
   ]
  },
  {
   "cell_type": "code",
   "execution_count": 247,
   "id": "1ae85947",
   "metadata": {},
   "outputs": [
    {
     "name": "stderr",
     "output_type": "stream",
     "text": [
      "/tmp/ipykernel_3968/4226234626.py:1: SettingWithCopyWarning: \n",
      "A value is trying to be set on a copy of a slice from a DataFrame.\n",
      "Try using .loc[row_indexer,col_indexer] = value instead\n",
      "\n",
      "See the caveats in the documentation: https://pandas.pydata.org/pandas-docs/stable/user_guide/indexing.html#returning-a-view-versus-a-copy\n",
      "  retributions4['ATECO 2007'] = retributions4['ATECO 2007'].str.upper()\n"
     ]
    },
    {
     "data": {
      "text/plain": [
       "array(['ESTRAZIONE DI MINERALI DA CAVE E MINIERE',\n",
       "       'ATTIVITÀ MANIFATTURIERE',\n",
       "       'FORNITURA DI ENERGIA ELETTRICA, GAS, VAPORE E ARIA CONDIZIONATA',\n",
       "       'FORNITURA DI ACQUA RETI FOGNARIE, ATTIVITÀ DI GESTIONE DEI RIFIUTI E RISANAMENTO',\n",
       "       'COSTRUZIONI',\n",
       "       \"COMMERCIO ALL'INGROSSO E AL DETTAGLIO, RIPARAZIONE DI AUTOVEICOLI E MOTOCICLI\",\n",
       "       'TRASPORTO E MAGAZZINAGGIO',\n",
       "       'ATTIVITÀ DEI SERVIZI DI ALLOGGIO E DI RISTORAZIONE',\n",
       "       'SERVIZI DI INFORMAZIONE E COMUNICAZIONE',\n",
       "       'ATTIVITÀ FINANZIARIE E ASSICURATIVE', 'ATTIVITÀ IMMOBILIARI',\n",
       "       'ATTIVITÀ PROFESSIONALI, SCIENTIFICHE E TECNICHE',\n",
       "       'NOLEGGIO, AGENZIE DI VIAGGIO, SERVIZI DI SUPPORTO ALLE IMPRESE',\n",
       "       'ISTRUZIONE', 'SANITÀ E ASSISTENZA SOCIALE',\n",
       "       'ATTIVITÀ ARTISTICHE, SPORTIVE, DI INTRATTENIMENTO E DIVERTIMENTO',\n",
       "       'ALTRE ATTIVITÀ DI SERVIZI', 'SERVIZI  (G-S, ESCLUSO O)'],\n",
       "      dtype=object)"
      ]
     },
     "execution_count": 247,
     "metadata": {},
     "output_type": "execute_result"
    }
   ],
   "source": [
    "retributions4['ATECO 2007'] = retributions4['ATECO 2007'].str.upper()\n",
    "retributions4['ATECO 2007'].unique()"
   ]
  },
  {
   "cell_type": "markdown",
   "id": "ce77c88c",
   "metadata": {},
   "source": [
    "### Renaming the columns on which i want to make the join"
   ]
  },
  {
   "cell_type": "code",
   "execution_count": 248,
   "id": "eab3a7d5",
   "metadata": {},
   "outputs": [
    {
     "data": {
      "text/plain": [
       "Index(['SESSO', 'TITOLO DI STUDIO', 'QUALIFICA CONTRATTUALE', 'ATECO 2007',\n",
       "       'ANNO', 'VALUE'],\n",
       "      dtype='object')"
      ]
     },
     "execution_count": 248,
     "metadata": {},
     "output_type": "execute_result"
    }
   ],
   "source": [
    "retributions4.columns"
   ]
  },
  {
   "cell_type": "code",
   "execution_count": 249,
   "id": "b932b2e5",
   "metadata": {},
   "outputs": [
    {
     "data": {
      "text/plain": [
       "Index(['GENERE', 'TITOLOSTUDIO', 'QUALIFICA CONTRATTUALE', 'ATECO 2007',\n",
       "       'ANNO', 'VALUE'],\n",
       "      dtype='object')"
      ]
     },
     "execution_count": 249,
     "metadata": {},
     "output_type": "execute_result"
    }
   ],
   "source": [
    "retributions4 = retributions4.rename({'SESSO': 'GENERE',\n",
    "                      'TITOLO DI STUDIO': 'TITOLOSTUDIO'}, axis=1)\n",
    "retributions4.columns"
   ]
  },
  {
   "cell_type": "markdown",
   "id": "f5bbc6e2",
   "metadata": {},
   "source": [
    "## Adaptations on rapporti_di_lavoro_attivati.csv dataset"
   ]
  },
  {
   "cell_type": "markdown",
   "id": "da71d324",
   "metadata": {},
   "source": [
    "Importing..."
   ]
  },
  {
   "cell_type": "code",
   "execution_count": 250,
   "id": "5cd06a56",
   "metadata": {},
   "outputs": [
    {
     "data": {
      "text/html": [
       "<div>\n",
       "<style scoped>\n",
       "    .dataframe tbody tr th:only-of-type {\n",
       "        vertical-align: middle;\n",
       "    }\n",
       "\n",
       "    .dataframe tbody tr th {\n",
       "        vertical-align: top;\n",
       "    }\n",
       "\n",
       "    .dataframe thead th {\n",
       "        text-align: right;\n",
       "    }\n",
       "</style>\n",
       "<table border=\"1\" class=\"dataframe\">\n",
       "  <thead>\n",
       "    <tr style=\"text-align: right;\">\n",
       "      <th></th>\n",
       "      <th>DATA</th>\n",
       "      <th>GENERE</th>\n",
       "      <th>ETA</th>\n",
       "      <th>TITOLOSTUDIO</th>\n",
       "      <th>CONTRATTO</th>\n",
       "      <th>MODALITALAVORO</th>\n",
       "      <th>PROVINCIAIMPRESA</th>\n",
       "      <th>NAZIONALITA</th>\n",
       "    </tr>\n",
       "  </thead>\n",
       "  <tbody>\n",
       "    <tr>\n",
       "      <th>0</th>\n",
       "      <td>1973-02-01</td>\n",
       "      <td>F</td>\n",
       "      <td>20</td>\n",
       "      <td>NESSUN TITOLO DI STUDIO</td>\n",
       "      <td>LAVORO DOMESTICO A TEMPO INDETERMINATO</td>\n",
       "      <td>TEMPO PARZIALE ORIZZONTALE</td>\n",
       "      <td>MILANO</td>\n",
       "      <td>ITALIA</td>\n",
       "    </tr>\n",
       "    <tr>\n",
       "      <th>1</th>\n",
       "      <td>1974-11-06</td>\n",
       "      <td>F</td>\n",
       "      <td>21</td>\n",
       "      <td>NESSUN TITOLO DI STUDIO</td>\n",
       "      <td>LAVORO DOMESTICO A TEMPO INDETERMINATO</td>\n",
       "      <td>TEMPO PARZIALE ORIZZONTALE</td>\n",
       "      <td>MILANO</td>\n",
       "      <td>ITALIA</td>\n",
       "    </tr>\n",
       "    <tr>\n",
       "      <th>2</th>\n",
       "      <td>1976-01-10</td>\n",
       "      <td>F</td>\n",
       "      <td>21</td>\n",
       "      <td>NESSUN TITOLO DI STUDIO</td>\n",
       "      <td>LAVORO DOMESTICO A TEMPO INDETERMINATO</td>\n",
       "      <td>TEMPO PARZIALE ORIZZONTALE</td>\n",
       "      <td>BERGAMO</td>\n",
       "      <td>ITALIA</td>\n",
       "    </tr>\n",
       "    <tr>\n",
       "      <th>3</th>\n",
       "      <td>1978-01-05</td>\n",
       "      <td>M</td>\n",
       "      <td>25</td>\n",
       "      <td>NESSUN TITOLO DI STUDIO</td>\n",
       "      <td>LAVORO DOMESTICO A TEMPO INDETERMINATO</td>\n",
       "      <td>TEMPO PIENO</td>\n",
       "      <td>MILANO</td>\n",
       "      <td>ITALIA</td>\n",
       "    </tr>\n",
       "    <tr>\n",
       "      <th>4</th>\n",
       "      <td>1978-10-07</td>\n",
       "      <td>M</td>\n",
       "      <td>26</td>\n",
       "      <td>NESSUN TITOLO DI STUDIO</td>\n",
       "      <td>LAVORO DOMESTICO A TEMPO INDETERMINATO</td>\n",
       "      <td>TEMPO PIENO</td>\n",
       "      <td>MILANO</td>\n",
       "      <td>ITALIA</td>\n",
       "    </tr>\n",
       "  </tbody>\n",
       "</table>\n",
       "</div>"
      ],
      "text/plain": [
       "        DATA GENERE  ETA             TITOLOSTUDIO  \\\n",
       "0 1973-02-01      F   20  NESSUN TITOLO DI STUDIO   \n",
       "1 1974-11-06      F   21  NESSUN TITOLO DI STUDIO   \n",
       "2 1976-01-10      F   21  NESSUN TITOLO DI STUDIO   \n",
       "3 1978-01-05      M   25  NESSUN TITOLO DI STUDIO   \n",
       "4 1978-10-07      M   26  NESSUN TITOLO DI STUDIO   \n",
       "\n",
       "                                CONTRATTO              MODALITALAVORO  \\\n",
       "0  LAVORO DOMESTICO A TEMPO INDETERMINATO  TEMPO PARZIALE ORIZZONTALE   \n",
       "1  LAVORO DOMESTICO A TEMPO INDETERMINATO  TEMPO PARZIALE ORIZZONTALE   \n",
       "2  LAVORO DOMESTICO A TEMPO INDETERMINATO  TEMPO PARZIALE ORIZZONTALE   \n",
       "3  LAVORO DOMESTICO A TEMPO INDETERMINATO                 TEMPO PIENO   \n",
       "4  LAVORO DOMESTICO A TEMPO INDETERMINATO                 TEMPO PIENO   \n",
       "\n",
       "  PROVINCIAIMPRESA NAZIONALITA  \n",
       "0           MILANO      ITALIA  \n",
       "1           MILANO      ITALIA  \n",
       "2          BERGAMO      ITALIA  \n",
       "3           MILANO      ITALIA  \n",
       "4           MILANO      ITALIA  "
      ]
     },
     "execution_count": 250,
     "metadata": {},
     "output_type": "execute_result"
    }
   ],
   "source": [
    "activated_cleaned = pd.read_csv('./activated_labours_cleaned.csv', parse_dates=['DATA'])\n",
    "activated_cleaned.drop('Unnamed: 0', axis=1, inplace=True)\n",
    "# activated_cleaned.set_index('DATA', inplace=True)\n",
    "activated_cleaned.head()"
   ]
  },
  {
   "cell_type": "code",
   "execution_count": 253,
   "id": "570ffb6b",
   "metadata": {},
   "outputs": [
    {
     "data": {
      "text/plain": [
       "0         1973-02-01\n",
       "1         1974-11-06\n",
       "2         1976-01-10\n",
       "3         1978-01-05\n",
       "4         1978-10-07\n",
       "             ...    \n",
       "9579788   2021-10-06\n",
       "9579789   2021-10-06\n",
       "9579790   2021-10-06\n",
       "9579791   2021-10-06\n",
       "9579792   2021-10-06\n",
       "Name: DATA, Length: 9579793, dtype: datetime64[ns]"
      ]
     },
     "execution_count": 253,
     "metadata": {},
     "output_type": "execute_result"
    }
   ],
   "source": [
    "activated_cleaned.DATA"
   ]
  },
  {
   "cell_type": "markdown",
   "id": "fe71e95c",
   "metadata": {},
   "source": [
    "Create column **ANNO** for joining purposes"
   ]
  },
  {
   "cell_type": "code",
   "execution_count": 254,
   "id": "3b2a1977",
   "metadata": {},
   "outputs": [
    {
     "data": {
      "text/html": [
       "<div>\n",
       "<style scoped>\n",
       "    .dataframe tbody tr th:only-of-type {\n",
       "        vertical-align: middle;\n",
       "    }\n",
       "\n",
       "    .dataframe tbody tr th {\n",
       "        vertical-align: top;\n",
       "    }\n",
       "\n",
       "    .dataframe thead th {\n",
       "        text-align: right;\n",
       "    }\n",
       "</style>\n",
       "<table border=\"1\" class=\"dataframe\">\n",
       "  <thead>\n",
       "    <tr style=\"text-align: right;\">\n",
       "      <th></th>\n",
       "      <th>DATA</th>\n",
       "      <th>GENERE</th>\n",
       "      <th>ETA</th>\n",
       "      <th>TITOLOSTUDIO</th>\n",
       "      <th>CONTRATTO</th>\n",
       "      <th>MODALITALAVORO</th>\n",
       "      <th>PROVINCIAIMPRESA</th>\n",
       "      <th>NAZIONALITA</th>\n",
       "      <th>ANNO</th>\n",
       "    </tr>\n",
       "  </thead>\n",
       "  <tbody>\n",
       "    <tr>\n",
       "      <th>0</th>\n",
       "      <td>1973-02-01</td>\n",
       "      <td>F</td>\n",
       "      <td>20</td>\n",
       "      <td>NESSUN TITOLO DI STUDIO</td>\n",
       "      <td>LAVORO DOMESTICO A TEMPO INDETERMINATO</td>\n",
       "      <td>TEMPO PARZIALE ORIZZONTALE</td>\n",
       "      <td>MILANO</td>\n",
       "      <td>ITALIA</td>\n",
       "      <td>1973</td>\n",
       "    </tr>\n",
       "    <tr>\n",
       "      <th>1</th>\n",
       "      <td>1974-11-06</td>\n",
       "      <td>F</td>\n",
       "      <td>21</td>\n",
       "      <td>NESSUN TITOLO DI STUDIO</td>\n",
       "      <td>LAVORO DOMESTICO A TEMPO INDETERMINATO</td>\n",
       "      <td>TEMPO PARZIALE ORIZZONTALE</td>\n",
       "      <td>MILANO</td>\n",
       "      <td>ITALIA</td>\n",
       "      <td>1974</td>\n",
       "    </tr>\n",
       "    <tr>\n",
       "      <th>2</th>\n",
       "      <td>1976-01-10</td>\n",
       "      <td>F</td>\n",
       "      <td>21</td>\n",
       "      <td>NESSUN TITOLO DI STUDIO</td>\n",
       "      <td>LAVORO DOMESTICO A TEMPO INDETERMINATO</td>\n",
       "      <td>TEMPO PARZIALE ORIZZONTALE</td>\n",
       "      <td>BERGAMO</td>\n",
       "      <td>ITALIA</td>\n",
       "      <td>1976</td>\n",
       "    </tr>\n",
       "    <tr>\n",
       "      <th>3</th>\n",
       "      <td>1978-01-05</td>\n",
       "      <td>M</td>\n",
       "      <td>25</td>\n",
       "      <td>NESSUN TITOLO DI STUDIO</td>\n",
       "      <td>LAVORO DOMESTICO A TEMPO INDETERMINATO</td>\n",
       "      <td>TEMPO PIENO</td>\n",
       "      <td>MILANO</td>\n",
       "      <td>ITALIA</td>\n",
       "      <td>1978</td>\n",
       "    </tr>\n",
       "    <tr>\n",
       "      <th>4</th>\n",
       "      <td>1978-10-07</td>\n",
       "      <td>M</td>\n",
       "      <td>26</td>\n",
       "      <td>NESSUN TITOLO DI STUDIO</td>\n",
       "      <td>LAVORO DOMESTICO A TEMPO INDETERMINATO</td>\n",
       "      <td>TEMPO PIENO</td>\n",
       "      <td>MILANO</td>\n",
       "      <td>ITALIA</td>\n",
       "      <td>1978</td>\n",
       "    </tr>\n",
       "  </tbody>\n",
       "</table>\n",
       "</div>"
      ],
      "text/plain": [
       "        DATA GENERE  ETA             TITOLOSTUDIO  \\\n",
       "0 1973-02-01      F   20  NESSUN TITOLO DI STUDIO   \n",
       "1 1974-11-06      F   21  NESSUN TITOLO DI STUDIO   \n",
       "2 1976-01-10      F   21  NESSUN TITOLO DI STUDIO   \n",
       "3 1978-01-05      M   25  NESSUN TITOLO DI STUDIO   \n",
       "4 1978-10-07      M   26  NESSUN TITOLO DI STUDIO   \n",
       "\n",
       "                                CONTRATTO              MODALITALAVORO  \\\n",
       "0  LAVORO DOMESTICO A TEMPO INDETERMINATO  TEMPO PARZIALE ORIZZONTALE   \n",
       "1  LAVORO DOMESTICO A TEMPO INDETERMINATO  TEMPO PARZIALE ORIZZONTALE   \n",
       "2  LAVORO DOMESTICO A TEMPO INDETERMINATO  TEMPO PARZIALE ORIZZONTALE   \n",
       "3  LAVORO DOMESTICO A TEMPO INDETERMINATO                 TEMPO PIENO   \n",
       "4  LAVORO DOMESTICO A TEMPO INDETERMINATO                 TEMPO PIENO   \n",
       "\n",
       "  PROVINCIAIMPRESA NAZIONALITA  ANNO  \n",
       "0           MILANO      ITALIA  1973  \n",
       "1           MILANO      ITALIA  1974  \n",
       "2          BERGAMO      ITALIA  1976  \n",
       "3           MILANO      ITALIA  1978  \n",
       "4           MILANO      ITALIA  1978  "
      ]
     },
     "execution_count": 254,
     "metadata": {},
     "output_type": "execute_result"
    }
   ],
   "source": [
    "activated_cleaned['ANNO'] = pd.DatetimeIndex(activated_cleaned.DATA).year\n",
    "activated_cleaned.head()"
   ]
  },
  {
   "cell_type": "markdown",
   "id": "4d0ba007",
   "metadata": {},
   "source": [
    "Sesso, Titolo di studio, Qualifica contrattuale e Classe di dipendenti contengono come valore la stringa 'totale'"
   ]
  },
  {
   "cell_type": "code",
   "execution_count": 255,
   "id": "e7ca1ddd",
   "metadata": {},
   "outputs": [
    {
     "data": {
      "text/plain": [
       "array(['NESSUN TITOLO DI STUDIO', 'LICENZA MEDIA', 'LICENZA ELEMENTARE',\n",
       "       \"DIPLOMA DI ISTRUZIONE SECONDARIA SUPERIORE  CHE PERMETTE L'ACCESSO ALL'UNIVERSITA\",\n",
       "       'LAUREA - Vecchio o nuovo ordinamento',\n",
       "       \"TITOLO DI ISTRUZIONE SECONDARIA SUPERIORE (SCOLASTICA ED EXTRA-SCOLASTICA) CHE NON PERMETTE L'ACCESSO ALL'UNIVERSITÀ ()\",\n",
       "       'MASTER UNIVERSITARIO DI PRIMO LIVELLO',\n",
       "       'DIPLOMA TERZIARIO EXTRA-UNIVERSITARIO', 'DIPLOMA UNIVERSITARIO',\n",
       "       'DIPLOMA DI SPECIALIZZAZIONE', 'TITOLO DI DOTTORE DI RICERCA',\n",
       "       'TITOLO DI STUDIO POST-LAUREA'], dtype=object)"
      ]
     },
     "execution_count": 255,
     "metadata": {},
     "output_type": "execute_result"
    }
   ],
   "source": [
    "activated_cleaned['TITOLOSTUDIO'].unique()"
   ]
  },
  {
   "cell_type": "code",
   "execution_count": 260,
   "id": "a97777bb",
   "metadata": {},
   "outputs": [
    {
     "data": {
      "text/plain": [
       "array(['LAUREA E POST-LAUREA', 'DIPLOMA',\n",
       "       'NESSUN TITOLO DI STUDIO, LICENZA DI SCUOLA ELEMENTARE E MEDIA'],\n",
       "      dtype=object)"
      ]
     },
     "execution_count": 260,
     "metadata": {},
     "output_type": "execute_result"
    }
   ],
   "source": [
    "retributions4['TITOLOSTUDIO'].unique()"
   ]
  },
  {
   "cell_type": "code",
   "execution_count": 261,
   "id": "958a3b57",
   "metadata": {},
   "outputs": [
    {
     "data": {
      "text/html": [
       "<div>\n",
       "<style scoped>\n",
       "    .dataframe tbody tr th:only-of-type {\n",
       "        vertical-align: middle;\n",
       "    }\n",
       "\n",
       "    .dataframe tbody tr th {\n",
       "        vertical-align: top;\n",
       "    }\n",
       "\n",
       "    .dataframe thead th {\n",
       "        text-align: right;\n",
       "    }\n",
       "</style>\n",
       "<table border=\"1\" class=\"dataframe\">\n",
       "  <thead>\n",
       "    <tr style=\"text-align: right;\">\n",
       "      <th></th>\n",
       "      <th>DATA</th>\n",
       "      <th>GENERE</th>\n",
       "      <th>ETA</th>\n",
       "      <th>TITOLOSTUDIO</th>\n",
       "      <th>CONTRATTO</th>\n",
       "      <th>MODALITALAVORO</th>\n",
       "      <th>PROVINCIAIMPRESA</th>\n",
       "      <th>NAZIONALITA</th>\n",
       "      <th>ANNO</th>\n",
       "    </tr>\n",
       "  </thead>\n",
       "  <tbody>\n",
       "    <tr>\n",
       "      <th>0</th>\n",
       "      <td>1973-02-01</td>\n",
       "      <td>F</td>\n",
       "      <td>20</td>\n",
       "      <td>NESSUN TITOLO DI STUDIO, LICENZA DI SCUOLA ELE...</td>\n",
       "      <td>LAVORO DOMESTICO A TEMPO INDETERMINATO</td>\n",
       "      <td>TEMPO PARZIALE ORIZZONTALE</td>\n",
       "      <td>MILANO</td>\n",
       "      <td>ITALIA</td>\n",
       "      <td>1973</td>\n",
       "    </tr>\n",
       "    <tr>\n",
       "      <th>1</th>\n",
       "      <td>1974-11-06</td>\n",
       "      <td>F</td>\n",
       "      <td>21</td>\n",
       "      <td>NESSUN TITOLO DI STUDIO, LICENZA DI SCUOLA ELE...</td>\n",
       "      <td>LAVORO DOMESTICO A TEMPO INDETERMINATO</td>\n",
       "      <td>TEMPO PARZIALE ORIZZONTALE</td>\n",
       "      <td>MILANO</td>\n",
       "      <td>ITALIA</td>\n",
       "      <td>1974</td>\n",
       "    </tr>\n",
       "    <tr>\n",
       "      <th>2</th>\n",
       "      <td>1976-01-10</td>\n",
       "      <td>F</td>\n",
       "      <td>21</td>\n",
       "      <td>NESSUN TITOLO DI STUDIO, LICENZA DI SCUOLA ELE...</td>\n",
       "      <td>LAVORO DOMESTICO A TEMPO INDETERMINATO</td>\n",
       "      <td>TEMPO PARZIALE ORIZZONTALE</td>\n",
       "      <td>BERGAMO</td>\n",
       "      <td>ITALIA</td>\n",
       "      <td>1976</td>\n",
       "    </tr>\n",
       "    <tr>\n",
       "      <th>3</th>\n",
       "      <td>1978-01-05</td>\n",
       "      <td>M</td>\n",
       "      <td>25</td>\n",
       "      <td>NESSUN TITOLO DI STUDIO, LICENZA DI SCUOLA ELE...</td>\n",
       "      <td>LAVORO DOMESTICO A TEMPO INDETERMINATO</td>\n",
       "      <td>TEMPO PIENO</td>\n",
       "      <td>MILANO</td>\n",
       "      <td>ITALIA</td>\n",
       "      <td>1978</td>\n",
       "    </tr>\n",
       "    <tr>\n",
       "      <th>4</th>\n",
       "      <td>1978-10-07</td>\n",
       "      <td>M</td>\n",
       "      <td>26</td>\n",
       "      <td>NESSUN TITOLO DI STUDIO, LICENZA DI SCUOLA ELE...</td>\n",
       "      <td>LAVORO DOMESTICO A TEMPO INDETERMINATO</td>\n",
       "      <td>TEMPO PIENO</td>\n",
       "      <td>MILANO</td>\n",
       "      <td>ITALIA</td>\n",
       "      <td>1978</td>\n",
       "    </tr>\n",
       "  </tbody>\n",
       "</table>\n",
       "</div>"
      ],
      "text/plain": [
       "        DATA GENERE  ETA                                       TITOLOSTUDIO  \\\n",
       "0 1973-02-01      F   20  NESSUN TITOLO DI STUDIO, LICENZA DI SCUOLA ELE...   \n",
       "1 1974-11-06      F   21  NESSUN TITOLO DI STUDIO, LICENZA DI SCUOLA ELE...   \n",
       "2 1976-01-10      F   21  NESSUN TITOLO DI STUDIO, LICENZA DI SCUOLA ELE...   \n",
       "3 1978-01-05      M   25  NESSUN TITOLO DI STUDIO, LICENZA DI SCUOLA ELE...   \n",
       "4 1978-10-07      M   26  NESSUN TITOLO DI STUDIO, LICENZA DI SCUOLA ELE...   \n",
       "\n",
       "                                CONTRATTO              MODALITALAVORO  \\\n",
       "0  LAVORO DOMESTICO A TEMPO INDETERMINATO  TEMPO PARZIALE ORIZZONTALE   \n",
       "1  LAVORO DOMESTICO A TEMPO INDETERMINATO  TEMPO PARZIALE ORIZZONTALE   \n",
       "2  LAVORO DOMESTICO A TEMPO INDETERMINATO  TEMPO PARZIALE ORIZZONTALE   \n",
       "3  LAVORO DOMESTICO A TEMPO INDETERMINATO                 TEMPO PIENO   \n",
       "4  LAVORO DOMESTICO A TEMPO INDETERMINATO                 TEMPO PIENO   \n",
       "\n",
       "  PROVINCIAIMPRESA NAZIONALITA  ANNO  \n",
       "0           MILANO      ITALIA  1973  \n",
       "1           MILANO      ITALIA  1974  \n",
       "2          BERGAMO      ITALIA  1976  \n",
       "3           MILANO      ITALIA  1978  \n",
       "4           MILANO      ITALIA  1978  "
      ]
     },
     "execution_count": 261,
     "metadata": {},
     "output_type": "execute_result"
    }
   ],
   "source": [
    "study_titles_map = {'NESSUN TITOLO DI STUDIO': 'NESSUN TITOLO DI STUDIO, LICENZA DI SCUOLA ELEMENTARE E MEDIA',\n",
    "                    'LICENZA MEDIA': 'NESSUN TITOLO DI STUDIO, LICENZA DI SCUOLA ELEMENTARE E MEDIA',\n",
    "                    'LICENZA ELEMENTARE': 'NESSUN TITOLO DI STUDIO, LICENZA DI SCUOLA ELEMENTARE E MEDIA',\n",
    "                    'LAUREA': 'LAUREA E POST-LAUREA',\n",
    "                    'LAUREA - Vecchio o nuovo ordinamento': 'LAUREA E POST-LAUREA',\n",
    "                    'TITOLO DI STUDIO POST-LAUREA': 'LAUREA E POST-LAUREA',\n",
    "                    'DIPLOMA DI ISTRUZIONE SECONDARIA SUPERIORE  CHE PERMETTE L\\'ACCESSO ALL\\'UNIVERSITA': 'DIPLOMA DI ISTRUZIONE SECONDARIA SUPERIORE, TERZIARIO EXTRA-UNIVERSITARIO, UNIVERSITARIO',\n",
    "                    'DIPLOMA TERZIARIO EXTRA-UNIVERSITARIO': 'DIPLOMA DI ISTRUZIONE SECONDARIA SUPERIORE, TERZIARIO EXTRA-UNIVERSITARIO, UNIVERSITARIO',\n",
    "                    'DIPLOMA UNIVERSITARIO' : 'DIPLOMA DI ISTRUZIONE SECONDARIA SUPERIORE, TERZIARIO EXTRA-UNIVERSITARIO, UNIVERSITARIO'}\n",
    "activated_cleaned['TITOLOSTUDIO'] = activated_cleaned['TITOLOSTUDIO'].replace(study_titles_map)\n",
    "activated_cleaned.head()"
   ]
  },
  {
   "cell_type": "code",
   "execution_count": 262,
   "id": "cbd96a3e",
   "metadata": {},
   "outputs": [
    {
     "data": {
      "text/html": [
       "<div>\n",
       "<style scoped>\n",
       "    .dataframe tbody tr th:only-of-type {\n",
       "        vertical-align: middle;\n",
       "    }\n",
       "\n",
       "    .dataframe tbody tr th {\n",
       "        vertical-align: top;\n",
       "    }\n",
       "\n",
       "    .dataframe thead th {\n",
       "        text-align: right;\n",
       "    }\n",
       "</style>\n",
       "<table border=\"1\" class=\"dataframe\">\n",
       "  <thead>\n",
       "    <tr style=\"text-align: right;\">\n",
       "      <th></th>\n",
       "      <th>GENERE</th>\n",
       "      <th>TITOLOSTUDIO</th>\n",
       "      <th>QUALIFICA CONTRATTUALE</th>\n",
       "      <th>ATECO 2007</th>\n",
       "      <th>ANNO</th>\n",
       "      <th>VALUE</th>\n",
       "    </tr>\n",
       "  </thead>\n",
       "  <tbody>\n",
       "    <tr>\n",
       "      <th>0</th>\n",
       "      <td>M</td>\n",
       "      <td>LAUREA E POST-LAUREA</td>\n",
       "      <td>OPERAIO</td>\n",
       "      <td>ESTRAZIONE DI MINERALI DA CAVE E MINIERE</td>\n",
       "      <td>2014</td>\n",
       "      <td>13.10</td>\n",
       "    </tr>\n",
       "    <tr>\n",
       "      <th>1</th>\n",
       "      <td>M</td>\n",
       "      <td>LAUREA E POST-LAUREA</td>\n",
       "      <td>OPERAIO</td>\n",
       "      <td>ESTRAZIONE DI MINERALI DA CAVE E MINIERE</td>\n",
       "      <td>2015</td>\n",
       "      <td>12.44</td>\n",
       "    </tr>\n",
       "    <tr>\n",
       "      <th>5</th>\n",
       "      <td>M</td>\n",
       "      <td>LAUREA E POST-LAUREA</td>\n",
       "      <td>OPERAIO</td>\n",
       "      <td>ESTRAZIONE DI MINERALI DA CAVE E MINIERE</td>\n",
       "      <td>2019</td>\n",
       "      <td>13.74</td>\n",
       "    </tr>\n",
       "    <tr>\n",
       "      <th>9</th>\n",
       "      <td>M</td>\n",
       "      <td>LAUREA E POST-LAUREA</td>\n",
       "      <td>APPRENDISTA</td>\n",
       "      <td>ESTRAZIONE DI MINERALI DA CAVE E MINIERE</td>\n",
       "      <td>2017</td>\n",
       "      <td>19.60</td>\n",
       "    </tr>\n",
       "    <tr>\n",
       "      <th>10</th>\n",
       "      <td>M</td>\n",
       "      <td>LAUREA E POST-LAUREA</td>\n",
       "      <td>APPRENDISTA</td>\n",
       "      <td>ESTRAZIONE DI MINERALI DA CAVE E MINIERE</td>\n",
       "      <td>2018</td>\n",
       "      <td>18.24</td>\n",
       "    </tr>\n",
       "  </tbody>\n",
       "</table>\n",
       "</div>"
      ],
      "text/plain": [
       "   GENERE          TITOLOSTUDIO QUALIFICA CONTRATTUALE  \\\n",
       "0       M  LAUREA E POST-LAUREA                OPERAIO   \n",
       "1       M  LAUREA E POST-LAUREA                OPERAIO   \n",
       "5       M  LAUREA E POST-LAUREA                OPERAIO   \n",
       "9       M  LAUREA E POST-LAUREA            APPRENDISTA   \n",
       "10      M  LAUREA E POST-LAUREA            APPRENDISTA   \n",
       "\n",
       "                                  ATECO 2007  ANNO  VALUE  \n",
       "0   ESTRAZIONE DI MINERALI DA CAVE E MINIERE  2014  13.10  \n",
       "1   ESTRAZIONE DI MINERALI DA CAVE E MINIERE  2015  12.44  \n",
       "5   ESTRAZIONE DI MINERALI DA CAVE E MINIERE  2019  13.74  \n",
       "9   ESTRAZIONE DI MINERALI DA CAVE E MINIERE  2017  19.60  \n",
       "10  ESTRAZIONE DI MINERALI DA CAVE E MINIERE  2018  18.24  "
      ]
     },
     "execution_count": 262,
     "metadata": {},
     "output_type": "execute_result"
    }
   ],
   "source": [
    "retributions4['TITOLOSTUDIO'] = retributions4['TITOLOSTUDIO'].replace({'DIPLOMA': 'DIPLOMA DI ISTRUZIONE SECONDARIA SUPERIORE, TERZIARIO EXTRA-UNIVERSITARIO, UNIVERSITARIO'})\n",
    "retributions4.head()"
   ]
  },
  {
   "cell_type": "code",
   "execution_count": 263,
   "id": "f51e61d8",
   "metadata": {},
   "outputs": [
    {
     "data": {
      "text/html": [
       "<div>\n",
       "<style scoped>\n",
       "    .dataframe tbody tr th:only-of-type {\n",
       "        vertical-align: middle;\n",
       "    }\n",
       "\n",
       "    .dataframe tbody tr th {\n",
       "        vertical-align: top;\n",
       "    }\n",
       "\n",
       "    .dataframe thead th {\n",
       "        text-align: right;\n",
       "    }\n",
       "</style>\n",
       "<table border=\"1\" class=\"dataframe\">\n",
       "  <thead>\n",
       "    <tr style=\"text-align: right;\">\n",
       "      <th></th>\n",
       "      <th>DATA</th>\n",
       "      <th>GENERE</th>\n",
       "      <th>ETA</th>\n",
       "      <th>TITOLOSTUDIO</th>\n",
       "      <th>CONTRATTO</th>\n",
       "      <th>MODALITALAVORO</th>\n",
       "      <th>PROVINCIAIMPRESA</th>\n",
       "      <th>NAZIONALITA</th>\n",
       "    </tr>\n",
       "    <tr>\n",
       "      <th>ANNO</th>\n",
       "      <th></th>\n",
       "      <th></th>\n",
       "      <th></th>\n",
       "      <th></th>\n",
       "      <th></th>\n",
       "      <th></th>\n",
       "      <th></th>\n",
       "      <th></th>\n",
       "    </tr>\n",
       "  </thead>\n",
       "  <tbody>\n",
       "    <tr>\n",
       "      <th>1973</th>\n",
       "      <td>1</td>\n",
       "      <td>1</td>\n",
       "      <td>1</td>\n",
       "      <td>1</td>\n",
       "      <td>1</td>\n",
       "      <td>1</td>\n",
       "      <td>1</td>\n",
       "      <td>1</td>\n",
       "    </tr>\n",
       "    <tr>\n",
       "      <th>1974</th>\n",
       "      <td>1</td>\n",
       "      <td>1</td>\n",
       "      <td>1</td>\n",
       "      <td>1</td>\n",
       "      <td>1</td>\n",
       "      <td>1</td>\n",
       "      <td>1</td>\n",
       "      <td>1</td>\n",
       "    </tr>\n",
       "    <tr>\n",
       "      <th>1976</th>\n",
       "      <td>1</td>\n",
       "      <td>1</td>\n",
       "      <td>1</td>\n",
       "      <td>1</td>\n",
       "      <td>1</td>\n",
       "      <td>1</td>\n",
       "      <td>1</td>\n",
       "      <td>1</td>\n",
       "    </tr>\n",
       "    <tr>\n",
       "      <th>1978</th>\n",
       "      <td>2</td>\n",
       "      <td>2</td>\n",
       "      <td>2</td>\n",
       "      <td>2</td>\n",
       "      <td>2</td>\n",
       "      <td>2</td>\n",
       "      <td>2</td>\n",
       "      <td>2</td>\n",
       "    </tr>\n",
       "    <tr>\n",
       "      <th>1979</th>\n",
       "      <td>1</td>\n",
       "      <td>1</td>\n",
       "      <td>1</td>\n",
       "      <td>1</td>\n",
       "      <td>1</td>\n",
       "      <td>1</td>\n",
       "      <td>1</td>\n",
       "      <td>1</td>\n",
       "    </tr>\n",
       "    <tr>\n",
       "      <th>1980</th>\n",
       "      <td>1</td>\n",
       "      <td>1</td>\n",
       "      <td>1</td>\n",
       "      <td>1</td>\n",
       "      <td>1</td>\n",
       "      <td>1</td>\n",
       "      <td>1</td>\n",
       "      <td>1</td>\n",
       "    </tr>\n",
       "    <tr>\n",
       "      <th>1981</th>\n",
       "      <td>1</td>\n",
       "      <td>1</td>\n",
       "      <td>1</td>\n",
       "      <td>1</td>\n",
       "      <td>1</td>\n",
       "      <td>1</td>\n",
       "      <td>1</td>\n",
       "      <td>1</td>\n",
       "    </tr>\n",
       "    <tr>\n",
       "      <th>1982</th>\n",
       "      <td>1</td>\n",
       "      <td>1</td>\n",
       "      <td>1</td>\n",
       "      <td>1</td>\n",
       "      <td>1</td>\n",
       "      <td>1</td>\n",
       "      <td>1</td>\n",
       "      <td>1</td>\n",
       "    </tr>\n",
       "    <tr>\n",
       "      <th>1988</th>\n",
       "      <td>1</td>\n",
       "      <td>1</td>\n",
       "      <td>1</td>\n",
       "      <td>1</td>\n",
       "      <td>1</td>\n",
       "      <td>1</td>\n",
       "      <td>1</td>\n",
       "      <td>1</td>\n",
       "    </tr>\n",
       "    <tr>\n",
       "      <th>1996</th>\n",
       "      <td>1</td>\n",
       "      <td>1</td>\n",
       "      <td>1</td>\n",
       "      <td>1</td>\n",
       "      <td>1</td>\n",
       "      <td>1</td>\n",
       "      <td>1</td>\n",
       "      <td>1</td>\n",
       "    </tr>\n",
       "    <tr>\n",
       "      <th>1997</th>\n",
       "      <td>2</td>\n",
       "      <td>2</td>\n",
       "      <td>2</td>\n",
       "      <td>2</td>\n",
       "      <td>2</td>\n",
       "      <td>2</td>\n",
       "      <td>2</td>\n",
       "      <td>2</td>\n",
       "    </tr>\n",
       "    <tr>\n",
       "      <th>1999</th>\n",
       "      <td>1</td>\n",
       "      <td>1</td>\n",
       "      <td>1</td>\n",
       "      <td>1</td>\n",
       "      <td>1</td>\n",
       "      <td>1</td>\n",
       "      <td>1</td>\n",
       "      <td>1</td>\n",
       "    </tr>\n",
       "    <tr>\n",
       "      <th>2001</th>\n",
       "      <td>38</td>\n",
       "      <td>38</td>\n",
       "      <td>38</td>\n",
       "      <td>38</td>\n",
       "      <td>38</td>\n",
       "      <td>38</td>\n",
       "      <td>38</td>\n",
       "      <td>38</td>\n",
       "    </tr>\n",
       "    <tr>\n",
       "      <th>2003</th>\n",
       "      <td>2</td>\n",
       "      <td>2</td>\n",
       "      <td>2</td>\n",
       "      <td>2</td>\n",
       "      <td>2</td>\n",
       "      <td>2</td>\n",
       "      <td>2</td>\n",
       "      <td>2</td>\n",
       "    </tr>\n",
       "    <tr>\n",
       "      <th>2004</th>\n",
       "      <td>2</td>\n",
       "      <td>2</td>\n",
       "      <td>2</td>\n",
       "      <td>2</td>\n",
       "      <td>2</td>\n",
       "      <td>2</td>\n",
       "      <td>2</td>\n",
       "      <td>2</td>\n",
       "    </tr>\n",
       "    <tr>\n",
       "      <th>2005</th>\n",
       "      <td>1</td>\n",
       "      <td>1</td>\n",
       "      <td>1</td>\n",
       "      <td>1</td>\n",
       "      <td>1</td>\n",
       "      <td>1</td>\n",
       "      <td>1</td>\n",
       "      <td>1</td>\n",
       "    </tr>\n",
       "    <tr>\n",
       "      <th>2006</th>\n",
       "      <td>3</td>\n",
       "      <td>3</td>\n",
       "      <td>3</td>\n",
       "      <td>3</td>\n",
       "      <td>3</td>\n",
       "      <td>3</td>\n",
       "      <td>3</td>\n",
       "      <td>3</td>\n",
       "    </tr>\n",
       "    <tr>\n",
       "      <th>2007</th>\n",
       "      <td>6</td>\n",
       "      <td>6</td>\n",
       "      <td>6</td>\n",
       "      <td>6</td>\n",
       "      <td>6</td>\n",
       "      <td>6</td>\n",
       "      <td>6</td>\n",
       "      <td>6</td>\n",
       "    </tr>\n",
       "    <tr>\n",
       "      <th>2008</th>\n",
       "      <td>1590</td>\n",
       "      <td>1590</td>\n",
       "      <td>1590</td>\n",
       "      <td>1590</td>\n",
       "      <td>1590</td>\n",
       "      <td>1590</td>\n",
       "      <td>1590</td>\n",
       "      <td>1590</td>\n",
       "    </tr>\n",
       "    <tr>\n",
       "      <th>2009</th>\n",
       "      <td>397507</td>\n",
       "      <td>397507</td>\n",
       "      <td>397507</td>\n",
       "      <td>397507</td>\n",
       "      <td>397507</td>\n",
       "      <td>397507</td>\n",
       "      <td>397507</td>\n",
       "      <td>397507</td>\n",
       "    </tr>\n",
       "    <tr>\n",
       "      <th>2010</th>\n",
       "      <td>793129</td>\n",
       "      <td>793129</td>\n",
       "      <td>793129</td>\n",
       "      <td>793129</td>\n",
       "      <td>793129</td>\n",
       "      <td>793129</td>\n",
       "      <td>793129</td>\n",
       "      <td>793129</td>\n",
       "    </tr>\n",
       "    <tr>\n",
       "      <th>2011</th>\n",
       "      <td>858716</td>\n",
       "      <td>858716</td>\n",
       "      <td>858716</td>\n",
       "      <td>858716</td>\n",
       "      <td>858716</td>\n",
       "      <td>858716</td>\n",
       "      <td>858716</td>\n",
       "      <td>858716</td>\n",
       "    </tr>\n",
       "    <tr>\n",
       "      <th>2012</th>\n",
       "      <td>763733</td>\n",
       "      <td>763733</td>\n",
       "      <td>763733</td>\n",
       "      <td>763733</td>\n",
       "      <td>763733</td>\n",
       "      <td>763733</td>\n",
       "      <td>763733</td>\n",
       "      <td>763733</td>\n",
       "    </tr>\n",
       "    <tr>\n",
       "      <th>2013</th>\n",
       "      <td>673152</td>\n",
       "      <td>673152</td>\n",
       "      <td>673152</td>\n",
       "      <td>673152</td>\n",
       "      <td>673152</td>\n",
       "      <td>673152</td>\n",
       "      <td>673152</td>\n",
       "      <td>673152</td>\n",
       "    </tr>\n",
       "    <tr>\n",
       "      <th>2014</th>\n",
       "      <td>689300</td>\n",
       "      <td>689300</td>\n",
       "      <td>689300</td>\n",
       "      <td>689300</td>\n",
       "      <td>689300</td>\n",
       "      <td>689300</td>\n",
       "      <td>689300</td>\n",
       "      <td>689300</td>\n",
       "    </tr>\n",
       "    <tr>\n",
       "      <th>2015</th>\n",
       "      <td>757895</td>\n",
       "      <td>757895</td>\n",
       "      <td>757895</td>\n",
       "      <td>757895</td>\n",
       "      <td>757895</td>\n",
       "      <td>757895</td>\n",
       "      <td>757895</td>\n",
       "      <td>757895</td>\n",
       "    </tr>\n",
       "    <tr>\n",
       "      <th>2016</th>\n",
       "      <td>761881</td>\n",
       "      <td>761881</td>\n",
       "      <td>761881</td>\n",
       "      <td>761881</td>\n",
       "      <td>761881</td>\n",
       "      <td>761881</td>\n",
       "      <td>761881</td>\n",
       "      <td>761881</td>\n",
       "    </tr>\n",
       "    <tr>\n",
       "      <th>2017</th>\n",
       "      <td>847079</td>\n",
       "      <td>847079</td>\n",
       "      <td>847079</td>\n",
       "      <td>847079</td>\n",
       "      <td>847079</td>\n",
       "      <td>847079</td>\n",
       "      <td>847079</td>\n",
       "      <td>847079</td>\n",
       "    </tr>\n",
       "    <tr>\n",
       "      <th>2018</th>\n",
       "      <td>899082</td>\n",
       "      <td>899082</td>\n",
       "      <td>899082</td>\n",
       "      <td>899082</td>\n",
       "      <td>899082</td>\n",
       "      <td>899082</td>\n",
       "      <td>899082</td>\n",
       "      <td>899082</td>\n",
       "    </tr>\n",
       "    <tr>\n",
       "      <th>2019</th>\n",
       "      <td>874079</td>\n",
       "      <td>874079</td>\n",
       "      <td>874079</td>\n",
       "      <td>874079</td>\n",
       "      <td>874079</td>\n",
       "      <td>874079</td>\n",
       "      <td>874079</td>\n",
       "      <td>874079</td>\n",
       "    </tr>\n",
       "    <tr>\n",
       "      <th>2020</th>\n",
       "      <td>640133</td>\n",
       "      <td>640133</td>\n",
       "      <td>640133</td>\n",
       "      <td>640133</td>\n",
       "      <td>640133</td>\n",
       "      <td>640133</td>\n",
       "      <td>640133</td>\n",
       "      <td>640133</td>\n",
       "    </tr>\n",
       "    <tr>\n",
       "      <th>2021</th>\n",
       "      <td>622451</td>\n",
       "      <td>622451</td>\n",
       "      <td>622451</td>\n",
       "      <td>622451</td>\n",
       "      <td>622451</td>\n",
       "      <td>622451</td>\n",
       "      <td>622451</td>\n",
       "      <td>622451</td>\n",
       "    </tr>\n",
       "  </tbody>\n",
       "</table>\n",
       "</div>"
      ],
      "text/plain": [
       "        DATA  GENERE     ETA  TITOLOSTUDIO  CONTRATTO  MODALITALAVORO  \\\n",
       "ANNO                                                                    \n",
       "1973       1       1       1             1          1               1   \n",
       "1974       1       1       1             1          1               1   \n",
       "1976       1       1       1             1          1               1   \n",
       "1978       2       2       2             2          2               2   \n",
       "1979       1       1       1             1          1               1   \n",
       "1980       1       1       1             1          1               1   \n",
       "1981       1       1       1             1          1               1   \n",
       "1982       1       1       1             1          1               1   \n",
       "1988       1       1       1             1          1               1   \n",
       "1996       1       1       1             1          1               1   \n",
       "1997       2       2       2             2          2               2   \n",
       "1999       1       1       1             1          1               1   \n",
       "2001      38      38      38            38         38              38   \n",
       "2003       2       2       2             2          2               2   \n",
       "2004       2       2       2             2          2               2   \n",
       "2005       1       1       1             1          1               1   \n",
       "2006       3       3       3             3          3               3   \n",
       "2007       6       6       6             6          6               6   \n",
       "2008    1590    1590    1590          1590       1590            1590   \n",
       "2009  397507  397507  397507        397507     397507          397507   \n",
       "2010  793129  793129  793129        793129     793129          793129   \n",
       "2011  858716  858716  858716        858716     858716          858716   \n",
       "2012  763733  763733  763733        763733     763733          763733   \n",
       "2013  673152  673152  673152        673152     673152          673152   \n",
       "2014  689300  689300  689300        689300     689300          689300   \n",
       "2015  757895  757895  757895        757895     757895          757895   \n",
       "2016  761881  761881  761881        761881     761881          761881   \n",
       "2017  847079  847079  847079        847079     847079          847079   \n",
       "2018  899082  899082  899082        899082     899082          899082   \n",
       "2019  874079  874079  874079        874079     874079          874079   \n",
       "2020  640133  640133  640133        640133     640133          640133   \n",
       "2021  622451  622451  622451        622451     622451          622451   \n",
       "\n",
       "      PROVINCIAIMPRESA  NAZIONALITA  \n",
       "ANNO                                 \n",
       "1973                 1            1  \n",
       "1974                 1            1  \n",
       "1976                 1            1  \n",
       "1978                 2            2  \n",
       "1979                 1            1  \n",
       "1980                 1            1  \n",
       "1981                 1            1  \n",
       "1982                 1            1  \n",
       "1988                 1            1  \n",
       "1996                 1            1  \n",
       "1997                 2            2  \n",
       "1999                 1            1  \n",
       "2001                38           38  \n",
       "2003                 2            2  \n",
       "2004                 2            2  \n",
       "2005                 1            1  \n",
       "2006                 3            3  \n",
       "2007                 6            6  \n",
       "2008              1590         1590  \n",
       "2009            397507       397507  \n",
       "2010            793129       793129  \n",
       "2011            858716       858716  \n",
       "2012            763733       763733  \n",
       "2013            673152       673152  \n",
       "2014            689300       689300  \n",
       "2015            757895       757895  \n",
       "2016            761881       761881  \n",
       "2017            847079       847079  \n",
       "2018            899082       899082  \n",
       "2019            874079       874079  \n",
       "2020            640133       640133  \n",
       "2021            622451       622451  "
      ]
     },
     "execution_count": 263,
     "metadata": {},
     "output_type": "execute_result"
    }
   ],
   "source": [
    "activated_cleaned.groupby('ANNO').count()"
   ]
  },
  {
   "cell_type": "markdown",
   "id": "c824dc0c",
   "metadata": {},
   "source": [
    "Keep only the records after 2008(excluded) in both dataframes. For the retributions dataframe this requisite is already satisfied."
   ]
  },
  {
   "cell_type": "code",
   "execution_count": 264,
   "id": "ae78aea0",
   "metadata": {},
   "outputs": [
    {
     "data": {
      "text/plain": [
       "array([2009, 2010, 2011, 2012, 2013, 2014, 2015, 2016, 2017, 2018, 2019,\n",
       "       2020, 2021])"
      ]
     },
     "execution_count": 264,
     "metadata": {},
     "output_type": "execute_result"
    }
   ],
   "source": [
    "activated_cleaned = activated_cleaned[activated_cleaned['ANNO'] > 2008]\n",
    "activated_cleaned.ANNO.unique()"
   ]
  },
  {
   "cell_type": "markdown",
   "id": "4efa15c8",
   "metadata": {},
   "source": [
    "### Make the join"
   ]
  },
  {
   "cell_type": "code",
   "execution_count": 265,
   "id": "693f78a2",
   "metadata": {},
   "outputs": [
    {
     "data": {
      "text/plain": [
       "['GENERE', 'TITOLOSTUDIO', 'ANNO']"
      ]
     },
     "execution_count": 265,
     "metadata": {},
     "output_type": "execute_result"
    }
   ],
   "source": [
    "intersection = []\n",
    "for col in retributions4.columns:\n",
    "    if col in activated_cleaned.columns:\n",
    "        intersection.append(col)\n",
    "intersection"
   ]
  },
  {
   "cell_type": "markdown",
   "id": "8d5928b1",
   "metadata": {},
   "source": [
    "Checking..."
   ]
  },
  {
   "cell_type": "code",
   "execution_count": 266,
   "id": "a2d2a4c5",
   "metadata": {},
   "outputs": [
    {
     "data": {
      "text/plain": [
       "GENERE                     object\n",
       "TITOLOSTUDIO               object\n",
       "QUALIFICA CONTRATTUALE     object\n",
       "ATECO 2007                 object\n",
       "ANNO                        int64\n",
       "VALUE                     float64\n",
       "dtype: object"
      ]
     },
     "execution_count": 266,
     "metadata": {},
     "output_type": "execute_result"
    }
   ],
   "source": [
    "retributions4.dtypes"
   ]
  },
  {
   "cell_type": "code",
   "execution_count": 267,
   "id": "b53f4fe9",
   "metadata": {},
   "outputs": [
    {
     "data": {
      "text/plain": [
       "DATA                datetime64[ns]\n",
       "GENERE                      object\n",
       "ETA                          int64\n",
       "TITOLOSTUDIO                object\n",
       "CONTRATTO                   object\n",
       "MODALITALAVORO              object\n",
       "PROVINCIAIMPRESA            object\n",
       "NAZIONALITA                 object\n",
       "ANNO                         int64\n",
       "dtype: object"
      ]
     },
     "execution_count": 267,
     "metadata": {},
     "output_type": "execute_result"
    }
   ],
   "source": [
    "activated_cleaned.dtypes"
   ]
  },
  {
   "cell_type": "code",
   "execution_count": 268,
   "id": "7d2990e9",
   "metadata": {},
   "outputs": [
    {
     "name": "stdout",
     "output_type": "stream",
     "text": [
      "True True True\n"
     ]
    }
   ],
   "source": [
    "contained1 = True\n",
    "for value in retributions4['GENERE'].unique():\n",
    "    if value not in activated_cleaned['GENERE'].unique():\n",
    "        contained1 = False\n",
    "        print(value)\n",
    "        \n",
    "contained2 = True\n",
    "for value in retributions4['TITOLOSTUDIO'].unique():\n",
    "    if value not in activated_cleaned['TITOLOSTUDIO'].unique():\n",
    "        contained2 = False\n",
    "        print(value)\n",
    "        \n",
    "contained3 = True\n",
    "for value in retributions4['ANNO'].unique():\n",
    "    if value not in activated_cleaned['ANNO'].unique():\n",
    "        contained3 = False\n",
    "        print(value)\n",
    "        \n",
    "print(contained1, contained2, contained3)"
   ]
  },
  {
   "cell_type": "code",
   "execution_count": 269,
   "id": "5bbf1c8a",
   "metadata": {},
   "outputs": [
    {
     "ename": "ValueError",
     "evalue": "len(left_on) must equal the number of levels in the index of \"right\"",
     "output_type": "error",
     "traceback": [
      "\u001b[0;31m---------------------------------------------------------------------------\u001b[0m",
      "\u001b[0;31mValueError\u001b[0m                                Traceback (most recent call last)",
      "\u001b[0;32m/tmp/ipykernel_3968/96410647.py\u001b[0m in \u001b[0;36m<module>\u001b[0;34m\u001b[0m\n\u001b[0;32m----> 1\u001b[0;31m \u001b[0mfull_dataset\u001b[0m \u001b[0;34m=\u001b[0m \u001b[0mactivated_cleaned\u001b[0m\u001b[0;34m.\u001b[0m\u001b[0mjoin\u001b[0m\u001b[0;34m(\u001b[0m\u001b[0mretributions\u001b[0m\u001b[0;34m,\u001b[0m \u001b[0mon\u001b[0m\u001b[0;34m=\u001b[0m\u001b[0mintersection\u001b[0m\u001b[0;34m,\u001b[0m \u001b[0mhow\u001b[0m\u001b[0;34m=\u001b[0m\u001b[0;34m'outer'\u001b[0m\u001b[0;34m)\u001b[0m\u001b[0;34m\u001b[0m\u001b[0;34m\u001b[0m\u001b[0m\n\u001b[0m\u001b[1;32m      2\u001b[0m \u001b[0mfull_dataset\u001b[0m\u001b[0;34m.\u001b[0m\u001b[0mcolumns\u001b[0m\u001b[0;34m\u001b[0m\u001b[0;34m\u001b[0m\u001b[0m\n",
      "\u001b[0;32m~/anaconda3/lib/python3.9/site-packages/pandas/core/frame.py\u001b[0m in \u001b[0;36mjoin\u001b[0;34m(self, other, on, how, lsuffix, rsuffix, sort)\u001b[0m\n\u001b[1;32m   9097\u001b[0m         \u001b[0;36m5\u001b[0m  \u001b[0mK5\u001b[0m  \u001b[0mA5\u001b[0m  \u001b[0mNaN\u001b[0m\u001b[0;34m\u001b[0m\u001b[0;34m\u001b[0m\u001b[0m\n\u001b[1;32m   9098\u001b[0m         \"\"\"\n\u001b[0;32m-> 9099\u001b[0;31m         return self._join_compat(\n\u001b[0m\u001b[1;32m   9100\u001b[0m             \u001b[0mother\u001b[0m\u001b[0;34m,\u001b[0m \u001b[0mon\u001b[0m\u001b[0;34m=\u001b[0m\u001b[0mon\u001b[0m\u001b[0;34m,\u001b[0m \u001b[0mhow\u001b[0m\u001b[0;34m=\u001b[0m\u001b[0mhow\u001b[0m\u001b[0;34m,\u001b[0m \u001b[0mlsuffix\u001b[0m\u001b[0;34m=\u001b[0m\u001b[0mlsuffix\u001b[0m\u001b[0;34m,\u001b[0m \u001b[0mrsuffix\u001b[0m\u001b[0;34m=\u001b[0m\u001b[0mrsuffix\u001b[0m\u001b[0;34m,\u001b[0m \u001b[0msort\u001b[0m\u001b[0;34m=\u001b[0m\u001b[0msort\u001b[0m\u001b[0;34m\u001b[0m\u001b[0;34m\u001b[0m\u001b[0m\n\u001b[1;32m   9101\u001b[0m         )\n",
      "\u001b[0;32m~/anaconda3/lib/python3.9/site-packages/pandas/core/frame.py\u001b[0m in \u001b[0;36m_join_compat\u001b[0;34m(self, other, on, how, lsuffix, rsuffix, sort)\u001b[0m\n\u001b[1;32m   9128\u001b[0m                     \u001b[0msort\u001b[0m\u001b[0;34m=\u001b[0m\u001b[0msort\u001b[0m\u001b[0;34m,\u001b[0m\u001b[0;34m\u001b[0m\u001b[0;34m\u001b[0m\u001b[0m\n\u001b[1;32m   9129\u001b[0m                 )\n\u001b[0;32m-> 9130\u001b[0;31m             return merge(\n\u001b[0m\u001b[1;32m   9131\u001b[0m                 \u001b[0mself\u001b[0m\u001b[0;34m,\u001b[0m\u001b[0;34m\u001b[0m\u001b[0;34m\u001b[0m\u001b[0m\n\u001b[1;32m   9132\u001b[0m                 \u001b[0mother\u001b[0m\u001b[0;34m,\u001b[0m\u001b[0;34m\u001b[0m\u001b[0;34m\u001b[0m\u001b[0m\n",
      "\u001b[0;32m~/anaconda3/lib/python3.9/site-packages/pandas/core/reshape/merge.py\u001b[0m in \u001b[0;36mmerge\u001b[0;34m(left, right, how, on, left_on, right_on, left_index, right_index, sort, suffixes, copy, indicator, validate)\u001b[0m\n\u001b[1;32m    104\u001b[0m     \u001b[0mvalidate\u001b[0m\u001b[0;34m:\u001b[0m \u001b[0mstr\u001b[0m \u001b[0;34m|\u001b[0m \u001b[0;32mNone\u001b[0m \u001b[0;34m=\u001b[0m \u001b[0;32mNone\u001b[0m\u001b[0;34m,\u001b[0m\u001b[0;34m\u001b[0m\u001b[0;34m\u001b[0m\u001b[0m\n\u001b[1;32m    105\u001b[0m ) -> DataFrame:\n\u001b[0;32m--> 106\u001b[0;31m     op = _MergeOperation(\n\u001b[0m\u001b[1;32m    107\u001b[0m         \u001b[0mleft\u001b[0m\u001b[0;34m,\u001b[0m\u001b[0;34m\u001b[0m\u001b[0;34m\u001b[0m\u001b[0m\n\u001b[1;32m    108\u001b[0m         \u001b[0mright\u001b[0m\u001b[0;34m,\u001b[0m\u001b[0;34m\u001b[0m\u001b[0;34m\u001b[0m\u001b[0m\n",
      "\u001b[0;32m~/anaconda3/lib/python3.9/site-packages/pandas/core/reshape/merge.py\u001b[0m in \u001b[0;36m__init__\u001b[0;34m(self, left, right, how, on, left_on, right_on, axis, left_index, right_index, sort, suffixes, copy, indicator, validate)\u001b[0m\n\u001b[1;32m    679\u001b[0m             \u001b[0mwarnings\u001b[0m\u001b[0;34m.\u001b[0m\u001b[0mwarn\u001b[0m\u001b[0;34m(\u001b[0m\u001b[0mmsg\u001b[0m\u001b[0;34m,\u001b[0m \u001b[0mFutureWarning\u001b[0m\u001b[0;34m,\u001b[0m \u001b[0mstacklevel\u001b[0m\u001b[0;34m=\u001b[0m\u001b[0;36m3\u001b[0m\u001b[0;34m)\u001b[0m\u001b[0;34m\u001b[0m\u001b[0;34m\u001b[0m\u001b[0m\n\u001b[1;32m    680\u001b[0m \u001b[0;34m\u001b[0m\u001b[0m\n\u001b[0;32m--> 681\u001b[0;31m         \u001b[0mself\u001b[0m\u001b[0;34m.\u001b[0m\u001b[0m_validate_specification\u001b[0m\u001b[0;34m(\u001b[0m\u001b[0;34m)\u001b[0m\u001b[0;34m\u001b[0m\u001b[0;34m\u001b[0m\u001b[0m\n\u001b[0m\u001b[1;32m    682\u001b[0m \u001b[0;34m\u001b[0m\u001b[0m\n\u001b[1;32m    683\u001b[0m         \u001b[0mcross_col\u001b[0m \u001b[0;34m=\u001b[0m \u001b[0;32mNone\u001b[0m\u001b[0;34m\u001b[0m\u001b[0;34m\u001b[0m\u001b[0m\n",
      "\u001b[0;32m~/anaconda3/lib/python3.9/site-packages/pandas/core/reshape/merge.py\u001b[0m in \u001b[0;36m_validate_specification\u001b[0;34m(self)\u001b[0m\n\u001b[1;32m   1379\u001b[0m             \u001b[0;32mif\u001b[0m \u001b[0mself\u001b[0m\u001b[0;34m.\u001b[0m\u001b[0mright_index\u001b[0m\u001b[0;34m:\u001b[0m\u001b[0;34m\u001b[0m\u001b[0;34m\u001b[0m\u001b[0m\n\u001b[1;32m   1380\u001b[0m                 \u001b[0;32mif\u001b[0m \u001b[0mlen\u001b[0m\u001b[0;34m(\u001b[0m\u001b[0mself\u001b[0m\u001b[0;34m.\u001b[0m\u001b[0mleft_on\u001b[0m\u001b[0;34m)\u001b[0m \u001b[0;34m!=\u001b[0m \u001b[0mself\u001b[0m\u001b[0;34m.\u001b[0m\u001b[0mright\u001b[0m\u001b[0;34m.\u001b[0m\u001b[0mindex\u001b[0m\u001b[0;34m.\u001b[0m\u001b[0mnlevels\u001b[0m\u001b[0;34m:\u001b[0m\u001b[0;34m\u001b[0m\u001b[0;34m\u001b[0m\u001b[0m\n\u001b[0;32m-> 1381\u001b[0;31m                     raise ValueError(\n\u001b[0m\u001b[1;32m   1382\u001b[0m                         \u001b[0;34m\"len(left_on) must equal the number \"\u001b[0m\u001b[0;34m\u001b[0m\u001b[0;34m\u001b[0m\u001b[0m\n\u001b[1;32m   1383\u001b[0m                         \u001b[0;34m'of levels in the index of \"right\"'\u001b[0m\u001b[0;34m\u001b[0m\u001b[0;34m\u001b[0m\u001b[0m\n",
      "\u001b[0;31mValueError\u001b[0m: len(left_on) must equal the number of levels in the index of \"right\""
     ]
    }
   ],
   "source": [
    "full_dataset = activated_cleaned.join(retributions, on=intersection, how='outer')\n",
    "full_dataset.columns"
   ]
  }
 ],
 "metadata": {
  "kernelspec": {
   "display_name": "Python 3 (ipykernel)",
   "language": "python",
   "name": "python3"
  },
  "language_info": {
   "codemirror_mode": {
    "name": "ipython",
    "version": 3
   },
   "file_extension": ".py",
   "mimetype": "text/x-python",
   "name": "python",
   "nbconvert_exporter": "python",
   "pygments_lexer": "ipython3",
   "version": "3.9.7"
  }
 },
 "nbformat": 4,
 "nbformat_minor": 5
}
