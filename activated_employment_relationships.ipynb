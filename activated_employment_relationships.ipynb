{
 "cells": [
  {
   "cell_type": "markdown",
   "metadata": {},
   "source": [
    "# Data analysis and predictions on activated employment relationships\n",
    "The purpose of this notebook is to have a view of the data contained in the **Rapporti_di_lavoro_attivati.csv** dataset.\n",
    "In particular we want to:\n",
    "* Analyse the data.\n",
    "* Add data from another dataset to increase the amount of information.\n",
    "* Make some transformations in order to prepare data for Machine Learning.\n",
    "* Try to find correlations within data.\n",
    "* Try to make some predictions. \n",
    "\n",
    "### RESEARCH QUESTION\n",
    "We want to see if it is possible to predict the study title, basing on the features stored in the **Rapporti_di_lavoro_attivati.csv** dataset. We will try to find the best feaures to use for this purpose through analysis."
   ]
  },
  {
   "cell_type": "code",
   "execution_count": 75,
   "metadata": {},
   "outputs": [],
   "source": [
    "import pandas as pd\n",
    "import numpy as np\n",
    "import matplotlib.pyplot as plt\n",
    "from datetime import datetime\n",
    "import seaborn as sns\n",
    "import utils\n",
    "from matplotlib import rcParams\n",
    "from tqdm import tqdm\n",
    "\n",
    "a4_dims = (11.7, 8.27)\n",
    "rcParams['figure.figsize'] = a4_dims\n",
    "\n",
    "STD_SIZE = (15, 10)\n",
    "MID_SIZE = (20, 25)\n",
    "BIG_SIZE = (30, 30)"
   ]
  },
  {
   "cell_type": "markdown",
   "metadata": {},
   "source": [
    "## Have a first view of the dataset"
   ]
  },
  {
   "cell_type": "markdown",
   "metadata": {},
   "source": [
    "Import the dataset"
   ]
  },
  {
   "cell_type": "code",
   "execution_count": 76,
   "metadata": {},
   "outputs": [
    {
     "name": "stdout",
     "output_type": "stream",
     "text": [
      "Shape: (9579794, 9)\n"
     ]
    },
    {
     "data": {
      "text/html": [
       "<div>\n",
       "<style scoped>\n",
       "    .dataframe tbody tr th:only-of-type {\n",
       "        vertical-align: middle;\n",
       "    }\n",
       "\n",
       "    .dataframe tbody tr th {\n",
       "        vertical-align: top;\n",
       "    }\n",
       "\n",
       "    .dataframe thead th {\n",
       "        text-align: right;\n",
       "    }\n",
       "</style>\n",
       "<table border=\"1\" class=\"dataframe\">\n",
       "  <thead>\n",
       "    <tr style=\"text-align: right;\">\n",
       "      <th></th>\n",
       "      <th>DATA</th>\n",
       "      <th>GENERE</th>\n",
       "      <th>ETA</th>\n",
       "      <th>SETTOREECONOMICODETTAGLIO</th>\n",
       "      <th>TITOLOSTUDIO</th>\n",
       "      <th>CONTRATTO</th>\n",
       "      <th>MODALITALAVORO</th>\n",
       "      <th>PROVINCIAIMPRESA</th>\n",
       "      <th>ITALIANO</th>\n",
       "    </tr>\n",
       "  </thead>\n",
       "  <tbody>\n",
       "    <tr>\n",
       "      <th>0</th>\n",
       "      <td>2020-09-05</td>\n",
       "      <td>F</td>\n",
       "      <td>60</td>\n",
       "      <td>Attività di famiglie e convivenze come datori ...</td>\n",
       "      <td>NESSUN TITOLO DI STUDIO</td>\n",
       "      <td>LAVORO DOMESTICO</td>\n",
       "      <td>TEMPO PIENO</td>\n",
       "      <td>BERGAMO</td>\n",
       "      <td>UCRAINA</td>\n",
       "    </tr>\n",
       "    <tr>\n",
       "      <th>1</th>\n",
       "      <td>2019-12-07</td>\n",
       "      <td>M</td>\n",
       "      <td>43</td>\n",
       "      <td>Gestioni di funicolari, ski-lift e seggiovie s...</td>\n",
       "      <td>LICENZA MEDIA</td>\n",
       "      <td>LAVORO A TEMPO DETERMINATO</td>\n",
       "      <td>TEMPO PIENO</td>\n",
       "      <td>BERGAMO</td>\n",
       "      <td>ITALIA</td>\n",
       "    </tr>\n",
       "    <tr>\n",
       "      <th>2</th>\n",
       "      <td>2013-05-06</td>\n",
       "      <td>F</td>\n",
       "      <td>20</td>\n",
       "      <td>Fabbricazione di altre apparecchiature elettri...</td>\n",
       "      <td>LICENZA MEDIA</td>\n",
       "      <td>APPRENDISTATO PROFESSIONALIZZANTE O CONTRATTO ...</td>\n",
       "      <td>TEMPO PIENO</td>\n",
       "      <td>BERGAMO</td>\n",
       "      <td>ITALIA</td>\n",
       "    </tr>\n",
       "    <tr>\n",
       "      <th>3</th>\n",
       "      <td>2010-12-03</td>\n",
       "      <td>F</td>\n",
       "      <td>28</td>\n",
       "      <td>Alberghi</td>\n",
       "      <td>DIPLOMA DI ISTRUZIONE SECONDARIA SUPERIORE  CH...</td>\n",
       "      <td>LAVORO INTERMITTENTE A TEMPO DETERMINATO</td>\n",
       "      <td>NON DEFINITO</td>\n",
       "      <td>BERGAMO</td>\n",
       "      <td>ITALIA</td>\n",
       "    </tr>\n",
       "    <tr>\n",
       "      <th>4</th>\n",
       "      <td>2021-06-04</td>\n",
       "      <td>F</td>\n",
       "      <td>49</td>\n",
       "      <td>Rifugi di montagna</td>\n",
       "      <td>LICENZA MEDIA</td>\n",
       "      <td>LAVORO INTERMITTENTE</td>\n",
       "      <td>NON DEFINITO</td>\n",
       "      <td>BERGAMO</td>\n",
       "      <td>ITALIA</td>\n",
       "    </tr>\n",
       "  </tbody>\n",
       "</table>\n",
       "</div>"
      ],
      "text/plain": [
       "        DATA GENERE  ETA                          SETTOREECONOMICODETTAGLIO  \\\n",
       "0 2020-09-05      F   60  Attività di famiglie e convivenze come datori ...   \n",
       "1 2019-12-07      M   43  Gestioni di funicolari, ski-lift e seggiovie s...   \n",
       "2 2013-05-06      F   20  Fabbricazione di altre apparecchiature elettri...   \n",
       "3 2010-12-03      F   28                                           Alberghi   \n",
       "4 2021-06-04      F   49                                 Rifugi di montagna   \n",
       "\n",
       "                                        TITOLOSTUDIO  \\\n",
       "0                            NESSUN TITOLO DI STUDIO   \n",
       "1                                      LICENZA MEDIA   \n",
       "2                                      LICENZA MEDIA   \n",
       "3  DIPLOMA DI ISTRUZIONE SECONDARIA SUPERIORE  CH...   \n",
       "4                                      LICENZA MEDIA   \n",
       "\n",
       "                                           CONTRATTO MODALITALAVORO  \\\n",
       "0                                   LAVORO DOMESTICO    TEMPO PIENO   \n",
       "1                         LAVORO A TEMPO DETERMINATO    TEMPO PIENO   \n",
       "2  APPRENDISTATO PROFESSIONALIZZANTE O CONTRATTO ...    TEMPO PIENO   \n",
       "3           LAVORO INTERMITTENTE A TEMPO DETERMINATO   NON DEFINITO   \n",
       "4                               LAVORO INTERMITTENTE   NON DEFINITO   \n",
       "\n",
       "  PROVINCIAIMPRESA ITALIANO  \n",
       "0          BERGAMO  UCRAINA  \n",
       "1          BERGAMO   ITALIA  \n",
       "2          BERGAMO   ITALIA  \n",
       "3          BERGAMO   ITALIA  \n",
       "4          BERGAMO   ITALIA  "
      ]
     },
     "execution_count": 76,
     "metadata": {},
     "output_type": "execute_result"
    }
   ],
   "source": [
    "activated_labours = pd.read_csv('datasets/Rapporti_di_lavoro_attivati.csv', parse_dates=['DATA'])\n",
    "print(f'Shape: {activated_labours.shape}')\n",
    "activated_labours.head()"
   ]
  },
  {
   "cell_type": "markdown",
   "metadata": {},
   "source": [
    "Inspect data types"
   ]
  },
  {
   "cell_type": "code",
   "execution_count": 77,
   "metadata": {},
   "outputs": [
    {
     "data": {
      "text/plain": [
       "DATA                         datetime64[ns]\n",
       "GENERE                               object\n",
       "ETA                                   int64\n",
       "SETTOREECONOMICODETTAGLIO            object\n",
       "TITOLOSTUDIO                         object\n",
       "CONTRATTO                            object\n",
       "MODALITALAVORO                       object\n",
       "PROVINCIAIMPRESA                     object\n",
       "ITALIANO                             object\n",
       "dtype: object"
      ]
     },
     "execution_count": 77,
     "metadata": {},
     "output_type": "execute_result"
    }
   ],
   "source": [
    "activated_labours.dtypes"
   ]
  },
  {
   "cell_type": "code",
   "execution_count": 78,
   "metadata": {},
   "outputs": [
    {
     "data": {
      "text/plain": [
       "9579794"
      ]
     },
     "execution_count": 78,
     "metadata": {},
     "output_type": "execute_result"
    }
   ],
   "source": [
    "len(activated_labours)"
   ]
  },
  {
   "cell_type": "markdown",
   "metadata": {},
   "source": [
    "Some general information"
   ]
  },
  {
   "cell_type": "code",
   "execution_count": 79,
   "metadata": {},
   "outputs": [
    {
     "name": "stdout",
     "output_type": "stream",
     "text": [
      "<class 'pandas.core.frame.DataFrame'>\n",
      "RangeIndex: 9579794 entries, 0 to 9579793\n",
      "Data columns (total 9 columns):\n",
      " #   Column                     Dtype         \n",
      "---  ------                     -----         \n",
      " 0   DATA                       datetime64[ns]\n",
      " 1   GENERE                     object        \n",
      " 2   ETA                        int64         \n",
      " 3   SETTOREECONOMICODETTAGLIO  object        \n",
      " 4   TITOLOSTUDIO               object        \n",
      " 5   CONTRATTO                  object        \n",
      " 6   MODALITALAVORO             object        \n",
      " 7   PROVINCIAIMPRESA           object        \n",
      " 8   ITALIANO                   object        \n",
      "dtypes: datetime64[ns](1), int64(1), object(7)\n",
      "memory usage: 657.8+ MB\n"
     ]
    }
   ],
   "source": [
    "activated_labours.info()"
   ]
  },
  {
   "cell_type": "markdown",
   "metadata": {},
   "source": [
    "### Sort records basing on **DATA** column"
   ]
  },
  {
   "cell_type": "markdown",
   "metadata": {},
   "source": [
    "Sorting the data with respect to the **DATA** column is only required for making some time series analysis, which will be eventually performed later on."
   ]
  },
  {
   "cell_type": "code",
   "execution_count": 80,
   "metadata": {},
   "outputs": [
    {
     "data": {
      "text/plain": [
       "0   2020-09-05\n",
       "1   2019-12-07\n",
       "2   2013-05-06\n",
       "3   2010-12-03\n",
       "4   2021-06-04\n",
       "Name: DATA, dtype: datetime64[ns]"
      ]
     },
     "execution_count": 80,
     "metadata": {},
     "output_type": "execute_result"
    }
   ],
   "source": [
    "activated_labours['DATA'].head()"
   ]
  },
  {
   "cell_type": "markdown",
   "metadata": {},
   "source": [
    "Sort basing on dates"
   ]
  },
  {
   "cell_type": "code",
   "execution_count": 81,
   "metadata": {},
   "outputs": [
    {
     "name": "stdout",
     "output_type": "stream",
     "text": [
      "Sorted\n"
     ]
    }
   ],
   "source": [
    "activated_labours = activated_labours.sort_values(by='DATA', ascending=True)\n",
    "activated_labours.reset_index(drop=True, inplace=True)\n",
    "min_ok = activated_labours.DATA.min() == activated_labours.DATA[0]\n",
    "max_ok = activated_labours.DATA.max() == activated_labours.DATA[len(activated_labours) - 1]\n",
    "print('Sorted' if min_ok and max_ok else 'Not sorted')"
   ]
  },
  {
   "cell_type": "markdown",
   "metadata": {},
   "source": [
    "## Inspection of null values"
   ]
  },
  {
   "cell_type": "code",
   "execution_count": 82,
   "metadata": {},
   "outputs": [
    {
     "name": "stdout",
     "output_type": "stream",
     "text": [
      "Your selected dataframe has 9 columns.\n",
      "There are 3 columns that have missing values.\n"
     ]
    },
    {
     "data": {
      "text/html": [
       "<div>\n",
       "<style scoped>\n",
       "    .dataframe tbody tr th:only-of-type {\n",
       "        vertical-align: middle;\n",
       "    }\n",
       "\n",
       "    .dataframe tbody tr th {\n",
       "        vertical-align: top;\n",
       "    }\n",
       "\n",
       "    .dataframe thead th {\n",
       "        text-align: right;\n",
       "    }\n",
       "</style>\n",
       "<table border=\"1\" class=\"dataframe\">\n",
       "  <thead>\n",
       "    <tr style=\"text-align: right;\">\n",
       "      <th></th>\n",
       "      <th>Missing Values</th>\n",
       "      <th>% of Total Values</th>\n",
       "    </tr>\n",
       "  </thead>\n",
       "  <tbody>\n",
       "    <tr>\n",
       "      <th>MODALITALAVORO</th>\n",
       "      <td>440779</td>\n",
       "      <td>4.6</td>\n",
       "    </tr>\n",
       "    <tr>\n",
       "      <th>SETTOREECONOMICODETTAGLIO</th>\n",
       "      <td>2888</td>\n",
       "      <td>0.0</td>\n",
       "    </tr>\n",
       "    <tr>\n",
       "      <th>TITOLOSTUDIO</th>\n",
       "      <td>580</td>\n",
       "      <td>0.0</td>\n",
       "    </tr>\n",
       "  </tbody>\n",
       "</table>\n",
       "</div>"
      ],
      "text/plain": [
       "                           Missing Values  % of Total Values\n",
       "MODALITALAVORO                     440779                4.6\n",
       "SETTOREECONOMICODETTAGLIO            2888                0.0\n",
       "TITOLOSTUDIO                          580                0.0"
      ]
     },
     "execution_count": 82,
     "metadata": {},
     "output_type": "execute_result"
    }
   ],
   "source": [
    "utils.missing_values_table(activated_labours)"
   ]
  },
  {
   "cell_type": "markdown",
   "metadata": {},
   "source": [
    "Only three columns contains null values... Let's inspect more deeply how could i remove them."
   ]
  },
  {
   "cell_type": "markdown",
   "metadata": {},
   "source": [
    "### TITOLO DI STUDIO"
   ]
  },
  {
   "cell_type": "code",
   "execution_count": 83,
   "metadata": {},
   "outputs": [
    {
     "data": {
      "text/plain": [
       "TITOLOSTUDIO                                                                                                           \n",
       "NESSUN TITOLO DI STUDIO                                                                                                    2721891\n",
       "LICENZA MEDIA                                                                                                              2523342\n",
       "DIPLOMA DI ISTRUZIONE SECONDARIA SUPERIORE  CHE PERMETTE L'ACCESSO ALL'UNIVERSITA                                          2430781\n",
       "LAUREA - Vecchio o nuovo ordinamento                                                                                        988171\n",
       "TITOLO DI ISTRUZIONE SECONDARIA SUPERIORE (SCOLASTICA ED EXTRA-SCOLASTICA) CHE NON PERMETTE L'ACCESSO ALL'UNIVERSITÀ ()     645228\n",
       "LICENZA ELEMENTARE                                                                                                           82570\n",
       "DIPLOMA UNIVERSITARIO                                                                                                        74488\n",
       "DIPLOMA DI SPECIALIZZAZIONE                                                                                                  57792\n",
       "TITOLO DI DOTTORE DI RICERCA                                                                                                 21102\n",
       "DIPLOMA TERZIARIO EXTRA-UNIVERSITARIO                                                                                        14346\n",
       "MASTER UNIVERSITARIO DI PRIMO LIVELLO                                                                                        11180\n",
       "TITOLO DI STUDIO POST-LAUREA                                                                                                  8323\n",
       "dtype: int64"
      ]
     },
     "execution_count": 83,
     "metadata": {},
     "output_type": "execute_result"
    }
   ],
   "source": [
    "activated_labours.loc[:, ['TITOLOSTUDIO']].value_counts()"
   ]
  },
  {
   "cell_type": "markdown",
   "metadata": {},
   "source": [
    "I'll fill in all the null values in the **TITOLO DI STUDIO** column with the **NESSUN TITOLO DI STUDIO** value"
   ]
  },
  {
   "cell_type": "code",
   "execution_count": 84,
   "metadata": {},
   "outputs": [],
   "source": [
    "activated_labours.TITOLOSTUDIO.fillna('NESSUN TITOLO DI STUDIO', inplace=True)"
   ]
  },
  {
   "cell_type": "code",
   "execution_count": 85,
   "metadata": {},
   "outputs": [
    {
     "name": "stderr",
     "output_type": "stream",
     "text": [
      "/home/ale/anaconda3/envs/datasciencefb/lib/python3.8/site-packages/seaborn/axisgrid.py:88: UserWarning: Tight layout not applied. The left and right margins cannot be made large enough to accommodate all axes decorations. \n",
      "  self._figure.tight_layout(*args, **kwargs)\n"
     ]
    },
    {
     "data": {
      "text/plain": [
       "<seaborn.axisgrid.FacetGrid at 0x7f7ad9726100>"
      ]
     },
     "execution_count": 85,
     "metadata": {},
     "output_type": "execute_result"
    },
    {
     "data": {
      "image/png": "[encoded data removed]",
      "text/plain": [
       "<Figure size 360x360 with 1 Axes>"
      ]
     },
     "metadata": {
      "needs_background": "light"
     },
     "output_type": "display_data"
    }
   ],
   "source": [
    "sns.catplot(data=activated_labours, y='TITOLOSTUDIO', kind='count')"
   ]
  },
  {
   "cell_type": "code",
   "execution_count": 86,
   "metadata": {},
   "outputs": [
    {
     "name": "stdout",
     "output_type": "stream",
     "text": [
      "Your selected dataframe has 9 columns.\n",
      "There are 2 columns that have missing values.\n"
     ]
    },
    {
     "data": {
      "text/html": [
       "<div>\n",
       "<style scoped>\n",
       "    .dataframe tbody tr th:only-of-type {\n",
       "        vertical-align: middle;\n",
       "    }\n",
       "\n",
       "    .dataframe tbody tr th {\n",
       "        vertical-align: top;\n",
       "    }\n",
       "\n",
       "    .dataframe thead th {\n",
       "        text-align: right;\n",
       "    }\n",
       "</style>\n",
       "<table border=\"1\" class=\"dataframe\">\n",
       "  <thead>\n",
       "    <tr style=\"text-align: right;\">\n",
       "      <th></th>\n",
       "      <th>Missing Values</th>\n",
       "      <th>% of Total Values</th>\n",
       "    </tr>\n",
       "  </thead>\n",
       "  <tbody>\n",
       "    <tr>\n",
       "      <th>MODALITALAVORO</th>\n",
       "      <td>440779</td>\n",
       "      <td>4.6</td>\n",
       "    </tr>\n",
       "    <tr>\n",
       "      <th>SETTOREECONOMICODETTAGLIO</th>\n",
       "      <td>2888</td>\n",
       "      <td>0.0</td>\n",
       "    </tr>\n",
       "  </tbody>\n",
       "</table>\n",
       "</div>"
      ],
      "text/plain": [
       "                           Missing Values  % of Total Values\n",
       "MODALITALAVORO                     440779                4.6\n",
       "SETTOREECONOMICODETTAGLIO            2888                0.0"
      ]
     },
     "execution_count": 86,
     "metadata": {},
     "output_type": "execute_result"
    }
   ],
   "source": [
    "utils.missing_values_table(activated_labours)"
   ]
  },
  {
   "cell_type": "markdown",
   "metadata": {},
   "source": [
    "### SETTORE ECONOMICO DETTAGLIO"
   ]
  },
  {
   "cell_type": "code",
   "execution_count": 87,
   "metadata": {},
   "outputs": [
    {
     "data": {
      "text/plain": [
       "SETTOREECONOMICODETTAGLIO                                                                                                                                                      \n",
       "Alberghi                                                                                                                                                                           467057\n",
       "Ristorazione con somministrazione                                                                                                                                                  445191\n",
       "Attività di produzione cinematografica, di video e di programmi televisivi                                                                                                         379116\n",
       "Attività di famiglie e convivenze come datori di lavoro per personale domestico                                                                                                    348181\n",
       "Altri servizi di supporto alle imprese nca                                                                                                                                         303280\n",
       "                                                                                                                                                                                    ...  \n",
       "Gestione di stazioni per autobus                                                                                                                                                        1\n",
       "Coltivazione di ortaggi (inclusi i meloni) in foglia, a fusto, a frutto, in radici, bulbi e tuberi in colture\\nprotette fuori suolo (escluse barbabietola da zucchero e patate)         1\n",
       "Agenti e rappresentanti di giocattoli                                                                                                                                                   1\n",
       "Coltivazione di fiori in colture protette fuori suolo                                                                                                                                   1\n",
       "Bachicoltura                                                                                                                                                                            1\n",
       "Length: 1224, dtype: int64"
      ]
     },
     "execution_count": 87,
     "metadata": {},
     "output_type": "execute_result"
    }
   ],
   "source": [
    "counts = activated_labours.loc[:, ['SETTOREECONOMICODETTAGLIO']].value_counts()\n",
    "counts"
   ]
  },
  {
   "cell_type": "code",
   "execution_count": 88,
   "metadata": {},
   "outputs": [
    {
     "data": {
      "text/plain": [
       "1224"
      ]
     },
     "execution_count": 88,
     "metadata": {},
     "output_type": "execute_result"
    }
   ],
   "source": [
    "counts.shape[0]"
   ]
  },
  {
   "cell_type": "code",
   "execution_count": 89,
   "metadata": {},
   "outputs": [
    {
     "data": {
      "text/plain": [
       "<BarContainer object of 18 artists>"
      ]
     },
     "execution_count": 89,
     "metadata": {},
     "output_type": "execute_result"
    },
    {
     "data": {
      "image/png": "[encoded data removed]",
      "text/plain": [
       "<Figure size 842.4x595.44 with 1 Axes>"
      ]
     },
     "metadata": {
      "needs_background": "light"
     },
     "output_type": "display_data"
    }
   ],
   "source": [
    "LIMIT = 80000\n",
    "counts = counts[counts.values > LIMIT]\n",
    "plt.barh(y=[i[0] for i in counts.index], width=counts.values)"
   ]
  },
  {
   "cell_type": "markdown",
   "metadata": {},
   "source": [
    "Column **settore economico dettaglio** contains too general information and a lot of values which have a too small amount of count. In order to make an understandable plot i would have to avoid considering too many values, so we'll drop it."
   ]
  },
  {
   "cell_type": "code",
   "execution_count": 90,
   "metadata": {},
   "outputs": [],
   "source": [
    "activated_labours.drop(labels=['SETTOREECONOMICODETTAGLIO'], axis=1, inplace=True)"
   ]
  },
  {
   "cell_type": "code",
   "execution_count": 91,
   "metadata": {},
   "outputs": [
    {
     "name": "stdout",
     "output_type": "stream",
     "text": [
      "Your selected dataframe has 8 columns.\n",
      "There are 1 columns that have missing values.\n"
     ]
    },
    {
     "data": {
      "text/html": [
       "<div>\n",
       "<style scoped>\n",
       "    .dataframe tbody tr th:only-of-type {\n",
       "        vertical-align: middle;\n",
       "    }\n",
       "\n",
       "    .dataframe tbody tr th {\n",
       "        vertical-align: top;\n",
       "    }\n",
       "\n",
       "    .dataframe thead th {\n",
       "        text-align: right;\n",
       "    }\n",
       "</style>\n",
       "<table border=\"1\" class=\"dataframe\">\n",
       "  <thead>\n",
       "    <tr style=\"text-align: right;\">\n",
       "      <th></th>\n",
       "      <th>Missing Values</th>\n",
       "      <th>% of Total Values</th>\n",
       "    </tr>\n",
       "  </thead>\n",
       "  <tbody>\n",
       "    <tr>\n",
       "      <th>MODALITALAVORO</th>\n",
       "      <td>440779</td>\n",
       "      <td>4.6</td>\n",
       "    </tr>\n",
       "  </tbody>\n",
       "</table>\n",
       "</div>"
      ],
      "text/plain": [
       "                Missing Values  % of Total Values\n",
       "MODALITALAVORO          440779                4.6"
      ]
     },
     "execution_count": 91,
     "metadata": {},
     "output_type": "execute_result"
    }
   ],
   "source": [
    "utils.missing_values_table(activated_labours)"
   ]
  },
  {
   "cell_type": "markdown",
   "metadata": {},
   "source": [
    "### MODALITA LAVORO"
   ]
  },
  {
   "cell_type": "code",
   "execution_count": 92,
   "metadata": {},
   "outputs": [
    {
     "data": {
      "text/plain": [
       "MODALITALAVORO            \n",
       "TEMPO PIENO                   5337940\n",
       "TEMPO PARZIALE ORIZZONTALE    2026056\n",
       "NON DEFINITO                  1087460\n",
       "TEMPO PARZIALE MISTO           445419\n",
       "TEMPO PARZIALE VERTICALE       242140\n",
       "dtype: int64"
      ]
     },
     "execution_count": 92,
     "metadata": {},
     "output_type": "execute_result"
    }
   ],
   "source": [
    "activated_labours.loc[:, ['MODALITALAVORO']].value_counts()"
   ]
  },
  {
   "cell_type": "markdown",
   "metadata": {},
   "source": [
    "Fill null values into **modalità lavoro** with value **NON DEFINITO**"
   ]
  },
  {
   "cell_type": "code",
   "execution_count": 93,
   "metadata": {},
   "outputs": [
    {
     "data": {
      "text/plain": [
       "0"
      ]
     },
     "execution_count": 93,
     "metadata": {},
     "output_type": "execute_result"
    }
   ],
   "source": [
    "activated_labours['MODALITALAVORO'] = activated_labours['MODALITALAVORO'].fillna('NON DEFINITO')\n",
    "activated_labours['MODALITALAVORO'].isnull().sum()"
   ]
  },
  {
   "cell_type": "code",
   "execution_count": 94,
   "metadata": {},
   "outputs": [
    {
     "data": {
      "text/plain": [
       "<seaborn.axisgrid.FacetGrid at 0x7f7aeca00b50>"
      ]
     },
     "execution_count": 94,
     "metadata": {},
     "output_type": "execute_result"
    },
    {
     "data": {
      "image/png": "[encoded data removed]",
      "text/plain": [
       "<Figure size 360x360 with 1 Axes>"
      ]
     },
     "metadata": {
      "needs_background": "light"
     },
     "output_type": "display_data"
    }
   ],
   "source": [
    "sns.catplot(data=activated_labours, y='MODALITALAVORO', kind='count')"
   ]
  },
  {
   "cell_type": "code",
   "execution_count": 95,
   "metadata": {},
   "outputs": [
    {
     "name": "stdout",
     "output_type": "stream",
     "text": [
      "Your selected dataframe has 8 columns.\n",
      "There are 0 columns that have missing values.\n"
     ]
    },
    {
     "data": {
      "text/html": [
       "<div>\n",
       "<style scoped>\n",
       "    .dataframe tbody tr th:only-of-type {\n",
       "        vertical-align: middle;\n",
       "    }\n",
       "\n",
       "    .dataframe tbody tr th {\n",
       "        vertical-align: top;\n",
       "    }\n",
       "\n",
       "    .dataframe thead th {\n",
       "        text-align: right;\n",
       "    }\n",
       "</style>\n",
       "<table border=\"1\" class=\"dataframe\">\n",
       "  <thead>\n",
       "    <tr style=\"text-align: right;\">\n",
       "      <th></th>\n",
       "      <th>Missing Values</th>\n",
       "      <th>% of Total Values</th>\n",
       "    </tr>\n",
       "  </thead>\n",
       "  <tbody>\n",
       "  </tbody>\n",
       "</table>\n",
       "</div>"
      ],
      "text/plain": [
       "Empty DataFrame\n",
       "Columns: [Missing Values, % of Total Values]\n",
       "Index: []"
      ]
     },
     "execution_count": 95,
     "metadata": {},
     "output_type": "execute_result"
    }
   ],
   "source": [
    "utils.missing_values_table(activated_labours)"
   ]
  },
  {
   "cell_type": "markdown",
   "metadata": {},
   "source": [
    "Now the dataframe contains **0** null values."
   ]
  },
  {
   "cell_type": "markdown",
   "metadata": {},
   "source": [
    "### Duplicated records"
   ]
  },
  {
   "cell_type": "code",
   "execution_count": 96,
   "metadata": {},
   "outputs": [
    {
     "data": {
      "text/plain": [
       "2536002"
      ]
     },
     "execution_count": 96,
     "metadata": {},
     "output_type": "execute_result"
    }
   ],
   "source": [
    "activated_labours.duplicated().sum()"
   ]
  },
  {
   "cell_type": "markdown",
   "metadata": {},
   "source": [
    "the presence of duplicated lines is not meaningful because there could be different people with same characteristics having activated a labour in the same day"
   ]
  },
  {
   "cell_type": "markdown",
   "metadata": {},
   "source": [
    "Rename column **ITALIANO** into **NAZIONALITA** for better coherence."
   ]
  },
  {
   "cell_type": "code",
   "execution_count": 97,
   "metadata": {},
   "outputs": [],
   "source": [
    "activated_labours.rename({'ITALIANO': 'NAZIONALITA'}, axis=1, inplace=True)"
   ]
  },
  {
   "cell_type": "markdown",
   "metadata": {},
   "source": [
    "## Plots of distribution of data"
   ]
  },
  {
   "cell_type": "markdown",
   "metadata": {},
   "source": [
    "### Plot of categorical data distributions"
   ]
  },
  {
   "cell_type": "code",
   "execution_count": 98,
   "metadata": {},
   "outputs": [
    {
     "name": "stdout",
     "output_type": "stream",
     "text": [
      "['GENERE', 'TITOLOSTUDIO', 'CONTRATTO', 'MODALITALAVORO', 'PROVINCIAIMPRESA', 'NAZIONALITA']\n"
     ]
    },
    {
     "data": {
      "image/png": "[encoded data removed]",
      "text/plain": [
       "<Figure size 1080x720 with 6 Axes>"
      ]
     },
     "metadata": {
      "needs_background": "light"
     },
     "output_type": "display_data"
    }
   ],
   "source": [
    "categorical_features = [col for col in activated_labours if activated_labours[col].dtype == 'object']\n",
    "print(categorical_features)\n",
    "\n",
    "fig = plt.figure(figsize=STD_SIZE)\n",
    "for i, category in enumerate(categorical_features):\n",
    "    ax = fig.add_subplot(2, 3, i+1)\n",
    "    freqs = activated_labours[category].value_counts()\n",
    "    freqs.plot.bar(x=freqs.index, y=freqs.values)\n",
    "    ax.set_title('Distribution of category: %s' % category)\n",
    "    ax.set_xlabel(category)\n",
    "    ax.set_ylabel('value counts')\n",
    "    ax.tick_params(axis='x', labelbottom=False)\n",
    "plt.show()"
   ]
  },
  {
   "cell_type": "markdown",
   "metadata": {},
   "source": [
    "### Plot of numerical data distribution"
   ]
  },
  {
   "cell_type": "code",
   "execution_count": 99,
   "metadata": {},
   "outputs": [
    {
     "data": {
      "text/plain": [
       "<seaborn.axisgrid.FacetGrid at 0x7f7b26f4c700>"
      ]
     },
     "execution_count": 99,
     "metadata": {},
     "output_type": "execute_result"
    },
    {
     "data": {
      "image/png": "[encoded data removed]",
      "text/plain": [
       "<Figure size 360x360 with 1 Axes>"
      ]
     },
     "metadata": {
      "needs_background": "light"
     },
     "output_type": "display_data"
    }
   ],
   "source": [
    "sns.catplot(data=activated_labours, y='ETA', kind='box')"
   ]
  },
  {
   "cell_type": "code",
   "execution_count": 100,
   "metadata": {},
   "outputs": [
    {
     "data": {
      "text/plain": [
       "76879      101\n",
       "9579793    221\n",
       "Name: ETA, dtype: int64"
      ]
     },
     "execution_count": 100,
     "metadata": {},
     "output_type": "execute_result"
    }
   ],
   "source": [
    "activated_labours.ETA[activated_labours.ETA > 100]"
   ]
  },
  {
   "cell_type": "markdown",
   "metadata": {},
   "source": [
    "I remove the pople that have more than 100 years."
   ]
  },
  {
   "cell_type": "code",
   "execution_count": 101,
   "metadata": {},
   "outputs": [
    {
     "data": {
      "text/plain": [
       "99"
      ]
     },
     "execution_count": 101,
     "metadata": {},
     "output_type": "execute_result"
    }
   ],
   "source": [
    "activated_labours = activated_labours[activated_labours.ETA < 100]\n",
    "activated_labours.ETA.max()"
   ]
  },
  {
   "cell_type": "code",
   "execution_count": 102,
   "metadata": {},
   "outputs": [
    {
     "data": {
      "text/plain": [
       "<seaborn.axisgrid.FacetGrid at 0x7f7b281553a0>"
      ]
     },
     "execution_count": 102,
     "metadata": {},
     "output_type": "execute_result"
    },
    {
     "data": {
      "image/png": "[encoded data removed]",
      "text/plain": [
       "<Figure size 360x360 with 1 Axes>"
      ]
     },
     "metadata": {
      "needs_background": "light"
     },
     "output_type": "display_data"
    }
   ],
   "source": [
    "sns.displot(activated_labours.ETA, bins=10)"
   ]
  },
  {
   "cell_type": "markdown",
   "metadata": {},
   "source": [
    "## Descriptive statistics"
   ]
  },
  {
   "cell_type": "markdown",
   "metadata": {},
   "source": [
    "The following function prints some useful measures of variability in order to have a clearer understanding of the **ETA** column, which is the only column that contains numerical values."
   ]
  },
  {
   "cell_type": "code",
   "execution_count": 103,
   "metadata": {},
   "outputs": [
    {
     "name": "stdout",
     "output_type": "stream",
     "text": [
      "Mean on column ETA: 35.3017017074487\n",
      "Median on column ETA: 34.0\n",
      "Mode on column ETA: 0    25\n",
      "Name: ETA, dtype: int64\n",
      "Range of values on column ETA: [0, 99]\n",
      "Variance on column ETA: 138.81871207845066\n",
      "Standard deviation on column ETA: 11.782135293674516\n",
      "Trimmed mean on column ETA with limit 0.2: 33.84469154056215\n",
      "Mean absolute deviation on column ETA: 9.849812793345432\n",
      "Median absolute deviation on column ETA: 9.768686474338164\n"
     ]
    }
   ],
   "source": [
    "utils.variability_measures(activated_labours, column='ETA', limit=0.2)"
   ]
  },
  {
   "cell_type": "code",
   "execution_count": 104,
   "metadata": {},
   "outputs": [],
   "source": [
    "# activated_labours.to_csv('./activated_labours_cleaned.csv')"
   ]
  },
  {
   "cell_type": "markdown",
   "metadata": {},
   "source": [
    "## Add hourly retributions"
   ]
  },
  {
   "cell_type": "markdown",
   "id": "483cb98c",
   "metadata": {},
   "source": [
    "### Hourly retributions with respect to **GENERE**, **TITOLODISTUDIO** and **ANNO**"
   ]
  },
  {
   "cell_type": "code",
   "execution_count": 105,
   "id": "1f832129",
   "metadata": {},
   "outputs": [
    {
     "data": {
      "text/html": [
       "<div>\n",
       "<style scoped>\n",
       "    .dataframe tbody tr th:only-of-type {\n",
       "        vertical-align: middle;\n",
       "    }\n",
       "\n",
       "    .dataframe tbody tr th {\n",
       "        vertical-align: top;\n",
       "    }\n",
       "\n",
       "    .dataframe thead th {\n",
       "        text-align: right;\n",
       "    }\n",
       "</style>\n",
       "<table border=\"1\" class=\"dataframe\">\n",
       "  <thead>\n",
       "    <tr style=\"text-align: right;\">\n",
       "      <th></th>\n",
       "      <th>ITTER107</th>\n",
       "      <th>Territorio</th>\n",
       "      <th>TIPO_DATO7</th>\n",
       "      <th>Tipo dato</th>\n",
       "      <th>SEXISTAT1</th>\n",
       "      <th>Sesso</th>\n",
       "      <th>TITOLO_STUDIO</th>\n",
       "      <th>Titolo di studio</th>\n",
       "      <th>PROFILO_PROF</th>\n",
       "      <th>Qualifica contrattuale</th>\n",
       "      <th>ATECO_2007</th>\n",
       "      <th>Ateco 2007</th>\n",
       "      <th>CLLVT</th>\n",
       "      <th>Classe di dipendenti</th>\n",
       "      <th>TIME</th>\n",
       "      <th>Seleziona periodo</th>\n",
       "      <th>Value</th>\n",
       "      <th>Flag Codes</th>\n",
       "      <th>Flags</th>\n",
       "    </tr>\n",
       "  </thead>\n",
       "  <tbody>\n",
       "    <tr>\n",
       "      <th>0</th>\n",
       "      <td>ITC</td>\n",
       "      <td>Nord-ovest</td>\n",
       "      <td>HOUWAG_ENTEMP_MED_MI</td>\n",
       "      <td>Retribuzione lorda  oraria per ora retribuita ...</td>\n",
       "      <td>1</td>\n",
       "      <td>maschi</td>\n",
       "      <td>11</td>\n",
       "      <td>laurea e post-laurea</td>\n",
       "      <td>6</td>\n",
       "      <td>operaio</td>\n",
       "      <td>B</td>\n",
       "      <td>estrazione di minerali da cave e miniere</td>\n",
       "      <td>TOTAL</td>\n",
       "      <td>totale</td>\n",
       "      <td>2014</td>\n",
       "      <td>2014</td>\n",
       "      <td>13.10</td>\n",
       "      <td>NaN</td>\n",
       "      <td>NaN</td>\n",
       "    </tr>\n",
       "    <tr>\n",
       "      <th>1</th>\n",
       "      <td>ITC</td>\n",
       "      <td>Nord-ovest</td>\n",
       "      <td>HOUWAG_ENTEMP_MED_MI</td>\n",
       "      <td>Retribuzione lorda  oraria per ora retribuita ...</td>\n",
       "      <td>1</td>\n",
       "      <td>maschi</td>\n",
       "      <td>11</td>\n",
       "      <td>laurea e post-laurea</td>\n",
       "      <td>6</td>\n",
       "      <td>operaio</td>\n",
       "      <td>B</td>\n",
       "      <td>estrazione di minerali da cave e miniere</td>\n",
       "      <td>TOTAL</td>\n",
       "      <td>totale</td>\n",
       "      <td>2015</td>\n",
       "      <td>2015</td>\n",
       "      <td>12.44</td>\n",
       "      <td>NaN</td>\n",
       "      <td>NaN</td>\n",
       "    </tr>\n",
       "  </tbody>\n",
       "</table>\n",
       "</div>"
      ],
      "text/plain": [
       "  ITTER107  Territorio            TIPO_DATO7  \\\n",
       "0      ITC  Nord-ovest  HOUWAG_ENTEMP_MED_MI   \n",
       "1      ITC  Nord-ovest  HOUWAG_ENTEMP_MED_MI   \n",
       "\n",
       "                                           Tipo dato  SEXISTAT1   Sesso  \\\n",
       "0  Retribuzione lorda  oraria per ora retribuita ...          1  maschi   \n",
       "1  Retribuzione lorda  oraria per ora retribuita ...          1  maschi   \n",
       "\n",
       "   TITOLO_STUDIO      Titolo di studio  PROFILO_PROF Qualifica contrattuale  \\\n",
       "0             11  laurea e post-laurea             6                operaio   \n",
       "1             11  laurea e post-laurea             6                operaio   \n",
       "\n",
       "  ATECO_2007                                Ateco 2007  CLLVT  \\\n",
       "0          B  estrazione di minerali da cave e miniere  TOTAL   \n",
       "1          B  estrazione di minerali da cave e miniere  TOTAL   \n",
       "\n",
       "  Classe di dipendenti  TIME  Seleziona periodo  Value Flag Codes Flags  \n",
       "0               totale  2014               2014  13.10        NaN   NaN  \n",
       "1               totale  2015               2015  12.44        NaN   NaN  "
      ]
     },
     "execution_count": 105,
     "metadata": {},
     "output_type": "execute_result"
    }
   ],
   "source": [
    "retributions = pd.read_csv('datasets/retribuzioni2.csv')\n",
    "retributions.head(2)"
   ]
  },
  {
   "cell_type": "markdown",
   "id": "187b113a",
   "metadata": {},
   "source": [
    "Firstly clean the dataset"
   ]
  },
  {
   "cell_type": "code",
   "execution_count": 106,
   "id": "15e51484",
   "metadata": {},
   "outputs": [
    {
     "data": {
      "text/plain": [
       "Index(['ITTER107', 'Territorio', 'TIPO_DATO7', 'Tipo dato', 'SEXISTAT1',\n",
       "       'Sesso', 'TITOLO_STUDIO', 'Titolo di studio', 'PROFILO_PROF',\n",
       "       'Qualifica contrattuale', 'ATECO_2007', 'Ateco 2007', 'CLLVT',\n",
       "       'Classe di dipendenti', 'TIME', 'Seleziona periodo', 'Value',\n",
       "       'Flag Codes', 'Flags'],\n",
       "      dtype='object')"
      ]
     },
     "execution_count": 106,
     "metadata": {},
     "output_type": "execute_result"
    }
   ],
   "source": [
    "retributions.columns"
   ]
  },
  {
   "cell_type": "markdown",
   "id": "271efed1",
   "metadata": {},
   "source": [
    "Dropping unuseful or duplicated columns."
   ]
  },
  {
   "cell_type": "code",
   "execution_count": 107,
   "id": "b962ec5f",
   "metadata": {},
   "outputs": [
    {
     "data": {
      "text/plain": [
       "Index(['Territorio', 'Sesso', 'Titolo di studio', 'Qualifica contrattuale',\n",
       "       'Ateco 2007', 'Seleziona periodo', 'Value'],\n",
       "      dtype='object')"
      ]
     },
     "execution_count": 107,
     "metadata": {},
     "output_type": "execute_result"
    }
   ],
   "source": [
    "retributions2 = retributions.drop(['ITTER107', 'TIPO_DATO7', 'Tipo dato', 'SEXISTAT1', 'TITOLO_STUDIO', 'PROFILO_PROF', 'ATECO_2007', 'CLLVT', 'Classe di dipendenti', 'TIME', 'Flag Codes', 'Flags'], axis=1)\n",
    "retributions2.columns"
   ]
  },
  {
   "cell_type": "code",
   "execution_count": 108,
   "id": "cd4d4ca5",
   "metadata": {},
   "outputs": [
    {
     "name": "stdout",
     "output_type": "stream",
     "text": [
      "<class 'pandas.core.frame.DataFrame'>\n",
      "RangeIndex: 9682 entries, 0 to 9681\n",
      "Data columns (total 7 columns):\n",
      " #   Column                  Non-Null Count  Dtype  \n",
      "---  ------                  --------------  -----  \n",
      " 0   Territorio              9682 non-null   object \n",
      " 1   Sesso                   9682 non-null   object \n",
      " 2   Titolo di studio        9682 non-null   object \n",
      " 3   Qualifica contrattuale  9682 non-null   object \n",
      " 4   Ateco 2007              9682 non-null   object \n",
      " 5   Seleziona periodo       9682 non-null   int64  \n",
      " 6   Value                   8758 non-null   float64\n",
      "dtypes: float64(1), int64(1), object(5)\n",
      "memory usage: 529.6+ KB\n"
     ]
    }
   ],
   "source": [
    "retributions2.info()"
   ]
  },
  {
   "cell_type": "markdown",
   "id": "64e542a7",
   "metadata": {},
   "source": [
    "Rename column **Seleziona periodo** in **anno**"
   ]
  },
  {
   "cell_type": "code",
   "execution_count": 109,
   "id": "23e2e07a",
   "metadata": {},
   "outputs": [
    {
     "data": {
      "text/plain": [
       "array([2014, 2015, 2016, 2017, 2018, 2019])"
      ]
     },
     "execution_count": 109,
     "metadata": {},
     "output_type": "execute_result"
    }
   ],
   "source": [
    "retributions2.rename({'Seleziona periodo': 'anno'}, axis=1, inplace=True)\n",
    "retributions2.anno.unique()"
   ]
  },
  {
   "cell_type": "markdown",
   "id": "9b2bef1b",
   "metadata": {},
   "source": [
    "### Missing values inspection"
   ]
  },
  {
   "cell_type": "code",
   "execution_count": 110,
   "id": "14bd69c0",
   "metadata": {},
   "outputs": [
    {
     "name": "stdout",
     "output_type": "stream",
     "text": [
      "Your selected dataframe has 7 columns.\n",
      "There are 1 columns that have missing values.\n"
     ]
    },
    {
     "data": {
      "text/html": [
       "<div>\n",
       "<style scoped>\n",
       "    .dataframe tbody tr th:only-of-type {\n",
       "        vertical-align: middle;\n",
       "    }\n",
       "\n",
       "    .dataframe tbody tr th {\n",
       "        vertical-align: top;\n",
       "    }\n",
       "\n",
       "    .dataframe thead th {\n",
       "        text-align: right;\n",
       "    }\n",
       "</style>\n",
       "<table border=\"1\" class=\"dataframe\">\n",
       "  <thead>\n",
       "    <tr style=\"text-align: right;\">\n",
       "      <th></th>\n",
       "      <th>Missing Values</th>\n",
       "      <th>% of Total Values</th>\n",
       "    </tr>\n",
       "  </thead>\n",
       "  <tbody>\n",
       "    <tr>\n",
       "      <th>Value</th>\n",
       "      <td>924</td>\n",
       "      <td>9.5</td>\n",
       "    </tr>\n",
       "  </tbody>\n",
       "</table>\n",
       "</div>"
      ],
      "text/plain": [
       "       Missing Values  % of Total Values\n",
       "Value             924                9.5"
      ]
     },
     "execution_count": 110,
     "metadata": {},
     "output_type": "execute_result"
    }
   ],
   "source": [
    "utils.missing_values_table(retributions2)"
   ]
  },
  {
   "cell_type": "markdown",
   "id": "7a6a6cee",
   "metadata": {},
   "source": [
    "There are some missing values only on the **Values** column. Since there are only a few i'll drop all the rows containig missing values for that column."
   ]
  },
  {
   "cell_type": "code",
   "execution_count": 111,
   "id": "b40df208",
   "metadata": {},
   "outputs": [],
   "source": [
    "retributions3 = retributions2.dropna()"
   ]
  },
  {
   "cell_type": "code",
   "execution_count": 112,
   "id": "e42e4ce9",
   "metadata": {},
   "outputs": [
    {
     "name": "stdout",
     "output_type": "stream",
     "text": [
      "Your selected dataframe has 7 columns.\n",
      "There are 0 columns that have missing values.\n"
     ]
    },
    {
     "data": {
      "text/html": [
       "<div>\n",
       "<style scoped>\n",
       "    .dataframe tbody tr th:only-of-type {\n",
       "        vertical-align: middle;\n",
       "    }\n",
       "\n",
       "    .dataframe tbody tr th {\n",
       "        vertical-align: top;\n",
       "    }\n",
       "\n",
       "    .dataframe thead th {\n",
       "        text-align: right;\n",
       "    }\n",
       "</style>\n",
       "<table border=\"1\" class=\"dataframe\">\n",
       "  <thead>\n",
       "    <tr style=\"text-align: right;\">\n",
       "      <th></th>\n",
       "      <th>Missing Values</th>\n",
       "      <th>% of Total Values</th>\n",
       "    </tr>\n",
       "  </thead>\n",
       "  <tbody>\n",
       "  </tbody>\n",
       "</table>\n",
       "</div>"
      ],
      "text/plain": [
       "Empty DataFrame\n",
       "Columns: [Missing Values, % of Total Values]\n",
       "Index: []"
      ]
     },
     "execution_count": 112,
     "metadata": {},
     "output_type": "execute_result"
    }
   ],
   "source": [
    "utils.missing_values_table(retributions3)"
   ]
  },
  {
   "cell_type": "markdown",
   "id": "b1970617",
   "metadata": {},
   "source": [
    "All missing values have been removed"
   ]
  },
  {
   "cell_type": "markdown",
   "metadata": {},
   "source": [
    "Convert all column names to upper case in order to simplify the join operation"
   ]
  },
  {
   "cell_type": "code",
   "execution_count": 113,
   "id": "649b521c",
   "metadata": {},
   "outputs": [
    {
     "data": {
      "text/html": [
       "<div>\n",
       "<style scoped>\n",
       "    .dataframe tbody tr th:only-of-type {\n",
       "        vertical-align: middle;\n",
       "    }\n",
       "\n",
       "    .dataframe tbody tr th {\n",
       "        vertical-align: top;\n",
       "    }\n",
       "\n",
       "    .dataframe thead th {\n",
       "        text-align: right;\n",
       "    }\n",
       "</style>\n",
       "<table border=\"1\" class=\"dataframe\">\n",
       "  <thead>\n",
       "    <tr style=\"text-align: right;\">\n",
       "      <th></th>\n",
       "      <th>TERRITORIO</th>\n",
       "      <th>SESSO</th>\n",
       "      <th>TITOLO DI STUDIO</th>\n",
       "      <th>QUALIFICA CONTRATTUALE</th>\n",
       "      <th>ATECO 2007</th>\n",
       "      <th>ANNO</th>\n",
       "      <th>VALUE</th>\n",
       "    </tr>\n",
       "  </thead>\n",
       "  <tbody>\n",
       "    <tr>\n",
       "      <th>0</th>\n",
       "      <td>Nord-ovest</td>\n",
       "      <td>maschi</td>\n",
       "      <td>laurea e post-laurea</td>\n",
       "      <td>operaio</td>\n",
       "      <td>estrazione di minerali da cave e miniere</td>\n",
       "      <td>2014</td>\n",
       "      <td>13.10</td>\n",
       "    </tr>\n",
       "    <tr>\n",
       "      <th>1</th>\n",
       "      <td>Nord-ovest</td>\n",
       "      <td>maschi</td>\n",
       "      <td>laurea e post-laurea</td>\n",
       "      <td>operaio</td>\n",
       "      <td>estrazione di minerali da cave e miniere</td>\n",
       "      <td>2015</td>\n",
       "      <td>12.44</td>\n",
       "    </tr>\n",
       "    <tr>\n",
       "      <th>5</th>\n",
       "      <td>Nord-ovest</td>\n",
       "      <td>maschi</td>\n",
       "      <td>laurea e post-laurea</td>\n",
       "      <td>operaio</td>\n",
       "      <td>estrazione di minerali da cave e miniere</td>\n",
       "      <td>2019</td>\n",
       "      <td>13.74</td>\n",
       "    </tr>\n",
       "    <tr>\n",
       "      <th>9</th>\n",
       "      <td>Nord-ovest</td>\n",
       "      <td>maschi</td>\n",
       "      <td>laurea e post-laurea</td>\n",
       "      <td>apprendista</td>\n",
       "      <td>estrazione di minerali da cave e miniere</td>\n",
       "      <td>2017</td>\n",
       "      <td>19.60</td>\n",
       "    </tr>\n",
       "    <tr>\n",
       "      <th>10</th>\n",
       "      <td>Nord-ovest</td>\n",
       "      <td>maschi</td>\n",
       "      <td>laurea e post-laurea</td>\n",
       "      <td>apprendista</td>\n",
       "      <td>estrazione di minerali da cave e miniere</td>\n",
       "      <td>2018</td>\n",
       "      <td>18.24</td>\n",
       "    </tr>\n",
       "  </tbody>\n",
       "</table>\n",
       "</div>"
      ],
      "text/plain": [
       "    TERRITORIO   SESSO      TITOLO DI STUDIO QUALIFICA CONTRATTUALE  \\\n",
       "0   Nord-ovest  maschi  laurea e post-laurea                operaio   \n",
       "1   Nord-ovest  maschi  laurea e post-laurea                operaio   \n",
       "5   Nord-ovest  maschi  laurea e post-laurea                operaio   \n",
       "9   Nord-ovest  maschi  laurea e post-laurea            apprendista   \n",
       "10  Nord-ovest  maschi  laurea e post-laurea            apprendista   \n",
       "\n",
       "                                  ATECO 2007  ANNO  VALUE  \n",
       "0   estrazione di minerali da cave e miniere  2014  13.10  \n",
       "1   estrazione di minerali da cave e miniere  2015  12.44  \n",
       "5   estrazione di minerali da cave e miniere  2019  13.74  \n",
       "9   estrazione di minerali da cave e miniere  2017  19.60  \n",
       "10  estrazione di minerali da cave e miniere  2018  18.24  "
      ]
     },
     "execution_count": 113,
     "metadata": {},
     "output_type": "execute_result"
    }
   ],
   "source": [
    "retributions3.columns = retributions3.columns.str.upper()\n",
    "retributions3.head()"
   ]
  },
  {
   "cell_type": "markdown",
   "id": "3279359d",
   "metadata": {},
   "source": [
    "Since the dataset **rapporti_di_lavoro_attivati** contains only data that makes reference to Lombardy i'll keep only the records which make reference to **NORD-OVEST** as territory."
   ]
  },
  {
   "cell_type": "code",
   "execution_count": 114,
   "id": "ff51fee8",
   "metadata": {},
   "outputs": [
    {
     "name": "stderr",
     "output_type": "stream",
     "text": [
      "<ipython-input-114-49718a9577b6>:2: SettingWithCopyWarning: \n",
      "A value is trying to be set on a copy of a slice from a DataFrame\n",
      "\n",
      "See the caveats in the documentation: https://pandas.pydata.org/pandas-docs/stable/user_guide/indexing.html#returning-a-view-versus-a-copy\n",
      "  retributions4.drop('TERRITORIO', axis=1, inplace=True)\n"
     ]
    }
   ],
   "source": [
    "retributions4 = retributions3[retributions3['TERRITORIO'] == 'Nord-ovest']\n",
    "retributions4.drop('TERRITORIO', axis=1, inplace=True)"
   ]
  },
  {
   "cell_type": "markdown",
   "id": "726093bc",
   "metadata": {},
   "source": [
    "Refactoring of some values in order to let them be coherent with tha values of the starting dataframe."
   ]
  },
  {
   "cell_type": "code",
   "execution_count": 115,
   "id": "30b99bf4",
   "metadata": {
    "scrolled": true
   },
   "outputs": [
    {
     "name": "stderr",
     "output_type": "stream",
     "text": [
      "<ipython-input-115-341c6cc61f2b>:1: SettingWithCopyWarning: \n",
      "A value is trying to be set on a copy of a slice from a DataFrame.\n",
      "Try using .loc[row_indexer,col_indexer] = value instead\n",
      "\n",
      "See the caveats in the documentation: https://pandas.pydata.org/pandas-docs/stable/user_guide/indexing.html#returning-a-view-versus-a-copy\n",
      "  retributions4['SESSO'] = retributions4['SESSO'].replace({'maschi': 'M', 'femmine': 'F'})\n",
      "<ipython-input-115-341c6cc61f2b>:2: SettingWithCopyWarning: \n",
      "A value is trying to be set on a copy of a slice from a DataFrame.\n",
      "Try using .loc[row_indexer,col_indexer] = value instead\n",
      "\n",
      "See the caveats in the documentation: https://pandas.pydata.org/pandas-docs/stable/user_guide/indexing.html#returning-a-view-versus-a-copy\n",
      "  retributions4['TITOLO DI STUDIO'] = retributions4['TITOLO DI STUDIO'].str.upper()\n",
      "<ipython-input-115-341c6cc61f2b>:3: SettingWithCopyWarning: \n",
      "A value is trying to be set on a copy of a slice from a DataFrame.\n",
      "Try using .loc[row_indexer,col_indexer] = value instead\n",
      "\n",
      "See the caveats in the documentation: https://pandas.pydata.org/pandas-docs/stable/user_guide/indexing.html#returning-a-view-versus-a-copy\n",
      "  retributions4['QUALIFICA CONTRATTUALE'] = retributions4['QUALIFICA CONTRATTUALE'].str.upper()\n",
      "<ipython-input-115-341c6cc61f2b>:4: SettingWithCopyWarning: \n",
      "A value is trying to be set on a copy of a slice from a DataFrame.\n",
      "Try using .loc[row_indexer,col_indexer] = value instead\n",
      "\n",
      "See the caveats in the documentation: https://pandas.pydata.org/pandas-docs/stable/user_guide/indexing.html#returning-a-view-versus-a-copy\n",
      "  retributions4['ATECO 2007'] = retributions4['ATECO 2007'].str.upper()\n"
     ]
    }
   ],
   "source": [
    "retributions4['SESSO'] = retributions4['SESSO'].replace({'maschi': 'M', 'femmine': 'F'})\n",
    "retributions4['TITOLO DI STUDIO'] = retributions4['TITOLO DI STUDIO'].str.upper()\n",
    "retributions4['QUALIFICA CONTRATTUALE'] = retributions4['QUALIFICA CONTRATTUALE'].str.upper()\n",
    "retributions4['ATECO 2007'] = retributions4['ATECO 2007'].str.upper()"
   ]
  },
  {
   "cell_type": "markdown",
   "id": "ce77c88c",
   "metadata": {},
   "source": [
    "### Renaming the columns on which i want to make the join"
   ]
  },
  {
   "cell_type": "code",
   "execution_count": 116,
   "id": "b932b2e5",
   "metadata": {},
   "outputs": [
    {
     "data": {
      "text/plain": [
       "Index(['GENERE', 'TITOLOSTUDIO', 'QUALIFICA CONTRATTUALE', 'ATECO 2007',\n",
       "       'ANNO', 'VALUE'],\n",
       "      dtype='object')"
      ]
     },
     "execution_count": 116,
     "metadata": {},
     "output_type": "execute_result"
    }
   ],
   "source": [
    "retributions4 = retributions4.rename({'SESSO': 'GENERE',\n",
    "                      'TITOLO DI STUDIO': 'TITOLOSTUDIO'}, axis=1)\n",
    "retributions4.columns"
   ]
  },
  {
   "cell_type": "markdown",
   "id": "f5bbc6e2",
   "metadata": {},
   "source": [
    "### Adaptations on rapporti_di_lavoro_attivati.csv dataset\n",
    "* In order to let the data be correctly joined i need to transform also some data in the **rapporti_di_lavoro_attivati** dataset.\n",
    "By this way i want to obtain less null values as possible."
   ]
  },
  {
   "cell_type": "markdown",
   "id": "da71d324",
   "metadata": {},
   "source": [
    "Importing..."
   ]
  },
  {
   "cell_type": "code",
   "execution_count": 117,
   "id": "5cd06a56",
   "metadata": {},
   "outputs": [],
   "source": [
    "# activated_cleaned = pd.read_csv('./datasets/activated_labours_cleaned.csv', parse_dates=['DATA'], index_col=0)\n",
    "# activated_cleaned.head()\n",
    "activated_cleaned = activated_labours.copy()"
   ]
  },
  {
   "cell_type": "markdown",
   "id": "fe71e95c",
   "metadata": {},
   "source": [
    "Create column **ANNO** for joining purposes"
   ]
  },
  {
   "cell_type": "code",
   "execution_count": 118,
   "id": "3b2a1977",
   "metadata": {},
   "outputs": [
    {
     "data": {
      "text/html": [
       "<div>\n",
       "<style scoped>\n",
       "    .dataframe tbody tr th:only-of-type {\n",
       "        vertical-align: middle;\n",
       "    }\n",
       "\n",
       "    .dataframe tbody tr th {\n",
       "        vertical-align: top;\n",
       "    }\n",
       "\n",
       "    .dataframe thead th {\n",
       "        text-align: right;\n",
       "    }\n",
       "</style>\n",
       "<table border=\"1\" class=\"dataframe\">\n",
       "  <thead>\n",
       "    <tr style=\"text-align: right;\">\n",
       "      <th></th>\n",
       "      <th>DATA</th>\n",
       "      <th>GENERE</th>\n",
       "      <th>ETA</th>\n",
       "      <th>TITOLOSTUDIO</th>\n",
       "      <th>CONTRATTO</th>\n",
       "      <th>MODALITALAVORO</th>\n",
       "      <th>PROVINCIAIMPRESA</th>\n",
       "      <th>NAZIONALITA</th>\n",
       "      <th>ANNO</th>\n",
       "    </tr>\n",
       "  </thead>\n",
       "  <tbody>\n",
       "    <tr>\n",
       "      <th>0</th>\n",
       "      <td>1973-02-01</td>\n",
       "      <td>F</td>\n",
       "      <td>20</td>\n",
       "      <td>NESSUN TITOLO DI STUDIO</td>\n",
       "      <td>LAVORO DOMESTICO A TEMPO INDETERMINATO</td>\n",
       "      <td>TEMPO PARZIALE ORIZZONTALE</td>\n",
       "      <td>MILANO</td>\n",
       "      <td>ITALIA</td>\n",
       "      <td>1973</td>\n",
       "    </tr>\n",
       "    <tr>\n",
       "      <th>1</th>\n",
       "      <td>1974-11-06</td>\n",
       "      <td>F</td>\n",
       "      <td>21</td>\n",
       "      <td>NESSUN TITOLO DI STUDIO</td>\n",
       "      <td>LAVORO DOMESTICO A TEMPO INDETERMINATO</td>\n",
       "      <td>TEMPO PARZIALE ORIZZONTALE</td>\n",
       "      <td>MILANO</td>\n",
       "      <td>ITALIA</td>\n",
       "      <td>1974</td>\n",
       "    </tr>\n",
       "    <tr>\n",
       "      <th>2</th>\n",
       "      <td>1976-01-10</td>\n",
       "      <td>F</td>\n",
       "      <td>21</td>\n",
       "      <td>NESSUN TITOLO DI STUDIO</td>\n",
       "      <td>LAVORO DOMESTICO A TEMPO INDETERMINATO</td>\n",
       "      <td>TEMPO PARZIALE ORIZZONTALE</td>\n",
       "      <td>BERGAMO</td>\n",
       "      <td>ITALIA</td>\n",
       "      <td>1976</td>\n",
       "    </tr>\n",
       "    <tr>\n",
       "      <th>3</th>\n",
       "      <td>1978-01-05</td>\n",
       "      <td>M</td>\n",
       "      <td>25</td>\n",
       "      <td>NESSUN TITOLO DI STUDIO</td>\n",
       "      <td>LAVORO DOMESTICO A TEMPO INDETERMINATO</td>\n",
       "      <td>TEMPO PIENO</td>\n",
       "      <td>MILANO</td>\n",
       "      <td>ITALIA</td>\n",
       "      <td>1978</td>\n",
       "    </tr>\n",
       "    <tr>\n",
       "      <th>4</th>\n",
       "      <td>1978-10-07</td>\n",
       "      <td>M</td>\n",
       "      <td>26</td>\n",
       "      <td>NESSUN TITOLO DI STUDIO</td>\n",
       "      <td>LAVORO DOMESTICO A TEMPO INDETERMINATO</td>\n",
       "      <td>TEMPO PIENO</td>\n",
       "      <td>MILANO</td>\n",
       "      <td>ITALIA</td>\n",
       "      <td>1978</td>\n",
       "    </tr>\n",
       "  </tbody>\n",
       "</table>\n",
       "</div>"
      ],
      "text/plain": [
       "        DATA GENERE  ETA             TITOLOSTUDIO  \\\n",
       "0 1973-02-01      F   20  NESSUN TITOLO DI STUDIO   \n",
       "1 1974-11-06      F   21  NESSUN TITOLO DI STUDIO   \n",
       "2 1976-01-10      F   21  NESSUN TITOLO DI STUDIO   \n",
       "3 1978-01-05      M   25  NESSUN TITOLO DI STUDIO   \n",
       "4 1978-10-07      M   26  NESSUN TITOLO DI STUDIO   \n",
       "\n",
       "                                CONTRATTO              MODALITALAVORO  \\\n",
       "0  LAVORO DOMESTICO A TEMPO INDETERMINATO  TEMPO PARZIALE ORIZZONTALE   \n",
       "1  LAVORO DOMESTICO A TEMPO INDETERMINATO  TEMPO PARZIALE ORIZZONTALE   \n",
       "2  LAVORO DOMESTICO A TEMPO INDETERMINATO  TEMPO PARZIALE ORIZZONTALE   \n",
       "3  LAVORO DOMESTICO A TEMPO INDETERMINATO                 TEMPO PIENO   \n",
       "4  LAVORO DOMESTICO A TEMPO INDETERMINATO                 TEMPO PIENO   \n",
       "\n",
       "  PROVINCIAIMPRESA NAZIONALITA  ANNO  \n",
       "0           MILANO      ITALIA  1973  \n",
       "1           MILANO      ITALIA  1974  \n",
       "2          BERGAMO      ITALIA  1976  \n",
       "3           MILANO      ITALIA  1978  \n",
       "4           MILANO      ITALIA  1978  "
      ]
     },
     "execution_count": 118,
     "metadata": {},
     "output_type": "execute_result"
    }
   ],
   "source": [
    "activated_cleaned['ANNO'] = pd.DatetimeIndex(activated_cleaned.DATA).year\n",
    "activated_cleaned.head()"
   ]
  },
  {
   "cell_type": "markdown",
   "metadata": {},
   "source": [
    "### Values reduction"
   ]
  },
  {
   "cell_type": "markdown",
   "metadata": {},
   "source": [
    "In order to perform the join generating the less null values as possible and to do it in the most coherent way we need to reduce the data of the **TITOLO DI STUDIO** column of the **Rapporti di lavoro attivati** dataset and adapt the ones on the **Retribuzioni** dataset."
   ]
  },
  {
   "cell_type": "code",
   "execution_count": 119,
   "id": "e7ca1ddd",
   "metadata": {},
   "outputs": [
    {
     "data": {
      "text/plain": [
       "array(['NESSUN TITOLO DI STUDIO', 'LICENZA MEDIA', 'LICENZA ELEMENTARE',\n",
       "       \"DIPLOMA DI ISTRUZIONE SECONDARIA SUPERIORE  CHE PERMETTE L'ACCESSO ALL'UNIVERSITA\",\n",
       "       'LAUREA - Vecchio o nuovo ordinamento',\n",
       "       \"TITOLO DI ISTRUZIONE SECONDARIA SUPERIORE (SCOLASTICA ED EXTRA-SCOLASTICA) CHE NON PERMETTE L'ACCESSO ALL'UNIVERSITÀ ()\",\n",
       "       'MASTER UNIVERSITARIO DI PRIMO LIVELLO',\n",
       "       'DIPLOMA TERZIARIO EXTRA-UNIVERSITARIO', 'DIPLOMA UNIVERSITARIO',\n",
       "       'DIPLOMA DI SPECIALIZZAZIONE', 'TITOLO DI DOTTORE DI RICERCA',\n",
       "       'TITOLO DI STUDIO POST-LAUREA'], dtype=object)"
      ]
     },
     "execution_count": 119,
     "metadata": {},
     "output_type": "execute_result"
    }
   ],
   "source": [
    "activated_cleaned['TITOLOSTUDIO'].unique()"
   ]
  },
  {
   "cell_type": "code",
   "execution_count": 120,
   "id": "a97777bb",
   "metadata": {},
   "outputs": [
    {
     "data": {
      "text/plain": [
       "array(['LAUREA E POST-LAUREA', 'DIPLOMA',\n",
       "       'NESSUN TITOLO DI STUDIO, LICENZA DI SCUOLA ELEMENTARE E MEDIA'],\n",
       "      dtype=object)"
      ]
     },
     "execution_count": 120,
     "metadata": {},
     "output_type": "execute_result"
    }
   ],
   "source": [
    "retributions4['TITOLOSTUDIO'].unique()"
   ]
  },
  {
   "cell_type": "markdown",
   "metadata": {},
   "source": [
    "I reduce the values of **TITOLOSTUDIO** in order to increase the compatibility between the two datasets at joining."
   ]
  },
  {
   "cell_type": "code",
   "execution_count": 121,
   "id": "958a3b57",
   "metadata": {},
   "outputs": [
    {
     "data": {
      "text/plain": [
       "array(['NESSUN TITOLO DI STUDIO, LICENZA DI SCUOLA ELEMENTARE E MEDIA',\n",
       "       'DIPLOMA DI ISTRUZIONE SECONDARIA SUPERIORE, TERZIARIO EXTRA-UNIVERSITARIO, UNIVERSITARIO',\n",
       "       'LAUREA E POST-LAUREA',\n",
       "       \"TITOLO DI ISTRUZIONE SECONDARIA SUPERIORE (SCOLASTICA ED EXTRA-SCOLASTICA) CHE NON PERMETTE L'ACCESSO ALL'UNIVERSITÀ ()\",\n",
       "       'MASTER UNIVERSITARIO DI PRIMO LIVELLO',\n",
       "       'DIPLOMA DI SPECIALIZZAZIONE', 'TITOLO DI DOTTORE DI RICERCA'],\n",
       "      dtype=object)"
      ]
     },
     "execution_count": 121,
     "metadata": {},
     "output_type": "execute_result"
    }
   ],
   "source": [
    "study_titles_map = {'NESSUN TITOLO DI STUDIO': 'NESSUN TITOLO DI STUDIO, LICENZA DI SCUOLA ELEMENTARE E MEDIA',\n",
    "                    'LICENZA MEDIA': 'NESSUN TITOLO DI STUDIO, LICENZA DI SCUOLA ELEMENTARE E MEDIA',\n",
    "                    'LICENZA ELEMENTARE': 'NESSUN TITOLO DI STUDIO, LICENZA DI SCUOLA ELEMENTARE E MEDIA',\n",
    "                    'LAUREA': 'LAUREA E POST-LAUREA',\n",
    "                    'LAUREA - Vecchio o nuovo ordinamento': 'LAUREA E POST-LAUREA',\n",
    "                    'TITOLO DI STUDIO POST-LAUREA': 'LAUREA E POST-LAUREA',\n",
    "                    'DIPLOMA DI ISTRUZIONE SECONDARIA SUPERIORE  CHE PERMETTE L\\'ACCESSO ALL\\'UNIVERSITA': 'DIPLOMA DI ISTRUZIONE SECONDARIA SUPERIORE, TERZIARIO EXTRA-UNIVERSITARIO, UNIVERSITARIO',\n",
    "                    'DIPLOMA TERZIARIO EXTRA-UNIVERSITARIO': 'DIPLOMA DI ISTRUZIONE SECONDARIA SUPERIORE, TERZIARIO EXTRA-UNIVERSITARIO, UNIVERSITARIO',\n",
    "                    'DIPLOMA UNIVERSITARIO' : 'DIPLOMA DI ISTRUZIONE SECONDARIA SUPERIORE, TERZIARIO EXTRA-UNIVERSITARIO, UNIVERSITARIO'}\n",
    "activated_cleaned['TITOLOSTUDIO'] = activated_cleaned['TITOLOSTUDIO'].replace(study_titles_map)\n",
    "activated_cleaned['TITOLOSTUDIO'].unique()"
   ]
  },
  {
   "cell_type": "markdown",
   "metadata": {},
   "source": [
    "Modify also a value in the **retribuzioni** dataset."
   ]
  },
  {
   "cell_type": "code",
   "execution_count": 122,
   "id": "cbd96a3e",
   "metadata": {},
   "outputs": [
    {
     "data": {
      "text/plain": [
       "array(['LAUREA E POST-LAUREA',\n",
       "       'DIPLOMA DI ISTRUZIONE SECONDARIA SUPERIORE, TERZIARIO EXTRA-UNIVERSITARIO, UNIVERSITARIO',\n",
       "       'NESSUN TITOLO DI STUDIO, LICENZA DI SCUOLA ELEMENTARE E MEDIA'],\n",
       "      dtype=object)"
      ]
     },
     "execution_count": 122,
     "metadata": {},
     "output_type": "execute_result"
    }
   ],
   "source": [
    "retributions4['TITOLOSTUDIO'] = retributions4['TITOLOSTUDIO'].replace({'DIPLOMA': 'DIPLOMA DI ISTRUZIONE SECONDARIA SUPERIORE, TERZIARIO EXTRA-UNIVERSITARIO, UNIVERSITARIO'})\n",
    "retributions4['TITOLOSTUDIO'].unique()"
   ]
  },
  {
   "cell_type": "markdown",
   "metadata": {},
   "source": [
    "Now we need to see in which interval of years we have data in both the considered datasets.  "
   ]
  },
  {
   "cell_type": "code",
   "execution_count": 123,
   "id": "f51e61d8",
   "metadata": {},
   "outputs": [
    {
     "data": {
      "text/plain": [
       "<seaborn.axisgrid.FacetGrid at 0x7f7ad96e0100>"
      ]
     },
     "execution_count": 123,
     "metadata": {},
     "output_type": "execute_result"
    },
    {
     "data": {
      "image/png": "[encoded data removed]",
      "text/plain": [
       "<Figure size 360x360 with 1 Axes>"
      ]
     },
     "metadata": {
      "needs_background": "light"
     },
     "output_type": "display_data"
    }
   ],
   "source": [
    "sns.displot(data=activated_cleaned, x='ANNO', bins=32)"
   ]
  },
  {
   "cell_type": "markdown",
   "id": "c824dc0c",
   "metadata": {},
   "source": [
    "Since the **Retribuzioni** dataset contains only records which make reference to the period between **2014** and **2019**, i'll keep only the values that are part of this time interval. Everyway, from the plot above, it is easy to see that the amount of information for years before **2010** is not relevant and by considering only the selected interval the **left skew** will be removed."
   ]
  },
  {
   "cell_type": "code",
   "execution_count": 124,
   "id": "ae78aea0",
   "metadata": {},
   "outputs": [
    {
     "data": {
      "text/plain": [
       "array([2014, 2015, 2016, 2017, 2018, 2019])"
      ]
     },
     "execution_count": 124,
     "metadata": {},
     "output_type": "execute_result"
    }
   ],
   "source": [
    "activated_cleaned = activated_cleaned[activated_cleaned['ANNO'].isin([2014, 2015, 2016, 2017, 2018, 2019])]\n",
    "activated_cleaned.reset_index(inplace=True)\n",
    "activated_cleaned.ANNO.unique()"
   ]
  },
  {
   "cell_type": "code",
   "execution_count": 127,
   "metadata": {},
   "outputs": [
    {
     "data": {
      "text/plain": [
       "<seaborn.axisgrid.FacetGrid at 0x7f7aec8fda00>"
      ]
     },
     "execution_count": 127,
     "metadata": {},
     "output_type": "execute_result"
    },
    {
     "data": {
      "image/png": "[encoded data removed]",
      "text/plain": [
       "<Figure size 360x360 with 1 Axes>"
      ]
     },
     "metadata": {
      "needs_background": "light"
     },
     "output_type": "display_data"
    }
   ],
   "source": [
    "sns.displot(data=activated_cleaned, x='ANNO', bins=32, shrink=4)"
   ]
  },
  {
   "cell_type": "markdown",
   "metadata": {},
   "source": [
    "Drop columns which contain information that are already present in the **Rapporti di lavoro attivati** datase."
   ]
  },
  {
   "cell_type": "code",
   "execution_count": 130,
   "metadata": {},
   "outputs": [
    {
     "data": {
      "text/plain": [
       "Index(['GENERE', 'TITOLOSTUDIO', 'ANNO', 'VALUE'], dtype='object')"
      ]
     },
     "execution_count": 130,
     "metadata": {},
     "output_type": "execute_result"
    }
   ],
   "source": [
    "retributions4.drop(['QUALIFICA CONTRATTUALE', 'ATECO 2007'], axis=1, inplace=True)\n",
    "retributions4.columns"
   ]
  },
  {
   "cell_type": "markdown",
   "id": "4efa15c8",
   "metadata": {},
   "source": [
    "### Make the join"
   ]
  },
  {
   "cell_type": "markdown",
   "metadata": {},
   "source": [
    "Before performing the join we will check the data have been prepared correctly.\n",
    "First find out if it the columns in common between the two datasets are the ones which we expected."
   ]
  },
  {
   "cell_type": "code",
   "execution_count": 128,
   "id": "693f78a2",
   "metadata": {},
   "outputs": [
    {
     "data": {
      "text/plain": [
       "['GENERE', 'TITOLOSTUDIO', 'ANNO']"
      ]
     },
     "execution_count": 128,
     "metadata": {},
     "output_type": "execute_result"
    }
   ],
   "source": [
    "intersection = []\n",
    "for col in retributions4.columns:\n",
    "    if col in activated_cleaned.columns:\n",
    "        intersection.append(col)\n",
    "intersection"
   ]
  },
  {
   "cell_type": "markdown",
   "metadata": {},
   "source": [
    "**GENERE**, **TITOLOSTUDIO** and **ANNO** are effectively the columns on which we want to perform the join."
   ]
  },
  {
   "cell_type": "markdown",
   "id": "8d5928b1",
   "metadata": {},
   "source": [
    "Then check that the dataset **Rapporti di lavoro attivati** contains at least all the values that are contained in the **Retribuzioni** dataset for the columns selected for the join."
   ]
  },
  {
   "cell_type": "code",
   "execution_count": 129,
   "id": "7d2990e9",
   "metadata": {},
   "outputs": [
    {
     "name": "stdout",
     "output_type": "stream",
     "text": [
      "True True True\n"
     ]
    }
   ],
   "source": [
    "contained1 = True\n",
    "for value in retributions4['GENERE'].unique():\n",
    "    if value not in activated_cleaned['GENERE'].unique():\n",
    "        contained1 = False\n",
    "        print(value)\n",
    "        \n",
    "contained2 = True\n",
    "for value in retributions4['TITOLOSTUDIO'].unique():\n",
    "    if value not in activated_cleaned['TITOLOSTUDIO'].unique():\n",
    "        contained2 = False\n",
    "        print(value)\n",
    "        \n",
    "contained3 = True\n",
    "for value in retributions4['ANNO'].unique():\n",
    "    if value not in activated_cleaned['ANNO'].unique():\n",
    "        contained3 = False\n",
    "        print(value)\n",
    "        \n",
    "print(contained1, contained2, contained3)"
   ]
  },
  {
   "cell_type": "code",
   "execution_count": 58,
   "metadata": {},
   "outputs": [],
   "source": [
    "# activated_cleaned.to_csv('datasets/activated_cleaned_adapted.csv')\n",
    "# retributions4.to_csv('datasets/retributions4.csv')"
   ]
  },
  {
   "cell_type": "markdown",
   "metadata": {},
   "source": [
    "Keep a sample of the data in order to be possible for us to perform the join. Otherwise the procedure would require memory and time to be performed.\n",
    "After some trial and error we will keep **30%** of the data in the **Rapporti di lavoro attivati** dataset. "
   ]
  },
  {
   "cell_type": "code",
   "execution_count": 131,
   "metadata": {},
   "outputs": [
    {
     "data": {
      "text/plain": [
       "1448795"
      ]
     },
     "execution_count": 131,
     "metadata": {},
     "output_type": "execute_result"
    }
   ],
   "source": [
    "activated_sampled = activated_cleaned.sample(frac=0.3)\n",
    "activated_sampled.shape[0]"
   ]
  },
  {
   "cell_type": "markdown",
   "metadata": {},
   "source": [
    "JOIN"
   ]
  },
  {
   "cell_type": "code",
   "execution_count": 61,
   "metadata": {},
   "outputs": [],
   "source": [
    "# labours_merge = pd.merge(activated_sampled, retributions4, how='left', on=intersection)"
   ]
  },
  {
   "cell_type": "markdown",
   "metadata": {},
   "source": [
    "After the merging operation the dataset contains **68647352** records. \n",
    "We need to perform another **sample at constant rate** in order to reduce this quantity to **4576491** which is an easier to handle amount of data."
   ]
  },
  {
   "cell_type": "code",
   "execution_count": 132,
   "metadata": {},
   "outputs": [
    {
     "data": {
      "text/html": [
       "<div>\n",
       "<style scoped>\n",
       "    .dataframe tbody tr th:only-of-type {\n",
       "        vertical-align: middle;\n",
       "    }\n",
       "\n",
       "    .dataframe tbody tr th {\n",
       "        vertical-align: top;\n",
       "    }\n",
       "\n",
       "    .dataframe thead th {\n",
       "        text-align: right;\n",
       "    }\n",
       "</style>\n",
       "<table border=\"1\" class=\"dataframe\">\n",
       "  <thead>\n",
       "    <tr style=\"text-align: right;\">\n",
       "      <th></th>\n",
       "      <th>DATA</th>\n",
       "      <th>GENERE</th>\n",
       "      <th>ETA</th>\n",
       "      <th>TITOLOSTUDIO</th>\n",
       "      <th>CONTRATTO</th>\n",
       "      <th>MODALITALAVORO</th>\n",
       "      <th>PROVINCIAIMPRESA</th>\n",
       "      <th>NAZIONALITA</th>\n",
       "      <th>ANNO</th>\n",
       "      <th>VALUE</th>\n",
       "    </tr>\n",
       "  </thead>\n",
       "  <tbody>\n",
       "    <tr>\n",
       "      <th>0</th>\n",
       "      <td>2014-01-01</td>\n",
       "      <td>F</td>\n",
       "      <td>49</td>\n",
       "      <td>NESSUN TITOLO DI STUDIO, LICENZA DI SCUOLA ELE...</td>\n",
       "      <td>LAVORO A TEMPO INDETERMINATO</td>\n",
       "      <td>TEMPO PARZIALE ORIZZONTALE</td>\n",
       "      <td>VARESE</td>\n",
       "      <td>MAROCCO</td>\n",
       "      <td>2014</td>\n",
       "      <td>9.52</td>\n",
       "    </tr>\n",
       "    <tr>\n",
       "      <th>1</th>\n",
       "      <td>2014-01-01</td>\n",
       "      <td>F</td>\n",
       "      <td>49</td>\n",
       "      <td>NESSUN TITOLO DI STUDIO, LICENZA DI SCUOLA ELE...</td>\n",
       "      <td>LAVORO A TEMPO INDETERMINATO</td>\n",
       "      <td>TEMPO PARZIALE ORIZZONTALE</td>\n",
       "      <td>VARESE</td>\n",
       "      <td>MAROCCO</td>\n",
       "      <td>2014</td>\n",
       "      <td>9.49</td>\n",
       "    </tr>\n",
       "    <tr>\n",
       "      <th>2</th>\n",
       "      <td>2014-01-01</td>\n",
       "      <td>F</td>\n",
       "      <td>49</td>\n",
       "      <td>NESSUN TITOLO DI STUDIO, LICENZA DI SCUOLA ELE...</td>\n",
       "      <td>LAVORO A TEMPO INDETERMINATO</td>\n",
       "      <td>TEMPO PARZIALE ORIZZONTALE</td>\n",
       "      <td>VARESE</td>\n",
       "      <td>MAROCCO</td>\n",
       "      <td>2014</td>\n",
       "      <td>11.51</td>\n",
       "    </tr>\n",
       "    <tr>\n",
       "      <th>3</th>\n",
       "      <td>2014-01-01</td>\n",
       "      <td>F</td>\n",
       "      <td>49</td>\n",
       "      <td>NESSUN TITOLO DI STUDIO, LICENZA DI SCUOLA ELE...</td>\n",
       "      <td>LAVORO A TEMPO INDETERMINATO</td>\n",
       "      <td>TEMPO PARZIALE ORIZZONTALE</td>\n",
       "      <td>VARESE</td>\n",
       "      <td>MAROCCO</td>\n",
       "      <td>2014</td>\n",
       "      <td>9.80</td>\n",
       "    </tr>\n",
       "    <tr>\n",
       "      <th>4</th>\n",
       "      <td>2014-01-01</td>\n",
       "      <td>M</td>\n",
       "      <td>43</td>\n",
       "      <td>NESSUN TITOLO DI STUDIO, LICENZA DI SCUOLA ELE...</td>\n",
       "      <td>LAVORO A TEMPO INDETERMINATO</td>\n",
       "      <td>TEMPO PIENO</td>\n",
       "      <td>MILANO</td>\n",
       "      <td>LIBERIA</td>\n",
       "      <td>2014</td>\n",
       "      <td>15.82</td>\n",
       "    </tr>\n",
       "  </tbody>\n",
       "</table>\n",
       "</div>"
      ],
      "text/plain": [
       "         DATA GENERE  ETA                                       TITOLOSTUDIO  \\\n",
       "0  2014-01-01      F   49  NESSUN TITOLO DI STUDIO, LICENZA DI SCUOLA ELE...   \n",
       "1  2014-01-01      F   49  NESSUN TITOLO DI STUDIO, LICENZA DI SCUOLA ELE...   \n",
       "2  2014-01-01      F   49  NESSUN TITOLO DI STUDIO, LICENZA DI SCUOLA ELE...   \n",
       "3  2014-01-01      F   49  NESSUN TITOLO DI STUDIO, LICENZA DI SCUOLA ELE...   \n",
       "4  2014-01-01      M   43  NESSUN TITOLO DI STUDIO, LICENZA DI SCUOLA ELE...   \n",
       "\n",
       "                      CONTRATTO              MODALITALAVORO PROVINCIAIMPRESA  \\\n",
       "0  LAVORO A TEMPO INDETERMINATO  TEMPO PARZIALE ORIZZONTALE           VARESE   \n",
       "1  LAVORO A TEMPO INDETERMINATO  TEMPO PARZIALE ORIZZONTALE           VARESE   \n",
       "2  LAVORO A TEMPO INDETERMINATO  TEMPO PARZIALE ORIZZONTALE           VARESE   \n",
       "3  LAVORO A TEMPO INDETERMINATO  TEMPO PARZIALE ORIZZONTALE           VARESE   \n",
       "4  LAVORO A TEMPO INDETERMINATO                 TEMPO PIENO           MILANO   \n",
       "\n",
       "  NAZIONALITA  ANNO  VALUE  \n",
       "0     MAROCCO  2014   9.52  \n",
       "1     MAROCCO  2014   9.49  \n",
       "2     MAROCCO  2014  11.51  \n",
       "3     MAROCCO  2014   9.80  \n",
       "4     LIBERIA  2014  15.82  "
      ]
     },
     "execution_count": 132,
     "metadata": {},
     "output_type": "execute_result"
    }
   ],
   "source": [
    "# labours_sampled2 = labours_merge[::15]\n",
    "activated_cleaned = pd.read_csv('datasets/merged_and_sampled2.csv')\n",
    "activated_cleaned.drop('Unnamed: 0', axis=1, inplace=True)\n",
    "activated_cleaned.head()"
   ]
  },
  {
   "cell_type": "markdown",
   "metadata": {},
   "source": [
    "Now it is important to see if the sample and the merging have produced consistent results. For this purpose we make a comparison with the variability measures computed at the beginning of the dataset (here reported) with the one computed in the sample of data after merging...\n",
    "* Mean on column ETA: 35.3017017074487\n",
    "* Median on column ETA: 34.0\n",
    "* Mode on column ETA: 0    25\n",
    "* Name: ETA, dtype: int64\n",
    "* Range of values on column ETA: [0, 99]\n",
    "* Variance on column ETA: 138.81871207845066\n",
    "* Standard deviation on column ETA: 11.782135293674516\n",
    "* Trimmed mean on column ETA with limit 0.2: 33.84469154056215\n",
    "* Mean absolute deviation on column ETA: 9.849812793345432\n",
    "* Median absolute deviation on column ETA: 9.768686474338164\n",
    "\n",
    "... then we have a look at the distributions of the categorical variables as it has been done bofore."
   ]
  },
  {
   "cell_type": "code",
   "execution_count": 133,
   "metadata": {},
   "outputs": [
    {
     "name": "stdout",
     "output_type": "stream",
     "text": [
      "Mean on column ETA: 35.681306246522226\n",
      "Median on column ETA: 34.0\n",
      "Mode on column ETA: 0    25\n",
      "Name: ETA, dtype: int64\n",
      "Range of values on column ETA: [0, 99]\n",
      "Variance on column ETA: 142.6445796360695\n",
      "Standard deviation on column ETA: 11.943390625616725\n",
      "Trimmed mean on column ETA with limit 0.2: 34.262735762118325\n",
      "Mean absolute deviation on column ETA: 10.052787180565607\n",
      "Median absolute deviation on column ETA: 9.974009363196464\n"
     ]
    }
   ],
   "source": [
    "utils.variability_measures(activated_cleaned, column='ETA', limit=0.2)"
   ]
  },
  {
   "cell_type": "markdown",
   "metadata": {},
   "source": [
    "The variability measures before and after the sample are similar. Have a look also at the distribution of the categorical variables."
   ]
  },
  {
   "cell_type": "code",
   "execution_count": 140,
   "metadata": {},
   "outputs": [
    {
     "name": "stdout",
     "output_type": "stream",
     "text": [
      "['GENERE', 'TITOLOSTUDIO', 'CONTRATTO', 'MODALITALAVORO', 'PROVINCIAIMPRESA', 'NAZIONALITA']\n"
     ]
    },
    {
     "data": {
      "image/png": "[encoded data removed]",
      "text/plain": [
       "<Figure size 1080x720 with 6 Axes>"
      ]
     },
     "metadata": {
      "needs_background": "light"
     },
     "output_type": "display_data"
    }
   ],
   "source": [
    "categorical_features = [col for col in activated_cleaned.drop('DATA', axis=1) if activated_cleaned[col].dtype == 'object']\n",
    "print(categorical_features)\n",
    "\n",
    "fig = plt.figure(figsize=STD_SIZE)\n",
    "for i, category in enumerate(categorical_features):\n",
    "    ax = fig.add_subplot(2, 3, i+1)\n",
    "    freqs = activated_cleaned[category].value_counts()\n",
    "    freqs.plot.bar(x=freqs.index, y=freqs.values)\n",
    "    ax.set_title('Distribution of category: %s' % category)\n",
    "    ax.set_xlabel(category)\n",
    "    ax.set_ylabel('value counts')\n",
    "    ax.tick_params(axis='x', labelbottom=False)\n",
    "plt.show()"
   ]
  },
  {
   "cell_type": "markdown",
   "metadata": {},
   "source": [
    "The plot above shows similar distributions for all the categories. We also notice from this plot that the **right skewness** of values in **TITILO DI STUDIO**, which is of our interest, has been accentuated. We also expect that **NAZIONALITÀ** could have lost some values but since this feature was not particularly meaningful already at the beginnig of our study, we don't care about this."
   ]
  },
  {
   "cell_type": "markdown",
   "metadata": {},
   "source": [
    "See how many null values have been generated."
   ]
  },
  {
   "cell_type": "code",
   "execution_count": 138,
   "metadata": {},
   "outputs": [
    {
     "name": "stdout",
     "output_type": "stream",
     "text": [
      "Your selected dataframe has 10 columns.\n",
      "There are 1 columns that have missing values.\n"
     ]
    },
    {
     "data": {
      "text/html": [
       "<div>\n",
       "<style scoped>\n",
       "    .dataframe tbody tr th:only-of-type {\n",
       "        vertical-align: middle;\n",
       "    }\n",
       "\n",
       "    .dataframe tbody tr th {\n",
       "        vertical-align: top;\n",
       "    }\n",
       "\n",
       "    .dataframe thead th {\n",
       "        text-align: right;\n",
       "    }\n",
       "</style>\n",
       "<table border=\"1\" class=\"dataframe\">\n",
       "  <thead>\n",
       "    <tr style=\"text-align: right;\">\n",
       "      <th></th>\n",
       "      <th>Missing Values</th>\n",
       "      <th>% of Total Values</th>\n",
       "    </tr>\n",
       "  </thead>\n",
       "  <tbody>\n",
       "    <tr>\n",
       "      <th>VALUE</th>\n",
       "      <td>1526</td>\n",
       "      <td>0.2</td>\n",
       "    </tr>\n",
       "  </tbody>\n",
       "</table>\n",
       "</div>"
      ],
      "text/plain": [
       "       Missing Values  % of Total Values\n",
       "VALUE            1526                0.2"
      ]
     },
     "execution_count": 138,
     "metadata": {},
     "output_type": "execute_result"
    }
   ],
   "source": [
    "utils.missing_values_table(activated_cleaned)"
   ]
  },
  {
   "cell_type": "markdown",
   "metadata": {},
   "source": [
    "We expect that the **right skewness** of column **TITOLO DI STUDIO** is where the missing values are. Otherwise they are only **0.2%**, so we remove them."
   ]
  },
  {
   "cell_type": "code",
   "execution_count": 139,
   "metadata": {},
   "outputs": [
    {
     "name": "stdout",
     "output_type": "stream",
     "text": [
      "Your selected dataframe has 10 columns.\n",
      "There are 0 columns that have missing values.\n"
     ]
    },
    {
     "data": {
      "text/html": [
       "<div>\n",
       "<style scoped>\n",
       "    .dataframe tbody tr th:only-of-type {\n",
       "        vertical-align: middle;\n",
       "    }\n",
       "\n",
       "    .dataframe tbody tr th {\n",
       "        vertical-align: top;\n",
       "    }\n",
       "\n",
       "    .dataframe thead th {\n",
       "        text-align: right;\n",
       "    }\n",
       "</style>\n",
       "<table border=\"1\" class=\"dataframe\">\n",
       "  <thead>\n",
       "    <tr style=\"text-align: right;\">\n",
       "      <th></th>\n",
       "      <th>Missing Values</th>\n",
       "      <th>% of Total Values</th>\n",
       "    </tr>\n",
       "  </thead>\n",
       "  <tbody>\n",
       "  </tbody>\n",
       "</table>\n",
       "</div>"
      ],
      "text/plain": [
       "Empty DataFrame\n",
       "Columns: [Missing Values, % of Total Values]\n",
       "Index: []"
      ]
     },
     "execution_count": 139,
     "metadata": {},
     "output_type": "execute_result"
    }
   ],
   "source": [
    "activated_cleaned.dropna(inplace=True)\n",
    "utils.missing_values_table(activated_cleaned)"
   ]
  },
  {
   "cell_type": "code",
   "execution_count": 141,
   "metadata": {},
   "outputs": [
    {
     "data": {
      "image/png": "[encoded data removed]",
      "text/plain": [
       "<Figure size 842.4x595.44 with 1 Axes>"
      ]
     },
     "metadata": {},
     "output_type": "display_data"
    }
   ],
   "source": [
    "utils.plot_frequency_pie(activated_cleaned, 'TITOLOSTUDIO')"
   ]
  },
  {
   "cell_type": "markdown",
   "metadata": {},
   "source": [
    "As we expected we are left with three values."
   ]
  },
  {
   "cell_type": "markdown",
   "metadata": {},
   "source": [
    "Rename column **VALUE** into **RETRIBUZIONE** for better clarity."
   ]
  },
  {
   "cell_type": "code",
   "execution_count": 142,
   "metadata": {},
   "outputs": [],
   "source": [
    "activated_cleaned.rename({'VALUE': 'RETRIBUZIONE'}, axis=1, inplace=True)"
   ]
  },
  {
   "cell_type": "markdown",
   "metadata": {},
   "source": [
    "## Have a look at the new data"
   ]
  },
  {
   "cell_type": "code",
   "execution_count": 143,
   "metadata": {},
   "outputs": [
    {
     "name": "stdout",
     "output_type": "stream",
     "text": [
      "Mean on column RETRIBUZIONE: 11.731025059878743\n",
      "Median on column RETRIBUZIONE: 10.61\n",
      "Mode on column RETRIBUZIONE: 0    10.35\n",
      "Name: RETRIBUZIONE, dtype: float64\n",
      "Range of values on column RETRIBUZIONE: [5.48, 33.54]\n",
      "Variance on column RETRIBUZIONE: 15.126321080275181\n",
      "Standard deviation on column RETRIBUZIONE: 3.8892571373303646\n",
      "Trimmed mean on column RETRIBUZIONE with limit 0.2: 10.841344375201237\n",
      "Mean absolute deviation on column RETRIBUZIONE: 2.886794814495822\n",
      "Median absolute deviation on column RETRIBUZIONE: 2.720142765997669\n"
     ]
    }
   ],
   "source": [
    "utils.variability_measures(activated_cleaned, 'RETRIBUZIONE', limit=0.2)"
   ]
  },
  {
   "cell_type": "markdown",
   "metadata": {},
   "source": [
    "Distribution of column **RETRIBUZIONE** and comparison with the logged distribution."
   ]
  },
  {
   "cell_type": "code",
   "execution_count": 144,
   "metadata": {},
   "outputs": [
    {
     "data": {
      "text/plain": [
       "<AxesSubplot:title={'center':'Log of retributions'}, xlabel='RETRIBUZIONE', ylabel='Count'>"
      ]
     },
     "execution_count": 144,
     "metadata": {},
     "output_type": "execute_result"
    },
    {
     "data": {
      "image/png": "[encoded data removed]",
      "text/plain": [
       "<Figure size 1008x504 with 2 Axes>"
      ]
     },
     "metadata": {
      "needs_background": "light"
     },
     "output_type": "display_data"
    }
   ],
   "source": [
    "fig, ax = plt.subplots(1, 2, figsize=(14, 7))\n",
    "ax[0].set_title('Retributions')\n",
    "ax[1].set_title('Log of retributions')\n",
    "sns.histplot(x=activated_cleaned['RETRIBUZIONE'], kde=True, bins=30, ax=ax[0])\n",
    "sns.histplot(x=np.log(activated_cleaned['RETRIBUZIONE']), kde=True, bins=30, ax=ax[1])"
   ]
  },
  {
   "cell_type": "markdown",
   "metadata": {},
   "source": [
    "It seems that the logged values have a distribution more simlar to the normal.\n",
    "We'll keep both the original values and the values with logarithmic transformation. Later we will evaluate which will provide the best correlations. "
   ]
  },
  {
   "cell_type": "code",
   "execution_count": 145,
   "metadata": {},
   "outputs": [],
   "source": [
    "activated_cleaned['LOGRETRIBUZIONE'] = np.log(activated_cleaned['RETRIBUZIONE'])"
   ]
  },
  {
   "cell_type": "code",
   "execution_count": 147,
   "metadata": {},
   "outputs": [
    {
     "data": {
      "text/plain": [
       "<seaborn.axisgrid.FacetGrid at 0x7f7b39db8bb0>"
      ]
     },
     "execution_count": 147,
     "metadata": {},
     "output_type": "execute_result"
    },
    {
     "data": {
      "image/png": "[encoded data removed]",
      "text/plain": [
       "<Figure size 360x360 with 1 Axes>"
      ]
     },
     "metadata": {
      "needs_background": "light"
     },
     "output_type": "display_data"
    }
   ],
   "source": [
    "sns.catplot(data=activated_cleaned, x='LOGRETRIBUZIONE', kind='violin')"
   ]
  },
  {
   "cell_type": "markdown",
   "metadata": {},
   "source": [
    "Evaluate the same thing for the column **ETA**."
   ]
  },
  {
   "cell_type": "code",
   "execution_count": 148,
   "metadata": {},
   "outputs": [
    {
     "name": "stderr",
     "output_type": "stream",
     "text": [
      "/home/ale/anaconda3/envs/datasciencefb/lib/python3.8/site-packages/pandas/core/arraylike.py:397: RuntimeWarning: divide by zero encountered in log\n",
      "  result = getattr(ufunc, method)(*inputs, **kwargs)\n"
     ]
    },
    {
     "data": {
      "text/plain": [
       "<AxesSubplot:title={'center':'Log of retributions'}, xlabel='ETA', ylabel='Count'>"
      ]
     },
     "execution_count": 148,
     "metadata": {},
     "output_type": "execute_result"
    },
    {
     "data": {
      "image/png": "[encoded data removed]",
      "text/plain": [
       "<Figure size 1008x504 with 2 Axes>"
      ]
     },
     "metadata": {
      "needs_background": "light"
     },
     "output_type": "display_data"
    }
   ],
   "source": [
    "fig, ax = plt.subplots(1, 2, figsize=(14, 7))\n",
    "ax[0].set_title('Retributions')\n",
    "ax[1].set_title('Log of retributions')\n",
    "sns.histplot(x=activated_cleaned['ETA'], kde=True, bins=30, ax=ax[0])\n",
    "sns.histplot(x=np.log(activated_cleaned['ETA']), kde=True, bins=30, ax=ax[1])"
   ]
  },
  {
   "cell_type": "markdown",
   "metadata": {},
   "source": [
    "Column **ETA** have already a distribution sufficiently near to the normal, so we'll let it as it is."
   ]
  },
  {
   "cell_type": "code",
   "execution_count": 149,
   "metadata": {},
   "outputs": [
    {
     "data": {
      "text/plain": [
       "<seaborn.axisgrid.FacetGrid at 0x7f7aefd34850>"
      ]
     },
     "execution_count": 149,
     "metadata": {},
     "output_type": "execute_result"
    },
    {
     "data": {
      "image/png": "[encoded data removed]",
      "text/plain": [
       "<Figure size 360x360 with 1 Axes>"
      ]
     },
     "metadata": {
      "needs_background": "light"
     },
     "output_type": "display_data"
    }
   ],
   "source": [
    "sns.catplot(data=activated_cleaned, x='ETA', kind='violin')"
   ]
  },
  {
   "cell_type": "markdown",
   "metadata": {},
   "source": [
    "Distribution of **RETRIBUZIONE** with respect to **TITOLO DI STUDIO** and **GENERE**. Each subset is independently normalized."
   ]
  },
  {
   "cell_type": "code",
   "execution_count": 70,
   "metadata": {},
   "outputs": [
    {
     "data": {
      "text/plain": [
       "<seaborn.axisgrid.FacetGrid at 0x7fe682eb27f0>"
      ]
     },
     "execution_count": 70,
     "metadata": {},
     "output_type": "execute_result"
    },
    {
     "data": {
      "image/png": "[encoded data removed]",
      "text/plain": [
       "<Figure size 904.5x720 with 2 Axes>"
      ]
     },
     "metadata": {
      "needs_background": "light"
     },
     "output_type": "display_data"
    }
   ],
   "source": [
    "sns.displot(data=activated_cleaned, x='LOGRETRIBUZIONE', hue='TITOLOSTUDIO', row='GENERE', element='step', bins=30, stat='density', common_norm=False)"
   ]
  },
  {
   "cell_type": "markdown",
   "metadata": {},
   "source": [
    "**RETRIBUZIONE** with respect to **GENERE** and **MODALITALAVORO**."
   ]
  },
  {
   "cell_type": "code",
   "execution_count": 150,
   "metadata": {},
   "outputs": [
    {
     "data": {
      "text/plain": [
       "<seaborn.axisgrid.FacetGrid at 0x7f7aefcf4040>"
      ]
     },
     "execution_count": 150,
     "metadata": {},
     "output_type": "execute_result"
    },
    {
     "data": {
      "image/png": "[encoded data removed]",
      "text/plain": [
       "<Figure size 1624.5x720 with 5 Axes>"
      ]
     },
     "metadata": {
      "needs_background": "light"
     },
     "output_type": "display_data"
    }
   ],
   "source": [
    "sns.displot(data=activated_cleaned, x='LOGRETRIBUZIONE', hue='TITOLOSTUDIO', col='MODALITALAVORO', col_wrap=3, element='step', bins=30, stat='density', common_norm=False)"
   ]
  },
  {
   "cell_type": "markdown",
   "metadata": {},
   "source": [
    "**RETRIBUZIONE** with respect to **ETA** and **GENERE**."
   ]
  },
  {
   "cell_type": "code",
   "execution_count": 151,
   "metadata": {},
   "outputs": [
    {
     "data": {
      "text/plain": [
       "<seaborn.axisgrid.FacetGrid at 0x7f7aefd83d90>"
      ]
     },
     "execution_count": 151,
     "metadata": {},
     "output_type": "execute_result"
    },
    {
     "data": {
      "image/png": "[encoded data removed]",
      "text/plain": [
       "<Figure size 904.5x360 with 1 Axes>"
      ]
     },
     "metadata": {
      "needs_background": "light"
     },
     "output_type": "display_data"
    }
   ],
   "source": [
    "sns.displot(data=activated_cleaned, x='LOGRETRIBUZIONE', y='ETA', hue='TITOLOSTUDIO', bins=30)"
   ]
  },
  {
   "cell_type": "markdown",
   "metadata": {},
   "source": [
    "**RETRIBUZIONE** with respect to **TITOLOSTUDIO** and **GENERE**."
   ]
  },
  {
   "cell_type": "code",
   "execution_count": 152,
   "metadata": {},
   "outputs": [
    {
     "name": "stderr",
     "output_type": "stream",
     "text": [
      "/home/ale/anaconda3/envs/datasciencefb/lib/python3.8/site-packages/seaborn/axisgrid.py:88: UserWarning: Tight layout not applied. The left and right margins cannot be made large enough to accommodate all axes decorations. \n",
      "  self._figure.tight_layout(*args, **kwargs)\n"
     ]
    },
    {
     "data": {
      "text/plain": [
       "<seaborn.axisgrid.FacetGrid at 0x7f7aefdf5a30>"
      ]
     },
     "execution_count": 152,
     "metadata": {},
     "output_type": "execute_result"
    },
    {
     "data": {
      "image/png": "[encoded data removed]",
      "text/plain": [
       "<Figure size 408.875x360 with 1 Axes>"
      ]
     },
     "metadata": {
      "needs_background": "light"
     },
     "output_type": "display_data"
    }
   ],
   "source": [
    "sns.displot(data=activated_cleaned, x='LOGRETRIBUZIONE', y='TITOLOSTUDIO', hue='GENERE', bins=30)"
   ]
  },
  {
   "cell_type": "code",
   "execution_count": 74,
   "metadata": {},
   "outputs": [],
   "source": [
    "# sns.catplot(x=\"TITOLOSTUDIO\", y=\"RETRIBUZIONE\", hue=\"GENERE\", kind=\"violin\", inner=\"stick\", split=True, palette=\"pastel\", data=activated_cleaned)"
   ]
  },
  {
   "cell_type": "markdown",
   "id": "5fd9e9e5",
   "metadata": {},
   "source": [
    "## Transformations\n",
    "* Convert everyting to numerical values.\n",
    "* Normalize the data."
   ]
  },
  {
   "cell_type": "markdown",
   "id": "e7c1e155",
   "metadata": {},
   "source": [
    "In this part of the notebook we're performing some transformations on the dataset in order to convert all the categorical features into numerical features, and to let them be more suitable for our predictin purposes."
   ]
  },
  {
   "cell_type": "code",
   "execution_count": 153,
   "id": "d86d1d07",
   "metadata": {},
   "outputs": [
    {
     "data": {
      "text/html": [
       "<div>\n",
       "<style scoped>\n",
       "    .dataframe tbody tr th:only-of-type {\n",
       "        vertical-align: middle;\n",
       "    }\n",
       "\n",
       "    .dataframe tbody tr th {\n",
       "        vertical-align: top;\n",
       "    }\n",
       "\n",
       "    .dataframe thead th {\n",
       "        text-align: right;\n",
       "    }\n",
       "</style>\n",
       "<table border=\"1\" class=\"dataframe\">\n",
       "  <thead>\n",
       "    <tr style=\"text-align: right;\">\n",
       "      <th></th>\n",
       "      <th>DATA</th>\n",
       "      <th>GENERE</th>\n",
       "      <th>ETA</th>\n",
       "      <th>TITOLOSTUDIO</th>\n",
       "      <th>CONTRATTO</th>\n",
       "      <th>MODALITALAVORO</th>\n",
       "      <th>PROVINCIAIMPRESA</th>\n",
       "      <th>NAZIONALITA</th>\n",
       "      <th>ANNO</th>\n",
       "      <th>RETRIBUZIONE</th>\n",
       "      <th>LOGRETRIBUZIONE</th>\n",
       "    </tr>\n",
       "  </thead>\n",
       "  <tbody>\n",
       "    <tr>\n",
       "      <th>0</th>\n",
       "      <td>2014-01-01</td>\n",
       "      <td>F</td>\n",
       "      <td>49</td>\n",
       "      <td>NESSUN TITOLO DI STUDIO, LICENZA DI SCUOLA ELE...</td>\n",
       "      <td>LAVORO A TEMPO INDETERMINATO</td>\n",
       "      <td>TEMPO PARZIALE ORIZZONTALE</td>\n",
       "      <td>VARESE</td>\n",
       "      <td>MAROCCO</td>\n",
       "      <td>2014</td>\n",
       "      <td>9.52</td>\n",
       "      <td>2.253395</td>\n",
       "    </tr>\n",
       "    <tr>\n",
       "      <th>1</th>\n",
       "      <td>2014-01-01</td>\n",
       "      <td>F</td>\n",
       "      <td>49</td>\n",
       "      <td>NESSUN TITOLO DI STUDIO, LICENZA DI SCUOLA ELE...</td>\n",
       "      <td>LAVORO A TEMPO INDETERMINATO</td>\n",
       "      <td>TEMPO PARZIALE ORIZZONTALE</td>\n",
       "      <td>VARESE</td>\n",
       "      <td>MAROCCO</td>\n",
       "      <td>2014</td>\n",
       "      <td>9.49</td>\n",
       "      <td>2.250239</td>\n",
       "    </tr>\n",
       "    <tr>\n",
       "      <th>2</th>\n",
       "      <td>2014-01-01</td>\n",
       "      <td>F</td>\n",
       "      <td>49</td>\n",
       "      <td>NESSUN TITOLO DI STUDIO, LICENZA DI SCUOLA ELE...</td>\n",
       "      <td>LAVORO A TEMPO INDETERMINATO</td>\n",
       "      <td>TEMPO PARZIALE ORIZZONTALE</td>\n",
       "      <td>VARESE</td>\n",
       "      <td>MAROCCO</td>\n",
       "      <td>2014</td>\n",
       "      <td>11.51</td>\n",
       "      <td>2.443216</td>\n",
       "    </tr>\n",
       "    <tr>\n",
       "      <th>3</th>\n",
       "      <td>2014-01-01</td>\n",
       "      <td>F</td>\n",
       "      <td>49</td>\n",
       "      <td>NESSUN TITOLO DI STUDIO, LICENZA DI SCUOLA ELE...</td>\n",
       "      <td>LAVORO A TEMPO INDETERMINATO</td>\n",
       "      <td>TEMPO PARZIALE ORIZZONTALE</td>\n",
       "      <td>VARESE</td>\n",
       "      <td>MAROCCO</td>\n",
       "      <td>2014</td>\n",
       "      <td>9.80</td>\n",
       "      <td>2.282382</td>\n",
       "    </tr>\n",
       "    <tr>\n",
       "      <th>4</th>\n",
       "      <td>2014-01-01</td>\n",
       "      <td>M</td>\n",
       "      <td>43</td>\n",
       "      <td>NESSUN TITOLO DI STUDIO, LICENZA DI SCUOLA ELE...</td>\n",
       "      <td>LAVORO A TEMPO INDETERMINATO</td>\n",
       "      <td>TEMPO PIENO</td>\n",
       "      <td>MILANO</td>\n",
       "      <td>LIBERIA</td>\n",
       "      <td>2014</td>\n",
       "      <td>15.82</td>\n",
       "      <td>2.761275</td>\n",
       "    </tr>\n",
       "  </tbody>\n",
       "</table>\n",
       "</div>"
      ],
      "text/plain": [
       "         DATA GENERE  ETA                                       TITOLOSTUDIO  \\\n",
       "0  2014-01-01      F   49  NESSUN TITOLO DI STUDIO, LICENZA DI SCUOLA ELE...   \n",
       "1  2014-01-01      F   49  NESSUN TITOLO DI STUDIO, LICENZA DI SCUOLA ELE...   \n",
       "2  2014-01-01      F   49  NESSUN TITOLO DI STUDIO, LICENZA DI SCUOLA ELE...   \n",
       "3  2014-01-01      F   49  NESSUN TITOLO DI STUDIO, LICENZA DI SCUOLA ELE...   \n",
       "4  2014-01-01      M   43  NESSUN TITOLO DI STUDIO, LICENZA DI SCUOLA ELE...   \n",
       "\n",
       "                      CONTRATTO              MODALITALAVORO PROVINCIAIMPRESA  \\\n",
       "0  LAVORO A TEMPO INDETERMINATO  TEMPO PARZIALE ORIZZONTALE           VARESE   \n",
       "1  LAVORO A TEMPO INDETERMINATO  TEMPO PARZIALE ORIZZONTALE           VARESE   \n",
       "2  LAVORO A TEMPO INDETERMINATO  TEMPO PARZIALE ORIZZONTALE           VARESE   \n",
       "3  LAVORO A TEMPO INDETERMINATO  TEMPO PARZIALE ORIZZONTALE           VARESE   \n",
       "4  LAVORO A TEMPO INDETERMINATO                 TEMPO PIENO           MILANO   \n",
       "\n",
       "  NAZIONALITA  ANNO  RETRIBUZIONE  LOGRETRIBUZIONE  \n",
       "0     MAROCCO  2014          9.52         2.253395  \n",
       "1     MAROCCO  2014          9.49         2.250239  \n",
       "2     MAROCCO  2014         11.51         2.443216  \n",
       "3     MAROCCO  2014          9.80         2.282382  \n",
       "4     LIBERIA  2014         15.82         2.761275  "
      ]
     },
     "execution_count": 153,
     "metadata": {},
     "output_type": "execute_result"
    }
   ],
   "source": [
    "activated_labours = activated_cleaned.copy()\n",
    "activated_labours.head()"
   ]
  },
  {
   "cell_type": "markdown",
   "id": "b97b73a3",
   "metadata": {},
   "source": [
    "### Transform the data"
   ]
  },
  {
   "cell_type": "code",
   "execution_count": 154,
   "id": "7daac451",
   "metadata": {},
   "outputs": [],
   "source": [
    "activated_transformed = pd.DataFrame()"
   ]
  },
  {
   "cell_type": "markdown",
   "id": "64244972",
   "metadata": {},
   "source": [
    "Converting **GENERE** column to dummies."
   ]
  },
  {
   "cell_type": "code",
   "execution_count": 155,
   "id": "0b33b37f",
   "metadata": {},
   "outputs": [
    {
     "data": {
      "text/plain": [
       "array([['F'],\n",
       "       ['F'],\n",
       "       ['F'],\n",
       "       ...,\n",
       "       ['F'],\n",
       "       ['F'],\n",
       "       ['F']], dtype=object)"
      ]
     },
     "execution_count": 155,
     "metadata": {},
     "output_type": "execute_result"
    }
   ],
   "source": [
    "df_col = activated_labours['GENERE'].values.reshape(-1,1)\n",
    "df_col"
   ]
  },
  {
   "cell_type": "code",
   "execution_count": 156,
   "id": "f58c2bc0",
   "metadata": {},
   "outputs": [
    {
     "data": {
      "text/plain": [
       "array([[1., 0.],\n",
       "       [1., 0.],\n",
       "       [1., 0.],\n",
       "       ...,\n",
       "       [1., 0.],\n",
       "       [1., 0.],\n",
       "       [1., 0.]])"
      ]
     },
     "execution_count": 156,
     "metadata": {},
     "output_type": "execute_result"
    }
   ],
   "source": [
    "from sklearn.preprocessing import OneHotEncoder, LabelEncoder\n",
    "enc_gen = OneHotEncoder()\n",
    "X = enc_gen.fit_transform(df_col).toarray()\n",
    "X"
   ]
  },
  {
   "cell_type": "code",
   "execution_count": 157,
   "id": "3805ded9",
   "metadata": {},
   "outputs": [
    {
     "data": {
      "text/html": [
       "<div>\n",
       "<style scoped>\n",
       "    .dataframe tbody tr th:only-of-type {\n",
       "        vertical-align: middle;\n",
       "    }\n",
       "\n",
       "    .dataframe tbody tr th {\n",
       "        vertical-align: top;\n",
       "    }\n",
       "\n",
       "    .dataframe thead th {\n",
       "        text-align: right;\n",
       "    }\n",
       "</style>\n",
       "<table border=\"1\" class=\"dataframe\">\n",
       "  <thead>\n",
       "    <tr style=\"text-align: right;\">\n",
       "      <th></th>\n",
       "      <th>GENERE_F</th>\n",
       "      <th>GENERE_M</th>\n",
       "    </tr>\n",
       "  </thead>\n",
       "  <tbody>\n",
       "    <tr>\n",
       "      <th>0</th>\n",
       "      <td>1.0</td>\n",
       "      <td>0.0</td>\n",
       "    </tr>\n",
       "    <tr>\n",
       "      <th>1</th>\n",
       "      <td>1.0</td>\n",
       "      <td>0.0</td>\n",
       "    </tr>\n",
       "    <tr>\n",
       "      <th>2</th>\n",
       "      <td>1.0</td>\n",
       "      <td>0.0</td>\n",
       "    </tr>\n",
       "    <tr>\n",
       "      <th>3</th>\n",
       "      <td>1.0</td>\n",
       "      <td>0.0</td>\n",
       "    </tr>\n",
       "    <tr>\n",
       "      <th>4</th>\n",
       "      <td>0.0</td>\n",
       "      <td>1.0</td>\n",
       "    </tr>\n",
       "  </tbody>\n",
       "</table>\n",
       "</div>"
      ],
      "text/plain": [
       "   GENERE_F  GENERE_M\n",
       "0       1.0       0.0\n",
       "1       1.0       0.0\n",
       "2       1.0       0.0\n",
       "3       1.0       0.0\n",
       "4       0.0       1.0"
      ]
     },
     "execution_count": 157,
     "metadata": {},
     "output_type": "execute_result"
    }
   ],
   "source": [
    "dfOneHot = pd.DataFrame(X, columns = ['GENERE_F', 'GENERE_M'])\n",
    "activated_transformed = pd.concat([activated_transformed, dfOneHot], axis=1)\n",
    "activated_transformed.head()"
   ]
  },
  {
   "cell_type": "markdown",
   "id": "51bb492b",
   "metadata": {},
   "source": [
    "Transforming **TITOLO STUDIO** with manually defined transformation(in order to maintain the ordinal information of data)."
   ]
  },
  {
   "cell_type": "markdown",
   "id": "babc8791",
   "metadata": {},
   "source": [
    "[ISTAT document](https://www.istat.it/it/files/2011/01/Classificazione-titoli-studio-28_ott_2005-nota_metodologica.pdf)"
   ]
  },
  {
   "cell_type": "code",
   "execution_count": 158,
   "id": "afcc6cdb",
   "metadata": {},
   "outputs": [
    {
     "data": {
      "text/plain": [
       "array(['NESSUN TITOLO DI STUDIO, LICENZA DI SCUOLA ELEMENTARE E MEDIA',\n",
       "       'DIPLOMA DI ISTRUZIONE SECONDARIA SUPERIORE, TERZIARIO EXTRA-UNIVERSITARIO, UNIVERSITARIO',\n",
       "       'LAUREA E POST-LAUREA'], dtype=object)"
      ]
     },
     "execution_count": 158,
     "metadata": {},
     "output_type": "execute_result"
    }
   ],
   "source": [
    "activated_labours.TITOLOSTUDIO.unique()"
   ]
  },
  {
   "cell_type": "code",
   "execution_count": 159,
   "id": "af73edd4",
   "metadata": {},
   "outputs": [
    {
     "data": {
      "text/html": [
       "<div>\n",
       "<style scoped>\n",
       "    .dataframe tbody tr th:only-of-type {\n",
       "        vertical-align: middle;\n",
       "    }\n",
       "\n",
       "    .dataframe tbody tr th {\n",
       "        vertical-align: top;\n",
       "    }\n",
       "\n",
       "    .dataframe thead th {\n",
       "        text-align: right;\n",
       "    }\n",
       "</style>\n",
       "<table border=\"1\" class=\"dataframe\">\n",
       "  <thead>\n",
       "    <tr style=\"text-align: right;\">\n",
       "      <th></th>\n",
       "      <th>GENERE_F</th>\n",
       "      <th>GENERE_M</th>\n",
       "      <th>TITOLOSTUDIO</th>\n",
       "    </tr>\n",
       "  </thead>\n",
       "  <tbody>\n",
       "    <tr>\n",
       "      <th>0</th>\n",
       "      <td>1.0</td>\n",
       "      <td>0.0</td>\n",
       "      <td>0.0</td>\n",
       "    </tr>\n",
       "    <tr>\n",
       "      <th>1</th>\n",
       "      <td>1.0</td>\n",
       "      <td>0.0</td>\n",
       "      <td>0.0</td>\n",
       "    </tr>\n",
       "    <tr>\n",
       "      <th>2</th>\n",
       "      <td>1.0</td>\n",
       "      <td>0.0</td>\n",
       "      <td>0.0</td>\n",
       "    </tr>\n",
       "    <tr>\n",
       "      <th>3</th>\n",
       "      <td>1.0</td>\n",
       "      <td>0.0</td>\n",
       "      <td>0.0</td>\n",
       "    </tr>\n",
       "    <tr>\n",
       "      <th>4</th>\n",
       "      <td>0.0</td>\n",
       "      <td>1.0</td>\n",
       "      <td>0.0</td>\n",
       "    </tr>\n",
       "  </tbody>\n",
       "</table>\n",
       "</div>"
      ],
      "text/plain": [
       "   GENERE_F  GENERE_M  TITOLOSTUDIO\n",
       "0       1.0       0.0           0.0\n",
       "1       1.0       0.0           0.0\n",
       "2       1.0       0.0           0.0\n",
       "3       1.0       0.0           0.0\n",
       "4       0.0       1.0           0.0"
      ]
     },
     "execution_count": 159,
     "metadata": {},
     "output_type": "execute_result"
    }
   ],
   "source": [
    "studylevel_mapper = {'NESSUN TITOLO DI STUDIO, LICENZA DI SCUOLA ELEMENTARE E MEDIA': 0,\n",
    "          'DIPLOMA DI ISTRUZIONE SECONDARIA SUPERIORE, TERZIARIO EXTRA-UNIVERSITARIO, UNIVERSITARIO': 1,\n",
    "          'LAUREA E POST-LAUREA': 2,\n",
    "          }\n",
    "activated_transformed['TITOLOSTUDIO'] = activated_labours['TITOLOSTUDIO'].replace(studylevel_mapper)\n",
    "activated_transformed.head()"
   ]
  },
  {
   "cell_type": "code",
   "execution_count": 160,
   "id": "77886e96",
   "metadata": {},
   "outputs": [
    {
     "data": {
      "text/plain": [
       "array([ 0.,  1.,  2., nan])"
      ]
     },
     "execution_count": 160,
     "metadata": {},
     "output_type": "execute_result"
    }
   ],
   "source": [
    "activated_transformed.TITOLOSTUDIO.unique()"
   ]
  },
  {
   "cell_type": "markdown",
   "id": "6a2cd43c",
   "metadata": {},
   "source": [
    "Transforming **MODALITÀ LAVORO** using LabelEncoder."
   ]
  },
  {
   "cell_type": "code",
   "execution_count": 161,
   "id": "e6bbd841",
   "metadata": {},
   "outputs": [
    {
     "data": {
      "text/plain": [
       "array(['TEMPO PARZIALE ORIZZONTALE', 'TEMPO PIENO', 'NON DEFINITO',\n",
       "       'TEMPO PARZIALE MISTO', 'TEMPO PARZIALE VERTICALE'], dtype=object)"
      ]
     },
     "execution_count": 161,
     "metadata": {},
     "output_type": "execute_result"
    }
   ],
   "source": [
    "activated_labours.MODALITALAVORO.unique()"
   ]
  },
  {
   "cell_type": "code",
   "execution_count": 162,
   "id": "c9b68c27",
   "metadata": {},
   "outputs": [
    {
     "data": {
      "text/plain": [
       "array([2, 2, 2, ..., 2, 2, 2])"
      ]
     },
     "execution_count": 162,
     "metadata": {},
     "output_type": "execute_result"
    }
   ],
   "source": [
    "le_workmode = LabelEncoder()\n",
    "transformed_col = le_workmode.fit_transform(activated_labours.MODALITALAVORO)\n",
    "transformed_col"
   ]
  },
  {
   "cell_type": "code",
   "execution_count": 163,
   "id": "a55d8a18",
   "metadata": {},
   "outputs": [
    {
     "data": {
      "text/html": [
       "<div>\n",
       "<style scoped>\n",
       "    .dataframe tbody tr th:only-of-type {\n",
       "        vertical-align: middle;\n",
       "    }\n",
       "\n",
       "    .dataframe tbody tr th {\n",
       "        vertical-align: top;\n",
       "    }\n",
       "\n",
       "    .dataframe thead th {\n",
       "        text-align: right;\n",
       "    }\n",
       "</style>\n",
       "<table border=\"1\" class=\"dataframe\">\n",
       "  <thead>\n",
       "    <tr style=\"text-align: right;\">\n",
       "      <th></th>\n",
       "      <th>GENERE_F</th>\n",
       "      <th>GENERE_M</th>\n",
       "      <th>TITOLOSTUDIO</th>\n",
       "      <th>MODALITALAVORO</th>\n",
       "    </tr>\n",
       "  </thead>\n",
       "  <tbody>\n",
       "    <tr>\n",
       "      <th>0</th>\n",
       "      <td>1.0</td>\n",
       "      <td>0.0</td>\n",
       "      <td>0.0</td>\n",
       "      <td>2</td>\n",
       "    </tr>\n",
       "    <tr>\n",
       "      <th>1</th>\n",
       "      <td>1.0</td>\n",
       "      <td>0.0</td>\n",
       "      <td>0.0</td>\n",
       "      <td>2</td>\n",
       "    </tr>\n",
       "    <tr>\n",
       "      <th>2</th>\n",
       "      <td>1.0</td>\n",
       "      <td>0.0</td>\n",
       "      <td>0.0</td>\n",
       "      <td>2</td>\n",
       "    </tr>\n",
       "    <tr>\n",
       "      <th>3</th>\n",
       "      <td>1.0</td>\n",
       "      <td>0.0</td>\n",
       "      <td>0.0</td>\n",
       "      <td>2</td>\n",
       "    </tr>\n",
       "    <tr>\n",
       "      <th>4</th>\n",
       "      <td>0.0</td>\n",
       "      <td>1.0</td>\n",
       "      <td>0.0</td>\n",
       "      <td>4</td>\n",
       "    </tr>\n",
       "  </tbody>\n",
       "</table>\n",
       "</div>"
      ],
      "text/plain": [
       "   GENERE_F  GENERE_M  TITOLOSTUDIO  MODALITALAVORO\n",
       "0       1.0       0.0           0.0               2\n",
       "1       1.0       0.0           0.0               2\n",
       "2       1.0       0.0           0.0               2\n",
       "3       1.0       0.0           0.0               2\n",
       "4       0.0       1.0           0.0               4"
      ]
     },
     "execution_count": 163,
     "metadata": {},
     "output_type": "execute_result"
    }
   ],
   "source": [
    "activated_transformed['MODALITALAVORO'] = transformed_col\n",
    "activated_transformed.head()"
   ]
  },
  {
   "cell_type": "code",
   "execution_count": 164,
   "id": "cedf5bf2",
   "metadata": {},
   "outputs": [
    {
     "data": {
      "text/plain": [
       "array([2, 4, 0, 1, 3])"
      ]
     },
     "execution_count": 164,
     "metadata": {},
     "output_type": "execute_result"
    }
   ],
   "source": [
    "activated_transformed.MODALITALAVORO.unique()"
   ]
  },
  {
   "cell_type": "markdown",
   "id": "52a76be2",
   "metadata": {},
   "source": [
    "Transforming **PROVINCIA IMPRESA**, **NAZIONALITÀ** and **CONTRATTO**."
   ]
  },
  {
   "cell_type": "code",
   "execution_count": 165,
   "id": "40592971",
   "metadata": {},
   "outputs": [
    {
     "data": {
      "text/plain": [
       "array(['VARESE', 'MILANO', 'LECCO', 'BRESCIA', 'COMO', 'MONZA E BRIANZA',\n",
       "       'CREMONA', 'MANTOVA', 'BERGAMO', 'LODI', 'PAVIA', 'SONDRIO'],\n",
       "      dtype=object)"
      ]
     },
     "execution_count": 165,
     "metadata": {},
     "output_type": "execute_result"
    }
   ],
   "source": [
    "activated_labours.PROVINCIAIMPRESA.unique()"
   ]
  },
  {
   "cell_type": "code",
   "execution_count": 166,
   "id": "41f02bb9",
   "metadata": {},
   "outputs": [
    {
     "data": {
      "text/html": [
       "<div>\n",
       "<style scoped>\n",
       "    .dataframe tbody tr th:only-of-type {\n",
       "        vertical-align: middle;\n",
       "    }\n",
       "\n",
       "    .dataframe tbody tr th {\n",
       "        vertical-align: top;\n",
       "    }\n",
       "\n",
       "    .dataframe thead th {\n",
       "        text-align: right;\n",
       "    }\n",
       "</style>\n",
       "<table border=\"1\" class=\"dataframe\">\n",
       "  <thead>\n",
       "    <tr style=\"text-align: right;\">\n",
       "      <th></th>\n",
       "      <th>GENERE_F</th>\n",
       "      <th>GENERE_M</th>\n",
       "      <th>TITOLOSTUDIO</th>\n",
       "      <th>MODALITALAVORO</th>\n",
       "      <th>PROVINCIAIMPRESA</th>\n",
       "    </tr>\n",
       "  </thead>\n",
       "  <tbody>\n",
       "    <tr>\n",
       "      <th>0</th>\n",
       "      <td>1.0</td>\n",
       "      <td>0.0</td>\n",
       "      <td>0.0</td>\n",
       "      <td>2</td>\n",
       "      <td>11</td>\n",
       "    </tr>\n",
       "    <tr>\n",
       "      <th>1</th>\n",
       "      <td>1.0</td>\n",
       "      <td>0.0</td>\n",
       "      <td>0.0</td>\n",
       "      <td>2</td>\n",
       "      <td>11</td>\n",
       "    </tr>\n",
       "    <tr>\n",
       "      <th>2</th>\n",
       "      <td>1.0</td>\n",
       "      <td>0.0</td>\n",
       "      <td>0.0</td>\n",
       "      <td>2</td>\n",
       "      <td>11</td>\n",
       "    </tr>\n",
       "    <tr>\n",
       "      <th>3</th>\n",
       "      <td>1.0</td>\n",
       "      <td>0.0</td>\n",
       "      <td>0.0</td>\n",
       "      <td>2</td>\n",
       "      <td>11</td>\n",
       "    </tr>\n",
       "    <tr>\n",
       "      <th>4</th>\n",
       "      <td>0.0</td>\n",
       "      <td>1.0</td>\n",
       "      <td>0.0</td>\n",
       "      <td>4</td>\n",
       "      <td>7</td>\n",
       "    </tr>\n",
       "  </tbody>\n",
       "</table>\n",
       "</div>"
      ],
      "text/plain": [
       "   GENERE_F  GENERE_M  TITOLOSTUDIO  MODALITALAVORO  PROVINCIAIMPRESA\n",
       "0       1.0       0.0           0.0               2                11\n",
       "1       1.0       0.0           0.0               2                11\n",
       "2       1.0       0.0           0.0               2                11\n",
       "3       1.0       0.0           0.0               2                11\n",
       "4       0.0       1.0           0.0               4                 7"
      ]
     },
     "execution_count": 166,
     "metadata": {},
     "output_type": "execute_result"
    }
   ],
   "source": [
    "le_prov = LabelEncoder()\n",
    "transformed_prov = le_prov.fit_transform(activated_labours.PROVINCIAIMPRESA)\n",
    "activated_transformed['PROVINCIAIMPRESA'] = transformed_prov\n",
    "activated_transformed.head()"
   ]
  },
  {
   "cell_type": "code",
   "execution_count": 167,
   "id": "f85d8ecd",
   "metadata": {},
   "outputs": [
    {
     "data": {
      "text/plain": [
       "array(['MAROCCO', 'LIBERIA', 'ITALIA', 'ARGENTINA', 'ALBANIA', 'TUNISIA',\n",
       "       'EGITTO', 'Cinese, Repubblica Popolare', 'BULGARIA', 'ROMANIA',\n",
       "       'SENEGAL', 'INDIA', 'Moldova', 'PAKISTAN', 'FILIPPINE', 'NIGERIA',\n",
       "       \"COSTA D'AVORIO\", 'SPAGNA', 'SRI LANKA', 'GHANA', \"PERU'\",\n",
       "       'GERMANIA', 'ECUADOR', 'FRANCIA', 'UCRAINA', 'AUSTRIA', 'UNGHERIA',\n",
       "       'POLONIA', 'BANGLADESH', 'AFGHANISTAN', 'CAMERUN', 'BOLIVIA',\n",
       "       'BOSNIA-ERZEGOVINA', 'EL SALVADOR', 'SERBIA', 'KOSOVO', 'SVIZZERA',\n",
       "       'CROAZIA', 'URUGUAY', 'CECA, Repubblica', 'ALGERIA',\n",
       "       'BURKINA FASO', 'RUSSA, Federazione',\n",
       "       'MACEDONIA, ex REP. JUGOSLAVIA', 'Dominicana, Repubblica',\n",
       "       'GUINEA', 'GAMBIA', 'TURCHIA', 'BIELORUSSIA', 'CILE', 'IRAN',\n",
       "       'GEORGIA', 'PARAGUAY', 'Mauritius', 'MESSICO', 'CUBA', 'VENEZUELA',\n",
       "       'COLOMBIA', 'ETIOPIA', 'REGNO UNITO', 'CANADA',\n",
       "       \"STATI UNITI D'AMERICA\", 'BRASILE', 'Congo, Rep.Democratica',\n",
       "       'GRECIA', 'ANGOLA', 'PORTOGALLO', 'SLOVACCHIA', 'ESTONIA',\n",
       "       'ERITREA', 'LITUANIA', 'GIAPPONE', 'NIGER', 'BELGIO', 'LIBANO',\n",
       "       'INDONESIA', 'SOMALIA', 'MALI', 'Corea, Repubblica', 'SIRIA',\n",
       "       'TOGO', 'HONDURAS', 'MALTA', 'FINLANDIA', 'LETTONIA', 'DOMINICA',\n",
       "       'KENYA', 'UZBEKISTAN', 'SIERRA LEONE', 'SUDAN', 'PAESI BASSI',\n",
       "       'ISRAELE', 'THAILANDIA', 'KUWAIT', 'GIORDANIA', 'BENIN', 'IRLANDA',\n",
       "       'CONGO', 'MAURITANIA', 'KAZAKHSTAN', 'CAPO VERDE', 'SVEZIA',\n",
       "       'SUD AFRICA', 'COSTA RICA', 'MOZAMBICO', 'KIRGHIZISTAN', 'TAIWAN',\n",
       "       'RUANDA', 'ARMENIA', 'AUSTRALIA', 'MONTENEGRO',\n",
       "       'Centrafricana, Repubblica', 'LIBIA', 'NEPAL', 'NICARAGUA',\n",
       "       'MONGOLIA', 'IRAQ', 'UGANDA', 'BURUNDI', 'SLOVENIA', 'GRENADA',\n",
       "       'SEYCHELLES', 'NUOVA ZELANDA', 'NAMIBIA', 'CIAD', 'SAN MARINO',\n",
       "       'GUINEA BISSAU', 'TANZANIA', 'TUVALU', 'ZIMBABWE', 'NORVEGIA',\n",
       "       'APOLIDE', 'BAHREIN', 'MYANMAR', 'GIAMAICA', 'AZERBAIGIAN',\n",
       "       'LUSSEMBURGO', 'MALAYSIA', 'HAITI', 'GUATEMALA', 'LIECHTENSTEIN',\n",
       "       'ISLANDA', 'DANIMARCA', 'VIETNAM', 'VANUATU',\n",
       "       'Territori Autonomia Palestinese', 'SINGAPORE', 'MALDIVE', 'FIGI',\n",
       "       'QATAR', 'ARABIA SAUDITA', 'ZAMBIA', 'PANAMA', 'GUYANA',\n",
       "       'GUINEA EQUATORIALE', 'MADAGASCAR', 'BARBADOS', 'TURKMENISTAN',\n",
       "       'GABON', 'BHUTAN', 'TERRITORI PALESTINESI', 'TAGIKISTAN',\n",
       "       'Saint Vincent e Grenadin', 'CAMBOGIA'], dtype=object)"
      ]
     },
     "execution_count": 167,
     "metadata": {},
     "output_type": "execute_result"
    }
   ],
   "source": [
    "activated_labours.NAZIONALITA.unique()"
   ]
  },
  {
   "cell_type": "code",
   "execution_count": 168,
   "id": "2c643c82",
   "metadata": {},
   "outputs": [
    {
     "data": {
      "text/html": [
       "<div>\n",
       "<style scoped>\n",
       "    .dataframe tbody tr th:only-of-type {\n",
       "        vertical-align: middle;\n",
       "    }\n",
       "\n",
       "    .dataframe tbody tr th {\n",
       "        vertical-align: top;\n",
       "    }\n",
       "\n",
       "    .dataframe thead th {\n",
       "        text-align: right;\n",
       "    }\n",
       "</style>\n",
       "<table border=\"1\" class=\"dataframe\">\n",
       "  <thead>\n",
       "    <tr style=\"text-align: right;\">\n",
       "      <th></th>\n",
       "      <th>GENERE_F</th>\n",
       "      <th>GENERE_M</th>\n",
       "      <th>TITOLOSTUDIO</th>\n",
       "      <th>MODALITALAVORO</th>\n",
       "      <th>PROVINCIAIMPRESA</th>\n",
       "      <th>NAZIONALITA</th>\n",
       "    </tr>\n",
       "  </thead>\n",
       "  <tbody>\n",
       "    <tr>\n",
       "      <th>0</th>\n",
       "      <td>1.0</td>\n",
       "      <td>0.0</td>\n",
       "      <td>0.0</td>\n",
       "      <td>2</td>\n",
       "      <td>11</td>\n",
       "      <td>97</td>\n",
       "    </tr>\n",
       "    <tr>\n",
       "      <th>1</th>\n",
       "      <td>1.0</td>\n",
       "      <td>0.0</td>\n",
       "      <td>0.0</td>\n",
       "      <td>2</td>\n",
       "      <td>11</td>\n",
       "      <td>97</td>\n",
       "    </tr>\n",
       "    <tr>\n",
       "      <th>2</th>\n",
       "      <td>1.0</td>\n",
       "      <td>0.0</td>\n",
       "      <td>0.0</td>\n",
       "      <td>2</td>\n",
       "      <td>11</td>\n",
       "      <td>97</td>\n",
       "    </tr>\n",
       "    <tr>\n",
       "      <th>3</th>\n",
       "      <td>1.0</td>\n",
       "      <td>0.0</td>\n",
       "      <td>0.0</td>\n",
       "      <td>2</td>\n",
       "      <td>11</td>\n",
       "      <td>97</td>\n",
       "    </tr>\n",
       "    <tr>\n",
       "      <th>4</th>\n",
       "      <td>0.0</td>\n",
       "      <td>1.0</td>\n",
       "      <td>0.0</td>\n",
       "      <td>4</td>\n",
       "      <td>7</td>\n",
       "      <td>86</td>\n",
       "    </tr>\n",
       "  </tbody>\n",
       "</table>\n",
       "</div>"
      ],
      "text/plain": [
       "   GENERE_F  GENERE_M  TITOLOSTUDIO  MODALITALAVORO  PROVINCIAIMPRESA  \\\n",
       "0       1.0       0.0           0.0               2                11   \n",
       "1       1.0       0.0           0.0               2                11   \n",
       "2       1.0       0.0           0.0               2                11   \n",
       "3       1.0       0.0           0.0               2                11   \n",
       "4       0.0       1.0           0.0               4                 7   \n",
       "\n",
       "   NAZIONALITA  \n",
       "0           97  \n",
       "1           97  \n",
       "2           97  \n",
       "3           97  \n",
       "4           86  "
      ]
     },
     "execution_count": 168,
     "metadata": {},
     "output_type": "execute_result"
    }
   ],
   "source": [
    "le_nationality = LabelEncoder()\n",
    "transformed_nationality = le_nationality.fit_transform(activated_labours.NAZIONALITA)\n",
    "activated_transformed['NAZIONALITA'] = transformed_nationality\n",
    "activated_transformed.head()"
   ]
  },
  {
   "cell_type": "code",
   "execution_count": 169,
   "metadata": {},
   "outputs": [
    {
     "data": {
      "text/html": [
       "<div>\n",
       "<style scoped>\n",
       "    .dataframe tbody tr th:only-of-type {\n",
       "        vertical-align: middle;\n",
       "    }\n",
       "\n",
       "    .dataframe tbody tr th {\n",
       "        vertical-align: top;\n",
       "    }\n",
       "\n",
       "    .dataframe thead th {\n",
       "        text-align: right;\n",
       "    }\n",
       "</style>\n",
       "<table border=\"1\" class=\"dataframe\">\n",
       "  <thead>\n",
       "    <tr style=\"text-align: right;\">\n",
       "      <th></th>\n",
       "      <th>GENERE_F</th>\n",
       "      <th>GENERE_M</th>\n",
       "      <th>TITOLOSTUDIO</th>\n",
       "      <th>MODALITALAVORO</th>\n",
       "      <th>PROVINCIAIMPRESA</th>\n",
       "      <th>NAZIONALITA</th>\n",
       "      <th>CONTRATTO</th>\n",
       "    </tr>\n",
       "  </thead>\n",
       "  <tbody>\n",
       "    <tr>\n",
       "      <th>0</th>\n",
       "      <td>1.0</td>\n",
       "      <td>0.0</td>\n",
       "      <td>0.0</td>\n",
       "      <td>2</td>\n",
       "      <td>11</td>\n",
       "      <td>97</td>\n",
       "      <td>12</td>\n",
       "    </tr>\n",
       "    <tr>\n",
       "      <th>1</th>\n",
       "      <td>1.0</td>\n",
       "      <td>0.0</td>\n",
       "      <td>0.0</td>\n",
       "      <td>2</td>\n",
       "      <td>11</td>\n",
       "      <td>97</td>\n",
       "      <td>12</td>\n",
       "    </tr>\n",
       "    <tr>\n",
       "      <th>2</th>\n",
       "      <td>1.0</td>\n",
       "      <td>0.0</td>\n",
       "      <td>0.0</td>\n",
       "      <td>2</td>\n",
       "      <td>11</td>\n",
       "      <td>97</td>\n",
       "      <td>12</td>\n",
       "    </tr>\n",
       "    <tr>\n",
       "      <th>3</th>\n",
       "      <td>1.0</td>\n",
       "      <td>0.0</td>\n",
       "      <td>0.0</td>\n",
       "      <td>2</td>\n",
       "      <td>11</td>\n",
       "      <td>97</td>\n",
       "      <td>12</td>\n",
       "    </tr>\n",
       "    <tr>\n",
       "      <th>4</th>\n",
       "      <td>0.0</td>\n",
       "      <td>1.0</td>\n",
       "      <td>0.0</td>\n",
       "      <td>4</td>\n",
       "      <td>7</td>\n",
       "      <td>86</td>\n",
       "      <td>12</td>\n",
       "    </tr>\n",
       "  </tbody>\n",
       "</table>\n",
       "</div>"
      ],
      "text/plain": [
       "   GENERE_F  GENERE_M  TITOLOSTUDIO  MODALITALAVORO  PROVINCIAIMPRESA  \\\n",
       "0       1.0       0.0           0.0               2                11   \n",
       "1       1.0       0.0           0.0               2                11   \n",
       "2       1.0       0.0           0.0               2                11   \n",
       "3       1.0       0.0           0.0               2                11   \n",
       "4       0.0       1.0           0.0               4                 7   \n",
       "\n",
       "   NAZIONALITA  CONTRATTO  \n",
       "0           97         12  \n",
       "1           97         12  \n",
       "2           97         12  \n",
       "3           97         12  \n",
       "4           86         12  "
      ]
     },
     "execution_count": 169,
     "metadata": {},
     "output_type": "execute_result"
    }
   ],
   "source": [
    "le_contract = LabelEncoder()\n",
    "transformed_contract = le_contract.fit_transform(activated_labours.CONTRATTO)\n",
    "activated_transformed['CONTRATTO'] = transformed_contract\n",
    "activated_transformed.head()"
   ]
  },
  {
   "cell_type": "markdown",
   "metadata": {},
   "source": [
    "Add columns that were already numerical."
   ]
  },
  {
   "cell_type": "code",
   "execution_count": 170,
   "metadata": {},
   "outputs": [
    {
     "data": {
      "text/html": [
       "<div>\n",
       "<style scoped>\n",
       "    .dataframe tbody tr th:only-of-type {\n",
       "        vertical-align: middle;\n",
       "    }\n",
       "\n",
       "    .dataframe tbody tr th {\n",
       "        vertical-align: top;\n",
       "    }\n",
       "\n",
       "    .dataframe thead th {\n",
       "        text-align: right;\n",
       "    }\n",
       "</style>\n",
       "<table border=\"1\" class=\"dataframe\">\n",
       "  <thead>\n",
       "    <tr style=\"text-align: right;\">\n",
       "      <th></th>\n",
       "      <th>GENERE_F</th>\n",
       "      <th>GENERE_M</th>\n",
       "      <th>TITOLOSTUDIO</th>\n",
       "      <th>MODALITALAVORO</th>\n",
       "      <th>PROVINCIAIMPRESA</th>\n",
       "      <th>NAZIONALITA</th>\n",
       "      <th>CONTRATTO</th>\n",
       "      <th>ETA</th>\n",
       "      <th>RETRIBUZIONE</th>\n",
       "      <th>LOGRETRIBUZIONE</th>\n",
       "      <th>DATA</th>\n",
       "      <th>ANNO</th>\n",
       "    </tr>\n",
       "  </thead>\n",
       "  <tbody>\n",
       "    <tr>\n",
       "      <th>0</th>\n",
       "      <td>1.0</td>\n",
       "      <td>0.0</td>\n",
       "      <td>0.0</td>\n",
       "      <td>2</td>\n",
       "      <td>11</td>\n",
       "      <td>97</td>\n",
       "      <td>12</td>\n",
       "      <td>49.0</td>\n",
       "      <td>9.52</td>\n",
       "      <td>2.253395</td>\n",
       "      <td>2014-01-01</td>\n",
       "      <td>2014.0</td>\n",
       "    </tr>\n",
       "    <tr>\n",
       "      <th>1</th>\n",
       "      <td>1.0</td>\n",
       "      <td>0.0</td>\n",
       "      <td>0.0</td>\n",
       "      <td>2</td>\n",
       "      <td>11</td>\n",
       "      <td>97</td>\n",
       "      <td>12</td>\n",
       "      <td>49.0</td>\n",
       "      <td>9.49</td>\n",
       "      <td>2.250239</td>\n",
       "      <td>2014-01-01</td>\n",
       "      <td>2014.0</td>\n",
       "    </tr>\n",
       "    <tr>\n",
       "      <th>2</th>\n",
       "      <td>1.0</td>\n",
       "      <td>0.0</td>\n",
       "      <td>0.0</td>\n",
       "      <td>2</td>\n",
       "      <td>11</td>\n",
       "      <td>97</td>\n",
       "      <td>12</td>\n",
       "      <td>49.0</td>\n",
       "      <td>11.51</td>\n",
       "      <td>2.443216</td>\n",
       "      <td>2014-01-01</td>\n",
       "      <td>2014.0</td>\n",
       "    </tr>\n",
       "    <tr>\n",
       "      <th>3</th>\n",
       "      <td>1.0</td>\n",
       "      <td>0.0</td>\n",
       "      <td>0.0</td>\n",
       "      <td>2</td>\n",
       "      <td>11</td>\n",
       "      <td>97</td>\n",
       "      <td>12</td>\n",
       "      <td>49.0</td>\n",
       "      <td>9.80</td>\n",
       "      <td>2.282382</td>\n",
       "      <td>2014-01-01</td>\n",
       "      <td>2014.0</td>\n",
       "    </tr>\n",
       "    <tr>\n",
       "      <th>4</th>\n",
       "      <td>0.0</td>\n",
       "      <td>1.0</td>\n",
       "      <td>0.0</td>\n",
       "      <td>4</td>\n",
       "      <td>7</td>\n",
       "      <td>86</td>\n",
       "      <td>12</td>\n",
       "      <td>43.0</td>\n",
       "      <td>15.82</td>\n",
       "      <td>2.761275</td>\n",
       "      <td>2014-01-01</td>\n",
       "      <td>2014.0</td>\n",
       "    </tr>\n",
       "  </tbody>\n",
       "</table>\n",
       "</div>"
      ],
      "text/plain": [
       "   GENERE_F  GENERE_M  TITOLOSTUDIO  MODALITALAVORO  PROVINCIAIMPRESA  \\\n",
       "0       1.0       0.0           0.0               2                11   \n",
       "1       1.0       0.0           0.0               2                11   \n",
       "2       1.0       0.0           0.0               2                11   \n",
       "3       1.0       0.0           0.0               2                11   \n",
       "4       0.0       1.0           0.0               4                 7   \n",
       "\n",
       "   NAZIONALITA  CONTRATTO   ETA  RETRIBUZIONE  LOGRETRIBUZIONE        DATA  \\\n",
       "0           97         12  49.0          9.52         2.253395  2014-01-01   \n",
       "1           97         12  49.0          9.49         2.250239  2014-01-01   \n",
       "2           97         12  49.0         11.51         2.443216  2014-01-01   \n",
       "3           97         12  49.0          9.80         2.282382  2014-01-01   \n",
       "4           86         12  43.0         15.82         2.761275  2014-01-01   \n",
       "\n",
       "     ANNO  \n",
       "0  2014.0  \n",
       "1  2014.0  \n",
       "2  2014.0  \n",
       "3  2014.0  \n",
       "4  2014.0  "
      ]
     },
     "execution_count": 170,
     "metadata": {},
     "output_type": "execute_result"
    }
   ],
   "source": [
    "activated_transformed['ETA'] = activated_labours['ETA']\n",
    "activated_transformed['RETRIBUZIONE'] = activated_labours['RETRIBUZIONE']\n",
    "activated_transformed['LOGRETRIBUZIONE'] = activated_labours['LOGRETRIBUZIONE']\n",
    "activated_transformed['DATA'] = activated_labours['DATA']\n",
    "activated_transformed['ANNO'] = activated_labours['ANNO']\n",
    "activated_transformed.head()"
   ]
  },
  {
   "cell_type": "markdown",
   "id": "43988776",
   "metadata": {},
   "source": [
    "Every feature has been converted into numerical values."
   ]
  },
  {
   "cell_type": "code",
   "execution_count": 171,
   "metadata": {},
   "outputs": [
    {
     "name": "stdout",
     "output_type": "stream",
     "text": [
      "Your selected dataframe has 12 columns.\n",
      "There are 6 columns that have missing values.\n"
     ]
    },
    {
     "data": {
      "text/html": [
       "<div>\n",
       "<style scoped>\n",
       "    .dataframe tbody tr th:only-of-type {\n",
       "        vertical-align: middle;\n",
       "    }\n",
       "\n",
       "    .dataframe tbody tr th {\n",
       "        vertical-align: top;\n",
       "    }\n",
       "\n",
       "    .dataframe thead th {\n",
       "        text-align: right;\n",
       "    }\n",
       "</style>\n",
       "<table border=\"1\" class=\"dataframe\">\n",
       "  <thead>\n",
       "    <tr style=\"text-align: right;\">\n",
       "      <th></th>\n",
       "      <th>Missing Values</th>\n",
       "      <th>% of Total Values</th>\n",
       "    </tr>\n",
       "  </thead>\n",
       "  <tbody>\n",
       "    <tr>\n",
       "      <th>TITOLOSTUDIO</th>\n",
       "      <td>1525</td>\n",
       "      <td>0.2</td>\n",
       "    </tr>\n",
       "    <tr>\n",
       "      <th>ETA</th>\n",
       "      <td>1525</td>\n",
       "      <td>0.2</td>\n",
       "    </tr>\n",
       "    <tr>\n",
       "      <th>RETRIBUZIONE</th>\n",
       "      <td>1525</td>\n",
       "      <td>0.2</td>\n",
       "    </tr>\n",
       "    <tr>\n",
       "      <th>LOGRETRIBUZIONE</th>\n",
       "      <td>1525</td>\n",
       "      <td>0.2</td>\n",
       "    </tr>\n",
       "    <tr>\n",
       "      <th>DATA</th>\n",
       "      <td>1525</td>\n",
       "      <td>0.2</td>\n",
       "    </tr>\n",
       "    <tr>\n",
       "      <th>ANNO</th>\n",
       "      <td>1525</td>\n",
       "      <td>0.2</td>\n",
       "    </tr>\n",
       "  </tbody>\n",
       "</table>\n",
       "</div>"
      ],
      "text/plain": [
       "                 Missing Values  % of Total Values\n",
       "TITOLOSTUDIO               1525                0.2\n",
       "ETA                        1525                0.2\n",
       "RETRIBUZIONE               1525                0.2\n",
       "LOGRETRIBUZIONE            1525                0.2\n",
       "DATA                       1525                0.2\n",
       "ANNO                       1525                0.2"
      ]
     },
     "execution_count": 171,
     "metadata": {},
     "output_type": "execute_result"
    }
   ],
   "source": [
    "utils.missing_values_table(activated_transformed)"
   ]
  },
  {
   "cell_type": "code",
   "execution_count": 172,
   "metadata": {},
   "outputs": [],
   "source": [
    "activated_transformed.dropna(inplace=True)"
   ]
  },
  {
   "cell_type": "code",
   "execution_count": 95,
   "id": "a6a6ec70",
   "metadata": {},
   "outputs": [],
   "source": [
    "#activated_transformed.to_csv('./activated_labours_transformed_reg.csv')"
   ]
  },
  {
   "cell_type": "markdown",
   "metadata": {},
   "source": [
    "### Scale the data"
   ]
  },
  {
   "cell_type": "markdown",
   "metadata": {},
   "source": [
    "Apply standardization."
   ]
  },
  {
   "cell_type": "code",
   "execution_count": 173,
   "metadata": {},
   "outputs": [],
   "source": [
    "from sklearn.preprocessing import StandardScaler"
   ]
  },
  {
   "cell_type": "code",
   "execution_count": 174,
   "metadata": {},
   "outputs": [
    {
     "data": {
      "text/html": [
       "<div>\n",
       "<style scoped>\n",
       "    .dataframe tbody tr th:only-of-type {\n",
       "        vertical-align: middle;\n",
       "    }\n",
       "\n",
       "    .dataframe tbody tr th {\n",
       "        vertical-align: top;\n",
       "    }\n",
       "\n",
       "    .dataframe thead th {\n",
       "        text-align: right;\n",
       "    }\n",
       "</style>\n",
       "<table border=\"1\" class=\"dataframe\">\n",
       "  <thead>\n",
       "    <tr style=\"text-align: right;\">\n",
       "      <th></th>\n",
       "      <th>GENERE_F</th>\n",
       "      <th>GENERE_M</th>\n",
       "      <th>TITOLOSTUDIO</th>\n",
       "      <th>MODALITALAVORO</th>\n",
       "      <th>PROVINCIAIMPRESA</th>\n",
       "      <th>NAZIONALITA</th>\n",
       "      <th>CONTRATTO</th>\n",
       "      <th>ETA</th>\n",
       "      <th>RETRIBUZIONE</th>\n",
       "      <th>LOGRETRIBUZIONE</th>\n",
       "      <th>ANNO</th>\n",
       "    </tr>\n",
       "  </thead>\n",
       "  <tbody>\n",
       "    <tr>\n",
       "      <th>0</th>\n",
       "      <td>1.099471</td>\n",
       "      <td>-1.099471</td>\n",
       "      <td>-0.773739</td>\n",
       "      <td>-0.663492</td>\n",
       "      <td>1.732414</td>\n",
       "      <td>0.811071</td>\n",
       "      <td>0.374727</td>\n",
       "      <td>1.114942</td>\n",
       "      <td>-0.568462</td>\n",
       "      <td>-0.553102</td>\n",
       "      <td>-1.575222</td>\n",
       "    </tr>\n",
       "    <tr>\n",
       "      <th>1</th>\n",
       "      <td>1.099471</td>\n",
       "      <td>-1.099471</td>\n",
       "      <td>-0.773739</td>\n",
       "      <td>-0.663492</td>\n",
       "      <td>1.732414</td>\n",
       "      <td>0.811071</td>\n",
       "      <td>0.374727</td>\n",
       "      <td>1.114942</td>\n",
       "      <td>-0.576175</td>\n",
       "      <td>-0.563839</td>\n",
       "      <td>-1.575222</td>\n",
       "    </tr>\n",
       "    <tr>\n",
       "      <th>2</th>\n",
       "      <td>1.099471</td>\n",
       "      <td>-1.099471</td>\n",
       "      <td>-0.773739</td>\n",
       "      <td>-0.663492</td>\n",
       "      <td>1.732414</td>\n",
       "      <td>0.811071</td>\n",
       "      <td>0.374727</td>\n",
       "      <td>1.114942</td>\n",
       "      <td>-0.056813</td>\n",
       "      <td>0.092625</td>\n",
       "      <td>-1.575222</td>\n",
       "    </tr>\n",
       "    <tr>\n",
       "      <th>3</th>\n",
       "      <td>1.099471</td>\n",
       "      <td>-1.099471</td>\n",
       "      <td>-0.773739</td>\n",
       "      <td>-0.663492</td>\n",
       "      <td>1.732414</td>\n",
       "      <td>0.811071</td>\n",
       "      <td>0.374727</td>\n",
       "      <td>1.114942</td>\n",
       "      <td>-0.496471</td>\n",
       "      <td>-0.454494</td>\n",
       "      <td>-1.575222</td>\n",
       "    </tr>\n",
       "    <tr>\n",
       "      <th>4</th>\n",
       "      <td>-0.909528</td>\n",
       "      <td>0.909528</td>\n",
       "      <td>-0.773739</td>\n",
       "      <td>0.764124</td>\n",
       "      <td>0.417622</td>\n",
       "      <td>0.325109</td>\n",
       "      <td>0.374727</td>\n",
       "      <td>0.612565</td>\n",
       "      <td>1.051330</td>\n",
       "      <td>1.174584</td>\n",
       "      <td>-1.575222</td>\n",
       "    </tr>\n",
       "  </tbody>\n",
       "</table>\n",
       "</div>"
      ],
      "text/plain": [
       "   GENERE_F  GENERE_M  TITOLOSTUDIO  MODALITALAVORO  PROVINCIAIMPRESA  \\\n",
       "0  1.099471 -1.099471     -0.773739       -0.663492          1.732414   \n",
       "1  1.099471 -1.099471     -0.773739       -0.663492          1.732414   \n",
       "2  1.099471 -1.099471     -0.773739       -0.663492          1.732414   \n",
       "3  1.099471 -1.099471     -0.773739       -0.663492          1.732414   \n",
       "4 -0.909528  0.909528     -0.773739        0.764124          0.417622   \n",
       "\n",
       "   NAZIONALITA  CONTRATTO       ETA  RETRIBUZIONE  LOGRETRIBUZIONE      ANNO  \n",
       "0     0.811071   0.374727  1.114942     -0.568462        -0.553102 -1.575222  \n",
       "1     0.811071   0.374727  1.114942     -0.576175        -0.563839 -1.575222  \n",
       "2     0.811071   0.374727  1.114942     -0.056813         0.092625 -1.575222  \n",
       "3     0.811071   0.374727  1.114942     -0.496471        -0.454494 -1.575222  \n",
       "4     0.325109   0.374727  0.612565      1.051330         1.174584 -1.575222  "
      ]
     },
     "execution_count": 174,
     "metadata": {},
     "output_type": "execute_result"
    }
   ],
   "source": [
    "ss = StandardScaler()\n",
    "activated_transformed_temp = activated_transformed.drop('DATA', axis=1)\n",
    "scaled_labours = pd.DataFrame(data=ss.fit_transform(activated_transformed_temp), columns=activated_transformed_temp.columns)\n",
    "scaled_labours.head()"
   ]
  },
  {
   "cell_type": "markdown",
   "metadata": {},
   "source": [
    "## Correlation"
   ]
  },
  {
   "cell_type": "code",
   "execution_count": 175,
   "metadata": {},
   "outputs": [
    {
     "data": {
      "text/plain": [
       "<AxesSubplot:>"
      ]
     },
     "execution_count": 175,
     "metadata": {},
     "output_type": "execute_result"
    },
    {
     "data": {
      "image/png": "[encoded data removed]",
      "text/plain": [
       "<Figure size 842.4x595.44 with 2 Axes>"
      ]
     },
     "metadata": {
      "needs_background": "light"
     },
     "output_type": "display_data"
    }
   ],
   "source": [
    "sns.heatmap(scaled_labours.corr(), \n",
    "            square=True,\n",
    "            linewidths=0.2,\n",
    "            cmap='Blues_r',\n",
    "            annot=True)"
   ]
  },
  {
   "cell_type": "markdown",
   "metadata": {},
   "source": [
    "The best correlation is between **ETA** and **TITOLODISTUDIO**, but there is also a considerable correlation between **RETRIBUZIONE** and **TITOLOSTUDIO**.\n",
    "We'll try to make predictions about **TITOLODISTUDIO** basing on **RETRIBUZIONE** and **ETA**. \n",
    "Correlation with **LOGGEDRETRIBUTIONS** is a bit better so we'll take the log version."
   ]
  },
  {
   "cell_type": "code",
   "execution_count": 176,
   "metadata": {},
   "outputs": [],
   "source": [
    "scaled_labours1 = scaled_labours[['LOGRETRIBUZIONE', 'ETA']]"
   ]
  },
  {
   "cell_type": "code",
   "execution_count": 177,
   "metadata": {},
   "outputs": [
    {
     "name": "stderr",
     "output_type": "stream",
     "text": [
      "<ipython-input-177-5e709fbaa59c>:1: SettingWithCopyWarning: \n",
      "A value is trying to be set on a copy of a slice from a DataFrame.\n",
      "Try using .loc[row_indexer,col_indexer] = value instead\n",
      "\n",
      "See the caveats in the documentation: https://pandas.pydata.org/pandas-docs/stable/user_guide/indexing.html#returning-a-view-versus-a-copy\n",
      "  scaled_labours1['TITOLOSTUDIO'] = activated_transformed['TITOLOSTUDIO'].astype(int)\n",
      "<ipython-input-177-5e709fbaa59c>:2: SettingWithCopyWarning: \n",
      "A value is trying to be set on a copy of a slice from a DataFrame\n",
      "\n",
      "See the caveats in the documentation: https://pandas.pydata.org/pandas-docs/stable/user_guide/indexing.html#returning-a-view-versus-a-copy\n",
      "  scaled_labours1.dropna(axis=0, inplace=True)\n"
     ]
    },
    {
     "data": {
      "text/plain": [
       "array([0., 1., 2.])"
      ]
     },
     "execution_count": 177,
     "metadata": {},
     "output_type": "execute_result"
    }
   ],
   "source": [
    "scaled_labours1['TITOLOSTUDIO'] = activated_transformed['TITOLOSTUDIO'].astype(int)\n",
    "scaled_labours1.dropna(axis=0, inplace=True)\n",
    "scaled_labours1.TITOLOSTUDIO.unique()"
   ]
  },
  {
   "cell_type": "markdown",
   "metadata": {},
   "source": [
    "## Predictions"
   ]
  },
  {
   "cell_type": "markdown",
   "metadata": {},
   "source": [
    "We will compare the predictions computed using different classification models:\n",
    "* Logistic regression\n",
    "* XGBoost Random Forest"
   ]
  },
  {
   "cell_type": "code",
   "execution_count": 179,
   "metadata": {},
   "outputs": [
    {
     "name": "stderr",
     "output_type": "stream",
     "text": [
      "/home/ale/anaconda3/envs/datasciencefb/lib/python3.8/site-packages/xgboost/compat.py:36: FutureWarning: pandas.Int64Index is deprecated and will be removed from pandas in a future version. Use pandas.Index with the appropriate dtype instead.\n",
      "  from pandas import MultiIndex, Int64Index\n"
     ]
    }
   ],
   "source": [
    "from sklearn import preprocessing, svm\n",
    "from sklearn.linear_model import LogisticRegression\n",
    "from sklearn.model_selection import train_test_split, cross_val_score, GridSearchCV\n",
    "from sklearn.ensemble import RandomForestClassifier\n",
    "from sklearn.metrics import accuracy_score, f1_score, log_loss\n",
    "import xgboost as xgb\n",
    "from xgboost import XGBClassifier"
   ]
  },
  {
   "cell_type": "code",
   "execution_count": 180,
   "metadata": {},
   "outputs": [],
   "source": [
    "X = scaled_labours1.drop('TITOLOSTUDIO', axis=1)\n",
    "Y = scaled_labours1['TITOLOSTUDIO']\n",
    "\n",
    "x = X.values\n",
    "y = Y.values\n",
    "\n",
    "x_train, x_test, y_train, y_test = train_test_split(x, y, test_size = 0.1, random_state = 0)"
   ]
  },
  {
   "cell_type": "markdown",
   "metadata": {},
   "source": [
    "### Logistic Regression\n",
    "Logistic regression is usually used for binary classification but it can also be used for multiclass classification.\n",
    "In the latter case the Logistic Regression implemented by SKlearn automatically apply the **OvA (One vs All)** technique by treating the multiclass classification as a series of binary classification tasks."
   ]
  },
  {
   "cell_type": "code",
   "execution_count": 181,
   "metadata": {},
   "outputs": [
    {
     "name": "stdout",
     "output_type": "stream",
     "text": [
      "ACCURACY: 0.5798834682994272\n",
      "F1 SCORE(macro): 0.24469461616837207\n",
      "LOG LOSS: 0.9249208365186269\n"
     ]
    }
   ],
   "source": [
    "lr = LogisticRegression()\n",
    "lr.fit(x_train, y_train)\n",
    "\n",
    "y_pred_proba = lr.predict_proba(x_test)\n",
    "y_pred = lr.predict(x_test)\n",
    "\n",
    "print(\"ACCURACY: \"+str(accuracy_score(y_test, y_pred)))\n",
    "print(\"F1 SCORE(macro): \"+str(f1_score(y_test, y_pred, average='macro')))\n",
    "print(\"LOG LOSS: \"+str(log_loss(y_test, y_pred_proba)))"
   ]
  },
  {
   "cell_type": "code",
   "execution_count": 182,
   "metadata": {},
   "outputs": [],
   "source": [
    "def inverse_map(df):\n",
    "  studylevel_mapper = {'0.0': 'NESSUN TITOLO DI STUDIO, LICENZA DI SCUOLA ELEMENTARE E MEDIA',\n",
    "                      '1.0': 'DIPLOMA DI ISTRUZIONE SECONDARIA SUPERIORE, TERZIARIO EXTRA-UNIVERSITARIO, UNIVERSITARIO',\n",
    "                      '2.0': 'LAUREA E POST-LAUREA',\n",
    "            }\n",
    "  return pd.Series(df).replace(studylevel_mapper)\n",
    "\n",
    "def plot_distribution_comparison(y_test, y_pred):\n",
    "  predictions = pd.DataFrame({'True': inverse_map(y_test), 'Predictions': inverse_map(y_pred)})\n",
    "  plt.figure(figsize=STD_SIZE)\n",
    "  sns.displot(predictions, multiple='dodge', shrink=4, label='True values')\n",
    "  # sns.displot(predictions['Predictions'], label='Predicted values')\n",
    "  # plt.legend()\n",
    "  return predictions"
   ]
  },
  {
   "cell_type": "code",
   "execution_count": 183,
   "metadata": {},
   "outputs": [
    {
     "data": {
      "text/plain": [
       "array([0.])"
      ]
     },
     "execution_count": 183,
     "metadata": {},
     "output_type": "execute_result"
    },
    {
     "data": {
      "text/plain": [
       "<Figure size 1080x720 with 0 Axes>"
      ]
     },
     "metadata": {},
     "output_type": "display_data"
    },
    {
     "data": {
      "image/png": "[encoded data removed]",
      "text/plain": [
       "<Figure size 451x360 with 1 Axes>"
      ]
     },
     "metadata": {
      "needs_background": "light"
     },
     "output_type": "display_data"
    }
   ],
   "source": [
    "predictions = plot_distribution_comparison(y_test, y_pred)\n",
    "predictions.Predictions.unique()"
   ]
  },
  {
   "cell_type": "markdown",
   "metadata": {},
   "source": [
    "The lack of correlation has resulted in lack of predictive power regarding Logistic Regression. We try with a more powerful model."
   ]
  },
  {
   "cell_type": "markdown",
   "metadata": {},
   "source": [
    "### XGBoost Random Forest\n",
    "XGBoost implements an ensamble algorithm based on decision trees similar to random forest."
   ]
  },
  {
   "cell_type": "code",
   "execution_count": 184,
   "metadata": {},
   "outputs": [],
   "source": [
    "data_dmatrix = xgb.DMatrix(data=x_train, label=y_train)"
   ]
  },
  {
   "cell_type": "code",
   "execution_count": 187,
   "metadata": {},
   "outputs": [
    {
     "data": {
      "text/html": [
       "<div>\n",
       "<style scoped>\n",
       "    .dataframe tbody tr th:only-of-type {\n",
       "        vertical-align: middle;\n",
       "    }\n",
       "\n",
       "    .dataframe tbody tr th {\n",
       "        vertical-align: top;\n",
       "    }\n",
       "\n",
       "    .dataframe thead th {\n",
       "        text-align: right;\n",
       "    }\n",
       "</style>\n",
       "<table border=\"1\" class=\"dataframe\">\n",
       "  <thead>\n",
       "    <tr style=\"text-align: right;\">\n",
       "      <th></th>\n",
       "      <th>train-auc-mean</th>\n",
       "      <th>train-auc-std</th>\n",
       "      <th>test-auc-mean</th>\n",
       "      <th>test-auc-std</th>\n",
       "    </tr>\n",
       "  </thead>\n",
       "  <tbody>\n",
       "    <tr>\n",
       "      <th>0</th>\n",
       "      <td>0.502288</td>\n",
       "      <td>0.000469</td>\n",
       "      <td>0.500350</td>\n",
       "      <td>0.000466</td>\n",
       "    </tr>\n",
       "    <tr>\n",
       "      <th>1</th>\n",
       "      <td>0.504720</td>\n",
       "      <td>0.001022</td>\n",
       "      <td>0.502482</td>\n",
       "      <td>0.000490</td>\n",
       "    </tr>\n",
       "    <tr>\n",
       "      <th>2</th>\n",
       "      <td>0.505015</td>\n",
       "      <td>0.000540</td>\n",
       "      <td>0.502877</td>\n",
       "      <td>0.000599</td>\n",
       "    </tr>\n",
       "    <tr>\n",
       "      <th>3</th>\n",
       "      <td>0.504990</td>\n",
       "      <td>0.000545</td>\n",
       "      <td>0.502817</td>\n",
       "      <td>0.000605</td>\n",
       "    </tr>\n",
       "    <tr>\n",
       "      <th>4</th>\n",
       "      <td>0.505267</td>\n",
       "      <td>0.000234</td>\n",
       "      <td>0.502860</td>\n",
       "      <td>0.000678</td>\n",
       "    </tr>\n",
       "    <tr>\n",
       "      <th>5</th>\n",
       "      <td>0.505536</td>\n",
       "      <td>0.000375</td>\n",
       "      <td>0.502825</td>\n",
       "      <td>0.000665</td>\n",
       "    </tr>\n",
       "    <tr>\n",
       "      <th>6</th>\n",
       "      <td>0.506028</td>\n",
       "      <td>0.000451</td>\n",
       "      <td>0.503178</td>\n",
       "      <td>0.000349</td>\n",
       "    </tr>\n",
       "    <tr>\n",
       "      <th>7</th>\n",
       "      <td>0.506250</td>\n",
       "      <td>0.000515</td>\n",
       "      <td>0.503166</td>\n",
       "      <td>0.000205</td>\n",
       "    </tr>\n",
       "    <tr>\n",
       "      <th>8</th>\n",
       "      <td>0.506559</td>\n",
       "      <td>0.000747</td>\n",
       "      <td>0.503185</td>\n",
       "      <td>0.000140</td>\n",
       "    </tr>\n",
       "    <tr>\n",
       "      <th>9</th>\n",
       "      <td>0.506777</td>\n",
       "      <td>0.000821</td>\n",
       "      <td>0.503306</td>\n",
       "      <td>0.000127</td>\n",
       "    </tr>\n",
       "    <tr>\n",
       "      <th>10</th>\n",
       "      <td>0.507150</td>\n",
       "      <td>0.000714</td>\n",
       "      <td>0.503351</td>\n",
       "      <td>0.000071</td>\n",
       "    </tr>\n",
       "    <tr>\n",
       "      <th>11</th>\n",
       "      <td>0.507340</td>\n",
       "      <td>0.000798</td>\n",
       "      <td>0.503463</td>\n",
       "      <td>0.000071</td>\n",
       "    </tr>\n",
       "    <tr>\n",
       "      <th>12</th>\n",
       "      <td>0.507425</td>\n",
       "      <td>0.000919</td>\n",
       "      <td>0.503555</td>\n",
       "      <td>0.000118</td>\n",
       "    </tr>\n",
       "    <tr>\n",
       "      <th>13</th>\n",
       "      <td>0.507524</td>\n",
       "      <td>0.000944</td>\n",
       "      <td>0.503736</td>\n",
       "      <td>0.000091</td>\n",
       "    </tr>\n",
       "    <tr>\n",
       "      <th>14</th>\n",
       "      <td>0.507720</td>\n",
       "      <td>0.001000</td>\n",
       "      <td>0.503698</td>\n",
       "      <td>0.000197</td>\n",
       "    </tr>\n",
       "    <tr>\n",
       "      <th>15</th>\n",
       "      <td>0.507895</td>\n",
       "      <td>0.000954</td>\n",
       "      <td>0.503906</td>\n",
       "      <td>0.000115</td>\n",
       "    </tr>\n",
       "    <tr>\n",
       "      <th>16</th>\n",
       "      <td>0.507958</td>\n",
       "      <td>0.000899</td>\n",
       "      <td>0.504002</td>\n",
       "      <td>0.000116</td>\n",
       "    </tr>\n",
       "    <tr>\n",
       "      <th>17</th>\n",
       "      <td>0.508055</td>\n",
       "      <td>0.000872</td>\n",
       "      <td>0.504048</td>\n",
       "      <td>0.000134</td>\n",
       "    </tr>\n",
       "    <tr>\n",
       "      <th>18</th>\n",
       "      <td>0.508103</td>\n",
       "      <td>0.000860</td>\n",
       "      <td>0.504171</td>\n",
       "      <td>0.000193</td>\n",
       "    </tr>\n",
       "    <tr>\n",
       "      <th>19</th>\n",
       "      <td>0.508202</td>\n",
       "      <td>0.000706</td>\n",
       "      <td>0.504323</td>\n",
       "      <td>0.000359</td>\n",
       "    </tr>\n",
       "    <tr>\n",
       "      <th>20</th>\n",
       "      <td>0.508253</td>\n",
       "      <td>0.000644</td>\n",
       "      <td>0.504383</td>\n",
       "      <td>0.000345</td>\n",
       "    </tr>\n",
       "    <tr>\n",
       "      <th>21</th>\n",
       "      <td>0.508416</td>\n",
       "      <td>0.000710</td>\n",
       "      <td>0.504494</td>\n",
       "      <td>0.000334</td>\n",
       "    </tr>\n",
       "    <tr>\n",
       "      <th>22</th>\n",
       "      <td>0.508546</td>\n",
       "      <td>0.000797</td>\n",
       "      <td>0.504522</td>\n",
       "      <td>0.000337</td>\n",
       "    </tr>\n",
       "    <tr>\n",
       "      <th>23</th>\n",
       "      <td>0.508622</td>\n",
       "      <td>0.000719</td>\n",
       "      <td>0.504582</td>\n",
       "      <td>0.000379</td>\n",
       "    </tr>\n",
       "    <tr>\n",
       "      <th>24</th>\n",
       "      <td>0.508660</td>\n",
       "      <td>0.000783</td>\n",
       "      <td>0.504583</td>\n",
       "      <td>0.000345</td>\n",
       "    </tr>\n",
       "    <tr>\n",
       "      <th>25</th>\n",
       "      <td>0.508838</td>\n",
       "      <td>0.000644</td>\n",
       "      <td>0.504628</td>\n",
       "      <td>0.000423</td>\n",
       "    </tr>\n",
       "    <tr>\n",
       "      <th>26</th>\n",
       "      <td>0.508987</td>\n",
       "      <td>0.000562</td>\n",
       "      <td>0.504732</td>\n",
       "      <td>0.000447</td>\n",
       "    </tr>\n",
       "    <tr>\n",
       "      <th>27</th>\n",
       "      <td>0.509121</td>\n",
       "      <td>0.000579</td>\n",
       "      <td>0.504731</td>\n",
       "      <td>0.000398</td>\n",
       "    </tr>\n",
       "    <tr>\n",
       "      <th>28</th>\n",
       "      <td>0.509232</td>\n",
       "      <td>0.000536</td>\n",
       "      <td>0.504769</td>\n",
       "      <td>0.000418</td>\n",
       "    </tr>\n",
       "    <tr>\n",
       "      <th>29</th>\n",
       "      <td>0.509256</td>\n",
       "      <td>0.000497</td>\n",
       "      <td>0.504829</td>\n",
       "      <td>0.000445</td>\n",
       "    </tr>\n",
       "    <tr>\n",
       "      <th>30</th>\n",
       "      <td>0.509386</td>\n",
       "      <td>0.000469</td>\n",
       "      <td>0.504873</td>\n",
       "      <td>0.000452</td>\n",
       "    </tr>\n",
       "    <tr>\n",
       "      <th>31</th>\n",
       "      <td>0.509466</td>\n",
       "      <td>0.000425</td>\n",
       "      <td>0.504918</td>\n",
       "      <td>0.000485</td>\n",
       "    </tr>\n",
       "    <tr>\n",
       "      <th>32</th>\n",
       "      <td>0.509574</td>\n",
       "      <td>0.000551</td>\n",
       "      <td>0.504974</td>\n",
       "      <td>0.000458</td>\n",
       "    </tr>\n",
       "    <tr>\n",
       "      <th>33</th>\n",
       "      <td>0.509707</td>\n",
       "      <td>0.000602</td>\n",
       "      <td>0.504969</td>\n",
       "      <td>0.000487</td>\n",
       "    </tr>\n",
       "    <tr>\n",
       "      <th>34</th>\n",
       "      <td>0.509799</td>\n",
       "      <td>0.000581</td>\n",
       "      <td>0.505023</td>\n",
       "      <td>0.000474</td>\n",
       "    </tr>\n",
       "    <tr>\n",
       "      <th>35</th>\n",
       "      <td>0.509868</td>\n",
       "      <td>0.000562</td>\n",
       "      <td>0.505060</td>\n",
       "      <td>0.000481</td>\n",
       "    </tr>\n",
       "    <tr>\n",
       "      <th>36</th>\n",
       "      <td>0.509993</td>\n",
       "      <td>0.000503</td>\n",
       "      <td>0.505077</td>\n",
       "      <td>0.000491</td>\n",
       "    </tr>\n",
       "    <tr>\n",
       "      <th>37</th>\n",
       "      <td>0.510146</td>\n",
       "      <td>0.000426</td>\n",
       "      <td>0.505036</td>\n",
       "      <td>0.000477</td>\n",
       "    </tr>\n",
       "    <tr>\n",
       "      <th>38</th>\n",
       "      <td>0.510211</td>\n",
       "      <td>0.000423</td>\n",
       "      <td>0.505027</td>\n",
       "      <td>0.000469</td>\n",
       "    </tr>\n",
       "    <tr>\n",
       "      <th>39</th>\n",
       "      <td>0.510345</td>\n",
       "      <td>0.000442</td>\n",
       "      <td>0.505060</td>\n",
       "      <td>0.000453</td>\n",
       "    </tr>\n",
       "    <tr>\n",
       "      <th>40</th>\n",
       "      <td>0.510412</td>\n",
       "      <td>0.000451</td>\n",
       "      <td>0.505069</td>\n",
       "      <td>0.000454</td>\n",
       "    </tr>\n",
       "    <tr>\n",
       "      <th>41</th>\n",
       "      <td>0.510514</td>\n",
       "      <td>0.000421</td>\n",
       "      <td>0.505083</td>\n",
       "      <td>0.000453</td>\n",
       "    </tr>\n",
       "    <tr>\n",
       "      <th>42</th>\n",
       "      <td>0.510645</td>\n",
       "      <td>0.000342</td>\n",
       "      <td>0.505128</td>\n",
       "      <td>0.000504</td>\n",
       "    </tr>\n",
       "    <tr>\n",
       "      <th>43</th>\n",
       "      <td>0.510735</td>\n",
       "      <td>0.000343</td>\n",
       "      <td>0.505147</td>\n",
       "      <td>0.000524</td>\n",
       "    </tr>\n",
       "    <tr>\n",
       "      <th>44</th>\n",
       "      <td>0.510795</td>\n",
       "      <td>0.000314</td>\n",
       "      <td>0.505176</td>\n",
       "      <td>0.000500</td>\n",
       "    </tr>\n",
       "    <tr>\n",
       "      <th>45</th>\n",
       "      <td>0.510817</td>\n",
       "      <td>0.000323</td>\n",
       "      <td>0.505204</td>\n",
       "      <td>0.000508</td>\n",
       "    </tr>\n",
       "    <tr>\n",
       "      <th>46</th>\n",
       "      <td>0.510854</td>\n",
       "      <td>0.000335</td>\n",
       "      <td>0.505217</td>\n",
       "      <td>0.000514</td>\n",
       "    </tr>\n",
       "    <tr>\n",
       "      <th>47</th>\n",
       "      <td>0.511093</td>\n",
       "      <td>0.000265</td>\n",
       "      <td>0.505283</td>\n",
       "      <td>0.000559</td>\n",
       "    </tr>\n",
       "    <tr>\n",
       "      <th>48</th>\n",
       "      <td>0.511149</td>\n",
       "      <td>0.000286</td>\n",
       "      <td>0.505313</td>\n",
       "      <td>0.000566</td>\n",
       "    </tr>\n",
       "    <tr>\n",
       "      <th>49</th>\n",
       "      <td>0.511348</td>\n",
       "      <td>0.000334</td>\n",
       "      <td>0.505329</td>\n",
       "      <td>0.000567</td>\n",
       "    </tr>\n",
       "  </tbody>\n",
       "</table>\n",
       "</div>"
      ],
      "text/plain": [
       "    train-auc-mean  train-auc-std  test-auc-mean  test-auc-std\n",
       "0         0.502288       0.000469       0.500350      0.000466\n",
       "1         0.504720       0.001022       0.502482      0.000490\n",
       "2         0.505015       0.000540       0.502877      0.000599\n",
       "3         0.504990       0.000545       0.502817      0.000605\n",
       "4         0.505267       0.000234       0.502860      0.000678\n",
       "5         0.505536       0.000375       0.502825      0.000665\n",
       "6         0.506028       0.000451       0.503178      0.000349\n",
       "7         0.506250       0.000515       0.503166      0.000205\n",
       "8         0.506559       0.000747       0.503185      0.000140\n",
       "9         0.506777       0.000821       0.503306      0.000127\n",
       "10        0.507150       0.000714       0.503351      0.000071\n",
       "11        0.507340       0.000798       0.503463      0.000071\n",
       "12        0.507425       0.000919       0.503555      0.000118\n",
       "13        0.507524       0.000944       0.503736      0.000091\n",
       "14        0.507720       0.001000       0.503698      0.000197\n",
       "15        0.507895       0.000954       0.503906      0.000115\n",
       "16        0.507958       0.000899       0.504002      0.000116\n",
       "17        0.508055       0.000872       0.504048      0.000134\n",
       "18        0.508103       0.000860       0.504171      0.000193\n",
       "19        0.508202       0.000706       0.504323      0.000359\n",
       "20        0.508253       0.000644       0.504383      0.000345\n",
       "21        0.508416       0.000710       0.504494      0.000334\n",
       "22        0.508546       0.000797       0.504522      0.000337\n",
       "23        0.508622       0.000719       0.504582      0.000379\n",
       "24        0.508660       0.000783       0.504583      0.000345\n",
       "25        0.508838       0.000644       0.504628      0.000423\n",
       "26        0.508987       0.000562       0.504732      0.000447\n",
       "27        0.509121       0.000579       0.504731      0.000398\n",
       "28        0.509232       0.000536       0.504769      0.000418\n",
       "29        0.509256       0.000497       0.504829      0.000445\n",
       "30        0.509386       0.000469       0.504873      0.000452\n",
       "31        0.509466       0.000425       0.504918      0.000485\n",
       "32        0.509574       0.000551       0.504974      0.000458\n",
       "33        0.509707       0.000602       0.504969      0.000487\n",
       "34        0.509799       0.000581       0.505023      0.000474\n",
       "35        0.509868       0.000562       0.505060      0.000481\n",
       "36        0.509993       0.000503       0.505077      0.000491\n",
       "37        0.510146       0.000426       0.505036      0.000477\n",
       "38        0.510211       0.000423       0.505027      0.000469\n",
       "39        0.510345       0.000442       0.505060      0.000453\n",
       "40        0.510412       0.000451       0.505069      0.000454\n",
       "41        0.510514       0.000421       0.505083      0.000453\n",
       "42        0.510645       0.000342       0.505128      0.000504\n",
       "43        0.510735       0.000343       0.505147      0.000524\n",
       "44        0.510795       0.000314       0.505176      0.000500\n",
       "45        0.510817       0.000323       0.505204      0.000508\n",
       "46        0.510854       0.000335       0.505217      0.000514\n",
       "47        0.511093       0.000265       0.505283      0.000559\n",
       "48        0.511149       0.000286       0.505313      0.000566\n",
       "49        0.511348       0.000334       0.505329      0.000567"
      ]
     },
     "execution_count": 187,
     "metadata": {},
     "output_type": "execute_result"
    }
   ],
   "source": [
    "params = {\"objective\": 'multi:softmax', 'num_class':3, 'colsample_bytree': 0.3,'learning_rate': 0.1,\n",
    "                'max_depth': 5, 'alpha': 10}\n",
    "\n",
    "cv_results = xgb.cv(dtrain=data_dmatrix, params=params, nfold=3,\n",
    "                    num_boost_round=50, early_stopping_rounds=10, metrics=\"auc\", as_pandas=True, seed=37)\n",
    "\n",
    "cv_results"
   ]
  },
  {
   "cell_type": "code",
   "execution_count": 188,
   "metadata": {},
   "outputs": [
    {
     "name": "stderr",
     "output_type": "stream",
     "text": [
      "/home/ale/anaconda3/envs/datasciencefb/lib/python3.8/site-packages/xgboost/sklearn.py:1224: UserWarning: The use of label encoder in XGBClassifier is deprecated and will be removed in a future release. To remove this warning, do the following: 1) Pass option use_label_encoder=False when constructing XGBClassifier object; and 2) Encode your labels (y) as integers starting with 0, i.e. 0, 1, 2, ..., [num_class - 1].\n",
      "  warnings.warn(label_encoder_deprecation_msg, UserWarning)\n"
     ]
    },
    {
     "name": "stdout",
     "output_type": "stream",
     "text": [
      "[11:50:59] WARNING: ../src/learner.cc:576: \n",
      "Parameters: { \"num_boost_round\", \"params\", \"silent\" } might not be used.\n",
      "\n",
      "  This could be a false alarm, with some parameters getting used by language bindings but\n",
      "  then being mistakenly passed down to XGBoost core, or some parameter actually being used\n",
      "  but getting flagged wrongly here. Please open an issue if you find any such cases.\n",
      "\n",
      "\n",
      "[11:51:00] WARNING: ../src/learner.cc:1115: Starting in XGBoost 1.3.0, the default evaluation metric used with the objective 'multi:softprob' was changed from 'merror' to 'mlogloss'. Explicitly set eval_metric if you'd like to restore the old behavior.\n"
     ]
    },
    {
     "data": {
      "text/plain": [
       "XGBClassifier(base_score=0.5, booster='gbtree', colsample_bylevel=1,\n",
       "              colsample_bynode=1, colsample_bytree=1, enable_categorical=False,\n",
       "              gamma=0, gpu_id=-1, importance_type=None,\n",
       "              interaction_constraints='', learning_rate=0.300000012,\n",
       "              max_delta_step=0, max_depth=6, min_child_weight=1, missing=nan,\n",
       "              monotone_constraints='()', n_estimators=100, n_jobs=8,\n",
       "              num_boost_round=50, num_parallel_tree=1,\n",
       "              objective='multi:softprob',\n",
       "              params={'alpha': 10, 'colsample_bytree': 0.3,\n",
       "                      'learning_rate': 0.1, 'max_depth': 5, 'num_class': 3,\n",
       "                      'objective': 'multi:softmax'},\n",
       "              predictor='auto', random_state=0, reg_alpha=0, reg_lambda=1,\n",
       "              scale_pos_weight=None, silent=0, subsample=1, tree_method='exact', ...)"
      ]
     },
     "execution_count": 188,
     "metadata": {},
     "output_type": "execute_result"
    }
   ],
   "source": [
    "model = xgb.XGBClassifier(params=params, num_boost_round=cv_results.shape[0], silent=0, use_label_encoder=False)\n",
    "model.fit(x_train, y_train)"
   ]
  },
  {
   "cell_type": "code",
   "execution_count": 189,
   "metadata": {},
   "outputs": [],
   "source": [
    "preds = model.predict(x_test)\n",
    "preds_proba = model.predict_proba(x_test)"
   ]
  },
  {
   "cell_type": "code",
   "execution_count": 190,
   "metadata": {},
   "outputs": [
    {
     "name": "stdout",
     "output_type": "stream",
     "text": [
      "ACCURACY: 0.5797452103495951\n",
      "F1 SCORE(macro): 0.2450351335052889\n",
      "LOG LOSS: 0.9254481044691553\n"
     ]
    }
   ],
   "source": [
    "print(\"ACCURACY: \"+str(accuracy_score(y_test, preds)))\n",
    "print(\"F1 SCORE(macro): \"+str(f1_score(y_test, preds, average='macro')))\n",
    "print(\"LOG LOSS: \"+str(log_loss(y_test, preds_proba)))"
   ]
  },
  {
   "cell_type": "code",
   "execution_count": 191,
   "metadata": {},
   "outputs": [
    {
     "data": {
      "text/plain": [
       "array([0., 1., 2.])"
      ]
     },
     "execution_count": 191,
     "metadata": {},
     "output_type": "execute_result"
    },
    {
     "data": {
      "text/plain": [
       "<Figure size 1080x720 with 0 Axes>"
      ]
     },
     "metadata": {},
     "output_type": "display_data"
    },
    {
     "data": {
      "image/png": "[encoded data removed]",
      "text/plain": [
       "<Figure size 451x360 with 1 Axes>"
      ]
     },
     "metadata": {
      "needs_background": "light"
     },
     "output_type": "display_data"
    }
   ],
   "source": [
    "predictions1 = plot_distribution_comparison(y_test, preds)\n",
    "predictions1.Predictions.unique()"
   ]
  },
  {
   "cell_type": "markdown",
   "metadata": {},
   "source": [
    "This time we have also some values for the second and third class but in general, predictions are not good yet."
   ]
  },
  {
   "cell_type": "code",
   "execution_count": 192,
   "metadata": {},
   "outputs": [
    {
     "data": {
      "image/png": "[encoded data removed]",
      "text/plain": [
       "<Figure size 842.4x595.44 with 1 Axes>"
      ]
     },
     "metadata": {
      "needs_background": "light"
     },
     "output_type": "display_data"
    }
   ],
   "source": [
    "xgb.plot_importance(model)\n",
    "plt.rcParams['figure.figsize'] = a4_dims\n",
    "plt.show()"
   ]
  },
  {
   "cell_type": "markdown",
   "metadata": {},
   "source": [
    "### Support Vector Machines"
   ]
  },
  {
   "cell_type": "code",
   "execution_count": null,
   "metadata": {},
   "outputs": [],
   "source": [
    "svc = svm.SVC()\n",
    "svc.fit(x_train, y_train)\n",
    "\n",
    "y_pred = svc.predict(x_test)\n",
    "\n",
    "print(\"ACCURACY: \"+str(accuracy_score(y_test, preds)))\n",
    "print(\"F1 SCORE(macro): \"+str(f1_score(y_test, preds, average='macro')))\n",
    "print(\"LOG LOSS: \"+str(log_loss(y_test, preds_proba)))"
   ]
  },
  {
   "cell_type": "code",
   "execution_count": null,
   "metadata": {},
   "outputs": [],
   "source": [
    "predictions2 = plot_distribution_comparison(y_test, y_pred).head()\n",
    "predictions2.Predictions.unique()"
   ]
  },
  {
   "cell_type": "markdown",
   "id": "8d4659fc",
   "metadata": {},
   "source": [
    "# Machine learning"
   ]
  },
  {
   "cell_type": "markdown",
   "id": "88b42e69",
   "metadata": {},
   "source": [
    "Given a set of activated labours features we want to try to predict the study title of people."
   ]
  },
  {
   "cell_type": "code",
   "execution_count": null,
   "id": "caae796d",
   "metadata": {},
   "outputs": [
    {
     "data": {
      "text/html": [
       "<div>\n",
       "<style scoped>\n",
       "    .dataframe tbody tr th:only-of-type {\n",
       "        vertical-align: middle;\n",
       "    }\n",
       "\n",
       "    .dataframe tbody tr th {\n",
       "        vertical-align: top;\n",
       "    }\n",
       "\n",
       "    .dataframe thead th {\n",
       "        text-align: right;\n",
       "    }\n",
       "</style>\n",
       "<table border=\"1\" class=\"dataframe\">\n",
       "  <thead>\n",
       "    <tr style=\"text-align: right;\">\n",
       "      <th></th>\n",
       "      <th>GENERE_F</th>\n",
       "      <th>GENERE_M</th>\n",
       "      <th>TITOLOSTUDIO</th>\n",
       "      <th>MODALITALAVORO</th>\n",
       "      <th>PROVINCIAIMPRESA</th>\n",
       "      <th>NATIONALITY</th>\n",
       "    </tr>\n",
       "  </thead>\n",
       "  <tbody>\n",
       "    <tr>\n",
       "      <th>0</th>\n",
       "      <td>1.0</td>\n",
       "      <td>0.0</td>\n",
       "      <td>0</td>\n",
       "      <td>2</td>\n",
       "      <td>7</td>\n",
       "      <td>89</td>\n",
       "    </tr>\n",
       "    <tr>\n",
       "      <th>1</th>\n",
       "      <td>1.0</td>\n",
       "      <td>0.0</td>\n",
       "      <td>0</td>\n",
       "      <td>2</td>\n",
       "      <td>7</td>\n",
       "      <td>89</td>\n",
       "    </tr>\n",
       "    <tr>\n",
       "      <th>2</th>\n",
       "      <td>1.0</td>\n",
       "      <td>0.0</td>\n",
       "      <td>0</td>\n",
       "      <td>2</td>\n",
       "      <td>0</td>\n",
       "      <td>89</td>\n",
       "    </tr>\n",
       "    <tr>\n",
       "      <th>3</th>\n",
       "      <td>0.0</td>\n",
       "      <td>1.0</td>\n",
       "      <td>0</td>\n",
       "      <td>4</td>\n",
       "      <td>7</td>\n",
       "      <td>89</td>\n",
       "    </tr>\n",
       "    <tr>\n",
       "      <th>4</th>\n",
       "      <td>0.0</td>\n",
       "      <td>1.0</td>\n",
       "      <td>0</td>\n",
       "      <td>4</td>\n",
       "      <td>7</td>\n",
       "      <td>89</td>\n",
       "    </tr>\n",
       "  </tbody>\n",
       "</table>\n",
       "</div>"
      ],
      "text/plain": [
       "   GENERE_F  GENERE_M  TITOLOSTUDIO  MODALITALAVORO  PROVINCIAIMPRESA  \\\n",
       "0       1.0       0.0             0               2                 7   \n",
       "1       1.0       0.0             0               2                 7   \n",
       "2       1.0       0.0             0               2                 0   \n",
       "3       0.0       1.0             0               4                 7   \n",
       "4       0.0       1.0             0               4                 7   \n",
       "\n",
       "   NATIONALITY  \n",
       "0           89  \n",
       "1           89  \n",
       "2           89  \n",
       "3           89  \n",
       "4           89  "
      ]
     },
     "execution_count": 21,
     "metadata": {},
     "output_type": "execute_result"
    }
   ],
   "source": [
    "# the features\n",
    "activated_transformed.head()"
   ]
  },
  {
   "cell_type": "markdown",
   "id": "53d340f4",
   "metadata": {},
   "source": [
    "### Linear regression"
   ]
  },
  {
   "cell_type": "markdown",
   "id": "34d90361",
   "metadata": {},
   "source": [
    "We must check the linearity of the data to understand if we can apply the multiple linear regression."
   ]
  },
  {
   "cell_type": "code",
   "execution_count": 100,
   "id": "fb757e37",
   "metadata": {},
   "outputs": [
    {
     "data": {
      "image/png": "[encoded data removed]",
      "text/plain": [
       "<Figure size 792x576 with 2 Axes>"
      ]
     },
     "metadata": {
      "needs_background": "light"
     },
     "output_type": "display_data"
    }
   ],
   "source": [
    "corrMatrix = scaled_labours.corr()\n",
    "plt.figure(figsize=(11,8))\n",
    "sns.heatmap(corrMatrix, annot=True)\n",
    "plt.show()"
   ]
  },
  {
   "cell_type": "markdown",
   "id": "2fdb1a67",
   "metadata": {},
   "source": [
    "The correlation matrix does not show significative correlations between our features. Thus, performing the linear regression is not suitable in our case."
   ]
  },
  {
   "cell_type": "markdown",
   "id": "ec73ce80",
   "metadata": {},
   "source": [
    "### XGBoost"
   ]
  },
  {
   "cell_type": "markdown",
   "id": "34fa12e0",
   "metadata": {},
   "source": [
    "Move target column to the last position"
   ]
  },
  {
   "cell_type": "code",
   "execution_count": null,
   "id": "296074ff",
   "metadata": {},
   "outputs": [],
   "source": [
    "xgb_activated_transformed = activated_transformed.loc[:, activated_transformed.columns != 'TITOLOSTUDIO']\n",
    "xgb_activated_transformed['TITOLOSTUDIO']= activated_transformed['TITOLOSTUDIO']"
   ]
  },
  {
   "cell_type": "code",
   "execution_count": null,
   "id": "17a3991e",
   "metadata": {},
   "outputs": [
    {
     "data": {
      "text/html": [
       "<div>\n",
       "<style scoped>\n",
       "    .dataframe tbody tr th:only-of-type {\n",
       "        vertical-align: middle;\n",
       "    }\n",
       "\n",
       "    .dataframe tbody tr th {\n",
       "        vertical-align: top;\n",
       "    }\n",
       "\n",
       "    .dataframe thead th {\n",
       "        text-align: right;\n",
       "    }\n",
       "</style>\n",
       "<table border=\"1\" class=\"dataframe\">\n",
       "  <thead>\n",
       "    <tr style=\"text-align: right;\">\n",
       "      <th></th>\n",
       "      <th>GENERE_F</th>\n",
       "      <th>GENERE_M</th>\n",
       "      <th>MODALITALAVORO</th>\n",
       "      <th>PROVINCIAIMPRESA</th>\n",
       "      <th>NATIONALITY</th>\n",
       "      <th>TITOLOSTUDIO</th>\n",
       "    </tr>\n",
       "  </thead>\n",
       "  <tbody>\n",
       "    <tr>\n",
       "      <th>0</th>\n",
       "      <td>1.0</td>\n",
       "      <td>0.0</td>\n",
       "      <td>2</td>\n",
       "      <td>7</td>\n",
       "      <td>89</td>\n",
       "      <td>0</td>\n",
       "    </tr>\n",
       "    <tr>\n",
       "      <th>1</th>\n",
       "      <td>1.0</td>\n",
       "      <td>0.0</td>\n",
       "      <td>2</td>\n",
       "      <td>7</td>\n",
       "      <td>89</td>\n",
       "      <td>0</td>\n",
       "    </tr>\n",
       "    <tr>\n",
       "      <th>2</th>\n",
       "      <td>1.0</td>\n",
       "      <td>0.0</td>\n",
       "      <td>2</td>\n",
       "      <td>0</td>\n",
       "      <td>89</td>\n",
       "      <td>0</td>\n",
       "    </tr>\n",
       "    <tr>\n",
       "      <th>3</th>\n",
       "      <td>0.0</td>\n",
       "      <td>1.0</td>\n",
       "      <td>4</td>\n",
       "      <td>7</td>\n",
       "      <td>89</td>\n",
       "      <td>0</td>\n",
       "    </tr>\n",
       "    <tr>\n",
       "      <th>4</th>\n",
       "      <td>0.0</td>\n",
       "      <td>1.0</td>\n",
       "      <td>4</td>\n",
       "      <td>7</td>\n",
       "      <td>89</td>\n",
       "      <td>0</td>\n",
       "    </tr>\n",
       "  </tbody>\n",
       "</table>\n",
       "</div>"
      ],
      "text/plain": [
       "   GENERE_F  GENERE_M  MODALITALAVORO  PROVINCIAIMPRESA  NATIONALITY  \\\n",
       "0       1.0       0.0               2                 7           89   \n",
       "1       1.0       0.0               2                 7           89   \n",
       "2       1.0       0.0               2                 0           89   \n",
       "3       0.0       1.0               4                 7           89   \n",
       "4       0.0       1.0               4                 7           89   \n",
       "\n",
       "   TITOLOSTUDIO  \n",
       "0             0  \n",
       "1             0  \n",
       "2             0  \n",
       "3             0  \n",
       "4             0  "
      ]
     },
     "execution_count": 33,
     "metadata": {},
     "output_type": "execute_result"
    }
   ],
   "source": [
    "xgb_activated_transformed.head()"
   ]
  },
  {
   "cell_type": "code",
   "execution_count": null,
   "id": "d8378a9e",
   "metadata": {},
   "outputs": [],
   "source": [
    "#Prepare the dataset for prediction\n",
    "X, y = xgb_activated_transformed.iloc[:,:-1], xgb_activated_transformed.iloc[:,-1]"
   ]
  },
  {
   "cell_type": "code",
   "execution_count": null,
   "id": "87a48a73",
   "metadata": {},
   "outputs": [],
   "source": [
    "data_dmatrix = xgb.DMatrix(data=X,label=y)"
   ]
  },
  {
   "cell_type": "code",
   "execution_count": null,
   "id": "97fd2fc7",
   "metadata": {},
   "outputs": [],
   "source": [
    "X_train, X_test, y_train, y_test = train_test_split(X, y, test_size=0.2, random_state=123)"
   ]
  },
  {
   "cell_type": "code",
   "execution_count": null,
   "id": "5bc0bfc4",
   "metadata": {},
   "outputs": [],
   "source": [
    "xgbc = XGBClassifier()"
   ]
  },
  {
   "cell_type": "code",
   "execution_count": null,
   "id": "3b25baf8",
   "metadata": {},
   "outputs": [
    {
     "data": {
      "text/plain": [
       "XGBClassifier(base_score=0.5, booster='gbtree', callbacks=None,\n",
       "              colsample_bylevel=1, colsample_bynode=1, colsample_bytree=1,\n",
       "              early_stopping_rounds=None, enable_categorical=False,\n",
       "              eval_metric=None, gamma=0, gpu_id=-1, grow_policy='depthwise',\n",
       "              importance_type=None, interaction_constraints='',\n",
       "              learning_rate=0.300000012, max_bin=256, max_cat_to_onehot=4,\n",
       "              max_delta_step=0, max_depth=6, max_leaves=0, min_child_weight=1,\n",
       "              missing=nan, monotone_constraints='()', n_estimators=100,\n",
       "              n_jobs=0, num_parallel_tree=1, objective='multi:softprob',\n",
       "              predictor='auto', random_state=0, reg_alpha=0, ...)"
      ]
     },
     "execution_count": 46,
     "metadata": {},
     "output_type": "execute_result"
    }
   ],
   "source": [
    "xgbc.fit(X_train, y_train)"
   ]
  },
  {
   "cell_type": "code",
   "execution_count": null,
   "id": "d58f11a5",
   "metadata": {},
   "outputs": [
    {
     "ename": "KeyboardInterrupt",
     "evalue": "",
     "output_type": "error",
     "traceback": [
      "\u001b[0;31m---------------------------------------------------------------------------\u001b[0m",
      "\u001b[0;31mKeyboardInterrupt\u001b[0m                         Traceback (most recent call last)",
      "\u001b[1;32m/Users/andreanonali/Documents/DataScienceForBusiness/transformations_activated_labours.ipynb Cell 47'\u001b[0m in \u001b[0;36m<cell line: 1>\u001b[0;34m()\u001b[0m\n\u001b[0;32m----> <a href='vscode-notebook-cell:/Users/andreanonali/Documents/DataScienceForBusiness/transformations_activated_labours.ipynb#ch0000048?line=0'>1</a>\u001b[0m cross_val_score(xgbc, X_train, y_train, cv\u001b[39m=\u001b[39;49m\u001b[39m5\u001b[39;49m)\n",
      "File \u001b[0;32m/opt/homebrew/lib/python3.9/site-packages/sklearn/model_selection/_validation.py:509\u001b[0m, in \u001b[0;36mcross_val_score\u001b[0;34m(estimator, X, y, groups, scoring, cv, n_jobs, verbose, fit_params, pre_dispatch, error_score)\u001b[0m\n\u001b[1;32m    <a href='file:///opt/homebrew/lib/python3.9/site-packages/sklearn/model_selection/_validation.py?line=505'>506</a>\u001b[0m \u001b[39m# To ensure multimetric format is not supported\u001b[39;00m\n\u001b[1;32m    <a href='file:///opt/homebrew/lib/python3.9/site-packages/sklearn/model_selection/_validation.py?line=506'>507</a>\u001b[0m scorer \u001b[39m=\u001b[39m check_scoring(estimator, scoring\u001b[39m=\u001b[39mscoring)\n\u001b[0;32m--> <a href='file:///opt/homebrew/lib/python3.9/site-packages/sklearn/model_selection/_validation.py?line=508'>509</a>\u001b[0m cv_results \u001b[39m=\u001b[39m cross_validate(\n\u001b[1;32m    <a href='file:///opt/homebrew/lib/python3.9/site-packages/sklearn/model_selection/_validation.py?line=509'>510</a>\u001b[0m     estimator\u001b[39m=\u001b[39;49mestimator,\n\u001b[1;32m    <a href='file:///opt/homebrew/lib/python3.9/site-packages/sklearn/model_selection/_validation.py?line=510'>511</a>\u001b[0m     X\u001b[39m=\u001b[39;49mX,\n\u001b[1;32m    <a href='file:///opt/homebrew/lib/python3.9/site-packages/sklearn/model_selection/_validation.py?line=511'>512</a>\u001b[0m     y\u001b[39m=\u001b[39;49my,\n\u001b[1;32m    <a href='file:///opt/homebrew/lib/python3.9/site-packages/sklearn/model_selection/_validation.py?line=512'>513</a>\u001b[0m     groups\u001b[39m=\u001b[39;49mgroups,\n\u001b[1;32m    <a href='file:///opt/homebrew/lib/python3.9/site-packages/sklearn/model_selection/_validation.py?line=513'>514</a>\u001b[0m     scoring\u001b[39m=\u001b[39;49m{\u001b[39m\"\u001b[39;49m\u001b[39mscore\u001b[39;49m\u001b[39m\"\u001b[39;49m: scorer},\n\u001b[1;32m    <a href='file:///opt/homebrew/lib/python3.9/site-packages/sklearn/model_selection/_validation.py?line=514'>515</a>\u001b[0m     cv\u001b[39m=\u001b[39;49mcv,\n\u001b[1;32m    <a href='file:///opt/homebrew/lib/python3.9/site-packages/sklearn/model_selection/_validation.py?line=515'>516</a>\u001b[0m     n_jobs\u001b[39m=\u001b[39;49mn_jobs,\n\u001b[1;32m    <a href='file:///opt/homebrew/lib/python3.9/site-packages/sklearn/model_selection/_validation.py?line=516'>517</a>\u001b[0m     verbose\u001b[39m=\u001b[39;49mverbose,\n\u001b[1;32m    <a href='file:///opt/homebrew/lib/python3.9/site-packages/sklearn/model_selection/_validation.py?line=517'>518</a>\u001b[0m     fit_params\u001b[39m=\u001b[39;49mfit_params,\n\u001b[1;32m    <a href='file:///opt/homebrew/lib/python3.9/site-packages/sklearn/model_selection/_validation.py?line=518'>519</a>\u001b[0m     pre_dispatch\u001b[39m=\u001b[39;49mpre_dispatch,\n\u001b[1;32m    <a href='file:///opt/homebrew/lib/python3.9/site-packages/sklearn/model_selection/_validation.py?line=519'>520</a>\u001b[0m     error_score\u001b[39m=\u001b[39;49merror_score,\n\u001b[1;32m    <a href='file:///opt/homebrew/lib/python3.9/site-packages/sklearn/model_selection/_validation.py?line=520'>521</a>\u001b[0m )\n\u001b[1;32m    <a href='file:///opt/homebrew/lib/python3.9/site-packages/sklearn/model_selection/_validation.py?line=521'>522</a>\u001b[0m \u001b[39mreturn\u001b[39;00m cv_results[\u001b[39m\"\u001b[39m\u001b[39mtest_score\u001b[39m\u001b[39m\"\u001b[39m]\n",
      "File \u001b[0;32m/opt/homebrew/lib/python3.9/site-packages/sklearn/model_selection/_validation.py:267\u001b[0m, in \u001b[0;36mcross_validate\u001b[0;34m(estimator, X, y, groups, scoring, cv, n_jobs, verbose, fit_params, pre_dispatch, return_train_score, return_estimator, error_score)\u001b[0m\n\u001b[1;32m    <a href='file:///opt/homebrew/lib/python3.9/site-packages/sklearn/model_selection/_validation.py?line=263'>264</a>\u001b[0m \u001b[39m# We clone the estimator to make sure that all the folds are\u001b[39;00m\n\u001b[1;32m    <a href='file:///opt/homebrew/lib/python3.9/site-packages/sklearn/model_selection/_validation.py?line=264'>265</a>\u001b[0m \u001b[39m# independent, and that it is pickle-able.\u001b[39;00m\n\u001b[1;32m    <a href='file:///opt/homebrew/lib/python3.9/site-packages/sklearn/model_selection/_validation.py?line=265'>266</a>\u001b[0m parallel \u001b[39m=\u001b[39m Parallel(n_jobs\u001b[39m=\u001b[39mn_jobs, verbose\u001b[39m=\u001b[39mverbose, pre_dispatch\u001b[39m=\u001b[39mpre_dispatch)\n\u001b[0;32m--> <a href='file:///opt/homebrew/lib/python3.9/site-packages/sklearn/model_selection/_validation.py?line=266'>267</a>\u001b[0m results \u001b[39m=\u001b[39m parallel(\n\u001b[1;32m    <a href='file:///opt/homebrew/lib/python3.9/site-packages/sklearn/model_selection/_validation.py?line=267'>268</a>\u001b[0m     delayed(_fit_and_score)(\n\u001b[1;32m    <a href='file:///opt/homebrew/lib/python3.9/site-packages/sklearn/model_selection/_validation.py?line=268'>269</a>\u001b[0m         clone(estimator),\n\u001b[1;32m    <a href='file:///opt/homebrew/lib/python3.9/site-packages/sklearn/model_selection/_validation.py?line=269'>270</a>\u001b[0m         X,\n\u001b[1;32m    <a href='file:///opt/homebrew/lib/python3.9/site-packages/sklearn/model_selection/_validation.py?line=270'>271</a>\u001b[0m         y,\n\u001b[1;32m    <a href='file:///opt/homebrew/lib/python3.9/site-packages/sklearn/model_selection/_validation.py?line=271'>272</a>\u001b[0m         scorers,\n\u001b[1;32m    <a href='file:///opt/homebrew/lib/python3.9/site-packages/sklearn/model_selection/_validation.py?line=272'>273</a>\u001b[0m         train,\n\u001b[1;32m    <a href='file:///opt/homebrew/lib/python3.9/site-packages/sklearn/model_selection/_validation.py?line=273'>274</a>\u001b[0m         test,\n\u001b[1;32m    <a href='file:///opt/homebrew/lib/python3.9/site-packages/sklearn/model_selection/_validation.py?line=274'>275</a>\u001b[0m         verbose,\n\u001b[1;32m    <a href='file:///opt/homebrew/lib/python3.9/site-packages/sklearn/model_selection/_validation.py?line=275'>276</a>\u001b[0m         \u001b[39mNone\u001b[39;49;00m,\n\u001b[1;32m    <a href='file:///opt/homebrew/lib/python3.9/site-packages/sklearn/model_selection/_validation.py?line=276'>277</a>\u001b[0m         fit_params,\n\u001b[1;32m    <a href='file:///opt/homebrew/lib/python3.9/site-packages/sklearn/model_selection/_validation.py?line=277'>278</a>\u001b[0m         return_train_score\u001b[39m=\u001b[39;49mreturn_train_score,\n\u001b[1;32m    <a href='file:///opt/homebrew/lib/python3.9/site-packages/sklearn/model_selection/_validation.py?line=278'>279</a>\u001b[0m         return_times\u001b[39m=\u001b[39;49m\u001b[39mTrue\u001b[39;49;00m,\n\u001b[1;32m    <a href='file:///opt/homebrew/lib/python3.9/site-packages/sklearn/model_selection/_validation.py?line=279'>280</a>\u001b[0m         return_estimator\u001b[39m=\u001b[39;49mreturn_estimator,\n\u001b[1;32m    <a href='file:///opt/homebrew/lib/python3.9/site-packages/sklearn/model_selection/_validation.py?line=280'>281</a>\u001b[0m         error_score\u001b[39m=\u001b[39;49merror_score,\n\u001b[1;32m    <a href='file:///opt/homebrew/lib/python3.9/site-packages/sklearn/model_selection/_validation.py?line=281'>282</a>\u001b[0m     )\n\u001b[1;32m    <a href='file:///opt/homebrew/lib/python3.9/site-packages/sklearn/model_selection/_validation.py?line=282'>283</a>\u001b[0m     \u001b[39mfor\u001b[39;49;00m train, test \u001b[39min\u001b[39;49;00m cv\u001b[39m.\u001b[39;49msplit(X, y, groups)\n\u001b[1;32m    <a href='file:///opt/homebrew/lib/python3.9/site-packages/sklearn/model_selection/_validation.py?line=283'>284</a>\u001b[0m )\n\u001b[1;32m    <a href='file:///opt/homebrew/lib/python3.9/site-packages/sklearn/model_selection/_validation.py?line=285'>286</a>\u001b[0m _warn_about_fit_failures(results, error_score)\n\u001b[1;32m    <a href='file:///opt/homebrew/lib/python3.9/site-packages/sklearn/model_selection/_validation.py?line=287'>288</a>\u001b[0m \u001b[39m# For callabe scoring, the return type is only know after calling. If the\u001b[39;00m\n\u001b[1;32m    <a href='file:///opt/homebrew/lib/python3.9/site-packages/sklearn/model_selection/_validation.py?line=288'>289</a>\u001b[0m \u001b[39m# return type is a dictionary, the error scores can now be inserted with\u001b[39;00m\n\u001b[1;32m    <a href='file:///opt/homebrew/lib/python3.9/site-packages/sklearn/model_selection/_validation.py?line=289'>290</a>\u001b[0m \u001b[39m# the correct key.\u001b[39;00m\n",
      "File \u001b[0;32m/opt/homebrew/lib/python3.9/site-packages/joblib/parallel.py:1043\u001b[0m, in \u001b[0;36mParallel.__call__\u001b[0;34m(self, iterable)\u001b[0m\n\u001b[1;32m   <a href='file:///opt/homebrew/lib/python3.9/site-packages/joblib/parallel.py?line=1033'>1034</a>\u001b[0m \u001b[39mtry\u001b[39;00m:\n\u001b[1;32m   <a href='file:///opt/homebrew/lib/python3.9/site-packages/joblib/parallel.py?line=1034'>1035</a>\u001b[0m     \u001b[39m# Only set self._iterating to True if at least a batch\u001b[39;00m\n\u001b[1;32m   <a href='file:///opt/homebrew/lib/python3.9/site-packages/joblib/parallel.py?line=1035'>1036</a>\u001b[0m     \u001b[39m# was dispatched. In particular this covers the edge\u001b[39;00m\n\u001b[0;32m   (...)\u001b[0m\n\u001b[1;32m   <a href='file:///opt/homebrew/lib/python3.9/site-packages/joblib/parallel.py?line=1039'>1040</a>\u001b[0m     \u001b[39m# was very quick and its callback already dispatched all the\u001b[39;00m\n\u001b[1;32m   <a href='file:///opt/homebrew/lib/python3.9/site-packages/joblib/parallel.py?line=1040'>1041</a>\u001b[0m     \u001b[39m# remaining jobs.\u001b[39;00m\n\u001b[1;32m   <a href='file:///opt/homebrew/lib/python3.9/site-packages/joblib/parallel.py?line=1041'>1042</a>\u001b[0m     \u001b[39mself\u001b[39m\u001b[39m.\u001b[39m_iterating \u001b[39m=\u001b[39m \u001b[39mFalse\u001b[39;00m\n\u001b[0;32m-> <a href='file:///opt/homebrew/lib/python3.9/site-packages/joblib/parallel.py?line=1042'>1043</a>\u001b[0m     \u001b[39mif\u001b[39;00m \u001b[39mself\u001b[39;49m\u001b[39m.\u001b[39;49mdispatch_one_batch(iterator):\n\u001b[1;32m   <a href='file:///opt/homebrew/lib/python3.9/site-packages/joblib/parallel.py?line=1043'>1044</a>\u001b[0m         \u001b[39mself\u001b[39m\u001b[39m.\u001b[39m_iterating \u001b[39m=\u001b[39m \u001b[39mself\u001b[39m\u001b[39m.\u001b[39m_original_iterator \u001b[39mis\u001b[39;00m \u001b[39mnot\u001b[39;00m \u001b[39mNone\u001b[39;00m\n\u001b[1;32m   <a href='file:///opt/homebrew/lib/python3.9/site-packages/joblib/parallel.py?line=1045'>1046</a>\u001b[0m     \u001b[39mwhile\u001b[39;00m \u001b[39mself\u001b[39m\u001b[39m.\u001b[39mdispatch_one_batch(iterator):\n",
      "File \u001b[0;32m/opt/homebrew/lib/python3.9/site-packages/joblib/parallel.py:861\u001b[0m, in \u001b[0;36mParallel.dispatch_one_batch\u001b[0;34m(self, iterator)\u001b[0m\n\u001b[1;32m    <a href='file:///opt/homebrew/lib/python3.9/site-packages/joblib/parallel.py?line=858'>859</a>\u001b[0m     \u001b[39mreturn\u001b[39;00m \u001b[39mFalse\u001b[39;00m\n\u001b[1;32m    <a href='file:///opt/homebrew/lib/python3.9/site-packages/joblib/parallel.py?line=859'>860</a>\u001b[0m \u001b[39melse\u001b[39;00m:\n\u001b[0;32m--> <a href='file:///opt/homebrew/lib/python3.9/site-packages/joblib/parallel.py?line=860'>861</a>\u001b[0m     \u001b[39mself\u001b[39;49m\u001b[39m.\u001b[39;49m_dispatch(tasks)\n\u001b[1;32m    <a href='file:///opt/homebrew/lib/python3.9/site-packages/joblib/parallel.py?line=861'>862</a>\u001b[0m     \u001b[39mreturn\u001b[39;00m \u001b[39mTrue\u001b[39;00m\n",
      "File \u001b[0;32m/opt/homebrew/lib/python3.9/site-packages/joblib/parallel.py:779\u001b[0m, in \u001b[0;36mParallel._dispatch\u001b[0;34m(self, batch)\u001b[0m\n\u001b[1;32m    <a href='file:///opt/homebrew/lib/python3.9/site-packages/joblib/parallel.py?line=776'>777</a>\u001b[0m \u001b[39mwith\u001b[39;00m \u001b[39mself\u001b[39m\u001b[39m.\u001b[39m_lock:\n\u001b[1;32m    <a href='file:///opt/homebrew/lib/python3.9/site-packages/joblib/parallel.py?line=777'>778</a>\u001b[0m     job_idx \u001b[39m=\u001b[39m \u001b[39mlen\u001b[39m(\u001b[39mself\u001b[39m\u001b[39m.\u001b[39m_jobs)\n\u001b[0;32m--> <a href='file:///opt/homebrew/lib/python3.9/site-packages/joblib/parallel.py?line=778'>779</a>\u001b[0m     job \u001b[39m=\u001b[39m \u001b[39mself\u001b[39;49m\u001b[39m.\u001b[39;49m_backend\u001b[39m.\u001b[39;49mapply_async(batch, callback\u001b[39m=\u001b[39;49mcb)\n\u001b[1;32m    <a href='file:///opt/homebrew/lib/python3.9/site-packages/joblib/parallel.py?line=779'>780</a>\u001b[0m     \u001b[39m# A job can complete so quickly than its callback is\u001b[39;00m\n\u001b[1;32m    <a href='file:///opt/homebrew/lib/python3.9/site-packages/joblib/parallel.py?line=780'>781</a>\u001b[0m     \u001b[39m# called before we get here, causing self._jobs to\u001b[39;00m\n\u001b[1;32m    <a href='file:///opt/homebrew/lib/python3.9/site-packages/joblib/parallel.py?line=781'>782</a>\u001b[0m     \u001b[39m# grow. To ensure correct results ordering, .insert is\u001b[39;00m\n\u001b[1;32m    <a href='file:///opt/homebrew/lib/python3.9/site-packages/joblib/parallel.py?line=782'>783</a>\u001b[0m     \u001b[39m# used (rather than .append) in the following line\u001b[39;00m\n\u001b[1;32m    <a href='file:///opt/homebrew/lib/python3.9/site-packages/joblib/parallel.py?line=783'>784</a>\u001b[0m     \u001b[39mself\u001b[39m\u001b[39m.\u001b[39m_jobs\u001b[39m.\u001b[39minsert(job_idx, job)\n",
      "File \u001b[0;32m/opt/homebrew/lib/python3.9/site-packages/joblib/_parallel_backends.py:208\u001b[0m, in \u001b[0;36mSequentialBackend.apply_async\u001b[0;34m(self, func, callback)\u001b[0m\n\u001b[1;32m    <a href='file:///opt/homebrew/lib/python3.9/site-packages/joblib/_parallel_backends.py?line=205'>206</a>\u001b[0m \u001b[39mdef\u001b[39;00m \u001b[39mapply_async\u001b[39m(\u001b[39mself\u001b[39m, func, callback\u001b[39m=\u001b[39m\u001b[39mNone\u001b[39;00m):\n\u001b[1;32m    <a href='file:///opt/homebrew/lib/python3.9/site-packages/joblib/_parallel_backends.py?line=206'>207</a>\u001b[0m     \u001b[39m\"\"\"Schedule a func to be run\"\"\"\u001b[39;00m\n\u001b[0;32m--> <a href='file:///opt/homebrew/lib/python3.9/site-packages/joblib/_parallel_backends.py?line=207'>208</a>\u001b[0m     result \u001b[39m=\u001b[39m ImmediateResult(func)\n\u001b[1;32m    <a href='file:///opt/homebrew/lib/python3.9/site-packages/joblib/_parallel_backends.py?line=208'>209</a>\u001b[0m     \u001b[39mif\u001b[39;00m callback:\n\u001b[1;32m    <a href='file:///opt/homebrew/lib/python3.9/site-packages/joblib/_parallel_backends.py?line=209'>210</a>\u001b[0m         callback(result)\n",
      "File \u001b[0;32m/opt/homebrew/lib/python3.9/site-packages/joblib/_parallel_backends.py:572\u001b[0m, in \u001b[0;36mImmediateResult.__init__\u001b[0;34m(self, batch)\u001b[0m\n\u001b[1;32m    <a href='file:///opt/homebrew/lib/python3.9/site-packages/joblib/_parallel_backends.py?line=568'>569</a>\u001b[0m \u001b[39mdef\u001b[39;00m \u001b[39m__init__\u001b[39m(\u001b[39mself\u001b[39m, batch):\n\u001b[1;32m    <a href='file:///opt/homebrew/lib/python3.9/site-packages/joblib/_parallel_backends.py?line=569'>570</a>\u001b[0m     \u001b[39m# Don't delay the application, to avoid keeping the input\u001b[39;00m\n\u001b[1;32m    <a href='file:///opt/homebrew/lib/python3.9/site-packages/joblib/_parallel_backends.py?line=570'>571</a>\u001b[0m     \u001b[39m# arguments in memory\u001b[39;00m\n\u001b[0;32m--> <a href='file:///opt/homebrew/lib/python3.9/site-packages/joblib/_parallel_backends.py?line=571'>572</a>\u001b[0m     \u001b[39mself\u001b[39m\u001b[39m.\u001b[39mresults \u001b[39m=\u001b[39m batch()\n",
      "File \u001b[0;32m/opt/homebrew/lib/python3.9/site-packages/joblib/parallel.py:262\u001b[0m, in \u001b[0;36mBatchedCalls.__call__\u001b[0;34m(self)\u001b[0m\n\u001b[1;32m    <a href='file:///opt/homebrew/lib/python3.9/site-packages/joblib/parallel.py?line=257'>258</a>\u001b[0m \u001b[39mdef\u001b[39;00m \u001b[39m__call__\u001b[39m(\u001b[39mself\u001b[39m):\n\u001b[1;32m    <a href='file:///opt/homebrew/lib/python3.9/site-packages/joblib/parallel.py?line=258'>259</a>\u001b[0m     \u001b[39m# Set the default nested backend to self._backend but do not set the\u001b[39;00m\n\u001b[1;32m    <a href='file:///opt/homebrew/lib/python3.9/site-packages/joblib/parallel.py?line=259'>260</a>\u001b[0m     \u001b[39m# change the default number of processes to -1\u001b[39;00m\n\u001b[1;32m    <a href='file:///opt/homebrew/lib/python3.9/site-packages/joblib/parallel.py?line=260'>261</a>\u001b[0m     \u001b[39mwith\u001b[39;00m parallel_backend(\u001b[39mself\u001b[39m\u001b[39m.\u001b[39m_backend, n_jobs\u001b[39m=\u001b[39m\u001b[39mself\u001b[39m\u001b[39m.\u001b[39m_n_jobs):\n\u001b[0;32m--> <a href='file:///opt/homebrew/lib/python3.9/site-packages/joblib/parallel.py?line=261'>262</a>\u001b[0m         \u001b[39mreturn\u001b[39;00m [func(\u001b[39m*\u001b[39margs, \u001b[39m*\u001b[39m\u001b[39m*\u001b[39mkwargs)\n\u001b[1;32m    <a href='file:///opt/homebrew/lib/python3.9/site-packages/joblib/parallel.py?line=262'>263</a>\u001b[0m                 \u001b[39mfor\u001b[39;00m func, args, kwargs \u001b[39min\u001b[39;00m \u001b[39mself\u001b[39m\u001b[39m.\u001b[39mitems]\n",
      "File \u001b[0;32m/opt/homebrew/lib/python3.9/site-packages/joblib/parallel.py:262\u001b[0m, in \u001b[0;36m<listcomp>\u001b[0;34m(.0)\u001b[0m\n\u001b[1;32m    <a href='file:///opt/homebrew/lib/python3.9/site-packages/joblib/parallel.py?line=257'>258</a>\u001b[0m \u001b[39mdef\u001b[39;00m \u001b[39m__call__\u001b[39m(\u001b[39mself\u001b[39m):\n\u001b[1;32m    <a href='file:///opt/homebrew/lib/python3.9/site-packages/joblib/parallel.py?line=258'>259</a>\u001b[0m     \u001b[39m# Set the default nested backend to self._backend but do not set the\u001b[39;00m\n\u001b[1;32m    <a href='file:///opt/homebrew/lib/python3.9/site-packages/joblib/parallel.py?line=259'>260</a>\u001b[0m     \u001b[39m# change the default number of processes to -1\u001b[39;00m\n\u001b[1;32m    <a href='file:///opt/homebrew/lib/python3.9/site-packages/joblib/parallel.py?line=260'>261</a>\u001b[0m     \u001b[39mwith\u001b[39;00m parallel_backend(\u001b[39mself\u001b[39m\u001b[39m.\u001b[39m_backend, n_jobs\u001b[39m=\u001b[39m\u001b[39mself\u001b[39m\u001b[39m.\u001b[39m_n_jobs):\n\u001b[0;32m--> <a href='file:///opt/homebrew/lib/python3.9/site-packages/joblib/parallel.py?line=261'>262</a>\u001b[0m         \u001b[39mreturn\u001b[39;00m [func(\u001b[39m*\u001b[39;49margs, \u001b[39m*\u001b[39;49m\u001b[39m*\u001b[39;49mkwargs)\n\u001b[1;32m    <a href='file:///opt/homebrew/lib/python3.9/site-packages/joblib/parallel.py?line=262'>263</a>\u001b[0m                 \u001b[39mfor\u001b[39;00m func, args, kwargs \u001b[39min\u001b[39;00m \u001b[39mself\u001b[39m\u001b[39m.\u001b[39mitems]\n",
      "File \u001b[0;32m/opt/homebrew/lib/python3.9/site-packages/sklearn/utils/fixes.py:216\u001b[0m, in \u001b[0;36m_FuncWrapper.__call__\u001b[0;34m(self, *args, **kwargs)\u001b[0m\n\u001b[1;32m    <a href='file:///opt/homebrew/lib/python3.9/site-packages/sklearn/utils/fixes.py?line=213'>214</a>\u001b[0m \u001b[39mdef\u001b[39;00m \u001b[39m__call__\u001b[39m(\u001b[39mself\u001b[39m, \u001b[39m*\u001b[39margs, \u001b[39m*\u001b[39m\u001b[39m*\u001b[39mkwargs):\n\u001b[1;32m    <a href='file:///opt/homebrew/lib/python3.9/site-packages/sklearn/utils/fixes.py?line=214'>215</a>\u001b[0m     \u001b[39mwith\u001b[39;00m config_context(\u001b[39m*\u001b[39m\u001b[39m*\u001b[39m\u001b[39mself\u001b[39m\u001b[39m.\u001b[39mconfig):\n\u001b[0;32m--> <a href='file:///opt/homebrew/lib/python3.9/site-packages/sklearn/utils/fixes.py?line=215'>216</a>\u001b[0m         \u001b[39mreturn\u001b[39;00m \u001b[39mself\u001b[39;49m\u001b[39m.\u001b[39;49mfunction(\u001b[39m*\u001b[39;49margs, \u001b[39m*\u001b[39;49m\u001b[39m*\u001b[39;49mkwargs)\n",
      "File \u001b[0;32m/opt/homebrew/lib/python3.9/site-packages/sklearn/model_selection/_validation.py:680\u001b[0m, in \u001b[0;36m_fit_and_score\u001b[0;34m(estimator, X, y, scorer, train, test, verbose, parameters, fit_params, return_train_score, return_parameters, return_n_test_samples, return_times, return_estimator, split_progress, candidate_progress, error_score)\u001b[0m\n\u001b[1;32m    <a href='file:///opt/homebrew/lib/python3.9/site-packages/sklearn/model_selection/_validation.py?line=677'>678</a>\u001b[0m         estimator\u001b[39m.\u001b[39mfit(X_train, \u001b[39m*\u001b[39m\u001b[39m*\u001b[39mfit_params)\n\u001b[1;32m    <a href='file:///opt/homebrew/lib/python3.9/site-packages/sklearn/model_selection/_validation.py?line=678'>679</a>\u001b[0m     \u001b[39melse\u001b[39;00m:\n\u001b[0;32m--> <a href='file:///opt/homebrew/lib/python3.9/site-packages/sklearn/model_selection/_validation.py?line=679'>680</a>\u001b[0m         estimator\u001b[39m.\u001b[39;49mfit(X_train, y_train, \u001b[39m*\u001b[39;49m\u001b[39m*\u001b[39;49mfit_params)\n\u001b[1;32m    <a href='file:///opt/homebrew/lib/python3.9/site-packages/sklearn/model_selection/_validation.py?line=681'>682</a>\u001b[0m \u001b[39mexcept\u001b[39;00m \u001b[39mException\u001b[39;00m:\n\u001b[1;32m    <a href='file:///opt/homebrew/lib/python3.9/site-packages/sklearn/model_selection/_validation.py?line=682'>683</a>\u001b[0m     \u001b[39m# Note fit time as time until error\u001b[39;00m\n\u001b[1;32m    <a href='file:///opt/homebrew/lib/python3.9/site-packages/sklearn/model_selection/_validation.py?line=683'>684</a>\u001b[0m     fit_time \u001b[39m=\u001b[39m time\u001b[39m.\u001b[39mtime() \u001b[39m-\u001b[39m start_time\n",
      "File \u001b[0;32m/opt/homebrew/lib/python3.9/site-packages/xgboost/core.py:532\u001b[0m, in \u001b[0;36m_deprecate_positional_args.<locals>.inner_f\u001b[0;34m(*args, **kwargs)\u001b[0m\n\u001b[1;32m    <a href='file:///opt/homebrew/lib/python3.9/site-packages/xgboost/core.py?line=529'>530</a>\u001b[0m \u001b[39mfor\u001b[39;00m k, arg \u001b[39min\u001b[39;00m \u001b[39mzip\u001b[39m(sig\u001b[39m.\u001b[39mparameters, args):\n\u001b[1;32m    <a href='file:///opt/homebrew/lib/python3.9/site-packages/xgboost/core.py?line=530'>531</a>\u001b[0m     kwargs[k] \u001b[39m=\u001b[39m arg\n\u001b[0;32m--> <a href='file:///opt/homebrew/lib/python3.9/site-packages/xgboost/core.py?line=531'>532</a>\u001b[0m \u001b[39mreturn\u001b[39;00m f(\u001b[39m*\u001b[39;49m\u001b[39m*\u001b[39;49mkwargs)\n",
      "File \u001b[0;32m/opt/homebrew/lib/python3.9/site-packages/xgboost/sklearn.py:1400\u001b[0m, in \u001b[0;36mXGBClassifier.fit\u001b[0;34m(self, X, y, sample_weight, base_margin, eval_set, eval_metric, early_stopping_rounds, verbose, xgb_model, sample_weight_eval_set, base_margin_eval_set, feature_weights, callbacks)\u001b[0m\n\u001b[1;32m   <a href='file:///opt/homebrew/lib/python3.9/site-packages/xgboost/sklearn.py?line=1378'>1379</a>\u001b[0m model, metric, params, early_stopping_rounds, callbacks \u001b[39m=\u001b[39m \u001b[39mself\u001b[39m\u001b[39m.\u001b[39m_configure_fit(\n\u001b[1;32m   <a href='file:///opt/homebrew/lib/python3.9/site-packages/xgboost/sklearn.py?line=1379'>1380</a>\u001b[0m     xgb_model, eval_metric, params, early_stopping_rounds, callbacks\n\u001b[1;32m   <a href='file:///opt/homebrew/lib/python3.9/site-packages/xgboost/sklearn.py?line=1380'>1381</a>\u001b[0m )\n\u001b[1;32m   <a href='file:///opt/homebrew/lib/python3.9/site-packages/xgboost/sklearn.py?line=1381'>1382</a>\u001b[0m train_dmatrix, evals \u001b[39m=\u001b[39m _wrap_evaluation_matrices(\n\u001b[1;32m   <a href='file:///opt/homebrew/lib/python3.9/site-packages/xgboost/sklearn.py?line=1382'>1383</a>\u001b[0m     missing\u001b[39m=\u001b[39m\u001b[39mself\u001b[39m\u001b[39m.\u001b[39mmissing,\n\u001b[1;32m   <a href='file:///opt/homebrew/lib/python3.9/site-packages/xgboost/sklearn.py?line=1383'>1384</a>\u001b[0m     X\u001b[39m=\u001b[39mX,\n\u001b[0;32m   (...)\u001b[0m\n\u001b[1;32m   <a href='file:///opt/homebrew/lib/python3.9/site-packages/xgboost/sklearn.py?line=1396'>1397</a>\u001b[0m     enable_categorical\u001b[39m=\u001b[39m\u001b[39mself\u001b[39m\u001b[39m.\u001b[39menable_categorical,\n\u001b[1;32m   <a href='file:///opt/homebrew/lib/python3.9/site-packages/xgboost/sklearn.py?line=1397'>1398</a>\u001b[0m )\n\u001b[0;32m-> <a href='file:///opt/homebrew/lib/python3.9/site-packages/xgboost/sklearn.py?line=1399'>1400</a>\u001b[0m \u001b[39mself\u001b[39m\u001b[39m.\u001b[39m_Booster \u001b[39m=\u001b[39m train(\n\u001b[1;32m   <a href='file:///opt/homebrew/lib/python3.9/site-packages/xgboost/sklearn.py?line=1400'>1401</a>\u001b[0m     params,\n\u001b[1;32m   <a href='file:///opt/homebrew/lib/python3.9/site-packages/xgboost/sklearn.py?line=1401'>1402</a>\u001b[0m     train_dmatrix,\n\u001b[1;32m   <a href='file:///opt/homebrew/lib/python3.9/site-packages/xgboost/sklearn.py?line=1402'>1403</a>\u001b[0m     \u001b[39mself\u001b[39;49m\u001b[39m.\u001b[39;49mget_num_boosting_rounds(),\n\u001b[1;32m   <a href='file:///opt/homebrew/lib/python3.9/site-packages/xgboost/sklearn.py?line=1403'>1404</a>\u001b[0m     evals\u001b[39m=\u001b[39;49mevals,\n\u001b[1;32m   <a href='file:///opt/homebrew/lib/python3.9/site-packages/xgboost/sklearn.py?line=1404'>1405</a>\u001b[0m     early_stopping_rounds\u001b[39m=\u001b[39;49mearly_stopping_rounds,\n\u001b[1;32m   <a href='file:///opt/homebrew/lib/python3.9/site-packages/xgboost/sklearn.py?line=1405'>1406</a>\u001b[0m     evals_result\u001b[39m=\u001b[39;49mevals_result,\n\u001b[1;32m   <a href='file:///opt/homebrew/lib/python3.9/site-packages/xgboost/sklearn.py?line=1406'>1407</a>\u001b[0m     obj\u001b[39m=\u001b[39;49mobj,\n\u001b[1;32m   <a href='file:///opt/homebrew/lib/python3.9/site-packages/xgboost/sklearn.py?line=1407'>1408</a>\u001b[0m     custom_metric\u001b[39m=\u001b[39;49mmetric,\n\u001b[1;32m   <a href='file:///opt/homebrew/lib/python3.9/site-packages/xgboost/sklearn.py?line=1408'>1409</a>\u001b[0m     verbose_eval\u001b[39m=\u001b[39;49mverbose,\n\u001b[1;32m   <a href='file:///opt/homebrew/lib/python3.9/site-packages/xgboost/sklearn.py?line=1409'>1410</a>\u001b[0m     xgb_model\u001b[39m=\u001b[39;49mmodel,\n\u001b[1;32m   <a href='file:///opt/homebrew/lib/python3.9/site-packages/xgboost/sklearn.py?line=1410'>1411</a>\u001b[0m     callbacks\u001b[39m=\u001b[39;49mcallbacks,\n\u001b[1;32m   <a href='file:///opt/homebrew/lib/python3.9/site-packages/xgboost/sklearn.py?line=1411'>1412</a>\u001b[0m )\n\u001b[1;32m   <a href='file:///opt/homebrew/lib/python3.9/site-packages/xgboost/sklearn.py?line=1413'>1414</a>\u001b[0m \u001b[39mif\u001b[39;00m \u001b[39mnot\u001b[39;00m callable(\u001b[39mself\u001b[39m\u001b[39m.\u001b[39mobjective):\n\u001b[1;32m   <a href='file:///opt/homebrew/lib/python3.9/site-packages/xgboost/sklearn.py?line=1414'>1415</a>\u001b[0m     \u001b[39mself\u001b[39m\u001b[39m.\u001b[39mobjective \u001b[39m=\u001b[39m params[\u001b[39m\"\u001b[39m\u001b[39mobjective\u001b[39m\u001b[39m\"\u001b[39m]\n",
      "File \u001b[0;32m/opt/homebrew/lib/python3.9/site-packages/xgboost/core.py:532\u001b[0m, in \u001b[0;36m_deprecate_positional_args.<locals>.inner_f\u001b[0;34m(*args, **kwargs)\u001b[0m\n\u001b[1;32m    <a href='file:///opt/homebrew/lib/python3.9/site-packages/xgboost/core.py?line=529'>530</a>\u001b[0m \u001b[39mfor\u001b[39;00m k, arg \u001b[39min\u001b[39;00m \u001b[39mzip\u001b[39m(sig\u001b[39m.\u001b[39mparameters, args):\n\u001b[1;32m    <a href='file:///opt/homebrew/lib/python3.9/site-packages/xgboost/core.py?line=530'>531</a>\u001b[0m     kwargs[k] \u001b[39m=\u001b[39m arg\n\u001b[0;32m--> <a href='file:///opt/homebrew/lib/python3.9/site-packages/xgboost/core.py?line=531'>532</a>\u001b[0m \u001b[39mreturn\u001b[39;00m f(\u001b[39m*\u001b[39;49m\u001b[39m*\u001b[39;49mkwargs)\n",
      "File \u001b[0;32m/opt/homebrew/lib/python3.9/site-packages/xgboost/training.py:181\u001b[0m, in \u001b[0;36mtrain\u001b[0;34m(params, dtrain, num_boost_round, evals, obj, feval, maximize, early_stopping_rounds, evals_result, verbose_eval, xgb_model, callbacks, custom_metric)\u001b[0m\n\u001b[1;32m    <a href='file:///opt/homebrew/lib/python3.9/site-packages/xgboost/training.py?line=178'>179</a>\u001b[0m \u001b[39mif\u001b[39;00m cb_container\u001b[39m.\u001b[39mbefore_iteration(bst, i, dtrain, evals):\n\u001b[1;32m    <a href='file:///opt/homebrew/lib/python3.9/site-packages/xgboost/training.py?line=179'>180</a>\u001b[0m     \u001b[39mbreak\u001b[39;00m\n\u001b[0;32m--> <a href='file:///opt/homebrew/lib/python3.9/site-packages/xgboost/training.py?line=180'>181</a>\u001b[0m bst\u001b[39m.\u001b[39;49mupdate(dtrain, i, obj)\n\u001b[1;32m    <a href='file:///opt/homebrew/lib/python3.9/site-packages/xgboost/training.py?line=181'>182</a>\u001b[0m \u001b[39mif\u001b[39;00m cb_container\u001b[39m.\u001b[39mafter_iteration(bst, i, dtrain, evals):\n\u001b[1;32m    <a href='file:///opt/homebrew/lib/python3.9/site-packages/xgboost/training.py?line=182'>183</a>\u001b[0m     \u001b[39mbreak\u001b[39;00m\n",
      "File \u001b[0;32m/opt/homebrew/lib/python3.9/site-packages/xgboost/core.py:1733\u001b[0m, in \u001b[0;36mBooster.update\u001b[0;34m(self, dtrain, iteration, fobj)\u001b[0m\n\u001b[1;32m   <a href='file:///opt/homebrew/lib/python3.9/site-packages/xgboost/core.py?line=1729'>1730</a>\u001b[0m \u001b[39mself\u001b[39m\u001b[39m.\u001b[39m_validate_features(dtrain)\n\u001b[1;32m   <a href='file:///opt/homebrew/lib/python3.9/site-packages/xgboost/core.py?line=1731'>1732</a>\u001b[0m \u001b[39mif\u001b[39;00m fobj \u001b[39mis\u001b[39;00m \u001b[39mNone\u001b[39;00m:\n\u001b[0;32m-> <a href='file:///opt/homebrew/lib/python3.9/site-packages/xgboost/core.py?line=1732'>1733</a>\u001b[0m     _check_call(_LIB\u001b[39m.\u001b[39;49mXGBoosterUpdateOneIter(\u001b[39mself\u001b[39;49m\u001b[39m.\u001b[39;49mhandle,\n\u001b[1;32m   <a href='file:///opt/homebrew/lib/python3.9/site-packages/xgboost/core.py?line=1733'>1734</a>\u001b[0m                                             ctypes\u001b[39m.\u001b[39;49mc_int(iteration),\n\u001b[1;32m   <a href='file:///opt/homebrew/lib/python3.9/site-packages/xgboost/core.py?line=1734'>1735</a>\u001b[0m                                             dtrain\u001b[39m.\u001b[39;49mhandle))\n\u001b[1;32m   <a href='file:///opt/homebrew/lib/python3.9/site-packages/xgboost/core.py?line=1735'>1736</a>\u001b[0m \u001b[39melse\u001b[39;00m:\n\u001b[1;32m   <a href='file:///opt/homebrew/lib/python3.9/site-packages/xgboost/core.py?line=1736'>1737</a>\u001b[0m     pred \u001b[39m=\u001b[39m \u001b[39mself\u001b[39m\u001b[39m.\u001b[39mpredict(dtrain, output_margin\u001b[39m=\u001b[39m\u001b[39mTrue\u001b[39;00m, training\u001b[39m=\u001b[39m\u001b[39mTrue\u001b[39;00m)\n",
      "\u001b[0;31mKeyboardInterrupt\u001b[0m: "
     ]
    }
   ],
   "source": [
    "#cross_val_score(xgbc, X_train, y_train, cv=5)"
   ]
  },
  {
   "cell_type": "code",
   "execution_count": null,
   "id": "b2b8857c",
   "metadata": {},
   "outputs": [],
   "source": [
    "#kfold = KFold(n_splits=10, shuffle=True)\n",
    "#cross_val_score(xgbc, X_train, y_train, cv=kfold )"
   ]
  },
  {
   "cell_type": "code",
   "execution_count": null,
   "id": "ae789869",
   "metadata": {},
   "outputs": [],
   "source": [
    "ypred = xgbc.predict(X_test)"
   ]
  },
  {
   "cell_type": "code",
   "execution_count": null,
   "id": "f1184b69",
   "metadata": {},
   "outputs": [
    {
     "data": {
      "text/plain": [
       "0.4128851400264828"
      ]
     },
     "execution_count": 53,
     "metadata": {},
     "output_type": "execute_result"
    }
   ],
   "source": [
    "accuracy_score(y_test, ypred)"
   ]
  }
 ],
 "metadata": {
  "interpreter": {
   "hash": "82bcf3661f098bbc57255d1f768e4b535749c5fa9f3f4a5a1bd4ecfddee23447"
  },
  "kernelspec": {
   "display_name": "Python 3",
   "language": "python",
   "name": "python3"
  },
  "language_info": {
   "codemirror_mode": {
    "name": "ipython",
    "version": 3
   },
   "file_extension": ".py",
   "mimetype": "text/x-python",
   "name": "python",
   "nbconvert_exporter": "python",
   "pygments_lexer": "ipython3",
   "version": "3.8.12"
  }
 },
 "nbformat": 4,
 "nbformat_minor": 2
}
